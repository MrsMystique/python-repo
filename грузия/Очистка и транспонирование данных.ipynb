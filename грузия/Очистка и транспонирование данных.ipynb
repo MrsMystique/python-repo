{
 "cells": [
  {
   "cell_type": "code",
   "execution_count": 52,
   "metadata": {},
   "outputs": [
    {
     "data": {
      "text/html": [
       "<div>\n",
       "<style scoped>\n",
       "    .dataframe tbody tr th:only-of-type {\n",
       "        vertical-align: middle;\n",
       "    }\n",
       "\n",
       "    .dataframe tbody tr th {\n",
       "        vertical-align: top;\n",
       "    }\n",
       "\n",
       "    .dataframe thead th {\n",
       "        text-align: right;\n",
       "    }\n",
       "</style>\n",
       "<table border=\"1\" class=\"dataframe\">\n",
       "  <thead>\n",
       "    <tr style=\"text-align: right;\">\n",
       "      <th></th>\n",
       "      <th>Должность</th>\n",
       "      <th>2020</th>\n",
       "      <th>2021</th>\n",
       "      <th>2022</th>\n",
       "      <th>2023</th>\n",
       "      <th>Пол</th>\n",
       "    </tr>\n",
       "  </thead>\n",
       "  <tbody>\n",
       "    <tr>\n",
       "      <th>0</th>\n",
       "      <td>Менеджеры</td>\n",
       "      <td>30.108910</td>\n",
       "      <td>27.530387</td>\n",
       "      <td>29.592854</td>\n",
       "      <td>33.748102</td>\n",
       "      <td>Женский</td>\n",
       "    </tr>\n",
       "    <tr>\n",
       "      <th>1</th>\n",
       "      <td>Специалисты-профессионалы</td>\n",
       "      <td>149.820587</td>\n",
       "      <td>160.326460</td>\n",
       "      <td>157.731680</td>\n",
       "      <td>160.457726</td>\n",
       "      <td>Женский</td>\n",
       "    </tr>\n",
       "    <tr>\n",
       "      <th>2</th>\n",
       "      <td>Технические специалисты и вспомогательный перс...</td>\n",
       "      <td>56.287033</td>\n",
       "      <td>58.810874</td>\n",
       "      <td>64.895129</td>\n",
       "      <td>66.910750</td>\n",
       "      <td>Женский</td>\n",
       "    </tr>\n",
       "    <tr>\n",
       "      <th>3</th>\n",
       "      <td>Офисный обслуживающий персонал</td>\n",
       "      <td>41.345707</td>\n",
       "      <td>35.025151</td>\n",
       "      <td>35.245673</td>\n",
       "      <td>36.589460</td>\n",
       "      <td>Женский</td>\n",
       "    </tr>\n",
       "    <tr>\n",
       "      <th>4</th>\n",
       "      <td>Лица, занятые в сфере услуг и продаж</td>\n",
       "      <td>113.087341</td>\n",
       "      <td>108.599395</td>\n",
       "      <td>120.475917</td>\n",
       "      <td>126.227716</td>\n",
       "      <td>Женский</td>\n",
       "    </tr>\n",
       "  </tbody>\n",
       "</table>\n",
       "</div>"
      ],
      "text/plain": [
       "                                           Должность        2020        2021  \\\n",
       "0                                          Менеджеры   30.108910   27.530387   \n",
       "1                          Специалисты-профессионалы  149.820587  160.326460   \n",
       "2  Технические специалисты и вспомогательный перс...   56.287033   58.810874   \n",
       "3                     Офисный обслуживающий персонал   41.345707   35.025151   \n",
       "4               Лица, занятые в сфере услуг и продаж  113.087341  108.599395   \n",
       "\n",
       "         2022        2023      Пол  \n",
       "0   29.592854   33.748102  Женский  \n",
       "1  157.731680  160.457726  Женский  \n",
       "2   64.895129   66.910750  Женский  \n",
       "3   35.245673   36.589460  Женский  \n",
       "4  120.475917  126.227716  Женский  "
      ]
     },
     "execution_count": 52,
     "metadata": {},
     "output_type": "execute_result"
    }
   ],
   "source": [
    "import pandas as pd\n",
    "filename = input('')\n",
    "# Загрузите ваш файл Excel\n",
    "file_path = filename +'.xlsx'  # Укажите путь к вашему файлу \n",
    "data = pd.read_excel(file_path)\n",
    "\n",
    "data.head()"
   ]
  },
  {
   "cell_type": "markdown",
   "metadata": {},
   "source": [
    "'Кахетия','Тбилиси','Шида Картли','Квемо Картли','Аджария','Самегрело-Земо Сванети','Имерети','Самцхе-Джавахети','Гурия','Мцхета-Мтианети','Рача-Лечхуми и Квемо-Сванети','Грузия'"
   ]
  },
  {
   "cell_type": "code",
   "execution_count": 54,
   "metadata": {},
   "outputs": [],
   "source": [
    "transposed_data = data.melt(id_vars=['Должность', 'Пол'], # то что остается без изменений\n",
    "                            value_vars=['2020','2021','2022','2023'], # столбцы которые переводим в единую характеристику\n",
    "                            var_name='Год', # Наименование столбца в который пойдут транспонированные характеристики\n",
    "                            value_name='Количество') # столбец для количественных показателей"
   ]
  },
  {
   "cell_type": "code",
   "execution_count": null,
   "metadata": {},
   "outputs": [],
   "source": [
    "# Сохранение результата в новый файл Excel\n",
    "transposed_data.to_excel('Транспонированный'+ filename +'.xlsx', index=False)\n",
    "\n",
    "print(\"Переформатирование завершено. Новый файл сохранен.\")"
   ]
  },
  {
   "cell_type": "markdown",
   "metadata": {},
   "source": [
    "Удалим ненужные строки\n"
   ]
  },
  {
   "cell_type": "code",
   "execution_count": 7,
   "metadata": {},
   "outputs": [],
   "source": [
    "\n",
    "# Удаляем строки, где в столбце \"тип жилья\" стоит значение \"все\"\n",
    "data = data[data['Тип Жилья'] != 'все']\n",
    "\n",
    "# Сохраняем очищенный датасет\n",
    "data.to_excel(\"имя.xlsx\", index=False)\n"
   ]
  },
  {
   "cell_type": "markdown",
   "metadata": {},
   "source": [
    "Пример кода для траспонирования"
   ]
  },
  {
   "cell_type": "code",
   "execution_count": 5,
   "metadata": {},
   "outputs": [],
   "source": [
    "transposed_data = data.melt(id_vars=['Регион', 'Характеристика','Тип Жилья','ТИП Поселения'], # то что остается без изменений\n",
    "                            value_vars=['до 1919 года', '1919-1945 гг.', '1946-1960 гг.', '1961-1970 гг.', '1971-1980 гг.', '1981-1990 гг.', '1991-2000 гг.', '2001-2005 гг.', '2006-2010 гг.', '2011', '2012', '2013', '2014', 'Не указан'], # столбцы которые переводим в единую характеристику\n",
    "                            var_name='Годы постройки', # Наименование столбца в который пойдут транспонированные характеристики\n",
    "                            value_name='Количество') # столбец для количественных показателей"
   ]
  }
 ],
 "metadata": {
  "kernelspec": {
   "display_name": "Python 3",
   "language": "python",
   "name": "python3"
  },
  "language_info": {
   "codemirror_mode": {
    "name": "ipython",
    "version": 3
   },
   "file_extension": ".py",
   "mimetype": "text/x-python",
   "name": "python",
   "nbconvert_exporter": "python",
   "pygments_lexer": "ipython3",
   "version": "3.11.1"
  }
 },
 "nbformat": 4,
 "nbformat_minor": 2
}
