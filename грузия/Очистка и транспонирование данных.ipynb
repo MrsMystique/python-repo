{
 "cells": [
  {
   "cell_type": "code",
   "execution_count": 24,
   "metadata": {},
   "outputs": [],
   "source": [
    "import pandas as pd"
   ]
  },
  {
   "cell_type": "code",
   "execution_count": 74,
   "metadata": {},
   "outputs": [
    {
     "data": {
      "text/html": [
       "<div>\n",
       "<style scoped>\n",
       "    .dataframe tbody tr th:only-of-type {\n",
       "        vertical-align: middle;\n",
       "    }\n",
       "\n",
       "    .dataframe tbody tr th {\n",
       "        vertical-align: top;\n",
       "    }\n",
       "\n",
       "    .dataframe thead th {\n",
       "        text-align: right;\n",
       "    }\n",
       "</style>\n",
       "<table border=\"1\" class=\"dataframe\">\n",
       "  <thead>\n",
       "    <tr style=\"text-align: right;\">\n",
       "      <th></th>\n",
       "      <th>Постоянное место жительства до отъезда из Грузии</th>\n",
       "      <th>Оба</th>\n",
       "      <th>Мужчина</th>\n",
       "      <th>Женщина</th>\n",
       "      <th>Тип местности</th>\n",
       "    </tr>\n",
       "  </thead>\n",
       "  <tbody>\n",
       "    <tr>\n",
       "      <th>0</th>\n",
       "      <td>Санкт-Тбилиси</td>\n",
       "      <td>27956</td>\n",
       "      <td>12368</td>\n",
       "      <td>15588</td>\n",
       "      <td>Все</td>\n",
       "    </tr>\n",
       "    <tr>\n",
       "      <th>1</th>\n",
       "      <td>Автономная Республика Аджария</td>\n",
       "      <td>3994</td>\n",
       "      <td>2308</td>\n",
       "      <td>1686</td>\n",
       "      <td>Все</td>\n",
       "    </tr>\n",
       "    <tr>\n",
       "      <th>2</th>\n",
       "      <td>Гурия</td>\n",
       "      <td>1408</td>\n",
       "      <td>553</td>\n",
       "      <td>855</td>\n",
       "      <td>Все</td>\n",
       "    </tr>\n",
       "    <tr>\n",
       "      <th>3</th>\n",
       "      <td>Имерети</td>\n",
       "      <td>20298</td>\n",
       "      <td>7974</td>\n",
       "      <td>12324</td>\n",
       "      <td>Все</td>\n",
       "    </tr>\n",
       "    <tr>\n",
       "      <th>4</th>\n",
       "      <td>Кахетия</td>\n",
       "      <td>7271</td>\n",
       "      <td>2985</td>\n",
       "      <td>4286</td>\n",
       "      <td>Все</td>\n",
       "    </tr>\n",
       "  </tbody>\n",
       "</table>\n",
       "</div>"
      ],
      "text/plain": [
       "  Постоянное место жительства до отъезда из Грузии    Оба  Мужчина  Женщина  \\\n",
       "0                                    Санкт-Тбилиси  27956    12368    15588   \n",
       "1                    Автономная Республика Аджария   3994     2308     1686   \n",
       "2                                          Гурия     1408      553      855   \n",
       "3                                          Имерети  20298     7974    12324   \n",
       "4                                         Кахетия    7271     2985     4286   \n",
       "\n",
       "  Тип местности  \n",
       "0           Все  \n",
       "1           Все  \n",
       "2           Все  \n",
       "3           Все  \n",
       "4           Все  "
      ]
     },
     "execution_count": 74,
     "metadata": {},
     "output_type": "execute_result"
    }
   ],
   "source": [
    "filename = input('')\n",
    "# Загрузите ваш файл Excel\n",
    "file_path = filename + '.xlsx'  # Укажите путь к вашему файлу\n",
    "data = pd.read_excel(file_path)\n",
    "data.head()\n"
   ]
  },
  {
   "cell_type": "code",
   "execution_count": 77,
   "metadata": {},
   "outputs": [
    {
     "name": "stdout",
     "output_type": "stream",
     "text": [
      "Наименование листа: Место жительства до отъезда из грузии\n"
     ]
    }
   ],
   "source": [
    "# Наименование листа для последующего переноса имени в транспонированный файл\n",
    "excel_file = pd.ExcelFile(file_path)\n",
    "excel_sheet_name = excel_file.sheet_names[0]\n",
    "print(\"Наименование листа:\", excel_sheet_name)\n"
   ]
  },
  {
   "cell_type": "code",
   "execution_count": 78,
   "metadata": {},
   "outputs": [
    {
     "name": "stdout",
     "output_type": "stream",
     "text": [
      "['Постоянное место жительства до отъезда из Грузии', 'Оба', 'Мужчина', 'Женщина', 'Тип местности']\n"
     ]
    }
   ],
   "source": [
    "# Извлеките заголовки датафрейма в список для облегчения внесения в переменные для транспонирования\n",
    "column_names = data.columns.tolist()\n",
    "# Распечатайте список заголовков\n",
    "print(column_names)"
   ]
  },
  {
   "cell_type": "code",
   "execution_count": 79,
   "metadata": {},
   "outputs": [],
   "source": [
    "transposed_data = data.melt(id_vars=['Постоянное место жительства до отъезда из Грузии', 'Тип местности'], # то что остается без изменений\n",
    "                            value_vars=['Оба', 'Мужчина', 'Женщина'], # столбцы которые переводим в единую характеристику\n",
    "                            var_name='Пол', # Наименование столбца в который пойдут транспонированные характеристики\n",
    "                            value_name='Количество рожденных') # столбец для количественных показателей"
   ]
  },
  {
   "cell_type": "code",
   "execution_count": 81,
   "metadata": {},
   "outputs": [
    {
     "name": "stdout",
     "output_type": "stream",
     "text": [
      "Переформатирование завершено. Новый файл сохранен.\n"
     ]
    }
   ],
   "source": [
    "# Сохранение результата в новый файл Excel\n",
    "with pd.ExcelWriter('Транспонированный ' + filename + '.xlsx') as writer:\n",
    "    transposed_data.to_excel(writer, sheet_name=excel_sheet_name, index=False)\n",
    "print(\"Переформатирование завершено. Новый файл сохранен.\")"
   ]
  },
  {
   "cell_type": "code",
   "execution_count": 42,
   "metadata": {},
   "outputs": [],
   "source": [
    "# Удаляем строки. Например, где в столбце \"Пол\" стоит значение \"обоих полов\". так как нам не нужны итоговые результаты\n",
    "transposed_data = transposed_data[transposed_data['Имя_столбца'] != 'Значение']"
   ]
  }
 ],
 "metadata": {
  "kernelspec": {
   "display_name": "Python 3",
   "language": "python",
   "name": "python3"
  },
  "language_info": {
   "codemirror_mode": {
    "name": "ipython",
    "version": 3
   },
   "file_extension": ".py",
   "mimetype": "text/x-python",
   "name": "python",
   "nbconvert_exporter": "python",
   "pygments_lexer": "ipython3",
   "version": "3.11.1"
  }
 },
 "nbformat": 4,
 "nbformat_minor": 2
}
