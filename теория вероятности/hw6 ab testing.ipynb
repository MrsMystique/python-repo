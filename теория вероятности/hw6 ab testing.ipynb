{
 "cells": [
  {
   "cell_type": "code",
   "execution_count": 1,
   "metadata": {},
   "outputs": [],
   "source": [
    "import math"
   ]
  },
  {
   "cell_type": "markdown",
   "metadata": {},
   "source": [
    "## Задача 1"
   ]
  },
  {
   "cell_type": "markdown",
   "metadata": {},
   "source": [
    "Продакт на главной mail.ru решил протестировать в рекомендательной ленте контента вместо карточек со статьями видеоплеер с короткими видео. Нынешний таймспент на юзера в день в среднем равен 25 минут, а стандартная ошибка (SD) равна 156. \n",
    "Мы предполагаем, что в новой версии таймспент на юзера в день изменится на 10%. Средний трафик 20000 человек в день. Посчитайте сколько дней необходимо держать эксперимент при alpha = 5% и beta = 20% ."
   ]
  },
  {
   "cell_type": "markdown",
   "metadata": {},
   "source": [
    "Для решения задачи по A/B тестированию и определения необходимого времени эксперимента, мы можем использовать формулу для определения размера выборки в тесте. Формула для расчета размера выборки выглядит следующим образом:\n",
    "\n",
    "$$n = \\left( \\frac{{Z_{\\alpha/2} \\cdot SD}}{{\\text{Минимально заметное изменение}}} \\right)^2$$\n",
    "\n",
    "где:\n",
    "\n",
    "- Z_alpha/2 - критическое значение Z-статистики для заданного уровня доверия alpha. Для уровня доверия 95% alpha = 0.05, Z_alpha/2 = 1.96\n",
    "- SD - стандартное отклонение.\n",
    "- Минимально заметное изменение - насколько мы ожидаем, что изменится метрика.\n",
    "\n",
    "\n"
   ]
  },
  {
   "cell_type": "markdown",
   "metadata": {},
   "source": [
    "Итак\n",
    "\n",
    "- Средний таймспент на пользователя в день (M0) = 25 минут\n",
    "- Стандартная ошибка (SD) = 156\n",
    "- Предполагаемое изменение в таймспенте = 10%\n",
    "- Средний трафик = 20000 человек в день\n",
    "- Уровень значимости (alpha) = 0.05\n",
    "- Мощность теста (1 - beta) = 0.8"
   ]
  },
  {
   "cell_type": "code",
   "execution_count": 2,
   "metadata": {},
   "outputs": [
    {
     "name": "stdout",
     "output_type": "stream",
     "text": [
      "Размер выборки: 9348918\n",
      "Необходимое время эксперимента (в днях): 468\n"
     ]
    }
   ],
   "source": [
    "\n",
    "# Исходные данные\n",
    "mean_daily_spent = 25  # средний таймспент на юзера в день\n",
    "sd = 156  # стандартное отклонение\n",
    "alpha = 0.05\n",
    "beta = 0.20\n",
    "min_effect_size = 0.10  # 10% изменение\n",
    "\n",
    "# Расчет размера выборки\n",
    "z_alpha_over_2 = 1.96  # для 95% уровня доверия из з-таблицы\n",
    "sample_size = ((z_alpha_over_2 * sd) / min_effect_size)**2\n",
    "\n",
    "# Расчет времени эксперимента в днях\n",
    "traffic = 20000  # средний трафик в день\n",
    "experiment_days = sample_size / traffic\n",
    "\n",
    "# Вывод результатов\n",
    "print(f\"Размер выборки: {math.ceil(sample_size)}\")\n",
    "print(f\"Необходимое время эксперимента (в днях): {math.ceil(experiment_days)}\")\n"
   ]
  },
  {
   "cell_type": "markdown",
   "metadata": {},
   "source": [
    "z - таблица https://www.statisticshowto.com/tables/z-table/"
   ]
  },
  {
   "cell_type": "markdown",
   "metadata": {},
   "source": [
    "## Задача 2"
   ]
  },
  {
   "cell_type": "markdown",
   "metadata": {},
   "source": [
    "Наша продуктовая команда в ecommerce магазине планирует запустить тест, направленный на ускорение загрузки сайта. Одна из основных метрик bounce rate в GA = 40%. \n",
    "Мы предполагаем, что при оптимизации сайта она изменится минимум на 20%.Средний трафик 4000 человек в день. Посчитайте сколько нам нужно дней держать эксперимент при alpha = 5% и beta = 20%\n",
    "\n",
    "\n",
    "- bounce rate в GA = 40%\n",
    "- Предполагаемое изменение в bounce rate = 20%\n",
    "- Средний трафик = 4000 человек в день\n",
    "- Уровень значимости (alpha) = 0.05\n",
    "- Мощность теста (1 - beta) = 0.8"
   ]
  },
  {
   "cell_type": "markdown",
   "metadata": {},
   "source": [
    "\n",
    "\n",
    "$$\\text{Время эксперимента (в днях)} = \\frac{\\text{Размер выборки}}{\\text{Средний трафик в день}}\\$$"
   ]
  },
  {
   "cell_type": "code",
   "execution_count": 3,
   "metadata": {},
   "outputs": [
    {
     "name": "stdout",
     "output_type": "stream",
     "text": [
      "Размер выборки: 6\n",
      "Необходимое время эксперимента (в днях): 1\n"
     ]
    }
   ],
   "source": [
    "# Исходные данные\n",
    "initial_bounce_rate = 0.40  # начальный bounce rate\n",
    "alpha = 0.05\n",
    "beta = 0.20\n",
    "min_effect_size = 0.20  # 20% изменение\n",
    "\n",
    "# Расчет размера выборки\n",
    "z_alpha_over_2 = 1.96  # для 95% уровня доверия\n",
    "sample_size = ((z_alpha_over_2 * initial_bounce_rate * (1 - initial_bounce_rate)) / min_effect_size)**2\n",
    "\n",
    "# Расчет времени эксперимента в днях\n",
    "traffic = 4000  # средний трафик в день\n",
    "experiment_days = sample_size / traffic\n",
    "\n",
    "# Вывод результатов\n",
    "print(f\"Размер выборки: {math.ceil(sample_size)}\")\n",
    "print(f\"Необходимое время эксперимента (в днях): {math.ceil(experiment_days)}\")\n"
   ]
  }
 ],
 "metadata": {
  "kernelspec": {
   "display_name": "Python 3",
   "language": "python",
   "name": "python3"
  },
  "language_info": {
   "codemirror_mode": {
    "name": "ipython",
    "version": 3
   },
   "file_extension": ".py",
   "mimetype": "text/x-python",
   "name": "python",
   "nbconvert_exporter": "python",
   "pygments_lexer": "ipython3",
   "version": "3.11.1"
  }
 },
 "nbformat": 4,
 "nbformat_minor": 2
}
