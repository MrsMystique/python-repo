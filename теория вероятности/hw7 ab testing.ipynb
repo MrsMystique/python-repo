{
 "cells": [
  {
   "cell_type": "markdown",
   "metadata": {},
   "source": [
    "## Исследование результатом AB тестирования"
   ]
  },
  {
   "cell_type": "markdown",
   "metadata": {},
   "source": [
    "План исследования:\n",
    "\n",
    "Логический анализ данных\n",
    "\n",
    "Распределение данных"
   ]
  },
  {
   "cell_type": "code",
   "execution_count": 14,
   "metadata": {},
   "outputs": [],
   "source": [
    "# импортировать необходимые библиотеки\n",
    "import pandas as pd\n",
    "import numpy as np\n"
   ]
  },
  {
   "cell_type": "code",
   "execution_count": 15,
   "metadata": {},
   "outputs": [
    {
     "name": "stderr",
     "output_type": "stream",
     "text": [
      "c:\\Users\\admin\\AppData\\Local\\Programs\\Python\\Python311\\Lib\\site-packages\\openpyxl\\worksheet\\_reader.py:329: UserWarning: Unknown extension is not supported and will be removed\n",
      "  warn(msg)\n"
     ]
    },
    {
     "data": {
      "text/html": [
       "<div>\n",
       "<style scoped>\n",
       "    .dataframe tbody tr th:only-of-type {\n",
       "        vertical-align: middle;\n",
       "    }\n",
       "\n",
       "    .dataframe tbody tr th {\n",
       "        vertical-align: top;\n",
       "    }\n",
       "\n",
       "    .dataframe thead th {\n",
       "        text-align: right;\n",
       "    }\n",
       "</style>\n",
       "<table border=\"1\" class=\"dataframe\">\n",
       "  <thead>\n",
       "    <tr style=\"text-align: right;\">\n",
       "      <th></th>\n",
       "      <th>USER_ID</th>\n",
       "      <th>VARIANT_NAME</th>\n",
       "      <th>REVENUE</th>\n",
       "    </tr>\n",
       "  </thead>\n",
       "  <tbody>\n",
       "    <tr>\n",
       "      <th>0</th>\n",
       "      <td>737</td>\n",
       "      <td>variant</td>\n",
       "      <td>0.0</td>\n",
       "    </tr>\n",
       "    <tr>\n",
       "      <th>1</th>\n",
       "      <td>2423</td>\n",
       "      <td>control</td>\n",
       "      <td>0.0</td>\n",
       "    </tr>\n",
       "    <tr>\n",
       "      <th>2</th>\n",
       "      <td>9411</td>\n",
       "      <td>control</td>\n",
       "      <td>0.0</td>\n",
       "    </tr>\n",
       "    <tr>\n",
       "      <th>3</th>\n",
       "      <td>7311</td>\n",
       "      <td>control</td>\n",
       "      <td>0.0</td>\n",
       "    </tr>\n",
       "    <tr>\n",
       "      <th>4</th>\n",
       "      <td>6174</td>\n",
       "      <td>variant</td>\n",
       "      <td>0.0</td>\n",
       "    </tr>\n",
       "    <tr>\n",
       "      <th>5</th>\n",
       "      <td>2380</td>\n",
       "      <td>variant</td>\n",
       "      <td>0.0</td>\n",
       "    </tr>\n",
       "    <tr>\n",
       "      <th>6</th>\n",
       "      <td>2849</td>\n",
       "      <td>control</td>\n",
       "      <td>0.0</td>\n",
       "    </tr>\n",
       "    <tr>\n",
       "      <th>7</th>\n",
       "      <td>9168</td>\n",
       "      <td>control</td>\n",
       "      <td>0.0</td>\n",
       "    </tr>\n",
       "    <tr>\n",
       "      <th>8</th>\n",
       "      <td>6205</td>\n",
       "      <td>variant</td>\n",
       "      <td>0.0</td>\n",
       "    </tr>\n",
       "    <tr>\n",
       "      <th>9</th>\n",
       "      <td>7548</td>\n",
       "      <td>control</td>\n",
       "      <td>0.0</td>\n",
       "    </tr>\n",
       "  </tbody>\n",
       "</table>\n",
       "</div>"
      ],
      "text/plain": [
       "   USER_ID VARIANT_NAME  REVENUE\n",
       "0      737      variant      0.0\n",
       "1     2423      control      0.0\n",
       "2     9411      control      0.0\n",
       "3     7311      control      0.0\n",
       "4     6174      variant      0.0\n",
       "5     2380      variant      0.0\n",
       "6     2849      control      0.0\n",
       "7     9168      control      0.0\n",
       "8     6205      variant      0.0\n",
       "9     7548      control      0.0"
      ]
     },
     "execution_count": 15,
     "metadata": {},
     "output_type": "execute_result"
    }
   ],
   "source": [
    "# Чтение данных с указанием типов данных\n",
    "df = pd.read_excel('AB_Test.xlsx', dtype={'REVENUE': float})\n",
    "df.head(10)"
   ]
  },
  {
   "cell_type": "code",
   "execution_count": 16,
   "metadata": {},
   "outputs": [
    {
     "data": {
      "text/html": [
       "<div>\n",
       "<style scoped>\n",
       "    .dataframe tbody tr th:only-of-type {\n",
       "        vertical-align: middle;\n",
       "    }\n",
       "\n",
       "    .dataframe tbody tr th {\n",
       "        vertical-align: top;\n",
       "    }\n",
       "\n",
       "    .dataframe thead th {\n",
       "        text-align: right;\n",
       "    }\n",
       "</style>\n",
       "<table border=\"1\" class=\"dataframe\">\n",
       "  <thead>\n",
       "    <tr style=\"text-align: right;\">\n",
       "      <th></th>\n",
       "      <th>USER_ID</th>\n",
       "      <th>REVENUE</th>\n",
       "    </tr>\n",
       "  </thead>\n",
       "  <tbody>\n",
       "    <tr>\n",
       "      <th>count</th>\n",
       "      <td>10000.000000</td>\n",
       "      <td>10000.000000</td>\n",
       "    </tr>\n",
       "    <tr>\n",
       "      <th>mean</th>\n",
       "      <td>4981.080200</td>\n",
       "      <td>0.099447</td>\n",
       "    </tr>\n",
       "    <tr>\n",
       "      <th>std</th>\n",
       "      <td>2890.590115</td>\n",
       "      <td>2.318529</td>\n",
       "    </tr>\n",
       "    <tr>\n",
       "      <th>min</th>\n",
       "      <td>2.000000</td>\n",
       "      <td>0.000000</td>\n",
       "    </tr>\n",
       "    <tr>\n",
       "      <th>25%</th>\n",
       "      <td>2468.750000</td>\n",
       "      <td>0.000000</td>\n",
       "    </tr>\n",
       "    <tr>\n",
       "      <th>50%</th>\n",
       "      <td>4962.000000</td>\n",
       "      <td>0.000000</td>\n",
       "    </tr>\n",
       "    <tr>\n",
       "      <th>75%</th>\n",
       "      <td>7511.500000</td>\n",
       "      <td>0.000000</td>\n",
       "    </tr>\n",
       "    <tr>\n",
       "      <th>max</th>\n",
       "      <td>10000.000000</td>\n",
       "      <td>196.010000</td>\n",
       "    </tr>\n",
       "  </tbody>\n",
       "</table>\n",
       "</div>"
      ],
      "text/plain": [
       "            USER_ID       REVENUE\n",
       "count  10000.000000  10000.000000\n",
       "mean    4981.080200      0.099447\n",
       "std     2890.590115      2.318529\n",
       "min        2.000000      0.000000\n",
       "25%     2468.750000      0.000000\n",
       "50%     4962.000000      0.000000\n",
       "75%     7511.500000      0.000000\n",
       "max    10000.000000    196.010000"
      ]
     },
     "execution_count": 16,
     "metadata": {},
     "output_type": "execute_result"
    }
   ],
   "source": [
    "# посмотрим датасет\n",
    "df.describe()\n"
   ]
  },
  {
   "cell_type": "markdown",
   "metadata": {},
   "source": [
    "## Что могу сказать из предварительных данных?\n",
    "\n",
    "* датасет состоит из 10000 строк, это большое количество данных, значит быдем использовать z критерий для проверки статистической значимости различий между контрольной и тестовой группой\n",
    "* На основе предоставленного описания датасета по столбцу \"REVENUE\", можно сделать следующие умозаключения:\n",
    "\n",
    "#### Среднее значение (mean):\n",
    "\n",
    "Среднее значение REVENUE равно 0.099447, что гораздо меньше максимального значения REVENUE (196.0100000). Это может указывать на то, что большинство значений REVENUE находится близко к нулю.\n",
    "\n",
    "#### Стандартное отклонение (std):\n",
    "\n",
    "Стандартное отклонение REVENUE равно 2.318529. Это означает, что значения REVENUE имеют значительный разброс относительно среднего значения. Высокое стандартное отклонение может указывать на наличие выбросов в данных.\n",
    "\n",
    "#### Минимальное и максимальное значения (min, max):\n",
    "\n",
    "Минимальное значение REVENUE равно 0.000000, а максимальное значение равно 196.010000. Поскольку 75% значений находятся в диапазоне до 0.000000, значение 196.010000 является максимальным, возможно, выбросом, который может потребовать дополнительного внимания при анализе.\n",
    "\n",
    "#### Квартили (25%, 50%, 75%):\n",
    "\n",
    "25% значений REVENUE равны 0.000000, что подтверждает предположение о том, что большинство значений близко к нулю.\n",
    "50% (медиана) также равны 0.000000.\n",
    "75% значений REVENUE также равны 0.000000, что дополнительно подтверждает, что большинство значений находятся в нижнем диапазоне.\n",
    "\n",
    "На основе этих умозаключений можно предположить, что большинство данных в столбце REVENUE равны нулю или близки к нулю, с небольшим количеством значений, возможно, являющихся выбросами. \n",
    "При дальнейшем анализе данных, особенно при рассмотрении выбросов, стоит учитывать особенности распределения и структуры данных в этом столбце.\n",
    "Соответственно, если в будущем мы выясним что при тестировании один из вариантов заработал больше прибыли, это может быть случайным результатом, так как какой то ай ди просто совершил 1 покупку, которая принеслап статистически значимое рахзличие "
   ]
  },
  {
   "cell_type": "code",
   "execution_count": 17,
   "metadata": {},
   "outputs": [
    {
     "name": "stdout",
     "output_type": "stream",
     "text": [
      "Количество уникальных USER_ID: 6324\n"
     ]
    }
   ],
   "source": [
    "# для общей справки посмотрим, а все ли сай ди уникальны, так как один или два колиента могут купить на большую сумму, что нивелирует по моему мнению результат тестирования\n",
    "# Подсчет количества уникальных USER_ID\n",
    "unique_user_ids = df['USER_ID'].nunique()\n",
    "\n",
    "# Вывод на печать количества уникальных USER_ID\n",
    "print(f\"Количество уникальных USER_ID: {unique_user_ids}\")"
   ]
  },
  {
   "cell_type": "markdown",
   "metadata": {},
   "source": [
    "Посмотримм нет ли одного и того же человека в двух группах"
   ]
  },
  {
   "cell_type": "code",
   "execution_count": 18,
   "metadata": {},
   "outputs": [
    {
     "data": {
      "text/html": [
       "<div>\n",
       "<style scoped>\n",
       "    .dataframe tbody tr th:only-of-type {\n",
       "        vertical-align: middle;\n",
       "    }\n",
       "\n",
       "    .dataframe tbody tr th {\n",
       "        vertical-align: top;\n",
       "    }\n",
       "\n",
       "    .dataframe thead th {\n",
       "        text-align: right;\n",
       "    }\n",
       "</style>\n",
       "<table border=\"1\" class=\"dataframe\">\n",
       "  <thead>\n",
       "    <tr style=\"text-align: right;\">\n",
       "      <th></th>\n",
       "      <th>USER_ID</th>\n",
       "      <th>VARIANT_NAME</th>\n",
       "      <th>REVENUE</th>\n",
       "    </tr>\n",
       "  </thead>\n",
       "  <tbody>\n",
       "    <tr>\n",
       "      <th>7409</th>\n",
       "      <td>3</td>\n",
       "      <td>variant</td>\n",
       "      <td>0.0</td>\n",
       "    </tr>\n",
       "    <tr>\n",
       "      <th>5377</th>\n",
       "      <td>3</td>\n",
       "      <td>control</td>\n",
       "      <td>0.0</td>\n",
       "    </tr>\n",
       "    <tr>\n",
       "      <th>4145</th>\n",
       "      <td>3</td>\n",
       "      <td>variant</td>\n",
       "      <td>0.0</td>\n",
       "    </tr>\n",
       "    <tr>\n",
       "      <th>4612</th>\n",
       "      <td>10</td>\n",
       "      <td>variant</td>\n",
       "      <td>0.0</td>\n",
       "    </tr>\n",
       "    <tr>\n",
       "      <th>5545</th>\n",
       "      <td>10</td>\n",
       "      <td>control</td>\n",
       "      <td>0.0</td>\n",
       "    </tr>\n",
       "  </tbody>\n",
       "</table>\n",
       "</div>"
      ],
      "text/plain": [
       "      USER_ID VARIANT_NAME  REVENUE\n",
       "7409        3      variant      0.0\n",
       "5377        3      control      0.0\n",
       "4145        3      variant      0.0\n",
       "4612       10      variant      0.0\n",
       "5545       10      control      0.0"
      ]
     },
     "execution_count": 18,
     "metadata": {},
     "output_type": "execute_result"
    }
   ],
   "source": [
    "# Поиск строк с одинаковыми USER_ID, но разными VARIANT_NAME\n",
    "duplicates_with_different_variant = df[df.duplicated(subset='USER_ID', keep=False) & \n",
    "                                       df.groupby('USER_ID')['VARIANT_NAME'].transform('nunique').gt(1)]\n",
    "\n",
    "# Вывод результата\n",
    "duplicates_with_different_variant.sort_values(by='USER_ID').head()"
   ]
  },
  {
   "cell_type": "code",
   "execution_count": 19,
   "metadata": {},
   "outputs": [
    {
     "data": {
      "text/plain": [
       "1541"
      ]
     },
     "execution_count": 19,
     "metadata": {},
     "output_type": "execute_result"
    }
   ],
   "source": [
    "dublicated_id = sorted(duplicates_with_different_variant ['USER_ID'].unique())\n",
    "len(dublicated_id)"
   ]
  },
  {
   "cell_type": "markdown",
   "metadata": {},
   "source": [
    "итак. у нас 3930 строк, которые могут исказить данные. 1541 айдишник содержит противоречивые данные. \n",
    "\n",
    "это может быть по нескольким причинам, по какой точно мы не знаем:\n",
    "1. ошибки в ай ди. разные пользователи по какой то причине получили один и тот же ай ди или тот кто вносил данные внес ай ди не верно\n",
    "2. при разных заходах пользователь попадал на разные версии сайта...была ошибка разделения  на выборки\n",
    "\n",
    "мы можем поступить следующим образом:\n",
    "1. удалить все ай ди (так как мы не знаем к какой точно группе принадлежат пользователи)\n",
    "2. удалить все ай ди, в которых нет показателя прибыли... но это исказит данные\n",
    "3. проигнорировать ошибку ( не учитывать ай ди)\n",
    "\n",
    "вообще стоило бы настучать по рукам тем кто делал разделение, так как юзер попадая на рызные версии сайта, может посчитать себя идиотом."
   ]
  },
  {
   "cell_type": "markdown",
   "metadata": {},
   "source": []
  },
  {
   "cell_type": "code",
   "execution_count": 20,
   "metadata": {},
   "outputs": [
    {
     "data": {
      "text/html": [
       "<div>\n",
       "<style scoped>\n",
       "    .dataframe tbody tr th:only-of-type {\n",
       "        vertical-align: middle;\n",
       "    }\n",
       "\n",
       "    .dataframe tbody tr th {\n",
       "        vertical-align: top;\n",
       "    }\n",
       "\n",
       "    .dataframe thead th {\n",
       "        text-align: right;\n",
       "    }\n",
       "</style>\n",
       "<table border=\"1\" class=\"dataframe\">\n",
       "  <thead>\n",
       "    <tr style=\"text-align: right;\">\n",
       "      <th></th>\n",
       "      <th>USER_ID</th>\n",
       "      <th>VARIANT_NAME</th>\n",
       "      <th>REVENUE</th>\n",
       "    </tr>\n",
       "  </thead>\n",
       "  <tbody>\n",
       "    <tr>\n",
       "      <th>3479</th>\n",
       "      <td>2</td>\n",
       "      <td>control</td>\n",
       "      <td>0.0</td>\n",
       "    </tr>\n",
       "    <tr>\n",
       "      <th>7076</th>\n",
       "      <td>2</td>\n",
       "      <td>control</td>\n",
       "      <td>0.0</td>\n",
       "    </tr>\n",
       "    <tr>\n",
       "      <th>2406</th>\n",
       "      <td>2</td>\n",
       "      <td>control</td>\n",
       "      <td>0.0</td>\n",
       "    </tr>\n",
       "    <tr>\n",
       "      <th>9077</th>\n",
       "      <td>4</td>\n",
       "      <td>variant</td>\n",
       "      <td>0.0</td>\n",
       "    </tr>\n",
       "    <tr>\n",
       "      <th>9155</th>\n",
       "      <td>5</td>\n",
       "      <td>variant</td>\n",
       "      <td>0.0</td>\n",
       "    </tr>\n",
       "  </tbody>\n",
       "</table>\n",
       "</div>"
      ],
      "text/plain": [
       "      USER_ID VARIANT_NAME  REVENUE\n",
       "3479        2      control      0.0\n",
       "7076        2      control      0.0\n",
       "2406        2      control      0.0\n",
       "9077        4      variant      0.0\n",
       "9155        5      variant      0.0"
      ]
     },
     "execution_count": 20,
     "metadata": {},
     "output_type": "execute_result"
    }
   ],
   "source": [
    "# Создаем новый DataFrame, исключая строки с USER_ID из duplicated_id\n",
    "cleaned_df = df[~df['USER_ID'].isin(dublicated_id)]\n",
    "\n",
    "# Вывод результата\n",
    "cleaned_df.sort_values(by='USER_ID').head()"
   ]
  },
  {
   "cell_type": "markdown",
   "metadata": {},
   "source": [
    "посмотрим на данные. \n",
    "Мы видим, что есть выброс, удалим его"
   ]
  },
  {
   "cell_type": "code",
   "execution_count": 21,
   "metadata": {},
   "outputs": [
    {
     "data": {
      "image/png": "[encoded data removed]",
      "text/plain": [
       "<Figure size 1000x600 with 1 Axes>"
      ]
     },
     "metadata": {},
     "output_type": "display_data"
    }
   ],
   "source": [
    "import matplotlib.pyplot as plt\n",
    "# Создание точечного графика\n",
    "plt.figure(figsize=(10, 6))\n",
    "plt.scatter(cleaned_df['VARIANT_NAME'], cleaned_df['REVENUE'], color='blue')  # Замените цвет по своему усмотрению\n",
    "plt.xlabel('Группа')\n",
    "plt.ylabel('Прибыль')\n",
    "plt.title('Точечный график зависимости прибыли от группы')\n",
    "plt.show()"
   ]
  },
  {
   "cell_type": "markdown",
   "metadata": {},
   "source": [
    "Удалим. Почему? потому что, если бы это была систематическая покупка на большю сумму, только если кнопка будет красной, то это было бы важно, а так, это просто может быть случайностью.\n",
    "1. продолжаем тестировать\n",
    "2. не расчитавыем на эту покупку и смотрим что то более реальное\n"
   ]
  },
  {
   "cell_type": "code",
   "execution_count": 22,
   "metadata": {},
   "outputs": [
    {
     "data": {
      "text/html": [
       "<div>\n",
       "<style scoped>\n",
       "    .dataframe tbody tr th:only-of-type {\n",
       "        vertical-align: middle;\n",
       "    }\n",
       "\n",
       "    .dataframe tbody tr th {\n",
       "        vertical-align: top;\n",
       "    }\n",
       "\n",
       "    .dataframe thead th {\n",
       "        text-align: right;\n",
       "    }\n",
       "</style>\n",
       "<table border=\"1\" class=\"dataframe\">\n",
       "  <thead>\n",
       "    <tr style=\"text-align: right;\">\n",
       "      <th></th>\n",
       "      <th>USER_ID</th>\n",
       "      <th>REVENUE</th>\n",
       "    </tr>\n",
       "  </thead>\n",
       "  <tbody>\n",
       "    <tr>\n",
       "      <th>count</th>\n",
       "      <td>6069.000000</td>\n",
       "      <td>6069.000000</td>\n",
       "    </tr>\n",
       "    <tr>\n",
       "      <th>mean</th>\n",
       "      <td>4983.934586</td>\n",
       "      <td>0.074785</td>\n",
       "    </tr>\n",
       "    <tr>\n",
       "      <th>std</th>\n",
       "      <td>2898.152264</td>\n",
       "      <td>0.907245</td>\n",
       "    </tr>\n",
       "    <tr>\n",
       "      <th>min</th>\n",
       "      <td>2.000000</td>\n",
       "      <td>0.000000</td>\n",
       "    </tr>\n",
       "    <tr>\n",
       "      <th>25%</th>\n",
       "      <td>2472.000000</td>\n",
       "      <td>0.000000</td>\n",
       "    </tr>\n",
       "    <tr>\n",
       "      <th>50%</th>\n",
       "      <td>4951.000000</td>\n",
       "      <td>0.000000</td>\n",
       "    </tr>\n",
       "    <tr>\n",
       "      <th>75%</th>\n",
       "      <td>7501.000000</td>\n",
       "      <td>0.000000</td>\n",
       "    </tr>\n",
       "    <tr>\n",
       "      <th>max</th>\n",
       "      <td>9998.000000</td>\n",
       "      <td>29.320000</td>\n",
       "    </tr>\n",
       "  </tbody>\n",
       "</table>\n",
       "</div>"
      ],
      "text/plain": [
       "           USER_ID      REVENUE\n",
       "count  6069.000000  6069.000000\n",
       "mean   4983.934586     0.074785\n",
       "std    2898.152264     0.907245\n",
       "min       2.000000     0.000000\n",
       "25%    2472.000000     0.000000\n",
       "50%    4951.000000     0.000000\n",
       "75%    7501.000000     0.000000\n",
       "max    9998.000000    29.320000"
      ]
     },
     "execution_count": 22,
     "metadata": {},
     "output_type": "execute_result"
    }
   ],
   "source": [
    "cleaned_df = cleaned_df[cleaned_df['REVENUE'] < 196]\n",
    "cleaned_df.describe()"
   ]
  },
  {
   "cell_type": "markdown",
   "metadata": {},
   "source": [
    "Разделим датасеты:\n"
   ]
  },
  {
   "cell_type": "code",
   "execution_count": 23,
   "metadata": {},
   "outputs": [],
   "source": [
    "control_group =  cleaned_df[cleaned_df['VARIANT_NAME'] == 'control']\n",
    "\n",
    "test_group = cleaned_df[cleaned_df['VARIANT_NAME'] == 'variant']"
   ]
  },
  {
   "cell_type": "markdown",
   "metadata": {},
   "source": [
    "## Теперь нам нужно:\n",
    "* количество пользователей в 2 группах\n",
    "* прибыль в 2 группах\n",
    "* посчитать доли\n",
    "* выявить статистические различия между группами"
   ]
  },
  {
   "cell_type": "markdown",
   "metadata": {},
   "source": [
    "1. сгруппируем по ай ди. просуммируем прибыль по каждому ай ди"
   ]
  },
  {
   "cell_type": "code",
   "execution_count": 24,
   "metadata": {},
   "outputs": [
    {
     "data": {
      "text/html": [
       "<div>\n",
       "<style scoped>\n",
       "    .dataframe tbody tr th:only-of-type {\n",
       "        vertical-align: middle;\n",
       "    }\n",
       "\n",
       "    .dataframe tbody tr th {\n",
       "        vertical-align: top;\n",
       "    }\n",
       "\n",
       "    .dataframe thead th {\n",
       "        text-align: right;\n",
       "    }\n",
       "</style>\n",
       "<table border=\"1\" class=\"dataframe\">\n",
       "  <thead>\n",
       "    <tr style=\"text-align: right;\">\n",
       "      <th></th>\n",
       "      <th>USER_ID</th>\n",
       "      <th>REVENUE</th>\n",
       "    </tr>\n",
       "  </thead>\n",
       "  <tbody>\n",
       "    <tr>\n",
       "      <th>0</th>\n",
       "      <td>4</td>\n",
       "      <td>0.0</td>\n",
       "    </tr>\n",
       "    <tr>\n",
       "      <th>1</th>\n",
       "      <td>5</td>\n",
       "      <td>0.0</td>\n",
       "    </tr>\n",
       "    <tr>\n",
       "      <th>2</th>\n",
       "      <td>6</td>\n",
       "      <td>0.0</td>\n",
       "    </tr>\n",
       "    <tr>\n",
       "      <th>3</th>\n",
       "      <td>9</td>\n",
       "      <td>0.0</td>\n",
       "    </tr>\n",
       "    <tr>\n",
       "      <th>4</th>\n",
       "      <td>15</td>\n",
       "      <td>0.0</td>\n",
       "    </tr>\n",
       "    <tr>\n",
       "      <th>...</th>\n",
       "      <td>...</td>\n",
       "      <td>...</td>\n",
       "    </tr>\n",
       "    <tr>\n",
       "      <th>2388</th>\n",
       "      <td>9975</td>\n",
       "      <td>0.0</td>\n",
       "    </tr>\n",
       "    <tr>\n",
       "      <th>2389</th>\n",
       "      <td>9983</td>\n",
       "      <td>0.0</td>\n",
       "    </tr>\n",
       "    <tr>\n",
       "      <th>2390</th>\n",
       "      <td>9986</td>\n",
       "      <td>0.0</td>\n",
       "    </tr>\n",
       "    <tr>\n",
       "      <th>2391</th>\n",
       "      <td>9990</td>\n",
       "      <td>0.0</td>\n",
       "    </tr>\n",
       "    <tr>\n",
       "      <th>2392</th>\n",
       "      <td>9995</td>\n",
       "      <td>0.0</td>\n",
       "    </tr>\n",
       "  </tbody>\n",
       "</table>\n",
       "<p>2393 rows × 2 columns</p>\n",
       "</div>"
      ],
      "text/plain": [
       "      USER_ID  REVENUE\n",
       "0           4      0.0\n",
       "1           5      0.0\n",
       "2           6      0.0\n",
       "3           9      0.0\n",
       "4          15      0.0\n",
       "...       ...      ...\n",
       "2388     9975      0.0\n",
       "2389     9983      0.0\n",
       "2390     9986      0.0\n",
       "2391     9990      0.0\n",
       "2392     9995      0.0\n",
       "\n",
       "[2393 rows x 2 columns]"
      ]
     },
     "execution_count": 24,
     "metadata": {},
     "output_type": "execute_result"
    }
   ],
   "source": [
    "test_group= test_group.groupby('USER_ID')['REVENUE'].sum().reset_index()\n",
    "test_group"
   ]
  },
  {
   "cell_type": "code",
   "execution_count": 25,
   "metadata": {},
   "outputs": [
    {
     "data": {
      "text/html": [
       "<div>\n",
       "<style scoped>\n",
       "    .dataframe tbody tr th:only-of-type {\n",
       "        vertical-align: middle;\n",
       "    }\n",
       "\n",
       "    .dataframe tbody tr th {\n",
       "        vertical-align: top;\n",
       "    }\n",
       "\n",
       "    .dataframe thead th {\n",
       "        text-align: right;\n",
       "    }\n",
       "</style>\n",
       "<table border=\"1\" class=\"dataframe\">\n",
       "  <thead>\n",
       "    <tr style=\"text-align: right;\">\n",
       "      <th></th>\n",
       "      <th>USER_ID</th>\n",
       "      <th>REVENUE</th>\n",
       "    </tr>\n",
       "  </thead>\n",
       "  <tbody>\n",
       "    <tr>\n",
       "      <th>0</th>\n",
       "      <td>2</td>\n",
       "      <td>0.0</td>\n",
       "    </tr>\n",
       "    <tr>\n",
       "      <th>1</th>\n",
       "      <td>11</td>\n",
       "      <td>0.0</td>\n",
       "    </tr>\n",
       "    <tr>\n",
       "      <th>2</th>\n",
       "      <td>12</td>\n",
       "      <td>0.0</td>\n",
       "    </tr>\n",
       "    <tr>\n",
       "      <th>3</th>\n",
       "      <td>13</td>\n",
       "      <td>0.0</td>\n",
       "    </tr>\n",
       "    <tr>\n",
       "      <th>4</th>\n",
       "      <td>21</td>\n",
       "      <td>0.0</td>\n",
       "    </tr>\n",
       "    <tr>\n",
       "      <th>...</th>\n",
       "      <td>...</td>\n",
       "      <td>...</td>\n",
       "    </tr>\n",
       "    <tr>\n",
       "      <th>2384</th>\n",
       "      <td>9980</td>\n",
       "      <td>0.0</td>\n",
       "    </tr>\n",
       "    <tr>\n",
       "      <th>2385</th>\n",
       "      <td>9989</td>\n",
       "      <td>0.0</td>\n",
       "    </tr>\n",
       "    <tr>\n",
       "      <th>2386</th>\n",
       "      <td>9992</td>\n",
       "      <td>0.0</td>\n",
       "    </tr>\n",
       "    <tr>\n",
       "      <th>2387</th>\n",
       "      <td>9993</td>\n",
       "      <td>0.0</td>\n",
       "    </tr>\n",
       "    <tr>\n",
       "      <th>2388</th>\n",
       "      <td>9998</td>\n",
       "      <td>0.0</td>\n",
       "    </tr>\n",
       "  </tbody>\n",
       "</table>\n",
       "<p>2389 rows × 2 columns</p>\n",
       "</div>"
      ],
      "text/plain": [
       "      USER_ID  REVENUE\n",
       "0           2      0.0\n",
       "1          11      0.0\n",
       "2          12      0.0\n",
       "3          13      0.0\n",
       "4          21      0.0\n",
       "...       ...      ...\n",
       "2384     9980      0.0\n",
       "2385     9989      0.0\n",
       "2386     9992      0.0\n",
       "2387     9993      0.0\n",
       "2388     9998      0.0\n",
       "\n",
       "[2389 rows x 2 columns]"
      ]
     },
     "execution_count": 25,
     "metadata": {},
     "output_type": "execute_result"
    }
   ],
   "source": [
    "# Группировка по USER_ID и суммирование REVENUE\n",
    "control_group = control_group.groupby('USER_ID')['REVENUE'].sum().reset_index()\n",
    "\n",
    "# Вывод результата\n",
    "control_group"
   ]
  },
  {
   "cell_type": "markdown",
   "metadata": {},
   "source": [
    "Получим количество ай ди в каждой группе"
   ]
  },
  {
   "cell_type": "code",
   "execution_count": 26,
   "metadata": {},
   "outputs": [],
   "source": [
    "control_count = control_group['USER_ID'].count()\n",
    "test_count =  test_group['USER_ID'].count()"
   ]
  },
  {
   "cell_type": "markdown",
   "metadata": {},
   "source": [
    "Получим прибыль по каждой группе"
   ]
  },
  {
   "cell_type": "code",
   "execution_count": 27,
   "metadata": {},
   "outputs": [],
   "source": [
    "control_count = control_group['USER_ID'].count()\n",
    "test_count =  test_group['USER_ID'].count()\n",
    "rev_sum_control = control_group['REVENUE'].sum()\n",
    "rev_sum_test =  test_group['REVENUE'].sum()"
   ]
  },
  {
   "cell_type": "code",
   "execution_count": 28,
   "metadata": {},
   "outputs": [
    {
     "data": {
      "text/plain": [
       "274.55"
      ]
     },
     "execution_count": 28,
     "metadata": {},
     "output_type": "execute_result"
    }
   ],
   "source": [
    "rev_sum_control"
   ]
  },
  {
   "cell_type": "code",
   "execution_count": 29,
   "metadata": {},
   "outputs": [
    {
     "data": {
      "text/plain": [
       "179.32"
      ]
     },
     "execution_count": 29,
     "metadata": {},
     "output_type": "execute_result"
    }
   ],
   "source": [
    "rev_sum_test"
   ]
  },
  {
   "cell_type": "code",
   "execution_count": 31,
   "metadata": {},
   "outputs": [],
   "source": [
    "proportion_control = rev_sum_control/control_count\n",
    "proportion_test = rev_sum_test/test_count"
   ]
  },
  {
   "cell_type": "markdown",
   "metadata": {},
   "source": [
    " Проведем тест на нормальность распределения\n",
    " \n",
    " Формально это выглядит так:\n",
    "\n",
    "Если p-value < a, то отвергнуть нулевую гипотезу.\n",
    "Если p-value >= a, то нет оснований отвергнуть нулевую гипотезу."
   ]
  },
  {
   "cell_type": "code",
   "execution_count": 30,
   "metadata": {},
   "outputs": [
    {
     "name": "stdout",
     "output_type": "stream",
     "text": [
      "Тест Шапиро-Уилка для контрольной группы:\n",
      "Статистика теста: 0.07461178302764893\n",
      "P-значение: 0.0\n",
      "Есть основания отвергнуть гипотезу о нормальности распределения в контрольной группе.\n",
      "\n",
      "Тест Шапиро-Уилка для тестовой группы:\n",
      "Статистика теста: 0.06145977973937988\n",
      "P-значение: 0.0\n",
      "Есть основания отвергнуть гипотезу о нормальности распределения в тестовой группе.\n",
      "\n",
      "Статистика U (тест Уилкоксона-Манна-Уитни): 2871768.0\n",
      "P-значение (тест Уилкоксона-Манна-Уитни): 0.24799555106821947\n",
      "Статистически значимых различий между группами не обнаружено (тест Уилкоксона-Манна-Уитни).\n"
     ]
    }
   ],
   "source": [
    "from scipy.stats import shapiro, mannwhitneyu, ttest_ind\n",
    "\n",
    "alpha = 0.05\n",
    "\n",
    "# Тест Шапиро-Уилка для контрольной группы\n",
    "statistic_control, p_value_control = shapiro(control_group['REVENUE'])\n",
    "print(f\"Тест Шапиро-Уилка для контрольной группы:\")\n",
    "print(f\"Статистика теста: {statistic_control}\")\n",
    "print(f\"P-значение: {p_value_control}\")\n",
    "if p_value_control > alpha:\n",
    "    print(\"Распределение в контрольной группе схоже с нормальным.\")\n",
    "else:\n",
    "    print(\"Есть основания отвергнуть гипотезу о нормальности распределения в контрольной группе.\")\n",
    "\n",
    "# Тест Шапиро-Уилка для тестовой группы\n",
    "statistic_test, p_value_test = shapiro(test_group['REVENUE'])\n",
    "print(\"\\nТест Шапиро-Уилка для тестовой группы:\")\n",
    "print(f\"Статистика теста: {statistic_test}\")\n",
    "print(f\"P-значение: {p_value_test}\")\n",
    "if p_value_test > alpha:\n",
    "    print(\"Распределение в тестовой группе схоже с нормальным.\")\n",
    "else:\n",
    "    print(\"Есть основания отвергнуть гипотезу о нормальности распределения в тестовой группе.\")\n",
    "\n",
    "# Если распределение схоже с нормальным, применяем t-тест\n",
    "if p_value_control > alpha and p_value_test > alpha:\n",
    "    # Проведение t-теста\n",
    "    t_stat, p_value_ttest = ttest_ind(control_group['REVENUE'], test_group['REVENUE'], equal_var=False)\n",
    "\n",
    "    # Вывод результатов теста\n",
    "    print(f\"\\nT-статистика: {t_stat}\")\n",
    "    print(f\"P-значение (t-тест): {p_value_ttest}\")\n",
    "\n",
    "    # Проверка статистической значимости\n",
    "    if p_value_ttest < alpha:\n",
    "        print(\"Есть статистически значимые различия между группами (t-тест).\")\n",
    "    else:\n",
    "        print(\"Статистически значимых различий между группами не обнаружено (t-тест).\")\n",
    "# Иначе применяем непараметрический тест Уилкоксона-Манна-Уитни\n",
    "else:\n",
    "    # Проведение теста Уилкоксона-Манна-Уитни\n",
    "    statistic, p_value_mannwhitneyu = mannwhitneyu(control_group['REVENUE'], test_group['REVENUE'])\n",
    "\n",
    "    # Вывод результатов теста\n",
    "    print(f\"\\nСтатистика U (тест Уилкоксона-Манна-Уитни): {statistic}\")\n",
    "    print(f\"P-значение (тест Уилкоксона-Манна-Уитни): {p_value_mannwhitneyu}\")\n",
    "\n",
    "    # Проверка статистической значимости\n",
    "    if p_value_mannwhitneyu < alpha:\n",
    "        print(\"Есть статистически значимые различия между группами (тест Уилкоксона-Манна-Уитни).\")\n",
    "    else:\n",
    "        print(\"Статистически значимых различий между группами не обнаружено (тест Уилкоксона-Манна-Уитни).\")\n"
   ]
  }
 ],
 "metadata": {
  "kernelspec": {
   "display_name": "Python 3",
   "language": "python",
   "name": "python3"
  },
  "language_info": {
   "codemirror_mode": {
    "name": "ipython",
    "version": 3
   },
   "file_extension": ".py",
   "mimetype": "text/x-python",
   "name": "python",
   "nbconvert_exporter": "python",
   "pygments_lexer": "ipython3",
   "version": "3.11.1"
  }
 },
 "nbformat": 4,
 "nbformat_minor": 2
}
