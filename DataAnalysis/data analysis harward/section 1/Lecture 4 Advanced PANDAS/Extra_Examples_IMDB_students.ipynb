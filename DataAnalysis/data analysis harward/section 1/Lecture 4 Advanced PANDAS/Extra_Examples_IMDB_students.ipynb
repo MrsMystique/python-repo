{
 "cells": [
  {
   "cell_type": "markdown",
   "metadata": {},
   "source": [
    "<h1 style=\"padding-top: 25px;padding-bottom: 25px;text-align: left; padding-left: 10px; background-color: #DDDDDD; \n",
    "    color: black;\"> <img style=\"float: left; padding-right: 10px; width: 45px\" src=\"https://raw.githubusercontent.com/Harvard-IACS/2018-CS109A/master/content/styles/iacs.png\"> CS109A Introduction to Data Science </h1>\n",
    "\n",
    "## Detailed Examples: Data Collection, Parsing, and Quick Analyses\n",
    "\n",
    "**Harvard University**<br/>\n",
    "**Fall 2020**<br/>\n",
    "**Instructors**: Pavlos Protopapas, Kevin Rader, and Chris Tanner<br/>\n",
    "<hr style='height:2px'>"
   ]
  },
  {
   "cell_type": "markdown",
   "metadata": {},
   "source": [
    "# Title\n",
    "\n",
    "**Дополнительная практика + решения!**\n",
    "\n",
    "# Описание\n",
    "\n",
    "**Это упражнение не будет оцениваться, его даже нельзя сдать, и работать над ним совершенно необязательно**.\n",
    "\n",
    "Но если вы хотите **дополнительной практики**, мы создали эту тетрадь, которая по своей сути очень похожа на домашнее задание. Более того, она очень похожа на реальные сценарии исследования и анализа данных - до моделирования.\n",
    "\n",
    "Мы не включили автогрейдер, поэтому вы не сможете проверить свои решения. Однако мы предоставляем решения, чтобы вы могли вручную проверить, соответствуют ли ваши результаты нашим. **Решения видны на вкладке вверху (справа) в этом окне.**.**"
   ]
  },
  {
   "cell_type": "code",
   "execution_count": 2,
   "metadata": {},
   "outputs": [
    {
     "data": {
      "text/html": [
       "<style>\n",
       "blockquote { background: #AEDE94; }\n",
       "h1 { \n",
       "    padding-top: 25px;\n",
       "    padding-bottom: 25px;\n",
       "    text-align: left; \n",
       "    padding-left: 10px;\n",
       "    background-color: #DDDDDD; \n",
       "    color: black;\n",
       "}\n",
       "h2 { \n",
       "    padding-top: 10px;\n",
       "    padding-bottom: 10px;\n",
       "    text-align: left; \n",
       "    padding-left: 5px;\n",
       "    background-color: #EEEEEE; \n",
       "    color: black;\n",
       "}\n",
       "\n",
       "div.exercise {\n",
       "\tbackground-color: #ffcccc;\n",
       "\tborder-color: #E9967A; \t\n",
       "\tborder-left: 5px solid #800080; \n",
       "\tpadding: 0.5em;\n",
       "}\n",
       "\n",
       "div.exercise-r {\n",
       "\tbackground-color: #ffd0d0;\n",
       "\tborder-color: #E9967A; \t\n",
       "\tborder-left: 5px solid #800080; \n",
       "\tpadding: 0.5em;\n",
       "}\n",
       "\n",
       "\n",
       "span.sub-q {\n",
       "\tfont-weight: bold;\n",
       "}\n",
       "div.theme {\n",
       "\tbackground-color: #DDDDDD;\n",
       "\tborder-color: #E9967A; \t\n",
       "\tborder-left: 5px solid #800080; \n",
       "\tpadding: 0.5em;\n",
       "\tfont-size: 18pt;\n",
       "}\n",
       "div.gc { \n",
       "\tbackground-color: #AEDE94;\n",
       "\tborder-color: #E9967A; \t \n",
       "\tborder-left: 5px solid #800080; \n",
       "\tpadding: 0.5em;\n",
       "\tfont-size: 12pt;\n",
       "}\n",
       "p.q1 { \n",
       "    padding-top: 5px;\n",
       "    padding-bottom: 5px;\n",
       "    text-align: left; \n",
       "    padding-left: 5px;\n",
       "    background-color: #EEEEEE; \n",
       "    color: black;\n",
       "}\n",
       "header {\n",
       "   padding-top: 35px;\n",
       "    padding-bottom: 35px;\n",
       "    text-align: left; \n",
       "    padding-left: 10px;\n",
       "    background-color: #DDDDDD; \n",
       "    color: black;\n",
       "}\n",
       "</style>\n",
       "\n"
      ],
      "text/plain": [
       "<IPython.core.display.HTML object>"
      ]
     },
     "execution_count": 2,
     "metadata": {},
     "output_type": "execute_result"
    }
   ],
   "source": [
    "## запустите эту ячейку, чтобы получить правильное форматирование\n",
    "import requests\n",
    "from IPython.core.display import HTML\n",
    "styles = requests.get(\"https://raw.githubusercontent.com/Harvard-IACS/2020-CS109A/master/themes/static/css/cs109.css\").text\n",
    "HTML(styles)"
   ]
  },
  {
   "cell_type": "markdown",
   "metadata": {},
   "source": [
    "## Обзор \n",
    "\n",
    "Цель данного блокнота - получить дополнительную практику по получению, разбору, очистке и анализу данных. Поскольку для решения реальных задач часто требуется сбор информации из различных источников, в том числе и из Интернета, веб-скрепинг является весьма полезным навыком. \n",
    "Для этого мы будем собирать данные IMDb о самых высокооплачиваемых актерах и актрисах, извлекать различные ключевые точки данных и использовать PANDAS, чтобы научиться агрегировать эти данные полезным образом.\n",
    "\n",
    "### Задачи обучения\n",
    "- Начать работу с блокнотами Jupyter Notebooks, которые являются невероятно популярными, мощными и будут нашим средством программирования на протяжении всего курса CS109A и CS109B.\n",
    "- Ознакомиться с методами поиска и использования данных из онлайн-источников.\n",
    "- Приобрести опыт исследования и простого анализа данных.\n",
    "- Ознакомиться с PANDAS как средством хранения и работы с данными.\n",
    "- Чувствовать себя хорошо подготовленным к выполнению HW1.\n",
    "\n",
    "### Примечания\n",
    "- Упражнение **ответственный скраппинг**. Веб-серверы могут работать медленно или не реагировать на запросы, если они получают слишком много запросов от одного и того же источника за короткий промежуток времени. \n",
    "\n",
    "В своем коде используйте задержку между запросами в 2 секунды. Это поможет избежать блокировки целевого сайта - представьте, как обидно, когда это происходит. \n",
    "\n",
    "Раздел 1 этого домашнего задания предполагает сохранение отсканированных веб-страниц на локальной машине.\n",
    "\n",
    "\n",
    "- Запросы на веб-скреппинг могут занимать несколько минут. В зависимости от проекта это может занять часы, дни или длиться бесконечно долго (Google ползает по всей Сети).\n",
    "- При работе Jupyter Notebook сохраняет состояние памяти. Таким образом, порядок запуска ячеек имеет значение и играет решающую роль; \n",
    "\n",
    "в процессе разработки и тестирования кода можно легко допустить ошибки, основываясь на том, \"когда\" вы запускаете различные ячейки. \n",
    "\n",
    "**Перед выполнением каждого домашнего задания Jupyter Notebook обязательно перезагрузите Jupyter Notebook и запустите весь блокнот с нуля (т.е. \"Kernel -> Restart & Run All\")**."
   ]
  },
  {
   "cell_type": "code",
   "execution_count": 3,
   "metadata": {},
   "outputs": [],
   "source": [
    "# импортировать необходимые библиотеки\n",
    "import re\n",
    "import requests\n",
    "import pandas as pd\n",
    "import numpy as np\n",
    "from time import sleep\n",
    "from bs4 import BeautifulSoup"
   ]
  },
  {
   "cell_type": "markdown",
   "metadata": {},
   "source": [
    "# Оглавление\n",
    "\n",
    "0. Практика работы с regex\n",
    "I. Получение данных IMDb\n",
    "  1. Получение данных сайта через `запросы`\n",
    "  2. BeautifulSoup\n",
    "  3. Получение url актера + зарплата\n",
    "  4. Соскрести остальные данные\n",
    "II. Загрузка и изучение данных\n",
    "  1. Сохранение и загрузка данных с помощью Pandas\n",
    "  2. Очистка данных (переименование столбцов + изменение типов)\n",
    "  3. Нарезка и сортировка данных\n",
    "  4. Вычисление сводной статистики (min, max, mean и т.д.)\n",
    "  5. `pd.cut`, `df.groupby` и гистограммы\n",
    "  6. Исследование зависимости возраста от зарплаты\n",
    "  7. Исследование зависимости зарплаты от пола\n",
    "  8. Изучение соотношения премий и пола\n",
    "  9. Исследование соотношения премий и секса, часть II\n",
    "  10. Исследование композиторских кредитов"
   ]
  },
  {
   "cell_type": "markdown",
   "metadata": {},
   "source": [
    "## 0. Практика работы с regex\n",
    "\n",
    "Умение соскабливать, разбирать и анализировать простые данные веб-сайта очень полезно в самых разных ситуациях. Здесь мы рассмотрим голосование в Сенате США по вопросу утверждения кандидата на должность окружного судьи США: https://www.senate.gov/legislative/LIS/roll_call_lists/roll_call_vote_cfm.cfm?congress=116&session=2&vote=00157.\n",
    "\n",
    "Мы предоставляем скраппинг. Ваша задача состоит в следующем:\n",
    "1. Написать BeautifulSoup для захвата секции 'vote by positon' для обоих вариантов \"Yea\" и \"Nay\".\n",
    "2. Напишите regex для извлечения имени каждого сенатора из разделов \"За\" и \"Против\".\n"
   ]
  },
  {
   "cell_type": "code",
   "execution_count": 4,
   "metadata": {},
   "outputs": [
    {
     "data": {
      "text/plain": [
       "<Response [200]>"
      ]
     },
     "execution_count": 4,
     "metadata": {},
     "output_type": "execute_result"
    }
   ],
   "source": [
    "url = \"https://www.senate.gov/legislative/LIS/roll_call_votes/vote1162/vote_116_2_00157.htm\"\n",
    "\n",
    "# proxies = {\n",
    "#     'http': \"http://37.120.147.90:8081\",\n",
    "#     'https': \"https://37.120.147.90.66:8081\"\n",
    "# }\n",
    "headers = {\n",
    "    'User-Agent': 'Mozilla/5.0 (Windows NT 10.0; Win64; x64) AppleWebKit/537.36 (KHTML, like Gecko) Chrome/114.0.0.0 Safari/537.36'\n",
    "}\n",
    "response = requests.get(url, headers=headers, timeout=10)\n",
    "response"
   ]
  },
  {
   "cell_type": "markdown",
   "metadata": {},
   "source": [
    "Имена всех сенаторов"
   ]
  },
  {
   "cell_type": "code",
   "execution_count": 5,
   "metadata": {},
   "outputs": [],
   "source": [
    "import re\n",
    "\n",
    "from bs4 import BeautifulSoup"
   ]
  },
  {
   "cell_type": "code",
   "execution_count": null,
   "metadata": {},
   "outputs": [],
   "source": [
    "soup = BeautifulSoup(response.content, 'lxml')\n",
    "soup"
   ]
  },
  {
   "cell_type": "markdown",
   "metadata": {},
   "source": [
    "1. Теги: \n",
    "   - `<div>` - это тег блочного элемента, используется для группировки и структурирования содержимого.\n",
    "   - `<span>` - это тег строчного элемента, используется для обозначения отдельной части текста или обертки для других элементов.\n",
    "   \n",
    "2. Классы: \n",
    "   - `newspaperDisplay_3column` - это класс, примененный к `<div>` элементу. Классы используются для определения стилей в CSS или для работы с элементами с помощью JavaScript.\n",
    "   - `contenttext` - это класс, примененный к `<span>` элементу. Он используется для определения стилей, связанных с текстом, в CSS или для работы с элементом с помощью JavaScript.\n",
    "\n",
    "3. Блоки: \n",
    "   - `<div class=\"newspaperDisplay_3column\">` - это блок, заданный с использованием `<div>` элемента и класса \"newspaperDisplay_3column\". Он группирует содержимое, разбивая его на три столбца.\n",
    "   - `<span class=\"contenttext\">` - это блок, заданный с использованием `<span>` элемента и класса \"contenttext\". Он обычно используется для определенного текста или для добавления дополнительных стилей к тексту.\n",
    "\n",
    "\n",
    "Просмотрев код страницы. я поняла, что нужная мне информация находится в блоке div, строчном теге span, классе **contenttext**\n",
    "\n"
   ]
  },
  {
   "cell_type": "code",
   "execution_count": 7,
   "metadata": {},
   "outputs": [],
   "source": [
    "# <code>\n",
    "\n",
    "# <div class=\"newspaperDisplay_3column\" bis_skin_checked=\"1\">\n",
    "# <span class=\"contenttext\">\n",
    "\n",
    "# НУЖНЫЙ КОНТЕНТ (имена и голоса всех сенаторов)\n",
    "\n",
    "# </span>\n",
    "# </div>\n",
    "\n",
    "# </code>"
   ]
  },
  {
   "cell_type": "code",
   "execution_count": 8,
   "metadata": {},
   "outputs": [
    {
     "name": "stdout",
     "output_type": "stream",
     "text": [
      "U.S. Senate: U.S. Senate Roll Call Votes 116th Congress - 2nd Session\n"
     ]
    }
   ],
   "source": [
    "# судя по всему предмет разговора, это вот этот заголовок\n",
    "title = soup.title\n",
    "print(title.text)\n"
   ]
  },
  {
   "cell_type": "code",
   "execution_count": 9,
   "metadata": {},
   "outputs": [
    {
     "name": "stdout",
     "output_type": "stream",
     "text": [
      "Alexander (R-TN), Not Voting\n",
      "Baldwin (D-WI), Nay\n",
      "Barrasso (R-WY), Yea\n",
      "Bennet (D-CO), Nay\n",
      "Blackburn (R-TN), Not Voting\n",
      "Blumenthal (D-CT), Nay\n",
      "Blunt (R-MO), Yea\n",
      "Booker (D-NJ), Nay\n",
      "Boozman (R-AR), Yea\n",
      "Braun (R-IN), Yea\n",
      "Brown (D-OH), Nay\n",
      "Burr (R-NC), Yea\n",
      "Cantwell (D-WA), Nay\n",
      "Capito (R-WV), Yea\n",
      "Cardin (D-MD), Nay\n",
      "Carper (D-DE), Nay\n",
      "Casey (D-PA), Nay\n",
      "Cassidy (R-LA), Yea\n",
      "Collins (R-ME), Yea\n",
      "Coons (D-DE), Nay\n",
      "Cornyn (R-TX), Yea\n",
      "Cortez Masto (D-NV), Nay\n",
      "Cotton (R-AR), Yea\n",
      "Cramer (R-ND), Yea\n",
      "Crapo (R-ID), Yea\n",
      "Cruz (R-TX), Yea\n",
      "Daines (R-MT), Yea\n",
      "Duckworth (D-IL), Not Voting\n",
      "Durbin (D-IL), Nay\n",
      "Enzi (R-WY), Yea\n",
      "Ernst (R-IA), Yea\n",
      "Feinstein (D-CA), Nay\n",
      "Fischer (R-NE), Yea\n",
      "Gardner (R-CO), Yea\n",
      "Gillibrand (D-NY), Nay\n",
      "Graham (R-SC), Yea\n",
      "Grassley (R-IA), Yea\n",
      "Harris (D-CA), Nay\n",
      "Hassan (D-NH), Nay\n",
      "Hawley (R-MO), Yea\n",
      "Heinrich (D-NM), Nay\n",
      "Hirono (D-HI), Nay\n",
      "Hoeven (R-ND), Yea\n",
      "Hyde-Smith (R-MS), Yea\n",
      "Inhofe (R-OK), Yea\n",
      "Johnson (R-WI), Yea\n",
      "Jones (D-AL), Yea\n",
      "Kaine (D-VA), Nay\n",
      "Kennedy (R-LA), Yea\n",
      "King (I-ME), Nay\n",
      "Klobuchar (D-MN), Nay\n",
      "Lankford (R-OK), Yea\n",
      "Leahy (D-VT), Nay\n",
      "Lee (R-UT), Yea\n",
      "Loeffler (R-GA), Yea\n",
      "Manchin (D-WV), Yea\n",
      "Markey (D-MA), Nay\n",
      "McConnell (R-KY), Yea\n",
      "McSally (R-AZ), Yea\n",
      "Menendez (D-NJ), Nay\n",
      "Merkley (D-OR), Nay\n",
      "Moran (R-KS), Yea\n",
      "Murkowski (R-AK), Yea\n",
      "Murphy (D-CT), Nay\n",
      "Murray (D-WA), Nay\n",
      "Paul (R-KY), Yea\n",
      "Perdue (R-GA), Yea\n",
      "Peters (D-MI), Nay\n",
      "Portman (R-OH), Yea\n",
      "Reed (D-RI), Nay\n",
      "Risch (R-ID), Yea\n",
      "Roberts (R-KS), Yea\n",
      "Romney (R-UT), Yea\n",
      "Rosen (D-NV), Nay\n",
      "Rounds (R-SD), Yea\n",
      "Rubio (R-FL), Yea\n",
      "Sanders (I-VT), Nay\n",
      "Sasse (R-NE), Yea\n",
      "Schatz (D-HI), Nay\n",
      "Schumer (D-NY), Nay\n",
      "Scott (R-FL), Yea\n",
      "Scott (R-SC), Yea\n",
      "Shaheen (D-NH), Nay\n",
      "Shelby (R-AL), Yea\n",
      "Sinema (D-AZ), Yea\n",
      "Smith (D-MN), Nay\n",
      "Stabenow (D-MI), Nay\n",
      "Sullivan (R-AK), Yea\n",
      "Tester (D-MT), Yea\n",
      "Thune (R-SD), Yea\n",
      "Tillis (R-NC), Yea\n",
      "Toomey (R-PA), Yea\n",
      "Udall (D-NM), Nay\n",
      "Van Hollen (D-MD), Nay\n",
      "Warner (D-VA), Nay\n",
      "Warren (D-MA), Nay\n",
      "Whitehouse (D-RI), Nay\n",
      "Wicker (R-MS), Yea\n",
      "Wyden (D-OR), Nay\n",
      "Young (R-IN), Yea\n",
      "\n",
      "\n",
      "Barrasso (R-WY)Blunt (R-MO)Boozman (R-AR)Braun (R-IN)Burr (R-NC)Capito (R-WV)Cassidy (R-LA)Collins (R-ME)Cornyn (R-TX)Cotton (R-AR)Cramer (R-ND)Crapo (R-ID)Cruz (R-TX)Daines (R-MT)Enzi (R-WY)Ernst (R-IA)Fischer (R-NE)Gardner (R-CO)Graham (R-SC)Grassley (R-IA)Hawley (R-MO)Hoeven (R-ND)Hyde-Smith (R-MS)Inhofe (R-OK)Johnson (R-WI)Jones (D-AL)Kennedy (R-LA)Lankford (R-OK)Lee (R-UT)Loeffler (R-GA)Manchin (D-WV)McConnell (R-KY)McSally (R-AZ)Moran (R-KS)Murkowski (R-AK)Paul (R-KY)Perdue (R-GA)Portman (R-OH)Risch (R-ID)Roberts (R-KS)Romney (R-UT)Rounds (R-SD)Rubio (R-FL)Sasse (R-NE)Scott (R-FL)Scott (R-SC)Shelby (R-AL)Sinema (D-AZ)Sullivan (R-AK)Tester (D-MT)Thune (R-SD)Tillis (R-NC)Toomey (R-PA)Wicker (R-MS)Young (R-IN)\n",
      "\n",
      "Baldwin (D-WI)Bennet (D-CO)Blumenthal (D-CT)Booker (D-NJ)Brown (D-OH)Cantwell (D-WA)Cardin (D-MD)Carper (D-DE)Casey (D-PA)Coons (D-DE)Cortez Masto (D-NV)Durbin (D-IL)Feinstein (D-CA)Gillibrand (D-NY)Harris (D-CA)Hassan (D-NH)Heinrich (D-NM)Hirono (D-HI)Kaine (D-VA)King (I-ME)Klobuchar (D-MN)Leahy (D-VT)Markey (D-MA)Menendez (D-NJ)Merkley (D-OR)Murphy (D-CT)Murray (D-WA)Peters (D-MI)Reed (D-RI)Rosen (D-NV)Sanders (I-VT)Schatz (D-HI)Schumer (D-NY)Shaheen (D-NH)Smith (D-MN)Stabenow (D-MI)Udall (D-NM)Van Hollen (D-MD)Warner (D-VA)Warren (D-MA)Whitehouse (D-RI)Wyden (D-OR)\n",
      "\n",
      "Alexander (R-TN)Blackburn (R-TN)Duckworth (D-IL)\n",
      "\n"
     ]
    }
   ],
   "source": [
    "all_data = soup.find_all(\"span\", class_ = 'contenttext')\n",
    "# необрамленную массу инфы с тегами внутри выведем циклом\n",
    "data_senators_cleaned = []\n",
    "for item in all_data:\n",
    "    data_senators_cleaned.append(item.text)\n",
    "    print(item.text)\n",
    "# или так (дословно, получить текст элемента name для элемента name в списке names и записать в список )\n",
    "# data_senators_cleaned = [item.text for item in all_data]"
   ]
  },
  {
   "cell_type": "markdown",
   "metadata": {},
   "source": [
    "Так вышло что это один элемент списка, (все имена можно получить по индексу 0) поэтому разобьем данные по \\n"
   ]
  },
  {
   "cell_type": "code",
   "execution_count": 10,
   "metadata": {},
   "outputs": [],
   "source": [
    "data_senators_cleaned = data_senators_cleaned[0].split('\\n')\n",
    "# на текущий момент это то что нам нужно"
   ]
  },
  {
   "cell_type": "code",
   "execution_count": 11,
   "metadata": {},
   "outputs": [
    {
     "data": {
      "text/plain": [
       "['Alexander (R-TN), Not Voting',\n",
       " 'Baldwin (D-WI), Nay',\n",
       " 'Barrasso (R-WY), Yea',\n",
       " 'Bennet (D-CO), Nay']"
      ]
     },
     "execution_count": 11,
     "metadata": {},
     "output_type": "execute_result"
    }
   ],
   "source": [
    "# просмотрим первые 4 элемента списка. думаю нужно \n",
    "# 1. сплит по пробелу, удалить запятую если она есть и  первый элемент в имя и так далее\n",
    "data_senators_cleaned[:4]"
   ]
  },
  {
   "cell_type": "code",
   "execution_count": 12,
   "metadata": {},
   "outputs": [
    {
     "name": "stdout",
     "output_type": "stream",
     "text": [
      "Неверный формат элемента: \n",
      "Неверный формат элемента: \n",
      "{'senators_name': ['Alexander', 'Baldwin', 'Barrasso', 'Bennet', 'Blackburn', 'Blumenthal', 'Blunt', 'Booker', 'Boozman', 'Braun', 'Brown', 'Burr', 'Cantwell', 'Capito', 'Cardin', 'Carper', 'Casey', 'Cassidy', 'Collins', 'Coons', 'Cornyn', 'Cortez Masto', 'Cotton', 'Cramer', 'Crapo', 'Cruz', 'Daines', 'Duckworth', 'Durbin', 'Enzi', 'Ernst', 'Feinstein', 'Fischer', 'Gardner', 'Gillibrand', 'Graham', 'Grassley', 'Harris', 'Hassan', 'Hawley', 'Heinrich', 'Hirono', 'Hoeven', 'Hyde-Smith', 'Inhofe', 'Johnson', 'Jones', 'Kaine', 'Kennedy', 'King', 'Klobuchar', 'Lankford', 'Leahy', 'Lee', 'Loeffler', 'Manchin', 'Markey', 'McConnell', 'McSally', 'Menendez', 'Merkley', 'Moran', 'Murkowski', 'Murphy', 'Murray', 'Paul', 'Perdue', 'Peters', 'Portman', 'Reed', 'Risch', 'Roberts', 'Romney', 'Rosen', 'Rounds', 'Rubio', 'Sanders', 'Sasse', 'Schatz', 'Schumer', 'Scott', 'Scott', 'Shaheen', 'Shelby', 'Sinema', 'Smith', 'Stabenow', 'Sullivan', 'Tester', 'Thune', 'Tillis', 'Toomey', 'Udall', 'Van Hollen', 'Warner', 'Warren', 'Whitehouse', 'Wicker', 'Wyden', 'Young'], 'initials': ['R-TN', 'D-WI', 'R-WY', 'D-CO', 'R-TN', 'D-CT', 'R-MO', 'D-NJ', 'R-AR', 'R-IN', 'D-OH', 'R-NC', 'D-WA', 'R-WV', 'D-MD', 'D-DE', 'D-PA', 'R-LA', 'R-ME', 'D-DE', 'R-TX', 'D-NV', 'R-AR', 'R-ND', 'R-ID', 'R-TX', 'R-MT', 'D-IL', 'D-IL', 'R-WY', 'R-IA', 'D-CA', 'R-NE', 'R-CO', 'D-NY', 'R-SC', 'R-IA', 'D-CA', 'D-NH', 'R-MO', 'D-NM', 'D-HI', 'R-ND', 'R-MS', 'R-OK', 'R-WI', 'D-AL', 'D-VA', 'R-LA', 'I-ME', 'D-MN', 'R-OK', 'D-VT', 'R-UT', 'R-GA', 'D-WV', 'D-MA', 'R-KY', 'R-AZ', 'D-NJ', 'D-OR', 'R-KS', 'R-AK', 'D-CT', 'D-WA', 'R-KY', 'R-GA', 'D-MI', 'R-OH', 'D-RI', 'R-ID', 'R-KS', 'R-UT', 'D-NV', 'R-SD', 'R-FL', 'I-VT', 'R-NE', 'D-HI', 'D-NY', 'R-FL', 'R-SC', 'D-NH', 'R-AL', 'D-AZ', 'D-MN', 'D-MI', 'R-AK', 'D-MT', 'R-SD', 'R-NC', 'R-PA', 'D-NM', 'D-MD', 'D-VA', 'D-MA', 'D-RI', 'R-MS', 'D-OR', 'R-IN'], 'votes': ['Not Voting', 'Nay', 'Yea', 'Nay', 'Not Voting', 'Nay', 'Yea', 'Nay', 'Yea', 'Yea', 'Nay', 'Yea', 'Nay', 'Yea', 'Nay', 'Nay', 'Nay', 'Yea', 'Yea', 'Nay', 'Yea', 'Nay', 'Yea', 'Yea', 'Yea', 'Yea', 'Yea', 'Not Voting', 'Nay', 'Yea', 'Yea', 'Nay', 'Yea', 'Yea', 'Nay', 'Yea', 'Yea', 'Nay', 'Nay', 'Yea', 'Nay', 'Nay', 'Yea', 'Yea', 'Yea', 'Yea', 'Yea', 'Nay', 'Yea', 'Nay', 'Nay', 'Yea', 'Nay', 'Yea', 'Yea', 'Yea', 'Nay', 'Yea', 'Yea', 'Nay', 'Nay', 'Yea', 'Yea', 'Nay', 'Nay', 'Yea', 'Yea', 'Nay', 'Yea', 'Nay', 'Yea', 'Yea', 'Yea', 'Nay', 'Yea', 'Yea', 'Nay', 'Yea', 'Nay', 'Nay', 'Yea', 'Yea', 'Nay', 'Yea', 'Yea', 'Nay', 'Nay', 'Yea', 'Yea', 'Yea', 'Yea', 'Yea', 'Nay', 'Nay', 'Nay', 'Nay', 'Nay', 'Yea', 'Nay', 'Yea']}\n"
     ]
    }
   ],
   "source": [
    "# Теперь наша задача состоит в том чтобы получить только имена. вероятно нужно создать финальный список а еще лучше словарь, в который нужно положить сплитнутую часть каждого элемента по пробелу\n",
    "# senators_name, initials, vote - наши ключи, словари это наш value\n",
    "name = []\n",
    "init = []\n",
    "vote = []\n",
    "voting_data = {'senators_name': name, 'initials': init, 'votes': vote}\n",
    "\n",
    "for item in data_senators_cleaned:\n",
    "    splited_item = item.split(',')\n",
    "    if len(splited_item) == 2:\n",
    "        senator_info = splited_item[0].split('(')\n",
    "        senator_name = senator_info[0].strip()\n",
    "        senator_initial = senator_info[1].replace(')', '').strip()\n",
    "        senator_vote = splited_item[1].strip()\n",
    "\n",
    "        name.append(senator_name)\n",
    "        init.append(senator_initial)\n",
    "        vote.append(senator_vote)\n",
    "        # чтобы не вылазило ошибок, сделаем это более юзерфрендли\n",
    "    else:\n",
    "        print(f\"Неверный формат элемента: {item}\")\n",
    "\n",
    "# Проверка результатов\n",
    "print(voting_data)"
   ]
  },
  {
   "cell_type": "markdown",
   "metadata": {},
   "source": [
    "В этом коде мы проходимся по каждому элементу в data_senators_cleaned.\n",
    "\n",
    "1. splited_item = item.split(',') разделяет элемент по запятым, создавая список из имени и голоса сенатора.\n",
    "2. Затем мы проверяем длину разделенного элемента. Если длина равна 2, значит, имеем правильный формат элемента.\n",
    "3. Далее мы разделяем имя сенатора и его инициалы, используя открывающую скобку '(' в списке senator_info.\n",
    "4. Мы очищаем имя и инициалы, удаляя лишние пробелы вокруг них и удаляя закрывающую скобку ')' в инициалах.\n",
    "5. Голос сенатора сохраняется в переменную senator_vote.\n",
    "6. Мы добавляем имя, инициалы и голос в соответствующие списки name, init и vote.\n",
    "7. В противном случае, если формат элемента неверный, мы выводим соответствующее сообщение.\n",
    "\n",
    "Обратите внимание, что этот код ожидает, что data_senators_cleaned является списком строк, и элементы содержат имя и инициалы сенатора, разделенные открывающей скобкой '(', и голосом, разделенным запятой ','\n",
    "\n",
    "ПОДРОБНЕЕ:\n",
    "1. Создание пустых списков name, init и vote, а также словаря voting_data, где name, init и vote будут использоваться в качестве ключей, а пустые списки - в качестве значений для ключей.\n",
    "2. Начало цикла for, где каждый элемент из списка data_senators_cleaned будет последовательно обрабатываться.\n",
    "3. Разбиение элемента на две части по запятой с помощью split(','), чтобы получить список splited_item, содержащий имя сенатора и голос.\n",
    "4. Проверка, что длина splited_item равна 2, что указывает на правильный формат элемента.\n",
    "5. Внутри условного оператора if, разделение имени сенатора и его инициалов, используя открывающую скобку ( в списке senator_info. Распаковка имени и инициалов, аккуратное удаление скобок и удаление лишних пробелов с помощью методов strip() и replace().\n",
    "6. Получение голоса сенатора из второй части элемента с помощью strip(), чтобы удалить лишние пробелы с начала и конца строки.\n",
    "7. Добавление имени, инициалов и голоса в соответствующие списки name, init и vote с помощью методов append().\n",
    "8. Если формат элемента неверный, в пункте else выводится сообщение с некорректным форматом элемента.\n",
    "9. Конец цикла for, при этом все элементы исходного списка обработаны.\n",
    "10. Вывод voting_data, словаря, содержащего списки имен, инициалов и голосов сенаторов.\n",
    "\n",
    "Результатом выполнения данного кода будет словарь voting_data, в котором ключи senators_name, initials и votes будут содержать соответствующие списки с данными о сенаторах.\n",
    "\n",
    "Пожалуйста, обратите внимание, что этот код предполагает определенный формат входных данных и ожидает, что элементы в data_senators_cleaned будут соответствовать этому формату. Если формат данных отличается, возможно, потребуется внести изменения в код для правильной обработки ваших данных."
   ]
  },
  {
   "cell_type": "code",
   "execution_count": 13,
   "metadata": {},
   "outputs": [],
   "source": [
    "for i in range(len(vote)):\n",
    "    if vote[i] == 'Yea':\n",
    "        vote[i] = 'Yes'\n",
    "    elif vote[i] == 'Nay':\n",
    "        vote[i] = 'No'"
   ]
  },
  {
   "cell_type": "code",
   "execution_count": 14,
   "metadata": {},
   "outputs": [],
   "source": [
    "# for name_val, init_val, vote_val in zip(name, init, vote):\n",
    "#     print(f\"Name: {name_val}    Initials: {init_val}    Vote: {vote_val}\")"
   ]
  },
  {
   "cell_type": "code",
   "execution_count": 15,
   "metadata": {},
   "outputs": [
    {
     "data": {
      "text/html": [
       "<div>\n",
       "<style scoped>\n",
       "    .dataframe tbody tr th:only-of-type {\n",
       "        vertical-align: middle;\n",
       "    }\n",
       "\n",
       "    .dataframe tbody tr th {\n",
       "        vertical-align: top;\n",
       "    }\n",
       "\n",
       "    .dataframe thead th {\n",
       "        text-align: right;\n",
       "    }\n",
       "</style>\n",
       "<table border=\"1\" class=\"dataframe\">\n",
       "  <thead>\n",
       "    <tr style=\"text-align: right;\">\n",
       "      <th></th>\n",
       "      <th>senators_name</th>\n",
       "      <th>initials</th>\n",
       "      <th>votes</th>\n",
       "    </tr>\n",
       "  </thead>\n",
       "  <tbody>\n",
       "    <tr>\n",
       "      <th>0</th>\n",
       "      <td>Alexander</td>\n",
       "      <td>R-TN</td>\n",
       "      <td>Not Voting</td>\n",
       "    </tr>\n",
       "    <tr>\n",
       "      <th>1</th>\n",
       "      <td>Baldwin</td>\n",
       "      <td>D-WI</td>\n",
       "      <td>No</td>\n",
       "    </tr>\n",
       "    <tr>\n",
       "      <th>2</th>\n",
       "      <td>Barrasso</td>\n",
       "      <td>R-WY</td>\n",
       "      <td>Yes</td>\n",
       "    </tr>\n",
       "    <tr>\n",
       "      <th>3</th>\n",
       "      <td>Bennet</td>\n",
       "      <td>D-CO</td>\n",
       "      <td>No</td>\n",
       "    </tr>\n",
       "    <tr>\n",
       "      <th>4</th>\n",
       "      <td>Blackburn</td>\n",
       "      <td>R-TN</td>\n",
       "      <td>Not Voting</td>\n",
       "    </tr>\n",
       "    <tr>\n",
       "      <th>...</th>\n",
       "      <td>...</td>\n",
       "      <td>...</td>\n",
       "      <td>...</td>\n",
       "    </tr>\n",
       "    <tr>\n",
       "      <th>95</th>\n",
       "      <td>Warren</td>\n",
       "      <td>D-MA</td>\n",
       "      <td>No</td>\n",
       "    </tr>\n",
       "    <tr>\n",
       "      <th>96</th>\n",
       "      <td>Whitehouse</td>\n",
       "      <td>D-RI</td>\n",
       "      <td>No</td>\n",
       "    </tr>\n",
       "    <tr>\n",
       "      <th>97</th>\n",
       "      <td>Wicker</td>\n",
       "      <td>R-MS</td>\n",
       "      <td>Yes</td>\n",
       "    </tr>\n",
       "    <tr>\n",
       "      <th>98</th>\n",
       "      <td>Wyden</td>\n",
       "      <td>D-OR</td>\n",
       "      <td>No</td>\n",
       "    </tr>\n",
       "    <tr>\n",
       "      <th>99</th>\n",
       "      <td>Young</td>\n",
       "      <td>R-IN</td>\n",
       "      <td>Yes</td>\n",
       "    </tr>\n",
       "  </tbody>\n",
       "</table>\n",
       "<p>100 rows × 3 columns</p>\n",
       "</div>"
      ],
      "text/plain": [
       "   senators_name initials       votes\n",
       "0      Alexander     R-TN  Not Voting\n",
       "1        Baldwin     D-WI          No\n",
       "2       Barrasso     R-WY         Yes\n",
       "3         Bennet     D-CO          No\n",
       "4      Blackburn     R-TN  Not Voting\n",
       "..           ...      ...         ...\n",
       "95        Warren     D-MA          No\n",
       "96    Whitehouse     D-RI          No\n",
       "97        Wicker     R-MS         Yes\n",
       "98         Wyden     D-OR          No\n",
       "99         Young     R-IN         Yes\n",
       "\n",
       "[100 rows x 3 columns]"
      ]
     },
     "execution_count": 15,
     "metadata": {},
     "output_type": "execute_result"
    }
   ],
   "source": [
    "import pandas as pd\n",
    "df = pd.DataFrame(voting_data)\n",
    "df"
   ]
  },
  {
   "cell_type": "code",
   "execution_count": 16,
   "metadata": {},
   "outputs": [
    {
     "data": {
      "text/plain": [
       "votes     \n",
       "Yes           55\n",
       "No            42\n",
       "Not Voting     3\n",
       "dtype: int64"
      ]
     },
     "execution_count": 16,
     "metadata": {},
     "output_type": "execute_result"
    }
   ],
   "source": [
    "df[['votes']].value_counts()"
   ]
  },
  {
   "cell_type": "code",
   "execution_count": 17,
   "metadata": {},
   "outputs": [],
   "source": [
    "df.to_csv('voting_data.csv', sep = ',', header = True, index=False)"
   ]
  },
  {
   "cell_type": "markdown",
   "metadata": {},
   "source": [
    "2. Напишите regex для извлечения имени каждого сенатора из разделов \"За\" и \"Против\"."
   ]
  },
  {
   "cell_type": "code",
   "execution_count": 18,
   "metadata": {},
   "outputs": [],
   "source": [
    "# это решилось гораздо проще, но регулярки оставлю на потом"
   ]
  },
  {
   "cell_type": "markdown",
   "metadata": {},
   "source": [
    "**Объяснение regex:** `'\\)(.*?)\\s\\('`)\n",
    "\n",
    "Я заметил, что имена были перечислены между скобками, например, `...)Barrasso (R...`. Поэтому я решил искать текст между скобками с пробелом перед открытыми скобками, т.е. `)abc (`. \n",
    "\n",
    "Регекс-поиск возвращает список всех совпадений со следующим условием: совпадает любая строка любой длины, которая идет после \")\", но до \" (\".\n",
    "\n",
    "![](https://i.imgur.com/5wiR1jn.png)"
   ]
  },
  {
   "cell_type": "markdown",
   "metadata": {},
   "source": [
    "## 1. Получение данных IMDb\n",
    "\n",
    "В данном случае нас интересует анализ нескольких точек данных об известных актерах и актрисах на сайте IMDb. IMDb предоставляет соответствующие данные, включающие имена, пол и различные награды актеров и актрис. Посетив сайт https://www.imdb.com/list/ls026028927/, вы найдете список самых высокооплачиваемых актеров и актрис. Каждый актер \n",
    "\n",
    "В этом упражнении мы сосредоточимся на автоматизации загрузки данных о каждом актере (с помощью ``запросов''). Сначала, как и для каждого Jupyter Notebook, импортируем необходимые пакеты, которые будем использовать в блокноте (т.е. запустим ячейку ниже)"
   ]
  },
  {
   "cell_type": "code",
   "execution_count": 19,
   "metadata": {},
   "outputs": [],
   "source": [
    "# Мы определяем это для удобства, так как URL каждого актера начинается с этого префикса\n",
    "base_url = 'https://www.imdb.com'\n",
    "extension = '/list/ls026028927/'"
   ]
  },
  {
   "cell_type": "markdown",
   "metadata": {},
   "source": [
    "Здесь мы получаем веб -страницу и строим из нее объект BeautifulSoup (HTML -анализатор)."
   ]
  },
  {
   "cell_type": "code",
   "execution_count": null,
   "metadata": {},
   "outputs": [],
   "source": [
    "actors_page = requests.get(base_url + extension)\n",
    "bs_page = BeautifulSoup(actors_page.content, \"html.parser\")\n",
    "bs_page"
   ]
  },
  {
   "cell_type": "markdown",
   "metadata": {},
   "source": [
    "<div class='exercise'><b> Exercise 1.1:</b>\n",
    "    \n",
    "В ячейке ниже напишите код, который использует объект BeautifulSoup для разбора главной страницы, чтобы извлечь **ссылку и зарплату** для каждого актера. В частности, заполните словарь `info`, задав для каждого ключа имя актера, а для значения - **словарь данных**, с ключами `url` и `salary`. После завершения работы в словаре `info` будет 30 ключей. Например, внутри `info` одна из пар <ключ-значение> должна быть такой:\n",
    "\n",
    "``'Adam Sandler': {'salary': '$50.5 million',\n",
    "  'url': 'https://www.imdb.com/name/nm0001191'}``\n",
    "\n",
    "**HINT:** Существует _множество_ решений, но вам может показаться, что проще всего использовать регулярное выражение (выражения)\n",
    "</div>\n",
    "\n"
   ]
  },
  {
   "cell_type": "markdown",
   "metadata": {},
   "source": [
    "все находится в тегe **div**, класс **lister-item-content** и актеры нумерованы\n",
    "\n",
    "<!-- <span class=\"lister-item-index unbold text-primary\">2. </span>\n",
    "<a href=\"/name/nm0425005?ref_=nmls_hd\"> Dwayne Johnson -->\n",
    "\n",
    "имена находятся в тегах a\n",
    "\n",
    "тект находтся в тегах p\n",
    "<!-- <p>\n",
    "Dwayne Douglas Johnson, also known as The Rock, was born on May 2, 1972 in Hayward, California. He is the son of <a href=\"/name/nm1696097?ref_=nmls_mkdn\">Ata Johnson</a> (born Feagaimaleata Fitisemanu) and professional wrestler <a href=\"/name/nm0426117?ref_=nmls_mkdn\">Rocky Johnson</a> (born Wayde Douglas Bowles). His father, from Amherst, Nova Scotia, Canada, is black (of Black Nova ...   \n",
    "             </p> -->\n",
    "\n",
    "\n",
    "для начала попробуем получить доступ к первому актеру"
   ]
  },
  {
   "cell_type": "code",
   "execution_count": 21,
   "metadata": {},
   "outputs": [
    {
     "data": {
      "text/plain": [
       "'\\n\\n1. \\n Mark Wahlberg\\n \\n\\n                        Producer |\\n The Fighter\\n \\n\\nAmerican actor Mark Wahlberg is one of a handful of respected entertainers who successfully made the transition from teen pop idol to acclaimed actor. A Best Supporting Actor Oscar nominee for The Departed (2006) who went on to receive positive critical reviews for his performance in The Fighter (...                \\n'"
      ]
     },
     "execution_count": 21,
     "metadata": {},
     "output_type": "execute_result"
    }
   ],
   "source": [
    "first = bs_page.find(\"div\", class_='lister-item-content')\n",
    "first.text"
   ]
  },
  {
   "cell_type": "markdown",
   "metadata": {},
   "source": [
    "Окей, мы получили какие то данные по Mark Wahlberg. Но по видимому, я не захватила весь блок. смотрим:"
   ]
  },
  {
   "cell_type": "code",
   "execution_count": 22,
   "metadata": {},
   "outputs": [],
   "source": [
    "# <div class=\"lister-item mode-detail\" bis_skin_checked=\"1\">\n",
    "#         <div class=\"lister-item-image\" bis_skin_checked=\"1\">\n",
    "# <a href=\"/name/nm0000242/?ref_=nmls_pst\"> <img alt=\"Mark Wahlberg\" height=\"209\" src=\"https://m.media-amazon.com/images/M/MV5BMTU0MTQ4OTMyMV5BMl5BanBnXkFtZTcwMTQxOTY1NA@@._V1_UY209_CR10,0,140,209_AL_.jpg\" width=\"140\">\n",
    "# </a>        </div>\n",
    "#         <div class=\"lister-item-content\" bis_skin_checked=\"1\">\n",
    "#             <h3 class=\"lister-item-header\">\n",
    "#                 <span class=\"lister-item-index unbold text-primary\">1. </span>\n",
    "# <a href=\"/name/nm0000242?ref_=nmls_hd\"> Mark Wahlberg\n",
    "# </a>            </h3>\n",
    "#                 <p class=\"text-muted text-small\">\n",
    "#                         Producer <span class=\"ghost\">|</span>\n",
    "# <a href=\"/title/tt0964517/?ref_=nmls_kf\"> The Fighter\n",
    "# </a>                </p>\n",
    "#                 <p>\n",
    "# American actor Mark Wahlberg is one of a handful of respected entertainers who successfully made the transition from teen pop idol to acclaimed actor. A Best Supporting Actor Oscar nominee for <a href=\"/title/tt0407887?ref_=nmls_mkdn\">Отступники</a> (2006) who went on to receive ...                </p>\n",
    "#         </div>\n",
    "#         <div class=\"clear\" bis_skin_checked=\"1\"></div>\n",
    "# <div class=\"list-description\" bis_skin_checked=\"1\"><p>$68 million</p></div>    </div>"
   ]
  },
  {
   "cell_type": "code",
   "execution_count": 23,
   "metadata": {},
   "outputs": [
    {
     "data": {
      "text/plain": [
       "<div class=\"lister-item mode-detail\">\n",
       "<div class=\"lister-item-image\">\n",
       "<a href=\"/name/nm0000242/\"> <img alt=\"Mark Wahlberg\" height=\"209\" src=\"https://m.media-amazon.com/images/M/MV5BMTU0MTQ4OTMyMV5BMl5BanBnXkFtZTcwMTQxOTY1NA@@._V1_UY209_CR10,0,140,209_AL_.jpg\" width=\"140\"/>\n",
       "</a> </div>\n",
       "<div class=\"lister-item-content\">\n",
       "<h3 class=\"lister-item-header\">\n",
       "<span class=\"lister-item-index unbold text-primary\">1. </span>\n",
       "<a href=\"/name/nm0000242\"> Mark Wahlberg\n",
       "</a> </h3>\n",
       "<p class=\"text-muted text-small\">\n",
       "                        Producer <span class=\"ghost\">|</span>\n",
       "<a href=\"/title/tt0964517/\"> The Fighter\n",
       "</a> </p>\n",
       "<p>\n",
       "American actor Mark Wahlberg is one of a handful of respected entertainers who successfully made the transition from teen pop idol to acclaimed actor. A Best Supporting Actor Oscar nominee for <a href=\"/title/tt0407887\">The Departed</a> (2006) who went on to receive positive critical reviews for his performance in <a href=\"/title/tt0964517\">The Fighter</a> (...                </p>\n",
       "</div>\n",
       "<div class=\"clear\"></div>\n",
       "<div class=\"list-description\"><p>$68 million</p></div> </div>"
      ]
     },
     "execution_count": 23,
     "metadata": {},
     "output_type": "execute_result"
    }
   ],
   "source": [
    "#  так лучше. где то в конце, мы все таки захватили заработную плату, значит класс мы сейчас определили верно\n",
    "first = bs_page.find(\"div\", class_='lister-item mode-detail')\n",
    "first"
   ]
  },
  {
   "cell_type": "markdown",
   "metadata": {},
   "source": [
    "`info` - это словарь словарей, где ключи это Имена актеров и вложенные в них словари, с ключами `url` и `salary`\n",
    "\n",
    "Вот так: \n",
    "``'Adam Sandler': {'salary': '$50.5 million',\n",
    "  'url': 'https://www.imdb.com/name/nm0001191'}``"
   ]
  },
  {
   "cell_type": "markdown",
   "metadata": {},
   "source": [
    "для url и зарплаты и правда нужно воспользоваться  регулярками, хотя ссылку попробуем извлечь по другому, плюс она состоит из 2 частей, поэтому придется мерджить"
   ]
  },
  {
   "cell_type": "markdown",
   "metadata": {},
   "source": [
    "# Актер или актриса"
   ]
  },
  {
   "cell_type": "code",
   "execution_count": 24,
   "metadata": {},
   "outputs": [
    {
     "data": {
      "text/plain": [
       "'Producer'"
      ]
     },
     "execution_count": 24,
     "metadata": {},
     "output_type": "execute_result"
    }
   ],
   "source": [
    "# h3 p text-muted text-small\n",
    "credits = first.find('p', class_= 'text-muted text-small')\n",
    "credits = credits.text.strip().split()[0]\n",
    "credits"
   ]
  },
  {
   "cell_type": "markdown",
   "metadata": {},
   "source": [
    "# ССылка"
   ]
  },
  {
   "cell_type": "code",
   "execution_count": 25,
   "metadata": {},
   "outputs": [
    {
     "data": {
      "text/plain": [
       "'https://www.imdb.com/name/nm0000242/'"
      ]
     },
     "execution_count": 25,
     "metadata": {},
     "output_type": "execute_result"
    }
   ],
   "source": [
    "#  <a href=\"/name/nm0000242/?ref_=nmls_pst\"> <img alt=\"Mark Wahlberg\" \n",
    "link_part2 = first.find('a')['href']\n",
    "# окей, дернули из содержимого предыдущего поиска часть нашей ссылки\n",
    "# конкатенируем с базой и проверяем\n",
    "link = base_url+link_part2 \n",
    "link\n",
    "# отлично, ссылка рабочая, ведет куда нужно\n"
   ]
  },
  {
   "cell_type": "markdown",
   "metadata": {},
   "source": [
    "# Зарплата"
   ]
  },
  {
   "cell_type": "code",
   "execution_count": 26,
   "metadata": {},
   "outputs": [
    {
     "data": {
      "text/plain": [
       "'$68 million'"
      ]
     },
     "execution_count": 26,
     "metadata": {},
     "output_type": "execute_result"
    }
   ],
   "source": [
    "# <div class=\"list-description\"><p>$68 million</p></div> </div>\n",
    "salary = first.find('div', class_= 'list-description')\n",
    "salary.text\n",
    "# ура. С даступом мы разобрались\n"
   ]
  },
  {
   "cell_type": "markdown",
   "metadata": {},
   "source": [
    "# Имя"
   ]
  },
  {
   "cell_type": "code",
   "execution_count": 27,
   "metadata": {},
   "outputs": [
    {
     "data": {
      "text/plain": [
       "'Mark Wahlberg'"
      ]
     },
     "execution_count": 27,
     "metadata": {},
     "output_type": "execute_result"
    }
   ],
   "source": [
    "# дословно найти в теге h3 классе lister-item-header тег а, из которого взять текст и на всякий случай сплитнуть пробелы\n",
    "name = first.find('h3', class_='lister-item-header').find('a').text.strip()\n",
    "name"
   ]
  },
  {
   "cell_type": "markdown",
   "metadata": {},
   "source": [
    "# Теперь наша задача сделать так чтобы оно находило все записи через find all и проделывало то что мы делали вручную"
   ]
  },
  {
   "cell_type": "code",
   "execution_count": null,
   "metadata": {},
   "outputs": [],
   "source": [
    "# получим доступ ко всем блокам всех актеров и сохраним их в список\n",
    "actors_list_not_cleaned = bs_page.find_all(\"div\", class_='lister-item mode-detail')\n",
    "#  так мы все получили. теперь это список объектов по которым мы будем итерировать\n",
    "actors_list_not_cleaned[2]\n"
   ]
  },
  {
   "cell_type": "code",
   "execution_count": 29,
   "metadata": {},
   "outputs": [],
   "source": [
    "actors_names =  []\n",
    "urls = []\n",
    "salarys_millions = []\n",
    "position_list= []\n",
    "for item in actors_list_not_cleaned:\n",
    "    # нам нужно имя\n",
    "    name = item.find('h3', class_='lister-item-header').find('a').text.strip()\n",
    "    actors_names.append(name)\n",
    "    # нам нужно понять кто он такой и как себя позиционирует\n",
    "    position = item.find('p', class_= 'text-muted text-small').text.strip().split()[0]\n",
    "    position_list.append(position)\n",
    "    # нам нужна ссылка\n",
    "    link = base_url + item.find('a')['href']\n",
    "    urls.append(link)\n",
    "    # нам нужна зарплата\n",
    "    salary = item.find('div', class_= 'list-description').text # зп\n",
    "    salarys_millions.append(salary)\n",
    "    \n",
    "    "
   ]
  },
  {
   "cell_type": "code",
   "execution_count": 30,
   "metadata": {},
   "outputs": [
    {
     "name": "stdout",
     "output_type": "stream",
     "text": [
      "['Mark Wahlberg', 'Dwayne Johnson', 'Vin Diesel', 'Adam Sandler', 'Jackie Chan', 'Robert Downey Jr.', 'Tom Cruise', 'Shah Rukh Khan', 'Salman Khan', 'Akshay Kumar', 'Chris Hemsworth', 'Tom Hanks', 'Samuel L. Jackson', 'Ryan Gosling', 'Emma Stone', 'Jennifer Aniston', 'Jennifer Lawrence', 'Ryan Reynolds', 'Matt Damon', 'Jeremy Renner', 'Chris Evans', 'Melissa McCarthy', 'Chris Pratt', 'Mila Kunis', 'Emma Watson', 'Charlize Theron', 'Mark Ruffalo', 'Cate Blanchett', 'Julia Roberts', 'Amy Adams']\n",
      "['https://www.imdb.com/name/nm0000242/', 'https://www.imdb.com/name/nm0425005/', 'https://www.imdb.com/name/nm0004874/', 'https://www.imdb.com/name/nm0001191/', 'https://www.imdb.com/name/nm0000329/', 'https://www.imdb.com/name/nm0000375/', 'https://www.imdb.com/name/nm0000129/', 'https://www.imdb.com/name/nm0451321/', 'https://www.imdb.com/name/nm0006795/', 'https://www.imdb.com/name/nm0474774/', 'https://www.imdb.com/name/nm1165110/', 'https://www.imdb.com/name/nm0000158/', 'https://www.imdb.com/name/nm0000168/', 'https://www.imdb.com/name/nm0331516/', 'https://www.imdb.com/name/nm1297015/', 'https://www.imdb.com/name/nm0000098/', 'https://www.imdb.com/name/nm2225369/', 'https://www.imdb.com/name/nm0005351/', 'https://www.imdb.com/name/nm0000354/', 'https://www.imdb.com/name/nm0719637/', 'https://www.imdb.com/name/nm0262635/', 'https://www.imdb.com/name/nm0565250/', 'https://www.imdb.com/name/nm0695435/', 'https://www.imdb.com/name/nm0005109/', 'https://www.imdb.com/name/nm0914612/', 'https://www.imdb.com/name/nm0000234/', 'https://www.imdb.com/name/nm0749263/', 'https://www.imdb.com/name/nm0000949/', 'https://www.imdb.com/name/nm0000210/', 'https://www.imdb.com/name/nm0010736/']\n",
      "['$68 million', '$65 million', '$54.5 million', '$50.5 million', '$49 million', '$48 million', '$43 million', '$38 million', '$37 million', '$35.5 million', '$31.5 million', '$31 million', '$30.5 million', '$29 million', '$26 million', '$25.5 million', '$24 million', '$21.5 million', '$21 million', '$19 million', '$18 million', '$18 million', '$17 million', '$15.5 million', '$14 million', '$14 million', '$13 million', '$12 million', '$12 million', '$11.5 million']\n",
      "['Producer', 'Actor', 'Actor', 'Actor', 'Actor', 'Actor', 'Actor', 'Actor', 'Actor', 'Actor', 'Actor', 'Producer', 'Actor', 'Actor', 'Actress', 'Actress', 'Actress', 'Actor', 'Actor', 'Actor', 'Actor', 'Actress', 'Actor', 'Actress', 'Actress', 'Producer', 'Actor', 'Actress', 'Actress', 'Actress']\n"
     ]
    }
   ],
   "source": [
    "print(actors_names)\n",
    "print(urls)\n",
    "print(salarys_millions)\n",
    "print(position_list)"
   ]
  },
  {
   "cell_type": "markdown",
   "metadata": {},
   "source": [
    "Сразу пробежимся по списук зарплат удалим значки доллара и все что не цифры"
   ]
  },
  {
   "cell_type": "code",
   "execution_count": 31,
   "metadata": {},
   "outputs": [],
   "source": [
    "# Поступим как чайники и просто реплейснем все слова так как они одинаковы , ну и значки доллара\n",
    "salarys_millions = [salary.replace('$', '').replace('million', '').strip() for salary in salarys_millions]\n",
    "# Вывод очищенного спискаprint(salarys_cleaned)\n",
    "# salarys_millions"
   ]
  },
  {
   "cell_type": "markdown",
   "metadata": {},
   "source": [
    "# Так как нигде нет пола, будем хитрить. если Actor и Produser - male,  иначе female"
   ]
  },
  {
   "cell_type": "code",
   "execution_count": 32,
   "metadata": {},
   "outputs": [],
   "source": [
    "sex_list = []\n",
    "for item in position_list:\n",
    "    if item == 'Producer' or item == 'Actor':\n",
    "        sex_list.append('male')\n",
    "    else:\n",
    "        sex_list.append('female')\n",
    "        \n"
   ]
  },
  {
   "cell_type": "markdown",
   "metadata": {},
   "source": [
    "# Время собрать все в словари"
   ]
  },
  {
   "cell_type": "code",
   "execution_count": 33,
   "metadata": {},
   "outputs": [],
   "source": [
    "# actors_dict = {'actors_name': name, 'salary': salary, 'url': url}\n",
    "# это будет наш список словарей\n",
    "actors_data=[]\n",
    "for name, sex, position, salary, url in zip(actors_names, sex_list, position_list, salarys_millions, urls):\n",
    "    # добавить в список словарь переменным значениям которого будут присваиваться текущие значения итерируемых переменных\n",
    "    actors_data.append({'actors_name': name, 'sex': sex, 'position': position,'salary': salary, 'url': url})"
   ]
  },
  {
   "cell_type": "code",
   "execution_count": 34,
   "metadata": {},
   "outputs": [
    {
     "data": {
      "text/plain": [
       "{'actors_name': 'Dwayne Johnson',\n",
       " 'sex': 'male',\n",
       " 'position': 'Actor',\n",
       " 'salary': '65',\n",
       " 'url': 'https://www.imdb.com/name/nm0425005/'}"
      ]
     },
     "execution_count": 34,
     "metadata": {},
     "output_type": "execute_result"
    }
   ],
   "source": [
    "#  так как это список словарей, можем посмотреть на какой то конкретный элемент по индексу\n",
    "actors_data[1]\n"
   ]
  },
  {
   "cell_type": "code",
   "execution_count": 35,
   "metadata": {},
   "outputs": [
    {
     "data": {
      "text/plain": [
       "'Dwayne Johnson'"
      ]
     },
     "execution_count": 35,
     "metadata": {},
     "output_type": "execute_result"
    }
   ],
   "source": [
    "#  так как внутри у нас в любом элементе списка есть словарь, к его элементам можно обращаться по ключу\n",
    "actors_data[1]['actors_name']"
   ]
  },
  {
   "cell_type": "code",
   "execution_count": 36,
   "metadata": {},
   "outputs": [
    {
     "data": {
      "text/html": [
       "<div>\n",
       "<style scoped>\n",
       "    .dataframe tbody tr th:only-of-type {\n",
       "        vertical-align: middle;\n",
       "    }\n",
       "\n",
       "    .dataframe tbody tr th {\n",
       "        vertical-align: top;\n",
       "    }\n",
       "\n",
       "    .dataframe thead th {\n",
       "        text-align: right;\n",
       "    }\n",
       "</style>\n",
       "<table border=\"1\" class=\"dataframe\">\n",
       "  <thead>\n",
       "    <tr style=\"text-align: right;\">\n",
       "      <th></th>\n",
       "      <th>actors_name</th>\n",
       "      <th>sex</th>\n",
       "      <th>position</th>\n",
       "      <th>salary</th>\n",
       "      <th>url</th>\n",
       "    </tr>\n",
       "  </thead>\n",
       "  <tbody>\n",
       "    <tr>\n",
       "      <th>0</th>\n",
       "      <td>Mark Wahlberg</td>\n",
       "      <td>male</td>\n",
       "      <td>Producer</td>\n",
       "      <td>68</td>\n",
       "      <td>https://www.imdb.com/name/nm0000242/</td>\n",
       "    </tr>\n",
       "    <tr>\n",
       "      <th>1</th>\n",
       "      <td>Dwayne Johnson</td>\n",
       "      <td>male</td>\n",
       "      <td>Actor</td>\n",
       "      <td>65</td>\n",
       "      <td>https://www.imdb.com/name/nm0425005/</td>\n",
       "    </tr>\n",
       "    <tr>\n",
       "      <th>2</th>\n",
       "      <td>Vin Diesel</td>\n",
       "      <td>male</td>\n",
       "      <td>Actor</td>\n",
       "      <td>54.5</td>\n",
       "      <td>https://www.imdb.com/name/nm0004874/</td>\n",
       "    </tr>\n",
       "    <tr>\n",
       "      <th>3</th>\n",
       "      <td>Adam Sandler</td>\n",
       "      <td>male</td>\n",
       "      <td>Actor</td>\n",
       "      <td>50.5</td>\n",
       "      <td>https://www.imdb.com/name/nm0001191/</td>\n",
       "    </tr>\n",
       "    <tr>\n",
       "      <th>4</th>\n",
       "      <td>Jackie Chan</td>\n",
       "      <td>male</td>\n",
       "      <td>Actor</td>\n",
       "      <td>49</td>\n",
       "      <td>https://www.imdb.com/name/nm0000329/</td>\n",
       "    </tr>\n",
       "  </tbody>\n",
       "</table>\n",
       "</div>"
      ],
      "text/plain": [
       "      actors_name   sex  position salary                                   url\n",
       "0   Mark Wahlberg  male  Producer     68  https://www.imdb.com/name/nm0000242/\n",
       "1  Dwayne Johnson  male     Actor     65  https://www.imdb.com/name/nm0425005/\n",
       "2      Vin Diesel  male     Actor   54.5  https://www.imdb.com/name/nm0004874/\n",
       "3    Adam Sandler  male     Actor   50.5  https://www.imdb.com/name/nm0001191/\n",
       "4     Jackie Chan  male     Actor     49  https://www.imdb.com/name/nm0000329/"
      ]
     },
     "execution_count": 36,
     "metadata": {},
     "output_type": "execute_result"
    }
   ],
   "source": [
    "# проверим. красота\n",
    "act_data = pd.DataFrame(actors_data)\n",
    "act_data.head()"
   ]
  },
  {
   "cell_type": "markdown",
   "metadata": {},
   "source": [
    "# Усложним задачу. изучим краткое инфа по актеру и разберемся, что можно еще вытащить\n",
    "у каждого актера есть минибио, которое находится по ссылке на него. нужно просмотреть все ли там одинаково, ибо есть еще одна чать ссылки\n",
    "\n",
    "после нее доставляется третья часть `bio/?ref_=nm_ov_bio_sm`"
   ]
  },
  {
   "cell_type": "code",
   "execution_count": 37,
   "metadata": {},
   "outputs": [
    {
     "data": {
      "text/html": [
       "<div>\n",
       "<style scoped>\n",
       "    .dataframe tbody tr th:only-of-type {\n",
       "        vertical-align: middle;\n",
       "    }\n",
       "\n",
       "    .dataframe tbody tr th {\n",
       "        vertical-align: top;\n",
       "    }\n",
       "\n",
       "    .dataframe thead th {\n",
       "        text-align: right;\n",
       "    }\n",
       "</style>\n",
       "<table border=\"1\" class=\"dataframe\">\n",
       "  <thead>\n",
       "    <tr style=\"text-align: right;\">\n",
       "      <th></th>\n",
       "      <th>actors_name</th>\n",
       "      <th>sex</th>\n",
       "      <th>position</th>\n",
       "      <th>salary</th>\n",
       "      <th>url</th>\n",
       "      <th>short_bio_url</th>\n",
       "    </tr>\n",
       "  </thead>\n",
       "  <tbody>\n",
       "    <tr>\n",
       "      <th>0</th>\n",
       "      <td>Mark Wahlberg</td>\n",
       "      <td>male</td>\n",
       "      <td>Producer</td>\n",
       "      <td>68</td>\n",
       "      <td>https://www.imdb.com/name/nm0000242/</td>\n",
       "      <td>https://www.imdb.com/name/nm0000242/bio/?ref_=...</td>\n",
       "    </tr>\n",
       "    <tr>\n",
       "      <th>1</th>\n",
       "      <td>Dwayne Johnson</td>\n",
       "      <td>male</td>\n",
       "      <td>Actor</td>\n",
       "      <td>65</td>\n",
       "      <td>https://www.imdb.com/name/nm0425005/</td>\n",
       "      <td>https://www.imdb.com/name/nm0425005/bio/?ref_=...</td>\n",
       "    </tr>\n",
       "    <tr>\n",
       "      <th>2</th>\n",
       "      <td>Vin Diesel</td>\n",
       "      <td>male</td>\n",
       "      <td>Actor</td>\n",
       "      <td>54.5</td>\n",
       "      <td>https://www.imdb.com/name/nm0004874/</td>\n",
       "      <td>https://www.imdb.com/name/nm0004874/bio/?ref_=...</td>\n",
       "    </tr>\n",
       "    <tr>\n",
       "      <th>3</th>\n",
       "      <td>Adam Sandler</td>\n",
       "      <td>male</td>\n",
       "      <td>Actor</td>\n",
       "      <td>50.5</td>\n",
       "      <td>https://www.imdb.com/name/nm0001191/</td>\n",
       "      <td>https://www.imdb.com/name/nm0001191/bio/?ref_=...</td>\n",
       "    </tr>\n",
       "    <tr>\n",
       "      <th>4</th>\n",
       "      <td>Jackie Chan</td>\n",
       "      <td>male</td>\n",
       "      <td>Actor</td>\n",
       "      <td>49</td>\n",
       "      <td>https://www.imdb.com/name/nm0000329/</td>\n",
       "      <td>https://www.imdb.com/name/nm0000329/bio/?ref_=...</td>\n",
       "    </tr>\n",
       "  </tbody>\n",
       "</table>\n",
       "</div>"
      ],
      "text/plain": [
       "      actors_name   sex  position salary  \\\n",
       "0   Mark Wahlberg  male  Producer     68   \n",
       "1  Dwayne Johnson  male     Actor     65   \n",
       "2      Vin Diesel  male     Actor   54.5   \n",
       "3    Adam Sandler  male     Actor   50.5   \n",
       "4     Jackie Chan  male     Actor     49   \n",
       "\n",
       "                                    url  \\\n",
       "0  https://www.imdb.com/name/nm0000242/   \n",
       "1  https://www.imdb.com/name/nm0425005/   \n",
       "2  https://www.imdb.com/name/nm0004874/   \n",
       "3  https://www.imdb.com/name/nm0001191/   \n",
       "4  https://www.imdb.com/name/nm0000329/   \n",
       "\n",
       "                                       short_bio_url  \n",
       "0  https://www.imdb.com/name/nm0000242/bio/?ref_=...  \n",
       "1  https://www.imdb.com/name/nm0425005/bio/?ref_=...  \n",
       "2  https://www.imdb.com/name/nm0004874/bio/?ref_=...  \n",
       "3  https://www.imdb.com/name/nm0001191/bio/?ref_=...  \n",
       "4  https://www.imdb.com/name/nm0000329/bio/?ref_=...  "
      ]
     },
     "execution_count": 37,
     "metadata": {},
     "output_type": "execute_result"
    }
   ],
   "source": [
    "# Забьем это в наш датафрейм на всякий случай)\n",
    "act_data['short_bio_url'] = act_data['url']+'bio/?ref_=nm_ov_bio_sm'\n",
    "act_data.head()"
   ]
  },
  {
   "cell_type": "markdown",
   "metadata": {},
   "source": [
    "**На каждой странице есть краткое Overview**\n",
    "\n",
    "Born June 5, 1971 · Dorchester, Boston, Massachusetts, USA\n",
    "\n",
    "Birth name Mark Robert Michael Wahlberg\n",
    "\n",
    "Nicknames Marky MarkMonk D\n",
    "\n",
    "Height 1.73 m\n",
    "\n",
    "***В конце состав семьи и иное ***\n",
    "\n",
    "**Посмотрим сначала на Overview, который на странице выглядит примерно так (структура не сохранена)**"
   ]
  },
  {
   "cell_type": "code",
   "execution_count": 38,
   "metadata": {},
   "outputs": [],
   "source": [
    "# <div data-testid=\"sub-section-overview\" class=\"sc-f65f65be-0 fVkLRr\" bis_skin_checked=\"1\"><ul class=\"ipc-metadata-list ipc-metadata-list--dividers-between sc-c1dc6938-0 czYoHO meta-data-list-full ipc-metadata-list--base\" role=\"presentation\">\n",
    "# <li role=\"presentation\" class=\"ipc-metadata-list__item\" id=\"born\" data-testid=\"list-item\"><span class=\"ipc-metadata-list-item__label\" aria-disabled=\"false\">Born</span><div class=\"ipc-metadata-list-item__content-container\" bis_skin_checked=\"1\">\n",
    "# <div class=\"ipc-html-content ipc-html-content--base ipc-html-content--display-inline\" role=\"presentation\" bis_skin_checked=\"1\">\n",
    "# <div class=\"ipc-html-content-inner-div\" bis_skin_checked=\"1\"><a href=\"/search/name/?birth_monthday=6-5&amp;refine=birth_monthday&amp;ref_=nmbio_ov_born_monthday\">June 5</a>, \n",
    "# <a href=\"/search/name/?birth_year=1971&amp;ref_=nmbio_ov_born_year\">1971</a> · <a href=\"/search/name/?birth_place=Dorchester, Boston, Massachusetts, USA&amp;ref_=nmbio_ov_born_location\">Dorchester, Boston, Massachusetts, USA</a>\n",
    "# </div></div></div></li><li role=\"presentation\" class=\"ipc-metadata-list__item\" id=\"name\" data-testid=\"list-item\"><span class=\"ipc-metadata-list-item__label\" aria-disabled=\"false\">Birth name</span><div class=\"ipc-metadata-list-item__content-container\" bis_skin_checked=\"1\"\n",
    "# <div class=\"ipc-html-content ipc-html-content--base ipc-html-content--display-inline\" role=\"presentation\" bis_skin_checked=\"1\"><div class=\"ipc-html-content-inner-div\" bis_skin_checked=\"1\">Mark Robert Michael Wahlberg</div>\n",
    "# </div></div></li><li role=\"presentation\" class=\"ipc-metadata-list__item\" id=\"nicknames\" data-testid=\"list-item\"><span class=\"ipc-metadata-list-item__label\" aria-disabled=\"false\">Nicknames</span><div class=\"ipc-metadata-list-item__content-container\" bis_skin_checked=\"1\">\n",
    "# <ul class=\"ipc-inline-list ipc-inline-list--show-dividers ipc-inline-list--inline ipc-metadata-list-item__list-content base\" role=\"presentation\"><li role=\"presentation\" class=\"ipc-inline-list__item\"><span class=\"ipc-metadata-list-item__list-content-item\" aria-disabled=\"false\">Marky Mark</span></li>\n",
    "# <li role=\"presentation\" class=\"ipc-inline-list__item\"><span class=\"ipc-metadata-list-item__list-content-item\" aria-disabled=\"false\">Monk D</span></li></ul><div class=\"ipc-html-content ipc-html-content--base ipc-html-content--display-inline\" role=\"presentation\" bis_skin_checked=\"1\"></div>\n",
    "# </div></li><li role=\"presentation\" class=\"ipc-metadata-list__item\" id=\"height\" data-testid=\"list-item\"><span class=\"ipc-metadata-list-item__label\" aria-disabled=\"false\">Height</span><div class=\"ipc-metadata-list-item__content-container\" bis_skin_checked=\"1\">\n",
    "# <div class=\"ipc-html-content ipc-html-content--base ipc-html-content--display-inline\" role=\"presentation\" bis_skin_checked=\"1\"><div class=\"ipc-html-content-inner-div\" bis_skin_checked=\"1\">1.73 m</div></div></div></li></ul></div>"
   ]
  },
  {
   "cell_type": "code",
   "execution_count": 39,
   "metadata": {},
   "outputs": [
    {
     "data": {
      "text/plain": [
       "<html>\n",
       "<head><title>403 Forbidden</title></head>\n",
       "<body>\n",
       "<center><h1>403 Forbidden</h1></center>\n",
       "</body>\n",
       "</html>"
      ]
     },
     "execution_count": 39,
     "metadata": {},
     "output_type": "execute_result"
    }
   ],
   "source": [
    "# получим контент нужного элемента пока одного конкатенируя ссылку со словаря которые мы спарсили с третьей частью\n",
    "Mark_Wahlberg_page = requests.get(urls[0]+'bio/?ref_=nm_ov_bio_sm')\n",
    "MW_bs_page = BeautifulSoup(Mark_Wahlberg_page.content, \"html.parser\")\n",
    "MW_bs_page\n",
    "# получаем 403. чиним\n"
   ]
  },
  {
   "cell_type": "code",
   "execution_count": null,
   "metadata": {},
   "outputs": [],
   "source": [
    "headers = {\n",
    "    'User-Agent': 'Mozilla/5.0 (Windows NT 10.0; Win64; x64) AppleWebKit/537.36 (KHTML, like Gecko) Chrome/114.0.0.0 Safari/537.36'\n",
    "}\n",
    "Mark_Wahlberg_page = requests.get(urls[0]+'bio/?ref_=nm_ov_bio_sm', headers = headers)\n",
    "MW_bs_page = BeautifulSoup(Mark_Wahlberg_page.content, \"html.parser\")\n",
    "MW_bs_page\n",
    "# отлично"
   ]
  },
  {
   "cell_type": "markdown",
   "metadata": {},
   "source": [
    "<div class='exercise'><b> Exercise 1.2:</b>\n",
    "    \n",
    "В ячейке ниже напишите код, который использует объект BeautifulSoup для разбора url каждого актера, чтобы извлечь эти дополнительные переменные и добавить их в `info`:\n",
    "- birth date\n",
    "- sex\n",
    "- height\n",
    "- producer credits\n",
    "- actor credits\n",
    "- soundtrack credits\n",
    "- composer credits\n",
    "- award wins\n",
    "- award nominations\n",
    "\n",
    "Сохраните это в виде фрейма данных Pandas с именем `df`, где каждая строка представляет конкретного актера. Проверьте `df.shape`: у вас должно быть 30 строк и 11 столбцов.\n",
    "\n",
    "**HINT:** Чтобы получить информацию о победах и номинациях, вы можете добавить `'/awards'` к вашему url и запросить эту ссылку. Не забывайте об ответственном подходе к порсингу!\n",
    "\n",
    "**HINT:** Актерские кредиты перечислены в разделе \"Актер\" для мужчин и \"Актриса\" для женщин. Убедитесь, что вы спарсили правильно.\n",
    "\n",
    "</div>"
   ]
  },
  {
   "cell_type": "code",
   "execution_count": 41,
   "metadata": {},
   "outputs": [
    {
     "data": {
      "text/plain": [
       "'OverviewBornJune 5, 1971 · Dorchester, Boston, Massachusetts, USABirth nameMark Robert Michael WahlbergNicknamesMarky MarkMonk DHeight5′ 8″ (1.73 m)'"
      ]
     },
     "execution_count": 41,
     "metadata": {},
     "output_type": "execute_result"
    }
   ],
   "source": [
    "# Найти элемент со всей необходимой информацией\n",
    "section_element = MW_bs_page.find('section', class_='ipc-page-section--base')\n",
    "section_element.text"
   ]
  },
  {
   "cell_type": "code",
   "execution_count": 42,
   "metadata": {},
   "outputs": [],
   "source": [
    "# # Вся нужная нам информация о рождении есть в теге  div, класса ipc-html-content-inner-div, теге а href\n",
    "# block_info = MW_bs_page.find('div', class_='ipc-html-content-inner-div').find_all('a')\n",
    "# for item in block_info:\n",
    "#     print(item.text)\n",
    "# "
   ]
  },
  {
   "cell_type": "code",
   "execution_count": 43,
   "metadata": {},
   "outputs": [
    {
     "data": {
      "text/plain": [
       "['June 5', '1971', 'Dorchester, Boston, Massachusetts, USA']"
      ]
     },
     "execution_count": 43,
     "metadata": {},
     "output_type": "execute_result"
    }
   ],
   "source": [
    "# Найти элемент с датой рождения (<li role=\"presentation\" class=\"ipc-metadata-list__item\" id=\"born\" data-testid=\"list-item\">)\n",
    "born_element = section_element.find('li', id='born')\n",
    "# найдем все теги а\n",
    "born_date_place = born_element.find_all('a')\n",
    "# проитерируем по стписку в котором хранятся все теги а этого блока и сохраним его в список \n",
    "dates_and_place = [date.text for date in born_date_place]\n",
    "# проверка\n",
    "dates_and_place"
   ]
  },
  {
   "cell_type": "code",
   "execution_count": 44,
   "metadata": {},
   "outputs": [
    {
     "data": {
      "text/plain": [
       "'Mark Robert Michael Wahlberg'"
      ]
     },
     "execution_count": 44,
     "metadata": {},
     "output_type": "execute_result"
    }
   ],
   "source": [
    "\n",
    "# Найти элемент с именем при рождении\n",
    "birth_name_element = section_element.find('li', id='name')\n",
    "birth_name = birth_name_element.find('div', class_='ipc-html-content-inner-div').text\n",
    "birth_name"
   ]
  },
  {
   "cell_type": "code",
   "execution_count": 45,
   "metadata": {},
   "outputs": [
    {
     "data": {
      "text/plain": [
       "['Marky Mark', 'Monk D']"
      ]
     },
     "execution_count": 45,
     "metadata": {},
     "output_type": "execute_result"
    }
   ],
   "source": [
    "# Найти элементы с никнеймами\n",
    "nicknames_element = section_element.find('li', id='nicknames')\n",
    "nicknames_list = nicknames_element.find_all('span', class_='ipc-metadata-list-item__list-content-item')\n",
    "nicknames = [nickname.text for nickname in nicknames_list]\n",
    "nicknames"
   ]
  },
  {
   "cell_type": "code",
   "execution_count": 46,
   "metadata": {},
   "outputs": [],
   "source": [
    "# Найти элемент с ростом\n",
    "height_element = section_element.find('li', id='height')\n",
    "height = height_element.find('div', class_='ipc-html-content-inner-div').text\n"
   ]
  },
  {
   "cell_type": "code",
   "execution_count": 47,
   "metadata": {},
   "outputs": [
    {
     "name": "stdout",
     "output_type": "stream",
     "text": [
      "Дата рождения: ['June 5', '1971', 'Dorchester, Boston, Massachusetts, USA']\n",
      "Имя при рождении: Mark Robert Michael Wahlberg\n",
      "Никнеймы: ['Marky Mark', 'Monk D']\n",
      "Рост: 5′ 8″ (1.73 m)\n"
     ]
    }
   ],
   "source": [
    "# Вывести найденную информацию\n",
    "print(\"Дата рождения:\", dates_and_place)\n",
    "print(\"Имя при рождении:\", birth_name)\n",
    "print(\"Никнеймы:\", nicknames)\n",
    "print(\"Рост:\", height)"
   ]
  },
  {
   "cell_type": "code",
   "execution_count": 48,
   "metadata": {},
   "outputs": [
    {
     "data": {
      "text/html": [
       "<div>\n",
       "<style scoped>\n",
       "    .dataframe tbody tr th:only-of-type {\n",
       "        vertical-align: middle;\n",
       "    }\n",
       "\n",
       "    .dataframe tbody tr th {\n",
       "        vertical-align: top;\n",
       "    }\n",
       "\n",
       "    .dataframe thead th {\n",
       "        text-align: right;\n",
       "    }\n",
       "</style>\n",
       "<table border=\"1\" class=\"dataframe\">\n",
       "  <thead>\n",
       "    <tr style=\"text-align: right;\">\n",
       "      <th></th>\n",
       "      <th>actors_name</th>\n",
       "      <th>sex</th>\n",
       "      <th>position</th>\n",
       "      <th>salary</th>\n",
       "      <th>url</th>\n",
       "      <th>short_bio_url</th>\n",
       "    </tr>\n",
       "  </thead>\n",
       "  <tbody>\n",
       "    <tr>\n",
       "      <th>0</th>\n",
       "      <td>Mark Wahlberg</td>\n",
       "      <td>male</td>\n",
       "      <td>Producer</td>\n",
       "      <td>68</td>\n",
       "      <td>https://www.imdb.com/name/nm0000242/</td>\n",
       "      <td>https://www.imdb.com/name/nm0000242/bio/?ref_=...</td>\n",
       "    </tr>\n",
       "  </tbody>\n",
       "</table>\n",
       "</div>"
      ],
      "text/plain": [
       "     actors_name   sex  position salary                                   url  \\\n",
       "0  Mark Wahlberg  male  Producer     68  https://www.imdb.com/name/nm0000242/   \n",
       "\n",
       "                                       short_bio_url  \n",
       "0  https://www.imdb.com/name/nm0000242/bio/?ref_=...  "
      ]
     },
     "execution_count": 48,
     "metadata": {},
     "output_type": "execute_result"
    }
   ],
   "source": [
    "# напоминашка\n",
    "act_data.head(1)"
   ]
  },
  {
   "cell_type": "markdown",
   "metadata": {},
   "source": [
    "# Добавим по всем актерам:"
   ]
  },
  {
   "cell_type": "code",
   "execution_count": 49,
   "metadata": {},
   "outputs": [],
   "source": [
    "birth_date_list = []\n",
    "bitrh_year_list = []\n",
    "place_of_birth_list = []\n",
    "\n",
    "headers = {\n",
    "    'User-Agent': 'Mozilla/5.0 (Windows NT 10.0; Win64; x64) AppleWebKit/537.36 (KHTML, like Gecko) Chrome/114.0.0.0 Safari/537.36'\n",
    "}\n",
    "# наш список urls по нему нужно итерировать получая и итератор (индекс) и сам элемент\n",
    "# когда страница конкретного url извлечена, сразу парсим оттуда все необходимые данные \n",
    "for index, page in enumerate(urls):\n",
    "    current_page = requests.get(urls[index]+'bio/?ref_=nm_ov_bio_sm', headers = headers)\n",
    "    page = BeautifulSoup(current_page.content, \"html.parser\")\n",
    "    # найдем секцию\n",
    "    section = page.find('section', class_='ipc-page-section--base')\n",
    "    # Найти элемент с датой рождения (<li role=\"presentation\" class=\"ipc-metadata-list__item\" id=\"born\" data-testid=\"list-item\">)\n",
    "    born_element = section.find('li', id='born')\n",
    "    # найдем все теги а\n",
    "    born_date_place = born_element.find_all('a')\n",
    "    # проитерируем по стписку в котором хранятся все теги а этого блока и сохраним его в список \n",
    "    dates_and_place = [date.text for date in born_date_place]\n",
    "    # формат ['June 5', '1971', 'Dorchester, Boston, Massachusetts, USA']\n",
    "    birth_date_list.append(dates_and_place[0])\n",
    "    bitrh_year_list.append(dates_and_place[1])  \n",
    "    place_of_birth_list.append(dates_and_place[2])\n",
    "    # Найти элемент с именем при рождении\n",
    " \n"
   ]
  },
  {
   "cell_type": "markdown",
   "metadata": {},
   "source": [
    "# Тестовая ячейка"
   ]
  },
  {
   "cell_type": "code",
   "execution_count": 50,
   "metadata": {},
   "outputs": [],
   "source": [
    "# headers = {\n",
    "#         'User-Agent': 'Mozilla/5.0 (Windows NT 10.0; Win64; x64) AppleWebKit/537.36 (KHTML, like Gecko) Chrome/114.0.0.0 Safari/537.36'\n",
    "#     }\n",
    "# test_page = requests.get(urls[3]+'bio/?ref_=nm_ov_bio_sm', headers = headers)\n",
    "# response = BeautifulSoup(test_page.content, \"html.parser\")\n",
    "#      # отлично\n",
    "#     # Найти элемент со всей необходимой информацией\n",
    "# section_element = response.find('section', class_='ipc-page-section--base')\n",
    "#     # Найти элемент с именем при рождении\n",
    "# birth_name_element = section_element.find('li', id='name')\n",
    "# birth_name = birth_name_element.find('div', class_='ipc-html-content-inner-div').text\n",
    "# # birth_name_list.append(birth_name)\n",
    "    \n",
    "\n",
    "#     # Найти элементы с никнеймами\n",
    "# nicknames_element = section_element.find('li', id='nicknames')\n",
    "# nicknames_list = nicknames_element.find_all('span', class_='ipc-metadata-list-item__list-content-item')\n",
    "# nicknames = [nickname.text for nickname in nicknames_list]\n",
    "# # all_nicknames_list.append(nicknames)\n",
    "   \n",
    "\n",
    "#     # Найти элемент с ростом\n",
    "# height_element = section_element.find('li', id='height')\n",
    "# height = height_element.find('div', class_='ipc-html-content-inner-div').text\n",
    "# # height_list.append(height)\n",
    "#     # Вывести найденную информацию\n",
    "# print(\"Дата рождения:\", dates_and_place)\n",
    "# print(\"Имя при рождении:\", birth_name)\n",
    "# print(\"Никнеймы:\", nicknames)\n",
    "# print(\"Рост:\", height)"
   ]
  },
  {
   "cell_type": "code",
   "execution_count": 51,
   "metadata": {},
   "outputs": [],
   "source": [
    "birth_name_list = []\n",
    "all_nicknames_list =[]\n",
    "height_list = []\n",
    "for index in range(len(urls)):\n",
    "    headers = {\n",
    "        'User-Agent': 'Mozilla/5.0 (Windows NT 10.0; Win64; x64) AppleWebKit/537.36 (KHTML, like Gecko) Chrome/114.0.0.0 Safari/537.36'\n",
    "    }\n",
    "    test_page = requests.get(urls[index]+'bio/?ref_=nm_ov_bio_sm', headers=headers)\n",
    "    response = BeautifulSoup(test_page.content, \"html.parser\")\n",
    "       # Найти элемент со всей необходимой информацией\n",
    "    section_element = response.find('section', class_='ipc-page-section--base')\n",
    "    # Найти элемент с именем при рождении\n",
    "    birth_name_element = section_element.find('li', id='name')\n",
    "    # прикол в том, что вероятно не у всех есть никнеймы, в этом нужно убедится, но оно сильно ругается на find all()\n",
    "    if birth_name_element:\n",
    "        birth_name_div = birth_name_element.find('div', class_='ipc-html-content-inner-div')\n",
    "        if birth_name_div:\n",
    "            birth_name = birth_name_div.text\n",
    "        else:\n",
    "            birth_name = 'No data available'\n",
    "    else:\n",
    "        birth_name = 'No data available'\n",
    "    birth_name_list.append(birth_name)\n",
    "        \n",
    "\n",
    "        # Найти элементы с никнеймами\n",
    "    nicknames_element = section_element.find('li', id='nicknames')\n",
    "    if nicknames_element:\n",
    "        nicknames_list = nicknames_element.find_all('span', class_='ipc-metadata-list-item__list-content-item')\n",
    "        nicknames = [nickname.text for nickname in nicknames_list]\n",
    "        all_nicknames_list.append(nicknames)\n",
    "    else:\n",
    "        all_nicknames_list.append([])\n",
    "    \n",
    "\n",
    "        # Найти элемент с ростом\n",
    "    height_element = section_element.find('li', id='height')\n",
    "    height = height_element.find('div', class_='ipc-html-content-inner-div').text\n",
    "    height_list.append(height)"
   ]
  },
  {
   "cell_type": "markdown",
   "metadata": {},
   "source": [
    "# Добавим все в таблицу\n"
   ]
  },
  {
   "cell_type": "code",
   "execution_count": 52,
   "metadata": {},
   "outputs": [],
   "source": [
    "# act_data.drop('birth_date', axis=1, inplace=True)"
   ]
  },
  {
   "cell_type": "code",
   "execution_count": 53,
   "metadata": {},
   "outputs": [
    {
     "data": {
      "text/html": [
       "<div>\n",
       "<style scoped>\n",
       "    .dataframe tbody tr th:only-of-type {\n",
       "        vertical-align: middle;\n",
       "    }\n",
       "\n",
       "    .dataframe tbody tr th {\n",
       "        vertical-align: top;\n",
       "    }\n",
       "\n",
       "    .dataframe thead th {\n",
       "        text-align: right;\n",
       "    }\n",
       "</style>\n",
       "<table border=\"1\" class=\"dataframe\">\n",
       "  <thead>\n",
       "    <tr style=\"text-align: right;\">\n",
       "      <th></th>\n",
       "      <th>actors_name</th>\n",
       "      <th>sex</th>\n",
       "      <th>position</th>\n",
       "      <th>salary</th>\n",
       "      <th>url</th>\n",
       "      <th>short_bio_url</th>\n",
       "    </tr>\n",
       "  </thead>\n",
       "  <tbody>\n",
       "    <tr>\n",
       "      <th>0</th>\n",
       "      <td>Mark Wahlberg</td>\n",
       "      <td>male</td>\n",
       "      <td>Producer</td>\n",
       "      <td>68</td>\n",
       "      <td>https://www.imdb.com/name/nm0000242/</td>\n",
       "      <td>https://www.imdb.com/name/nm0000242/bio/?ref_=...</td>\n",
       "    </tr>\n",
       "    <tr>\n",
       "      <th>1</th>\n",
       "      <td>Dwayne Johnson</td>\n",
       "      <td>male</td>\n",
       "      <td>Actor</td>\n",
       "      <td>65</td>\n",
       "      <td>https://www.imdb.com/name/nm0425005/</td>\n",
       "      <td>https://www.imdb.com/name/nm0425005/bio/?ref_=...</td>\n",
       "    </tr>\n",
       "  </tbody>\n",
       "</table>\n",
       "</div>"
      ],
      "text/plain": [
       "      actors_name   sex  position salary  \\\n",
       "0   Mark Wahlberg  male  Producer     68   \n",
       "1  Dwayne Johnson  male     Actor     65   \n",
       "\n",
       "                                    url  \\\n",
       "0  https://www.imdb.com/name/nm0000242/   \n",
       "1  https://www.imdb.com/name/nm0425005/   \n",
       "\n",
       "                                       short_bio_url  \n",
       "0  https://www.imdb.com/name/nm0000242/bio/?ref_=...  \n",
       "1  https://www.imdb.com/name/nm0425005/bio/?ref_=...  "
      ]
     },
     "execution_count": 53,
     "metadata": {},
     "output_type": "execute_result"
    }
   ],
   "source": [
    "act_data.head(2)"
   ]
  },
  {
   "cell_type": "code",
   "execution_count": 54,
   "metadata": {},
   "outputs": [],
   "source": [
    "# Проверим длину списков"
   ]
  },
  {
   "cell_type": "code",
   "execution_count": 55,
   "metadata": {},
   "outputs": [
    {
     "name": "stdout",
     "output_type": "stream",
     "text": [
      "30\n",
      "30\n",
      "30\n",
      "30\n",
      "30\n",
      "30\n",
      "30\n"
     ]
    }
   ],
   "source": [
    "print(len(birth_date_list))\n",
    "print(len(bitrh_year_list))\n",
    "print(len(place_of_birth_list))\n",
    "print(len(birth_name_list))\n",
    "print(len(height_list))\n",
    "print(len(all_nicknames_list))\n",
    "print(len(urls)) \n",
    "     "
   ]
  },
  {
   "cell_type": "code",
   "execution_count": 56,
   "metadata": {},
   "outputs": [
    {
     "data": {
      "text/plain": [
       "(30, 6)"
      ]
     },
     "execution_count": 56,
     "metadata": {},
     "output_type": "execute_result"
    }
   ],
   "source": [
    "act_data.shape"
   ]
  },
  {
   "cell_type": "code",
   "execution_count": 57,
   "metadata": {},
   "outputs": [],
   "source": [
    "# act_data.drop('birth_date', axis=1, inplace=True)\n",
    "# act_data.drop('birth_year', axis=1, inplace=True)\n",
    "# act_data.drop('place_of_birth', axis=1, inplace=True)"
   ]
  },
  {
   "cell_type": "code",
   "execution_count": 58,
   "metadata": {},
   "outputs": [],
   "source": [
    "for i, (birth_date, birth_year, place_of_birth) in enumerate(zip(birth_date_list, bitrh_year_list, place_of_birth_list)):\n",
    "    act_data.at[i, 'birth_date'] = birth_date\n",
    "    act_data.at[i, 'birth_year'] = birth_year\n",
    "    act_data.at[i, 'place_of_birth'] = place_of_birth\n",
    "    "
   ]
  },
  {
   "cell_type": "markdown",
   "metadata": {},
   "source": [
    "или"
   ]
  },
  {
   "cell_type": "code",
   "execution_count": 59,
   "metadata": {},
   "outputs": [],
   "source": [
    "# for i, (birth_date, birth_year, place_of_birth) in enumerate(zip(birth_date_list, bitrh_year_list, place_of_birth_list)):\n",
    "#     act_data.loc[i, ['birth_date', 'birth_year', 'place_of_birth']] = birth_date, birth_year, place_of_birth"
   ]
  },
  {
   "cell_type": "code",
   "execution_count": 60,
   "metadata": {},
   "outputs": [
    {
     "data": {
      "text/html": [
       "<div>\n",
       "<style scoped>\n",
       "    .dataframe tbody tr th:only-of-type {\n",
       "        vertical-align: middle;\n",
       "    }\n",
       "\n",
       "    .dataframe tbody tr th {\n",
       "        vertical-align: top;\n",
       "    }\n",
       "\n",
       "    .dataframe thead th {\n",
       "        text-align: right;\n",
       "    }\n",
       "</style>\n",
       "<table border=\"1\" class=\"dataframe\">\n",
       "  <thead>\n",
       "    <tr style=\"text-align: right;\">\n",
       "      <th></th>\n",
       "      <th>actors_name</th>\n",
       "      <th>sex</th>\n",
       "      <th>position</th>\n",
       "      <th>salary</th>\n",
       "      <th>url</th>\n",
       "      <th>short_bio_url</th>\n",
       "      <th>birth_date</th>\n",
       "      <th>birth_year</th>\n",
       "      <th>place_of_birth</th>\n",
       "    </tr>\n",
       "  </thead>\n",
       "  <tbody>\n",
       "    <tr>\n",
       "      <th>0</th>\n",
       "      <td>Mark Wahlberg</td>\n",
       "      <td>male</td>\n",
       "      <td>Producer</td>\n",
       "      <td>68</td>\n",
       "      <td>https://www.imdb.com/name/nm0000242/</td>\n",
       "      <td>https://www.imdb.com/name/nm0000242/bio/?ref_=...</td>\n",
       "      <td>June 5</td>\n",
       "      <td>1971</td>\n",
       "      <td>Dorchester, Boston, Massachusetts, USA</td>\n",
       "    </tr>\n",
       "    <tr>\n",
       "      <th>1</th>\n",
       "      <td>Dwayne Johnson</td>\n",
       "      <td>male</td>\n",
       "      <td>Actor</td>\n",
       "      <td>65</td>\n",
       "      <td>https://www.imdb.com/name/nm0425005/</td>\n",
       "      <td>https://www.imdb.com/name/nm0425005/bio/?ref_=...</td>\n",
       "      <td>May 2</td>\n",
       "      <td>1972</td>\n",
       "      <td>Hayward, California, USA</td>\n",
       "    </tr>\n",
       "    <tr>\n",
       "      <th>2</th>\n",
       "      <td>Vin Diesel</td>\n",
       "      <td>male</td>\n",
       "      <td>Actor</td>\n",
       "      <td>54.5</td>\n",
       "      <td>https://www.imdb.com/name/nm0004874/</td>\n",
       "      <td>https://www.imdb.com/name/nm0004874/bio/?ref_=...</td>\n",
       "      <td>July 18</td>\n",
       "      <td>1967</td>\n",
       "      <td>Alameda County, California, USA</td>\n",
       "    </tr>\n",
       "    <tr>\n",
       "      <th>3</th>\n",
       "      <td>Adam Sandler</td>\n",
       "      <td>male</td>\n",
       "      <td>Actor</td>\n",
       "      <td>50.5</td>\n",
       "      <td>https://www.imdb.com/name/nm0001191/</td>\n",
       "      <td>https://www.imdb.com/name/nm0001191/bio/?ref_=...</td>\n",
       "      <td>September 9</td>\n",
       "      <td>1966</td>\n",
       "      <td>Brooklyn, New York City, New York, USA</td>\n",
       "    </tr>\n",
       "    <tr>\n",
       "      <th>4</th>\n",
       "      <td>Jackie Chan</td>\n",
       "      <td>male</td>\n",
       "      <td>Actor</td>\n",
       "      <td>49</td>\n",
       "      <td>https://www.imdb.com/name/nm0000329/</td>\n",
       "      <td>https://www.imdb.com/name/nm0000329/bio/?ref_=...</td>\n",
       "      <td>April 7</td>\n",
       "      <td>1954</td>\n",
       "      <td>Victoria Peak, Hong Kong</td>\n",
       "    </tr>\n",
       "  </tbody>\n",
       "</table>\n",
       "</div>"
      ],
      "text/plain": [
       "      actors_name   sex  position salary  \\\n",
       "0   Mark Wahlberg  male  Producer     68   \n",
       "1  Dwayne Johnson  male     Actor     65   \n",
       "2      Vin Diesel  male     Actor   54.5   \n",
       "3    Adam Sandler  male     Actor   50.5   \n",
       "4     Jackie Chan  male     Actor     49   \n",
       "\n",
       "                                    url  \\\n",
       "0  https://www.imdb.com/name/nm0000242/   \n",
       "1  https://www.imdb.com/name/nm0425005/   \n",
       "2  https://www.imdb.com/name/nm0004874/   \n",
       "3  https://www.imdb.com/name/nm0001191/   \n",
       "4  https://www.imdb.com/name/nm0000329/   \n",
       "\n",
       "                                       short_bio_url   birth_date birth_year  \\\n",
       "0  https://www.imdb.com/name/nm0000242/bio/?ref_=...       June 5       1971   \n",
       "1  https://www.imdb.com/name/nm0425005/bio/?ref_=...        May 2       1972   \n",
       "2  https://www.imdb.com/name/nm0004874/bio/?ref_=...      July 18       1967   \n",
       "3  https://www.imdb.com/name/nm0001191/bio/?ref_=...  September 9       1966   \n",
       "4  https://www.imdb.com/name/nm0000329/bio/?ref_=...      April 7       1954   \n",
       "\n",
       "                           place_of_birth  \n",
       "0  Dorchester, Boston, Massachusetts, USA  \n",
       "1                Hayward, California, USA  \n",
       "2         Alameda County, California, USA  \n",
       "3  Brooklyn, New York City, New York, USA  \n",
       "4                Victoria Peak, Hong Kong  "
      ]
     },
     "execution_count": 60,
     "metadata": {},
     "output_type": "execute_result"
    }
   ],
   "source": [
    "act_data.head()"
   ]
  },
  {
   "cell_type": "code",
   "execution_count": 61,
   "metadata": {},
   "outputs": [
    {
     "name": "stdout",
     "output_type": "stream",
     "text": [
      "['1.73', '1.96', '1.82', '1.77', '1.72', '1.73', '1.70', '1.69', '1.69', '1.78', '1.91', '1.83', '1.89', '1.84', '1.68', '1.64', '1.75', '1.88', '1.78', '1.74', '1.83', '1.57', '1.88', '1.63', '1.65', '1.77', '1.73', '1.74', '1.73', '1.63']\n"
     ]
    }
   ],
   "source": [
    "# # РОСТ нам нужны метры, так как в других штуках я вообще не але\n",
    "import re\n",
    "cleaned_heights = []\n",
    "\n",
    "for height in height_list:\n",
    "    # пробежимся по листу и поищем то что в скобках\n",
    "    meters = re.findall(r'\\((.*?)\\)', height)\n",
    "    # если находим, то добавляем, а мы находим)\n",
    "    if meters:\n",
    "        cleaned_heights.append(meters[0])\n",
    "# ну и удалим лишние жлементы которые помешают нам преобразовать все в цифры\n",
    "height_list = [str(height).replace('m','').strip() for height in cleaned_heights]\n",
    "print(height_list)"
   ]
  },
  {
   "cell_type": "code",
   "execution_count": 62,
   "metadata": {},
   "outputs": [],
   "source": [
    "for i, (birth_name, height) in enumerate(zip(birth_name_list, height_list)):\n",
    "    act_data.at[i, 'birth_name'] = birth_name\n",
    "    act_data.at[i, 'height'] = height\n",
    "    \n"
   ]
  },
  {
   "cell_type": "code",
   "execution_count": 63,
   "metadata": {},
   "outputs": [
    {
     "data": {
      "text/html": [
       "<div>\n",
       "<style scoped>\n",
       "    .dataframe tbody tr th:only-of-type {\n",
       "        vertical-align: middle;\n",
       "    }\n",
       "\n",
       "    .dataframe tbody tr th {\n",
       "        vertical-align: top;\n",
       "    }\n",
       "\n",
       "    .dataframe thead th {\n",
       "        text-align: right;\n",
       "    }\n",
       "</style>\n",
       "<table border=\"1\" class=\"dataframe\">\n",
       "  <thead>\n",
       "    <tr style=\"text-align: right;\">\n",
       "      <th></th>\n",
       "      <th>actors_name</th>\n",
       "      <th>sex</th>\n",
       "      <th>position</th>\n",
       "      <th>salary</th>\n",
       "      <th>url</th>\n",
       "      <th>short_bio_url</th>\n",
       "      <th>birth_date</th>\n",
       "      <th>birth_year</th>\n",
       "      <th>place_of_birth</th>\n",
       "      <th>birth_name</th>\n",
       "      <th>height</th>\n",
       "    </tr>\n",
       "  </thead>\n",
       "  <tbody>\n",
       "    <tr>\n",
       "      <th>0</th>\n",
       "      <td>Mark Wahlberg</td>\n",
       "      <td>male</td>\n",
       "      <td>Producer</td>\n",
       "      <td>68</td>\n",
       "      <td>https://www.imdb.com/name/nm0000242/</td>\n",
       "      <td>https://www.imdb.com/name/nm0000242/bio/?ref_=...</td>\n",
       "      <td>June 5</td>\n",
       "      <td>1971</td>\n",
       "      <td>Dorchester, Boston, Massachusetts, USA</td>\n",
       "      <td>Mark Robert Michael Wahlberg</td>\n",
       "      <td>1.73</td>\n",
       "    </tr>\n",
       "    <tr>\n",
       "      <th>1</th>\n",
       "      <td>Dwayne Johnson</td>\n",
       "      <td>male</td>\n",
       "      <td>Actor</td>\n",
       "      <td>65</td>\n",
       "      <td>https://www.imdb.com/name/nm0425005/</td>\n",
       "      <td>https://www.imdb.com/name/nm0425005/bio/?ref_=...</td>\n",
       "      <td>May 2</td>\n",
       "      <td>1972</td>\n",
       "      <td>Hayward, California, USA</td>\n",
       "      <td>Dwayne Douglas Johnson</td>\n",
       "      <td>1.96</td>\n",
       "    </tr>\n",
       "    <tr>\n",
       "      <th>2</th>\n",
       "      <td>Vin Diesel</td>\n",
       "      <td>male</td>\n",
       "      <td>Actor</td>\n",
       "      <td>54.5</td>\n",
       "      <td>https://www.imdb.com/name/nm0004874/</td>\n",
       "      <td>https://www.imdb.com/name/nm0004874/bio/?ref_=...</td>\n",
       "      <td>July 18</td>\n",
       "      <td>1967</td>\n",
       "      <td>Alameda County, California, USA</td>\n",
       "      <td>Mark Sinclair</td>\n",
       "      <td>1.82</td>\n",
       "    </tr>\n",
       "    <tr>\n",
       "      <th>3</th>\n",
       "      <td>Adam Sandler</td>\n",
       "      <td>male</td>\n",
       "      <td>Actor</td>\n",
       "      <td>50.5</td>\n",
       "      <td>https://www.imdb.com/name/nm0001191/</td>\n",
       "      <td>https://www.imdb.com/name/nm0001191/bio/?ref_=...</td>\n",
       "      <td>September 9</td>\n",
       "      <td>1966</td>\n",
       "      <td>Brooklyn, New York City, New York, USA</td>\n",
       "      <td>Adam Richard Sandler</td>\n",
       "      <td>1.77</td>\n",
       "    </tr>\n",
       "    <tr>\n",
       "      <th>4</th>\n",
       "      <td>Jackie Chan</td>\n",
       "      <td>male</td>\n",
       "      <td>Actor</td>\n",
       "      <td>49</td>\n",
       "      <td>https://www.imdb.com/name/nm0000329/</td>\n",
       "      <td>https://www.imdb.com/name/nm0000329/bio/?ref_=...</td>\n",
       "      <td>April 7</td>\n",
       "      <td>1954</td>\n",
       "      <td>Victoria Peak, Hong Kong</td>\n",
       "      <td>Kong-sang Chan</td>\n",
       "      <td>1.72</td>\n",
       "    </tr>\n",
       "  </tbody>\n",
       "</table>\n",
       "</div>"
      ],
      "text/plain": [
       "      actors_name   sex  position salary  \\\n",
       "0   Mark Wahlberg  male  Producer     68   \n",
       "1  Dwayne Johnson  male     Actor     65   \n",
       "2      Vin Diesel  male     Actor   54.5   \n",
       "3    Adam Sandler  male     Actor   50.5   \n",
       "4     Jackie Chan  male     Actor     49   \n",
       "\n",
       "                                    url  \\\n",
       "0  https://www.imdb.com/name/nm0000242/   \n",
       "1  https://www.imdb.com/name/nm0425005/   \n",
       "2  https://www.imdb.com/name/nm0004874/   \n",
       "3  https://www.imdb.com/name/nm0001191/   \n",
       "4  https://www.imdb.com/name/nm0000329/   \n",
       "\n",
       "                                       short_bio_url   birth_date birth_year  \\\n",
       "0  https://www.imdb.com/name/nm0000242/bio/?ref_=...       June 5       1971   \n",
       "1  https://www.imdb.com/name/nm0425005/bio/?ref_=...        May 2       1972   \n",
       "2  https://www.imdb.com/name/nm0004874/bio/?ref_=...      July 18       1967   \n",
       "3  https://www.imdb.com/name/nm0001191/bio/?ref_=...  September 9       1966   \n",
       "4  https://www.imdb.com/name/nm0000329/bio/?ref_=...      April 7       1954   \n",
       "\n",
       "                           place_of_birth                    birth_name height  \n",
       "0  Dorchester, Boston, Massachusetts, USA  Mark Robert Michael Wahlberg   1.73  \n",
       "1                Hayward, California, USA        Dwayne Douglas Johnson   1.96  \n",
       "2         Alameda County, California, USA                 Mark Sinclair   1.82  \n",
       "3  Brooklyn, New York City, New York, USA          Adam Richard Sandler   1.77  \n",
       "4                Victoria Peak, Hong Kong                Kong-sang Chan   1.72  "
      ]
     },
     "execution_count": 63,
     "metadata": {},
     "output_type": "execute_result"
    }
   ],
   "source": [
    "act_data.head()"
   ]
  },
  {
   "cell_type": "code",
   "execution_count": 64,
   "metadata": {},
   "outputs": [],
   "source": [
    "# Приводим пустые списки к значению NaN\n",
    "all_nicknames_list = [nicknames if nicknames else np.nan for nicknames in all_nicknames_list]\n",
    "new_list = [str(item).strip('[]').strip(\"'\").strip('\"').replace(\"'\", \"\").replace('\"','') for item in all_nicknames_list]\n",
    "# Добавляем список в столбец nicknames' в act_data\n",
    "act_data['nicknames'] = new_list"
   ]
  },
  {
   "cell_type": "code",
   "execution_count": 65,
   "metadata": {},
   "outputs": [],
   "source": [
    "# act_data.drop('nicknames', axis=1, inplace=True)"
   ]
  },
  {
   "cell_type": "code",
   "execution_count": 66,
   "metadata": {},
   "outputs": [
    {
     "data": {
      "text/html": [
       "<div>\n",
       "<style scoped>\n",
       "    .dataframe tbody tr th:only-of-type {\n",
       "        vertical-align: middle;\n",
       "    }\n",
       "\n",
       "    .dataframe tbody tr th {\n",
       "        vertical-align: top;\n",
       "    }\n",
       "\n",
       "    .dataframe thead th {\n",
       "        text-align: right;\n",
       "    }\n",
       "</style>\n",
       "<table border=\"1\" class=\"dataframe\">\n",
       "  <thead>\n",
       "    <tr style=\"text-align: right;\">\n",
       "      <th></th>\n",
       "      <th>actors_name</th>\n",
       "      <th>sex</th>\n",
       "      <th>position</th>\n",
       "      <th>salary</th>\n",
       "      <th>url</th>\n",
       "      <th>short_bio_url</th>\n",
       "      <th>birth_date</th>\n",
       "      <th>birth_year</th>\n",
       "      <th>place_of_birth</th>\n",
       "      <th>birth_name</th>\n",
       "      <th>height</th>\n",
       "      <th>nicknames</th>\n",
       "    </tr>\n",
       "  </thead>\n",
       "  <tbody>\n",
       "    <tr>\n",
       "      <th>0</th>\n",
       "      <td>Mark Wahlberg</td>\n",
       "      <td>male</td>\n",
       "      <td>Producer</td>\n",
       "      <td>68</td>\n",
       "      <td>https://www.imdb.com/name/nm0000242/</td>\n",
       "      <td>https://www.imdb.com/name/nm0000242/bio/?ref_=...</td>\n",
       "      <td>June 5</td>\n",
       "      <td>1971</td>\n",
       "      <td>Dorchester, Boston, Massachusetts, USA</td>\n",
       "      <td>Mark Robert Michael Wahlberg</td>\n",
       "      <td>1.73</td>\n",
       "      <td>Marky Mark, Monk D</td>\n",
       "    </tr>\n",
       "    <tr>\n",
       "      <th>1</th>\n",
       "      <td>Dwayne Johnson</td>\n",
       "      <td>male</td>\n",
       "      <td>Actor</td>\n",
       "      <td>65</td>\n",
       "      <td>https://www.imdb.com/name/nm0425005/</td>\n",
       "      <td>https://www.imdb.com/name/nm0425005/bio/?ref_=...</td>\n",
       "      <td>May 2</td>\n",
       "      <td>1972</td>\n",
       "      <td>Hayward, California, USA</td>\n",
       "      <td>Dwayne Douglas Johnson</td>\n",
       "      <td>1.96</td>\n",
       "      <td>The Peoples Champion, The Brahma Bull, The Gre...</td>\n",
       "    </tr>\n",
       "  </tbody>\n",
       "</table>\n",
       "</div>"
      ],
      "text/plain": [
       "      actors_name   sex  position salary  \\\n",
       "0   Mark Wahlberg  male  Producer     68   \n",
       "1  Dwayne Johnson  male     Actor     65   \n",
       "\n",
       "                                    url  \\\n",
       "0  https://www.imdb.com/name/nm0000242/   \n",
       "1  https://www.imdb.com/name/nm0425005/   \n",
       "\n",
       "                                       short_bio_url birth_date birth_year  \\\n",
       "0  https://www.imdb.com/name/nm0000242/bio/?ref_=...     June 5       1971   \n",
       "1  https://www.imdb.com/name/nm0425005/bio/?ref_=...      May 2       1972   \n",
       "\n",
       "                           place_of_birth                    birth_name  \\\n",
       "0  Dorchester, Boston, Massachusetts, USA  Mark Robert Michael Wahlberg   \n",
       "1                Hayward, California, USA        Dwayne Douglas Johnson   \n",
       "\n",
       "  height                                          nicknames  \n",
       "0   1.73                                 Marky Mark, Monk D  \n",
       "1   1.96  The Peoples Champion, The Brahma Bull, The Gre...  "
      ]
     },
     "execution_count": 66,
     "metadata": {},
     "output_type": "execute_result"
    }
   ],
   "source": [
    "act_data.head(2)"
   ]
  },
  {
   "cell_type": "markdown",
   "metadata": {},
   "source": [
    "Так. нам надо добавить столбец ВОЗРАСТ и что то случилось опять со столбцом роста(появились дюймы) так же очистить от скобок никнеймы"
   ]
  },
  {
   "cell_type": "markdown",
   "metadata": {},
   "source": [
    "1. Получение текущей даты:\n",
    "```python\n",
    "import pandas as pd\n",
    "from datetime import datetime\n",
    "\n",
    "current_date = datetime.today().date()\n",
    "print(current_date)\n",
    "```\n",
    "\n",
    "2. Получение текущего времени:\n",
    "```python\n",
    "current_time = datetime.today().time()\n",
    "print(current_time)\n",
    "```\n",
    "\n",
    "3. Получение текущей даты и времени:\n",
    "```python\n",
    "current_datetime = datetime.today()\n",
    "print(current_datetime)\n",
    "```\n",
    "\n",
    "4. Создание столбца датафрейма, содержащего текущую дату:\n",
    "```python\n",
    "act_data['current_date'] = pd.to_datetime('today').date()\n",
    "print(act_data)\n",
    "\n",
    "5. Получение года\n",
    "current_year = pd.Timestamp.now().year\n",
    "print(current_year)\n",
    "```\n",
    "В этом примере мы используем `pd.to_datetime('today')`, чтобы получить текущую дату и время, а затем преобразуем его в тип `date` с помощью `.date()` и добавляем в столбец `'current_date'` в `act_data`."
   ]
  },
  {
   "cell_type": "code",
   "execution_count": 67,
   "metadata": {},
   "outputs": [
    {
     "data": {
      "text/plain": [
       "actors_name       object\n",
       "sex               object\n",
       "position          object\n",
       "salary            object\n",
       "url               object\n",
       "short_bio_url     object\n",
       "birth_date        object\n",
       "birth_year        object\n",
       "place_of_birth    object\n",
       "birth_name        object\n",
       "height            object\n",
       "nicknames         object\n",
       "dtype: object"
      ]
     },
     "execution_count": 67,
     "metadata": {},
     "output_type": "execute_result"
    }
   ],
   "source": [
    "act_data.dtypes"
   ]
  },
  {
   "cell_type": "code",
   "execution_count": 68,
   "metadata": {},
   "outputs": [],
   "source": [
    "# переведем в инты\n",
    "act_data[['birth_year']] = act_data[['birth_year']].astype('int')\n",
    "# заодно и иные показатели\n",
    "act_data[['salary']] = act_data[['salary']].astype('float')\n",
    "act_data[['height']] = act_data[['height']].astype('float')"
   ]
  },
  {
   "cell_type": "code",
   "execution_count": 69,
   "metadata": {},
   "outputs": [],
   "source": [
    "# выдает ошибку, так как формат нашего года это строка. проверим, поменяем, сделаем снова\n",
    "act_data[['age']]=pd.Timestamp.now().year-act_data[['birth_year']]\n",
    "# готово"
   ]
  },
  {
   "cell_type": "markdown",
   "metadata": {},
   "source": [
    "По хорошему, лучше проработать и дату, мало ли мне будет интересно в какой месяц должен родиться актер чтобы столько зарабатывать, но это позднее. так или иначе, если бы дата была в формате DD.MM.YYYY\n",
    "вычислить информацию о возрасте будет проще и все будет гораздо точнее"
   ]
  },
  {
   "cell_type": "code",
   "execution_count": 70,
   "metadata": {},
   "outputs": [
    {
     "data": {
      "text/html": [
       "<div>\n",
       "<style scoped>\n",
       "    .dataframe tbody tr th:only-of-type {\n",
       "        vertical-align: middle;\n",
       "    }\n",
       "\n",
       "    .dataframe tbody tr th {\n",
       "        vertical-align: top;\n",
       "    }\n",
       "\n",
       "    .dataframe thead th {\n",
       "        text-align: right;\n",
       "    }\n",
       "</style>\n",
       "<table border=\"1\" class=\"dataframe\">\n",
       "  <thead>\n",
       "    <tr style=\"text-align: right;\">\n",
       "      <th></th>\n",
       "      <th>actors_name</th>\n",
       "      <th>sex</th>\n",
       "      <th>position</th>\n",
       "      <th>salary</th>\n",
       "      <th>url</th>\n",
       "      <th>short_bio_url</th>\n",
       "      <th>birth_date</th>\n",
       "      <th>birth_year</th>\n",
       "      <th>place_of_birth</th>\n",
       "      <th>birth_name</th>\n",
       "      <th>height</th>\n",
       "      <th>nicknames</th>\n",
       "      <th>age</th>\n",
       "    </tr>\n",
       "  </thead>\n",
       "  <tbody>\n",
       "    <tr>\n",
       "      <th>0</th>\n",
       "      <td>Mark Wahlberg</td>\n",
       "      <td>male</td>\n",
       "      <td>Producer</td>\n",
       "      <td>68.0</td>\n",
       "      <td>https://www.imdb.com/name/nm0000242/</td>\n",
       "      <td>https://www.imdb.com/name/nm0000242/bio/?ref_=...</td>\n",
       "      <td>June 5</td>\n",
       "      <td>1971</td>\n",
       "      <td>Dorchester, Boston, Massachusetts, USA</td>\n",
       "      <td>Mark Robert Michael Wahlberg</td>\n",
       "      <td>1.73</td>\n",
       "      <td>Marky Mark, Monk D</td>\n",
       "      <td>52</td>\n",
       "    </tr>\n",
       "    <tr>\n",
       "      <th>1</th>\n",
       "      <td>Dwayne Johnson</td>\n",
       "      <td>male</td>\n",
       "      <td>Actor</td>\n",
       "      <td>65.0</td>\n",
       "      <td>https://www.imdb.com/name/nm0425005/</td>\n",
       "      <td>https://www.imdb.com/name/nm0425005/bio/?ref_=...</td>\n",
       "      <td>May 2</td>\n",
       "      <td>1972</td>\n",
       "      <td>Hayward, California, USA</td>\n",
       "      <td>Dwayne Douglas Johnson</td>\n",
       "      <td>1.96</td>\n",
       "      <td>The Peoples Champion, The Brahma Bull, The Gre...</td>\n",
       "      <td>51</td>\n",
       "    </tr>\n",
       "    <tr>\n",
       "      <th>2</th>\n",
       "      <td>Vin Diesel</td>\n",
       "      <td>male</td>\n",
       "      <td>Actor</td>\n",
       "      <td>54.5</td>\n",
       "      <td>https://www.imdb.com/name/nm0004874/</td>\n",
       "      <td>https://www.imdb.com/name/nm0004874/bio/?ref_=...</td>\n",
       "      <td>July 18</td>\n",
       "      <td>1967</td>\n",
       "      <td>Alameda County, California, USA</td>\n",
       "      <td>Mark Sinclair</td>\n",
       "      <td>1.82</td>\n",
       "      <td>nan</td>\n",
       "      <td>56</td>\n",
       "    </tr>\n",
       "    <tr>\n",
       "      <th>3</th>\n",
       "      <td>Adam Sandler</td>\n",
       "      <td>male</td>\n",
       "      <td>Actor</td>\n",
       "      <td>50.5</td>\n",
       "      <td>https://www.imdb.com/name/nm0001191/</td>\n",
       "      <td>https://www.imdb.com/name/nm0001191/bio/?ref_=...</td>\n",
       "      <td>September 9</td>\n",
       "      <td>1966</td>\n",
       "      <td>Brooklyn, New York City, New York, USA</td>\n",
       "      <td>Adam Richard Sandler</td>\n",
       "      <td>1.77</td>\n",
       "      <td>Sandman</td>\n",
       "      <td>57</td>\n",
       "    </tr>\n",
       "    <tr>\n",
       "      <th>4</th>\n",
       "      <td>Jackie Chan</td>\n",
       "      <td>male</td>\n",
       "      <td>Actor</td>\n",
       "      <td>49.0</td>\n",
       "      <td>https://www.imdb.com/name/nm0000329/</td>\n",
       "      <td>https://www.imdb.com/name/nm0000329/bio/?ref_=...</td>\n",
       "      <td>April 7</td>\n",
       "      <td>1954</td>\n",
       "      <td>Victoria Peak, Hong Kong</td>\n",
       "      <td>Kong-sang Chan</td>\n",
       "      <td>1.72</td>\n",
       "      <td>Yuen Lo, Sing Lung, Pao Pao, Kung-Fu Master</td>\n",
       "      <td>69</td>\n",
       "    </tr>\n",
       "  </tbody>\n",
       "</table>\n",
       "</div>"
      ],
      "text/plain": [
       "      actors_name   sex  position  salary  \\\n",
       "0   Mark Wahlberg  male  Producer    68.0   \n",
       "1  Dwayne Johnson  male     Actor    65.0   \n",
       "2      Vin Diesel  male     Actor    54.5   \n",
       "3    Adam Sandler  male     Actor    50.5   \n",
       "4     Jackie Chan  male     Actor    49.0   \n",
       "\n",
       "                                    url  \\\n",
       "0  https://www.imdb.com/name/nm0000242/   \n",
       "1  https://www.imdb.com/name/nm0425005/   \n",
       "2  https://www.imdb.com/name/nm0004874/   \n",
       "3  https://www.imdb.com/name/nm0001191/   \n",
       "4  https://www.imdb.com/name/nm0000329/   \n",
       "\n",
       "                                       short_bio_url   birth_date  birth_year  \\\n",
       "0  https://www.imdb.com/name/nm0000242/bio/?ref_=...       June 5        1971   \n",
       "1  https://www.imdb.com/name/nm0425005/bio/?ref_=...        May 2        1972   \n",
       "2  https://www.imdb.com/name/nm0004874/bio/?ref_=...      July 18        1967   \n",
       "3  https://www.imdb.com/name/nm0001191/bio/?ref_=...  September 9        1966   \n",
       "4  https://www.imdb.com/name/nm0000329/bio/?ref_=...      April 7        1954   \n",
       "\n",
       "                           place_of_birth                    birth_name  \\\n",
       "0  Dorchester, Boston, Massachusetts, USA  Mark Robert Michael Wahlberg   \n",
       "1                Hayward, California, USA        Dwayne Douglas Johnson   \n",
       "2         Alameda County, California, USA                 Mark Sinclair   \n",
       "3  Brooklyn, New York City, New York, USA          Adam Richard Sandler   \n",
       "4                Victoria Peak, Hong Kong                Kong-sang Chan   \n",
       "\n",
       "   height                                          nicknames  age  \n",
       "0    1.73                                 Marky Mark, Monk D   52  \n",
       "1    1.96  The Peoples Champion, The Brahma Bull, The Gre...   51  \n",
       "2    1.82                                                nan   56  \n",
       "3    1.77                                            Sandman   57  \n",
       "4    1.72        Yuen Lo, Sing Lung, Pao Pao, Kung-Fu Master   69  "
      ]
     },
     "execution_count": 70,
     "metadata": {},
     "output_type": "execute_result"
    }
   ],
   "source": [
    "act_data.head()"
   ]
  },
  {
   "cell_type": "markdown",
   "metadata": {},
   "source": [
    "# Награды"
   ]
  },
  {
   "cell_type": "code",
   "execution_count": null,
   "metadata": {},
   "outputs": [],
   "source": [
    "# взяли какую то часть информации. поишем дальше. Награды\n",
    "headers = {\n",
    "    'User-Agent': 'Mozilla/5.0 (Windows NT 10.0; Win64; x64) AppleWebKit/537.36 (KHTML, like Gecko) Chrome/114.0.0.0 Safari/537.36'\n",
    "}\n",
    "rewards_page = requests.get(urls[0]+'awards', headers = headers)\n",
    "parce_page = BeautifulSoup(rewards_page.content, \"html.parser\")\n",
    "parce_page\n",
    "\n"
   ]
  },
  {
   "cell_type": "code",
   "execution_count": 72,
   "metadata": {},
   "outputs": [
    {
     "data": {
      "text/plain": [
       "['Academy Awards, USA',\n",
       " 'Primetime Emmy Awards',\n",
       " 'BAFTA Awards',\n",
       " 'Satellite Awards',\n",
       " 'Razzie Awards',\n",
       " 'News & Documentary Emmy Awards',\n",
       " 'International Documentary Association',\n",
       " 'PGA Awards',\n",
       " \"People's Choice Awards, USA\",\n",
       " 'Black Reel Awards for Television',\n",
       " 'Realscreen Awards',\n",
       " 'Teen Choice Awards',\n",
       " 'Christopher Awards',\n",
       " '20/20 Awards',\n",
       " 'Jupiter Award',\n",
       " 'National Board of Review, USA',\n",
       " \"Kids' Choice Awards, USA\",\n",
       " 'Critics Choice Awards',\n",
       " 'MTV Movie + TV Awards',\n",
       " 'CinEuphoria Awards',\n",
       " 'Rembrandt Awards',\n",
       " 'Monte-Carlo TV Festival',\n",
       " 'Golden Globes, USA',\n",
       " 'Screen Actors Guild Awards',\n",
       " 'Central Ohio Film Critics Association',\n",
       " 'Palm Springs International Film Festival',\n",
       " 'Gold Derby Awards',\n",
       " 'Washington DC Area Film Critics Association Awards',\n",
       " 'Boston Society of Film Critics Awards',\n",
       " 'San Diego Film Critics Society Awards',\n",
       " 'Walk of Fame',\n",
       " 'African-American Film Critics Association (AAFCA)',\n",
       " 'Awards Circuit Community Awards',\n",
       " 'Online Film Critics Society Awards',\n",
       " 'National Society of Film Critics Awards, USA',\n",
       " 'Online Film & Television Association',\n",
       " 'International Online Cinema Awards (INOCA)',\n",
       " 'Toronto Film Critics Association Awards',\n",
       " 'Dublin Film Critics Circle Awards',\n",
       " 'Utah Film Critics Association Awards',\n",
       " 'Golden Schmoes Awards',\n",
       " \"Indiewire Critics' Poll\",\n",
       " 'Village Voice Film Poll',\n",
       " 'Chlotrudis Awards',\n",
       " 'Peabody Awards',\n",
       " 'Blockbuster Entertainment Awards',\n",
       " 'Florida Film Critics Circle Awards',\n",
       " 'The Stinkers Bad Movie Awards',\n",
       " 'Contribute to this page',\n",
       " 'More from this person']"
      ]
     },
     "execution_count": 72,
     "metadata": {},
     "output_type": "execute_result"
    }
   ],
   "source": [
    "# блок обернут в <div class=\"sc-c7c3a435-1 NixYx ipc-page-grid__item ipc-page-grid__item--span-2\"\n",
    "# дальше идут секции <section class=\"ipc-page-section ipc-page-section--base\">\n",
    "# в секциях нам интересен текст <h3 class=\"ipc-title__text\"><span id=\"ev0000003\">Academy Awards, USA</span>\n",
    "section_element_rewards = parce_page.find('div', class_='sc-c7c3a435-1 NixYx ipc-page-grid__item ipc-page-grid__item--span-2')\n",
    "section_element_rewards\n",
    "h3_list = section_element_rewards.find_all('h3',class_='ipc-title__text')\n",
    "nomonation_list =[list.text for list in h3_list]\n",
    "nomonation_list\n"
   ]
  },
  {
   "cell_type": "code",
   "execution_count": 73,
   "metadata": {},
   "outputs": [
    {
     "data": {
      "text/plain": [
       "'24 wins & 82 nominations'"
      ]
     },
     "execution_count": 73,
     "metadata": {},
     "output_type": "execute_result"
    }
   ],
   "source": [
    "# div ipc-signpost__text - количество наград\n",
    "rewards_and_nominstions = section_element_rewards.find('div', class_='ipc-signpost__text').text\n",
    "rewards_and_nominstions"
   ]
  },
  {
   "cell_type": "markdown",
   "metadata": {},
   "source": [
    "Возьмем все награды и номинации для всех актеров циклом, еще момент. мне нужны и награды и номинации в отдельности, поэтому последний элемент нужно разделить"
   ]
  },
  {
   "cell_type": "code",
   "execution_count": 74,
   "metadata": {},
   "outputs": [],
   "source": [
    "# создадим пока 2 списка\n",
    "nomination_names_list = []\n",
    "rewards_and_nominstions_list = []\n",
    "\n",
    "for index in range(len(urls)):\n",
    "    headers = {\n",
    "        'User-Agent': 'Mozilla/5.0 (Windows NT 10.0; Win64; x64) AppleWebKit/537.36 (KHTML, like Gecko) Chrome/114.0.0.0 Safari/537.36'\n",
    "    }\n",
    "    rewards_page = requests.get(urls[index]+'awards', headers = headers)\n",
    "    parce_page = BeautifulSoup(rewards_page.content, \"html.parser\")\n",
    "    section = parce_page.find('div', class_='sc-c7c3a435-1 NixYx ipc-page-grid__item ipc-page-grid__item--span-2')\n",
    "    h3_list = section.find_all('h3',class_='ipc-title__text')\n",
    "    nomonation_list =[list.text for list in h3_list]\n",
    "    nomination_names_list.append(nomonation_list)\n",
    "    rewards_and_nominstions = section.find('div', class_='ipc-signpost__text').text\n",
    "    rewards_and_nominstions_list.append(rewards_and_nominstions)\n",
    "    \n"
   ]
  },
  {
   "cell_type": "markdown",
   "metadata": {},
   "source": [
    "# Займемся списком наград и номинаций.  план такой. извлекаем цифры, сплитуем, делим на 2 списка. вуаля"
   ]
  },
  {
   "cell_type": "code",
   "execution_count": 75,
   "metadata": {},
   "outputs": [],
   "source": [
    "rewards_and_nominstions_list = [reward.split('&') for reward in rewards_and_nominstions_list]"
   ]
  },
  {
   "cell_type": "code",
   "execution_count": 76,
   "metadata": {},
   "outputs": [
    {
     "data": {
      "text/plain": [
       "'24'"
      ]
     },
     "execution_count": 76,
     "metadata": {},
     "output_type": "execute_result"
    }
   ],
   "source": [
    "test = [[str(reward).replace('wins','').strip(), str(nominations).replace('nominations','').strip()] for reward, nominations in rewards_and_nominstions_list]\n",
    "test[0][0]"
   ]
  },
  {
   "cell_type": "code",
   "execution_count": 77,
   "metadata": {},
   "outputs": [],
   "source": [
    "wins = []\n",
    "nominations = []\n",
    "\n",
    "for sublist in test:\n",
    "    wins.append(sublist[0])\n",
    "    nominations.append(sublist[1])"
   ]
  },
  {
   "cell_type": "code",
   "execution_count": 78,
   "metadata": {},
   "outputs": [],
   "source": [
    "for i, (wins, nominations) in enumerate(zip(wins, nominations)):\n",
    "    act_data.at[i, 'wins'] = wins\n",
    "    act_data.at[i, 'nominations'] = nominations"
   ]
  },
  {
   "cell_type": "code",
   "execution_count": 79,
   "metadata": {},
   "outputs": [],
   "source": [
    "act_data[['wins']] = act_data[['wins']].astype('int')\n",
    "act_data[['nominations']] = act_data[['nominations']].astype('int')"
   ]
  },
  {
   "cell_type": "code",
   "execution_count": 80,
   "metadata": {},
   "outputs": [
    {
     "data": {
      "text/html": [
       "<div>\n",
       "<style scoped>\n",
       "    .dataframe tbody tr th:only-of-type {\n",
       "        vertical-align: middle;\n",
       "    }\n",
       "\n",
       "    .dataframe tbody tr th {\n",
       "        vertical-align: top;\n",
       "    }\n",
       "\n",
       "    .dataframe thead th {\n",
       "        text-align: right;\n",
       "    }\n",
       "</style>\n",
       "<table border=\"1\" class=\"dataframe\">\n",
       "  <thead>\n",
       "    <tr style=\"text-align: right;\">\n",
       "      <th></th>\n",
       "      <th>actors_name</th>\n",
       "      <th>sex</th>\n",
       "      <th>position</th>\n",
       "      <th>salary</th>\n",
       "      <th>url</th>\n",
       "      <th>short_bio_url</th>\n",
       "      <th>birth_date</th>\n",
       "      <th>birth_year</th>\n",
       "      <th>place_of_birth</th>\n",
       "      <th>birth_name</th>\n",
       "      <th>height</th>\n",
       "      <th>nicknames</th>\n",
       "      <th>age</th>\n",
       "      <th>wins</th>\n",
       "      <th>nominations</th>\n",
       "    </tr>\n",
       "  </thead>\n",
       "  <tbody>\n",
       "    <tr>\n",
       "      <th>0</th>\n",
       "      <td>Mark Wahlberg</td>\n",
       "      <td>male</td>\n",
       "      <td>Producer</td>\n",
       "      <td>68.0</td>\n",
       "      <td>https://www.imdb.com/name/nm0000242/</td>\n",
       "      <td>https://www.imdb.com/name/nm0000242/bio/?ref_=...</td>\n",
       "      <td>June 5</td>\n",
       "      <td>1971</td>\n",
       "      <td>Dorchester, Boston, Massachusetts, USA</td>\n",
       "      <td>Mark Robert Michael Wahlberg</td>\n",
       "      <td>1.73</td>\n",
       "      <td>Marky Mark, Monk D</td>\n",
       "      <td>52</td>\n",
       "      <td>24</td>\n",
       "      <td>82</td>\n",
       "    </tr>\n",
       "    <tr>\n",
       "      <th>1</th>\n",
       "      <td>Dwayne Johnson</td>\n",
       "      <td>male</td>\n",
       "      <td>Actor</td>\n",
       "      <td>65.0</td>\n",
       "      <td>https://www.imdb.com/name/nm0425005/</td>\n",
       "      <td>https://www.imdb.com/name/nm0425005/bio/?ref_=...</td>\n",
       "      <td>May 2</td>\n",
       "      <td>1972</td>\n",
       "      <td>Hayward, California, USA</td>\n",
       "      <td>Dwayne Douglas Johnson</td>\n",
       "      <td>1.96</td>\n",
       "      <td>The Peoples Champion, The Brahma Bull, The Gre...</td>\n",
       "      <td>51</td>\n",
       "      <td>19</td>\n",
       "      <td>74</td>\n",
       "    </tr>\n",
       "  </tbody>\n",
       "</table>\n",
       "</div>"
      ],
      "text/plain": [
       "      actors_name   sex  position  salary  \\\n",
       "0   Mark Wahlberg  male  Producer    68.0   \n",
       "1  Dwayne Johnson  male     Actor    65.0   \n",
       "\n",
       "                                    url  \\\n",
       "0  https://www.imdb.com/name/nm0000242/   \n",
       "1  https://www.imdb.com/name/nm0425005/   \n",
       "\n",
       "                                       short_bio_url birth_date  birth_year  \\\n",
       "0  https://www.imdb.com/name/nm0000242/bio/?ref_=...     June 5        1971   \n",
       "1  https://www.imdb.com/name/nm0425005/bio/?ref_=...      May 2        1972   \n",
       "\n",
       "                           place_of_birth                    birth_name  \\\n",
       "0  Dorchester, Boston, Massachusetts, USA  Mark Robert Michael Wahlberg   \n",
       "1                Hayward, California, USA        Dwayne Douglas Johnson   \n",
       "\n",
       "   height                                          nicknames  age  wins  \\\n",
       "0    1.73                                 Marky Mark, Monk D   52    24   \n",
       "1    1.96  The Peoples Champion, The Brahma Bull, The Gre...   51    19   \n",
       "\n",
       "   nominations  \n",
       "0           82  \n",
       "1           74  "
      ]
     },
     "execution_count": 80,
     "metadata": {},
     "output_type": "execute_result"
    }
   ],
   "source": [
    "act_data.head(2)"
   ]
  },
  {
   "cell_type": "markdown",
   "metadata": {},
   "source": [
    "***Мы извлекли и наименования номинаций, но пока эта информация не будет добавлена в датафрейм***"
   ]
  },
  {
   "cell_type": "markdown",
   "metadata": {},
   "source": [
    "Добьем наш датафрейм.нам необходима вся эта же информация, только по всем актерам"
   ]
  },
  {
   "cell_type": "markdown",
   "metadata": {},
   "source": [
    "- birth date *done*\n",
    "- sex *done*\n",
    "- height *done*\n",
    "- award wins *done*\n",
    "- award nominations *done*\n",
    "- award nominations names *done*\n",
    "\n",
    "# осталось найти в разделе https://www.imdb.com/name/nm0000242/fullcredits/?ref_=nmawd_ql_flmg_6\n",
    "- producer credits\n",
    "- actor credits\n",
    "- soundtrack credits\n",
    "- composer credits"
   ]
  },
  {
   "cell_type": "markdown",
   "metadata": {},
   "source": [
    "Алгоритм действий\n",
    "\n",
    "- изучаем структуру ссылки для того чтобы понять что добавлять к базовой\n",
    "- изучаем страницу, находим блок, класс, ай ди если есть элемента, в котором лежит вся необходимая нам информация\n",
    "- находим тег(класс, ай ди) в котором лежит конкретная чать нашей информации, которую мы будем парсить и класть в список или словарь\n"
   ]
  },
  {
   "cell_type": "markdown",
   "metadata": {},
   "source": [
    "# Сначала проверим правильно ли мы определили место расположения"
   ]
  },
  {
   "cell_type": "code",
   "execution_count": 81,
   "metadata": {},
   "outputs": [
    {
     "data": {
      "text/plain": [
       "'42'"
      ]
     },
     "execution_count": 81,
     "metadata": {},
     "output_type": "execute_result"
    }
   ],
   "source": [
    "headers = {\n",
    "     'User-Agent': 'Mozilla/5.0 (Windows NT 10.0; Win64; x64) AppleWebKit/537.36 (KHTML, like Gecko) Chrome/114.0.0.0 Safari/537.36'\n",
    " }\n",
    "# наш список urls по нему нужно итерировать чтобы получить индексы, по которым мы получим ссылки\n",
    "# # когда страница конкретного url извлечена, сразу парсим оттуда все необходимые данные \n",
    "\n",
    "current_page = requests.get(urls[0]+'fullcredits/?ref_=nmawd_ql_flmg_6', headers = headers)\n",
    "page = BeautifulSoup(current_page.content, \"html.parser\")\n",
    "\n",
    "# найдем тег и класс блока где вся информация (<div id=\"filmography\" bis_skin_checked=\"1\">)\n",
    "section = page.find('div', id ='filmography')\n",
    "# # Найти элемент c  - producer credits <<div id=\"filmo-head-producer\" class=\"head\" data-category=\"producer\" ...\"\n",
    "# element = section.find('div', id ='filmo-head-producer', class_='head').text.split('(')[-1].split(' ')[0]\n",
    "# element\n",
    "\n",
    "# # найдем элемент- actor credits (<div id=\"filmo-head-actor\" class=\"head\" data-category=\"actor\")\n",
    "# element1 = section.find('div', id ='filmo-head-actor', class_='head').text.split('(')[-1].split(' ')[0]\n",
    "# element1\n",
    "\n",
    "#     # найдем элемент - composer credits\n",
    "# element3 = section.find('div', id ='filmo-head-composer', class_='head').text.split('(')[-1].split(' ')[0]\n",
    "# element3\n",
    "element1 = section.find('div', id ='filmo-head-producer', class_='head')\n",
    "element1 = element1.text.split('(')[-1].split(' ')[0] if element1 else 'Nan'\n",
    "element1\n"
   ]
  },
  {
   "cell_type": "code",
   "execution_count": 82,
   "metadata": {},
   "outputs": [],
   "source": [
    "credits_list = []\n",
    "# часть которую мы дудем добавлять к основной ссыке на актера из списка ulrs - это fullcredits/?ref_=nmawd_ql_flmg_6\n",
    "headers = {\n",
    "    'User-Agent': 'Mozilla/5.0 (Windows NT 10.0; Win64; x64) AppleWebKit/537.36 (KHTML, like Gecko) Chrome/114.0.0.0 Safari/537.36'\n",
    "}\n",
    "# наш список urls по нему нужно итерировать чтобы получить индексы, по которым мы получим ссылки\n",
    "# когда страница конкретного url извлечена, сразу парсим оттуда все необходимые данные \n",
    "for index in range(len(urls)):\n",
    "    current_page = requests.get(urls[index]+'fullcredits/?ref_=nmawd_ql_flmg_6', headers = headers)\n",
    "    page = BeautifulSoup(current_page.content, \"html.parser\")\n",
    "    # найдем тег и класс блока где вся информация (<div id=\"filmography\" bis_skin_checked=\"1\">)\n",
    "    section = page.find('div', id ='filmography')\n",
    "    # Найти элемент c  - producer credits <<div id=\"filmo-head-producer\" class=\"head\" data-category=\"producer\" ...\"\n",
    "    element1 = section.find('div', id ='filmo-head-producer', class_='head')\n",
    "    element1 = element1.text.split('(')[-1].split(' ')[0] if element1 else 'Nan'\n",
    "\n",
    "    # найдем элемент- actor credits (<div id=\"filmo-head-actor\" class=\"head\" data-category=\"actor\")\n",
    "    # При проверке данных обнаружилось, что если наш персонаж - актрисса, то есть несоответствие в id при поиске\n",
    "    # id у особ женского пола filmo-head-actress\n",
    "    element2 = section.find('div', id='filmo-head-actor', class_='head') or section.find('div', id='filmo-head-actress', class_='head')\n",
    "    element2 = element2.text.split('(')[-1].split(' ')[0] if element2 else 'Nan'\n",
    "    # найдем элемент - composer credits\n",
    "    element3 = section.find('div', id ='filmo-head-composer', class_='head')\n",
    "    element3 = element3.text.split('(')[-1].split(' ')[0] if element3 else 'Nan'\n",
    "    # найдем элемент - sountrack credits\n",
    "    element4 = section.find('div', id ='filmo-head-soundtrack', class_='head')\n",
    "    element4 = element4.text.split('(')[-1].split(' ')[0] if element4 else 'Nan'\n",
    "    credits = {'producer_credits': element1 ,'actors_credits': element2,'composers_credits': element3,'sountrack_credits': element4}\n",
    "    credits_list.append(credits)"
   ]
  },
  {
   "cell_type": "markdown",
   "metadata": {},
   "source": [
    "## Второй вариант"
   ]
  },
  {
   "cell_type": "code",
   "execution_count": 83,
   "metadata": {},
   "outputs": [],
   "source": [
    "# credits_list = []\n",
    "# # часть которую мы будем добавлять к основной ссылке на актера из списка urls - это fullcredits/?ref_=nmawd_ql_flmg_6\n",
    "# headers = {\n",
    "#     'User-Agent': 'Mozilla/5.0 (Windows NT 10.0; Win64; x64) AppleWebKit/537.36 (KHTML, like Gecko) Chrome/114.0.0.0 Safari/537.36'\n",
    "# }\n",
    "# # наш список urls, по которому нужно итерироваться, чтобы получить индексы, по которым мы получим ссылки\n",
    "# # когда страница конкретного url извлечена, сразу парсим оттуда все необходимые данные \n",
    "# for url in urls:\n",
    "#     current_page = requests.get(url+'fullcredits/?ref_=nmawd_ql_flmg_6', headers=headers)\n",
    "#     page = BeautifulSoup(current_page.content, \"html.parser\")\n",
    "#     # найдем тег и класс блока, где вся информация (<div id=\"filmography\" bis_skin_checked=\"1\">)\n",
    "#     section = page.find('div', id='filmography')\n",
    "#     credits = {}\n",
    "    \n",
    "#     # найдем элемент с producer credits (<div id=\"filmo-head-producer\" class=\"head\" data-category=\"producer\" ...)\n",
    "#     element1 = section.find('div', id='filmo-head-producer', class_='head')\n",
    "#     if element1 is not None:\n",
    "#         element1_credits = element1.text.split('(')[-1].split(' ')[0]\n",
    "#         credits['producer_credits'] = element1_credits\n",
    "#     else:\n",
    "#         credits['producer_credits'] = 'nan'\n",
    "\n",
    "#     # найдем элемент с actor credits (<div id=\"filmo-head-actor\" class=\"head\" data-category=\"actor\")\n",
    "#     element2 = section.find('div', id='filmo-head-actor', class_='head') or section.find('div', id='filmo-head-actress', class_='head')\n",
    "\n",
    "#     if element2 is not None:\n",
    "#         element2_credits = element2.text.split('(')[-1].split(' ')[0]\n",
    "#         credits['actors_credits'] = element2_credits\n",
    "#     else:\n",
    "#         credits['actors_credits'] = 'nan'\n",
    "\n",
    "#     # найдем элемент с composer credits\n",
    "#     element3 = section.find('div', id='filmo-head-composer', class_='head')\n",
    "#     if element3 is not None:\n",
    "#         element3_credits = element3.text.split('(')[-1].split(' ')[0]\n",
    "#         credits['composers_credits'] = element3_credits\n",
    "#     else:\n",
    "#         credits['composers_credits'] = 'nan'\n",
    "\n",
    "#     # найдем элемент с sountrack credits\n",
    "#     element4 = section.find('div', id='filmo-head-soundtrack', class_='head')\n",
    "#     if element4 is not None:\n",
    "#         element4_credits = element4.text.split('(')[-1].split(' ')[0]\n",
    "#         credits['sountrack_credits'] = element4_credits\n",
    "#     else:\n",
    "#         credits['sountrack_credits'] = 'nan'\n",
    "        \n",
    "#     credits_list.append(credits)"
   ]
  },
  {
   "cell_type": "code",
   "execution_count": null,
   "metadata": {},
   "outputs": [],
   "source": [
    "# credits_list"
   ]
  },
  {
   "cell_type": "markdown",
   "metadata": {},
   "source": [
    "# Зальем в наш датасет\n"
   ]
  },
  {
   "cell_type": "code",
   "execution_count": 85,
   "metadata": {},
   "outputs": [],
   "source": [
    "credits_df = pd.DataFrame(credits_list)"
   ]
  },
  {
   "cell_type": "code",
   "execution_count": 86,
   "metadata": {},
   "outputs": [],
   "source": [
    "df = pd.concat([act_data, credits_df], axis=1)"
   ]
  },
  {
   "cell_type": "code",
   "execution_count": 87,
   "metadata": {},
   "outputs": [
    {
     "data": {
      "text/html": [
       "<div>\n",
       "<style scoped>\n",
       "    .dataframe tbody tr th:only-of-type {\n",
       "        vertical-align: middle;\n",
       "    }\n",
       "\n",
       "    .dataframe tbody tr th {\n",
       "        vertical-align: top;\n",
       "    }\n",
       "\n",
       "    .dataframe thead th {\n",
       "        text-align: right;\n",
       "    }\n",
       "</style>\n",
       "<table border=\"1\" class=\"dataframe\">\n",
       "  <thead>\n",
       "    <tr style=\"text-align: right;\">\n",
       "      <th></th>\n",
       "      <th>actors_name</th>\n",
       "      <th>sex</th>\n",
       "      <th>position</th>\n",
       "      <th>salary</th>\n",
       "      <th>url</th>\n",
       "      <th>short_bio_url</th>\n",
       "      <th>birth_date</th>\n",
       "      <th>birth_year</th>\n",
       "      <th>place_of_birth</th>\n",
       "      <th>birth_name</th>\n",
       "      <th>height</th>\n",
       "      <th>nicknames</th>\n",
       "      <th>age</th>\n",
       "      <th>wins</th>\n",
       "      <th>nominations</th>\n",
       "      <th>producer_credits</th>\n",
       "      <th>actors_credits</th>\n",
       "      <th>composers_credits</th>\n",
       "      <th>sountrack_credits</th>\n",
       "    </tr>\n",
       "  </thead>\n",
       "  <tbody>\n",
       "    <tr>\n",
       "      <th>0</th>\n",
       "      <td>Mark Wahlberg</td>\n",
       "      <td>male</td>\n",
       "      <td>Producer</td>\n",
       "      <td>68.0</td>\n",
       "      <td>https://www.imdb.com/name/nm0000242/</td>\n",
       "      <td>https://www.imdb.com/name/nm0000242/bio/?ref_=...</td>\n",
       "      <td>June 5</td>\n",
       "      <td>1971</td>\n",
       "      <td>Dorchester, Boston, Massachusetts, USA</td>\n",
       "      <td>Mark Robert Michael Wahlberg</td>\n",
       "      <td>1.73</td>\n",
       "      <td>Marky Mark, Monk D</td>\n",
       "      <td>52</td>\n",
       "      <td>24</td>\n",
       "      <td>82</td>\n",
       "      <td>42</td>\n",
       "      <td>79</td>\n",
       "      <td>9</td>\n",
       "      <td>44</td>\n",
       "    </tr>\n",
       "    <tr>\n",
       "      <th>1</th>\n",
       "      <td>Dwayne Johnson</td>\n",
       "      <td>male</td>\n",
       "      <td>Actor</td>\n",
       "      <td>65.0</td>\n",
       "      <td>https://www.imdb.com/name/nm0425005/</td>\n",
       "      <td>https://www.imdb.com/name/nm0425005/bio/?ref_=...</td>\n",
       "      <td>May 2</td>\n",
       "      <td>1972</td>\n",
       "      <td>Hayward, California, USA</td>\n",
       "      <td>Dwayne Douglas Johnson</td>\n",
       "      <td>1.96</td>\n",
       "      <td>The Peoples Champion, The Brahma Bull, The Gre...</td>\n",
       "      <td>51</td>\n",
       "      <td>19</td>\n",
       "      <td>74</td>\n",
       "      <td>48</td>\n",
       "      <td>105</td>\n",
       "      <td>Nan</td>\n",
       "      <td>13</td>\n",
       "    </tr>\n",
       "    <tr>\n",
       "      <th>2</th>\n",
       "      <td>Vin Diesel</td>\n",
       "      <td>male</td>\n",
       "      <td>Actor</td>\n",
       "      <td>54.5</td>\n",
       "      <td>https://www.imdb.com/name/nm0004874/</td>\n",
       "      <td>https://www.imdb.com/name/nm0004874/bio/?ref_=...</td>\n",
       "      <td>July 18</td>\n",
       "      <td>1967</td>\n",
       "      <td>Alameda County, California, USA</td>\n",
       "      <td>Mark Sinclair</td>\n",
       "      <td>1.82</td>\n",
       "      <td>nan</td>\n",
       "      <td>56</td>\n",
       "      <td>9</td>\n",
       "      <td>41</td>\n",
       "      <td>34</td>\n",
       "      <td>60</td>\n",
       "      <td>Nan</td>\n",
       "      <td>1</td>\n",
       "    </tr>\n",
       "    <tr>\n",
       "      <th>3</th>\n",
       "      <td>Adam Sandler</td>\n",
       "      <td>male</td>\n",
       "      <td>Actor</td>\n",
       "      <td>50.5</td>\n",
       "      <td>https://www.imdb.com/name/nm0001191/</td>\n",
       "      <td>https://www.imdb.com/name/nm0001191/bio/?ref_=...</td>\n",
       "      <td>September 9</td>\n",
       "      <td>1966</td>\n",
       "      <td>Brooklyn, New York City, New York, USA</td>\n",
       "      <td>Adam Richard Sandler</td>\n",
       "      <td>1.77</td>\n",
       "      <td>Sandman</td>\n",
       "      <td>57</td>\n",
       "      <td>72</td>\n",
       "      <td>132</td>\n",
       "      <td>62</td>\n",
       "      <td>86</td>\n",
       "      <td>3</td>\n",
       "      <td>36</td>\n",
       "    </tr>\n",
       "    <tr>\n",
       "      <th>4</th>\n",
       "      <td>Jackie Chan</td>\n",
       "      <td>male</td>\n",
       "      <td>Actor</td>\n",
       "      <td>49.0</td>\n",
       "      <td>https://www.imdb.com/name/nm0000329/</td>\n",
       "      <td>https://www.imdb.com/name/nm0000329/bio/?ref_=...</td>\n",
       "      <td>April 7</td>\n",
       "      <td>1954</td>\n",
       "      <td>Victoria Peak, Hong Kong</td>\n",
       "      <td>Kong-sang Chan</td>\n",
       "      <td>1.72</td>\n",
       "      <td>Yuen Lo, Sing Lung, Pao Pao, Kung-Fu Master</td>\n",
       "      <td>69</td>\n",
       "      <td>48</td>\n",
       "      <td>50</td>\n",
       "      <td>66</td>\n",
       "      <td>148</td>\n",
       "      <td>Nan</td>\n",
       "      <td>14</td>\n",
       "    </tr>\n",
       "    <tr>\n",
       "      <th>5</th>\n",
       "      <td>Robert Downey Jr.</td>\n",
       "      <td>male</td>\n",
       "      <td>Actor</td>\n",
       "      <td>48.0</td>\n",
       "      <td>https://www.imdb.com/name/nm0000375/</td>\n",
       "      <td>https://www.imdb.com/name/nm0000375/bio/?ref_=...</td>\n",
       "      <td>April 4</td>\n",
       "      <td>1965</td>\n",
       "      <td>Manhattan, New York City, New York, USA</td>\n",
       "      <td>Robert John Downey Jr</td>\n",
       "      <td>1.73</td>\n",
       "      <td>Bob, RDJ</td>\n",
       "      <td>58</td>\n",
       "      <td>43</td>\n",
       "      <td>122</td>\n",
       "      <td>18</td>\n",
       "      <td>94</td>\n",
       "      <td>Nan</td>\n",
       "      <td>11</td>\n",
       "    </tr>\n",
       "    <tr>\n",
       "      <th>6</th>\n",
       "      <td>Tom Cruise</td>\n",
       "      <td>male</td>\n",
       "      <td>Actor</td>\n",
       "      <td>43.0</td>\n",
       "      <td>https://www.imdb.com/name/nm0000129/</td>\n",
       "      <td>https://www.imdb.com/name/nm0000129/bio/?ref_=...</td>\n",
       "      <td>July 3</td>\n",
       "      <td>1962</td>\n",
       "      <td>Syracuse, New York, USA</td>\n",
       "      <td>Thomas Cruise Mapother IV</td>\n",
       "      <td>1.70</td>\n",
       "      <td>TC</td>\n",
       "      <td>61</td>\n",
       "      <td>59</td>\n",
       "      <td>108</td>\n",
       "      <td>23</td>\n",
       "      <td>50</td>\n",
       "      <td>Nan</td>\n",
       "      <td>7</td>\n",
       "    </tr>\n",
       "    <tr>\n",
       "      <th>7</th>\n",
       "      <td>Shah Rukh Khan</td>\n",
       "      <td>male</td>\n",
       "      <td>Actor</td>\n",
       "      <td>38.0</td>\n",
       "      <td>https://www.imdb.com/name/nm0451321/</td>\n",
       "      <td>https://www.imdb.com/name/nm0451321/bio/?ref_=...</td>\n",
       "      <td>November 2</td>\n",
       "      <td>1965</td>\n",
       "      <td>New Delhi, India</td>\n",
       "      <td>No data available</td>\n",
       "      <td>1.69</td>\n",
       "      <td>King Khan, SRK, The Badshah of Bollywood, The ...</td>\n",
       "      <td>58</td>\n",
       "      <td>116</td>\n",
       "      <td>138</td>\n",
       "      <td>18</td>\n",
       "      <td>111</td>\n",
       "      <td>Nan</td>\n",
       "      <td>9</td>\n",
       "    </tr>\n",
       "    <tr>\n",
       "      <th>8</th>\n",
       "      <td>Salman Khan</td>\n",
       "      <td>male</td>\n",
       "      <td>Actor</td>\n",
       "      <td>37.0</td>\n",
       "      <td>https://www.imdb.com/name/nm0006795/</td>\n",
       "      <td>https://www.imdb.com/name/nm0006795/bio/?ref_=...</td>\n",
       "      <td>December 27</td>\n",
       "      <td>1965</td>\n",
       "      <td>Indore, Madhya Pradesh, India</td>\n",
       "      <td>Abdul Rashid Salim Salman Khan</td>\n",
       "      <td>1.69</td>\n",
       "      <td>Sallu, Bhaijaan, Dabangg Khan, Rambo of India,...</td>\n",
       "      <td>58</td>\n",
       "      <td>45</td>\n",
       "      <td>124</td>\n",
       "      <td>14</td>\n",
       "      <td>134</td>\n",
       "      <td>1</td>\n",
       "      <td>11</td>\n",
       "    </tr>\n",
       "    <tr>\n",
       "      <th>9</th>\n",
       "      <td>Akshay Kumar</td>\n",
       "      <td>male</td>\n",
       "      <td>Actor</td>\n",
       "      <td>35.5</td>\n",
       "      <td>https://www.imdb.com/name/nm0474774/</td>\n",
       "      <td>https://www.imdb.com/name/nm0474774/bio/?ref_=...</td>\n",
       "      <td>September 9</td>\n",
       "      <td>1967</td>\n",
       "      <td>Amritsar, Punjab, India</td>\n",
       "      <td>Rajiv Hari Om-Bhatia</td>\n",
       "      <td>1.78</td>\n",
       "      <td>Akki, Mac, Khiladi, Khiladi Kumar</td>\n",
       "      <td>56</td>\n",
       "      <td>53</td>\n",
       "      <td>137</td>\n",
       "      <td>20</td>\n",
       "      <td>176</td>\n",
       "      <td>Nan</td>\n",
       "      <td>6</td>\n",
       "    </tr>\n",
       "    <tr>\n",
       "      <th>10</th>\n",
       "      <td>Chris Hemsworth</td>\n",
       "      <td>male</td>\n",
       "      <td>Actor</td>\n",
       "      <td>31.5</td>\n",
       "      <td>https://www.imdb.com/name/nm1165110/</td>\n",
       "      <td>https://www.imdb.com/name/nm1165110/bio/?ref_=...</td>\n",
       "      <td>August 11</td>\n",
       "      <td>1983</td>\n",
       "      <td>Melbourne, Victoria, Australia</td>\n",
       "      <td>Christopher Hemsworth</td>\n",
       "      <td>1.91</td>\n",
       "      <td>Kip, Chris</td>\n",
       "      <td>40</td>\n",
       "      <td>15</td>\n",
       "      <td>47</td>\n",
       "      <td>9</td>\n",
       "      <td>51</td>\n",
       "      <td>Nan</td>\n",
       "      <td>1</td>\n",
       "    </tr>\n",
       "    <tr>\n",
       "      <th>11</th>\n",
       "      <td>Tom Hanks</td>\n",
       "      <td>male</td>\n",
       "      <td>Producer</td>\n",
       "      <td>31.0</td>\n",
       "      <td>https://www.imdb.com/name/nm0000158/</td>\n",
       "      <td>https://www.imdb.com/name/nm0000158/bio/?ref_=...</td>\n",
       "      <td>July 9</td>\n",
       "      <td>1956</td>\n",
       "      <td>Concord, California, USA</td>\n",
       "      <td>Thomas Jeffrey Hanks</td>\n",
       "      <td>1.83</td>\n",
       "      <td>nan</td>\n",
       "      <td>67</td>\n",
       "      <td>93</td>\n",
       "      <td>209</td>\n",
       "      <td>62</td>\n",
       "      <td>96</td>\n",
       "      <td>Nan</td>\n",
       "      <td>20</td>\n",
       "    </tr>\n",
       "    <tr>\n",
       "      <th>12</th>\n",
       "      <td>Samuel L. Jackson</td>\n",
       "      <td>male</td>\n",
       "      <td>Actor</td>\n",
       "      <td>30.5</td>\n",
       "      <td>https://www.imdb.com/name/nm0000168/</td>\n",
       "      <td>https://www.imdb.com/name/nm0000168/bio/?ref_=...</td>\n",
       "      <td>December 21</td>\n",
       "      <td>1948</td>\n",
       "      <td>Washington D.C., USA</td>\n",
       "      <td>Samuel Leroy Jackson</td>\n",
       "      <td>1.89</td>\n",
       "      <td>Sam, King of Cool, Mr Cool</td>\n",
       "      <td>75</td>\n",
       "      <td>48</td>\n",
       "      <td>95</td>\n",
       "      <td>12</td>\n",
       "      <td>208</td>\n",
       "      <td>Nan</td>\n",
       "      <td>6</td>\n",
       "    </tr>\n",
       "    <tr>\n",
       "      <th>13</th>\n",
       "      <td>Ryan Gosling</td>\n",
       "      <td>male</td>\n",
       "      <td>Actor</td>\n",
       "      <td>29.0</td>\n",
       "      <td>https://www.imdb.com/name/nm0331516/</td>\n",
       "      <td>https://www.imdb.com/name/nm0331516/bio/?ref_=...</td>\n",
       "      <td>November 12</td>\n",
       "      <td>1980</td>\n",
       "      <td>London, Ontario, Canada</td>\n",
       "      <td>Ryan Thomas Gosling</td>\n",
       "      <td>1.84</td>\n",
       "      <td>nan</td>\n",
       "      <td>43</td>\n",
       "      <td>35</td>\n",
       "      <td>159</td>\n",
       "      <td>9</td>\n",
       "      <td>50</td>\n",
       "      <td>Nan</td>\n",
       "      <td>16</td>\n",
       "    </tr>\n",
       "    <tr>\n",
       "      <th>14</th>\n",
       "      <td>Emma Stone</td>\n",
       "      <td>female</td>\n",
       "      <td>Actress</td>\n",
       "      <td>26.0</td>\n",
       "      <td>https://www.imdb.com/name/nm1297015/</td>\n",
       "      <td>https://www.imdb.com/name/nm1297015/bio/?ref_=...</td>\n",
       "      <td>November 6</td>\n",
       "      <td>1988</td>\n",
       "      <td>Scottsdale, Arizona, USA</td>\n",
       "      <td>Emily Jean Stone</td>\n",
       "      <td>1.68</td>\n",
       "      <td>Emma</td>\n",
       "      <td>35</td>\n",
       "      <td>72</td>\n",
       "      <td>185</td>\n",
       "      <td>11</td>\n",
       "      <td>55</td>\n",
       "      <td>Nan</td>\n",
       "      <td>4</td>\n",
       "    </tr>\n",
       "    <tr>\n",
       "      <th>15</th>\n",
       "      <td>Jennifer Aniston</td>\n",
       "      <td>female</td>\n",
       "      <td>Actress</td>\n",
       "      <td>25.5</td>\n",
       "      <td>https://www.imdb.com/name/nm0000098/</td>\n",
       "      <td>https://www.imdb.com/name/nm0000098/bio/?ref_=...</td>\n",
       "      <td>February 11</td>\n",
       "      <td>1969</td>\n",
       "      <td>Sherman Oaks, California, USA</td>\n",
       "      <td>Jennifer Joanna Aniston</td>\n",
       "      <td>1.64</td>\n",
       "      <td>Jen, Jenny</td>\n",
       "      <td>54</td>\n",
       "      <td>43</td>\n",
       "      <td>97</td>\n",
       "      <td>15</td>\n",
       "      <td>72</td>\n",
       "      <td>Nan</td>\n",
       "      <td>10</td>\n",
       "    </tr>\n",
       "    <tr>\n",
       "      <th>16</th>\n",
       "      <td>Jennifer Lawrence</td>\n",
       "      <td>female</td>\n",
       "      <td>Actress</td>\n",
       "      <td>24.0</td>\n",
       "      <td>https://www.imdb.com/name/nm2225369/</td>\n",
       "      <td>https://www.imdb.com/name/nm2225369/bio/?ref_=...</td>\n",
       "      <td>August 15</td>\n",
       "      <td>1990</td>\n",
       "      <td>Louisville, Kentucky, USA</td>\n",
       "      <td>Jennifer Shrader Lawrence</td>\n",
       "      <td>1.75</td>\n",
       "      <td>Jen, J. Law, Nitro</td>\n",
       "      <td>33</td>\n",
       "      <td>120</td>\n",
       "      <td>192</td>\n",
       "      <td>6</td>\n",
       "      <td>38</td>\n",
       "      <td>Nan</td>\n",
       "      <td>7</td>\n",
       "    </tr>\n",
       "    <tr>\n",
       "      <th>17</th>\n",
       "      <td>Ryan Reynolds</td>\n",
       "      <td>male</td>\n",
       "      <td>Actor</td>\n",
       "      <td>21.5</td>\n",
       "      <td>https://www.imdb.com/name/nm0005351/</td>\n",
       "      <td>https://www.imdb.com/name/nm0005351/bio/?ref_=...</td>\n",
       "      <td>October 23</td>\n",
       "      <td>1976</td>\n",
       "      <td>Vancouver, British Columbia, Canada</td>\n",
       "      <td>Ryan Rodney Reynolds</td>\n",
       "      <td>1.88</td>\n",
       "      <td>nan</td>\n",
       "      <td>47</td>\n",
       "      <td>21</td>\n",
       "      <td>62</td>\n",
       "      <td>26</td>\n",
       "      <td>127</td>\n",
       "      <td>Nan</td>\n",
       "      <td>5</td>\n",
       "    </tr>\n",
       "    <tr>\n",
       "      <th>18</th>\n",
       "      <td>Matt Damon</td>\n",
       "      <td>male</td>\n",
       "      <td>Actor</td>\n",
       "      <td>21.0</td>\n",
       "      <td>https://www.imdb.com/name/nm0000354/</td>\n",
       "      <td>https://www.imdb.com/name/nm0000354/bio/?ref_=...</td>\n",
       "      <td>October 8</td>\n",
       "      <td>1970</td>\n",
       "      <td>Boston, Massachusetts, USA</td>\n",
       "      <td>Matthew Paige Damon</td>\n",
       "      <td>1.78</td>\n",
       "      <td>nan</td>\n",
       "      <td>53</td>\n",
       "      <td>37</td>\n",
       "      <td>154</td>\n",
       "      <td>32</td>\n",
       "      <td>97</td>\n",
       "      <td>Nan</td>\n",
       "      <td>7</td>\n",
       "    </tr>\n",
       "    <tr>\n",
       "      <th>19</th>\n",
       "      <td>Jeremy Renner</td>\n",
       "      <td>male</td>\n",
       "      <td>Actor</td>\n",
       "      <td>19.0</td>\n",
       "      <td>https://www.imdb.com/name/nm0719637/</td>\n",
       "      <td>https://www.imdb.com/name/nm0719637/bio/?ref_=...</td>\n",
       "      <td>January 7</td>\n",
       "      <td>1971</td>\n",
       "      <td>Modesto, California, USA</td>\n",
       "      <td>Jeremy Lee Renner</td>\n",
       "      <td>1.74</td>\n",
       "      <td>Renni</td>\n",
       "      <td>52</td>\n",
       "      <td>35</td>\n",
       "      <td>64</td>\n",
       "      <td>6</td>\n",
       "      <td>62</td>\n",
       "      <td>Nan</td>\n",
       "      <td>9</td>\n",
       "    </tr>\n",
       "    <tr>\n",
       "      <th>20</th>\n",
       "      <td>Chris Evans</td>\n",
       "      <td>male</td>\n",
       "      <td>Actor</td>\n",
       "      <td>18.0</td>\n",
       "      <td>https://www.imdb.com/name/nm0262635/</td>\n",
       "      <td>https://www.imdb.com/name/nm0262635/bio/?ref_=...</td>\n",
       "      <td>June 13</td>\n",
       "      <td>1981</td>\n",
       "      <td>Boston, Massachusetts, USA</td>\n",
       "      <td>Christopher Robert Evans</td>\n",
       "      <td>1.83</td>\n",
       "      <td>Cevans</td>\n",
       "      <td>42</td>\n",
       "      <td>8</td>\n",
       "      <td>58</td>\n",
       "      <td>4</td>\n",
       "      <td>60</td>\n",
       "      <td>Nan</td>\n",
       "      <td>1</td>\n",
       "    </tr>\n",
       "    <tr>\n",
       "      <th>21</th>\n",
       "      <td>Melissa McCarthy</td>\n",
       "      <td>female</td>\n",
       "      <td>Actress</td>\n",
       "      <td>18.0</td>\n",
       "      <td>https://www.imdb.com/name/nm0565250/</td>\n",
       "      <td>https://www.imdb.com/name/nm0565250/bio/?ref_=...</td>\n",
       "      <td>August 26</td>\n",
       "      <td>1970</td>\n",
       "      <td>Plainfield, Illinois, USA</td>\n",
       "      <td>Melissa Ann McCarthy</td>\n",
       "      <td>1.57</td>\n",
       "      <td>nan</td>\n",
       "      <td>53</td>\n",
       "      <td>39</td>\n",
       "      <td>111</td>\n",
       "      <td>15</td>\n",
       "      <td>63</td>\n",
       "      <td>Nan</td>\n",
       "      <td>7</td>\n",
       "    </tr>\n",
       "    <tr>\n",
       "      <th>22</th>\n",
       "      <td>Chris Pratt</td>\n",
       "      <td>male</td>\n",
       "      <td>Actor</td>\n",
       "      <td>17.0</td>\n",
       "      <td>https://www.imdb.com/name/nm0695435/</td>\n",
       "      <td>https://www.imdb.com/name/nm0695435/bio/?ref_=...</td>\n",
       "      <td>June 21</td>\n",
       "      <td>1979</td>\n",
       "      <td>Virginia, Minnesota, USA</td>\n",
       "      <td>Christopher Michael Pratt</td>\n",
       "      <td>1.88</td>\n",
       "      <td>Chris</td>\n",
       "      <td>44</td>\n",
       "      <td>18</td>\n",
       "      <td>41</td>\n",
       "      <td>5</td>\n",
       "      <td>69</td>\n",
       "      <td>Nan</td>\n",
       "      <td>8</td>\n",
       "    </tr>\n",
       "    <tr>\n",
       "      <th>23</th>\n",
       "      <td>Mila Kunis</td>\n",
       "      <td>female</td>\n",
       "      <td>Actress</td>\n",
       "      <td>15.5</td>\n",
       "      <td>https://www.imdb.com/name/nm0005109/</td>\n",
       "      <td>https://www.imdb.com/name/nm0005109/bio/?ref_=...</td>\n",
       "      <td>August 14</td>\n",
       "      <td>1983</td>\n",
       "      <td>Chernovtsy, Ukrainian SSR, USSR [now Chernivts...</td>\n",
       "      <td>Milena Markovna Kunis</td>\n",
       "      <td>1.63</td>\n",
       "      <td>Goldfish</td>\n",
       "      <td>40</td>\n",
       "      <td>14</td>\n",
       "      <td>62</td>\n",
       "      <td>9</td>\n",
       "      <td>76</td>\n",
       "      <td>Nan</td>\n",
       "      <td>4</td>\n",
       "    </tr>\n",
       "    <tr>\n",
       "      <th>24</th>\n",
       "      <td>Emma Watson</td>\n",
       "      <td>female</td>\n",
       "      <td>Actress</td>\n",
       "      <td>14.0</td>\n",
       "      <td>https://www.imdb.com/name/nm0914612/</td>\n",
       "      <td>https://www.imdb.com/name/nm0914612/bio/?ref_=...</td>\n",
       "      <td>April 15</td>\n",
       "      <td>1990</td>\n",
       "      <td>Paris, France</td>\n",
       "      <td>Emma Charlotte Duerre Watson</td>\n",
       "      <td>1.65</td>\n",
       "      <td>Em</td>\n",
       "      <td>33</td>\n",
       "      <td>26</td>\n",
       "      <td>65</td>\n",
       "      <td>Nan</td>\n",
       "      <td>26</td>\n",
       "      <td>Nan</td>\n",
       "      <td>3</td>\n",
       "    </tr>\n",
       "    <tr>\n",
       "      <th>25</th>\n",
       "      <td>Charlize Theron</td>\n",
       "      <td>male</td>\n",
       "      <td>Producer</td>\n",
       "      <td>14.0</td>\n",
       "      <td>https://www.imdb.com/name/nm0000234/</td>\n",
       "      <td>https://www.imdb.com/name/nm0000234/bio/?ref_=...</td>\n",
       "      <td>August 7</td>\n",
       "      <td>1975</td>\n",
       "      <td>Benoni, Transvaal, South Africa</td>\n",
       "      <td>No data available</td>\n",
       "      <td>1.77</td>\n",
       "      <td>Charlie</td>\n",
       "      <td>48</td>\n",
       "      <td>69</td>\n",
       "      <td>147</td>\n",
       "      <td>24</td>\n",
       "      <td>70</td>\n",
       "      <td>Nan</td>\n",
       "      <td>2</td>\n",
       "    </tr>\n",
       "    <tr>\n",
       "      <th>26</th>\n",
       "      <td>Mark Ruffalo</td>\n",
       "      <td>male</td>\n",
       "      <td>Actor</td>\n",
       "      <td>13.0</td>\n",
       "      <td>https://www.imdb.com/name/nm0749263/</td>\n",
       "      <td>https://www.imdb.com/name/nm0749263/bio/?ref_=...</td>\n",
       "      <td>November 22</td>\n",
       "      <td>1967</td>\n",
       "      <td>Kenosha, Wisconsin, USA</td>\n",
       "      <td>Mark Alan Ruffalo</td>\n",
       "      <td>1.73</td>\n",
       "      <td>nan</td>\n",
       "      <td>56</td>\n",
       "      <td>35</td>\n",
       "      <td>129</td>\n",
       "      <td>10</td>\n",
       "      <td>79</td>\n",
       "      <td>Nan</td>\n",
       "      <td>5</td>\n",
       "    </tr>\n",
       "    <tr>\n",
       "      <th>27</th>\n",
       "      <td>Cate Blanchett</td>\n",
       "      <td>female</td>\n",
       "      <td>Actress</td>\n",
       "      <td>12.0</td>\n",
       "      <td>https://www.imdb.com/name/nm0000949/</td>\n",
       "      <td>https://www.imdb.com/name/nm0000949/bio/?ref_=...</td>\n",
       "      <td>May 14</td>\n",
       "      <td>1969</td>\n",
       "      <td>Melbourne, Victoria, Australia</td>\n",
       "      <td>Catherine Elise Blanchett</td>\n",
       "      <td>1.74</td>\n",
       "      <td>nan</td>\n",
       "      <td>54</td>\n",
       "      <td>202</td>\n",
       "      <td>269</td>\n",
       "      <td>15</td>\n",
       "      <td>95</td>\n",
       "      <td>Nan</td>\n",
       "      <td>2</td>\n",
       "    </tr>\n",
       "    <tr>\n",
       "      <th>28</th>\n",
       "      <td>Julia Roberts</td>\n",
       "      <td>female</td>\n",
       "      <td>Actress</td>\n",
       "      <td>12.0</td>\n",
       "      <td>https://www.imdb.com/name/nm0000210/</td>\n",
       "      <td>https://www.imdb.com/name/nm0000210/bio/?ref_=...</td>\n",
       "      <td>October 28</td>\n",
       "      <td>1967</td>\n",
       "      <td>Smyrna, Georgia, USA</td>\n",
       "      <td>Julia Fiona Roberts</td>\n",
       "      <td>1.73</td>\n",
       "      <td>Jules</td>\n",
       "      <td>56</td>\n",
       "      <td>61</td>\n",
       "      <td>114</td>\n",
       "      <td>12</td>\n",
       "      <td>68</td>\n",
       "      <td>Nan</td>\n",
       "      <td>5</td>\n",
       "    </tr>\n",
       "    <tr>\n",
       "      <th>29</th>\n",
       "      <td>Amy Adams</td>\n",
       "      <td>female</td>\n",
       "      <td>Actress</td>\n",
       "      <td>11.5</td>\n",
       "      <td>https://www.imdb.com/name/nm0010736/</td>\n",
       "      <td>https://www.imdb.com/name/nm0010736/bio/?ref_=...</td>\n",
       "      <td>August 20</td>\n",
       "      <td>1974</td>\n",
       "      <td>Vicenza, Veneto, Italy</td>\n",
       "      <td>Amy Lou Adams</td>\n",
       "      <td>1.63</td>\n",
       "      <td>nan</td>\n",
       "      <td>49</td>\n",
       "      <td>74</td>\n",
       "      <td>246</td>\n",
       "      <td>6</td>\n",
       "      <td>69</td>\n",
       "      <td>Nan</td>\n",
       "      <td>14</td>\n",
       "    </tr>\n",
       "  </tbody>\n",
       "</table>\n",
       "</div>"
      ],
      "text/plain": [
       "          actors_name     sex  position  salary  \\\n",
       "0       Mark Wahlberg    male  Producer    68.0   \n",
       "1      Dwayne Johnson    male     Actor    65.0   \n",
       "2          Vin Diesel    male     Actor    54.5   \n",
       "3        Adam Sandler    male     Actor    50.5   \n",
       "4         Jackie Chan    male     Actor    49.0   \n",
       "5   Robert Downey Jr.    male     Actor    48.0   \n",
       "6          Tom Cruise    male     Actor    43.0   \n",
       "7      Shah Rukh Khan    male     Actor    38.0   \n",
       "8         Salman Khan    male     Actor    37.0   \n",
       "9        Akshay Kumar    male     Actor    35.5   \n",
       "10    Chris Hemsworth    male     Actor    31.5   \n",
       "11          Tom Hanks    male  Producer    31.0   \n",
       "12  Samuel L. Jackson    male     Actor    30.5   \n",
       "13       Ryan Gosling    male     Actor    29.0   \n",
       "14         Emma Stone  female   Actress    26.0   \n",
       "15   Jennifer Aniston  female   Actress    25.5   \n",
       "16  Jennifer Lawrence  female   Actress    24.0   \n",
       "17      Ryan Reynolds    male     Actor    21.5   \n",
       "18         Matt Damon    male     Actor    21.0   \n",
       "19      Jeremy Renner    male     Actor    19.0   \n",
       "20        Chris Evans    male     Actor    18.0   \n",
       "21   Melissa McCarthy  female   Actress    18.0   \n",
       "22        Chris Pratt    male     Actor    17.0   \n",
       "23         Mila Kunis  female   Actress    15.5   \n",
       "24        Emma Watson  female   Actress    14.0   \n",
       "25    Charlize Theron    male  Producer    14.0   \n",
       "26       Mark Ruffalo    male     Actor    13.0   \n",
       "27     Cate Blanchett  female   Actress    12.0   \n",
       "28      Julia Roberts  female   Actress    12.0   \n",
       "29          Amy Adams  female   Actress    11.5   \n",
       "\n",
       "                                     url  \\\n",
       "0   https://www.imdb.com/name/nm0000242/   \n",
       "1   https://www.imdb.com/name/nm0425005/   \n",
       "2   https://www.imdb.com/name/nm0004874/   \n",
       "3   https://www.imdb.com/name/nm0001191/   \n",
       "4   https://www.imdb.com/name/nm0000329/   \n",
       "5   https://www.imdb.com/name/nm0000375/   \n",
       "6   https://www.imdb.com/name/nm0000129/   \n",
       "7   https://www.imdb.com/name/nm0451321/   \n",
       "8   https://www.imdb.com/name/nm0006795/   \n",
       "9   https://www.imdb.com/name/nm0474774/   \n",
       "10  https://www.imdb.com/name/nm1165110/   \n",
       "11  https://www.imdb.com/name/nm0000158/   \n",
       "12  https://www.imdb.com/name/nm0000168/   \n",
       "13  https://www.imdb.com/name/nm0331516/   \n",
       "14  https://www.imdb.com/name/nm1297015/   \n",
       "15  https://www.imdb.com/name/nm0000098/   \n",
       "16  https://www.imdb.com/name/nm2225369/   \n",
       "17  https://www.imdb.com/name/nm0005351/   \n",
       "18  https://www.imdb.com/name/nm0000354/   \n",
       "19  https://www.imdb.com/name/nm0719637/   \n",
       "20  https://www.imdb.com/name/nm0262635/   \n",
       "21  https://www.imdb.com/name/nm0565250/   \n",
       "22  https://www.imdb.com/name/nm0695435/   \n",
       "23  https://www.imdb.com/name/nm0005109/   \n",
       "24  https://www.imdb.com/name/nm0914612/   \n",
       "25  https://www.imdb.com/name/nm0000234/   \n",
       "26  https://www.imdb.com/name/nm0749263/   \n",
       "27  https://www.imdb.com/name/nm0000949/   \n",
       "28  https://www.imdb.com/name/nm0000210/   \n",
       "29  https://www.imdb.com/name/nm0010736/   \n",
       "\n",
       "                                        short_bio_url   birth_date  \\\n",
       "0   https://www.imdb.com/name/nm0000242/bio/?ref_=...       June 5   \n",
       "1   https://www.imdb.com/name/nm0425005/bio/?ref_=...        May 2   \n",
       "2   https://www.imdb.com/name/nm0004874/bio/?ref_=...      July 18   \n",
       "3   https://www.imdb.com/name/nm0001191/bio/?ref_=...  September 9   \n",
       "4   https://www.imdb.com/name/nm0000329/bio/?ref_=...      April 7   \n",
       "5   https://www.imdb.com/name/nm0000375/bio/?ref_=...      April 4   \n",
       "6   https://www.imdb.com/name/nm0000129/bio/?ref_=...       July 3   \n",
       "7   https://www.imdb.com/name/nm0451321/bio/?ref_=...   November 2   \n",
       "8   https://www.imdb.com/name/nm0006795/bio/?ref_=...  December 27   \n",
       "9   https://www.imdb.com/name/nm0474774/bio/?ref_=...  September 9   \n",
       "10  https://www.imdb.com/name/nm1165110/bio/?ref_=...    August 11   \n",
       "11  https://www.imdb.com/name/nm0000158/bio/?ref_=...       July 9   \n",
       "12  https://www.imdb.com/name/nm0000168/bio/?ref_=...  December 21   \n",
       "13  https://www.imdb.com/name/nm0331516/bio/?ref_=...  November 12   \n",
       "14  https://www.imdb.com/name/nm1297015/bio/?ref_=...   November 6   \n",
       "15  https://www.imdb.com/name/nm0000098/bio/?ref_=...  February 11   \n",
       "16  https://www.imdb.com/name/nm2225369/bio/?ref_=...    August 15   \n",
       "17  https://www.imdb.com/name/nm0005351/bio/?ref_=...   October 23   \n",
       "18  https://www.imdb.com/name/nm0000354/bio/?ref_=...    October 8   \n",
       "19  https://www.imdb.com/name/nm0719637/bio/?ref_=...    January 7   \n",
       "20  https://www.imdb.com/name/nm0262635/bio/?ref_=...      June 13   \n",
       "21  https://www.imdb.com/name/nm0565250/bio/?ref_=...    August 26   \n",
       "22  https://www.imdb.com/name/nm0695435/bio/?ref_=...      June 21   \n",
       "23  https://www.imdb.com/name/nm0005109/bio/?ref_=...    August 14   \n",
       "24  https://www.imdb.com/name/nm0914612/bio/?ref_=...     April 15   \n",
       "25  https://www.imdb.com/name/nm0000234/bio/?ref_=...     August 7   \n",
       "26  https://www.imdb.com/name/nm0749263/bio/?ref_=...  November 22   \n",
       "27  https://www.imdb.com/name/nm0000949/bio/?ref_=...       May 14   \n",
       "28  https://www.imdb.com/name/nm0000210/bio/?ref_=...   October 28   \n",
       "29  https://www.imdb.com/name/nm0010736/bio/?ref_=...    August 20   \n",
       "\n",
       "    birth_year                                     place_of_birth  \\\n",
       "0         1971             Dorchester, Boston, Massachusetts, USA   \n",
       "1         1972                           Hayward, California, USA   \n",
       "2         1967                    Alameda County, California, USA   \n",
       "3         1966             Brooklyn, New York City, New York, USA   \n",
       "4         1954                           Victoria Peak, Hong Kong   \n",
       "5         1965            Manhattan, New York City, New York, USA   \n",
       "6         1962                            Syracuse, New York, USA   \n",
       "7         1965                                   New Delhi, India   \n",
       "8         1965                      Indore, Madhya Pradesh, India   \n",
       "9         1967                            Amritsar, Punjab, India   \n",
       "10        1983                     Melbourne, Victoria, Australia   \n",
       "11        1956                           Concord, California, USA   \n",
       "12        1948                               Washington D.C., USA   \n",
       "13        1980                            London, Ontario, Canada   \n",
       "14        1988                           Scottsdale, Arizona, USA   \n",
       "15        1969                      Sherman Oaks, California, USA   \n",
       "16        1990                          Louisville, Kentucky, USA   \n",
       "17        1976                Vancouver, British Columbia, Canada   \n",
       "18        1970                         Boston, Massachusetts, USA   \n",
       "19        1971                           Modesto, California, USA   \n",
       "20        1981                         Boston, Massachusetts, USA   \n",
       "21        1970                          Plainfield, Illinois, USA   \n",
       "22        1979                           Virginia, Minnesota, USA   \n",
       "23        1983  Chernovtsy, Ukrainian SSR, USSR [now Chernivts...   \n",
       "24        1990                                      Paris, France   \n",
       "25        1975                    Benoni, Transvaal, South Africa   \n",
       "26        1967                            Kenosha, Wisconsin, USA   \n",
       "27        1969                     Melbourne, Victoria, Australia   \n",
       "28        1967                               Smyrna, Georgia, USA   \n",
       "29        1974                             Vicenza, Veneto, Italy   \n",
       "\n",
       "                        birth_name  height  \\\n",
       "0     Mark Robert Michael Wahlberg    1.73   \n",
       "1           Dwayne Douglas Johnson    1.96   \n",
       "2                    Mark Sinclair    1.82   \n",
       "3             Adam Richard Sandler    1.77   \n",
       "4                   Kong-sang Chan    1.72   \n",
       "5            Robert John Downey Jr    1.73   \n",
       "6        Thomas Cruise Mapother IV    1.70   \n",
       "7                No data available    1.69   \n",
       "8   Abdul Rashid Salim Salman Khan    1.69   \n",
       "9             Rajiv Hari Om-Bhatia    1.78   \n",
       "10           Christopher Hemsworth    1.91   \n",
       "11            Thomas Jeffrey Hanks    1.83   \n",
       "12            Samuel Leroy Jackson    1.89   \n",
       "13             Ryan Thomas Gosling    1.84   \n",
       "14                Emily Jean Stone    1.68   \n",
       "15         Jennifer Joanna Aniston    1.64   \n",
       "16       Jennifer Shrader Lawrence    1.75   \n",
       "17            Ryan Rodney Reynolds    1.88   \n",
       "18             Matthew Paige Damon    1.78   \n",
       "19               Jeremy Lee Renner    1.74   \n",
       "20        Christopher Robert Evans    1.83   \n",
       "21            Melissa Ann McCarthy    1.57   \n",
       "22       Christopher Michael Pratt    1.88   \n",
       "23           Milena Markovna Kunis    1.63   \n",
       "24    Emma Charlotte Duerre Watson    1.65   \n",
       "25               No data available    1.77   \n",
       "26               Mark Alan Ruffalo    1.73   \n",
       "27       Catherine Elise Blanchett    1.74   \n",
       "28             Julia Fiona Roberts    1.73   \n",
       "29                   Amy Lou Adams    1.63   \n",
       "\n",
       "                                            nicknames  age  wins  nominations  \\\n",
       "0                                  Marky Mark, Monk D   52    24           82   \n",
       "1   The Peoples Champion, The Brahma Bull, The Gre...   51    19           74   \n",
       "2                                                 nan   56     9           41   \n",
       "3                                             Sandman   57    72          132   \n",
       "4         Yuen Lo, Sing Lung, Pao Pao, Kung-Fu Master   69    48           50   \n",
       "5                                            Bob, RDJ   58    43          122   \n",
       "6                                                  TC   61    59          108   \n",
       "7   King Khan, SRK, The Badshah of Bollywood, The ...   58   116          138   \n",
       "8   Sallu, Bhaijaan, Dabangg Khan, Rambo of India,...   58    45          124   \n",
       "9                   Akki, Mac, Khiladi, Khiladi Kumar   56    53          137   \n",
       "10                                         Kip, Chris   40    15           47   \n",
       "11                                                nan   67    93          209   \n",
       "12                         Sam, King of Cool, Mr Cool   75    48           95   \n",
       "13                                                nan   43    35          159   \n",
       "14                                               Emma   35    72          185   \n",
       "15                                         Jen, Jenny   54    43           97   \n",
       "16                                 Jen, J. Law, Nitro   33   120          192   \n",
       "17                                                nan   47    21           62   \n",
       "18                                                nan   53    37          154   \n",
       "19                                              Renni   52    35           64   \n",
       "20                                             Cevans   42     8           58   \n",
       "21                                                nan   53    39          111   \n",
       "22                                              Chris   44    18           41   \n",
       "23                                           Goldfish   40    14           62   \n",
       "24                                                 Em   33    26           65   \n",
       "25                                            Charlie   48    69          147   \n",
       "26                                                nan   56    35          129   \n",
       "27                                                nan   54   202          269   \n",
       "28                                              Jules   56    61          114   \n",
       "29                                                nan   49    74          246   \n",
       "\n",
       "   producer_credits actors_credits composers_credits sountrack_credits  \n",
       "0                42             79                 9                44  \n",
       "1                48            105               Nan                13  \n",
       "2                34             60               Nan                 1  \n",
       "3                62             86                 3                36  \n",
       "4                66            148               Nan                14  \n",
       "5                18             94               Nan                11  \n",
       "6                23             50               Nan                 7  \n",
       "7                18            111               Nan                 9  \n",
       "8                14            134                 1                11  \n",
       "9                20            176               Nan                 6  \n",
       "10                9             51               Nan                 1  \n",
       "11               62             96               Nan                20  \n",
       "12               12            208               Nan                 6  \n",
       "13                9             50               Nan                16  \n",
       "14               11             55               Nan                 4  \n",
       "15               15             72               Nan                10  \n",
       "16                6             38               Nan                 7  \n",
       "17               26            127               Nan                 5  \n",
       "18               32             97               Nan                 7  \n",
       "19                6             62               Nan                 9  \n",
       "20                4             60               Nan                 1  \n",
       "21               15             63               Nan                 7  \n",
       "22                5             69               Nan                 8  \n",
       "23                9             76               Nan                 4  \n",
       "24              Nan             26               Nan                 3  \n",
       "25               24             70               Nan                 2  \n",
       "26               10             79               Nan                 5  \n",
       "27               15             95               Nan                 2  \n",
       "28               12             68               Nan                 5  \n",
       "29                6             69               Nan                14  "
      ]
     },
     "execution_count": 87,
     "metadata": {},
     "output_type": "execute_result"
    }
   ],
   "source": [
    "df"
   ]
  },
  {
   "cell_type": "code",
   "execution_count": 88,
   "metadata": {},
   "outputs": [],
   "source": [
    "df.to_csv('actors_imdb_data.csv', sep = ',', index = False, header = True)"
   ]
  },
  {
   "cell_type": "markdown",
   "metadata": {},
   "source": [
    "## 2. Загрузка и изучение данных\n",
    "Теперь давайте на самом деле используем данные!Здесь мы просим вас выполнить несколько операций, используя Pandas в нашем новом наборе данных."
   ]
  },
  {
   "cell_type": "markdown",
   "metadata": {},
   "source": [
    "<div class = 'Упражнение'> <b> Упражнение 2.1: Сохранение и загрузку данных </b>\n",
    "    \n",
    "Сохраните DataFrame как CSV, а затем загрузите его снова, сохраняя его под другим именем.Сравните количество столбцов вашего нового DataFrame с `df` выше.Если это другое, почему?\n",
    "</div>"
   ]
  },
  {
   "cell_type": "code",
   "execution_count": 89,
   "metadata": {},
   "outputs": [
    {
     "data": {
      "text/html": [
       "<div>\n",
       "<style scoped>\n",
       "    .dataframe tbody tr th:only-of-type {\n",
       "        vertical-align: middle;\n",
       "    }\n",
       "\n",
       "    .dataframe tbody tr th {\n",
       "        vertical-align: top;\n",
       "    }\n",
       "\n",
       "    .dataframe thead th {\n",
       "        text-align: right;\n",
       "    }\n",
       "</style>\n",
       "<table border=\"1\" class=\"dataframe\">\n",
       "  <thead>\n",
       "    <tr style=\"text-align: right;\">\n",
       "      <th></th>\n",
       "      <th>actors_name</th>\n",
       "      <th>sex</th>\n",
       "      <th>position</th>\n",
       "      <th>salary</th>\n",
       "      <th>url</th>\n",
       "      <th>short_bio_url</th>\n",
       "      <th>birth_date</th>\n",
       "      <th>birth_year</th>\n",
       "      <th>place_of_birth</th>\n",
       "      <th>birth_name</th>\n",
       "      <th>height</th>\n",
       "      <th>nicknames</th>\n",
       "      <th>age</th>\n",
       "      <th>wins</th>\n",
       "      <th>nominations</th>\n",
       "      <th>producer_credits</th>\n",
       "      <th>actors_credits</th>\n",
       "      <th>composers_credits</th>\n",
       "      <th>sountrack_credits</th>\n",
       "    </tr>\n",
       "  </thead>\n",
       "  <tbody>\n",
       "    <tr>\n",
       "      <th>0</th>\n",
       "      <td>Mark Wahlberg</td>\n",
       "      <td>male</td>\n",
       "      <td>Producer</td>\n",
       "      <td>68.0</td>\n",
       "      <td>https://www.imdb.com/name/nm0000242/</td>\n",
       "      <td>https://www.imdb.com/name/nm0000242/bio/?ref_=...</td>\n",
       "      <td>June 5</td>\n",
       "      <td>1971</td>\n",
       "      <td>Dorchester, Boston, Massachusetts, USA</td>\n",
       "      <td>Mark Robert Michael Wahlberg</td>\n",
       "      <td>1.73</td>\n",
       "      <td>Marky Mark, Monk D</td>\n",
       "      <td>52</td>\n",
       "      <td>24</td>\n",
       "      <td>82</td>\n",
       "      <td>42</td>\n",
       "      <td>79</td>\n",
       "      <td>9</td>\n",
       "      <td>44</td>\n",
       "    </tr>\n",
       "    <tr>\n",
       "      <th>1</th>\n",
       "      <td>Dwayne Johnson</td>\n",
       "      <td>male</td>\n",
       "      <td>Actor</td>\n",
       "      <td>65.0</td>\n",
       "      <td>https://www.imdb.com/name/nm0425005/</td>\n",
       "      <td>https://www.imdb.com/name/nm0425005/bio/?ref_=...</td>\n",
       "      <td>May 2</td>\n",
       "      <td>1972</td>\n",
       "      <td>Hayward, California, USA</td>\n",
       "      <td>Dwayne Douglas Johnson</td>\n",
       "      <td>1.96</td>\n",
       "      <td>The Peoples Champion, The Brahma Bull, The Gre...</td>\n",
       "      <td>51</td>\n",
       "      <td>19</td>\n",
       "      <td>74</td>\n",
       "      <td>48</td>\n",
       "      <td>105</td>\n",
       "      <td>Nan</td>\n",
       "      <td>13</td>\n",
       "    </tr>\n",
       "    <tr>\n",
       "      <th>2</th>\n",
       "      <td>Vin Diesel</td>\n",
       "      <td>male</td>\n",
       "      <td>Actor</td>\n",
       "      <td>54.5</td>\n",
       "      <td>https://www.imdb.com/name/nm0004874/</td>\n",
       "      <td>https://www.imdb.com/name/nm0004874/bio/?ref_=...</td>\n",
       "      <td>July 18</td>\n",
       "      <td>1967</td>\n",
       "      <td>Alameda County, California, USA</td>\n",
       "      <td>Mark Sinclair</td>\n",
       "      <td>1.82</td>\n",
       "      <td>NaN</td>\n",
       "      <td>56</td>\n",
       "      <td>9</td>\n",
       "      <td>41</td>\n",
       "      <td>34</td>\n",
       "      <td>60</td>\n",
       "      <td>Nan</td>\n",
       "      <td>1</td>\n",
       "    </tr>\n",
       "    <tr>\n",
       "      <th>3</th>\n",
       "      <td>Adam Sandler</td>\n",
       "      <td>male</td>\n",
       "      <td>Actor</td>\n",
       "      <td>50.5</td>\n",
       "      <td>https://www.imdb.com/name/nm0001191/</td>\n",
       "      <td>https://www.imdb.com/name/nm0001191/bio/?ref_=...</td>\n",
       "      <td>September 9</td>\n",
       "      <td>1966</td>\n",
       "      <td>Brooklyn, New York City, New York, USA</td>\n",
       "      <td>Adam Richard Sandler</td>\n",
       "      <td>1.77</td>\n",
       "      <td>Sandman</td>\n",
       "      <td>57</td>\n",
       "      <td>72</td>\n",
       "      <td>132</td>\n",
       "      <td>62</td>\n",
       "      <td>86</td>\n",
       "      <td>3</td>\n",
       "      <td>36</td>\n",
       "    </tr>\n",
       "    <tr>\n",
       "      <th>4</th>\n",
       "      <td>Jackie Chan</td>\n",
       "      <td>male</td>\n",
       "      <td>Actor</td>\n",
       "      <td>49.0</td>\n",
       "      <td>https://www.imdb.com/name/nm0000329/</td>\n",
       "      <td>https://www.imdb.com/name/nm0000329/bio/?ref_=...</td>\n",
       "      <td>April 7</td>\n",
       "      <td>1954</td>\n",
       "      <td>Victoria Peak, Hong Kong</td>\n",
       "      <td>Kong-sang Chan</td>\n",
       "      <td>1.72</td>\n",
       "      <td>Yuen Lo, Sing Lung, Pao Pao, Kung-Fu Master</td>\n",
       "      <td>69</td>\n",
       "      <td>48</td>\n",
       "      <td>50</td>\n",
       "      <td>66</td>\n",
       "      <td>148</td>\n",
       "      <td>Nan</td>\n",
       "      <td>14</td>\n",
       "    </tr>\n",
       "  </tbody>\n",
       "</table>\n",
       "</div>"
      ],
      "text/plain": [
       "      actors_name   sex  position  salary  \\\n",
       "0   Mark Wahlberg  male  Producer    68.0   \n",
       "1  Dwayne Johnson  male     Actor    65.0   \n",
       "2      Vin Diesel  male     Actor    54.5   \n",
       "3    Adam Sandler  male     Actor    50.5   \n",
       "4     Jackie Chan  male     Actor    49.0   \n",
       "\n",
       "                                    url  \\\n",
       "0  https://www.imdb.com/name/nm0000242/   \n",
       "1  https://www.imdb.com/name/nm0425005/   \n",
       "2  https://www.imdb.com/name/nm0004874/   \n",
       "3  https://www.imdb.com/name/nm0001191/   \n",
       "4  https://www.imdb.com/name/nm0000329/   \n",
       "\n",
       "                                       short_bio_url   birth_date  birth_year  \\\n",
       "0  https://www.imdb.com/name/nm0000242/bio/?ref_=...       June 5        1971   \n",
       "1  https://www.imdb.com/name/nm0425005/bio/?ref_=...        May 2        1972   \n",
       "2  https://www.imdb.com/name/nm0004874/bio/?ref_=...      July 18        1967   \n",
       "3  https://www.imdb.com/name/nm0001191/bio/?ref_=...  September 9        1966   \n",
       "4  https://www.imdb.com/name/nm0000329/bio/?ref_=...      April 7        1954   \n",
       "\n",
       "                           place_of_birth                    birth_name  \\\n",
       "0  Dorchester, Boston, Massachusetts, USA  Mark Robert Michael Wahlberg   \n",
       "1                Hayward, California, USA        Dwayne Douglas Johnson   \n",
       "2         Alameda County, California, USA                 Mark Sinclair   \n",
       "3  Brooklyn, New York City, New York, USA          Adam Richard Sandler   \n",
       "4                Victoria Peak, Hong Kong                Kong-sang Chan   \n",
       "\n",
       "   height                                          nicknames  age  wins  \\\n",
       "0    1.73                                 Marky Mark, Monk D   52    24   \n",
       "1    1.96  The Peoples Champion, The Brahma Bull, The Gre...   51    19   \n",
       "2    1.82                                                NaN   56     9   \n",
       "3    1.77                                            Sandman   57    72   \n",
       "4    1.72        Yuen Lo, Sing Lung, Pao Pao, Kung-Fu Master   69    48   \n",
       "\n",
       "   nominations producer_credits  actors_credits composers_credits  \\\n",
       "0           82               42              79                 9   \n",
       "1           74               48             105               Nan   \n",
       "2           41               34              60               Nan   \n",
       "3          132               62              86                 3   \n",
       "4           50               66             148               Nan   \n",
       "\n",
       "   sountrack_credits  \n",
       "0                 44  \n",
       "1                 13  \n",
       "2                  1  \n",
       "3                 36  \n",
       "4                 14  "
      ]
     },
     "execution_count": 89,
     "metadata": {},
     "output_type": "execute_result"
    }
   ],
   "source": [
    "\n",
    "df = pd.read_csv('actors_imdb_data.csv')\n",
    "df.head()"
   ]
  },
  {
   "cell_type": "markdown",
   "metadata": {},
   "source": [
    "<div class = 'Упражнение'> <b> Упражнение 2.2: данные очистки </b>\n",
    "скорректировать наименования столбцов если есть ошибки ( например sountrack)\n",
    "змените все численные столбцы на тип `int` или `float`, в зависимости от того, что более подходит, с помощью функции`astype '.\n",
    "</div>"
   ]
  },
  {
   "cell_type": "code",
   "execution_count": 90,
   "metadata": {},
   "outputs": [],
   "source": [
    "import numpy as np"
   ]
  },
  {
   "cell_type": "code",
   "execution_count": 91,
   "metadata": {},
   "outputs": [],
   "source": [
    "df[['composers_credits']] = df[['composers_credits']].replace('Nan', np.NaN).replace(np.NaN, 0)\n",
    "df[['producer_credits']] = df[['producer_credits']].replace('Nan', np.NaN).replace(np.NaN, 0)"
   ]
  },
  {
   "cell_type": "code",
   "execution_count": 92,
   "metadata": {},
   "outputs": [],
   "source": [
    "\n",
    "df[['age', 'wins', 'nominations', 'producer_credits', 'actors_credits', 'composers_credits','sountrack_credits']] = df[['age', 'wins', 'nominations', 'producer_credits', 'actors_credits', 'composers_credits','sountrack_credits']].astype('int')"
   ]
  },
  {
   "cell_type": "code",
   "execution_count": 93,
   "metadata": {},
   "outputs": [],
   "source": [
    "df.rename(columns={'sountrack_credits': 'soundtrack_credits'}, inplace=True)"
   ]
  },
  {
   "cell_type": "code",
   "execution_count": 94,
   "metadata": {},
   "outputs": [],
   "source": [
    "df.to_csv('actors_imdb_data.csv', sep = ',', index = False, header = True)"
   ]
  },
  {
   "cell_type": "code",
   "execution_count": 95,
   "metadata": {},
   "outputs": [
    {
     "data": {
      "text/html": [
       "<div>\n",
       "<style scoped>\n",
       "    .dataframe tbody tr th:only-of-type {\n",
       "        vertical-align: middle;\n",
       "    }\n",
       "\n",
       "    .dataframe tbody tr th {\n",
       "        vertical-align: top;\n",
       "    }\n",
       "\n",
       "    .dataframe thead th {\n",
       "        text-align: right;\n",
       "    }\n",
       "</style>\n",
       "<table border=\"1\" class=\"dataframe\">\n",
       "  <thead>\n",
       "    <tr style=\"text-align: right;\">\n",
       "      <th></th>\n",
       "      <th>actors_name</th>\n",
       "      <th>sex</th>\n",
       "      <th>position</th>\n",
       "      <th>salary</th>\n",
       "      <th>url</th>\n",
       "      <th>short_bio_url</th>\n",
       "      <th>birth_date</th>\n",
       "      <th>birth_year</th>\n",
       "      <th>place_of_birth</th>\n",
       "      <th>birth_name</th>\n",
       "      <th>height</th>\n",
       "      <th>nicknames</th>\n",
       "      <th>age</th>\n",
       "      <th>wins</th>\n",
       "      <th>nominations</th>\n",
       "      <th>producer_credits</th>\n",
       "      <th>actors_credits</th>\n",
       "      <th>composers_credits</th>\n",
       "      <th>soundtrack_credits</th>\n",
       "    </tr>\n",
       "  </thead>\n",
       "  <tbody>\n",
       "    <tr>\n",
       "      <th>0</th>\n",
       "      <td>Mark Wahlberg</td>\n",
       "      <td>male</td>\n",
       "      <td>Producer</td>\n",
       "      <td>68.0</td>\n",
       "      <td>https://www.imdb.com/name/nm0000242/</td>\n",
       "      <td>https://www.imdb.com/name/nm0000242/bio/?ref_=...</td>\n",
       "      <td>June 5</td>\n",
       "      <td>1971</td>\n",
       "      <td>Dorchester, Boston, Massachusetts, USA</td>\n",
       "      <td>Mark Robert Michael Wahlberg</td>\n",
       "      <td>1.73</td>\n",
       "      <td>Marky Mark, Monk D</td>\n",
       "      <td>52</td>\n",
       "      <td>24</td>\n",
       "      <td>82</td>\n",
       "      <td>42</td>\n",
       "      <td>79</td>\n",
       "      <td>9</td>\n",
       "      <td>44</td>\n",
       "    </tr>\n",
       "  </tbody>\n",
       "</table>\n",
       "</div>"
      ],
      "text/plain": [
       "     actors_name   sex  position  salary  \\\n",
       "0  Mark Wahlberg  male  Producer    68.0   \n",
       "\n",
       "                                    url  \\\n",
       "0  https://www.imdb.com/name/nm0000242/   \n",
       "\n",
       "                                       short_bio_url birth_date  birth_year  \\\n",
       "0  https://www.imdb.com/name/nm0000242/bio/?ref_=...     June 5        1971   \n",
       "\n",
       "                           place_of_birth                    birth_name  \\\n",
       "0  Dorchester, Boston, Massachusetts, USA  Mark Robert Michael Wahlberg   \n",
       "\n",
       "   height           nicknames  age  wins  nominations  producer_credits  \\\n",
       "0    1.73  Marky Mark, Monk D   52    24           82                42   \n",
       "\n",
       "   actors_credits  composers_credits  soundtrack_credits  \n",
       "0              79                  9                  44  "
      ]
     },
     "execution_count": 95,
     "metadata": {},
     "output_type": "execute_result"
    }
   ],
   "source": [
    "df.head(1)"
   ]
  },
  {
   "cell_type": "markdown",
   "metadata": {},
   "source": [
    "<div class='exercise'><b> Упражнение 2.3: Нарезка и сортировка данных</b>.\n",
    "\n",
    "Используйте `df` для всех последующих упражнений. \n",
    "\n",
    "Создайте подмножество `df` из женщин-актрис, имеющих более 50 побед. \n",
    "\n",
    "Отсортируйте его по actors_credits, затем по producer_credits. \n",
    "\n",
    "Таким образом, при равенстве актерских кредитов на первом месте должна оказаться та, у кого больше продюсерских кредитов. \n",
    "Сортировка производится в порядке убывания (наибольшее количество актерских кредитов на первом месте).\n",
    "</div>"
   ]
  },
  {
   "cell_type": "code",
   "execution_count": 96,
   "metadata": {},
   "outputs": [
    {
     "data": {
      "text/html": [
       "<div>\n",
       "<style scoped>\n",
       "    .dataframe tbody tr th:only-of-type {\n",
       "        vertical-align: middle;\n",
       "    }\n",
       "\n",
       "    .dataframe tbody tr th {\n",
       "        vertical-align: top;\n",
       "    }\n",
       "\n",
       "    .dataframe thead th {\n",
       "        text-align: right;\n",
       "    }\n",
       "</style>\n",
       "<table border=\"1\" class=\"dataframe\">\n",
       "  <thead>\n",
       "    <tr style=\"text-align: right;\">\n",
       "      <th></th>\n",
       "      <th>actors_name</th>\n",
       "      <th>sex</th>\n",
       "      <th>position</th>\n",
       "      <th>salary</th>\n",
       "      <th>url</th>\n",
       "      <th>short_bio_url</th>\n",
       "      <th>birth_date</th>\n",
       "      <th>birth_year</th>\n",
       "      <th>place_of_birth</th>\n",
       "      <th>birth_name</th>\n",
       "      <th>height</th>\n",
       "      <th>nicknames</th>\n",
       "      <th>age</th>\n",
       "      <th>wins</th>\n",
       "      <th>nominations</th>\n",
       "      <th>producer_credits</th>\n",
       "      <th>actors_credits</th>\n",
       "      <th>composers_credits</th>\n",
       "      <th>soundtrack_credits</th>\n",
       "    </tr>\n",
       "  </thead>\n",
       "  <tbody>\n",
       "    <tr>\n",
       "      <th>27</th>\n",
       "      <td>Cate Blanchett</td>\n",
       "      <td>female</td>\n",
       "      <td>Actress</td>\n",
       "      <td>12.0</td>\n",
       "      <td>https://www.imdb.com/name/nm0000949/</td>\n",
       "      <td>https://www.imdb.com/name/nm0000949/bio/?ref_=...</td>\n",
       "      <td>May 14</td>\n",
       "      <td>1969</td>\n",
       "      <td>Melbourne, Victoria, Australia</td>\n",
       "      <td>Catherine Elise Blanchett</td>\n",
       "      <td>1.74</td>\n",
       "      <td>NaN</td>\n",
       "      <td>54</td>\n",
       "      <td>202</td>\n",
       "      <td>269</td>\n",
       "      <td>15</td>\n",
       "      <td>95</td>\n",
       "      <td>0</td>\n",
       "      <td>2</td>\n",
       "    </tr>\n",
       "    <tr>\n",
       "      <th>28</th>\n",
       "      <td>Julia Roberts</td>\n",
       "      <td>female</td>\n",
       "      <td>Actress</td>\n",
       "      <td>12.0</td>\n",
       "      <td>https://www.imdb.com/name/nm0000210/</td>\n",
       "      <td>https://www.imdb.com/name/nm0000210/bio/?ref_=...</td>\n",
       "      <td>October 28</td>\n",
       "      <td>1967</td>\n",
       "      <td>Smyrna, Georgia, USA</td>\n",
       "      <td>Julia Fiona Roberts</td>\n",
       "      <td>1.73</td>\n",
       "      <td>Jules</td>\n",
       "      <td>56</td>\n",
       "      <td>61</td>\n",
       "      <td>114</td>\n",
       "      <td>12</td>\n",
       "      <td>68</td>\n",
       "      <td>0</td>\n",
       "      <td>5</td>\n",
       "    </tr>\n",
       "    <tr>\n",
       "      <th>14</th>\n",
       "      <td>Emma Stone</td>\n",
       "      <td>female</td>\n",
       "      <td>Actress</td>\n",
       "      <td>26.0</td>\n",
       "      <td>https://www.imdb.com/name/nm1297015/</td>\n",
       "      <td>https://www.imdb.com/name/nm1297015/bio/?ref_=...</td>\n",
       "      <td>November 6</td>\n",
       "      <td>1988</td>\n",
       "      <td>Scottsdale, Arizona, USA</td>\n",
       "      <td>Emily Jean Stone</td>\n",
       "      <td>1.68</td>\n",
       "      <td>Emma</td>\n",
       "      <td>35</td>\n",
       "      <td>72</td>\n",
       "      <td>185</td>\n",
       "      <td>11</td>\n",
       "      <td>55</td>\n",
       "      <td>0</td>\n",
       "      <td>4</td>\n",
       "    </tr>\n",
       "    <tr>\n",
       "      <th>29</th>\n",
       "      <td>Amy Adams</td>\n",
       "      <td>female</td>\n",
       "      <td>Actress</td>\n",
       "      <td>11.5</td>\n",
       "      <td>https://www.imdb.com/name/nm0010736/</td>\n",
       "      <td>https://www.imdb.com/name/nm0010736/bio/?ref_=...</td>\n",
       "      <td>August 20</td>\n",
       "      <td>1974</td>\n",
       "      <td>Vicenza, Veneto, Italy</td>\n",
       "      <td>Amy Lou Adams</td>\n",
       "      <td>1.63</td>\n",
       "      <td>NaN</td>\n",
       "      <td>49</td>\n",
       "      <td>74</td>\n",
       "      <td>246</td>\n",
       "      <td>6</td>\n",
       "      <td>69</td>\n",
       "      <td>0</td>\n",
       "      <td>14</td>\n",
       "    </tr>\n",
       "    <tr>\n",
       "      <th>16</th>\n",
       "      <td>Jennifer Lawrence</td>\n",
       "      <td>female</td>\n",
       "      <td>Actress</td>\n",
       "      <td>24.0</td>\n",
       "      <td>https://www.imdb.com/name/nm2225369/</td>\n",
       "      <td>https://www.imdb.com/name/nm2225369/bio/?ref_=...</td>\n",
       "      <td>August 15</td>\n",
       "      <td>1990</td>\n",
       "      <td>Louisville, Kentucky, USA</td>\n",
       "      <td>Jennifer Shrader Lawrence</td>\n",
       "      <td>1.75</td>\n",
       "      <td>Jen, J. Law, Nitro</td>\n",
       "      <td>33</td>\n",
       "      <td>120</td>\n",
       "      <td>192</td>\n",
       "      <td>6</td>\n",
       "      <td>38</td>\n",
       "      <td>0</td>\n",
       "      <td>7</td>\n",
       "    </tr>\n",
       "  </tbody>\n",
       "</table>\n",
       "</div>"
      ],
      "text/plain": [
       "          actors_name     sex position  salary  \\\n",
       "27     Cate Blanchett  female  Actress    12.0   \n",
       "28      Julia Roberts  female  Actress    12.0   \n",
       "14         Emma Stone  female  Actress    26.0   \n",
       "29          Amy Adams  female  Actress    11.5   \n",
       "16  Jennifer Lawrence  female  Actress    24.0   \n",
       "\n",
       "                                     url  \\\n",
       "27  https://www.imdb.com/name/nm0000949/   \n",
       "28  https://www.imdb.com/name/nm0000210/   \n",
       "14  https://www.imdb.com/name/nm1297015/   \n",
       "29  https://www.imdb.com/name/nm0010736/   \n",
       "16  https://www.imdb.com/name/nm2225369/   \n",
       "\n",
       "                                        short_bio_url  birth_date  birth_year  \\\n",
       "27  https://www.imdb.com/name/nm0000949/bio/?ref_=...      May 14        1969   \n",
       "28  https://www.imdb.com/name/nm0000210/bio/?ref_=...  October 28        1967   \n",
       "14  https://www.imdb.com/name/nm1297015/bio/?ref_=...  November 6        1988   \n",
       "29  https://www.imdb.com/name/nm0010736/bio/?ref_=...   August 20        1974   \n",
       "16  https://www.imdb.com/name/nm2225369/bio/?ref_=...   August 15        1990   \n",
       "\n",
       "                    place_of_birth                 birth_name  height  \\\n",
       "27  Melbourne, Victoria, Australia  Catherine Elise Blanchett    1.74   \n",
       "28            Smyrna, Georgia, USA        Julia Fiona Roberts    1.73   \n",
       "14        Scottsdale, Arizona, USA           Emily Jean Stone    1.68   \n",
       "29          Vicenza, Veneto, Italy              Amy Lou Adams    1.63   \n",
       "16       Louisville, Kentucky, USA  Jennifer Shrader Lawrence    1.75   \n",
       "\n",
       "             nicknames  age  wins  nominations  producer_credits  \\\n",
       "27                 NaN   54   202          269                15   \n",
       "28               Jules   56    61          114                12   \n",
       "14                Emma   35    72          185                11   \n",
       "29                 NaN   49    74          246                 6   \n",
       "16  Jen, J. Law, Nitro   33   120          192                 6   \n",
       "\n",
       "    actors_credits  composers_credits  soundtrack_credits  \n",
       "27              95                  0                   2  \n",
       "28              68                  0                   5  \n",
       "14              55                  0                   4  \n",
       "29              69                  0                  14  \n",
       "16              38                  0                   7  "
      ]
     },
     "execution_count": 96,
     "metadata": {},
     "output_type": "execute_result"
    }
   ],
   "source": [
    "top_actress = df.loc[(df['wins'] >= 50) & (df['sex']== 'female')].sort_values(['actors_credits'], ascending=False).sort_values(['producer_credits'], ascending=False)\n",
    "top_actress"
   ]
  },
  {
   "cell_type": "markdown",
   "metadata": {},
   "source": [
    "<div class='exercise'><b> Exercise 2.4: Data Summary Statistics</b>\n",
    "\n",
    "Calculate summary statistics for the actors' salaries and total credits (actor + producer + composer + soundtrack).\n",
    "\n",
    "</div>"
   ]
  },
  {
   "cell_type": "code",
   "execution_count": 97,
   "metadata": {},
   "outputs": [
    {
     "data": {
      "text/html": [
       "<div>\n",
       "<style scoped>\n",
       "    .dataframe tbody tr th:only-of-type {\n",
       "        vertical-align: middle;\n",
       "    }\n",
       "\n",
       "    .dataframe tbody tr th {\n",
       "        vertical-align: top;\n",
       "    }\n",
       "\n",
       "    .dataframe thead th {\n",
       "        text-align: right;\n",
       "    }\n",
       "</style>\n",
       "<table border=\"1\" class=\"dataframe\">\n",
       "  <thead>\n",
       "    <tr style=\"text-align: right;\">\n",
       "      <th></th>\n",
       "      <th>salary</th>\n",
       "    </tr>\n",
       "  </thead>\n",
       "  <tbody>\n",
       "    <tr>\n",
       "      <th>count</th>\n",
       "      <td>30.000000</td>\n",
       "    </tr>\n",
       "    <tr>\n",
       "      <th>mean</th>\n",
       "      <td>29.750000</td>\n",
       "    </tr>\n",
       "    <tr>\n",
       "      <th>std</th>\n",
       "      <td>16.075656</td>\n",
       "    </tr>\n",
       "    <tr>\n",
       "      <th>min</th>\n",
       "      <td>11.500000</td>\n",
       "    </tr>\n",
       "    <tr>\n",
       "      <th>25%</th>\n",
       "      <td>17.250000</td>\n",
       "    </tr>\n",
       "    <tr>\n",
       "      <th>50%</th>\n",
       "      <td>25.750000</td>\n",
       "    </tr>\n",
       "    <tr>\n",
       "      <th>75%</th>\n",
       "      <td>37.750000</td>\n",
       "    </tr>\n",
       "    <tr>\n",
       "      <th>max</th>\n",
       "      <td>68.000000</td>\n",
       "    </tr>\n",
       "  </tbody>\n",
       "</table>\n",
       "</div>"
      ],
      "text/plain": [
       "          salary\n",
       "count  30.000000\n",
       "mean   29.750000\n",
       "std    16.075656\n",
       "min    11.500000\n",
       "25%    17.250000\n",
       "50%    25.750000\n",
       "75%    37.750000\n",
       "max    68.000000"
      ]
     },
     "execution_count": 97,
     "metadata": {},
     "output_type": "execute_result"
    }
   ],
   "source": [
    "df[['salary']].describe()"
   ]
  },
  {
   "cell_type": "code",
   "execution_count": 98,
   "metadata": {},
   "outputs": [
    {
     "data": {
      "text/html": [
       "<div>\n",
       "<style scoped>\n",
       "    .dataframe tbody tr th:only-of-type {\n",
       "        vertical-align: middle;\n",
       "    }\n",
       "\n",
       "    .dataframe tbody tr th {\n",
       "        vertical-align: top;\n",
       "    }\n",
       "\n",
       "    .dataframe thead th {\n",
       "        text-align: right;\n",
       "    }\n",
       "</style>\n",
       "<table border=\"1\" class=\"dataframe\">\n",
       "  <thead>\n",
       "    <tr style=\"text-align: right;\">\n",
       "      <th></th>\n",
       "      <th>actors_name</th>\n",
       "      <th>sex</th>\n",
       "      <th>position</th>\n",
       "      <th>salary</th>\n",
       "      <th>url</th>\n",
       "      <th>short_bio_url</th>\n",
       "      <th>birth_date</th>\n",
       "      <th>birth_year</th>\n",
       "      <th>place_of_birth</th>\n",
       "      <th>birth_name</th>\n",
       "      <th>height</th>\n",
       "      <th>nicknames</th>\n",
       "      <th>age</th>\n",
       "      <th>wins</th>\n",
       "      <th>nominations</th>\n",
       "      <th>producer_credits</th>\n",
       "      <th>actors_credits</th>\n",
       "      <th>composers_credits</th>\n",
       "      <th>soundtrack_credits</th>\n",
       "    </tr>\n",
       "  </thead>\n",
       "  <tbody>\n",
       "    <tr>\n",
       "      <th>0</th>\n",
       "      <td>Mark Wahlberg</td>\n",
       "      <td>male</td>\n",
       "      <td>Producer</td>\n",
       "      <td>68.0</td>\n",
       "      <td>https://www.imdb.com/name/nm0000242/</td>\n",
       "      <td>https://www.imdb.com/name/nm0000242/bio/?ref_=...</td>\n",
       "      <td>June 5</td>\n",
       "      <td>1971</td>\n",
       "      <td>Dorchester, Boston, Massachusetts, USA</td>\n",
       "      <td>Mark Robert Michael Wahlberg</td>\n",
       "      <td>1.73</td>\n",
       "      <td>Marky Mark, Monk D</td>\n",
       "      <td>52</td>\n",
       "      <td>24</td>\n",
       "      <td>82</td>\n",
       "      <td>42</td>\n",
       "      <td>79</td>\n",
       "      <td>9</td>\n",
       "      <td>44</td>\n",
       "    </tr>\n",
       "    <tr>\n",
       "      <th>1</th>\n",
       "      <td>Dwayne Johnson</td>\n",
       "      <td>male</td>\n",
       "      <td>Actor</td>\n",
       "      <td>65.0</td>\n",
       "      <td>https://www.imdb.com/name/nm0425005/</td>\n",
       "      <td>https://www.imdb.com/name/nm0425005/bio/?ref_=...</td>\n",
       "      <td>May 2</td>\n",
       "      <td>1972</td>\n",
       "      <td>Hayward, California, USA</td>\n",
       "      <td>Dwayne Douglas Johnson</td>\n",
       "      <td>1.96</td>\n",
       "      <td>The Peoples Champion, The Brahma Bull, The Gre...</td>\n",
       "      <td>51</td>\n",
       "      <td>19</td>\n",
       "      <td>74</td>\n",
       "      <td>48</td>\n",
       "      <td>105</td>\n",
       "      <td>0</td>\n",
       "      <td>13</td>\n",
       "    </tr>\n",
       "    <tr>\n",
       "      <th>2</th>\n",
       "      <td>Vin Diesel</td>\n",
       "      <td>male</td>\n",
       "      <td>Actor</td>\n",
       "      <td>54.5</td>\n",
       "      <td>https://www.imdb.com/name/nm0004874/</td>\n",
       "      <td>https://www.imdb.com/name/nm0004874/bio/?ref_=...</td>\n",
       "      <td>July 18</td>\n",
       "      <td>1967</td>\n",
       "      <td>Alameda County, California, USA</td>\n",
       "      <td>Mark Sinclair</td>\n",
       "      <td>1.82</td>\n",
       "      <td>NaN</td>\n",
       "      <td>56</td>\n",
       "      <td>9</td>\n",
       "      <td>41</td>\n",
       "      <td>34</td>\n",
       "      <td>60</td>\n",
       "      <td>0</td>\n",
       "      <td>1</td>\n",
       "    </tr>\n",
       "    <tr>\n",
       "      <th>3</th>\n",
       "      <td>Adam Sandler</td>\n",
       "      <td>male</td>\n",
       "      <td>Actor</td>\n",
       "      <td>50.5</td>\n",
       "      <td>https://www.imdb.com/name/nm0001191/</td>\n",
       "      <td>https://www.imdb.com/name/nm0001191/bio/?ref_=...</td>\n",
       "      <td>September 9</td>\n",
       "      <td>1966</td>\n",
       "      <td>Brooklyn, New York City, New York, USA</td>\n",
       "      <td>Adam Richard Sandler</td>\n",
       "      <td>1.77</td>\n",
       "      <td>Sandman</td>\n",
       "      <td>57</td>\n",
       "      <td>72</td>\n",
       "      <td>132</td>\n",
       "      <td>62</td>\n",
       "      <td>86</td>\n",
       "      <td>3</td>\n",
       "      <td>36</td>\n",
       "    </tr>\n",
       "    <tr>\n",
       "      <th>4</th>\n",
       "      <td>Jackie Chan</td>\n",
       "      <td>male</td>\n",
       "      <td>Actor</td>\n",
       "      <td>49.0</td>\n",
       "      <td>https://www.imdb.com/name/nm0000329/</td>\n",
       "      <td>https://www.imdb.com/name/nm0000329/bio/?ref_=...</td>\n",
       "      <td>April 7</td>\n",
       "      <td>1954</td>\n",
       "      <td>Victoria Peak, Hong Kong</td>\n",
       "      <td>Kong-sang Chan</td>\n",
       "      <td>1.72</td>\n",
       "      <td>Yuen Lo, Sing Lung, Pao Pao, Kung-Fu Master</td>\n",
       "      <td>69</td>\n",
       "      <td>48</td>\n",
       "      <td>50</td>\n",
       "      <td>66</td>\n",
       "      <td>148</td>\n",
       "      <td>0</td>\n",
       "      <td>14</td>\n",
       "    </tr>\n",
       "  </tbody>\n",
       "</table>\n",
       "</div>"
      ],
      "text/plain": [
       "      actors_name   sex  position  salary  \\\n",
       "0   Mark Wahlberg  male  Producer    68.0   \n",
       "1  Dwayne Johnson  male     Actor    65.0   \n",
       "2      Vin Diesel  male     Actor    54.5   \n",
       "3    Adam Sandler  male     Actor    50.5   \n",
       "4     Jackie Chan  male     Actor    49.0   \n",
       "\n",
       "                                    url  \\\n",
       "0  https://www.imdb.com/name/nm0000242/   \n",
       "1  https://www.imdb.com/name/nm0425005/   \n",
       "2  https://www.imdb.com/name/nm0004874/   \n",
       "3  https://www.imdb.com/name/nm0001191/   \n",
       "4  https://www.imdb.com/name/nm0000329/   \n",
       "\n",
       "                                       short_bio_url   birth_date  birth_year  \\\n",
       "0  https://www.imdb.com/name/nm0000242/bio/?ref_=...       June 5        1971   \n",
       "1  https://www.imdb.com/name/nm0425005/bio/?ref_=...        May 2        1972   \n",
       "2  https://www.imdb.com/name/nm0004874/bio/?ref_=...      July 18        1967   \n",
       "3  https://www.imdb.com/name/nm0001191/bio/?ref_=...  September 9        1966   \n",
       "4  https://www.imdb.com/name/nm0000329/bio/?ref_=...      April 7        1954   \n",
       "\n",
       "                           place_of_birth                    birth_name  \\\n",
       "0  Dorchester, Boston, Massachusetts, USA  Mark Robert Michael Wahlberg   \n",
       "1                Hayward, California, USA        Dwayne Douglas Johnson   \n",
       "2         Alameda County, California, USA                 Mark Sinclair   \n",
       "3  Brooklyn, New York City, New York, USA          Adam Richard Sandler   \n",
       "4                Victoria Peak, Hong Kong                Kong-sang Chan   \n",
       "\n",
       "   height                                          nicknames  age  wins  \\\n",
       "0    1.73                                 Marky Mark, Monk D   52    24   \n",
       "1    1.96  The Peoples Champion, The Brahma Bull, The Gre...   51    19   \n",
       "2    1.82                                                NaN   56     9   \n",
       "3    1.77                                            Sandman   57    72   \n",
       "4    1.72        Yuen Lo, Sing Lung, Pao Pao, Kung-Fu Master   69    48   \n",
       "\n",
       "   nominations  producer_credits  actors_credits  composers_credits  \\\n",
       "0           82                42              79                  9   \n",
       "1           74                48             105                  0   \n",
       "2           41                34              60                  0   \n",
       "3          132                62              86                  3   \n",
       "4           50                66             148                  0   \n",
       "\n",
       "   soundtrack_credits  \n",
       "0                  44  \n",
       "1                  13  \n",
       "2                   1  \n",
       "3                  36  \n",
       "4                  14  "
      ]
     },
     "execution_count": 98,
     "metadata": {},
     "output_type": "execute_result"
    }
   ],
   "source": [
    "df.head()"
   ]
  },
  {
   "cell_type": "code",
   "execution_count": 99,
   "metadata": {},
   "outputs": [
    {
     "data": {
      "text/html": [
       "<div>\n",
       "<style scoped>\n",
       "    .dataframe tbody tr th:only-of-type {\n",
       "        vertical-align: middle;\n",
       "    }\n",
       "\n",
       "    .dataframe tbody tr th {\n",
       "        vertical-align: top;\n",
       "    }\n",
       "\n",
       "    .dataframe thead th {\n",
       "        text-align: right;\n",
       "    }\n",
       "</style>\n",
       "<table border=\"1\" class=\"dataframe\">\n",
       "  <thead>\n",
       "    <tr style=\"text-align: right;\">\n",
       "      <th></th>\n",
       "      <th>total_credits</th>\n",
       "    </tr>\n",
       "  </thead>\n",
       "  <tbody>\n",
       "    <tr>\n",
       "      <th>count</th>\n",
       "      <td>30.000000</td>\n",
       "    </tr>\n",
       "    <tr>\n",
       "      <th>mean</th>\n",
       "      <td>116.933333</td>\n",
       "    </tr>\n",
       "    <tr>\n",
       "      <th>std</th>\n",
       "      <td>53.067253</td>\n",
       "    </tr>\n",
       "    <tr>\n",
       "      <th>min</th>\n",
       "      <td>29.000000</td>\n",
       "    </tr>\n",
       "    <tr>\n",
       "      <th>25%</th>\n",
       "      <td>80.500000</td>\n",
       "    </tr>\n",
       "    <tr>\n",
       "      <th>50%</th>\n",
       "      <td>95.500000</td>\n",
       "    </tr>\n",
       "    <tr>\n",
       "      <th>75%</th>\n",
       "      <td>159.500000</td>\n",
       "    </tr>\n",
       "    <tr>\n",
       "      <th>max</th>\n",
       "      <td>228.000000</td>\n",
       "    </tr>\n",
       "  </tbody>\n",
       "</table>\n",
       "</div>"
      ],
      "text/plain": [
       "       total_credits\n",
       "count      30.000000\n",
       "mean      116.933333\n",
       "std        53.067253\n",
       "min        29.000000\n",
       "25%        80.500000\n",
       "50%        95.500000\n",
       "75%       159.500000\n",
       "max       228.000000"
      ]
     },
     "execution_count": 99,
     "metadata": {},
     "output_type": "execute_result"
    }
   ],
   "source": [
    "df['total_credits'] = df['producer_credits'] + df['actors_credits'] + df['composers_credits'] + df['soundtrack_credits']\n",
    "df[['total_credits']].describe()"
   ]
  },
  {
   "cell_type": "markdown",
   "metadata": {},
   "source": [
    "<div class='exercise'><b> Exercise 2.5: Group By</b>\n",
    "\n",
    "С помощью функции pandas `cut` сгруппируйте актеров по общему количеству кредитов в бины по 50 (т.е. 1-50, 51-100 и т.д.). \n",
    "\n",
    "Затем с помощью функции `groupby` найдите среднее число номинаций для каждого бина и представьте его в виде графика.\n",
    "\n",
    "</div>"
   ]
  },
  {
   "cell_type": "code",
   "execution_count": 100,
   "metadata": {},
   "outputs": [
    {
     "data": {
      "image/png": "[encoded data removed]",
      "text/plain": [
       "<Figure size 640x480 with 1 Axes>"
      ]
     },
     "metadata": {},
     "output_type": "display_data"
    }
   ],
   "source": [
    "import matplotlib.pyplot as plt\n",
    "# Шаг 1: Используйте функцию `cut` для группировки актеров по общему количеству кредитов в бины по 50. \n",
    "# Создайте новый столбец \"credit_bins\" с помощью функции `cut`, указав столбец общего количества кредитов и списки границ бинов.\n",
    "bins = range(0, df['total_credits'].max()+50, 50)\n",
    "labels = [\"{}-{}\".format(b, b+49) for b in bins[:-1]]\n",
    "df['credit_bins'] = pd.cut(df['total_credits'], bins=bins, labels=labels)\n",
    "\n",
    "# Шаг 2: Используйте функцию `groupby` для группировки данных по столбцу \"credit_bins\" и вычисления среднего числа номинаций для каждого бина.\n",
    "\n",
    "grouped_avg_nominations = df.groupby('credit_bins')['nominations'].mean()\n",
    "\n",
    "# Шаг 3: Представьте результат в виде графика, например, столбчатой диаграммы.\n",
    "grouped_avg_nominations.plot(kind='bar', xlabel='Credit Bins', ylabel='Average Nominations')\n",
    "plt.show()\n"
   ]
  },
  {
   "cell_type": "markdown",
   "metadata": {},
   "source": [
    "<div class='exercise'><b> Упражнение 2.6: Исследование соотношения возраста и зарплаты</b>.\n",
    "\n",
    "Одним из интересных вопросов является исследование зависимости возраста от зарплаты:\n",
    "\n",
    "- существует ли пиковый возраст, в котором достигается наибольшая зарплата; \n",
    "- платят ли пожилым актерам меньше? \n",
    "\n",
    "Чтобы ответить на эти вопросы, необходимо сначала извлечь возраст из даты рождения. Это можно сделать, преобразовав дату рождения в объект datetime.\n",
    "\n",
    "Подробнее об объектах datetime: https://pandas.pydata.org/pandas-docs/stable/reference/api/pandas.to_datetime.html .\n",
    "\n",
    "</div>"
   ]
  },
  {
   "cell_type": "markdown",
   "metadata": {},
   "source": [
    "# схитрим и сконкатенируем эти данные в отдельной ячейке. но год у нас имеет тип инт, поэтому сделаем его строкой на время операции"
   ]
  },
  {
   "cell_type": "code",
   "execution_count": 101,
   "metadata": {},
   "outputs": [],
   "source": [
    "# добавим пробел \n",
    "df['full_birth_date'] = df['birth_date'] +  ' ' + df['birth_year'].astype(str)\n"
   ]
  },
  {
   "cell_type": "code",
   "execution_count": 102,
   "metadata": {},
   "outputs": [
    {
     "data": {
      "text/html": [
       "<div>\n",
       "<style scoped>\n",
       "    .dataframe tbody tr th:only-of-type {\n",
       "        vertical-align: middle;\n",
       "    }\n",
       "\n",
       "    .dataframe tbody tr th {\n",
       "        vertical-align: top;\n",
       "    }\n",
       "\n",
       "    .dataframe thead th {\n",
       "        text-align: right;\n",
       "    }\n",
       "</style>\n",
       "<table border=\"1\" class=\"dataframe\">\n",
       "  <thead>\n",
       "    <tr style=\"text-align: right;\">\n",
       "      <th></th>\n",
       "      <th>full_birth_date</th>\n",
       "    </tr>\n",
       "  </thead>\n",
       "  <tbody>\n",
       "    <tr>\n",
       "      <th>0</th>\n",
       "      <td>June 5 1971</td>\n",
       "    </tr>\n",
       "    <tr>\n",
       "      <th>1</th>\n",
       "      <td>May 2 1972</td>\n",
       "    </tr>\n",
       "    <tr>\n",
       "      <th>2</th>\n",
       "      <td>July 18 1967</td>\n",
       "    </tr>\n",
       "    <tr>\n",
       "      <th>3</th>\n",
       "      <td>September 9 1966</td>\n",
       "    </tr>\n",
       "    <tr>\n",
       "      <th>4</th>\n",
       "      <td>April 7 1954</td>\n",
       "    </tr>\n",
       "  </tbody>\n",
       "</table>\n",
       "</div>"
      ],
      "text/plain": [
       "    full_birth_date\n",
       "0       June 5 1971\n",
       "1        May 2 1972\n",
       "2      July 18 1967\n",
       "3  September 9 1966\n",
       "4      April 7 1954"
      ]
     },
     "execution_count": 102,
     "metadata": {},
     "output_type": "execute_result"
    }
   ],
   "source": [
    "df[['full_birth_date']].head()"
   ]
  },
  {
   "cell_type": "code",
   "execution_count": 103,
   "metadata": {},
   "outputs": [],
   "source": [
    "df['full_birth_date'] = pd.to_datetime(df['full_birth_date'], format='%B %d %Y')"
   ]
  },
  {
   "cell_type": "markdown",
   "metadata": {},
   "source": [
    "Сейчас возраст можно посчитать более точно"
   ]
  },
  {
   "cell_type": "code",
   "execution_count": 104,
   "metadata": {},
   "outputs": [],
   "source": [
    "from datetime import datetime\n",
    "\n",
    "# Получение текущей даты\n",
    "current_date = datetime.now()\n",
    "\n",
    "# Вычисление возраста\n",
    "df['age'] = (current_date - df['full_birth_date']).astype('<m8[Y]')"
   ]
  },
  {
   "cell_type": "markdown",
   "metadata": {},
   "source": [
    "Теперь мы исследуем статистику возраста."
   ]
  },
  {
   "cell_type": "code",
   "execution_count": 105,
   "metadata": {},
   "outputs": [
    {
     "data": {
      "text/plain": [
       "count    30.000000\n",
       "mean     51.100000\n",
       "std      10.124569\n",
       "min      32.000000\n",
       "25%      44.500000\n",
       "50%      52.000000\n",
       "75%      56.000000\n",
       "max      74.000000\n",
       "Name: age, dtype: float64"
      ]
     },
     "execution_count": 105,
     "metadata": {},
     "output_type": "execute_result"
    }
   ],
   "source": [
    "df[\"age\"].describe()"
   ]
  },
  {
   "cell_type": "markdown",
   "metadata": {},
   "source": [
    "Кто самый старший актер?\n",
    "в данном случае мужчина"
   ]
  },
  {
   "cell_type": "code",
   "execution_count": 106,
   "metadata": {},
   "outputs": [
    {
     "data": {
      "text/html": [
       "<div>\n",
       "<style scoped>\n",
       "    .dataframe tbody tr th:only-of-type {\n",
       "        vertical-align: middle;\n",
       "    }\n",
       "\n",
       "    .dataframe tbody tr th {\n",
       "        vertical-align: top;\n",
       "    }\n",
       "\n",
       "    .dataframe thead th {\n",
       "        text-align: right;\n",
       "    }\n",
       "</style>\n",
       "<table border=\"1\" class=\"dataframe\">\n",
       "  <thead>\n",
       "    <tr style=\"text-align: right;\">\n",
       "      <th></th>\n",
       "      <th>actors_name</th>\n",
       "      <th>sex</th>\n",
       "      <th>position</th>\n",
       "      <th>salary</th>\n",
       "      <th>url</th>\n",
       "      <th>short_bio_url</th>\n",
       "      <th>birth_date</th>\n",
       "      <th>birth_year</th>\n",
       "      <th>place_of_birth</th>\n",
       "      <th>birth_name</th>\n",
       "      <th>...</th>\n",
       "      <th>age</th>\n",
       "      <th>wins</th>\n",
       "      <th>nominations</th>\n",
       "      <th>producer_credits</th>\n",
       "      <th>actors_credits</th>\n",
       "      <th>composers_credits</th>\n",
       "      <th>soundtrack_credits</th>\n",
       "      <th>total_credits</th>\n",
       "      <th>credit_bins</th>\n",
       "      <th>full_birth_date</th>\n",
       "    </tr>\n",
       "  </thead>\n",
       "  <tbody>\n",
       "    <tr>\n",
       "      <th>12</th>\n",
       "      <td>Samuel L. Jackson</td>\n",
       "      <td>male</td>\n",
       "      <td>Actor</td>\n",
       "      <td>30.5</td>\n",
       "      <td>https://www.imdb.com/name/nm0000168/</td>\n",
       "      <td>https://www.imdb.com/name/nm0000168/bio/?ref_=...</td>\n",
       "      <td>December 21</td>\n",
       "      <td>1948</td>\n",
       "      <td>Washington D.C., USA</td>\n",
       "      <td>Samuel Leroy Jackson</td>\n",
       "      <td>...</td>\n",
       "      <td>74.0</td>\n",
       "      <td>48</td>\n",
       "      <td>95</td>\n",
       "      <td>12</td>\n",
       "      <td>208</td>\n",
       "      <td>0</td>\n",
       "      <td>6</td>\n",
       "      <td>226</td>\n",
       "      <td>200-249</td>\n",
       "      <td>1948-12-21</td>\n",
       "    </tr>\n",
       "  </tbody>\n",
       "</table>\n",
       "<p>1 rows × 22 columns</p>\n",
       "</div>"
      ],
      "text/plain": [
       "          actors_name   sex position  salary  \\\n",
       "12  Samuel L. Jackson  male    Actor    30.5   \n",
       "\n",
       "                                     url  \\\n",
       "12  https://www.imdb.com/name/nm0000168/   \n",
       "\n",
       "                                        short_bio_url   birth_date  \\\n",
       "12  https://www.imdb.com/name/nm0000168/bio/?ref_=...  December 21   \n",
       "\n",
       "    birth_year        place_of_birth            birth_name  ...   age wins  \\\n",
       "12        1948  Washington D.C., USA  Samuel Leroy Jackson  ...  74.0   48   \n",
       "\n",
       "    nominations  producer_credits  actors_credits  composers_credits  \\\n",
       "12           95                12             208                  0   \n",
       "\n",
       "    soundtrack_credits  total_credits  credit_bins  full_birth_date  \n",
       "12                   6            226      200-249       1948-12-21  \n",
       "\n",
       "[1 rows x 22 columns]"
      ]
     },
     "execution_count": 106,
     "metadata": {},
     "output_type": "execute_result"
    }
   ],
   "source": [
    "# find the actor/actress associated with oldest age\n",
    "oldest_actor = df.loc[(df['sex'] == 'male') & (df['age'] == df['age'].max())]\n",
    "oldest_actor"
   ]
  },
  {
   "cell_type": "markdown",
   "metadata": {},
   "source": [
    "Кто самая старшая женщина из актрисс?"
   ]
  },
  {
   "cell_type": "code",
   "execution_count": 107,
   "metadata": {},
   "outputs": [
    {
     "data": {
      "text/html": [
       "<div>\n",
       "<style scoped>\n",
       "    .dataframe tbody tr th:only-of-type {\n",
       "        vertical-align: middle;\n",
       "    }\n",
       "\n",
       "    .dataframe tbody tr th {\n",
       "        vertical-align: top;\n",
       "    }\n",
       "\n",
       "    .dataframe thead th {\n",
       "        text-align: right;\n",
       "    }\n",
       "</style>\n",
       "<table border=\"1\" class=\"dataframe\">\n",
       "  <thead>\n",
       "    <tr style=\"text-align: right;\">\n",
       "      <th></th>\n",
       "      <th>actors_name</th>\n",
       "      <th>sex</th>\n",
       "      <th>position</th>\n",
       "      <th>salary</th>\n",
       "      <th>url</th>\n",
       "      <th>short_bio_url</th>\n",
       "      <th>birth_date</th>\n",
       "      <th>birth_year</th>\n",
       "      <th>place_of_birth</th>\n",
       "      <th>birth_name</th>\n",
       "      <th>...</th>\n",
       "      <th>age</th>\n",
       "      <th>wins</th>\n",
       "      <th>nominations</th>\n",
       "      <th>producer_credits</th>\n",
       "      <th>actors_credits</th>\n",
       "      <th>composers_credits</th>\n",
       "      <th>soundtrack_credits</th>\n",
       "      <th>total_credits</th>\n",
       "      <th>credit_bins</th>\n",
       "      <th>full_birth_date</th>\n",
       "    </tr>\n",
       "  </thead>\n",
       "  <tbody>\n",
       "    <tr>\n",
       "      <th>28</th>\n",
       "      <td>Julia Roberts</td>\n",
       "      <td>female</td>\n",
       "      <td>Actress</td>\n",
       "      <td>12.0</td>\n",
       "      <td>https://www.imdb.com/name/nm0000210/</td>\n",
       "      <td>https://www.imdb.com/name/nm0000210/bio/?ref_=...</td>\n",
       "      <td>October 28</td>\n",
       "      <td>1967</td>\n",
       "      <td>Smyrna, Georgia, USA</td>\n",
       "      <td>Julia Fiona Roberts</td>\n",
       "      <td>...</td>\n",
       "      <td>55.0</td>\n",
       "      <td>61</td>\n",
       "      <td>114</td>\n",
       "      <td>12</td>\n",
       "      <td>68</td>\n",
       "      <td>0</td>\n",
       "      <td>5</td>\n",
       "      <td>85</td>\n",
       "      <td>50-99</td>\n",
       "      <td>1967-10-28</td>\n",
       "    </tr>\n",
       "  </tbody>\n",
       "</table>\n",
       "<p>1 rows × 22 columns</p>\n",
       "</div>"
      ],
      "text/plain": [
       "      actors_name     sex position  salary  \\\n",
       "28  Julia Roberts  female  Actress    12.0   \n",
       "\n",
       "                                     url  \\\n",
       "28  https://www.imdb.com/name/nm0000210/   \n",
       "\n",
       "                                        short_bio_url  birth_date  birth_year  \\\n",
       "28  https://www.imdb.com/name/nm0000210/bio/?ref_=...  October 28        1967   \n",
       "\n",
       "          place_of_birth           birth_name  ...   age wins  nominations  \\\n",
       "28  Smyrna, Georgia, USA  Julia Fiona Roberts  ...  55.0   61          114   \n",
       "\n",
       "    producer_credits  actors_credits  composers_credits  soundtrack_credits  \\\n",
       "28                12              68                  0                   5   \n",
       "\n",
       "    total_credits  credit_bins  full_birth_date  \n",
       "28             85        50-99       1967-10-28  \n",
       "\n",
       "[1 rows x 22 columns]"
      ]
     },
     "execution_count": 107,
     "metadata": {},
     "output_type": "execute_result"
    }
   ],
   "source": [
    "actress = df.loc[(df['sex'] =='female')]\n",
    "oldest_actress =actress.loc[actress['age'] == actress['age'].max()]\n",
    "oldest_actress"
   ]
  },
  {
   "cell_type": "markdown",
   "metadata": {},
   "source": [
    "Кто самый молодой актер?"
   ]
  },
  {
   "cell_type": "code",
   "execution_count": 108,
   "metadata": {},
   "outputs": [
    {
     "data": {
      "text/html": [
       "<div>\n",
       "<style scoped>\n",
       "    .dataframe tbody tr th:only-of-type {\n",
       "        vertical-align: middle;\n",
       "    }\n",
       "\n",
       "    .dataframe tbody tr th {\n",
       "        vertical-align: top;\n",
       "    }\n",
       "\n",
       "    .dataframe thead th {\n",
       "        text-align: right;\n",
       "    }\n",
       "</style>\n",
       "<table border=\"1\" class=\"dataframe\">\n",
       "  <thead>\n",
       "    <tr style=\"text-align: right;\">\n",
       "      <th></th>\n",
       "      <th>actors_name</th>\n",
       "      <th>sex</th>\n",
       "      <th>position</th>\n",
       "      <th>salary</th>\n",
       "      <th>url</th>\n",
       "      <th>short_bio_url</th>\n",
       "      <th>birth_date</th>\n",
       "      <th>birth_year</th>\n",
       "      <th>place_of_birth</th>\n",
       "      <th>birth_name</th>\n",
       "      <th>...</th>\n",
       "      <th>age</th>\n",
       "      <th>wins</th>\n",
       "      <th>nominations</th>\n",
       "      <th>producer_credits</th>\n",
       "      <th>actors_credits</th>\n",
       "      <th>composers_credits</th>\n",
       "      <th>soundtrack_credits</th>\n",
       "      <th>total_credits</th>\n",
       "      <th>credit_bins</th>\n",
       "      <th>full_birth_date</th>\n",
       "    </tr>\n",
       "  </thead>\n",
       "  <tbody>\n",
       "    <tr>\n",
       "      <th>16</th>\n",
       "      <td>Jennifer Lawrence</td>\n",
       "      <td>female</td>\n",
       "      <td>Actress</td>\n",
       "      <td>24.0</td>\n",
       "      <td>https://www.imdb.com/name/nm2225369/</td>\n",
       "      <td>https://www.imdb.com/name/nm2225369/bio/?ref_=...</td>\n",
       "      <td>August 15</td>\n",
       "      <td>1990</td>\n",
       "      <td>Louisville, Kentucky, USA</td>\n",
       "      <td>Jennifer Shrader Lawrence</td>\n",
       "      <td>...</td>\n",
       "      <td>32.0</td>\n",
       "      <td>120</td>\n",
       "      <td>192</td>\n",
       "      <td>6</td>\n",
       "      <td>38</td>\n",
       "      <td>0</td>\n",
       "      <td>7</td>\n",
       "      <td>51</td>\n",
       "      <td>50-99</td>\n",
       "      <td>1990-08-15</td>\n",
       "    </tr>\n",
       "  </tbody>\n",
       "</table>\n",
       "<p>1 rows × 22 columns</p>\n",
       "</div>"
      ],
      "text/plain": [
       "          actors_name     sex position  salary  \\\n",
       "16  Jennifer Lawrence  female  Actress    24.0   \n",
       "\n",
       "                                     url  \\\n",
       "16  https://www.imdb.com/name/nm2225369/   \n",
       "\n",
       "                                        short_bio_url birth_date  birth_year  \\\n",
       "16  https://www.imdb.com/name/nm2225369/bio/?ref_=...  August 15        1990   \n",
       "\n",
       "               place_of_birth                 birth_name  ...   age wins  \\\n",
       "16  Louisville, Kentucky, USA  Jennifer Shrader Lawrence  ...  32.0  120   \n",
       "\n",
       "    nominations  producer_credits  actors_credits  composers_credits  \\\n",
       "16          192                 6              38                  0   \n",
       "\n",
       "    soundtrack_credits  total_credits  credit_bins  full_birth_date  \n",
       "16                   7             51        50-99       1990-08-15  \n",
       "\n",
       "[1 rows x 22 columns]"
      ]
     },
     "execution_count": 108,
     "metadata": {},
     "output_type": "execute_result"
    }
   ],
   "source": [
    "df.loc[(df['age'] == df['age'].min())]\n"
   ]
  },
  {
   "cell_type": "markdown",
   "metadata": {},
   "source": [
    "**Следите за результатами** Что вы замечаете о двух самых молодых актерах/актрисах?Что вы замечаете о самых старых?"
   ]
  },
  {
   "cell_type": "code",
   "execution_count": 120,
   "metadata": {},
   "outputs": [
    {
     "data": {
      "text/plain": [
       "count    30.000000\n",
       "mean     51.100000\n",
       "std      10.124569\n",
       "min      32.000000\n",
       "25%      44.500000\n",
       "50%      52.000000\n",
       "75%      56.000000\n",
       "max      74.000000\n",
       "Name: age, dtype: float64"
      ]
     },
     "execution_count": 120,
     "metadata": {},
     "output_type": "execute_result"
    }
   ],
   "source": [
    "df[\"age\"].describe()"
   ]
  },
  {
   "cell_type": "markdown",
   "metadata": {},
   "source": [
    "Самыми молодыми являются женщины, и имеют значительно меньше кредитов, чем самые старые, кто оказался мужчинами.\n",
    "\n",
    "Но обратите внимание, что Дженнифер Лоуренс имеет больше побед, чем у Эммы Уотсон и Сэмюэля Джексона.\n",
    "\n",
    "Как вы думаете, имеет смысл, что больше побед/награды коррелирует с более высокой зарплатой?\n",
    "\n",
    "Давайте посмотрим немного дальше в возрастном диапазоне, расщепляя возраст квартилями в соответствии с данными.Мы можем сделать это с помощью встроенной функции Pandas .describe ()."
   ]
  },
  {
   "cell_type": "code",
   "execution_count": 119,
   "metadata": {},
   "outputs": [
    {
     "name": "stderr",
     "output_type": "stream",
     "text": [
      "C:\\Users\\admin\\AppData\\Local\\Temp/ipykernel_9868/1134722465.py:1: FutureWarning: The default value of numeric_only in DataFrame.corr is deprecated. In a future version, it will default to False. Select only valid columns or specify the value of numeric_only to silence this warning.\n",
      "  df.corr()\n"
     ]
    },
    {
     "data": {
      "text/html": [
       "<div>\n",
       "<style scoped>\n",
       "    .dataframe tbody tr th:only-of-type {\n",
       "        vertical-align: middle;\n",
       "    }\n",
       "\n",
       "    .dataframe tbody tr th {\n",
       "        vertical-align: top;\n",
       "    }\n",
       "\n",
       "    .dataframe thead th {\n",
       "        text-align: right;\n",
       "    }\n",
       "</style>\n",
       "<table border=\"1\" class=\"dataframe\">\n",
       "  <thead>\n",
       "    <tr style=\"text-align: right;\">\n",
       "      <th></th>\n",
       "      <th>salary</th>\n",
       "      <th>birth_year</th>\n",
       "      <th>height</th>\n",
       "      <th>age</th>\n",
       "      <th>wins</th>\n",
       "      <th>nominations</th>\n",
       "      <th>producer_credits</th>\n",
       "      <th>actors_credits</th>\n",
       "      <th>composers_credits</th>\n",
       "      <th>soundtrack_credits</th>\n",
       "      <th>total_credits</th>\n",
       "    </tr>\n",
       "  </thead>\n",
       "  <tbody>\n",
       "    <tr>\n",
       "      <th>salary</th>\n",
       "      <td>1.000000</td>\n",
       "      <td>-0.359072</td>\n",
       "      <td>0.274142</td>\n",
       "      <td>0.372404</td>\n",
       "      <td>-0.189113</td>\n",
       "      <td>-0.275908</td>\n",
       "      <td>0.655630</td>\n",
       "      <td>0.253857</td>\n",
       "      <td>0.517281</td>\n",
       "      <td>0.581822</td>\n",
       "      <td>0.537801</td>\n",
       "    </tr>\n",
       "    <tr>\n",
       "      <th>birth_year</th>\n",
       "      <td>-0.359072</td>\n",
       "      <td>1.000000</td>\n",
       "      <td>-0.074350</td>\n",
       "      <td>-0.998786</td>\n",
       "      <td>-0.139265</td>\n",
       "      <td>-0.032910</td>\n",
       "      <td>-0.529790</td>\n",
       "      <td>-0.686539</td>\n",
       "      <td>-0.050718</td>\n",
       "      <td>-0.245549</td>\n",
       "      <td>-0.746905</td>\n",
       "    </tr>\n",
       "    <tr>\n",
       "      <th>height</th>\n",
       "      <td>0.274142</td>\n",
       "      <td>-0.074350</td>\n",
       "      <td>1.000000</td>\n",
       "      <td>0.078762</td>\n",
       "      <td>-0.219278</td>\n",
       "      <td>-0.257758</td>\n",
       "      <td>0.227965</td>\n",
       "      <td>0.260810</td>\n",
       "      <td>-0.056684</td>\n",
       "      <td>-0.021109</td>\n",
       "      <td>0.269817</td>\n",
       "    </tr>\n",
       "    <tr>\n",
       "      <th>age</th>\n",
       "      <td>0.372404</td>\n",
       "      <td>-0.998786</td>\n",
       "      <td>0.078762</td>\n",
       "      <td>1.000000</td>\n",
       "      <td>0.134215</td>\n",
       "      <td>0.018816</td>\n",
       "      <td>0.537276</td>\n",
       "      <td>0.672314</td>\n",
       "      <td>0.056972</td>\n",
       "      <td>0.249961</td>\n",
       "      <td>0.739686</td>\n",
       "    </tr>\n",
       "    <tr>\n",
       "      <th>wins</th>\n",
       "      <td>-0.189113</td>\n",
       "      <td>-0.139265</td>\n",
       "      <td>-0.219278</td>\n",
       "      <td>0.134215</td>\n",
       "      <td>1.000000</td>\n",
       "      <td>0.805379</td>\n",
       "      <td>0.043882</td>\n",
       "      <td>0.066492</td>\n",
       "      <td>-0.097450</td>\n",
       "      <td>-0.001143</td>\n",
       "      <td>0.062003</td>\n",
       "    </tr>\n",
       "    <tr>\n",
       "      <th>nominations</th>\n",
       "      <td>-0.275908</td>\n",
       "      <td>-0.032910</td>\n",
       "      <td>-0.257758</td>\n",
       "      <td>0.018816</td>\n",
       "      <td>0.805379</td>\n",
       "      <td>1.000000</td>\n",
       "      <td>-0.024036</td>\n",
       "      <td>-0.017995</td>\n",
       "      <td>-0.088915</td>\n",
       "      <td>0.079047</td>\n",
       "      <td>-0.010487</td>\n",
       "    </tr>\n",
       "    <tr>\n",
       "      <th>producer_credits</th>\n",
       "      <td>0.655630</td>\n",
       "      <td>-0.529790</td>\n",
       "      <td>0.227965</td>\n",
       "      <td>0.537276</td>\n",
       "      <td>0.043882</td>\n",
       "      <td>-0.024036</td>\n",
       "      <td>1.000000</td>\n",
       "      <td>0.322141</td>\n",
       "      <td>0.336590</td>\n",
       "      <td>0.586367</td>\n",
       "      <td>0.702178</td>\n",
       "    </tr>\n",
       "    <tr>\n",
       "      <th>actors_credits</th>\n",
       "      <td>0.253857</td>\n",
       "      <td>-0.686539</td>\n",
       "      <td>0.260810</td>\n",
       "      <td>0.672314</td>\n",
       "      <td>0.066492</td>\n",
       "      <td>-0.017995</td>\n",
       "      <td>0.322141</td>\n",
       "      <td>1.000000</td>\n",
       "      <td>-0.006200</td>\n",
       "      <td>0.074939</td>\n",
       "      <td>0.880820</td>\n",
       "    </tr>\n",
       "    <tr>\n",
       "      <th>composers_credits</th>\n",
       "      <td>0.517281</td>\n",
       "      <td>-0.050718</td>\n",
       "      <td>-0.056684</td>\n",
       "      <td>0.056972</td>\n",
       "      <td>-0.097450</td>\n",
       "      <td>-0.088915</td>\n",
       "      <td>0.336590</td>\n",
       "      <td>-0.006200</td>\n",
       "      <td>1.000000</td>\n",
       "      <td>0.820823</td>\n",
       "      <td>0.290436</td>\n",
       "    </tr>\n",
       "    <tr>\n",
       "      <th>soundtrack_credits</th>\n",
       "      <td>0.581822</td>\n",
       "      <td>-0.245549</td>\n",
       "      <td>-0.021109</td>\n",
       "      <td>0.249961</td>\n",
       "      <td>-0.001143</td>\n",
       "      <td>0.079047</td>\n",
       "      <td>0.586367</td>\n",
       "      <td>0.074939</td>\n",
       "      <td>0.820823</td>\n",
       "      <td>1.000000</td>\n",
       "      <td>0.463715</td>\n",
       "    </tr>\n",
       "    <tr>\n",
       "      <th>total_credits</th>\n",
       "      <td>0.537801</td>\n",
       "      <td>-0.746905</td>\n",
       "      <td>0.269817</td>\n",
       "      <td>0.739686</td>\n",
       "      <td>0.062003</td>\n",
       "      <td>-0.010487</td>\n",
       "      <td>0.702178</td>\n",
       "      <td>0.880820</td>\n",
       "      <td>0.290436</td>\n",
       "      <td>0.463715</td>\n",
       "      <td>1.000000</td>\n",
       "    </tr>\n",
       "  </tbody>\n",
       "</table>\n",
       "</div>"
      ],
      "text/plain": [
       "                      salary  birth_year    height       age      wins  \\\n",
       "salary              1.000000   -0.359072  0.274142  0.372404 -0.189113   \n",
       "birth_year         -0.359072    1.000000 -0.074350 -0.998786 -0.139265   \n",
       "height              0.274142   -0.074350  1.000000  0.078762 -0.219278   \n",
       "age                 0.372404   -0.998786  0.078762  1.000000  0.134215   \n",
       "wins               -0.189113   -0.139265 -0.219278  0.134215  1.000000   \n",
       "nominations        -0.275908   -0.032910 -0.257758  0.018816  0.805379   \n",
       "producer_credits    0.655630   -0.529790  0.227965  0.537276  0.043882   \n",
       "actors_credits      0.253857   -0.686539  0.260810  0.672314  0.066492   \n",
       "composers_credits   0.517281   -0.050718 -0.056684  0.056972 -0.097450   \n",
       "soundtrack_credits  0.581822   -0.245549 -0.021109  0.249961 -0.001143   \n",
       "total_credits       0.537801   -0.746905  0.269817  0.739686  0.062003   \n",
       "\n",
       "                    nominations  producer_credits  actors_credits  \\\n",
       "salary                -0.275908          0.655630        0.253857   \n",
       "birth_year            -0.032910         -0.529790       -0.686539   \n",
       "height                -0.257758          0.227965        0.260810   \n",
       "age                    0.018816          0.537276        0.672314   \n",
       "wins                   0.805379          0.043882        0.066492   \n",
       "nominations            1.000000         -0.024036       -0.017995   \n",
       "producer_credits      -0.024036          1.000000        0.322141   \n",
       "actors_credits        -0.017995          0.322141        1.000000   \n",
       "composers_credits     -0.088915          0.336590       -0.006200   \n",
       "soundtrack_credits     0.079047          0.586367        0.074939   \n",
       "total_credits         -0.010487          0.702178        0.880820   \n",
       "\n",
       "                    composers_credits  soundtrack_credits  total_credits  \n",
       "salary                       0.517281            0.581822       0.537801  \n",
       "birth_year                  -0.050718           -0.245549      -0.746905  \n",
       "height                      -0.056684           -0.021109       0.269817  \n",
       "age                          0.056972            0.249961       0.739686  \n",
       "wins                        -0.097450           -0.001143       0.062003  \n",
       "nominations                 -0.088915            0.079047      -0.010487  \n",
       "producer_credits             0.336590            0.586367       0.702178  \n",
       "actors_credits              -0.006200            0.074939       0.880820  \n",
       "composers_credits            1.000000            0.820823       0.290436  \n",
       "soundtrack_credits           0.820823            1.000000       0.463715  \n",
       "total_credits                0.290436            0.463715       1.000000  "
      ]
     },
     "execution_count": 119,
     "metadata": {},
     "output_type": "execute_result"
    }
   ],
   "source": [
    "df.corr()"
   ]
  },
  {
   "cell_type": "markdown",
   "metadata": {},
   "source": [
    "исходя из корреляций мы видим, что с заработной платой больше всего корелирует(из цифр) \n",
    "- produser_credits\n",
    "\n",
    "как ни странно, никак не отражаются победы и номинации..\n",
    "\n",
    "нужно посмотреть категориальные столбцы, кто зарабатывает больше, мужчины или женщины?"
   ]
  },
  {
   "cell_type": "markdown",
   "metadata": {},
   "source": [
    "<div class='exercise'><b>  Исследование соотношения зарплаты и пола</b>.\n",
    "\n",
    "Теперь рассмотрим зависимость зарплаты от пола. Это может быть полезно для выявления возможных гендерных предубеждений.\n",
    "\n",
    "</div>"
   ]
  },
  {
   "cell_type": "code",
   "execution_count": 121,
   "metadata": {},
   "outputs": [],
   "source": [
    "import seaborn as sns"
   ]
  },
  {
   "cell_type": "code",
   "execution_count": 125,
   "metadata": {},
   "outputs": [
    {
     "data": {
      "text/plain": [
       "<Axes: xlabel='sex', ylabel='salary'>"
      ]
     },
     "execution_count": 125,
     "metadata": {},
     "output_type": "execute_result"
    },
    {
     "data": {
      "image/png": "[encoded data removed]",
      "text/plain": [
       "<Figure size 640x480 with 1 Axes>"
      ]
     },
     "metadata": {},
     "output_type": "display_data"
    }
   ],
   "source": [
    "sns.boxplot(x=\"sex\", y=\"salary\", palette='pastel', data=df)"
   ]
  },
  {
   "cell_type": "markdown",
   "metadata": {},
   "source": [
    "мужчины зарабатывают гораздо больше! а что на счет того, кето больше выигрывает номинаций,"
   ]
  },
  {
   "cell_type": "code",
   "execution_count": 124,
   "metadata": {},
   "outputs": [
    {
     "data": {
      "text/plain": [
       "<Axes: xlabel='sex', ylabel='wins'>"
      ]
     },
     "execution_count": 124,
     "metadata": {},
     "output_type": "execute_result"
    },
    {
     "data": {
      "image/png": "[encoded data removed]",
      "text/plain": [
       "<Figure size 640x480 with 1 Axes>"
      ]
     },
     "metadata": {},
     "output_type": "display_data"
    }
   ],
   "source": [
    "sns.boxplot(x=\"sex\", y=\"wins\", data=df, palette='pastel')"
   ]
  },
  {
   "cell_type": "markdown",
   "metadata": {},
   "source": [
    "В целом, женщины побеждают больше и в целом больше номинируются на различные награды"
   ]
  },
  {
   "cell_type": "code",
   "execution_count": 126,
   "metadata": {},
   "outputs": [
    {
     "data": {
      "text/plain": [
       "<Axes: xlabel='sex', ylabel='nominations'>"
      ]
     },
     "execution_count": 126,
     "metadata": {},
     "output_type": "execute_result"
    },
    {
     "data": {
      "image/png": "[encoded data removed]",
      "text/plain": [
       "<Figure size 640x480 with 1 Axes>"
      ]
     },
     "metadata": {},
     "output_type": "display_data"
    }
   ],
   "source": [
    "sns.boxplot(x=\"sex\", y=\"nominations\", data=df, palette='pastel')"
   ]
  },
  {
   "cell_type": "code",
   "execution_count": 127,
   "metadata": {},
   "outputs": [
    {
     "data": {
      "text/html": [
       "<div>\n",
       "<style scoped>\n",
       "    .dataframe tbody tr th:only-of-type {\n",
       "        vertical-align: middle;\n",
       "    }\n",
       "\n",
       "    .dataframe tbody tr th {\n",
       "        vertical-align: top;\n",
       "    }\n",
       "\n",
       "    .dataframe thead th {\n",
       "        text-align: right;\n",
       "    }\n",
       "</style>\n",
       "<table border=\"1\" class=\"dataframe\">\n",
       "  <thead>\n",
       "    <tr style=\"text-align: right;\">\n",
       "      <th></th>\n",
       "      <th>age</th>\n",
       "      <th>nominations</th>\n",
       "      <th>wins</th>\n",
       "    </tr>\n",
       "  </thead>\n",
       "  <tbody>\n",
       "    <tr>\n",
       "      <th>age</th>\n",
       "      <td>1.000000</td>\n",
       "      <td>0.018816</td>\n",
       "      <td>0.134215</td>\n",
       "    </tr>\n",
       "    <tr>\n",
       "      <th>nominations</th>\n",
       "      <td>0.018816</td>\n",
       "      <td>1.000000</td>\n",
       "      <td>0.805379</td>\n",
       "    </tr>\n",
       "    <tr>\n",
       "      <th>wins</th>\n",
       "      <td>0.134215</td>\n",
       "      <td>0.805379</td>\n",
       "      <td>1.000000</td>\n",
       "    </tr>\n",
       "  </tbody>\n",
       "</table>\n",
       "</div>"
      ],
      "text/plain": [
       "                  age  nominations      wins\n",
       "age          1.000000     0.018816  0.134215\n",
       "nominations  0.018816     1.000000  0.805379\n",
       "wins         0.134215     0.805379  1.000000"
      ]
     },
     "execution_count": 127,
     "metadata": {},
     "output_type": "execute_result"
    }
   ],
   "source": [
    "df[['age', 'nominations', 'wins']].corr()"
   ]
  },
  {
   "cell_type": "markdown",
   "metadata": {},
   "source": [
    "Никак от возраста не зависит количество побед, но чем больше актеры номинируются, тем больше у них шанс выиграть это логично"
   ]
  },
  {
   "cell_type": "code",
   "execution_count": 138,
   "metadata": {},
   "outputs": [
    {
     "data": {
      "text/plain": [
       "<Axes: ylabel='sex'>"
      ]
     },
     "execution_count": 138,
     "metadata": {},
     "output_type": "execute_result"
    },
    {
     "data": {
      "image/png": "[encoded data removed]",
      "text/plain": [
       "<Figure size 600x600 with 1 Axes>"
      ]
     },
     "metadata": {},
     "output_type": "display_data"
    }
   ],
   "source": [
    "# А какой процент вообще мужчин в топе актеров а какой женщин?\n",
    "df['sex'].value_counts(normalize=True).plot.pie(figsize=(6,6), autopct='%1.1f%%')"
   ]
  },
  {
   "cell_type": "markdown",
   "metadata": {},
   "source": [
    "30 процентов женщин, интересно а эти 30 процентов женщин суммарно какой проуцент наград получили?"
   ]
  },
  {
   "cell_type": "code",
   "execution_count": null,
   "metadata": {},
   "outputs": [],
   "source": [
    "plt.figure(figsize=(12,4))\n",
    "sns.histplot(df[['reading']], bins=50, ax=plt.subplot(121), palette='pastele')\n",
    "sns.histplot(df[['math']], bins=50, ax=plt.subplot(122), palette='pastele');"
   ]
  },
  {
   "cell_type": "code",
   "execution_count": 146,
   "metadata": {},
   "outputs": [
    {
     "data": {
      "image/png": "[encoded data removed]",
      "text/plain": [
       "<Figure size 640x480 with 2 Axes>"
      ]
     },
     "metadata": {},
     "output_type": "display_data"
    }
   ],
   "source": [
    "# Группировка данных по полу и суммирование количества наград и номинаций\n",
    "grouped1 = df.groupby('sex')['wins'].sum()\n",
    "grouped2 = df.groupby('sex')['nominations'].sum()\n",
    "\n",
    "# Создание гистограммы\n",
    "ax1 = plt.subplot(121)\n",
    "grouped1.plot(kind='bar', ax=ax1)\n",
    "ax1.set_xlabel('Пол')\n",
    "ax1.set_ylabel('Количество наград')\n",
    "ax1.set_title('Пола VS награды')\n",
    "\n",
    "ax2 = plt.subplot(122)\n",
    "grouped2.plot(kind='bar', ax=ax2)\n",
    "ax2.set_xlabel('Пол')\n",
    "ax2.set_ylabel('Количество номинаций')\n",
    "ax2.set_title('Пола VS номинации')\n",
    "\n",
    "# Установка красивых меток оси X\n",
    "ax1.set_xticklabels(ax1.get_xticklabels(), rotation=0)\n",
    "ax2.set_xticklabels(ax2.get_xticklabels(), rotation=0)\n",
    "\n",
    "plt.tight_layout()\n",
    "plt.show()"
   ]
  },
  {
   "cell_type": "code",
   "execution_count": 133,
   "metadata": {},
   "outputs": [
    {
     "data": {
      "image/png": "[encoded data removed]",
      "text/plain": [
       "<Figure size 600x500 with 1 Axes>"
      ]
     },
     "metadata": {},
     "output_type": "display_data"
    }
   ],
   "source": [
    "df.plot.scatter(x='producer_credits', y='salary', s=10, alpha=.5, figsize=(6,5))\n",
    "plt.title('credits vs salary');"
   ]
  },
  {
   "cell_type": "markdown",
   "metadata": {},
   "source": [
    "Не сильно линейная зависимоть, тем не менее, вороятность того, что зарабатывают больше, те кто продюссирует, гораздо выше"
   ]
  },
  {
   "cell_type": "markdown",
   "metadata": {},
   "source": [
    "На основе этой квартильной сводной статистики мы определили возрастные группы бинов."
   ]
  },
  {
   "cell_type": "code",
   "execution_count": 110,
   "metadata": {},
   "outputs": [],
   "source": [
    "quartile_1 = df[df.age <= 41]\n",
    "quartile_2 = df[(df.age > 41) & (df.age <=49)]\n",
    "quartile_3 = df[(df.age >49) & (df.age <=53)]\n",
    "quartile_4 = df[df.age >53]\n"
   ]
  },
  {
   "cell_type": "code",
   "execution_count": 151,
   "metadata": {},
   "outputs": [
    {
     "data": {
      "text/plain": [
       "<Axes: xlabel='age', ylabel='salary'>"
      ]
     },
     "execution_count": 151,
     "metadata": {},
     "output_type": "execute_result"
    },
    {
     "data": {
      "image/png": "[encoded data removed]",
      "text/plain": [
       "<Figure size 640x480 with 1 Axes>"
      ]
     },
     "metadata": {},
     "output_type": "display_data"
    }
   ],
   "source": [
    "sns.scatterplot(data=df, x='age', y='salary', hue='salary', marker='o', lw=.7, alpha=.7)\n"
   ]
  },
  {
   "cell_type": "markdown",
   "metadata": {},
   "source": [
    "ну при просмотре графика распределения  мы видим, что большие зп у людей старше 50, а точнее от 50 до 55 примерно достигается какой то пик зп "
   ]
  },
  {
   "cell_type": "markdown",
   "metadata": {},
   "source": [
    "В среднем такая же статистика"
   ]
  },
  {
   "cell_type": "code",
   "execution_count": 155,
   "metadata": {},
   "outputs": [
    {
     "data": {
      "text/plain": [
       "22.2"
      ]
     },
     "metadata": {},
     "output_type": "display_data"
    },
    {
     "data": {
      "text/plain": [
       "18.5"
      ]
     },
     "metadata": {},
     "output_type": "display_data"
    },
    {
     "data": {
      "text/plain": [
       "38.2"
      ]
     },
     "metadata": {},
     "output_type": "display_data"
    },
    {
     "data": {
      "text/plain": [
       "34.25"
      ]
     },
     "metadata": {},
     "output_type": "display_data"
    }
   ],
   "source": [
    "# look at mean salary within each age quartile\n",
    "# quartile_1 = df[df.age <= 41]\n",
    "# quartile_2 = df[(df.age > 41) & (df.age <=49)]\n",
    "# quartile_3 = df[(df.age >49) & (df.age <=53)]\n",
    "# quartile_4 = df[df.age >53]\n",
    "display(quartile_1.salary.mean())\n",
    "display(quartile_2.salary.mean())\n",
    "display(quartile_3.salary.mean())\n",
    "display(quartile_4.salary.mean())"
   ]
  },
  {
   "cell_type": "markdown",
   "metadata": {},
   "source": [
    "Мы видим, что во втором квартиле (возраст 42-49 лет) средняя заработная плата выше, чем в третьем (возраст 50-53 года), однако в четвертом квартиле она по-прежнему самая высокая (возраст 54-71 год). \n",
    "Почему так происходит?\n",
    "в среднем актеры и актриссы в этом возрасте зарабатывают больше, но есть несколько человек, которые вероятно, продюссеры, которые зарабытывают больше всех, \n",
    "поэтому средняя статистика отличается от суммарной или от статистики распределения фактических заработных плат"
   ]
  },
  {
   "cell_type": "markdown",
   "metadata": {},
   "source": [
    "Что вы замечаете из этой статистики?\n",
    "Похоже, что женщины имеют более низкую зарплату во всех трех сводных статистических данных.Как вы думаете, почему это?\n",
    "Как вы думаете, есть ли другие факторы, которые могут повлиять на это?Если так, то что еще в данных может быть показательным?\n",
    "\n",
    "Также может быть полезно дополнительно посмотреть среднее общее количество кредитов на пол."
   ]
  },
  {
   "cell_type": "code",
   "execution_count": 156,
   "metadata": {},
   "outputs": [
    {
     "data": {
      "text/plain": [
       "<Axes: xlabel='sex', ylabel='total_credits'>"
      ]
     },
     "execution_count": 156,
     "metadata": {},
     "output_type": "execute_result"
    },
    {
     "data": {
      "image/png": "[encoded data removed]",
      "text/plain": [
       "<Figure size 640x480 with 1 Axes>"
      ]
     },
     "metadata": {},
     "output_type": "display_data"
    }
   ],
   "source": [
    "sns.boxplot(x=\"sex\", y=\"total_credits\", data=df, palette='pastel')\n"
   ]
  },
  {
   "cell_type": "markdown",
   "metadata": {},
   "source": [
    "Обратите внимание, что, хотя женщины имеют более низкую среднюю зарплату, чем у мужчин, у них также, как правило, меньше кредитов.Это говорит нам кое -что о том, как количество кредитов коррелирует с зарплатой? Как вы могли бы исследовать это дальше?"
   ]
  },
  {
   "cell_type": "markdown",
   "metadata": {},
   "source": [
    "<div class = 'упражнение'> <b> Упражнение 2.8: Изучение наград по полу </b>\n",
    "\n",
    "У какой актрисы больше всего победы?\n",
    "Сколько у нее побед?\n",
    "У какого актера больше всего победы?\n",
    "Сколько у него побед?\n",
    "\n",
    "</div>"
   ]
  },
  {
   "cell_type": "code",
   "execution_count": 157,
   "metadata": {},
   "outputs": [
    {
     "data": {
      "text/html": [
       "<div>\n",
       "<style scoped>\n",
       "    .dataframe tbody tr th:only-of-type {\n",
       "        vertical-align: middle;\n",
       "    }\n",
       "\n",
       "    .dataframe tbody tr th {\n",
       "        vertical-align: top;\n",
       "    }\n",
       "\n",
       "    .dataframe thead th {\n",
       "        text-align: right;\n",
       "    }\n",
       "</style>\n",
       "<table border=\"1\" class=\"dataframe\">\n",
       "  <thead>\n",
       "    <tr style=\"text-align: right;\">\n",
       "      <th></th>\n",
       "      <th>actors_name</th>\n",
       "      <th>sex</th>\n",
       "      <th>position</th>\n",
       "      <th>salary</th>\n",
       "      <th>url</th>\n",
       "      <th>short_bio_url</th>\n",
       "      <th>birth_date</th>\n",
       "      <th>birth_year</th>\n",
       "      <th>place_of_birth</th>\n",
       "      <th>birth_name</th>\n",
       "      <th>...</th>\n",
       "      <th>age</th>\n",
       "      <th>wins</th>\n",
       "      <th>nominations</th>\n",
       "      <th>producer_credits</th>\n",
       "      <th>actors_credits</th>\n",
       "      <th>composers_credits</th>\n",
       "      <th>soundtrack_credits</th>\n",
       "      <th>total_credits</th>\n",
       "      <th>credit_bins</th>\n",
       "      <th>full_birth_date</th>\n",
       "    </tr>\n",
       "  </thead>\n",
       "  <tbody>\n",
       "    <tr>\n",
       "      <th>27</th>\n",
       "      <td>Cate Blanchett</td>\n",
       "      <td>female</td>\n",
       "      <td>Actress</td>\n",
       "      <td>12.0</td>\n",
       "      <td>https://www.imdb.com/name/nm0000949/</td>\n",
       "      <td>https://www.imdb.com/name/nm0000949/bio/?ref_=...</td>\n",
       "      <td>May 14</td>\n",
       "      <td>1969</td>\n",
       "      <td>Melbourne, Victoria, Australia</td>\n",
       "      <td>Catherine Elise Blanchett</td>\n",
       "      <td>...</td>\n",
       "      <td>54.0</td>\n",
       "      <td>202</td>\n",
       "      <td>269</td>\n",
       "      <td>15</td>\n",
       "      <td>95</td>\n",
       "      <td>0</td>\n",
       "      <td>2</td>\n",
       "      <td>112</td>\n",
       "      <td>100-149</td>\n",
       "      <td>1969-05-14</td>\n",
       "    </tr>\n",
       "  </tbody>\n",
       "</table>\n",
       "<p>1 rows × 22 columns</p>\n",
       "</div>"
      ],
      "text/plain": [
       "       actors_name     sex position  salary  \\\n",
       "27  Cate Blanchett  female  Actress    12.0   \n",
       "\n",
       "                                     url  \\\n",
       "27  https://www.imdb.com/name/nm0000949/   \n",
       "\n",
       "                                        short_bio_url birth_date  birth_year  \\\n",
       "27  https://www.imdb.com/name/nm0000949/bio/?ref_=...     May 14        1969   \n",
       "\n",
       "                    place_of_birth                 birth_name  ...   age wins  \\\n",
       "27  Melbourne, Victoria, Australia  Catherine Elise Blanchett  ...  54.0  202   \n",
       "\n",
       "    nominations  producer_credits  actors_credits  composers_credits  \\\n",
       "27          269                15              95                  0   \n",
       "\n",
       "    soundtrack_credits  total_credits  credit_bins  full_birth_date  \n",
       "27                   2            112      100-149       1969-05-14  \n",
       "\n",
       "[1 rows x 22 columns]"
      ]
     },
     "execution_count": 157,
     "metadata": {},
     "output_type": "execute_result"
    }
   ],
   "source": [
    "df.loc[df['wins'] == df.wins.max]"
   ]
  },
  {
   "cell_type": "markdown",
   "metadata": {},
   "source": [
    "Для начала посмотрим на максимальное количество побед. Это женщина Кейт Бланшет"
   ]
  },
  {
   "cell_type": "markdown",
   "metadata": {},
   "source": [
    "# какое максимальное количсетво наград выиграл мужчина?\n"
   ]
  },
  {
   "cell_type": "code",
   "execution_count": 161,
   "metadata": {},
   "outputs": [
    {
     "data": {
      "text/html": [
       "<div>\n",
       "<style scoped>\n",
       "    .dataframe tbody tr th:only-of-type {\n",
       "        vertical-align: middle;\n",
       "    }\n",
       "\n",
       "    .dataframe tbody tr th {\n",
       "        vertical-align: top;\n",
       "    }\n",
       "\n",
       "    .dataframe thead th {\n",
       "        text-align: right;\n",
       "    }\n",
       "</style>\n",
       "<table border=\"1\" class=\"dataframe\">\n",
       "  <thead>\n",
       "    <tr style=\"text-align: right;\">\n",
       "      <th></th>\n",
       "      <th>actors_name</th>\n",
       "      <th>sex</th>\n",
       "      <th>position</th>\n",
       "      <th>salary</th>\n",
       "      <th>url</th>\n",
       "      <th>short_bio_url</th>\n",
       "      <th>birth_date</th>\n",
       "      <th>birth_year</th>\n",
       "      <th>place_of_birth</th>\n",
       "      <th>birth_name</th>\n",
       "      <th>...</th>\n",
       "      <th>age</th>\n",
       "      <th>wins</th>\n",
       "      <th>nominations</th>\n",
       "      <th>producer_credits</th>\n",
       "      <th>actors_credits</th>\n",
       "      <th>composers_credits</th>\n",
       "      <th>soundtrack_credits</th>\n",
       "      <th>total_credits</th>\n",
       "      <th>credit_bins</th>\n",
       "      <th>full_birth_date</th>\n",
       "    </tr>\n",
       "  </thead>\n",
       "  <tbody>\n",
       "    <tr>\n",
       "      <th>7</th>\n",
       "      <td>Shah Rukh Khan</td>\n",
       "      <td>male</td>\n",
       "      <td>Actor</td>\n",
       "      <td>38.0</td>\n",
       "      <td>https://www.imdb.com/name/nm0451321/</td>\n",
       "      <td>https://www.imdb.com/name/nm0451321/bio/?ref_=...</td>\n",
       "      <td>November 2</td>\n",
       "      <td>1965</td>\n",
       "      <td>New Delhi, India</td>\n",
       "      <td>No data available</td>\n",
       "      <td>...</td>\n",
       "      <td>57.0</td>\n",
       "      <td>116</td>\n",
       "      <td>138</td>\n",
       "      <td>18</td>\n",
       "      <td>111</td>\n",
       "      <td>0</td>\n",
       "      <td>9</td>\n",
       "      <td>138</td>\n",
       "      <td>100-149</td>\n",
       "      <td>1965-11-02</td>\n",
       "    </tr>\n",
       "  </tbody>\n",
       "</table>\n",
       "<p>1 rows × 22 columns</p>\n",
       "</div>"
      ],
      "text/plain": [
       "      actors_name   sex position  salary  \\\n",
       "7  Shah Rukh Khan  male    Actor    38.0   \n",
       "\n",
       "                                    url  \\\n",
       "7  https://www.imdb.com/name/nm0451321/   \n",
       "\n",
       "                                       short_bio_url  birth_date  birth_year  \\\n",
       "7  https://www.imdb.com/name/nm0451321/bio/?ref_=...  November 2        1965   \n",
       "\n",
       "     place_of_birth         birth_name  ...   age wins  nominations  \\\n",
       "7  New Delhi, India  No data available  ...  57.0  116          138   \n",
       "\n",
       "   producer_credits  actors_credits  composers_credits  soundtrack_credits  \\\n",
       "7                18             111                  0                   9   \n",
       "\n",
       "   total_credits  credit_bins  full_birth_date  \n",
       "7            138      100-149       1965-11-02  \n",
       "\n",
       "[1 rows x 22 columns]"
      ]
     },
     "execution_count": 161,
     "metadata": {},
     "output_type": "execute_result"
    }
   ],
   "source": [
    "male = df.loc[df['sex'] == 'male']\n",
    "male.loc[male['wins'] == male.wins.max()]\n"
   ]
  },
  {
   "cell_type": "markdown",
   "metadata": {},
   "source": [
    "<div class = 'Упражнение'> <b> Упражнение 2.9: Изучение наград по полу, часть II </b>\n",
    "\n",
    "Какое значение является средним числом побед для актера/актрисы с менее чем 65 actors_credits ?С большим или равным 65 кредитам актера?\n",
    "\n",
    "</div>"
   ]
  },
  {
   "cell_type": "code",
   "execution_count": 164,
   "metadata": {},
   "outputs": [
    {
     "data": {
      "text/plain": [
       "41.8"
      ]
     },
     "execution_count": 164,
     "metadata": {},
     "output_type": "execute_result"
    }
   ],
   "source": [
    "act_cred_65 = df.loc[df.actors_credits <65]\n",
    "act_cred_65['wins'].mean()"
   ]
  },
  {
   "cell_type": "code",
   "execution_count": 165,
   "metadata": {},
   "outputs": [
    {
     "data": {
      "text/plain": [
       "56.75"
      ]
     },
     "execution_count": 165,
     "metadata": {},
     "output_type": "execute_result"
    }
   ],
   "source": [
    "act_cred_high = df.loc[df.actors_credits >=65]\n",
    "act_cred_high['wins'].mean()"
   ]
  },
  {
   "cell_type": "markdown",
   "metadata": {},
   "source": [
    "<div class = 'Упражнение'> <b> Упражнение 2.10: Изучение кредитов композитора </b>\n",
    "\n",
    "Сколько актеров/актрис имеют как минимум 1 кредит композитора?\n",
    "\n",
    "</div>"
   ]
  },
  {
   "cell_type": "code",
   "execution_count": 167,
   "metadata": {},
   "outputs": [
    {
     "data": {
      "text/plain": [
       "2"
      ]
     },
     "execution_count": 167,
     "metadata": {},
     "output_type": "execute_result"
    }
   ],
   "source": [
    "len(df.loc[df.composers_credits > 1])"
   ]
  },
  {
   "cell_type": "code",
   "execution_count": null,
   "metadata": {},
   "outputs": [],
   "source": [
    "df.to_csv('actors_imdb_data.csv', sep = ',', index = False, header = True)"
   ]
  }
 ],
 "metadata": {
  "kernelspec": {
   "display_name": "Python 3",
   "language": "python",
   "name": "python3"
  },
  "language_info": {
   "codemirror_mode": {
    "name": "ipython",
    "version": 3
   },
   "file_extension": ".py",
   "mimetype": "text/x-python",
   "name": "python",
   "nbconvert_exporter": "python",
   "pygments_lexer": "ipython3",
   "version": "3.11.1"
  }
 },
 "nbformat": 4,
 "nbformat_minor": 4
}
