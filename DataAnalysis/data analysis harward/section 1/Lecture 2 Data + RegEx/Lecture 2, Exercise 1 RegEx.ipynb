{
 "cells": [
  {
   "cell_type": "markdown",
   "metadata": {},
   "source": [
    "# <img style=\"float: left; padding-right: 10px; width: 45px\" src=\"https://raw.githubusercontent.com/Harvard-IACS/2018-CS109A/master/content/styles/iacs.png\"> CS109A Introduction to Data Science \n",
    "\n",
    "## Lecture 2, Exercise 1: RegEx\n",
    "\n",
    "\n",
    "**Harvard University**<br/>\n",
    "**Fall 2020**<br/>\n",
    "**Instructors**: Pavlos Protopapas, Kevin Rader, and Chris Tanner\n",
    "\n",
    "---"
   ]
  },
  {
   "cell_type": "markdown",
   "metadata": {},
   "source": [
    "# Название\n",
    "\n",
    "**Упражнение 1**\n",
    "\n",
    "# Описание\n",
    "\n",
    "**Введение\n",
    "\n",
    "Регулярные выражения (RegEx) - это механизм, позволяющий задать шаблон для поиска. То есть регулярные выражения - это не только концепция или библиотека Python, они выходят за рамки одного языка программирования. К счастью, многие языки программирования поддерживают их. Это делает обработку строк (а именно синтаксический анализ) невероятно удобной, поскольку она гораздо проще, чем написание собственного поискового запроса (например, с помощью серии if-выражений).\n",
    "\n",
    "Многие языки программирования несколько отличаются по синтаксису создания RegEx. Временами RegEx может быстро надоедать, и мы не ожидаем, что студент запомнит все возможные последовательности символов или станет мастером. Мы **ожидаем, что вы будете знать, что это такое, и будете иметь базовое представление о них, чтобы вы знали об их невероятной полезности и могли использовать их в будущем, когда вам понадобится разбирать текст. Вполне допустимо - и ожидаемо - чтобы студенты обращались к руководству по синтаксису при создании RegEx. Вы быстро поймете, что есть несколько основных, мощных последовательностей символов, которые обычно используются снова и снова, и именно их вы, скорее всего, сочтете полезным запомнить:\n",
    "\n",
    "- любые пробельные символы\n",
    "- не пробельные символы\n",
    "- любой символ\n",
    "- не-символ\n",
    "- digit\n",
    "- не-цифра\n",
    "- встречается 0 или более раз\n",
    "- встречается 1 или более раз\n",
    "- начало строки\n",
    "- конец строки\n",
    "- Разница между жадным и не жадным (он же неохотный) поиском\n",
    "\n",
    "**Resources**\n",
    "\n",
    "1. Вам может быть полезна <a href=\"https://www.debuggex.com/cheatsheet/regex/python\" target=\"_blank\">эта</a> \"шпаргалка\".\n",
    "\n",
    "2. В качестве задания после уроков вы должны просмотреть <a href=\"https://docs.python.org/3/howto/regex.html\" target=\"_blank\">официальную документацию по Python</a>. Можно пропустить большинство разделов (пропустить `.split()` и `.sub()`), но следует обратить особое внимание на:\n",
    "\n",
    "раздел \"Выполнение совпадений\" (`.match()`)\n",
    "\n",
    "Раздел \"Группировка\" (`.group()`)\n",
    "\n",
    "Жадность и нежадность\n",
    "\n",
    "3. Для получения немедленной визуальной информации о том, соответствует ли ваше регулярное выражение желаемому, я настоятельно рекомендую посетить сайты, предоставляющие возможность онлайн-тестирования регулярных выражений, например:\n",
    "\n",
    "- <a href=\"https://pythex.org/\" target=\"_blank\">Pythex</a> <-- my favorite (it includes a cheatsheet button)\n",
    "- <a href=\"https://regex101.com/\" target=\"_blank\">Regex101</a> \n",
    "\n",
    "**Exercise**\n",
    "\n",
    "В этом упражнении мы хотим, чтобы вы попрактиковались в использовании регулярных выражений. Если вы уже неоднократно использовали их в прошлом, то, скорее всего, это упражнение не вызовет у вас затруднений. Если же вы делаете это впервые, не пугайтесь необычного синтаксиса. После нескольких правильных RegEx вы быстро станете профессионалом."
   ]
  },
  {
   "cell_type": "code",
   "execution_count": 1,
   "metadata": {},
   "outputs": [],
   "source": [
    "import re\n",
    "import requests"
   ]
  },
  {
   "cell_type": "markdown",
   "metadata": {},
   "source": [
    "For the three parts to this Exercise, you will be extracting contents from the `sample_string` provided below."
   ]
  },
  {
   "cell_type": "code",
   "execution_count": null,
   "metadata": {},
   "outputs": [],
   "source": [
    "# she was elected as State Representative of my district (Somerville) this week\n",
    "# (I am not blasting contact information of random people)\n",
    "sample_string = \"Hello, my name is Erika Uyterhoeven, and my email is erika@electerika.com!!\""
   ]
  },
  {
   "cell_type": "markdown",
   "metadata": {},
   "source": [
    "## Part A: Your first RegEx (or at least in CS109A)"
   ]
  },
  {
   "cell_type": "markdown",
   "metadata": {},
   "source": [
    "Запишите код (заполните бланк), который возвращает список всех «слов» в `sample_string`.\n",
    "**ПРИМЕЧАНИЕ:** Здесь мы считаем «слово» любую смежную группу символов, которые разделены пробелами.Таким образом, слова ** включают ** любую прикрепленную пунктуацию.Например, самое первое «слово» - «Привет», и самое последнее слово - erika@electerika.com !! `"
   ]
  },
  {
   "cell_type": "code",
   "execution_count": null,
   "metadata": {},
   "outputs": [],
   "source": [
    "### edTest(test_a) ###\n",
    "words = re.findall('___',sample_string)\n",
    "words"
   ]
  },
  {
   "cell_type": "markdown",
   "metadata": {},
   "source": [
    "## Part B: No punctuation\n",
    "In the cell below, write a very similar RegEx, but now return all words **excluding** any attached punctuation marks, even if it's more than 1 punctuation mark. For example, the first word is now `Hello` (without the `,`) and the last word is `erika@electerika.com` (without `!!`). **NOTE:** For this part, let's assume there are only 2 types of punctuations in the world, `!` and `,`. Thus, do not worry about properly treating others (e.g., `.;[]`)"
   ]
  },
  {
   "cell_type": "code",
   "execution_count": null,
   "metadata": {},
   "outputs": [],
   "source": [
    "### edTest(test_b) ###\n",
    "words = re.findall('___',sample_string)\n",
    "words"
   ]
  },
  {
   "cell_type": "markdown",
   "metadata": {},
   "source": [
    "## Part C: E-mail only\n",
    "In the cell below, write a RegEx to extract just her e-mail address, **excluding** the exclamation points. Thus, you should return `erika@electerika.com`. To be clear, you do not need to write a robust RegEx that properly matches all patterns of `____@___.__`. It is fine to target just this one e-mail by assuming the template is `____@____` (without attached `!`)"
   ]
  },
  {
   "cell_type": "code",
   "execution_count": null,
   "metadata": {},
   "outputs": [],
   "source": [
    "### edTest(test_c) ###\n",
    "words = re.findall('___',sample_string)\n",
    "words"
   ]
  }
 ],
 "metadata": {
  "kernelspec": {
   "display_name": "Python 3",
   "language": "python",
   "name": "python3"
  },
  "language_info": {
   "codemirror_mode": {
    "name": "ipython",
    "version": 3
   },
   "file_extension": ".py",
   "mimetype": "text/x-python",
   "name": "python",
   "nbconvert_exporter": "python",
   "pygments_lexer": "ipython3",
   "version": "3.11.1"
  }
 },
 "nbformat": 4,
 "nbformat_minor": 4
}
