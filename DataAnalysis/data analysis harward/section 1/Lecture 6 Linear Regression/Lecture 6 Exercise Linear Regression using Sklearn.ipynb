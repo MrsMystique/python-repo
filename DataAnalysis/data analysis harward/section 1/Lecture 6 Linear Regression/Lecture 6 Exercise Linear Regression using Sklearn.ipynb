{
 "cells": [
  {
   "cell_type": "markdown",
   "metadata": {},
   "source": [
    "## Title :\n",
    "Упражнение: Линейная регрессия с использованием Sklearn\n",
    "\n",
    "## Description :\n",
    "Цель данного упражнения - с помощью пакета `sklearn` выполнить **линейную регрессию** для ранее использованного файла данных `Advertising.csv` и построить график\n",
    "\n",
    "## Описание данных:\n",
    "\n",
    "## Инструкция:\n",
    "- Используйте функцию `train_test_split()` для разделения набора данных на обучающий и тестовый наборы.\n",
    "- Используйте функцию `LinearRegression` для построения модели\n",
    "- Обучите модель на учебном наборе\n",
    "- Прогнозирование на тестовом наборе с использованием модели\n",
    "- Оценить правильность модели с помощью функции `mean_squared_error`.\n",
    "- Постройте график набора данных вместе с предсказаниями для визуализации подгонки.\n",
    "\n",
    "## Подсказки: \n",
    "\n",
    "<a href=\"https://pandas.pydata.org/pandas-docs/stable/reference/api/pandas.read_csv.html\" target=\"_blank\">pd.read_csv(filename)</a>\n",
    "Возвращает кадр данных pandas, содержащий данные и метки из файла data\n",
    "\n",
    "<a href=\"https://scikit-learn.org/stable/modules/generated/sklearn.model_selection.train_test_split.html\" target=\"_blank\">sklearn.train_test_split()</a>\n",
    "Разбивает данные на случайные обучающее и тестовое подмножества\n",
    "\n",
    "<a href=\"https://scikit-learn.org/stable/modules/generated/sklearn.linear_model.LinearRegression.html\" target=\"_blank\">sklearn.LinearRegression()</a>\n",
    "Линейная регрессия (LinearRegression) подгоняет линейную модель\n",
    "\n",
    "<a href=\"https://scikit-learn.org/stable/modules/generated/sklearn.linear_model.LinearRegression.html#sklearn.linear_model.LinearRegression.fit\" target=\"_blank\">sklearn.fit()</a>\n",
    "Подгоняет линейную модель к обучающим данным\n",
    "\n",
    "<a href=\"https://scikit-learn.org/stable/modules/generated/sklearn.linear_model.LinearRegression.html#sklearn.linear_model.LinearRegression.predict\" target=\"_blank\">sklearn.predict()</a>\n",
    "Прогнозирование с использованием линейной модели\n",
    "\n",
    "<a href=\"https://scikit-learn.org/stable/modules/generated/sklearn.metrics.mean_squared_error.html#sklearn.metrics.mean_squared_error\" target=\"_blank\">mean_squared_error()</a>\n",
    "Вычисляет среднюю квадратичную ошибку регрессии\n",
    "\n",
    "<a href=\"https://matplotlib.org/stable/api/_as_gen/matplotlib.pyplot.plot.html\" target=\"_blank\">plt.plot()</a>\n",
    "Построение графика зависимости y от x в виде линий и/или маркеров\n",
    "\n",
    "**Примечание:** Данное упражнение оценивается автоматически, поэтому перед выставлением оценки не забудьте установить все параметры в те значения, которые указаны в руководстве."
   ]
  },
  {
   "cell_type": "code",
   "execution_count": 1,
   "metadata": {},
   "outputs": [],
   "source": [
    "# Импорт необходимых библиотек\n",
    "import numpy as np\n",
    "import pandas as pd\n",
    "import matplotlib.pyplot as plt\n",
    "from sklearn.metrics import r2_score\n",
    "from sklearn.metrics import mean_squared_error\n",
    "from sklearn.linear_model import LinearRegression\n",
    "from sklearn.model_selection import train_test_split\n",
    "%matplotlib inline\n"
   ]
  },
  {
   "cell_type": "code",
   "execution_count": 2,
   "metadata": {},
   "outputs": [],
   "source": [
    "# Прочитайте данные из файла \"Advertising.csv\"\n",
    "df = pd.read_csv('Advertising.csv')\n"
   ]
  },
  {
   "cell_type": "code",
   "execution_count": 3,
   "metadata": {},
   "outputs": [
    {
     "data": {
      "text/html": [
       "<div>\n",
       "<style scoped>\n",
       "    .dataframe tbody tr th:only-of-type {\n",
       "        vertical-align: middle;\n",
       "    }\n",
       "\n",
       "    .dataframe tbody tr th {\n",
       "        vertical-align: top;\n",
       "    }\n",
       "\n",
       "    .dataframe thead th {\n",
       "        text-align: right;\n",
       "    }\n",
       "</style>\n",
       "<table border=\"1\" class=\"dataframe\">\n",
       "  <thead>\n",
       "    <tr style=\"text-align: right;\">\n",
       "      <th></th>\n",
       "      <th>TV</th>\n",
       "      <th>Radio</th>\n",
       "      <th>Newspaper</th>\n",
       "      <th>Sales</th>\n",
       "    </tr>\n",
       "  </thead>\n",
       "  <tbody>\n",
       "    <tr>\n",
       "      <th>0</th>\n",
       "      <td>230.1</td>\n",
       "      <td>37.8</td>\n",
       "      <td>69.2</td>\n",
       "      <td>22.1</td>\n",
       "    </tr>\n",
       "    <tr>\n",
       "      <th>1</th>\n",
       "      <td>44.5</td>\n",
       "      <td>39.3</td>\n",
       "      <td>45.1</td>\n",
       "      <td>10.4</td>\n",
       "    </tr>\n",
       "    <tr>\n",
       "      <th>2</th>\n",
       "      <td>17.2</td>\n",
       "      <td>45.9</td>\n",
       "      <td>69.3</td>\n",
       "      <td>12.0</td>\n",
       "    </tr>\n",
       "    <tr>\n",
       "      <th>3</th>\n",
       "      <td>151.5</td>\n",
       "      <td>41.3</td>\n",
       "      <td>58.5</td>\n",
       "      <td>16.5</td>\n",
       "    </tr>\n",
       "    <tr>\n",
       "      <th>4</th>\n",
       "      <td>180.8</td>\n",
       "      <td>10.8</td>\n",
       "      <td>58.4</td>\n",
       "      <td>17.9</td>\n",
       "    </tr>\n",
       "  </tbody>\n",
       "</table>\n",
       "</div>"
      ],
      "text/plain": [
       "      TV  Radio  Newspaper  Sales\n",
       "0  230.1   37.8       69.2   22.1\n",
       "1   44.5   39.3       45.1   10.4\n",
       "2   17.2   45.9       69.3   12.0\n",
       "3  151.5   41.3       58.5   16.5\n",
       "4  180.8   10.8       58.4   17.9"
      ]
     },
     "execution_count": 3,
     "metadata": {},
     "output_type": "execute_result"
    }
   ],
   "source": [
    "# Посмотрите на данные\n",
    "df.head()\n"
   ]
  },
  {
   "cell_type": "code",
   "execution_count": 33,
   "metadata": {},
   "outputs": [],
   "source": [
    "# Assign TV advertising as predictor variable 'x'\n",
    "x = df[['TV']]\n",
    "\n",
    "# Set the Sales column as the response variable 'y'\n",
    "y = df['Sales']\n"
   ]
  },
  {
   "cell_type": "code",
   "execution_count": 43,
   "metadata": {},
   "outputs": [],
   "source": [
    "# Разделите набор данных на данные обучения и тестирования с 80% обучающим набором\n",
    "x_train, x_test, y_train, y_test = train_test_split(x, y , train_size=0.8)\n"
   ]
  },
  {
   "cell_type": "code",
   "execution_count": 44,
   "metadata": {},
   "outputs": [
    {
     "data": {
      "text/plain": [
       "array([17.73450341,  9.04599878, 13.49914397,  7.89402686, 19.62006939])"
      ]
     },
     "execution_count": 44,
     "metadata": {},
     "output_type": "execute_result"
    }
   ],
   "source": [
    "# Initialize a Linear Regression model using Sklearn\n",
    "model = LinearRegression()\n",
    "\n",
    "# Fit the linear model on the train data\n",
    "model.fit(x_train, y_train)\n",
    "\n",
    "# Peedict on the test data using the trained model\n",
    "y_pred_test = model.predict(x_test)\n",
    "\n",
    "y_pred_test[0:5]"
   ]
  },
  {
   "cell_type": "code",
   "execution_count": 45,
   "metadata": {},
   "outputs": [
    {
     "name": "stdout",
     "output_type": "stream",
     "text": [
      "The test MSE is 4.694694928721204\n"
     ]
    }
   ],
   "source": [
    "### edtest (test_mse) ###\n",
    "# Вычислить MSE прогнозируемых тестовых значений\n",
    "mse = mean_squared_error(y_test, y_pred_test)\n",
    "# Распечатайте вычисленную MSE\n",
    "print(f'The test MSE is {mse}')\n"
   ]
  },
  {
   "cell_type": "code",
   "execution_count": 46,
   "metadata": {},
   "outputs": [
    {
     "data": {
      "image/png": "[encoded data removed]",
      "text/plain": [
       "<Figure size 640x480 with 1 Axes>"
      ]
     },
     "metadata": {},
     "output_type": "display_data"
    }
   ],
   "source": [
    "# Сделайте график данных вместе с предсказанной линейной регрессией\n",
    "fig, ax = plt.subplots()\n",
    "ax.scatter(x,y,label='data points')\n",
    "\n",
    "# Построить тестовые данные и прогнозируемый выход тестовых данных\n",
    "ax.plot(x_test,y_pred_test,color='red',linewidth=2,label='model predictions')\n",
    "ax.set_xlabel('Advertising')\n",
    "ax.set_ylabel('Sales')\n",
    "ax.legend();\n"
   ]
  },
  {
   "cell_type": "markdown",
   "metadata": {},
   "source": [
    "⏸ Как ваш $ mse $ меняется, когда размер обучающего набора изменяется на 60% вместо 80%?\n"
   ]
  },
  {
   "cell_type": "code",
   "execution_count": 42,
   "metadata": {},
   "outputs": [],
   "source": [
    "### edtest (test_chow1) ###\n",
    "# Введите свой ответ в приведенных кавычках\n",
    "answer1 = 'Обычно увеличивается, так как слишком много данных модель еще не видела и точек данных возведенных в квадрат будет больше'\n"
   ]
  }
 ],
 "metadata": {
  "kernelspec": {
   "display_name": "Python 3",
   "language": "python",
   "name": "python3"
  },
  "language_info": {
   "codemirror_mode": {
    "name": "ipython",
    "version": 3
   },
   "file_extension": ".py",
   "mimetype": "text/x-python",
   "name": "python",
   "nbconvert_exporter": "python",
   "pygments_lexer": "ipython3",
   "version": "3.11.1"
  }
 },
 "nbformat": 4,
 "nbformat_minor": 4
}
