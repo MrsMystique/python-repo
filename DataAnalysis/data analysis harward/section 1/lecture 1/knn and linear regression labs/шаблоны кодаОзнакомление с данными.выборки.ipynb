{
 "cells": [
  {
   "cell_type": "markdown",
   "metadata": {},
   "source": [
    "# Библиотеки"
   ]
  },
  {
   "cell_type": "code",
   "execution_count": 3,
   "metadata": {},
   "outputs": [],
   "source": [
    "import pandas as pd"
   ]
  },
  {
   "cell_type": "markdown",
   "metadata": {},
   "source": [
    "# Загрузка датафрейма"
   ]
  },
  {
   "cell_type": "code",
   "execution_count": null,
   "metadata": {},
   "outputs": [],
   "source": [
    "df = pd.DataFrame('mydataset name or path')\n",
    "df = pd.read_csv('data.csv')"
   ]
  },
  {
   "cell_type": "markdown",
   "metadata": {},
   "source": [
    "# Ознакомление с данными"
   ]
  },
  {
   "cell_type": "code",
   "execution_count": null,
   "metadata": {},
   "outputs": [],
   "source": [
    "df.head()\n",
    "df.dtypes()\n",
    "df.describe()\n",
    "df.corr()\n"
   ]
  },
  {
   "cell_type": "markdown",
   "metadata": {},
   "source": [
    "# Метки (как наименования строк)"
   ]
  },
  {
   "cell_type": "code",
   "execution_count": 5,
   "metadata": {},
   "outputs": [
    {
     "data": {
      "text/plain": [
       "x    1\n",
       "y    7\n",
       "z    2\n",
       "dtype: int64"
      ]
     },
     "execution_count": 5,
     "metadata": {},
     "output_type": "execute_result"
    }
   ],
   "source": [
    "list_of_data = [1, 7, 2]\n",
    "mymassive = pd.Series(list_of_data, index = [\"x\", \"y\", \"z\"])\n",
    "mymassive"
   ]
  },
  {
   "cell_type": "markdown",
   "metadata": {},
   "source": [
    "# Создание серии пандас из словаря"
   ]
  },
  {
   "cell_type": "code",
   "execution_count": 10,
   "metadata": {},
   "outputs": [
    {
     "data": {
      "text/html": [
       "<div>\n",
       "<style scoped>\n",
       "    .dataframe tbody tr th:only-of-type {\n",
       "        vertical-align: middle;\n",
       "    }\n",
       "\n",
       "    .dataframe tbody tr th {\n",
       "        vertical-align: top;\n",
       "    }\n",
       "\n",
       "    .dataframe thead th {\n",
       "        text-align: right;\n",
       "    }\n",
       "</style>\n",
       "<table border=\"1\" class=\"dataframe\">\n",
       "  <thead>\n",
       "    <tr style=\"text-align: right;\">\n",
       "      <th></th>\n",
       "      <th>0</th>\n",
       "    </tr>\n",
       "  </thead>\n",
       "  <tbody>\n",
       "    <tr>\n",
       "      <th>key1</th>\n",
       "      <td>value1</td>\n",
       "    </tr>\n",
       "    <tr>\n",
       "      <th>key2</th>\n",
       "      <td>value2</td>\n",
       "    </tr>\n",
       "    <tr>\n",
       "      <th>key3</th>\n",
       "      <td>value3</td>\n",
       "    </tr>\n",
       "  </tbody>\n",
       "</table>\n",
       "</div>"
      ],
      "text/plain": [
       "           0\n",
       "key1  value1\n",
       "key2  value2\n",
       "key3  value3"
      ]
     },
     "execution_count": 10,
     "metadata": {},
     "output_type": "execute_result"
    }
   ],
   "source": [
    "my_dict_name = {\"key1\": 'value1', \"key2\": 'value2', \"key3\": 'value3'}\n",
    "mySeries_object = pd.Series(my_dict_name)\n",
    "mySeries_object.to_frame()"
   ]
  },
  {
   "cell_type": "code",
   "execution_count": 11,
   "metadata": {},
   "outputs": [
    {
     "data": {
      "text/plain": [
       "key1    value1\n",
       "key2    value2\n",
       "dtype: object"
      ]
     },
     "execution_count": 11,
     "metadata": {},
     "output_type": "execute_result"
    }
   ],
   "source": [
    "myvar = pd.Series(my_dict_name, index = [\"key1\", \"key2\"])\n",
    "myvar"
   ]
  },
  {
   "cell_type": "markdown",
   "metadata": {},
   "source": [
    "# Выбор строк\n"
   ]
  },
  {
   "cell_type": "code",
   "execution_count": null,
   "metadata": {},
   "outputs": [],
   "source": [
    "# Использование loc для доступа к данным\n",
    "# Доступ к определенным столбцам по меткам\n",
    "subset = df.loc[:, ['column1', 'column2']]\n",
    "\n",
    "# Доступ к определенным строкам и столбцам по меткам\n",
    "subset = df.loc[start_row:end_row, ['column1', 'column2']]\n",
    "\n",
    "# Доступ к конкретной ячейке данных по меткам\n",
    "value = df.loc[row_label, 'column_label']"
   ]
  },
  {
   "cell_type": "code",
   "execution_count": null,
   "metadata": {},
   "outputs": [],
   "source": [
    "# Использование iloc для доступа к данным\n",
    "# Доступ к определенным столбцам по индексам\n",
    "subset = df.iloc[:, [0, 1]]\n",
    "\n",
    "# Доступ к определенным строкам и столбцам по индексам\n",
    "subset = df.iloc[start_row:end_row, [0, 1]]\n",
    "\n",
    "# Доступ к конкретной ячейке данных по индексам\n",
    "value = df.iloc[row_index, column_index]"
   ]
  },
  {
   "cell_type": "markdown",
   "metadata": {},
   "source": [
    "# Сортировка"
   ]
  },
  {
   "cell_type": "code",
   "execution_count": null,
   "metadata": {},
   "outputs": [],
   "source": [
    "df.sort_values(by ='столбец', ascending = False)"
   ]
  },
  {
   "cell_type": "markdown",
   "metadata": {},
   "source": [
    "# Фильтрация, Условия"
   ]
  },
  {
   "cell_type": "code",
   "execution_count": null,
   "metadata": {},
   "outputs": [],
   "source": [
    "# В обоих случаях, использование оператора & (логическое И) связывает два условия, означая, что оба условия должны быть истинными для получения финального условия.\n",
    "(df['столбец1'] != 'значение') & (df['столбец2'] > df['столбец2'].median())\n",
    "(df.столбец1 != 'значение') & (df.столбец2 > df.столбец2.median())"
   ]
  },
  {
   "cell_type": "markdown",
   "metadata": {},
   "source": [
    "# Аггрегирование"
   ]
  },
  {
   "cell_type": "code",
   "execution_count": null,
   "metadata": {},
   "outputs": [],
   "source": [
    "# 'mean', 'std' -одни из  методов для аггрегирования\n",
    "df[['столбец1', 'столбец2']].aggregate(['mean', 'std'])"
   ]
  },
  {
   "cell_type": "markdown",
   "metadata": {},
   "source": [
    "# Группировка"
   ]
  },
  {
   "cell_type": "code",
   "execution_count": null,
   "metadata": {},
   "outputs": [],
   "source": [
    "# сгруппируем по 2 столбцам и аггрегируем значения по трем столбцам и среднему значению(для примера)\n",
    "df.groupby(['столбец1', 'столбец2']).agg({'столбец1': 'mean',\n",
    "                                     'столбец2': 'mean',\n",
    "                                     'столбец3': 'mean'})"
   ]
  },
  {
   "cell_type": "markdown",
   "metadata": {},
   "source": [
    "# Переименование"
   ]
  },
  {
   "cell_type": "code",
   "execution_count": null,
   "metadata": {},
   "outputs": [],
   "source": [
    "df = df.rename(columns={'Старое имя столбца ':'новое имя', 'старое имя столбца2': 'новое имя'})"
   ]
  },
  {
   "cell_type": "markdown",
   "metadata": {},
   "source": [
    "# Работа с отсутствующими значениями"
   ]
  },
  {
   "cell_type": "code",
   "execution_count": null,
   "metadata": {},
   "outputs": [],
   "source": [
    "df.isna()\n",
    "df.isna().sum()\n",
    "# заполнить средним значением()\n",
    "df['столбец'] = df['столбец'].fillna(df['столбец'].mean())\n",
    "# удалить\n",
    "df = df.dropna()\n",
    "#  удалить строку с NaN и изменить исходный дф\n",
    "df.dropna(axis=0, inplace=True)\n"
   ]
  },
  {
   "cell_type": "markdown",
   "metadata": {},
   "source": [
    "# Категориальные столбцы"
   ]
  },
  {
   "cell_type": "code",
   "execution_count": null,
   "metadata": {},
   "outputs": [],
   "source": [
    "df.unique()\n",
    "df['столбец'].unique().tolist()\n",
    "df.nunique()\n",
    "# подсчет уникальных значений\n",
    "np.unique(df['столбец'].values, return_counts=True)\n",
    "# Подсчет всех(каждого) значений\n",
    "df[['столбец']].value_counts()"
   ]
  },
  {
   "cell_type": "code",
   "execution_count": null,
   "metadata": {},
   "outputs": [],
   "source": [
    "def print_uniques(df, col, limit=10):\n",
    "\"\" \"Уникальные значения столбца печати, когда количество Uniques столбца ниже или равное, чем предел\" \"\" \"\"\n",
    "    n = df[col].nunique()\n",
    "    if n <= limit:\n",
    "        print(f'{col}:', df[col].unique().tolist())\n",
    "    else:\n",
    "        print(f'{col}:', f'more than {limit} uniques')\n",
    "\n",
    "for col in df.columns:\n",
    "    print_uniques(df, col)"
   ]
  },
  {
   "cell_type": "markdown",
   "metadata": {},
   "source": []
  }
 ],
 "metadata": {
  "kernelspec": {
   "display_name": "Python 3",
   "language": "python",
   "name": "python3"
  },
  "language_info": {
   "codemirror_mode": {
    "name": "ipython",
    "version": 3
   },
   "file_extension": ".py",
   "mimetype": "text/x-python",
   "name": "python",
   "nbconvert_exporter": "python",
   "pygments_lexer": "ipython3",
   "version": "3.11.1"
  },
  "orig_nbformat": 4
 },
 "nbformat": 4,
 "nbformat_minor": 2
}
