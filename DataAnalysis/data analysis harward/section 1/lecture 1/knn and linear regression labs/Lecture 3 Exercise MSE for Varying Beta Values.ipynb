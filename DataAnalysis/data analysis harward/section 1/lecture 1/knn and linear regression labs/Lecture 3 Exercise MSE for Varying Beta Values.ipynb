{
 "cells": [
  {
   "cell_type": "markdown",
   "metadata": {},
   "source": [
    "## Title :\n",
    "Упражнение: MSE для переменных значений беты\n",
    "\n",
    "## Описание данных:\n",
    "\n",
    "## Инструкция:\n",
    "- Исправьте $\\beta_0 = 2.2$.\n",
    "- Измените $\\beta_1$ в диапазоне $[-2, 3]$.\n",
    "## Оцените пригодность модели, выполнив следующие шаги:\n",
    "- Создать пустые списки для хранения MSE и $\\beta_1$.\n",
    "- Задайте диапазон значений $\\beta_1$ и вычислите MSE для каждого из них.\n",
    "\n",
    "\n",
    "\n",
    "## Подсказки: \n",
    "\n",
    "<a href=\"http://return%20evenly%20spaced%20numbers%20over%20a%20specified%20interval./\" target=\"_blank\">np.linspace(start, stop, num)</a>\n",
    "Возвращает равномерно распределенные числа на заданном интервале.\n",
    "\n",
    "<a href=\"https://numpy.org/doc/stable/reference/generated/numpy.arange.html\" target=\"_blank\">np.arange(start, stop, increment)</a>\n",
    "Возвращает равномерно распределенные значения в заданном интервале.\n",
    "\n",
    "<a href=\"https://docs.python.org/3/tutorial/datastructures.html\" target=\"_blank\">list_name.append(item)</a>\n",
    "Добавляет элемент в конец списка.\n",
    "\n",
    "<a href=\"https://matplotlib.org/3.2.2/api/_as_gen/matplotlib.pyplot.xlabel.html\" target=\"_blank\">plt.xlabel()</a>\n",
    "Используется для указания текста, который будет отображаться в качестве метки для оси x.\n",
    "\n",
    "<a href=\"https://matplotlib.org/3.2.2/api/_as_gen/matplotlib.pyplot.xlabel.html\" target=\"_blank\">plt.ylabel()</a>\n",
    "Здесь задается текст, который будет отображаться в качестве метки для оси y.\n",
    "\n",
    "\n",
    "**Примечание:** Данное упражнение имеет автоматическую оценку, поэтому перед выставлением оценки не забудьте установить все параметры в те значения, которые указаны в схеме."
   ]
  },
  {
   "cell_type": "code",
   "execution_count": 14,
   "metadata": {},
   "outputs": [],
   "source": [
    "# Импортировать необходимые библиотеки\n",
    "import numpy as np\n",
    "import pandas as pd\n",
    "import matplotlib.pyplot as plt\n",
    "%matplotlib inline\n",
    "from sklearn.metrics import r2_score\n",
    "from sklearn.metrics import mean_squared_error\n"
   ]
  },
  {
   "cell_type": "markdown",
   "metadata": {},
   "source": [
    "### Чтение набора данных"
   ]
  },
  {
   "cell_type": "code",
   "execution_count": 2,
   "metadata": {},
   "outputs": [],
   "source": [
    "# Читать файл данных 'Advertising.csv' в Pandas DataFrame\n",
    "df = pd.read_csv('Advertising.csv')\n"
   ]
  },
  {
   "cell_type": "code",
   "execution_count": 3,
   "metadata": {},
   "outputs": [
    {
     "data": {
      "text/html": [
       "<div>\n",
       "<style scoped>\n",
       "    .dataframe tbody tr th:only-of-type {\n",
       "        vertical-align: middle;\n",
       "    }\n",
       "\n",
       "    .dataframe tbody tr th {\n",
       "        vertical-align: top;\n",
       "    }\n",
       "\n",
       "    .dataframe thead th {\n",
       "        text-align: right;\n",
       "    }\n",
       "</style>\n",
       "<table border=\"1\" class=\"dataframe\">\n",
       "  <thead>\n",
       "    <tr style=\"text-align: right;\">\n",
       "      <th></th>\n",
       "      <th>TV</th>\n",
       "      <th>Radio</th>\n",
       "      <th>Newspaper</th>\n",
       "      <th>Sales</th>\n",
       "    </tr>\n",
       "  </thead>\n",
       "  <tbody>\n",
       "    <tr>\n",
       "      <th>0</th>\n",
       "      <td>230.1</td>\n",
       "      <td>37.8</td>\n",
       "      <td>69.2</td>\n",
       "      <td>22.1</td>\n",
       "    </tr>\n",
       "    <tr>\n",
       "      <th>1</th>\n",
       "      <td>44.5</td>\n",
       "      <td>39.3</td>\n",
       "      <td>45.1</td>\n",
       "      <td>10.4</td>\n",
       "    </tr>\n",
       "    <tr>\n",
       "      <th>2</th>\n",
       "      <td>17.2</td>\n",
       "      <td>45.9</td>\n",
       "      <td>69.3</td>\n",
       "      <td>12.0</td>\n",
       "    </tr>\n",
       "    <tr>\n",
       "      <th>3</th>\n",
       "      <td>151.5</td>\n",
       "      <td>41.3</td>\n",
       "      <td>58.5</td>\n",
       "      <td>16.5</td>\n",
       "    </tr>\n",
       "    <tr>\n",
       "      <th>4</th>\n",
       "      <td>180.8</td>\n",
       "      <td>10.8</td>\n",
       "      <td>58.4</td>\n",
       "      <td>17.9</td>\n",
       "    </tr>\n",
       "  </tbody>\n",
       "</table>\n",
       "</div>"
      ],
      "text/plain": [
       "      TV  Radio  Newspaper  Sales\n",
       "0  230.1   37.8       69.2   22.1\n",
       "1   44.5   39.3       45.1   10.4\n",
       "2   17.2   45.9       69.3   12.0\n",
       "3  151.5   41.3       58.5   16.5\n",
       "4  180.8   10.8       58.4   17.9"
      ]
     },
     "execution_count": 3,
     "metadata": {},
     "output_type": "execute_result"
    }
   ],
   "source": [
    "# Посмотрите на данные\n",
    "df.head()\n"
   ]
  },
  {
   "cell_type": "code",
   "execution_count": 18,
   "metadata": {},
   "outputs": [],
   "source": [
    "# Создайте новый DataFrame под названием «df_new` с столбцами\" TV \"и\" Sales \"\n",
    "df_new = df[['TV', 'Sales']]\n",
    "x = df_new[['TV']]\n",
    "# возникла ошибка когда указала как фрейм, перевела в вектор\n",
    "y= df_new['Sales']\n"
   ]
  },
  {
   "cell_type": "markdown",
   "metadata": {},
   "source": [
    "### Бета и вычисление MSE"
   ]
  },
  {
   "cell_type": "code",
   "execution_count": 40,
   "metadata": {},
   "outputs": [],
   "source": [
    "# Установите бета -0 на 2,2\n",
    "beta0 = 0\n"
   ]
  },
  {
   "cell_type": "code",
   "execution_count": 41,
   "metadata": {},
   "outputs": [],
   "source": [
    "# Создайте пустой список для хранения MSESE\n",
    "mse_list = []\n",
    "\n",
    "# Создайте пустой список для хранения значений Beta1\n",
    "beta1_list = []\n"
   ]
  },
  {
   "cell_type": "code",
   "execution_count": 42,
   "metadata": {},
   "outputs": [],
   "source": [
    "### edtest (test_beta) ###\n",
    "\n",
    "# Эти циклы выполняются от -2 до 3,0 с увеличением 0,1\n",
    "# т.е. в общей сложности 51 шаг\n",
    "for beta1 in (np.linspace(-2.0, 3.0, num = 51, dtype = float)):\n",
    "    \n",
    "# Рассчитайте прогноз X с использованием Beta0 и Beta1\n",
    "    # Вспомните формулу y = beta0 + beta1*x\n",
    "    y_predict = beta0 + beta1*x\n",
    "    \n",
    "    # рассчитайте Среднюю Квадратичную Ошибку\n",
    "    MSE = mean_squared_error(y, y_predict)\n",
    "\n",
    "  # Добавить новый MSE в список, инициализированный выше\n",
    "    mse_list.append(MSE)\n",
    "    \n",
    "   # Добавить значение Beta1 к соответствующему списку, инициализированному выше\n",
    "    beta1_list.append(beta1)\n"
   ]
  },
  {
   "cell_type": "markdown",
   "metadata": {},
   "source": [
    "### Построение графика"
   ]
  },
  {
   "cell_type": "code",
   "execution_count": 43,
   "metadata": {},
   "outputs": [
    {
     "data": {
      "text/plain": [
       "Text(0, 0.5, 'MSE')"
      ]
     },
     "execution_count": 43,
     "metadata": {},
     "output_type": "execute_result"
    },
    {
     "data": {
      "image/png": "[encoded data removed]",
      "text/plain": [
       "<Figure size 640x480 with 1 Axes>"
      ]
     },
     "metadata": {},
     "output_type": "display_data"
    }
   ],
   "source": [
    "### edTest(test_mse) ###\n",
    "# Вспомогательный код, чтобы построить MSE как функцию Beta1\n",
    "plt.plot(beta1_list, mse_list)\n",
    "plt.xlabel('Beta1')\n",
    "plt.ylabel('MSE')\n"
   ]
  },
  {
   "cell_type": "code",
   "execution_count": 44,
   "metadata": {},
   "outputs": [
    {
     "name": "stdout",
     "output_type": "stream",
     "text": [
      "19.945779500000043\n"
     ]
    }
   ],
   "source": [
    "print(min(mse_list))"
   ]
  },
  {
   "cell_type": "markdown",
   "metadata": {},
   "source": [
    "### ⏸ Вернитесь и измените свою стоимость $ \\ beta_0 $ по вашему выбору и сообщите о своей новой оптимальной стоимости $ \\ beta_1 $ и новой самой низкой $ mse $.MSE ниже, чем раньше, или больше?"
   ]
  },
  {
   "cell_type": "code",
   "execution_count": null,
   "metadata": {},
   "outputs": [],
   "source": [
    "### edTest(test_chow1) ###\n",
    "# Отправьте выбор ответа в качестве строки ниже\n",
    "answer1 = 'чем ближе бета к нулю, тем ниже MSE'\n"
   ]
  }
 ],
 "metadata": {
  "kernelspec": {
   "display_name": "Python 3",
   "language": "python",
   "name": "python3"
  },
  "language_info": {
   "codemirror_mode": {
    "name": "ipython",
    "version": 3
   },
   "file_extension": ".py",
   "mimetype": "text/x-python",
   "name": "python",
   "nbconvert_exporter": "python",
   "pygments_lexer": "ipython3",
   "version": "3.11.1"
  }
 },
 "nbformat": 4,
 "nbformat_minor": 2
}
