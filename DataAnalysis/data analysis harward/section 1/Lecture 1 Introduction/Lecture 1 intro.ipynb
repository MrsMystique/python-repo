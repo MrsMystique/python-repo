{
 "cells": [
  {
   "cell_type": "markdown",
   "metadata": {},
   "source": [
    "# <img style=\"float: left; padding-right: 10px; width: 45px\" src=\"https://raw.githubusercontent.com/Harvard-IACS/2018-CS109A/master/content/styles/iacs.png\"> CS109A Introduction to Data Science \n",
    "\n",
    "## Lecture 1, Exercise 1: The Data Science Process\n",
    "\n",
    "\n",
    "**Harvard University**<br/>\n",
    "**Fall 2021**<br/>\n",
    "**Instructors**: Pavlos Protopapas and Natesh Pillai\n",
    "\n",
    "---"
   ]
  },
  {
   "cell_type": "markdown",
   "metadata": {},
   "source": [
    "## Название :\n",
    "Упражнение: Процесс науки о данных\n",
    "\n",
    "## Описание :\n",
    "Целью данного упражнения является понимание всех этапов процесса Data Science.\n",
    "\n",
    "## Описание данных:\n",
    "Hubway - это общественная программа совместного использования велосипедов в Бостоне, включающая более 1600 велосипедов на 160+ станциях в районе Большого Бостона. Hubway принадлежала четырем муниципалитетам района.\n",
    "\n",
    "К 2016 г. программа Hubway насчитывала 185 станций и 1750 велосипедов, а с момента запуска в 2011 г. она совершила 5 млн поездок.\n",
    "\n",
    "В апреле 2017 года компания Hubway провела конкурс по визуализации данных в центре Microsoft NERD в Кембридже, опубликовав данные о поездках за 5 лет.\n",
    "\n",
    "## Инструкции:\n",
    "- Считайте файлы данных hubway_stations.csv и hubway_trips.csv в отдельные фреймы данных pandas.\n",
    "- Получите краткое представление о присутствующих в данных столбцах и их типах.\n",
    "- Удалите все точки данных с нулевыми значениями в одном (или нескольких) столбцах.\n",
    "- Создайте новый столбец age, в котором будет указан возраст велосипедиста по дате его рождения.\n",
    "- Выполните соответствующую EDA, чтобы ответить на вопросы, заданные на эшафоте.\n",
    "- Создайте простую линейную модель для предсказания количества выездов в зависимости от удаленности велосипедов от центра города.\n",
    "- Визуализировать прогноз в сравнении с данными.\n",
    "\n",
    "## Hints: \n",
    "\n",
    "<a href=\"https://pandas.pydata.org/pandas-docs/stable/reference/api/pandas.read_csv.html\" target=\"_blank\">pd.read_csv(filename)</a>\n",
    "Возвращает фрейм данных pandas, содержащий данные и метки из файла данных\n",
    "\n",
    "<a href=\"https://pandas.pydata.org/pandas-docs/stable/reference/api/pandas.Series.describe.html?highlight=describe#pandas.Series.describe\" target=\"_blank\">pd.describe()</a> \n",
    "Генерирует описательную статистику фрейма данных.\n",
    "\n",
    "<a href=\"https://pandas.pydata.org/pandas-docs/stable/reference/api/pandas.DataFrame.dropna.html?highlight=dropna#pandas.DataFrame.dropna\" target=\"_blank\">pd.dropna()</a>\n",
    "Удаляет пропущенные значения из фрейма данных. При этом удаляются либо столбцы, либо строки в зависимости от параметра axis."
   ]
  },
  {
   "cell_type": "code",
   "execution_count": 1,
   "metadata": {},
   "outputs": [],
   "source": [
    "# Импортируем все необходимое\n",
    "import numpy as np\n",
    "import pandas as pd \n",
    "import seaborn as sns\n",
    "import matplotlib.pyplot as plt \n",
    "from math import radians, cos, sin, asin, sqrt\n",
    "from sklearn.linear_model import LinearRegression\n",
    "%matplotlib inline\n"
   ]
  },
  {
   "cell_type": "code",
   "execution_count": 2,
   "metadata": {},
   "outputs": [],
   "source": [
    "# читаем \"hubway_stations.csv\"\n",
    "stations = pd.read_csv(\"hubway_stations.csv\")\n",
    "\n",
    "# читаем \"hubway_trips.csv\"\n",
    "trips = pd.read_csv(\"tripsthrough.csv\")\n"
   ]
  },
  {
   "cell_type": "code",
   "execution_count": 3,
   "metadata": {},
   "outputs": [
    {
     "data": {
      "text/html": [
       "<div>\n",
       "<style scoped>\n",
       "    .dataframe tbody tr th:only-of-type {\n",
       "        vertical-align: middle;\n",
       "    }\n",
       "\n",
       "    .dataframe tbody tr th {\n",
       "        vertical-align: top;\n",
       "    }\n",
       "\n",
       "    .dataframe thead th {\n",
       "        text-align: right;\n",
       "    }\n",
       "</style>\n",
       "<table border=\"1\" class=\"dataframe\">\n",
       "  <thead>\n",
       "    <tr style=\"text-align: right;\">\n",
       "      <th></th>\n",
       "      <th>id</th>\n",
       "      <th>terminal</th>\n",
       "      <th>station</th>\n",
       "      <th>municipal</th>\n",
       "      <th>lat</th>\n",
       "      <th>lng</th>\n",
       "      <th>status</th>\n",
       "    </tr>\n",
       "  </thead>\n",
       "  <tbody>\n",
       "    <tr>\n",
       "      <th>0</th>\n",
       "      <td>3</td>\n",
       "      <td>B32006</td>\n",
       "      <td>Colleges of the Fenway</td>\n",
       "      <td>Boston</td>\n",
       "      <td>42.340021</td>\n",
       "      <td>-71.100812</td>\n",
       "      <td>Existing</td>\n",
       "    </tr>\n",
       "    <tr>\n",
       "      <th>1</th>\n",
       "      <td>4</td>\n",
       "      <td>C32000</td>\n",
       "      <td>Tremont St. at Berkeley St.</td>\n",
       "      <td>Boston</td>\n",
       "      <td>42.345392</td>\n",
       "      <td>-71.069616</td>\n",
       "      <td>Existing</td>\n",
       "    </tr>\n",
       "    <tr>\n",
       "      <th>2</th>\n",
       "      <td>5</td>\n",
       "      <td>B32012</td>\n",
       "      <td>Northeastern U / North Parking Lot</td>\n",
       "      <td>Boston</td>\n",
       "      <td>42.341814</td>\n",
       "      <td>-71.090179</td>\n",
       "      <td>Existing</td>\n",
       "    </tr>\n",
       "    <tr>\n",
       "      <th>3</th>\n",
       "      <td>6</td>\n",
       "      <td>D32000</td>\n",
       "      <td>Cambridge St. at Joy St.</td>\n",
       "      <td>Boston</td>\n",
       "      <td>42.361285</td>\n",
       "      <td>-71.065140</td>\n",
       "      <td>Existing</td>\n",
       "    </tr>\n",
       "    <tr>\n",
       "      <th>4</th>\n",
       "      <td>7</td>\n",
       "      <td>A32000</td>\n",
       "      <td>Fan Pier</td>\n",
       "      <td>Boston</td>\n",
       "      <td>42.353412</td>\n",
       "      <td>-71.044624</td>\n",
       "      <td>Existing</td>\n",
       "    </tr>\n",
       "  </tbody>\n",
       "</table>\n",
       "</div>"
      ],
      "text/plain": [
       "   id terminal                             station municipal        lat  \\\n",
       "0   3   B32006              Colleges of the Fenway    Boston  42.340021   \n",
       "1   4   C32000         Tremont St. at Berkeley St.    Boston  42.345392   \n",
       "2   5   B32012  Northeastern U / North Parking Lot    Boston  42.341814   \n",
       "3   6   D32000            Cambridge St. at Joy St.    Boston  42.361285   \n",
       "4   7   A32000                            Fan Pier    Boston  42.353412   \n",
       "\n",
       "         lng    status  \n",
       "0 -71.100812  Existing  \n",
       "1 -71.069616  Existing  \n",
       "2 -71.090179  Existing  \n",
       "3 -71.065140  Existing  \n",
       "4 -71.044624  Existing  "
      ]
     },
     "execution_count": 3,
     "metadata": {},
     "output_type": "execute_result"
    }
   ],
   "source": [
    "# проверяем\n",
    "stations.head()\n"
   ]
  },
  {
   "cell_type": "code",
   "execution_count": 4,
   "metadata": {},
   "outputs": [
    {
     "data": {
      "text/html": [
       "<div>\n",
       "<style scoped>\n",
       "    .dataframe tbody tr th:only-of-type {\n",
       "        vertical-align: middle;\n",
       "    }\n",
       "\n",
       "    .dataframe tbody tr th {\n",
       "        vertical-align: top;\n",
       "    }\n",
       "\n",
       "    .dataframe thead th {\n",
       "        text-align: right;\n",
       "    }\n",
       "</style>\n",
       "<table border=\"1\" class=\"dataframe\">\n",
       "  <thead>\n",
       "    <tr style=\"text-align: right;\">\n",
       "      <th></th>\n",
       "      <th>seq_id</th>\n",
       "      <th>hubway_id</th>\n",
       "      <th>status</th>\n",
       "      <th>duration</th>\n",
       "      <th>start_date</th>\n",
       "      <th>strt_statn</th>\n",
       "      <th>end_date</th>\n",
       "      <th>end_statn</th>\n",
       "      <th>bike_nr</th>\n",
       "      <th>subsc_type</th>\n",
       "      <th>zip_code</th>\n",
       "      <th>birth_date</th>\n",
       "      <th>gender</th>\n",
       "    </tr>\n",
       "  </thead>\n",
       "  <tbody>\n",
       "    <tr>\n",
       "      <th>0</th>\n",
       "      <td>1</td>\n",
       "      <td>8</td>\n",
       "      <td>Closed</td>\n",
       "      <td>9</td>\n",
       "      <td>2011-07-28 10:12:00</td>\n",
       "      <td>23.0</td>\n",
       "      <td>2011-07-28 10:12:00</td>\n",
       "      <td>23.0</td>\n",
       "      <td>B00468</td>\n",
       "      <td>Registered</td>\n",
       "      <td>'97217</td>\n",
       "      <td>1976.0</td>\n",
       "      <td>Male</td>\n",
       "    </tr>\n",
       "    <tr>\n",
       "      <th>1</th>\n",
       "      <td>2</td>\n",
       "      <td>9</td>\n",
       "      <td>Closed</td>\n",
       "      <td>220</td>\n",
       "      <td>2011-07-28 10:21:00</td>\n",
       "      <td>23.0</td>\n",
       "      <td>2011-07-28 10:25:00</td>\n",
       "      <td>23.0</td>\n",
       "      <td>B00554</td>\n",
       "      <td>Registered</td>\n",
       "      <td>'02215</td>\n",
       "      <td>1966.0</td>\n",
       "      <td>Male</td>\n",
       "    </tr>\n",
       "    <tr>\n",
       "      <th>2</th>\n",
       "      <td>3</td>\n",
       "      <td>10</td>\n",
       "      <td>Closed</td>\n",
       "      <td>56</td>\n",
       "      <td>2011-07-28 10:33:00</td>\n",
       "      <td>23.0</td>\n",
       "      <td>2011-07-28 10:34:00</td>\n",
       "      <td>23.0</td>\n",
       "      <td>B00456</td>\n",
       "      <td>Registered</td>\n",
       "      <td>'02108</td>\n",
       "      <td>1943.0</td>\n",
       "      <td>Male</td>\n",
       "    </tr>\n",
       "    <tr>\n",
       "      <th>3</th>\n",
       "      <td>4</td>\n",
       "      <td>11</td>\n",
       "      <td>Closed</td>\n",
       "      <td>64</td>\n",
       "      <td>2011-07-28 10:35:00</td>\n",
       "      <td>23.0</td>\n",
       "      <td>2011-07-28 10:36:00</td>\n",
       "      <td>23.0</td>\n",
       "      <td>B00554</td>\n",
       "      <td>Registered</td>\n",
       "      <td>'02116</td>\n",
       "      <td>1981.0</td>\n",
       "      <td>Female</td>\n",
       "    </tr>\n",
       "    <tr>\n",
       "      <th>4</th>\n",
       "      <td>5</td>\n",
       "      <td>12</td>\n",
       "      <td>Closed</td>\n",
       "      <td>12</td>\n",
       "      <td>2011-07-28 10:37:00</td>\n",
       "      <td>23.0</td>\n",
       "      <td>2011-07-28 10:37:00</td>\n",
       "      <td>23.0</td>\n",
       "      <td>B00554</td>\n",
       "      <td>Registered</td>\n",
       "      <td>'97214</td>\n",
       "      <td>1983.0</td>\n",
       "      <td>Female</td>\n",
       "    </tr>\n",
       "  </tbody>\n",
       "</table>\n",
       "</div>"
      ],
      "text/plain": [
       "   seq_id  hubway_id  status  duration           start_date  strt_statn  \\\n",
       "0       1          8  Closed         9  2011-07-28 10:12:00        23.0   \n",
       "1       2          9  Closed       220  2011-07-28 10:21:00        23.0   \n",
       "2       3         10  Closed        56  2011-07-28 10:33:00        23.0   \n",
       "3       4         11  Closed        64  2011-07-28 10:35:00        23.0   \n",
       "4       5         12  Closed        12  2011-07-28 10:37:00        23.0   \n",
       "\n",
       "              end_date  end_statn bike_nr  subsc_type zip_code  birth_date  \\\n",
       "0  2011-07-28 10:12:00       23.0  B00468  Registered   '97217      1976.0   \n",
       "1  2011-07-28 10:25:00       23.0  B00554  Registered   '02215      1966.0   \n",
       "2  2011-07-28 10:34:00       23.0  B00456  Registered   '02108      1943.0   \n",
       "3  2011-07-28 10:36:00       23.0  B00554  Registered   '02116      1981.0   \n",
       "4  2011-07-28 10:37:00       23.0  B00554  Registered   '97214      1983.0   \n",
       "\n",
       "   gender  \n",
       "0    Male  \n",
       "1    Male  \n",
       "2    Male  \n",
       "3  Female  \n",
       "4  Female  "
      ]
     },
     "execution_count": 4,
     "metadata": {},
     "output_type": "execute_result"
    }
   ],
   "source": [
    "# проверяем\n",
    "trips.head()\n"
   ]
  },
  {
   "cell_type": "markdown",
   "metadata": {},
   "source": [
    "### **Понимание данных**\n",
    "\n",
    "Важно полностью понять всю информацию, представленную в данных.Первый шаг для этого - поближе познакомиться со всеми столбцами и понять их типы данных."
   ]
  },
  {
   "cell_type": "code",
   "execution_count": 5,
   "metadata": {},
   "outputs": [
    {
     "data": {
      "text/plain": [
       "id             int64\n",
       "terminal      object\n",
       "station       object\n",
       "municipal     object\n",
       "lat          float64\n",
       "lng          float64\n",
       "status        object\n",
       "dtype: object"
      ]
     },
     "execution_count": 5,
     "metadata": {},
     "output_type": "execute_result"
    }
   ],
   "source": [
    "# просмоттрим типы данных фрейма данных станции\n",
    "stations.dtypes\n"
   ]
  },
  {
   "cell_type": "code",
   "execution_count": 6,
   "metadata": {},
   "outputs": [
    {
     "data": {
      "text/plain": [
       "seq_id          int64\n",
       "hubway_id       int64\n",
       "status         object\n",
       "duration        int64\n",
       "start_date     object\n",
       "strt_statn    float64\n",
       "end_date       object\n",
       "end_statn     float64\n",
       "bike_nr        object\n",
       "subsc_type     object\n",
       "zip_code       object\n",
       "birth_date    float64\n",
       "gender         object\n",
       "dtype: object"
      ]
     },
     "execution_count": 6,
     "metadata": {},
     "output_type": "execute_result"
    }
   ],
   "source": [
    "# просмотрим типы данных во фрейме поездки\n",
    "trips.dtypes\n"
   ]
  },
  {
   "cell_type": "markdown",
   "metadata": {},
   "source": [
    "### ⏸ Основываясь на данных, видите ли вы какие -либо возможные проблемы?"
   ]
  },
  {
   "cell_type": "code",
   "execution_count": 7,
   "metadata": {},
   "outputs": [],
   "source": [
    "### edtest (test_chow0) ###\n",
    "# Отправьте вопросы в качестве строки ниже.Разделите каждый вопрос эротема (знак вопроса)\n",
    "answer0 = 'Yes'\n",
    "# birth_date    float64\n",
    "# zip code '97217 - апострофы?\n",
    "# end_statn - float \n",
    "# Проблемы которые необходимо устранить"
   ]
  },
  {
   "cell_type": "markdown",
   "metadata": {},
   "source": [
    "## Получим описательную статистику фреймов"
   ]
  },
  {
   "cell_type": "code",
   "execution_count": 8,
   "metadata": {},
   "outputs": [
    {
     "data": {
      "text/html": [
       "<div>\n",
       "<style scoped>\n",
       "    .dataframe tbody tr th:only-of-type {\n",
       "        vertical-align: middle;\n",
       "    }\n",
       "\n",
       "    .dataframe tbody tr th {\n",
       "        vertical-align: top;\n",
       "    }\n",
       "\n",
       "    .dataframe thead th {\n",
       "        text-align: right;\n",
       "    }\n",
       "</style>\n",
       "<table border=\"1\" class=\"dataframe\">\n",
       "  <thead>\n",
       "    <tr style=\"text-align: right;\">\n",
       "      <th></th>\n",
       "      <th>id</th>\n",
       "      <th>lat</th>\n",
       "      <th>lng</th>\n",
       "    </tr>\n",
       "  </thead>\n",
       "  <tbody>\n",
       "    <tr>\n",
       "      <th>count</th>\n",
       "      <td>142.000000</td>\n",
       "      <td>142.000000</td>\n",
       "      <td>142.000000</td>\n",
       "    </tr>\n",
       "    <tr>\n",
       "      <th>mean</th>\n",
       "      <td>74.323944</td>\n",
       "      <td>42.354820</td>\n",
       "      <td>-71.089087</td>\n",
       "    </tr>\n",
       "    <tr>\n",
       "      <th>std</th>\n",
       "      <td>41.389098</td>\n",
       "      <td>0.020089</td>\n",
       "      <td>0.027111</td>\n",
       "    </tr>\n",
       "    <tr>\n",
       "      <th>min</th>\n",
       "      <td>3.000000</td>\n",
       "      <td>42.309467</td>\n",
       "      <td>-71.146452</td>\n",
       "    </tr>\n",
       "    <tr>\n",
       "      <th>25%</th>\n",
       "      <td>39.250000</td>\n",
       "      <td>42.341652</td>\n",
       "      <td>-71.113183</td>\n",
       "    </tr>\n",
       "    <tr>\n",
       "      <th>50%</th>\n",
       "      <td>74.500000</td>\n",
       "      <td>42.353373</td>\n",
       "      <td>-71.089191</td>\n",
       "    </tr>\n",
       "    <tr>\n",
       "      <th>75%</th>\n",
       "      <td>109.750000</td>\n",
       "      <td>42.366265</td>\n",
       "      <td>-71.065210</td>\n",
       "    </tr>\n",
       "    <tr>\n",
       "      <th>max</th>\n",
       "      <td>145.000000</td>\n",
       "      <td>42.404490</td>\n",
       "      <td>-71.035705</td>\n",
       "    </tr>\n",
       "  </tbody>\n",
       "</table>\n",
       "</div>"
      ],
      "text/plain": [
       "               id         lat         lng\n",
       "count  142.000000  142.000000  142.000000\n",
       "mean    74.323944   42.354820  -71.089087\n",
       "std     41.389098    0.020089    0.027111\n",
       "min      3.000000   42.309467  -71.146452\n",
       "25%     39.250000   42.341652  -71.113183\n",
       "50%     74.500000   42.353373  -71.089191\n",
       "75%    109.750000   42.366265  -71.065210\n",
       "max    145.000000   42.404490  -71.035705"
      ]
     },
     "execution_count": 8,
     "metadata": {},
     "output_type": "execute_result"
    }
   ],
   "source": [
    "stations.describe()\n"
   ]
  },
  {
   "cell_type": "code",
   "execution_count": 9,
   "metadata": {},
   "outputs": [
    {
     "data": {
      "text/html": [
       "<div>\n",
       "<style scoped>\n",
       "    .dataframe tbody tr th:only-of-type {\n",
       "        vertical-align: middle;\n",
       "    }\n",
       "\n",
       "    .dataframe tbody tr th {\n",
       "        vertical-align: top;\n",
       "    }\n",
       "\n",
       "    .dataframe thead th {\n",
       "        text-align: right;\n",
       "    }\n",
       "</style>\n",
       "<table border=\"1\" class=\"dataframe\">\n",
       "  <thead>\n",
       "    <tr style=\"text-align: right;\">\n",
       "      <th></th>\n",
       "      <th>seq_id</th>\n",
       "      <th>hubway_id</th>\n",
       "      <th>duration</th>\n",
       "      <th>strt_statn</th>\n",
       "      <th>end_statn</th>\n",
       "      <th>birth_date</th>\n",
       "    </tr>\n",
       "  </thead>\n",
       "  <tbody>\n",
       "    <tr>\n",
       "      <th>count</th>\n",
       "      <td>674350.000000</td>\n",
       "      <td>674350.000000</td>\n",
       "      <td>6.743500e+05</td>\n",
       "      <td>674336.000000</td>\n",
       "      <td>674305.000000</td>\n",
       "      <td>350644.000000</td>\n",
       "    </tr>\n",
       "    <tr>\n",
       "      <th>mean</th>\n",
       "      <td>337175.500000</td>\n",
       "      <td>381806.766276</td>\n",
       "      <td>1.560357e+03</td>\n",
       "      <td>41.175871</td>\n",
       "      <td>41.054369</td>\n",
       "      <td>1976.295322</td>\n",
       "    </tr>\n",
       "    <tr>\n",
       "      <th>std</th>\n",
       "      <td>194668.221352</td>\n",
       "      <td>219696.069920</td>\n",
       "      <td>4.028090e+04</td>\n",
       "      <td>23.326194</td>\n",
       "      <td>23.198199</td>\n",
       "      <td>10.999742</td>\n",
       "    </tr>\n",
       "    <tr>\n",
       "      <th>min</th>\n",
       "      <td>1.000000</td>\n",
       "      <td>8.000000</td>\n",
       "      <td>-6.660000e+03</td>\n",
       "      <td>3.000000</td>\n",
       "      <td>3.000000</td>\n",
       "      <td>1932.000000</td>\n",
       "    </tr>\n",
       "    <tr>\n",
       "      <th>25%</th>\n",
       "      <td>168588.250000</td>\n",
       "      <td>191560.500000</td>\n",
       "      <td>4.050000e+02</td>\n",
       "      <td>22.000000</td>\n",
       "      <td>22.000000</td>\n",
       "      <td>1969.000000</td>\n",
       "    </tr>\n",
       "    <tr>\n",
       "      <th>50%</th>\n",
       "      <td>337175.500000</td>\n",
       "      <td>382518.500000</td>\n",
       "      <td>6.630000e+02</td>\n",
       "      <td>40.000000</td>\n",
       "      <td>40.000000</td>\n",
       "      <td>1979.000000</td>\n",
       "    </tr>\n",
       "    <tr>\n",
       "      <th>75%</th>\n",
       "      <td>505762.750000</td>\n",
       "      <td>571534.750000</td>\n",
       "      <td>1.161000e+03</td>\n",
       "      <td>54.000000</td>\n",
       "      <td>54.000000</td>\n",
       "      <td>1985.000000</td>\n",
       "    </tr>\n",
       "    <tr>\n",
       "      <th>max</th>\n",
       "      <td>674350.000000</td>\n",
       "      <td>761917.000000</td>\n",
       "      <td>1.199446e+07</td>\n",
       "      <td>141.000000</td>\n",
       "      <td>141.000000</td>\n",
       "      <td>1995.000000</td>\n",
       "    </tr>\n",
       "  </tbody>\n",
       "</table>\n",
       "</div>"
      ],
      "text/plain": [
       "              seq_id      hubway_id      duration     strt_statn  \\\n",
       "count  674350.000000  674350.000000  6.743500e+05  674336.000000   \n",
       "mean   337175.500000  381806.766276  1.560357e+03      41.175871   \n",
       "std    194668.221352  219696.069920  4.028090e+04      23.326194   \n",
       "min         1.000000       8.000000 -6.660000e+03       3.000000   \n",
       "25%    168588.250000  191560.500000  4.050000e+02      22.000000   \n",
       "50%    337175.500000  382518.500000  6.630000e+02      40.000000   \n",
       "75%    505762.750000  571534.750000  1.161000e+03      54.000000   \n",
       "max    674350.000000  761917.000000  1.199446e+07     141.000000   \n",
       "\n",
       "           end_statn     birth_date  \n",
       "count  674305.000000  350644.000000  \n",
       "mean       41.054369    1976.295322  \n",
       "std        23.198199      10.999742  \n",
       "min         3.000000    1932.000000  \n",
       "25%        22.000000    1969.000000  \n",
       "50%        40.000000    1979.000000  \n",
       "75%        54.000000    1985.000000  \n",
       "max       141.000000    1995.000000  "
      ]
     },
     "execution_count": 9,
     "metadata": {},
     "output_type": "execute_result"
    }
   ],
   "source": [
    "trips.describe()\n"
   ]
  },
  {
   "cell_type": "markdown",
   "metadata": {},
   "source": [
    "### ⏸ Основываясь на вашем понимании данных, на какие вопросы вы хотели бы ответить?"
   ]
  },
  {
   "cell_type": "code",
   "execution_count": 10,
   "metadata": {},
   "outputs": [],
   "source": [
    "### edtest (test_chow1) ###\n",
    "# Отправьте вопросы в качестве строки ниже.Разделите каждый вопрос эротема (знак вопроса)\n",
    "answer1 = 'Наиболее распространенная станция, которая на которой самая большая нагрузка, то есть больше всего поездок?' \n",
    "answer2 = 'кто чаще ездит мужчина или женщина?'\n",
    "answer3 = 'На этой станциии люди какого возраста?'\n"
   ]
  },
  {
   "cell_type": "markdown",
   "metadata": {},
   "source": [
    "### **Предварительная обработка данных**\n",
    "\n",
    "Давайте очистим данные, прежде чем обрабатывать их дальше.Есть много техник предварительной обработки"
   ]
  },
  {
   "cell_type": "code",
   "execution_count": 11,
   "metadata": {},
   "outputs": [],
   "source": [
    "# Удалить все ряды станций DataFrame с нулевыми значениями\n",
    "# Axis = 0 указывает, что строки с нулевыми значениями должны быть удалены\n",
    "stations.dropna(axis=0, inplace=True)\n"
   ]
  },
  {
   "cell_type": "code",
   "execution_count": 12,
   "metadata": {},
   "outputs": [],
   "source": [
    "# Удалить все строки DataFrame Data Frame с нулевыми значениями\n",
    "trips.dropna(axis=0, inplace=True)\n"
   ]
  },
  {
   "cell_type": "code",
   "execution_count": 13,
   "metadata": {},
   "outputs": [],
   "source": [
    "# Создайте новую колонку, которая дает возраст каждого пассажира\n",
    "# формула по которой будет расчитываться каждая ячейка столбца age\n",
    "age_col = 2021.0 - trips['birth_date'].values\n",
    "\n",
    "# Добавить столбец возраста в Trips DataFrame и присвойте значение формулы для расчета (можно было сделать в одну строку)\n",
    "trips['age'] = age_col\n",
    "\n",
    "# Удалить столбец 'Birth_date'\n",
    "trips.drop('birth_date', axis=1, inplace=True)\n"
   ]
  },
  {
   "cell_type": "markdown",
   "metadata": {},
   "source": [
    "### ** Исследовательский анализ данных (EDA) **\n",
    "\n",
    "Как вы бы заметили, информации, извлеченной выше, недостаточно, чтобы ответить на большинство вопросов и определенно недостаточно, чтобы задать соответствующие вопросы.\n",
    "\n",
    "Следовательно, нам нужно будет выполнить дополнительный анализ данных.\n",
    "\n"
   ]
  },
  {
   "cell_type": "code",
   "execution_count": 14,
   "metadata": {},
   "outputs": [
    {
     "data": {
      "image/png": "[encoded data removed]",
      "text/plain": [
       "<Figure size 750x750 with 12 Axes>"
      ]
     },
     "metadata": {},
     "output_type": "display_data"
    }
   ],
   "source": [
    "# Узнайте, есть ли какая -либо связь между предикторами данных станций\n",
    "sns.pairplot(stations);\n"
   ]
  },
  {
   "cell_type": "markdown",
   "metadata": {},
   "source": [
    "### ⏸ На основании приведенного выше графика, вы заметите какие -либо узнаваемые отношения между любыми столбцами?\n",
    "\n",
    "#### A. Широта и долгота прямо пропорциональны друг другу.\n",
    "#### B. Широта и долгота обратно пропорциональны друг другу.\n",
    "#### C. Это случайно.Кажется, нет никакой связи между широтой и долготой.\n",
    "\n"
   ]
  },
  {
   "cell_type": "code",
   "execution_count": 15,
   "metadata": {},
   "outputs": [],
   "source": [
    "### edtest (test_chow2) ###\n",
    "# Отправьте выбор ответа в качестве строки ниже (например, если вы выберете опцию A, поместите «a»)\n",
    "answer2 = 'C'\n"
   ]
  },
  {
   "cell_type": "markdown",
   "metadata": {},
   "source": [
    "## Построение соотношения полов вклосипедистов в виде гистограммы"
   ]
  },
  {
   "cell_type": "markdown",
   "metadata": {},
   "source": [
    "В этой строке мы используем функцию np.unique из библиотеки NumPy для получения уникальных значений столбца 'gender' из объекта DataFrame trips, а также их количества. return_counts=True указывает на то, что мы хотим получить именно количество уникальных значений."
   ]
  },
  {
   "cell_type": "code",
   "execution_count": 16,
   "metadata": {},
   "outputs": [
    {
     "data": {
      "image/png": "[encoded data removed]",
      "text/plain": [
       "<Figure size 800x400 with 1 Axes>"
      ]
     },
     "metadata": {},
     "output_type": "display_data"
    }
   ],
   "source": [
    "# Получите уникальное количество велосипедистов для мужчин и женщин\n",
    "gender_counts = np.unique(trips['gender'].values, return_counts=True)\n",
    "\n",
    "\n",
    "# Здесь мы создаем объект fig, ax для построения графика, используя функцию subplots из библиотеки Matplotlib.\n",
    "# fig представляет собой общий контейнер для графиков, а ax - объект, на котором мы будем строить график.\n",
    "fig, ax = plt.subplots(1,1, figsize=(8, 4))\n",
    "# Затем мы используем метод bar для построения гистограммы. \n",
    "# range(2) создает последовательность из двух элементов (0 и 1), \n",
    "# которая будет использоваться для задания позиций столбцов на гистограмме. width=0.5 указывает на ширину столбцов, \n",
    "# height=gender_counts[1] определяет высоту столбцов на основе количества, \n",
    "# а color задает цвета столбцов (розовый и зеленый). alpha=0.5 устанавливает прозрачность гистограммы.\n",
    "ax.bar(range(2), width=0.4, height = gender_counts[1], color=['pink', 'green'], alpha = 0.5 )\n",
    "ax.set_xticks([0, 1])\n",
    "ax.set_xticklabels(gender_counts[0])\n",
    "ax.set_title('Users by Gender');\n",
    "#В этих строках мы настраиваем метки оси x и заголовок графика. set_xticks задает позиции меток оси x ([0, 1]), \n",
    "# и set_xticklabels устанавливает сами метки на основе уникальных значений полов из gender_counts[0]. \n",
    "# set_title задает заголовок для графика.\n"
   ]
  },
  {
   "cell_type": "markdown",
   "metadata": {},
   "source": [
    "### ⏸ на основе сюжета выше, кто больше использует велосипеды, мужчины или женщины?\n",
    "#### Женщина\n",
    "#### B. Мужчины\n",
    "#### C. не могу сказать"
   ]
  },
  {
   "cell_type": "code",
   "execution_count": 17,
   "metadata": {},
   "outputs": [],
   "source": [
    "### edTest(test_chow3) ###\n",
    "# Submit an answer choice as a string below (eg. if you choose option A, put 'A')\n",
    "answer3 = 'B'\n"
   ]
  },
  {
   "cell_type": "code",
   "execution_count": 18,
   "metadata": {},
   "outputs": [
    {
     "data": {
      "image/png": "[encoded data removed]",
      "text/plain": [
       "<Figure size 1000x600 with 1 Axes>"
      ]
     },
     "metadata": {},
     "output_type": "display_data"
    }
   ],
   "source": [
    "#Построение гистограммы использования велосипедов в зависимости от возраста велосипедистов\n",
    "fig, ax = plt.subplots(1, 1, figsize=(10, 6))\n",
    "# Создание объекта графика и осей (Figure и Axes) с размерами (10, 6) дюймов.\n",
    "\n",
    "age_counts = np.unique(trips['age'], return_counts=True)\n",
    "# Получение уникальных значений возраста из столбца 'age' и их количества.\n",
    "\n",
    "ax.bar(age_counts[0], age_counts[1], align='center', width=0.4, alpha=0.6)\n",
    "# Создание столбчатой диаграммы, где ось x - значения возраста, ось y - количество проверок.\n",
    "# Прямоугольники на графике имеют ширину 0.4, выравниваются по центру и имеют прозрачность 0.6.\n",
    "\n",
    "ax.axvline(x=np.mean(age_col), color='red', linestyle='-', label='average age')\n",
    "# Добавление вертикальной линии на график, обозначающей средний возраст, с красным цветом и меткой 'average age'.\n",
    "\n",
    "ax.axvline(x=np.percentile(age_col, 25), color='green', linestyle='--', label='lower quartile')\n",
    "# Добавление вертикальной пунктирной линии на график, обозначающей нижний квартиль возраста, с красным цветом и меткой 'lower quartile'.\n",
    "\n",
    "ax.axvline(x=np.percentile(age_col, 75), color='red', linestyle='--', label='upper quartile')\n",
    "# Добавление вертикальной пунктирной линии на график, обозначающей верхний квартиль возраста, с красным цветом и меткой 'upper quartile'.\n",
    "\n",
    "ax.set_xlim([1, 90])\n",
    "# Установка пределов (минимального и максимального значений) оси x в диапазоне от 1 до 90.\n",
    "\n",
    "ax.set_xlabel('Age')\n",
    "# Установка метки для оси x - 'Age'.\n",
    "\n",
    "ax.set_ylabel('Number of Checkouts')\n",
    "# Установка метки для оси y - 'Number of Checkouts'.\n",
    "\n",
    "ax.legend()\n",
    "# Добавление легенды на график - обозначение для каждой линии.\n",
    "\n",
    "ax.set_title('Users by Age')\n",
    "# Установка заголовка для графика - 'Users by Age'.\n",
    "\n",
    "plt.tight_layout()\n",
    "# Улучшение отображения графика для избежания перекрытия меток и элементов графика.\n",
    "\n"
   ]
  },
  {
   "cell_type": "markdown",
   "metadata": {},
   "source": [
    "### ⏸ на основе сюжета выше, кто использует велосипеды больше, люди старшего возраста или молодые люди?\n",
    "#### A. Те которые старше\n",
    "#### B. Младшие"
   ]
  },
  {
   "cell_type": "code",
   "execution_count": 19,
   "metadata": {},
   "outputs": [],
   "source": [
    "### edTest(test_chow4) ###\n",
    "# Отправьте выбор ответа в качестве строки ниже (например, если вы выберете опцию A, поместите «A»)\n",
    "answer4 = 'B'\n"
   ]
  },
  {
   "cell_type": "code",
   "execution_count": 20,
   "metadata": {},
   "outputs": [
    {
     "data": {
      "image/png": "[encoded data removed]",
      "text/plain": [
       "<Figure size 1000x500 with 1 Axes>"
      ]
     },
     "metadata": {},
     "output_type": "display_data"
    }
   ],
   "source": [
    "# Получите часовые проверки велосипедов\n",
    "check_out_hours = trips['start_date'].apply(lambda s: int(s[-8:-6]))\n",
    "\n",
    "# Построение велосипедных оформлений по часам\n",
    "fig, ax = plt.subplots(1, 1, figsize=(10, 5))\n",
    "check_out_counts = np.unique(check_out_hours, return_counts=True)\n",
    "ax.bar(check_out_counts[0], check_out_counts[1], align='center', width=0.4, alpha=0.6)\n",
    "ax.set_xlim([-1, 24])\n",
    "ax.set_xticks(range(24))\n",
    "ax.set_xlabel('Hour of Day')\n",
    "ax.set_ylabel('Number of Checkouts')\n",
    "ax.set_title('Time of Day vs Checkouts')\n",
    "plt.show()\n"
   ]
  },
  {
   "cell_type": "markdown",
   "metadata": {},
   "source": [
    "1. fig, ax = plt.subplots(1, 1, figsize=(10, 5)): Эта строка кода создает объект фигуры и объект оси. fig содержит объект фигуры, а ax представляет объект оси. Функция plt.subplots(1, 1) создает одну подплощадку, а figsize=(10, 5) задает размер фигуры 10 единиц в ширину и 5 единиц в высоту.\n",
    "\n",
    "2. check_out_counts = np.unique(check_out_hours, return_counts=True): Здесь np.unique(check_out_hours, return_counts=True) вычисляет уникальные элементы в массиве check_out_hours и возвращает как уникальные значения, так и соответствующие им подсчеты. Результат сохраняется в переменной check_out_counts.\n",
    "\n",
    "3. ax.bar(check_out_counts[0], check_out_counts[1], align='center', width=0.4, alpha=0.6): Эта строка кода создает гистограмму с помощью функции bar объекта ax. Она принимает четыре основных аргумента:\n",
    "   - check_out_counts[0] представляет собой значения x для баров, которые соответствуют уникальным часам суток.\n",
    "   - check_out_counts[1] представляет собой высоту столбиков, что соответствует количеству выходов из магазина.\n",
    "   - align='center' указывает, что столбики должны быть центрированы по соответствующим значениям x.\n",
    "   - width=0.4 устанавливает ширину каждой полосы в 0.4 единицы.\n",
    "   - alpha=0.6 устанавливает прозрачность полос на 0.6 (60% непрозрачности), что позволяет частично видеть подстилающую сетку.\n",
    "\n",
    "4. ax.set_xlim([-1, 24]): Этот код устанавливает границы оси x графика в диапазоне от -1 до 24. Это гарантирует, что на оси x будут видны все часы суток.\n",
    "\n",
    "5. ax.set_xticks(range(24)): Функция set_xticks устанавливает метки оси x в позиции, обозначающие каждый час суток, от 0 до 23. Функция range(24) формирует список чисел от 0 до 23.\n",
    "\n",
    "6. ax.set_xlabel('Час дня'): Этот код устанавливает метку оси x в виде 'Hour of Day'.\n",
    "\n",
    "7. ax.set_ylabel('Number of Checkouts'): Аналогичным образом в этой строке устанавливается метка оси y как 'Number of Checkouts'.\n",
    "\n",
    "8. ax.set_title('Время дня против количества касс'): Функция set_title устанавливает заголовок графика как 'Time of Day vs Checkouts'.\n",
    "\n",
    "9. plt.show(): Наконец, эта строка выводит график на экран."
   ]
  },
  {
   "cell_type": "markdown",
   "metadata": {},
   "source": [
    "### ⏸ на основе сюжета выше, когда самый большой час пик?"
   ]
  },
  {
   "cell_type": "code",
   "execution_count": 21,
   "metadata": {},
   "outputs": [],
   "source": [
    "### edtest (test_chow5) ###\n",
    "# Отправить целочисленное значение ниже в кавычках\n",
    "answer5 = '17'\n"
   ]
  },
  {
   "cell_type": "markdown",
   "metadata": {},
   "source": [
    "#### БОЛЬШЕ ВОПРОСОВ?\n",
    "\n",
    "Здесь не было много вопросов.\n",
    "1. По каким причинам используются велосипеды? Отдых, трафик или польза для здоровья?\n",
    "2. Использование больше в будние дни или выходные?\n",
    "3. Люди используют велосипеды больше в Бостоне или Кембридже?\n"
   ]
  },
  {
   "cell_type": "code",
   "execution_count": 22,
   "metadata": {},
   "outputs": [
    {
     "data": {
      "text/html": [
       "<div>\n",
       "<style scoped>\n",
       "    .dataframe tbody tr th:only-of-type {\n",
       "        vertical-align: middle;\n",
       "    }\n",
       "\n",
       "    .dataframe tbody tr th {\n",
       "        vertical-align: top;\n",
       "    }\n",
       "\n",
       "    .dataframe thead th {\n",
       "        text-align: right;\n",
       "    }\n",
       "</style>\n",
       "<table border=\"1\" class=\"dataframe\">\n",
       "  <thead>\n",
       "    <tr style=\"text-align: right;\">\n",
       "      <th></th>\n",
       "      <th>id</th>\n",
       "      <th>terminal</th>\n",
       "      <th>station</th>\n",
       "      <th>municipal</th>\n",
       "      <th>lat</th>\n",
       "      <th>lng</th>\n",
       "      <th>status</th>\n",
       "    </tr>\n",
       "  </thead>\n",
       "  <tbody>\n",
       "    <tr>\n",
       "      <th>0</th>\n",
       "      <td>3</td>\n",
       "      <td>B32006</td>\n",
       "      <td>Colleges of the Fenway</td>\n",
       "      <td>Boston</td>\n",
       "      <td>42.340021</td>\n",
       "      <td>-71.100812</td>\n",
       "      <td>Existing</td>\n",
       "    </tr>\n",
       "    <tr>\n",
       "      <th>1</th>\n",
       "      <td>4</td>\n",
       "      <td>C32000</td>\n",
       "      <td>Tremont St. at Berkeley St.</td>\n",
       "      <td>Boston</td>\n",
       "      <td>42.345392</td>\n",
       "      <td>-71.069616</td>\n",
       "      <td>Existing</td>\n",
       "    </tr>\n",
       "  </tbody>\n",
       "</table>\n",
       "</div>"
      ],
      "text/plain": [
       "   id terminal                      station municipal        lat        lng  \\\n",
       "0   3   B32006       Colleges of the Fenway    Boston  42.340021 -71.100812   \n",
       "1   4   C32000  Tremont St. at Berkeley St.    Boston  42.345392 -71.069616   \n",
       "\n",
       "     status  \n",
       "0  Existing  \n",
       "1  Existing  "
      ]
     },
     "execution_count": 22,
     "metadata": {},
     "output_type": "execute_result"
    }
   ],
   "source": [
    "stations.head(2)"
   ]
  },
  {
   "cell_type": "code",
   "execution_count": 23,
   "metadata": {},
   "outputs": [
    {
     "data": {
      "text/html": [
       "<div>\n",
       "<style scoped>\n",
       "    .dataframe tbody tr th:only-of-type {\n",
       "        vertical-align: middle;\n",
       "    }\n",
       "\n",
       "    .dataframe tbody tr th {\n",
       "        vertical-align: top;\n",
       "    }\n",
       "\n",
       "    .dataframe thead th {\n",
       "        text-align: right;\n",
       "    }\n",
       "</style>\n",
       "<table border=\"1\" class=\"dataframe\">\n",
       "  <thead>\n",
       "    <tr style=\"text-align: right;\">\n",
       "      <th></th>\n",
       "      <th>seq_id</th>\n",
       "      <th>hubway_id</th>\n",
       "      <th>status</th>\n",
       "      <th>duration</th>\n",
       "      <th>start_date</th>\n",
       "      <th>strt_statn</th>\n",
       "      <th>end_date</th>\n",
       "      <th>end_statn</th>\n",
       "      <th>bike_nr</th>\n",
       "      <th>subsc_type</th>\n",
       "      <th>zip_code</th>\n",
       "      <th>gender</th>\n",
       "      <th>age</th>\n",
       "    </tr>\n",
       "  </thead>\n",
       "  <tbody>\n",
       "    <tr>\n",
       "      <th>0</th>\n",
       "      <td>1</td>\n",
       "      <td>8</td>\n",
       "      <td>Closed</td>\n",
       "      <td>9</td>\n",
       "      <td>2011-07-28 10:12:00</td>\n",
       "      <td>23.0</td>\n",
       "      <td>2011-07-28 10:12:00</td>\n",
       "      <td>23.0</td>\n",
       "      <td>B00468</td>\n",
       "      <td>Registered</td>\n",
       "      <td>'97217</td>\n",
       "      <td>Male</td>\n",
       "      <td>45.0</td>\n",
       "    </tr>\n",
       "    <tr>\n",
       "      <th>1</th>\n",
       "      <td>2</td>\n",
       "      <td>9</td>\n",
       "      <td>Closed</td>\n",
       "      <td>220</td>\n",
       "      <td>2011-07-28 10:21:00</td>\n",
       "      <td>23.0</td>\n",
       "      <td>2011-07-28 10:25:00</td>\n",
       "      <td>23.0</td>\n",
       "      <td>B00554</td>\n",
       "      <td>Registered</td>\n",
       "      <td>'02215</td>\n",
       "      <td>Male</td>\n",
       "      <td>55.0</td>\n",
       "    </tr>\n",
       "  </tbody>\n",
       "</table>\n",
       "</div>"
      ],
      "text/plain": [
       "   seq_id  hubway_id  status  duration           start_date  strt_statn  \\\n",
       "0       1          8  Closed         9  2011-07-28 10:12:00        23.0   \n",
       "1       2          9  Closed       220  2011-07-28 10:21:00        23.0   \n",
       "\n",
       "              end_date  end_statn bike_nr  subsc_type zip_code gender   age  \n",
       "0  2011-07-28 10:12:00       23.0  B00468  Registered   '97217   Male  45.0  \n",
       "1  2011-07-28 10:25:00       23.0  B00554  Registered   '02215   Male  55.0  "
      ]
     },
     "execution_count": 23,
     "metadata": {},
     "output_type": "execute_result"
    }
   ],
   "source": [
    "trips.head(2)"
   ]
  },
  {
   "cell_type": "code",
   "execution_count": 24,
   "metadata": {},
   "outputs": [
    {
     "data": {
      "text/plain": [
       "municipal \n",
       "Boston        97\n",
       "Cambridge     28\n",
       "Somerville    12\n",
       "Brookline      5\n",
       "dtype: int64"
      ]
     },
     "execution_count": 24,
     "metadata": {},
     "output_type": "execute_result"
    }
   ],
   "source": [
    "stations[['municipal']].value_counts()"
   ]
  },
  {
   "cell_type": "code",
   "execution_count": 25,
   "metadata": {},
   "outputs": [
    {
     "data": {
      "image/png": "[encoded data removed]",
      "text/plain": [
       "<Figure size 640x480 with 1 Axes>"
      ]
     },
     "metadata": {},
     "output_type": "display_data"
    }
   ],
   "source": [
    "\n",
    "municipal_counts = stations['municipal'].value_counts()\n",
    "sns.barplot(x=municipal_counts.index, y=municipal_counts.values)\n",
    "# добавляем подписи осей\n",
    "\n",
    "plt.xlabel('Район')\n",
    "plt.ylabel('Количество Велосипедистов')\n",
    "plt.show()"
   ]
  },
  {
   "cell_type": "markdown",
   "metadata": {},
   "source": [
    "### **Моделирование данных**\n",
    "Есть некоторые вопросы, на которые нельзя ответить с помощью простых методов графика.Это требует объединения разных переменных.\n",
    "\n",
    "1. Как демография пользователя влияет на продолжительность, которую используются велосипеды?Или где их проверяют?\n",
    "2. Как погода или условия движения влияют на использование велосипедов?\n",
    "3. Как характеристики местоположения станции влияют на количество проверяемых велосипедов?\n",
    "\n",
    "\n",
    "\n",
    "Давайте попробуем ответить на вопрос: *Как расстояние от центра города влияет на использование велосипеда? * "
   ]
  },
  {
   "cell_type": "code",
   "execution_count": 26,
   "metadata": {},
   "outputs": [
    {
     "data": {
      "text/html": [
       "<div>\n",
       "<style scoped>\n",
       "    .dataframe tbody tr th:only-of-type {\n",
       "        vertical-align: middle;\n",
       "    }\n",
       "\n",
       "    .dataframe tbody tr th {\n",
       "        vertical-align: top;\n",
       "    }\n",
       "\n",
       "    .dataframe thead th {\n",
       "        text-align: right;\n",
       "    }\n",
       "</style>\n",
       "<table border=\"1\" class=\"dataframe\">\n",
       "  <thead>\n",
       "    <tr style=\"text-align: right;\">\n",
       "      <th></th>\n",
       "      <th>id</th>\n",
       "      <th>terminal</th>\n",
       "      <th>station</th>\n",
       "      <th>municipal</th>\n",
       "      <th>lat</th>\n",
       "      <th>lng</th>\n",
       "      <th>status</th>\n",
       "    </tr>\n",
       "  </thead>\n",
       "  <tbody>\n",
       "    <tr>\n",
       "      <th>0</th>\n",
       "      <td>3</td>\n",
       "      <td>B32006</td>\n",
       "      <td>Colleges of the Fenway</td>\n",
       "      <td>Boston</td>\n",
       "      <td>42.340021</td>\n",
       "      <td>-71.100812</td>\n",
       "      <td>Existing</td>\n",
       "    </tr>\n",
       "    <tr>\n",
       "      <th>1</th>\n",
       "      <td>4</td>\n",
       "      <td>C32000</td>\n",
       "      <td>Tremont St. at Berkeley St.</td>\n",
       "      <td>Boston</td>\n",
       "      <td>42.345392</td>\n",
       "      <td>-71.069616</td>\n",
       "      <td>Existing</td>\n",
       "    </tr>\n",
       "  </tbody>\n",
       "</table>\n",
       "</div>"
      ],
      "text/plain": [
       "   id terminal                      station municipal        lat        lng  \\\n",
       "0   3   B32006       Colleges of the Fenway    Boston  42.340021 -71.100812   \n",
       "1   4   C32000  Tremont St. at Berkeley St.    Boston  42.345392 -71.069616   \n",
       "\n",
       "     status  \n",
       "0  Existing  \n",
       "1  Existing  "
      ]
     },
     "execution_count": 26,
     "metadata": {},
     "output_type": "execute_result"
    }
   ],
   "source": [
    "stations.head(2)"
   ]
  },
  {
   "cell_type": "code",
   "execution_count": 29,
   "metadata": {},
   "outputs": [
    {
     "data": {
      "text/html": [
       "<div>\n",
       "<style scoped>\n",
       "    .dataframe tbody tr th:only-of-type {\n",
       "        vertical-align: middle;\n",
       "    }\n",
       "\n",
       "    .dataframe tbody tr th {\n",
       "        vertical-align: top;\n",
       "    }\n",
       "\n",
       "    .dataframe thead th {\n",
       "        text-align: right;\n",
       "    }\n",
       "</style>\n",
       "<table border=\"1\" class=\"dataframe\">\n",
       "  <thead>\n",
       "    <tr style=\"text-align: right;\">\n",
       "      <th></th>\n",
       "      <th>seq_id</th>\n",
       "      <th>hubway_id</th>\n",
       "      <th>status</th>\n",
       "      <th>duration</th>\n",
       "      <th>start_date</th>\n",
       "      <th>strt_statn</th>\n",
       "      <th>end_date</th>\n",
       "      <th>end_statn</th>\n",
       "      <th>bike_nr</th>\n",
       "      <th>subsc_type</th>\n",
       "      <th>zip_code</th>\n",
       "      <th>gender</th>\n",
       "      <th>age</th>\n",
       "    </tr>\n",
       "  </thead>\n",
       "  <tbody>\n",
       "    <tr>\n",
       "      <th>0</th>\n",
       "      <td>1</td>\n",
       "      <td>8</td>\n",
       "      <td>Closed</td>\n",
       "      <td>9</td>\n",
       "      <td>2011-07-28 10:12:00</td>\n",
       "      <td>23.0</td>\n",
       "      <td>2011-07-28 10:12:00</td>\n",
       "      <td>23.0</td>\n",
       "      <td>B00468</td>\n",
       "      <td>Registered</td>\n",
       "      <td>'97217</td>\n",
       "      <td>Male</td>\n",
       "      <td>45.0</td>\n",
       "    </tr>\n",
       "    <tr>\n",
       "      <th>1</th>\n",
       "      <td>2</td>\n",
       "      <td>9</td>\n",
       "      <td>Closed</td>\n",
       "      <td>220</td>\n",
       "      <td>2011-07-28 10:21:00</td>\n",
       "      <td>23.0</td>\n",
       "      <td>2011-07-28 10:25:00</td>\n",
       "      <td>23.0</td>\n",
       "      <td>B00554</td>\n",
       "      <td>Registered</td>\n",
       "      <td>'02215</td>\n",
       "      <td>Male</td>\n",
       "      <td>55.0</td>\n",
       "    </tr>\n",
       "  </tbody>\n",
       "</table>\n",
       "</div>"
      ],
      "text/plain": [
       "   seq_id  hubway_id  status  duration           start_date  strt_statn  \\\n",
       "0       1          8  Closed         9  2011-07-28 10:12:00        23.0   \n",
       "1       2          9  Closed       220  2011-07-28 10:21:00        23.0   \n",
       "\n",
       "              end_date  end_statn bike_nr  subsc_type zip_code gender   age  \n",
       "0  2011-07-28 10:12:00       23.0  B00468  Registered   '97217   Male  45.0  \n",
       "1  2011-07-28 10:25:00       23.0  B00554  Registered   '02215   Male  55.0  "
      ]
     },
     "execution_count": 29,
     "metadata": {},
     "output_type": "execute_result"
    }
   ],
   "source": [
    "trips.head(2)"
   ]
  },
  {
   "cell_type": "code",
   "execution_count": null,
   "metadata": {},
   "outputs": [],
   "source": [
    "# # Вспомогательная функция в Helper.py для вычисления расстояния велосипеда от центра города\n",
    "# # Он возвращает данные о данных, который имеет столбец расстояния заказа от центра\n",
    "# from scipy.spatial.distance import euclidean\n",
    "# counts_df = euclidean(stations[['lat']], stations[['lng']])\n",
    "\n",
    "# # Take a quick look at the dataframe\n",
    "# counts_df.head()\n"
   ]
  },
  {
   "cell_type": "code",
   "execution_count": null,
   "metadata": {},
   "outputs": [],
   "source": [
    "# Let us use a straight line y = ax + b to model the relation \n",
    "# between the number of checkouts and distance to the city center\n",
    "\n",
    "beta0 = 4394\n",
    "beta1 = -1175\n",
    "\n",
    "y_pred = beta0 + beta1 * counts_df['dist_to_center'].values\n"
   ]
  },
  {
   "cell_type": "code",
   "execution_count": null,
   "metadata": {},
   "outputs": [
    {
     "data": {
      "text/plain": [
       "<matplotlib.legend.Legend at 0x7f7d41a5c820>"
      ]
     },
     "execution_count": 34,
     "metadata": {},
     "output_type": "execute_result"
    },
    {
     "data": {
      "image/png": "[encoded data removed]",
      "text/plain": [
       "<Figure size 1000x500 with 1 Axes>"
      ]
     },
     "metadata": {},
     "output_type": "display_data"
    }
   ],
   "source": [
    "# Plotting the true data and the prediction\n",
    "fig, ax = plt.subplots(1, 1, figsize=(10, 5))\n",
    "ax.scatter(counts_df['dist_to_center'].values, counts_df['checkouts'].values, label='Data', s=70, c='#e4a199')\n",
    "ax.plot(counts_df['dist_to_center'].values, y_pred, c='blue', alpha=0.5, linewidth=2, label='Prediction')\n",
    "ax.set_xlabel('Distance to City Center (Miles)')\n",
    "ax.set_ylabel('Number of Checkouts')\n",
    "ax.set_title('Distance to City Center vs Checkouts');\n",
    "ax.legend();\n"
   ]
  },
  {
   "cell_type": "markdown",
   "metadata": {},
   "source": [
    "### ⏸ Based on our \"linear\" model, what would most likely be the number of checkouts for a distance of 2.5 miles from the city center?\n",
    "#### A. 45000\n",
    "#### B. 12530\n",
    "#### C. 1450\n",
    "#### D. 650"
   ]
  },
  {
   "cell_type": "code",
   "execution_count": null,
   "metadata": {},
   "outputs": [],
   "source": [
    "### edTest(test_chow6) ###\n",
    "# Submit an answer choice as a string below (eg. if you choose option A, put 'A')\n",
    "answer6 = 'C'\n"
   ]
  },
  {
   "cell_type": "code",
   "execution_count": null,
   "metadata": {},
   "outputs": [],
   "source": []
  }
 ],
 "metadata": {
  "kernelspec": {
   "display_name": "Python 3",
   "language": "python",
   "name": "python3"
  },
  "language_info": {
   "codemirror_mode": {
    "name": "ipython",
    "version": 3
   },
   "file_extension": ".py",
   "mimetype": "text/x-python",
   "name": "python",
   "nbconvert_exporter": "python",
   "pygments_lexer": "ipython3",
   "version": "3.11.1"
  }
 },
 "nbformat": 4,
 "nbformat_minor": 4
}
