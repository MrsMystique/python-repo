{
    "cells": [
        {
            "attachments": {},
            "cell_type": "markdown",
            "metadata": {},
            "source": [
                "# <img style=\"float: left; padding-right: 10px; width: 45px\" src=\"https://raw.githubusercontent.com/Harvard-IACS/2018-CS109A/master/content/styles/iacs.png\"> CS109a Introduction to PANDAS\n",
                "\n",
                "## Lecture 1, Pandas Intro\n",
                "\n",
                "\n",
                "**Harvard University**<br/>\n",
                "**Fall 2021**<br/>\n",
                "**Instructors**: Pavlos Protopapas and Natesh Pillai\n",
                "\n",
                "---"
            ]
        },
        {
            "attachments": {},
            "cell_type": "markdown",
            "metadata": {},
            "source": [
                "# Панды\n",
                "\n",
                "«Пандас» - это библиотека Python, которая содержит очень полезные структуры данных, включая DataFrames, что облегчает исследовательский анализ данных (EDA).Здесь мы увидим некоторые элементарные функции на практике."
            ]
        },
        {
            "attachments": {},
            "cell_type": "markdown",
            "metadata": {},
            "source": [
                "## Installing\n",
                "**Using conda**\n",
                "\n",
                "```shell\n",
                "conda install pandas\n",
                "```\n",
                "\n",
                "**Using pip**\n",
                "```shell\n",
                "pip install pandas\n",
                "```\n",
                "**TIP: You can try installing a library from a jupyter notebook cell adding \"!\"**\n",
                "```shell\n",
                "# using conda\n",
                "!conda install pandas\n",
                "# or using pip\n",
                "!pip install pandas\n",
                "```"
            ]
        },
        {
            "attachments": {},
            "cell_type": "markdown",
            "metadata": {},
            "source": [
                "# PANDAS Basics\n",
                "Let's get started with basic functionality of PANDAS!"
            ]
        },
        {
            "attachments": {},
            "cell_type": "markdown",
            "metadata": {},
            "source": [
                "## Importing pandas\n",
                "\n",
                "importing pandas is as simple as next line\n",
                "```python\n",
                "import pandas\n",
                "```\n",
                "But ~~because of lazyness~~ for convenience we usually import it as `pd`"
            ]
        },
        {
            "cell_type": "code",
            "execution_count": 2,
            "metadata": {},
            "outputs": [],
            "source": [
                "import pandas as pd\n",
                "import requests"
            ]
        },
        {
            "attachments": {},
            "cell_type": "markdown",
            "metadata": {},
            "source": [
                "You can always check for the version of almost any library using `__version__`"
            ]
        },
        {
            "cell_type": "code",
            "execution_count": 212,
            "metadata": {},
            "outputs": [
                {
                    "data": {
                        "text/plain": [
                            "'1.5.3'"
                        ]
                    },
                    "execution_count": 212,
                    "metadata": {},
                    "output_type": "execute_result"
                }
            ],
            "source": [
                "pd.__version__"
            ]
        },
        {
            "attachments": {},
            "cell_type": "markdown",
            "metadata": {},
            "source": [
                "## структуры данных Pandas\n",
                "\n",
                "Основными структурами данных в пандах являются «серия» (полезно для временных рядов) и «DataFrame».\n",
                "\n",
                "- **Ряд**\n",
                "  - Формальный: одномерный ndarray с этикетками оси (включая временные ряды).\n",
                "  - Примерно: вы можете думать об этом как о том, как таблица электронной таблицы или таблицу реляционной базы данных из одного столбца\n",
                "  \n",
                " \n",
                "- ** DataFrame **\n",
                "  -Формальный: двумерный, размеренный, потенциально гетерогенный табличный данных.\n",
                "  - Примерно: в таблицу реляционных баз данных.Где каждый столбец *DataFrame * - это *серия *.\n",
                "\n",
                "Оба DataFrames и Series всегда имеют *индекс *."
            ]
        },
        {
            "attachments": {},
            "cell_type": "markdown",
            "metadata": {},
            "source": [
                "## pd.Series\n",
                "```\n",
                "pd.Series(data=None, index=None, dtype=None, name=None, copy=False)\n",
                "```\n",
                "When not using an index pandas will add an index for us:\n",
                "```python\n",
                ">>> s1 = pd.Series(range(0, 50, 10))\n",
                "0     0\n",
                "1    10\n",
                "2    20\n",
                "3    30\n",
                "4    40\n",
                "dtype: int64\n",
                "```"
            ]
        },
        {
            "attachments": {},
            "cell_type": "markdown",
            "metadata": {},
            "source": [
                "**The data can be strings not just numbers**\n",
                "\n",
                "The index can be anything, but the data and index should have the same length."
            ]
        },
        {
            "cell_type": "code",
            "execution_count": 213,
            "metadata": {},
            "outputs": [
                {
                    "data": {
                        "text/plain": [
                            "10    A\n",
                            "9     B\n",
                            "8     C\n",
                            "7     D\n",
                            "6     E\n",
                            "dtype: object"
                        ]
                    },
                    "execution_count": 213,
                    "metadata": {},
                    "output_type": "execute_result"
                }
            ],
            "source": [
                "# серия с буквами, проставить индексы от 10 до 5 с шагом -1\n",
                "s = pd.Series(data=['A', 'B', 'C', 'D', 'E'], index = range(10, 5, -1))\n",
                "s"
            ]
        },
        {
            "attachments": {},
            "cell_type": "markdown",
            "metadata": {},
            "source": [
                "**We can independently access the series' values or its index**"
            ]
        },
        {
            "cell_type": "code",
            "execution_count": 214,
            "metadata": {},
            "outputs": [
                {
                    "data": {
                        "text/plain": [
                            "array(['A', 'B', 'C', 'D', 'E'], dtype=object)"
                        ]
                    },
                    "execution_count": 214,
                    "metadata": {},
                    "output_type": "execute_result"
                }
            ],
            "source": [
                "s.values"
            ]
        },
        {
            "cell_type": "code",
            "execution_count": 215,
            "metadata": {},
            "outputs": [
                {
                    "data": {
                        "text/plain": [
                            "RangeIndex(start=10, stop=5, step=-1)"
                        ]
                    },
                    "execution_count": 215,
                    "metadata": {},
                    "output_type": "execute_result"
                }
            ],
            "source": [
                "s.index"
            ]
        },
        {
            "attachments": {},
            "cell_type": "markdown",
            "metadata": {},
            "source": [
                "## pd.DataFrame\n",
                "```\n",
                "pd.DataFrame(data=None, index=None, columns=None, dtype=None, copy=None)\n",
                "```\n",
                "Эта структура данных также содержит помеченные оси (строки и столбцы).\n",
                "\n",
                "|index|First Name|Last Name|\n",
                "|---|---|---|\n",
                "|0|Ann|Gatton|\n",
                "|1|John|Fosa|\n",
                "|2|Zack|Kaufman|\n",
                "\n",
                "Класс DataFrame предлагает мощные способы их создания.Например, две строки кода Belows генерируют один и тот же объект DataFrame.\n",
                "```python\n",
                "# using rows\n",
                "pd.DataFrame(data=[[1,2], [3,4], [5,6]], columns=['A','B'])\n",
                "```\n",
                "```python\n",
                "# using columns\n",
                "pd.DataFrame(data={'A':[1,3,5], 'B': [2,4,6]})\n",
                "```\n",
                "||A|B|\n",
                "|-|-|-|\n",
                "|0|1|2|\n",
                "|1|3|4|\n",
                "|2|5|6|"
            ]
        },
        {
            "attachments": {},
            "cell_type": "markdown",
            "metadata": {},
            "source": [
                "## Загрузка данных\n",
                "\n",
                "Обычно для создания DataFrames, но обычно мы читаем данные из внешних источников.Это легко сделать в пандах.\n"
            ]
        },
        {
            "cell_type": "code",
            "execution_count": 216,
            "metadata": {},
            "outputs": [
                {
                    "name": "stdout",
                    "output_type": "stream",
                    "text": [
                        "read_clipboard\thttps://pandas.pydata.org/pandas-docs/stable/reference/api/pandas.read_clipboard.html\n",
                        "read_csv\thttps://pandas.pydata.org/pandas-docs/stable/reference/api/pandas.read_csv.html\n",
                        "read_excel\thttps://pandas.pydata.org/pandas-docs/stable/reference/api/pandas.read_excel.html\n",
                        "read_feather\thttps://pandas.pydata.org/pandas-docs/stable/reference/api/pandas.read_feather.html\n",
                        "read_fwf\thttps://pandas.pydata.org/pandas-docs/stable/reference/api/pandas.read_fwf.html\n",
                        "read_gbq\thttps://pandas.pydata.org/pandas-docs/stable/reference/api/pandas.read_gbq.html\n",
                        "read_hdf\thttps://pandas.pydata.org/pandas-docs/stable/reference/api/pandas.read_hdf.html\n",
                        "read_html\thttps://pandas.pydata.org/pandas-docs/stable/reference/api/pandas.read_html.html\n",
                        "read_json\thttps://pandas.pydata.org/pandas-docs/stable/reference/api/pandas.read_json.html\n",
                        "read_parquet\thttps://pandas.pydata.org/pandas-docs/stable/reference/api/pandas.read_parquet.html\n",
                        "read_pickle\thttps://pandas.pydata.org/pandas-docs/stable/reference/api/pandas.read_pickle.html\n",
                        "read_spss\thttps://pandas.pydata.org/pandas-docs/stable/reference/api/pandas.read_spss.html\n",
                        "read_sql\thttps://pandas.pydata.org/pandas-docs/stable/reference/api/pandas.read_sql.html\n",
                        "read_sql_query\thttps://pandas.pydata.org/pandas-docs/stable/reference/api/pandas.read_sql_query.html\n",
                        "read_sql_table\thttps://pandas.pydata.org/pandas-docs/stable/reference/api/pandas.read_sql_table.html\n",
                        "read_stata\thttps://pandas.pydata.org/pandas-docs/stable/reference/api/pandas.read_stata.html\n",
                        "read_table\thttps://pandas.pydata.org/pandas-docs/stable/reference/api/pandas.read_table.html\n",
                        "read_xml\thttps://pandas.pydata.org/pandas-docs/stable/reference/api/pandas.read_xml.html\n"
                    ]
                }
            ],
            "source": [
                "tpl = 'https://pandas.pydata.org/pandas-docs/stable/reference/api/pandas.{}.html'\n",
                "\n",
                "for m in ['clipboard', 'csv', 'excel', 'feather', 'fwf', 'gbq',\n",
                "          'hdf', 'html', 'json', 'parquet', 'pickle', 'spss',\n",
                "          'sql', 'sql_query', 'sql_table', 'stata', 'table', 'xml']:\n",
                "\n",
                "    method = f'read_{m}'\n",
                "    url =  tpl.format(method)\n",
                "    print(f'{method}\\t{url}')"
            ]
        },
        {
            "attachments": {},
            "cell_type": "markdown",
            "metadata": {},
            "source": [
                "**Пример**\n",
                "Метод `read_html` является мощным и требует небольшого опыта.\n",
                "- Первая строка обрабатывает URL и извлекает HTML, которые соответствуют критериям в DataFrames\n",
                "- Заголовок станет первой строкой DataFrame, поэтому в строке 2 мы используем значения первой строки в качестве имен столбцов для DataFrame, и, наконец, мы удаляем первую строку."
            ]
        },
        {
            "cell_type": "code",
            "execution_count": 217,
            "metadata": {},
            "outputs": [],
            "source": [
                "df = pd.read_html('https://en.wikipedia.org/wiki/Harvard_University', match ='School')[0]"
            ]
        },
        {
            "cell_type": "markdown",
            "metadata": {},
            "source": [
                "Когда вы используете pd.read_html() для парсинга веб-страницы, библиотека pandas пытается найти и извлечь таблицы HTML со страницы, в которых данные представлены в виде табличной структуры.\n",
                "\n",
                "При вызове pd.read_html('https://en.wikipedia.org/wiki/Harvard_University', match='School'), pandas обращается к указанному URL-адресу ('https://en.wikipedia.org/wiki/Harvard_University') и анализирует HTML-код страницы в поисках таблиц, соответствующих определенному условию (match='School'). В данном случае, match='School' означает, что pandas будет искать таблицы, которые содержат обозначение 'School'.\n",
                "\n",
                "После обнаружения таблицы, pandas использует встроенные парсеры HTML, такие как 'lxml', 'html5lib' или 'html.parser', для извлечения данных из таблицы. Обычно используется стандартный парсер 'lxml', если он доступен, иначе pandas пытается использовать следующий приоритетный парсер, например, 'html5lib' или 'html.parser'.\n",
                "\n",
                "Для веб-страницы о Харвардском университете, метод pd.read_html() находит таблицу на странице, которая содержит информацию о школах в университете. Он извлекает данные из этой таблицы, а затем возвращает DataFrame, содержащий эти данные.\n",
                "\n",
                "Важно отметить, что pd.read_html() имеет некоторые ограничения и работает лучше с простыми таблицами, чёткой структурой и без сложных вложенных элементов HTML. Если на странице присутствуют другие элементы или структуры, это может привести к неправильному или частичному извлечению данных.\n",
                "\n",
                "Рекомендуется внимательно проверять и проверять извлеченные данные, чтобы убедиться, что они соответствуют вашим ожиданиям и не содержат некорректных значений или пропущенных данных."
            ]
        },
        {
            "cell_type": "code",
            "execution_count": 218,
            "metadata": {},
            "outputs": [
                {
                    "data": {
                        "text/html": [
                            "<div>\n",
                            "<style scoped>\n",
                            "    .dataframe tbody tr th:only-of-type {\n",
                            "        vertical-align: middle;\n",
                            "    }\n",
                            "\n",
                            "    .dataframe tbody tr th {\n",
                            "        vertical-align: top;\n",
                            "    }\n",
                            "\n",
                            "    .dataframe thead th {\n",
                            "        text-align: right;\n",
                            "    }\n",
                            "</style>\n",
                            "<table border=\"1\" class=\"dataframe\">\n",
                            "  <thead>\n",
                            "    <tr style=\"text-align: right;\">\n",
                            "      <th></th>\n",
                            "      <th>0</th>\n",
                            "      <th>1</th>\n",
                            "    </tr>\n",
                            "  </thead>\n",
                            "  <tbody>\n",
                            "    <tr>\n",
                            "      <th>0</th>\n",
                            "      <td>School</td>\n",
                            "      <td>Founded</td>\n",
                            "    </tr>\n",
                            "    <tr>\n",
                            "      <th>1</th>\n",
                            "      <td>Harvard College</td>\n",
                            "      <td>1636</td>\n",
                            "    </tr>\n",
                            "    <tr>\n",
                            "      <th>2</th>\n",
                            "      <td>Medicine</td>\n",
                            "      <td>1782</td>\n",
                            "    </tr>\n",
                            "    <tr>\n",
                            "      <th>3</th>\n",
                            "      <td>Divinity</td>\n",
                            "      <td>1816</td>\n",
                            "    </tr>\n",
                            "    <tr>\n",
                            "      <th>4</th>\n",
                            "      <td>Law</td>\n",
                            "      <td>1817</td>\n",
                            "    </tr>\n",
                            "    <tr>\n",
                            "      <th>5</th>\n",
                            "      <td>Dental Medicine</td>\n",
                            "      <td>1867</td>\n",
                            "    </tr>\n",
                            "    <tr>\n",
                            "      <th>6</th>\n",
                            "      <td>Arts and Sciences</td>\n",
                            "      <td>1872</td>\n",
                            "    </tr>\n",
                            "    <tr>\n",
                            "      <th>7</th>\n",
                            "      <td>Business</td>\n",
                            "      <td>1908</td>\n",
                            "    </tr>\n",
                            "    <tr>\n",
                            "      <th>8</th>\n",
                            "      <td>Extension</td>\n",
                            "      <td>1910</td>\n",
                            "    </tr>\n",
                            "    <tr>\n",
                            "      <th>9</th>\n",
                            "      <td>Design</td>\n",
                            "      <td>1914</td>\n",
                            "    </tr>\n",
                            "    <tr>\n",
                            "      <th>10</th>\n",
                            "      <td>Education</td>\n",
                            "      <td>1920</td>\n",
                            "    </tr>\n",
                            "    <tr>\n",
                            "      <th>11</th>\n",
                            "      <td>Public Health</td>\n",
                            "      <td>1922</td>\n",
                            "    </tr>\n",
                            "    <tr>\n",
                            "      <th>12</th>\n",
                            "      <td>Government</td>\n",
                            "      <td>1936</td>\n",
                            "    </tr>\n",
                            "    <tr>\n",
                            "      <th>13</th>\n",
                            "      <td>Engineering and Applied Sciences</td>\n",
                            "      <td>2007</td>\n",
                            "    </tr>\n",
                            "  </tbody>\n",
                            "</table>\n",
                            "</div>"
                        ],
                        "text/plain": [
                            "                                   0        1\n",
                            "0                             School  Founded\n",
                            "1                    Harvard College     1636\n",
                            "2                           Medicine     1782\n",
                            "3                           Divinity     1816\n",
                            "4                                Law     1817\n",
                            "5                    Dental Medicine     1867\n",
                            "6                  Arts and Sciences     1872\n",
                            "7                           Business     1908\n",
                            "8                          Extension     1910\n",
                            "9                             Design     1914\n",
                            "10                         Education     1920\n",
                            "11                     Public Health     1922\n",
                            "12                        Government     1936\n",
                            "13  Engineering and Applied Sciences     2007"
                        ]
                    },
                    "execution_count": 218,
                    "metadata": {},
                    "output_type": "execute_result"
                }
            ],
            "source": [
                "df"
            ]
        },
        {
            "cell_type": "code",
            "execution_count": 219,
            "metadata": {},
            "outputs": [
                {
                    "data": {
                        "text/html": [
                            "<div>\n",
                            "<style scoped>\n",
                            "    .dataframe tbody tr th:only-of-type {\n",
                            "        vertical-align: middle;\n",
                            "    }\n",
                            "\n",
                            "    .dataframe tbody tr th {\n",
                            "        vertical-align: top;\n",
                            "    }\n",
                            "\n",
                            "    .dataframe thead th {\n",
                            "        text-align: right;\n",
                            "    }\n",
                            "</style>\n",
                            "<table border=\"1\" class=\"dataframe\">\n",
                            "  <thead>\n",
                            "    <tr style=\"text-align: right;\">\n",
                            "      <th></th>\n",
                            "      <th>School</th>\n",
                            "      <th>Founded</th>\n",
                            "    </tr>\n",
                            "  </thead>\n",
                            "  <tbody>\n",
                            "    <tr>\n",
                            "      <th>1</th>\n",
                            "      <td>Harvard College</td>\n",
                            "      <td>1636</td>\n",
                            "    </tr>\n",
                            "    <tr>\n",
                            "      <th>2</th>\n",
                            "      <td>Medicine</td>\n",
                            "      <td>1782</td>\n",
                            "    </tr>\n",
                            "    <tr>\n",
                            "      <th>3</th>\n",
                            "      <td>Divinity</td>\n",
                            "      <td>1816</td>\n",
                            "    </tr>\n",
                            "    <tr>\n",
                            "      <th>4</th>\n",
                            "      <td>Law</td>\n",
                            "      <td>1817</td>\n",
                            "    </tr>\n",
                            "    <tr>\n",
                            "      <th>5</th>\n",
                            "      <td>Dental Medicine</td>\n",
                            "      <td>1867</td>\n",
                            "    </tr>\n",
                            "    <tr>\n",
                            "      <th>6</th>\n",
                            "      <td>Arts and Sciences</td>\n",
                            "      <td>1872</td>\n",
                            "    </tr>\n",
                            "    <tr>\n",
                            "      <th>7</th>\n",
                            "      <td>Business</td>\n",
                            "      <td>1908</td>\n",
                            "    </tr>\n",
                            "    <tr>\n",
                            "      <th>8</th>\n",
                            "      <td>Extension</td>\n",
                            "      <td>1910</td>\n",
                            "    </tr>\n",
                            "    <tr>\n",
                            "      <th>9</th>\n",
                            "      <td>Design</td>\n",
                            "      <td>1914</td>\n",
                            "    </tr>\n",
                            "    <tr>\n",
                            "      <th>10</th>\n",
                            "      <td>Education</td>\n",
                            "      <td>1920</td>\n",
                            "    </tr>\n",
                            "    <tr>\n",
                            "      <th>11</th>\n",
                            "      <td>Public Health</td>\n",
                            "      <td>1922</td>\n",
                            "    </tr>\n",
                            "    <tr>\n",
                            "      <th>12</th>\n",
                            "      <td>Government</td>\n",
                            "      <td>1936</td>\n",
                            "    </tr>\n",
                            "    <tr>\n",
                            "      <th>13</th>\n",
                            "      <td>Engineering and Applied Sciences</td>\n",
                            "      <td>2007</td>\n",
                            "    </tr>\n",
                            "  </tbody>\n",
                            "</table>\n",
                            "</div>"
                        ],
                        "text/plain": [
                            "                              School Founded\n",
                            "1                    Harvard College    1636\n",
                            "2                           Medicine    1782\n",
                            "3                           Divinity    1816\n",
                            "4                                Law    1817\n",
                            "5                    Dental Medicine    1867\n",
                            "6                  Arts and Sciences    1872\n",
                            "7                           Business    1908\n",
                            "8                          Extension    1910\n",
                            "9                             Design    1914\n",
                            "10                         Education    1920\n",
                            "11                     Public Health    1922\n",
                            "12                        Government    1936\n",
                            "13  Engineering and Applied Sciences    2007"
                        ]
                    },
                    "execution_count": 219,
                    "metadata": {},
                    "output_type": "execute_result"
                }
            ],
            "source": [
                "df = pd.read_html('https://en.wikipedia.org/wiki/Harvard_University', match='School')[0]\n",
                "df = df.rename(columns = df.iloc[0])[1:]\n",
                "df"
            ]
        },
        {
            "attachments": {},
            "cell_type": "markdown",
            "metadata": {},
            "source": [
                "## pd.read_csv\n",
                "\n",
                " [`read_csv`] (https://pandas.pydata.org/pandas-docs/stable/reference/api/pandas.read_csv.html) является рекомендуемой отправной точкой для всех, кто изучает панду.\n",
                " \n",
                " Вы можете прочитать его документы [здесь] (https://pandas.pydata.org/pandas-docs/stable/reference/api/pandas.read_csv.html).\n",
                "\n",
                "\n",
                "### Давайте использовать его для загрузки [цены на авокадо] (https://www.kaggle.com/neuromusic/avocado-prices)\n",
                "\n",
                "*Это хорошо известный факт, что Millenials любят тосты авокадо.\n",
                "\n",
                "Это также хорошо известный факт, что все тысячелетия живут в подвалах своих родителей.\n",
                "\n",
                "*Очевидно, что они не покупают дом, потому что покупают слишком много тостов из авокадо!*\n",
                "\n",
                "*Но, может быть, есть надежда ... если бы тысячелетний мог найти город с дешевыми авокадо, они могли бы воплотить в жизнь тысячелетнюю американскую мечту.*"
            ]
        },
        {
            "attachments": {},
            "cell_type": "markdown",
            "metadata": {},
            "source": [
                "В таблице ниже представлены еженедельные данные о розничном сканировании 2018 года для национального объема розничной торговли (единицы) и цены.Данные о розничной сканировании поступают непосредственно из кассовых регистров розничных продавцов на основе фактических розничных продаж Hass Avocados.Начиная с 2013 года, приведенная ниже таблица отражает расширенный набор данных о розничной торговле.Отчетность по мульти-аутлету включает в себя агрегацию следующих каналов: продуктовый, массовый, клуб, наркотики, доллар и военные.Средняя цена (авокадо) в таблице отражает стоимость за единицу (на авокадо), даже когда в мешках продаются несколько единиц (авокадо).Коды поиска продукта (PLU) в таблице предназначены только для Hass Avocados.Другие разновидности авокадо (например, зеленые) не включены в эту таблицу.\n",
                "\n",
                "** Некоторые соответствующие столбцы в наборе данных: **\n",
                "\n",
                "- **дата**: дата наблюдения\n",
                "- **Средняя цена**: средняя цена одного авокадо\n",
                "- **Тип**: обычный или органический\n",
                "- **Год**: год\n",
                "- **Регион**: город или регион наблюдения\n",
                "- **Общий объем**: общее количество проданных авокадо\n",
                "- **4046**: общее количество авокадо с PLU 4046 продано\n",
                "- **4225**: общее количество авокадо с PLU 4225 продано\n",
                "- **4770**: общее количество авокадо с PLU 4770 Продано"
            ]
        },
        {
            "attachments": {},
            "cell_type": "markdown",
            "metadata": {},
            "source": [
                "### Загрузить набор данных\n",
                "Прочитайте сжатый файл CSV.Мы просим Pandas использовать первый столбец CSV в качестве индекса, чтобы избежать создания нового по умолчанию.\n",
                "\n",
                "** Совет **: Когда вы слепы относительно того, что загружаете, или уже знаете, что это большой набор данных, вы можете исправить количество строк, которые будут загружены, используя параметр `nrow` (` nrow = none`, чтобы загрузить все иэто значение по умолчанию)"
            ]
        },
        {
            "cell_type": "code",
            "execution_count": 220,
            "metadata": {},
            "outputs": [],
            "source": [
                "df = pd.read_csv('avocado.csv.zip', index_col=0, compression='zip', nrows=None)"
            ]
        },
        {
            "attachments": {},
            "cell_type": "markdown",
            "metadata": {},
            "source": [
                "### Грубоe изучение данных"
            ]
        },
        {
            "attachments": {},
            "cell_type": "markdown",
            "metadata": {},
            "source": [
                "Мы можем быстро увидеть измерение DataFrame"
            ]
        },
        {
            "cell_type": "code",
            "execution_count": 221,
            "metadata": {},
            "outputs": [
                {
                    "data": {
                        "text/plain": [
                            "(18249, 13)"
                        ]
                    },
                    "execution_count": 221,
                    "metadata": {},
                    "output_type": "execute_result"
                }
            ],
            "source": [
                "df.shape"
            ]
        },
        {
            "attachments": {},
            "cell_type": "markdown",
            "metadata": {},
            "source": [
                "Форма представляет собой кортеж с количеством рядов и количество столбцов"
            ]
        },
        {
            "cell_type": "code",
            "execution_count": 222,
            "metadata": {},
            "outputs": [
                {
                    "data": {
                        "text/plain": [
                            "(18249, 13)"
                        ]
                    },
                    "execution_count": 222,
                    "metadata": {},
                    "output_type": "execute_result"
                }
            ],
            "source": [
                "len(df.index), len(df.columns)"
            ]
        },
        {
            "attachments": {},
            "cell_type": "markdown",
            "metadata": {},
            "source": [
                "Показать только имена столбцов"
            ]
        },
        {
            "cell_type": "code",
            "execution_count": 223,
            "metadata": {},
            "outputs": [
                {
                    "data": {
                        "text/plain": [
                            "Index(['Date', 'AveragePrice', 'Total Volume', '4046', '4225', '4770',\n",
                            "       'Total Bags', 'Small Bags', 'Large Bags', 'XLarge Bags', 'type', 'year',\n",
                            "       'region'],\n",
                            "      dtype='object')"
                        ]
                    },
                    "execution_count": 223,
                    "metadata": {},
                    "output_type": "execute_result"
                }
            ],
            "source": [
                "df.columns"
            ]
        },
        {
            "attachments": {},
            "cell_type": "markdown",
            "metadata": {},
            "source": [
                "Атрибут столбцов не является списком Python."
            ]
        },
        {
            "cell_type": "code",
            "execution_count": 224,
            "metadata": {},
            "outputs": [
                {
                    "data": {
                        "text/plain": [
                            "True"
                        ]
                    },
                    "execution_count": 224,
                    "metadata": {},
                    "output_type": "execute_result"
                }
            ],
            "source": [
                "type(df.columns) == pd.Index"
            ]
        },
        {
            "attachments": {},
            "cell_type": "markdown",
            "metadata": {},
            "source": [
                "Показать только индекс"
            ]
        },
        {
            "cell_type": "code",
            "execution_count": 225,
            "metadata": {},
            "outputs": [
                {
                    "data": {
                        "text/plain": [
                            "Int64Index([ 0,  1,  2,  3,  4,  5,  6,  7,  8,  9,\n",
                            "            ...\n",
                            "             2,  3,  4,  5,  6,  7,  8,  9, 10, 11],\n",
                            "           dtype='int64', length=18249)"
                        ]
                    },
                    "execution_count": 225,
                    "metadata": {},
                    "output_type": "execute_result"
                }
            ],
            "source": [
                "df.index"
            ]
        },
        {
            "attachments": {},
            "cell_type": "markdown",
            "metadata": {},
            "source": [
                "Иногда какой -то тип столбца неверен, и возможные способы обнаружения его использования`df.info()` или `df.dtypes`."
            ]
        },
        {
            "cell_type": "code",
            "execution_count": 226,
            "metadata": {},
            "outputs": [
                {
                    "data": {
                        "text/plain": [
                            "Date             object\n",
                            "AveragePrice    float64\n",
                            "Total Volume    float64\n",
                            "4046            float64\n",
                            "4225            float64\n",
                            "4770            float64\n",
                            "Total Bags      float64\n",
                            "Small Bags      float64\n",
                            "Large Bags      float64\n",
                            "XLarge Bags     float64\n",
                            "type             object\n",
                            "year              int64\n",
                            "region           object\n",
                            "dtype: object"
                        ]
                    },
                    "execution_count": 226,
                    "metadata": {},
                    "output_type": "execute_result"
                }
            ],
            "source": [
                "df.dtypes"
            ]
        },
        {
            "attachments": {},
            "cell_type": "markdown",
            "metadata": {},
            "source": [
                "В примере, здесь `date` - это объект (способ сохранения струн Pandas).Мы можем использовать лучший тип столбца для этого."
            ]
        },
        {
            "cell_type": "code",
            "execution_count": 227,
            "metadata": {},
            "outputs": [
                {
                    "data": {
                        "text/plain": [
                            "Date            datetime64[ns]\n",
                            "AveragePrice           float64\n",
                            "Total Volume           float64\n",
                            "4046                   float64\n",
                            "4225                   float64\n",
                            "4770                   float64\n",
                            "Total Bags             float64\n",
                            "Small Bags             float64\n",
                            "Large Bags             float64\n",
                            "XLarge Bags            float64\n",
                            "type                    object\n",
                            "year                     int64\n",
                            "region                  object\n",
                            "dtype: object"
                        ]
                    },
                    "execution_count": 227,
                    "metadata": {},
                    "output_type": "execute_result"
                }
            ],
            "source": [
                "df['Date'] = pd.to_datetime(df['Date'])\n",
                "df.dtypes"
            ]
        },
        {
            "attachments": {},
            "cell_type": "markdown",
            "metadata": {},
            "source": [
                "Показать первый (по умолчанию: 5) ряды"
            ]
        },
        {
            "cell_type": "code",
            "execution_count": 228,
            "metadata": {},
            "outputs": [
                {
                    "data": {
                        "text/html": [
                            "<div>\n",
                            "<style scoped>\n",
                            "    .dataframe tbody tr th:only-of-type {\n",
                            "        vertical-align: middle;\n",
                            "    }\n",
                            "\n",
                            "    .dataframe tbody tr th {\n",
                            "        vertical-align: top;\n",
                            "    }\n",
                            "\n",
                            "    .dataframe thead th {\n",
                            "        text-align: right;\n",
                            "    }\n",
                            "</style>\n",
                            "<table border=\"1\" class=\"dataframe\">\n",
                            "  <thead>\n",
                            "    <tr style=\"text-align: right;\">\n",
                            "      <th></th>\n",
                            "      <th>Date</th>\n",
                            "      <th>AveragePrice</th>\n",
                            "      <th>Total Volume</th>\n",
                            "      <th>4046</th>\n",
                            "      <th>4225</th>\n",
                            "      <th>4770</th>\n",
                            "      <th>Total Bags</th>\n",
                            "      <th>Small Bags</th>\n",
                            "      <th>Large Bags</th>\n",
                            "      <th>XLarge Bags</th>\n",
                            "      <th>type</th>\n",
                            "      <th>year</th>\n",
                            "      <th>region</th>\n",
                            "    </tr>\n",
                            "  </thead>\n",
                            "  <tbody>\n",
                            "    <tr>\n",
                            "      <th>0</th>\n",
                            "      <td>2015-12-27</td>\n",
                            "      <td>1.33</td>\n",
                            "      <td>64236.62</td>\n",
                            "      <td>1036.74</td>\n",
                            "      <td>54454.85</td>\n",
                            "      <td>48.16</td>\n",
                            "      <td>8696.87</td>\n",
                            "      <td>8603.62</td>\n",
                            "      <td>93.25</td>\n",
                            "      <td>0.0</td>\n",
                            "      <td>conventional</td>\n",
                            "      <td>2015</td>\n",
                            "      <td>Albany</td>\n",
                            "    </tr>\n",
                            "    <tr>\n",
                            "      <th>1</th>\n",
                            "      <td>2015-12-20</td>\n",
                            "      <td>1.35</td>\n",
                            "      <td>54876.98</td>\n",
                            "      <td>674.28</td>\n",
                            "      <td>44638.81</td>\n",
                            "      <td>58.33</td>\n",
                            "      <td>9505.56</td>\n",
                            "      <td>9408.07</td>\n",
                            "      <td>97.49</td>\n",
                            "      <td>0.0</td>\n",
                            "      <td>conventional</td>\n",
                            "      <td>2015</td>\n",
                            "      <td>Albany</td>\n",
                            "    </tr>\n",
                            "    <tr>\n",
                            "      <th>2</th>\n",
                            "      <td>2015-12-13</td>\n",
                            "      <td>0.93</td>\n",
                            "      <td>118220.22</td>\n",
                            "      <td>794.70</td>\n",
                            "      <td>109149.67</td>\n",
                            "      <td>130.50</td>\n",
                            "      <td>8145.35</td>\n",
                            "      <td>8042.21</td>\n",
                            "      <td>103.14</td>\n",
                            "      <td>0.0</td>\n",
                            "      <td>conventional</td>\n",
                            "      <td>2015</td>\n",
                            "      <td>Albany</td>\n",
                            "    </tr>\n",
                            "    <tr>\n",
                            "      <th>3</th>\n",
                            "      <td>2015-12-06</td>\n",
                            "      <td>1.08</td>\n",
                            "      <td>78992.15</td>\n",
                            "      <td>1132.00</td>\n",
                            "      <td>71976.41</td>\n",
                            "      <td>72.58</td>\n",
                            "      <td>5811.16</td>\n",
                            "      <td>5677.40</td>\n",
                            "      <td>133.76</td>\n",
                            "      <td>0.0</td>\n",
                            "      <td>conventional</td>\n",
                            "      <td>2015</td>\n",
                            "      <td>Albany</td>\n",
                            "    </tr>\n",
                            "    <tr>\n",
                            "      <th>4</th>\n",
                            "      <td>2015-11-29</td>\n",
                            "      <td>1.28</td>\n",
                            "      <td>51039.60</td>\n",
                            "      <td>941.48</td>\n",
                            "      <td>43838.39</td>\n",
                            "      <td>75.78</td>\n",
                            "      <td>6183.95</td>\n",
                            "      <td>5986.26</td>\n",
                            "      <td>197.69</td>\n",
                            "      <td>0.0</td>\n",
                            "      <td>conventional</td>\n",
                            "      <td>2015</td>\n",
                            "      <td>Albany</td>\n",
                            "    </tr>\n",
                            "  </tbody>\n",
                            "</table>\n",
                            "</div>"
                        ],
                        "text/plain": [
                            "        Date  AveragePrice  Total Volume     4046       4225    4770  \\\n",
                            "0 2015-12-27          1.33      64236.62  1036.74   54454.85   48.16   \n",
                            "1 2015-12-20          1.35      54876.98   674.28   44638.81   58.33   \n",
                            "2 2015-12-13          0.93     118220.22   794.70  109149.67  130.50   \n",
                            "3 2015-12-06          1.08      78992.15  1132.00   71976.41   72.58   \n",
                            "4 2015-11-29          1.28      51039.60   941.48   43838.39   75.78   \n",
                            "\n",
                            "   Total Bags  Small Bags  Large Bags  XLarge Bags          type  year  region  \n",
                            "0     8696.87     8603.62       93.25          0.0  conventional  2015  Albany  \n",
                            "1     9505.56     9408.07       97.49          0.0  conventional  2015  Albany  \n",
                            "2     8145.35     8042.21      103.14          0.0  conventional  2015  Albany  \n",
                            "3     5811.16     5677.40      133.76          0.0  conventional  2015  Albany  \n",
                            "4     6183.95     5986.26      197.69          0.0  conventional  2015  Albany  "
                        ]
                    },
                    "execution_count": 228,
                    "metadata": {},
                    "output_type": "execute_result"
                }
            ],
            "source": [
                "df.head()"
            ]
        },
        {
            "attachments": {},
            "cell_type": "markdown",
            "metadata": {},
            "source": [
                "show last 2 rows"
            ]
        },
        {
            "cell_type": "code",
            "execution_count": 229,
            "metadata": {},
            "outputs": [
                {
                    "data": {
                        "text/html": [
                            "<div>\n",
                            "<style scoped>\n",
                            "    .dataframe tbody tr th:only-of-type {\n",
                            "        vertical-align: middle;\n",
                            "    }\n",
                            "\n",
                            "    .dataframe tbody tr th {\n",
                            "        vertical-align: top;\n",
                            "    }\n",
                            "\n",
                            "    .dataframe thead th {\n",
                            "        text-align: right;\n",
                            "    }\n",
                            "</style>\n",
                            "<table border=\"1\" class=\"dataframe\">\n",
                            "  <thead>\n",
                            "    <tr style=\"text-align: right;\">\n",
                            "      <th></th>\n",
                            "      <th>Date</th>\n",
                            "      <th>AveragePrice</th>\n",
                            "      <th>Total Volume</th>\n",
                            "      <th>4046</th>\n",
                            "      <th>4225</th>\n",
                            "      <th>4770</th>\n",
                            "      <th>Total Bags</th>\n",
                            "      <th>Small Bags</th>\n",
                            "      <th>Large Bags</th>\n",
                            "      <th>XLarge Bags</th>\n",
                            "      <th>type</th>\n",
                            "      <th>year</th>\n",
                            "      <th>region</th>\n",
                            "    </tr>\n",
                            "  </thead>\n",
                            "  <tbody>\n",
                            "    <tr>\n",
                            "      <th>10</th>\n",
                            "      <td>2018-01-14</td>\n",
                            "      <td>1.93</td>\n",
                            "      <td>16205.22</td>\n",
                            "      <td>1527.63</td>\n",
                            "      <td>2981.04</td>\n",
                            "      <td>727.01</td>\n",
                            "      <td>10969.54</td>\n",
                            "      <td>10919.54</td>\n",
                            "      <td>50.00</td>\n",
                            "      <td>0.0</td>\n",
                            "      <td>organic</td>\n",
                            "      <td>2018</td>\n",
                            "      <td>WestTexNewMexico</td>\n",
                            "    </tr>\n",
                            "    <tr>\n",
                            "      <th>11</th>\n",
                            "      <td>2018-01-07</td>\n",
                            "      <td>1.62</td>\n",
                            "      <td>17489.58</td>\n",
                            "      <td>2894.77</td>\n",
                            "      <td>2356.13</td>\n",
                            "      <td>224.53</td>\n",
                            "      <td>12014.15</td>\n",
                            "      <td>11988.14</td>\n",
                            "      <td>26.01</td>\n",
                            "      <td>0.0</td>\n",
                            "      <td>organic</td>\n",
                            "      <td>2018</td>\n",
                            "      <td>WestTexNewMexico</td>\n",
                            "    </tr>\n",
                            "  </tbody>\n",
                            "</table>\n",
                            "</div>"
                        ],
                        "text/plain": [
                            "         Date  AveragePrice  Total Volume     4046     4225    4770  \\\n",
                            "10 2018-01-14          1.93      16205.22  1527.63  2981.04  727.01   \n",
                            "11 2018-01-07          1.62      17489.58  2894.77  2356.13  224.53   \n",
                            "\n",
                            "    Total Bags  Small Bags  Large Bags  XLarge Bags     type  year  \\\n",
                            "10    10969.54    10919.54       50.00          0.0  organic  2018   \n",
                            "11    12014.15    11988.14       26.01          0.0  organic  2018   \n",
                            "\n",
                            "              region  \n",
                            "10  WestTexNewMexico  \n",
                            "11  WestTexNewMexico  "
                        ]
                    },
                    "execution_count": 229,
                    "metadata": {},
                    "output_type": "execute_result"
                }
            ],
            "source": [
                "df.tail(2)"
            ]
        },
        {
            "attachments": {},
            "cell_type": "markdown",
            "metadata": {},
            "source": [
                "** Показать информацию о данных **\n",
                "\n",
                "Иногда метод DataFrame `info ()` - отличный способ сделать первый снимок данных с несколькими наборами данных столбцов.Он отображает:\n",
                "- имена столбцов\n",
                "- Количество рядов (в качестве записей)\n",
                "- Количество не нулевых значений\n",
                "- Тип данных на столбец (на серию)\n",
                "- использование памяти\n",
                "\n",
                "** Совет **: Если вы знаете, что количество столбцов высокое (возможно, при печати `df.shape [1]`), то вы можете передать флаг False  на метод `info ()`, чтобы уменьшить\n",
                "\n",
                "Информация только для глобальной информации."
            ]
        },
        {
            "cell_type": "code",
            "execution_count": 230,
            "metadata": {},
            "outputs": [
                {
                    "name": "stdout",
                    "output_type": "stream",
                    "text": [
                        "<class 'pandas.core.frame.DataFrame'>\n",
                        "Int64Index: 18249 entries, 0 to 11\n",
                        "Data columns (total 13 columns):\n",
                        " #   Column        Non-Null Count  Dtype         \n",
                        "---  ------        --------------  -----         \n",
                        " 0   Date          18249 non-null  datetime64[ns]\n",
                        " 1   AveragePrice  18249 non-null  float64       \n",
                        " 2   Total Volume  18249 non-null  float64       \n",
                        " 3   4046          18249 non-null  float64       \n",
                        " 4   4225          18249 non-null  float64       \n",
                        " 5   4770          18249 non-null  float64       \n",
                        " 6   Total Bags    18249 non-null  float64       \n",
                        " 7   Small Bags    18249 non-null  float64       \n",
                        " 8   Large Bags    18249 non-null  float64       \n",
                        " 9   XLarge Bags   18249 non-null  float64       \n",
                        " 10  type          18249 non-null  object        \n",
                        " 11  year          18249 non-null  int64         \n",
                        " 12  region        18249 non-null  object        \n",
                        "dtypes: datetime64[ns](1), float64(9), int64(1), object(2)\n",
                        "memory usage: 1.9+ MB\n"
                    ]
                }
            ],
            "source": [
                "few_columns = True\n",
                "df.info(verbose = few_columns)"
            ]
        },
        {
            "attachments": {},
            "cell_type": "markdown",
            "metadata": {},
            "source": [
                "## Описательная статистика\n",
                "\n",
                "Мы можем быстро посмотреть на некоторую статистику данных с одной строкой кода"
            ]
        },
        {
            "cell_type": "code",
            "execution_count": 231,
            "metadata": {},
            "outputs": [
                {
                    "data": {
                        "text/html": [
                            "<div>\n",
                            "<style scoped>\n",
                            "    .dataframe tbody tr th:only-of-type {\n",
                            "        vertical-align: middle;\n",
                            "    }\n",
                            "\n",
                            "    .dataframe tbody tr th {\n",
                            "        vertical-align: top;\n",
                            "    }\n",
                            "\n",
                            "    .dataframe thead th {\n",
                            "        text-align: right;\n",
                            "    }\n",
                            "</style>\n",
                            "<table border=\"1\" class=\"dataframe\">\n",
                            "  <thead>\n",
                            "    <tr style=\"text-align: right;\">\n",
                            "      <th></th>\n",
                            "      <th>AveragePrice</th>\n",
                            "      <th>Total Volume</th>\n",
                            "      <th>4046</th>\n",
                            "      <th>4225</th>\n",
                            "      <th>4770</th>\n",
                            "      <th>Total Bags</th>\n",
                            "      <th>Small Bags</th>\n",
                            "      <th>Large Bags</th>\n",
                            "      <th>XLarge Bags</th>\n",
                            "      <th>year</th>\n",
                            "    </tr>\n",
                            "  </thead>\n",
                            "  <tbody>\n",
                            "    <tr>\n",
                            "      <th>count</th>\n",
                            "      <td>18249.000000</td>\n",
                            "      <td>1.824900e+04</td>\n",
                            "      <td>1.824900e+04</td>\n",
                            "      <td>1.824900e+04</td>\n",
                            "      <td>1.824900e+04</td>\n",
                            "      <td>1.824900e+04</td>\n",
                            "      <td>1.824900e+04</td>\n",
                            "      <td>1.824900e+04</td>\n",
                            "      <td>18249.000000</td>\n",
                            "      <td>18249.000000</td>\n",
                            "    </tr>\n",
                            "    <tr>\n",
                            "      <th>mean</th>\n",
                            "      <td>1.405978</td>\n",
                            "      <td>8.506440e+05</td>\n",
                            "      <td>2.930084e+05</td>\n",
                            "      <td>2.951546e+05</td>\n",
                            "      <td>2.283974e+04</td>\n",
                            "      <td>2.396392e+05</td>\n",
                            "      <td>1.821947e+05</td>\n",
                            "      <td>5.433809e+04</td>\n",
                            "      <td>3106.426507</td>\n",
                            "      <td>2016.147899</td>\n",
                            "    </tr>\n",
                            "    <tr>\n",
                            "      <th>std</th>\n",
                            "      <td>0.402677</td>\n",
                            "      <td>3.453545e+06</td>\n",
                            "      <td>1.264989e+06</td>\n",
                            "      <td>1.204120e+06</td>\n",
                            "      <td>1.074641e+05</td>\n",
                            "      <td>9.862424e+05</td>\n",
                            "      <td>7.461785e+05</td>\n",
                            "      <td>2.439660e+05</td>\n",
                            "      <td>17692.894652</td>\n",
                            "      <td>0.939938</td>\n",
                            "    </tr>\n",
                            "    <tr>\n",
                            "      <th>min</th>\n",
                            "      <td>0.440000</td>\n",
                            "      <td>8.456000e+01</td>\n",
                            "      <td>0.000000e+00</td>\n",
                            "      <td>0.000000e+00</td>\n",
                            "      <td>0.000000e+00</td>\n",
                            "      <td>0.000000e+00</td>\n",
                            "      <td>0.000000e+00</td>\n",
                            "      <td>0.000000e+00</td>\n",
                            "      <td>0.000000</td>\n",
                            "      <td>2015.000000</td>\n",
                            "    </tr>\n",
                            "    <tr>\n",
                            "      <th>25%</th>\n",
                            "      <td>1.100000</td>\n",
                            "      <td>1.083858e+04</td>\n",
                            "      <td>8.540700e+02</td>\n",
                            "      <td>3.008780e+03</td>\n",
                            "      <td>0.000000e+00</td>\n",
                            "      <td>5.088640e+03</td>\n",
                            "      <td>2.849420e+03</td>\n",
                            "      <td>1.274700e+02</td>\n",
                            "      <td>0.000000</td>\n",
                            "      <td>2015.000000</td>\n",
                            "    </tr>\n",
                            "    <tr>\n",
                            "      <th>50%</th>\n",
                            "      <td>1.370000</td>\n",
                            "      <td>1.073768e+05</td>\n",
                            "      <td>8.645300e+03</td>\n",
                            "      <td>2.906102e+04</td>\n",
                            "      <td>1.849900e+02</td>\n",
                            "      <td>3.974383e+04</td>\n",
                            "      <td>2.636282e+04</td>\n",
                            "      <td>2.647710e+03</td>\n",
                            "      <td>0.000000</td>\n",
                            "      <td>2016.000000</td>\n",
                            "    </tr>\n",
                            "    <tr>\n",
                            "      <th>75%</th>\n",
                            "      <td>1.660000</td>\n",
                            "      <td>4.329623e+05</td>\n",
                            "      <td>1.110202e+05</td>\n",
                            "      <td>1.502069e+05</td>\n",
                            "      <td>6.243420e+03</td>\n",
                            "      <td>1.107834e+05</td>\n",
                            "      <td>8.333767e+04</td>\n",
                            "      <td>2.202925e+04</td>\n",
                            "      <td>132.500000</td>\n",
                            "      <td>2017.000000</td>\n",
                            "    </tr>\n",
                            "    <tr>\n",
                            "      <th>max</th>\n",
                            "      <td>3.250000</td>\n",
                            "      <td>6.250565e+07</td>\n",
                            "      <td>2.274362e+07</td>\n",
                            "      <td>2.047057e+07</td>\n",
                            "      <td>2.546439e+06</td>\n",
                            "      <td>1.937313e+07</td>\n",
                            "      <td>1.338459e+07</td>\n",
                            "      <td>5.719097e+06</td>\n",
                            "      <td>551693.650000</td>\n",
                            "      <td>2018.000000</td>\n",
                            "    </tr>\n",
                            "  </tbody>\n",
                            "</table>\n",
                            "</div>"
                        ],
                        "text/plain": [
                            "       AveragePrice  Total Volume          4046          4225          4770  \\\n",
                            "count  18249.000000  1.824900e+04  1.824900e+04  1.824900e+04  1.824900e+04   \n",
                            "mean       1.405978  8.506440e+05  2.930084e+05  2.951546e+05  2.283974e+04   \n",
                            "std        0.402677  3.453545e+06  1.264989e+06  1.204120e+06  1.074641e+05   \n",
                            "min        0.440000  8.456000e+01  0.000000e+00  0.000000e+00  0.000000e+00   \n",
                            "25%        1.100000  1.083858e+04  8.540700e+02  3.008780e+03  0.000000e+00   \n",
                            "50%        1.370000  1.073768e+05  8.645300e+03  2.906102e+04  1.849900e+02   \n",
                            "75%        1.660000  4.329623e+05  1.110202e+05  1.502069e+05  6.243420e+03   \n",
                            "max        3.250000  6.250565e+07  2.274362e+07  2.047057e+07  2.546439e+06   \n",
                            "\n",
                            "         Total Bags    Small Bags    Large Bags    XLarge Bags          year  \n",
                            "count  1.824900e+04  1.824900e+04  1.824900e+04   18249.000000  18249.000000  \n",
                            "mean   2.396392e+05  1.821947e+05  5.433809e+04    3106.426507   2016.147899  \n",
                            "std    9.862424e+05  7.461785e+05  2.439660e+05   17692.894652      0.939938  \n",
                            "min    0.000000e+00  0.000000e+00  0.000000e+00       0.000000   2015.000000  \n",
                            "25%    5.088640e+03  2.849420e+03  1.274700e+02       0.000000   2015.000000  \n",
                            "50%    3.974383e+04  2.636282e+04  2.647710e+03       0.000000   2016.000000  \n",
                            "75%    1.107834e+05  8.333767e+04  2.202925e+04     132.500000   2017.000000  \n",
                            "max    1.937313e+07  1.338459e+07  5.719097e+06  551693.650000   2018.000000  "
                        ]
                    },
                    "execution_count": 231,
                    "metadata": {},
                    "output_type": "execute_result"
                }
            ],
            "source": [
                "df.describe()"
            ]
        },
        {
            "attachments": {},
            "cell_type": "markdown",
            "metadata": {},
            "source": [
                "## Выбор данных\n",
                "\n",
                "### Имена столбцов\n",
                "\n",
                "Они представляют собой мощный инструмент для доступа к подгруппам или отдельным значениям (в сочетании с другими методами) в рамке данных."
            ]
        },
        {
            "attachments": {},
            "cell_type": "markdown",
            "metadata": {},
            "source": [
                "## $[]$ vs $[[]]$"
            ]
        },
        {
            "attachments": {},
            "cell_type": "markdown",
            "metadata": {},
            "source": [
                "**Использование имени столбца в качестве ключа вернет значения столбца как серия типов**\n",
                "```python\n",
                "# Возвращает серию со значениями DataFrame для столбца 'my_col'\n",
                "df['my_col']\n",
                "# Это дает тот же доступ, но не рекомендуется.Не могу работать, когда есть пространство или не разрешенное Чар во имя.\n",
                "df.my_col\n",
                "```\n",
                "**Использование списка имен столбцов Python в качестве ключа вернет суб -данные о данных с этими столбцами**\n",
                "```python\n",
                "# возвращает DataFrame с двумя столбцами\n",
                "df[['my_col_A', 'my_col_B']]\n",
                "# возвращает серию со значениями my_col_a\n",
                "df[['my_col_A']]\n",
                "```"
            ]
        },
        {
            "cell_type": "code",
            "execution_count": 232,
            "metadata": {},
            "outputs": [
                {
                    "data": {
                        "text/plain": [
                            "False"
                        ]
                    },
                    "execution_count": 232,
                    "metadata": {},
                    "output_type": "execute_result"
                }
            ],
            "source": [
                "# это должно быть ложным, потому что мы просто говорим, что имя столбца внутри скобков возвращает серию\n",
                "type(df['AveragePrice']) == pd.DataFrame"
            ]
        },
        {
            "cell_type": "code",
            "execution_count": 233,
            "metadata": {},
            "outputs": [
                {
                    "data": {
                        "text/plain": [
                            "True"
                        ]
                    },
                    "execution_count": 233,
                    "metadata": {},
                    "output_type": "execute_result"
                }
            ],
            "source": [
                "type(df['AveragePrice']) == pd.Series"
            ]
        },
        {
            "cell_type": "code",
            "execution_count": 234,
            "metadata": {},
            "outputs": [
                {
                    "data": {
                        "text/plain": [
                            "True"
                        ]
                    },
                    "execution_count": 234,
                    "metadata": {},
                    "output_type": "execute_result"
                }
            ],
            "source": [
                "# Это должно быть правдой, потому что мы говорим, что список имен столбцов внутри ковычек возвращает субсидийный фрейм\n",
                "type(df[['AveragePrice']]) == pd.DataFrame"
            ]
        },
        {
            "attachments": {},
            "cell_type": "markdown",
            "metadata": {},
            "source": [
                "Доступ к серии столбцов"
            ]
        },
        {
            "cell_type": "code",
            "execution_count": 235,
            "metadata": {},
            "outputs": [
                {
                    "data": {
                        "text/plain": [
                            "0    1.33\n",
                            "1    1.35\n",
                            "2    0.93\n",
                            "3    1.08\n",
                            "4    1.28\n",
                            "Name: AveragePrice, dtype: float64"
                        ]
                    },
                    "execution_count": 235,
                    "metadata": {},
                    "output_type": "execute_result"
                }
            ],
            "source": [
                "df['AveragePrice'].head()"
            ]
        },
        {
            "attachments": {},
            "cell_type": "markdown",
            "metadata": {},
            "source": [
                "Доступ к подданому кафере из одного столбца"
            ]
        },
        {
            "cell_type": "code",
            "execution_count": 236,
            "metadata": {},
            "outputs": [
                {
                    "data": {
                        "text/html": [
                            "<div>\n",
                            "<style scoped>\n",
                            "    .dataframe tbody tr th:only-of-type {\n",
                            "        vertical-align: middle;\n",
                            "    }\n",
                            "\n",
                            "    .dataframe tbody tr th {\n",
                            "        vertical-align: top;\n",
                            "    }\n",
                            "\n",
                            "    .dataframe thead th {\n",
                            "        text-align: right;\n",
                            "    }\n",
                            "</style>\n",
                            "<table border=\"1\" class=\"dataframe\">\n",
                            "  <thead>\n",
                            "    <tr style=\"text-align: right;\">\n",
                            "      <th></th>\n",
                            "      <th>AveragePrice</th>\n",
                            "    </tr>\n",
                            "  </thead>\n",
                            "  <tbody>\n",
                            "    <tr>\n",
                            "      <th>0</th>\n",
                            "      <td>1.33</td>\n",
                            "    </tr>\n",
                            "    <tr>\n",
                            "      <th>1</th>\n",
                            "      <td>1.35</td>\n",
                            "    </tr>\n",
                            "    <tr>\n",
                            "      <th>2</th>\n",
                            "      <td>0.93</td>\n",
                            "    </tr>\n",
                            "    <tr>\n",
                            "      <th>3</th>\n",
                            "      <td>1.08</td>\n",
                            "    </tr>\n",
                            "    <tr>\n",
                            "      <th>4</th>\n",
                            "      <td>1.28</td>\n",
                            "    </tr>\n",
                            "  </tbody>\n",
                            "</table>\n",
                            "</div>"
                        ],
                        "text/plain": [
                            "   AveragePrice\n",
                            "0          1.33\n",
                            "1          1.35\n",
                            "2          0.93\n",
                            "3          1.08\n",
                            "4          1.28"
                        ]
                    },
                    "execution_count": 236,
                    "metadata": {},
                    "output_type": "execute_result"
                }
            ],
            "source": [
                "df[['AveragePrice']].head()"
            ]
        },
        {
            "attachments": {},
            "cell_type": "markdown",
            "metadata": {},
            "source": [
                "Давайте попробуем еще раз визуализировать разницу, используя метод «значения», которые возвращают данные как массив Numpy."
            ]
        },
        {
            "cell_type": "code",
            "execution_count": 237,
            "metadata": {},
            "outputs": [
                {
                    "data": {
                        "text/plain": [
                            "array([1.33, 1.35, 0.93, ..., 1.87, 1.93, 1.62])"
                        ]
                    },
                    "execution_count": 237,
                    "metadata": {},
                    "output_type": "execute_result"
                }
            ],
            "source": [
                "df['AveragePrice'].values"
            ]
        },
        {
            "cell_type": "code",
            "execution_count": 238,
            "metadata": {},
            "outputs": [
                {
                    "data": {
                        "text/plain": [
                            "array([[1.33],\n",
                            "       [1.35],\n",
                            "       [0.93],\n",
                            "       ...,\n",
                            "       [1.87],\n",
                            "       [1.93],\n",
                            "       [1.62]])"
                        ]
                    },
                    "execution_count": 238,
                    "metadata": {},
                    "output_type": "execute_result"
                }
            ],
            "source": [
                "df[['AveragePrice']].values"
            ]
        },
        {
            "attachments": {},
            "cell_type": "markdown",
            "metadata": {},
            "source": [
                "Это связано с тем, что `series.values` возвращает одномерный массив со значениями столбца и «DataFrame.values» возвращает двухмерный массив, который можно рассматривать как массив рядов."
            ]
        },
        {
            "cell_type": "code",
            "execution_count": 239,
            "metadata": {},
            "outputs": [
                {
                    "data": {
                        "text/plain": [
                            "((18249,), (18249, 1))"
                        ]
                    },
                    "execution_count": 239,
                    "metadata": {},
                    "output_type": "execute_result"
                }
            ],
            "source": [
                "df['AveragePrice'].values.shape, df[['AveragePrice']].values.shape"
            ]
        },
        {
            "attachments": {},
            "cell_type": "markdown",
            "metadata": {},
            "source": [
                "**Упражнение**\n",
                "В приведенной ниже ячейке заполняйте пробелы, чтобы отобразить первые 10 рядов фрейма данных с столбцами `date` и `Average price`. Помните, что DataFrame - это класс, который позволяет делать композиции из цепочек данных."
            ]
        },
        {
            "cell_type": "code",
            "execution_count": 240,
            "metadata": {},
            "outputs": [
                {
                    "data": {
                        "text/html": [
                            "<div>\n",
                            "<style scoped>\n",
                            "    .dataframe tbody tr th:only-of-type {\n",
                            "        vertical-align: middle;\n",
                            "    }\n",
                            "\n",
                            "    .dataframe tbody tr th {\n",
                            "        vertical-align: top;\n",
                            "    }\n",
                            "\n",
                            "    .dataframe thead th {\n",
                            "        text-align: right;\n",
                            "    }\n",
                            "</style>\n",
                            "<table border=\"1\" class=\"dataframe\">\n",
                            "  <thead>\n",
                            "    <tr style=\"text-align: right;\">\n",
                            "      <th></th>\n",
                            "      <th>Date</th>\n",
                            "      <th>AveragePrice</th>\n",
                            "    </tr>\n",
                            "  </thead>\n",
                            "  <tbody>\n",
                            "    <tr>\n",
                            "      <th>0</th>\n",
                            "      <td>2015-12-27</td>\n",
                            "      <td>1.33</td>\n",
                            "    </tr>\n",
                            "    <tr>\n",
                            "      <th>1</th>\n",
                            "      <td>2015-12-20</td>\n",
                            "      <td>1.35</td>\n",
                            "    </tr>\n",
                            "    <tr>\n",
                            "      <th>2</th>\n",
                            "      <td>2015-12-13</td>\n",
                            "      <td>0.93</td>\n",
                            "    </tr>\n",
                            "    <tr>\n",
                            "      <th>3</th>\n",
                            "      <td>2015-12-06</td>\n",
                            "      <td>1.08</td>\n",
                            "    </tr>\n",
                            "    <tr>\n",
                            "      <th>4</th>\n",
                            "      <td>2015-11-29</td>\n",
                            "      <td>1.28</td>\n",
                            "    </tr>\n",
                            "    <tr>\n",
                            "      <th>5</th>\n",
                            "      <td>2015-11-22</td>\n",
                            "      <td>1.26</td>\n",
                            "    </tr>\n",
                            "    <tr>\n",
                            "      <th>6</th>\n",
                            "      <td>2015-11-15</td>\n",
                            "      <td>0.99</td>\n",
                            "    </tr>\n",
                            "    <tr>\n",
                            "      <th>7</th>\n",
                            "      <td>2015-11-08</td>\n",
                            "      <td>0.98</td>\n",
                            "    </tr>\n",
                            "    <tr>\n",
                            "      <th>8</th>\n",
                            "      <td>2015-11-01</td>\n",
                            "      <td>1.02</td>\n",
                            "    </tr>\n",
                            "    <tr>\n",
                            "      <th>9</th>\n",
                            "      <td>2015-10-25</td>\n",
                            "      <td>1.07</td>\n",
                            "    </tr>\n",
                            "  </tbody>\n",
                            "</table>\n",
                            "</div>"
                        ],
                        "text/plain": [
                            "        Date  AveragePrice\n",
                            "0 2015-12-27          1.33\n",
                            "1 2015-12-20          1.35\n",
                            "2 2015-12-13          0.93\n",
                            "3 2015-12-06          1.08\n",
                            "4 2015-11-29          1.28\n",
                            "5 2015-11-22          1.26\n",
                            "6 2015-11-15          0.99\n",
                            "7 2015-11-08          0.98\n",
                            "8 2015-11-01          1.02\n",
                            "9 2015-10-25          1.07"
                        ]
                    },
                    "execution_count": 240,
                    "metadata": {},
                    "output_type": "execute_result"
                }
            ],
            "source": [
                "df[['Date','AveragePrice']].head(10)"
            ]
        },
        {
            "attachments": {},
            "cell_type": "markdown",
            "metadata": {},
            "source": [
                "## Фильтрация\n",
                "\n",
                "Выражение, подобное тому, что показано ниже, представляет собой условие, которое вернет логический список со многими логическими значениями в виде значений в серии `df ['date']`. И это число, его длина составляет одинакового размера количества строк в DataFrame DF.\n",
                "`` Python\n",
                "df ['date'] == '2015-10-25'\n",
                "```\n",
                "Логический список будет правдой для рядов, где условие является истинным и ложным в противном случае.Список логических значений позволяет фильтрующим на основе данных на основе условия."
            ]
        },
        {
            "cell_type": "code",
            "execution_count": 241,
            "metadata": {},
            "outputs": [
                {
                    "data": {
                        "text/plain": [
                            "0     False\n",
                            "1     False\n",
                            "2     False\n",
                            "3     False\n",
                            "4     False\n",
                            "      ...  \n",
                            "7     False\n",
                            "8     False\n",
                            "9     False\n",
                            "10    False\n",
                            "11    False\n",
                            "Name: Date, Length: 18249, dtype: bool"
                        ]
                    },
                    "execution_count": 241,
                    "metadata": {},
                    "output_type": "execute_result"
                }
            ],
            "source": [
                "condition = df['Date'] == '2015-10-25'\n",
                "condition"
            ]
        },
        {
            "cell_type": "code",
            "execution_count": 242,
            "metadata": {},
            "outputs": [
                {
                    "data": {
                        "text/html": [
                            "<div>\n",
                            "<style scoped>\n",
                            "    .dataframe tbody tr th:only-of-type {\n",
                            "        vertical-align: middle;\n",
                            "    }\n",
                            "\n",
                            "    .dataframe tbody tr th {\n",
                            "        vertical-align: top;\n",
                            "    }\n",
                            "\n",
                            "    .dataframe thead th {\n",
                            "        text-align: right;\n",
                            "    }\n",
                            "</style>\n",
                            "<table border=\"1\" class=\"dataframe\">\n",
                            "  <thead>\n",
                            "    <tr style=\"text-align: right;\">\n",
                            "      <th></th>\n",
                            "      <th>Date</th>\n",
                            "      <th>AveragePrice</th>\n",
                            "      <th>Total Volume</th>\n",
                            "      <th>4046</th>\n",
                            "      <th>4225</th>\n",
                            "      <th>4770</th>\n",
                            "      <th>Total Bags</th>\n",
                            "      <th>Small Bags</th>\n",
                            "      <th>Large Bags</th>\n",
                            "      <th>XLarge Bags</th>\n",
                            "      <th>type</th>\n",
                            "      <th>year</th>\n",
                            "      <th>region</th>\n",
                            "    </tr>\n",
                            "  </thead>\n",
                            "  <tbody>\n",
                            "    <tr>\n",
                            "      <th>9</th>\n",
                            "      <td>2015-10-25</td>\n",
                            "      <td>1.07</td>\n",
                            "      <td>74338.76</td>\n",
                            "      <td>842.40</td>\n",
                            "      <td>64757.44</td>\n",
                            "      <td>113.00</td>\n",
                            "      <td>8625.92</td>\n",
                            "      <td>8061.47</td>\n",
                            "      <td>564.45</td>\n",
                            "      <td>0.0</td>\n",
                            "      <td>conventional</td>\n",
                            "      <td>2015</td>\n",
                            "      <td>Albany</td>\n",
                            "    </tr>\n",
                            "    <tr>\n",
                            "      <th>9</th>\n",
                            "      <td>2015-10-25</td>\n",
                            "      <td>1.09</td>\n",
                            "      <td>358478.08</td>\n",
                            "      <td>236814.29</td>\n",
                            "      <td>64607.97</td>\n",
                            "      <td>304.36</td>\n",
                            "      <td>56751.46</td>\n",
                            "      <td>31826.88</td>\n",
                            "      <td>24924.58</td>\n",
                            "      <td>0.0</td>\n",
                            "      <td>conventional</td>\n",
                            "      <td>2015</td>\n",
                            "      <td>Atlanta</td>\n",
                            "    </tr>\n",
                            "    <tr>\n",
                            "      <th>9</th>\n",
                            "      <td>2015-10-25</td>\n",
                            "      <td>1.19</td>\n",
                            "      <td>656892.03</td>\n",
                            "      <td>53766.25</td>\n",
                            "      <td>397911.35</td>\n",
                            "      <td>49085.74</td>\n",
                            "      <td>156128.69</td>\n",
                            "      <td>149987.55</td>\n",
                            "      <td>6141.14</td>\n",
                            "      <td>0.0</td>\n",
                            "      <td>conventional</td>\n",
                            "      <td>2015</td>\n",
                            "      <td>BaltimoreWashington</td>\n",
                            "    </tr>\n",
                            "    <tr>\n",
                            "      <th>9</th>\n",
                            "      <td>2015-10-25</td>\n",
                            "      <td>1.11</td>\n",
                            "      <td>59874.45</td>\n",
                            "      <td>29521.58</td>\n",
                            "      <td>10089.82</td>\n",
                            "      <td>6551.57</td>\n",
                            "      <td>13711.48</td>\n",
                            "      <td>13660.98</td>\n",
                            "      <td>0.00</td>\n",
                            "      <td>50.5</td>\n",
                            "      <td>conventional</td>\n",
                            "      <td>2015</td>\n",
                            "      <td>Boise</td>\n",
                            "    </tr>\n",
                            "    <tr>\n",
                            "      <th>9</th>\n",
                            "      <td>2015-10-25</td>\n",
                            "      <td>1.02</td>\n",
                            "      <td>534249.47</td>\n",
                            "      <td>4005.39</td>\n",
                            "      <td>430725.78</td>\n",
                            "      <td>191.31</td>\n",
                            "      <td>99326.99</td>\n",
                            "      <td>94581.94</td>\n",
                            "      <td>4745.05</td>\n",
                            "      <td>0.0</td>\n",
                            "      <td>conventional</td>\n",
                            "      <td>2015</td>\n",
                            "      <td>Boston</td>\n",
                            "    </tr>\n",
                            "  </tbody>\n",
                            "</table>\n",
                            "</div>"
                        ],
                        "text/plain": [
                            "        Date  AveragePrice  Total Volume       4046       4225      4770  \\\n",
                            "9 2015-10-25          1.07      74338.76     842.40   64757.44    113.00   \n",
                            "9 2015-10-25          1.09     358478.08  236814.29   64607.97    304.36   \n",
                            "9 2015-10-25          1.19     656892.03   53766.25  397911.35  49085.74   \n",
                            "9 2015-10-25          1.11      59874.45   29521.58   10089.82   6551.57   \n",
                            "9 2015-10-25          1.02     534249.47    4005.39  430725.78    191.31   \n",
                            "\n",
                            "   Total Bags  Small Bags  Large Bags  XLarge Bags          type  year  \\\n",
                            "9     8625.92     8061.47      564.45          0.0  conventional  2015   \n",
                            "9    56751.46    31826.88    24924.58          0.0  conventional  2015   \n",
                            "9   156128.69   149987.55     6141.14          0.0  conventional  2015   \n",
                            "9    13711.48    13660.98        0.00         50.5  conventional  2015   \n",
                            "9    99326.99    94581.94     4745.05          0.0  conventional  2015   \n",
                            "\n",
                            "                region  \n",
                            "9               Albany  \n",
                            "9              Atlanta  \n",
                            "9  BaltimoreWashington  \n",
                            "9                Boise  \n",
                            "9               Boston  "
                        ]
                    },
                    "execution_count": 242,
                    "metadata": {},
                    "output_type": "execute_result"
                }
            ],
            "source": [
                "df[condition].head()"
            ]
        },
        {
            "attachments": {},
            "cell_type": "markdown",
            "metadata": {},
            "source": [
                "Обычно можно найти такого рода выражения напрямую\n",
                "```python\n",
                "df[df['Date'] == '2015-10-25']\n",
                "```\n"
            ]
        },
        {
            "attachments": {},
            "cell_type": "markdown",
            "metadata": {},
            "source": [
                "## Логические выражения\n",
                "\n",
                "** Пример выражений**\n",
                "```python\n",
                "condition = df[col] > value\n",
                "condition = df[col] <= value\n",
                "condition = df[col] == value\n",
                "condition = df[col] != value\n",
                "# in list\n",
                "condition = df[col].isin([value1, value2])\n",
                "# not in list\n",
                "condition = ~df[col].isin([value1, value2])\n",
                "# between (inclusive)\n",
                "condition = df[col].between(value1, value2)\n",
                "```\n",
                "\n",
                "**Тогда мы можем объединить различные условия с логическими операторами, такими как `&` или `|`**\n",
                "```python\n",
                "df.loc[cond1 & cond2]\n",
                "df.loc[cond1 | cond2]\n",
                "```\n",
                "**Эти вышеупомянутые выражения могут быть выполнены `без оператора LOC`**\n",
                "```python\n",
                "df[cond1 & cond2]\n",
                "df[cond1 | cond2]\n",
                "```\n",
                "\n",
                "**TIP:** Многие проблемы можно избежать, используя скобку для каждого простого выражения в ситуациях, когда нам нужно объединить два или более условия."
            ]
        },
        {
            "cell_type": "code",
            "execution_count": 243,
            "metadata": {},
            "outputs": [
                {
                    "data": {
                        "text/html": [
                            "<div>\n",
                            "<style scoped>\n",
                            "    .dataframe tbody tr th:only-of-type {\n",
                            "        vertical-align: middle;\n",
                            "    }\n",
                            "\n",
                            "    .dataframe tbody tr th {\n",
                            "        vertical-align: top;\n",
                            "    }\n",
                            "\n",
                            "    .dataframe thead th {\n",
                            "        text-align: right;\n",
                            "    }\n",
                            "</style>\n",
                            "<table border=\"1\" class=\"dataframe\">\n",
                            "  <thead>\n",
                            "    <tr style=\"text-align: right;\">\n",
                            "      <th></th>\n",
                            "      <th>Date</th>\n",
                            "      <th>AveragePrice</th>\n",
                            "      <th>Total Volume</th>\n",
                            "      <th>4046</th>\n",
                            "      <th>4225</th>\n",
                            "      <th>4770</th>\n",
                            "      <th>Total Bags</th>\n",
                            "      <th>Small Bags</th>\n",
                            "      <th>Large Bags</th>\n",
                            "      <th>XLarge Bags</th>\n",
                            "      <th>type</th>\n",
                            "      <th>year</th>\n",
                            "      <th>region</th>\n",
                            "    </tr>\n",
                            "  </thead>\n",
                            "  <tbody>\n",
                            "    <tr>\n",
                            "      <th>9</th>\n",
                            "      <td>2015-10-25</td>\n",
                            "      <td>0.86</td>\n",
                            "      <td>1010394.81</td>\n",
                            "      <td>557469.46</td>\n",
                            "      <td>301143.50</td>\n",
                            "      <td>49959.10</td>\n",
                            "      <td>101822.75</td>\n",
                            "      <td>96417.63</td>\n",
                            "      <td>5279.41</td>\n",
                            "      <td>125.71</td>\n",
                            "      <td>conventional</td>\n",
                            "      <td>2015</td>\n",
                            "      <td>DallasFtWorth</td>\n",
                            "    </tr>\n",
                            "    <tr>\n",
                            "      <th>9</th>\n",
                            "      <td>2015-10-25</td>\n",
                            "      <td>0.88</td>\n",
                            "      <td>933623.58</td>\n",
                            "      <td>437329.85</td>\n",
                            "      <td>313129.29</td>\n",
                            "      <td>81274.85</td>\n",
                            "      <td>101889.59</td>\n",
                            "      <td>57577.21</td>\n",
                            "      <td>44260.60</td>\n",
                            "      <td>51.78</td>\n",
                            "      <td>conventional</td>\n",
                            "      <td>2015</td>\n",
                            "      <td>Houston</td>\n",
                            "    </tr>\n",
                            "    <tr>\n",
                            "      <th>9</th>\n",
                            "      <td>2015-10-25</td>\n",
                            "      <td>0.83</td>\n",
                            "      <td>761261.71</td>\n",
                            "      <td>435986.90</td>\n",
                            "      <td>240689.98</td>\n",
                            "      <td>19968.66</td>\n",
                            "      <td>64616.17</td>\n",
                            "      <td>64585.35</td>\n",
                            "      <td>30.82</td>\n",
                            "      <td>0.00</td>\n",
                            "      <td>conventional</td>\n",
                            "      <td>2015</td>\n",
                            "      <td>PhoenixTucson</td>\n",
                            "    </tr>\n",
                            "    <tr>\n",
                            "      <th>9</th>\n",
                            "      <td>2015-10-25</td>\n",
                            "      <td>0.86</td>\n",
                            "      <td>4912068.04</td>\n",
                            "      <td>2542914.87</td>\n",
                            "      <td>1537781.45</td>\n",
                            "      <td>247539.31</td>\n",
                            "      <td>583832.41</td>\n",
                            "      <td>475267.20</td>\n",
                            "      <td>108231.39</td>\n",
                            "      <td>333.82</td>\n",
                            "      <td>conventional</td>\n",
                            "      <td>2015</td>\n",
                            "      <td>SouthCentral</td>\n",
                            "    </tr>\n",
                            "    <tr>\n",
                            "      <th>9</th>\n",
                            "      <td>2015-10-25</td>\n",
                            "      <td>0.82</td>\n",
                            "      <td>635873.60</td>\n",
                            "      <td>363487.08</td>\n",
                            "      <td>166607.85</td>\n",
                            "      <td>31960.04</td>\n",
                            "      <td>73818.63</td>\n",
                            "      <td>72717.86</td>\n",
                            "      <td>1100.77</td>\n",
                            "      <td>0.00</td>\n",
                            "      <td>conventional</td>\n",
                            "      <td>2015</td>\n",
                            "      <td>WestTexNewMexico</td>\n",
                            "    </tr>\n",
                            "  </tbody>\n",
                            "</table>\n",
                            "</div>"
                        ],
                        "text/plain": [
                            "        Date  AveragePrice  Total Volume        4046        4225       4770  \\\n",
                            "9 2015-10-25          0.86    1010394.81   557469.46   301143.50   49959.10   \n",
                            "9 2015-10-25          0.88     933623.58   437329.85   313129.29   81274.85   \n",
                            "9 2015-10-25          0.83     761261.71   435986.90   240689.98   19968.66   \n",
                            "9 2015-10-25          0.86    4912068.04  2542914.87  1537781.45  247539.31   \n",
                            "9 2015-10-25          0.82     635873.60   363487.08   166607.85   31960.04   \n",
                            "\n",
                            "   Total Bags  Small Bags  Large Bags  XLarge Bags          type  year  \\\n",
                            "9   101822.75    96417.63     5279.41       125.71  conventional  2015   \n",
                            "9   101889.59    57577.21    44260.60        51.78  conventional  2015   \n",
                            "9    64616.17    64585.35       30.82         0.00  conventional  2015   \n",
                            "9   583832.41   475267.20   108231.39       333.82  conventional  2015   \n",
                            "9    73818.63    72717.86     1100.77         0.00  conventional  2015   \n",
                            "\n",
                            "             region  \n",
                            "9     DallasFtWorth  \n",
                            "9           Houston  \n",
                            "9     PhoenixTucson  \n",
                            "9      SouthCentral  \n",
                            "9  WestTexNewMexico  "
                        ]
                    },
                    "execution_count": 243,
                    "metadata": {},
                    "output_type": "execute_result"
                }
            ],
            "source": [
                "df[(df['Date'] == '2015-10-25') & (df['AveragePrice'] < 0.90)].head()"
            ]
        },
        {
            "attachments": {},
            "cell_type": "markdown",
            "metadata": {},
            "source": [
                "```python\n",
                "# Будьте осторожны с такими выражениями, которые потерпят неудачу при выполнении операции\n",
                "df[df['Date'] == '2015-10-25' & df['AveragePrice'] < .90]\n",
                "```\n"
            ]
        },
        {
            "attachments": {},
            "cell_type": "markdown",
            "metadata": {},
            "source": [
                "# .loc\\[\\] vs .iloc\\[\\]\n",
                "\n",
                "Доступ к рядам"
            ]
        },
        {
            "attachments": {},
            "cell_type": "markdown",
            "metadata": {},
            "source": [
                "## .loc \\ [\\]\n",
                "\n",
                "Этот оператор позволяет нам получить доступ к информации с помощью индексной метки, но по определению его можно использовать с логическим массивом, как мы видели с условиями:\n",
                "- Доступ к группе строк и столбцов по меткам (-ам) или логическому массиву.\n",
                "- .loc \\ [\\] в первую очередь основана на маркировке, но также может использоваться с логическим массивом."
            ]
        },
        {
            "attachments": {},
            "cell_type": "markdown",
            "metadata": {},
            "source": [
                "При использовании `df.info ()` мы обнаруживаем, что количество уникальных значений для индекса (значения домена индекса) включено от 0 до 11.Таким образом, мы можем использовать `.loc` для фильтрации рядов, где значение индекса составляет 9."
            ]
        },
        {
            "cell_type": "code",
            "execution_count": 244,
            "metadata": {},
            "outputs": [
                {
                    "data": {
                        "text/html": [
                            "<div>\n",
                            "<style scoped>\n",
                            "    .dataframe tbody tr th:only-of-type {\n",
                            "        vertical-align: middle;\n",
                            "    }\n",
                            "\n",
                            "    .dataframe tbody tr th {\n",
                            "        vertical-align: top;\n",
                            "    }\n",
                            "\n",
                            "    .dataframe thead th {\n",
                            "        text-align: right;\n",
                            "    }\n",
                            "</style>\n",
                            "<table border=\"1\" class=\"dataframe\">\n",
                            "  <thead>\n",
                            "    <tr style=\"text-align: right;\">\n",
                            "      <th></th>\n",
                            "      <th>Date</th>\n",
                            "      <th>AveragePrice</th>\n",
                            "      <th>Total Volume</th>\n",
                            "      <th>4046</th>\n",
                            "      <th>4225</th>\n",
                            "      <th>4770</th>\n",
                            "      <th>Total Bags</th>\n",
                            "      <th>Small Bags</th>\n",
                            "      <th>Large Bags</th>\n",
                            "      <th>XLarge Bags</th>\n",
                            "      <th>type</th>\n",
                            "      <th>year</th>\n",
                            "      <th>region</th>\n",
                            "    </tr>\n",
                            "  </thead>\n",
                            "  <tbody>\n",
                            "    <tr>\n",
                            "      <th>9</th>\n",
                            "      <td>2015-10-25</td>\n",
                            "      <td>1.07</td>\n",
                            "      <td>74338.76</td>\n",
                            "      <td>842.40</td>\n",
                            "      <td>64757.44</td>\n",
                            "      <td>113.00</td>\n",
                            "      <td>8625.92</td>\n",
                            "      <td>8061.47</td>\n",
                            "      <td>564.45</td>\n",
                            "      <td>0.00</td>\n",
                            "      <td>conventional</td>\n",
                            "      <td>2015</td>\n",
                            "      <td>Albany</td>\n",
                            "    </tr>\n",
                            "    <tr>\n",
                            "      <th>9</th>\n",
                            "      <td>2015-10-25</td>\n",
                            "      <td>1.09</td>\n",
                            "      <td>358478.08</td>\n",
                            "      <td>236814.29</td>\n",
                            "      <td>64607.97</td>\n",
                            "      <td>304.36</td>\n",
                            "      <td>56751.46</td>\n",
                            "      <td>31826.88</td>\n",
                            "      <td>24924.58</td>\n",
                            "      <td>0.00</td>\n",
                            "      <td>conventional</td>\n",
                            "      <td>2015</td>\n",
                            "      <td>Atlanta</td>\n",
                            "    </tr>\n",
                            "    <tr>\n",
                            "      <th>9</th>\n",
                            "      <td>2015-10-25</td>\n",
                            "      <td>1.19</td>\n",
                            "      <td>656892.03</td>\n",
                            "      <td>53766.25</td>\n",
                            "      <td>397911.35</td>\n",
                            "      <td>49085.74</td>\n",
                            "      <td>156128.69</td>\n",
                            "      <td>149987.55</td>\n",
                            "      <td>6141.14</td>\n",
                            "      <td>0.00</td>\n",
                            "      <td>conventional</td>\n",
                            "      <td>2015</td>\n",
                            "      <td>BaltimoreWashington</td>\n",
                            "    </tr>\n",
                            "    <tr>\n",
                            "      <th>9</th>\n",
                            "      <td>2015-10-25</td>\n",
                            "      <td>1.11</td>\n",
                            "      <td>59874.45</td>\n",
                            "      <td>29521.58</td>\n",
                            "      <td>10089.82</td>\n",
                            "      <td>6551.57</td>\n",
                            "      <td>13711.48</td>\n",
                            "      <td>13660.98</td>\n",
                            "      <td>0.00</td>\n",
                            "      <td>50.50</td>\n",
                            "      <td>conventional</td>\n",
                            "      <td>2015</td>\n",
                            "      <td>Boise</td>\n",
                            "    </tr>\n",
                            "    <tr>\n",
                            "      <th>9</th>\n",
                            "      <td>2015-10-25</td>\n",
                            "      <td>1.02</td>\n",
                            "      <td>534249.47</td>\n",
                            "      <td>4005.39</td>\n",
                            "      <td>430725.78</td>\n",
                            "      <td>191.31</td>\n",
                            "      <td>99326.99</td>\n",
                            "      <td>94581.94</td>\n",
                            "      <td>4745.05</td>\n",
                            "      <td>0.00</td>\n",
                            "      <td>conventional</td>\n",
                            "      <td>2015</td>\n",
                            "      <td>Boston</td>\n",
                            "    </tr>\n",
                            "    <tr>\n",
                            "      <th>...</th>\n",
                            "      <td>...</td>\n",
                            "      <td>...</td>\n",
                            "      <td>...</td>\n",
                            "      <td>...</td>\n",
                            "      <td>...</td>\n",
                            "      <td>...</td>\n",
                            "      <td>...</td>\n",
                            "      <td>...</td>\n",
                            "      <td>...</td>\n",
                            "      <td>...</td>\n",
                            "      <td>...</td>\n",
                            "      <td>...</td>\n",
                            "      <td>...</td>\n",
                            "    </tr>\n",
                            "    <tr>\n",
                            "      <th>9</th>\n",
                            "      <td>2018-01-21</td>\n",
                            "      <td>1.27</td>\n",
                            "      <td>3159.80</td>\n",
                            "      <td>92.12</td>\n",
                            "      <td>73.17</td>\n",
                            "      <td>0.00</td>\n",
                            "      <td>2994.51</td>\n",
                            "      <td>2117.69</td>\n",
                            "      <td>876.82</td>\n",
                            "      <td>0.00</td>\n",
                            "      <td>organic</td>\n",
                            "      <td>2018</td>\n",
                            "      <td>Syracuse</td>\n",
                            "    </tr>\n",
                            "    <tr>\n",
                            "      <th>9</th>\n",
                            "      <td>2018-01-21</td>\n",
                            "      <td>1.52</td>\n",
                            "      <td>6871.05</td>\n",
                            "      <td>76.66</td>\n",
                            "      <td>407.09</td>\n",
                            "      <td>0.00</td>\n",
                            "      <td>6387.30</td>\n",
                            "      <td>6375.55</td>\n",
                            "      <td>11.75</td>\n",
                            "      <td>0.00</td>\n",
                            "      <td>organic</td>\n",
                            "      <td>2018</td>\n",
                            "      <td>Tampa</td>\n",
                            "    </tr>\n",
                            "    <tr>\n",
                            "      <th>9</th>\n",
                            "      <td>2018-01-21</td>\n",
                            "      <td>1.63</td>\n",
                            "      <td>1283987.65</td>\n",
                            "      <td>108705.28</td>\n",
                            "      <td>259172.13</td>\n",
                            "      <td>1490.02</td>\n",
                            "      <td>914409.26</td>\n",
                            "      <td>710654.40</td>\n",
                            "      <td>203526.59</td>\n",
                            "      <td>228.27</td>\n",
                            "      <td>organic</td>\n",
                            "      <td>2018</td>\n",
                            "      <td>TotalUS</td>\n",
                            "    </tr>\n",
                            "    <tr>\n",
                            "      <th>9</th>\n",
                            "      <td>2018-01-21</td>\n",
                            "      <td>1.83</td>\n",
                            "      <td>189317.99</td>\n",
                            "      <td>27049.44</td>\n",
                            "      <td>33561.32</td>\n",
                            "      <td>439.47</td>\n",
                            "      <td>128267.76</td>\n",
                            "      <td>76091.99</td>\n",
                            "      <td>51947.50</td>\n",
                            "      <td>228.27</td>\n",
                            "      <td>organic</td>\n",
                            "      <td>2018</td>\n",
                            "      <td>West</td>\n",
                            "    </tr>\n",
                            "    <tr>\n",
                            "      <th>9</th>\n",
                            "      <td>2018-01-21</td>\n",
                            "      <td>1.87</td>\n",
                            "      <td>13766.76</td>\n",
                            "      <td>1191.92</td>\n",
                            "      <td>2452.79</td>\n",
                            "      <td>727.94</td>\n",
                            "      <td>9394.11</td>\n",
                            "      <td>9351.80</td>\n",
                            "      <td>42.31</td>\n",
                            "      <td>0.00</td>\n",
                            "      <td>organic</td>\n",
                            "      <td>2018</td>\n",
                            "      <td>WestTexNewMexico</td>\n",
                            "    </tr>\n",
                            "  </tbody>\n",
                            "</table>\n",
                            "<p>432 rows × 13 columns</p>\n",
                            "</div>"
                        ],
                        "text/plain": [
                            "         Date  AveragePrice  Total Volume       4046       4225      4770  \\\n",
                            "9  2015-10-25          1.07      74338.76     842.40   64757.44    113.00   \n",
                            "9  2015-10-25          1.09     358478.08  236814.29   64607.97    304.36   \n",
                            "9  2015-10-25          1.19     656892.03   53766.25  397911.35  49085.74   \n",
                            "9  2015-10-25          1.11      59874.45   29521.58   10089.82   6551.57   \n",
                            "9  2015-10-25          1.02     534249.47    4005.39  430725.78    191.31   \n",
                            "..        ...           ...           ...        ...        ...       ...   \n",
                            "9  2018-01-21          1.27       3159.80      92.12      73.17      0.00   \n",
                            "9  2018-01-21          1.52       6871.05      76.66     407.09      0.00   \n",
                            "9  2018-01-21          1.63    1283987.65  108705.28  259172.13   1490.02   \n",
                            "9  2018-01-21          1.83     189317.99   27049.44   33561.32    439.47   \n",
                            "9  2018-01-21          1.87      13766.76    1191.92    2452.79    727.94   \n",
                            "\n",
                            "    Total Bags  Small Bags  Large Bags  XLarge Bags          type  year  \\\n",
                            "9      8625.92     8061.47      564.45         0.00  conventional  2015   \n",
                            "9     56751.46    31826.88    24924.58         0.00  conventional  2015   \n",
                            "9    156128.69   149987.55     6141.14         0.00  conventional  2015   \n",
                            "9     13711.48    13660.98        0.00        50.50  conventional  2015   \n",
                            "9     99326.99    94581.94     4745.05         0.00  conventional  2015   \n",
                            "..         ...         ...         ...          ...           ...   ...   \n",
                            "9      2994.51     2117.69      876.82         0.00       organic  2018   \n",
                            "9      6387.30     6375.55       11.75         0.00       organic  2018   \n",
                            "9    914409.26   710654.40   203526.59       228.27       organic  2018   \n",
                            "9    128267.76    76091.99    51947.50       228.27       organic  2018   \n",
                            "9      9394.11     9351.80       42.31         0.00       organic  2018   \n",
                            "\n",
                            "                 region  \n",
                            "9                Albany  \n",
                            "9               Atlanta  \n",
                            "9   BaltimoreWashington  \n",
                            "9                 Boise  \n",
                            "9                Boston  \n",
                            "..                  ...  \n",
                            "9              Syracuse  \n",
                            "9                 Tampa  \n",
                            "9               TotalUS  \n",
                            "9                  West  \n",
                            "9      WestTexNewMexico  \n",
                            "\n",
                            "[432 rows x 13 columns]"
                        ]
                    },
                    "execution_count": 244,
                    "metadata": {},
                    "output_type": "execute_result"
                }
            ],
            "source": [
                "df.loc[9]"
            ]
        },
        {
            "attachments": {},
            "cell_type": "markdown",
            "metadata": {},
            "source": [
                "## .iloc\\[\\]\n",
                "\n",
                "Этот оператор позволяет нам получить доступ к информации по позиции индекса так, как мы обычно делаем с другими языками программирования, такими как C.\n",
                "- чисто индексация на основе целочисленного размещения для выбора по положению.\n",
                "- .iloc [] является в первую очередь на основе целочисленного положения (от 0 до длины 1 оси), но также может использоваться с логическим массивом."
            ]
        },
        {
            "attachments": {},
            "cell_type": "markdown",
            "metadata": {},
            "source": [
                "При использовании `df.iloc [9]` мы собираемся получить доступ к 10 -й строке в DataFrame DF. Возвращенное значение должно быть представлено серией типа со значениями строки (`df.iloc [9] .values`) в виде значений и имен столбцов в качестве индекса серии."
            ]
        },
        {
            "cell_type": "code",
            "execution_count": 245,
            "metadata": {},
            "outputs": [
                {
                    "data": {
                        "text/plain": [
                            "Date            2015-10-25 00:00:00\n",
                            "AveragePrice                   1.07\n",
                            "Total Volume               74338.76\n",
                            "4046                          842.4\n",
                            "4225                       64757.44\n",
                            "4770                          113.0\n",
                            "Total Bags                  8625.92\n",
                            "Small Bags                  8061.47\n",
                            "Large Bags                   564.45\n",
                            "XLarge Bags                     0.0\n",
                            "type                   conventional\n",
                            "year                           2015\n",
                            "region                       Albany\n",
                            "Name: 9, dtype: object"
                        ]
                    },
                    "execution_count": 245,
                    "metadata": {},
                    "output_type": "execute_result"
                }
            ],
            "source": [
                "df.iloc[9]"
            ]
        },
        {
            "cell_type": "code",
            "execution_count": 246,
            "metadata": {},
            "outputs": [
                {
                    "data": {
                        "text/plain": [
                            "pandas.core.series.Series"
                        ]
                    },
                    "execution_count": 246,
                    "metadata": {},
                    "output_type": "execute_result"
                }
            ],
            "source": [
                "type(df.iloc[9])"
            ]
        },
        {
            "attachments": {},
            "cell_type": "markdown",
            "metadata": {},
            "source": [
                "The name of the series is the index label value of the original dataframe."
            ]
        },
        {
            "attachments": {},
            "cell_type": "markdown",
            "metadata": {},
            "source": [
                "<center><h3 style='color:gray; display:block; align:center;'>TIP: Практикуйте, чтобы действительно узнать, как и когда использовать .loc vs i.loc</h3></center>"
            ]
        },
        {
            "attachments": {},
            "cell_type": "markdown",
            "metadata": {},
            "source": [
                "# Математические и другие методы на данных о данных\n",
                "\n",
                "Серия Pandas и DataFrame предлагают доступ к сотням методов для работы на них, таких как: *sum (), mul (), среднее (), std (), max (), min () и т. Д. *.Все эти методы обычно работают по умолчанию по столбцам, но они могут работать над рядами."
            ]
        },
        {
            "attachments": {},
            "cell_type": "markdown",
            "metadata": {},
            "source": [
                "Посмотрите на следующие результаты ячейки и постарайтесь подумать о том, что произошло (посмотрите на такие поля, как тип или область)."
            ]
        },
        {
            "cell_type": "code",
            "execution_count": 247,
            "metadata": {},
            "outputs": [
                {
                    "name": "stderr",
                    "output_type": "stream",
                    "text": [
                        "C:\\Users\\admin\\AppData\\Local\\Temp/ipykernel_7432/1703867807.py:1: FutureWarning: The default value of numeric_only in DataFrame.sum is deprecated. In a future version, it will default to False. In addition, specifying 'numeric_only=None' is deprecated. Select only valid columns or specify the value of numeric_only to silence this warning.\n",
                        "  df.sum()\n"
                    ]
                },
                {
                    "data": {
                        "text/plain": [
                            "AveragePrice                                              25657.7\n",
                            "Total Volume                                   15523402593.400002\n",
                            "4046                                                5347110739.26\n",
                            "4225                                                5386275717.93\n",
                            "4770                                                 416802342.13\n",
                            "Total Bags                                      4373175798.389999\n",
                            "Small Bags                                          3324870837.51\n",
                            "Large Bags                                           991615770.55\n",
                            "XLarge Bags                                           56689177.33\n",
                            "type            conventionalconventionalconventionalconvention...\n",
                            "year                                                     36792683\n",
                            "region          AlbanyAlbanyAlbanyAlbanyAlbanyAlbanyAlbanyAlba...\n",
                            "dtype: object"
                        ]
                    },
                    "execution_count": 247,
                    "metadata": {},
                    "output_type": "execute_result"
                }
            ],
            "source": [
                "df.sum()"
            ]
        },
        {
            "cell_type": "code",
            "execution_count": 248,
            "metadata": {},
            "outputs": [
                {
                    "data": {
                        "text/plain": [
                            "1.405978409775878"
                        ]
                    },
                    "execution_count": 248,
                    "metadata": {},
                    "output_type": "execute_result"
                }
            ],
            "source": [
                "df['AveragePrice'].mean()"
            ]
        },
        {
            "attachments": {},
            "cell_type": "markdown",
            "metadata": {},
            "source": [
                "# Missing Data\n",
                "Это критическая проблема для любого ученых данных и заслуживает своей собственной лекции.Что делать, когда некоторые данные отсутствуют?\n",
                "\n",
                "Pandas предлагает некоторые варианты для изучения DataFrame в поисках отсутствующих данных.\n",
                "\n",
                "```python\n",
                "# returns a boolean dataframe of the same size with True values for cells where values are NaN\n",
                "df.isna()\n",
                "# returns a boolean dataframe of the same size with True values for cells where values aren't NaN\n",
                "df.notna()\n",
                "# alias of the above methods\n",
                "df.isnull()\n",
                "df.notnull()\n",
                "```"
            ]
        },
        {
            "attachments": {},
            "cell_type": "markdown",
            "metadata": {},
            "source": [
                "Count the number of NaN values for every column"
            ]
        },
        {
            "cell_type": "code",
            "execution_count": 249,
            "metadata": {},
            "outputs": [
                {
                    "data": {
                        "text/plain": [
                            "Date            0\n",
                            "AveragePrice    0\n",
                            "Total Volume    0\n",
                            "4046            0\n",
                            "4225            0\n",
                            "4770            0\n",
                            "Total Bags      0\n",
                            "Small Bags      0\n",
                            "Large Bags      0\n",
                            "XLarge Bags     0\n",
                            "type            0\n",
                            "year            0\n",
                            "region          0\n",
                            "dtype: int64"
                        ]
                    },
                    "execution_count": 249,
                    "metadata": {},
                    "output_type": "execute_result"
                }
            ],
            "source": [
                "df.isna().sum()"
            ]
        },
        {
            "attachments": {},
            "cell_type": "markdown",
            "metadata": {},
            "source": [
                "Count the number of NaN values per row"
            ]
        },
        {
            "cell_type": "code",
            "execution_count": 250,
            "metadata": {},
            "outputs": [
                {
                    "data": {
                        "text/plain": [
                            "0     0\n",
                            "1     0\n",
                            "2     0\n",
                            "3     0\n",
                            "4     0\n",
                            "     ..\n",
                            "7     0\n",
                            "8     0\n",
                            "9     0\n",
                            "10    0\n",
                            "11    0\n",
                            "Length: 18249, dtype: int64"
                        ]
                    },
                    "execution_count": 250,
                    "metadata": {},
                    "output_type": "execute_result"
                }
            ],
            "source": [
                "df.isna().sum(axis=1)"
            ]
        },
        {
            "attachments": {},
            "cell_type": "markdown",
            "metadata": {},
            "source": [
                "Count the total number of NaN values in the dataframe"
            ]
        },
        {
            "cell_type": "code",
            "execution_count": 251,
            "metadata": {},
            "outputs": [
                {
                    "data": {
                        "text/plain": [
                            "0"
                        ]
                    },
                    "execution_count": 251,
                    "metadata": {},
                    "output_type": "execute_result"
                }
            ],
            "source": [
                "df.isna().sum().sum()"
            ]
        },
        {
            "attachments": {},
            "cell_type": "markdown",
            "metadata": {},
            "source": [
                "Select the rows with at least one NaN value"
            ]
        },
        {
            "cell_type": "code",
            "execution_count": 252,
            "metadata": {},
            "outputs": [
                {
                    "data": {
                        "text/html": [
                            "<div>\n",
                            "<style scoped>\n",
                            "    .dataframe tbody tr th:only-of-type {\n",
                            "        vertical-align: middle;\n",
                            "    }\n",
                            "\n",
                            "    .dataframe tbody tr th {\n",
                            "        vertical-align: top;\n",
                            "    }\n",
                            "\n",
                            "    .dataframe thead th {\n",
                            "        text-align: right;\n",
                            "    }\n",
                            "</style>\n",
                            "<table border=\"1\" class=\"dataframe\">\n",
                            "  <thead>\n",
                            "    <tr style=\"text-align: right;\">\n",
                            "      <th></th>\n",
                            "      <th>Date</th>\n",
                            "      <th>AveragePrice</th>\n",
                            "      <th>Total Volume</th>\n",
                            "      <th>4046</th>\n",
                            "      <th>4225</th>\n",
                            "      <th>4770</th>\n",
                            "      <th>Total Bags</th>\n",
                            "      <th>Small Bags</th>\n",
                            "      <th>Large Bags</th>\n",
                            "      <th>XLarge Bags</th>\n",
                            "      <th>type</th>\n",
                            "      <th>year</th>\n",
                            "      <th>region</th>\n",
                            "    </tr>\n",
                            "  </thead>\n",
                            "  <tbody>\n",
                            "  </tbody>\n",
                            "</table>\n",
                            "</div>"
                        ],
                        "text/plain": [
                            "Empty DataFrame\n",
                            "Columns: [Date, AveragePrice, Total Volume, 4046, 4225, 4770, Total Bags, Small Bags, Large Bags, XLarge Bags, type, year, region]\n",
                            "Index: []"
                        ]
                    },
                    "execution_count": 252,
                    "metadata": {},
                    "output_type": "execute_result"
                }
            ],
            "source": [
                "df[df.isna().any(axis=1)]"
            ]
        },
        {
            "attachments": {},
            "cell_type": "markdown",
            "metadata": {},
            "source": [
                "Существуют конкретные методы, связанные с этой проблемой, как:\n",
                "- `fillna()`\n",
                "- `bfill()`\n",
                "- `ffill()`\n",
                "- `dropna()`\n",
                "\n",
                "It's important to learn to handle [missing data](https://pandas.pydata.org/pandas-docs/stable/user_guide/missing_data.html)"
            ]
        },
        {
            "attachments": {},
            "cell_type": "markdown",
            "metadata": {},
            "source": [
                "# Dropping\n",
                "\n",
                "Иногда вы захотите отказаться от информации.Вот пример того, как использовать [`drop`](https://pandas.pydata.org/pandas-docs/stable/reference/api/pandas.DataFrame.drop.html) method to do that.\n",
                "\n",
                "```python\n",
                "df.drop(labels=None, axis=0, index=None, columns=None, level=None, inplace=False, errors='raise')\n",
                "```\n"
            ]
        },
        {
            "cell_type": "code",
            "execution_count": 253,
            "metadata": {},
            "outputs": [
                {
                    "data": {
                        "text/html": [
                            "<div>\n",
                            "<style scoped>\n",
                            "    .dataframe tbody tr th:only-of-type {\n",
                            "        vertical-align: middle;\n",
                            "    }\n",
                            "\n",
                            "    .dataframe tbody tr th {\n",
                            "        vertical-align: top;\n",
                            "    }\n",
                            "\n",
                            "    .dataframe thead th {\n",
                            "        text-align: right;\n",
                            "    }\n",
                            "</style>\n",
                            "<table border=\"1\" class=\"dataframe\">\n",
                            "  <thead>\n",
                            "    <tr style=\"text-align: right;\">\n",
                            "      <th></th>\n",
                            "      <th>Date</th>\n",
                            "      <th>AveragePrice</th>\n",
                            "      <th>Total Volume</th>\n",
                            "      <th>type</th>\n",
                            "      <th>year</th>\n",
                            "      <th>region</th>\n",
                            "    </tr>\n",
                            "  </thead>\n",
                            "  <tbody>\n",
                            "    <tr>\n",
                            "      <th>0</th>\n",
                            "      <td>2015-12-27</td>\n",
                            "      <td>1.33</td>\n",
                            "      <td>64236.62</td>\n",
                            "      <td>conventional</td>\n",
                            "      <td>2015</td>\n",
                            "      <td>Albany</td>\n",
                            "    </tr>\n",
                            "    <tr>\n",
                            "      <th>1</th>\n",
                            "      <td>2015-12-20</td>\n",
                            "      <td>1.35</td>\n",
                            "      <td>54876.98</td>\n",
                            "      <td>conventional</td>\n",
                            "      <td>2015</td>\n",
                            "      <td>Albany</td>\n",
                            "    </tr>\n",
                            "    <tr>\n",
                            "      <th>2</th>\n",
                            "      <td>2015-12-13</td>\n",
                            "      <td>0.93</td>\n",
                            "      <td>118220.22</td>\n",
                            "      <td>conventional</td>\n",
                            "      <td>2015</td>\n",
                            "      <td>Albany</td>\n",
                            "    </tr>\n",
                            "    <tr>\n",
                            "      <th>3</th>\n",
                            "      <td>2015-12-06</td>\n",
                            "      <td>1.08</td>\n",
                            "      <td>78992.15</td>\n",
                            "      <td>conventional</td>\n",
                            "      <td>2015</td>\n",
                            "      <td>Albany</td>\n",
                            "    </tr>\n",
                            "    <tr>\n",
                            "      <th>4</th>\n",
                            "      <td>2015-11-29</td>\n",
                            "      <td>1.28</td>\n",
                            "      <td>51039.60</td>\n",
                            "      <td>conventional</td>\n",
                            "      <td>2015</td>\n",
                            "      <td>Albany</td>\n",
                            "    </tr>\n",
                            "    <tr>\n",
                            "      <th>...</th>\n",
                            "      <td>...</td>\n",
                            "      <td>...</td>\n",
                            "      <td>...</td>\n",
                            "      <td>...</td>\n",
                            "      <td>...</td>\n",
                            "      <td>...</td>\n",
                            "    </tr>\n",
                            "    <tr>\n",
                            "      <th>7</th>\n",
                            "      <td>2018-02-04</td>\n",
                            "      <td>1.63</td>\n",
                            "      <td>17074.83</td>\n",
                            "      <td>organic</td>\n",
                            "      <td>2018</td>\n",
                            "      <td>WestTexNewMexico</td>\n",
                            "    </tr>\n",
                            "    <tr>\n",
                            "      <th>8</th>\n",
                            "      <td>2018-01-28</td>\n",
                            "      <td>1.71</td>\n",
                            "      <td>13888.04</td>\n",
                            "      <td>organic</td>\n",
                            "      <td>2018</td>\n",
                            "      <td>WestTexNewMexico</td>\n",
                            "    </tr>\n",
                            "    <tr>\n",
                            "      <th>9</th>\n",
                            "      <td>2018-01-21</td>\n",
                            "      <td>1.87</td>\n",
                            "      <td>13766.76</td>\n",
                            "      <td>organic</td>\n",
                            "      <td>2018</td>\n",
                            "      <td>WestTexNewMexico</td>\n",
                            "    </tr>\n",
                            "    <tr>\n",
                            "      <th>10</th>\n",
                            "      <td>2018-01-14</td>\n",
                            "      <td>1.93</td>\n",
                            "      <td>16205.22</td>\n",
                            "      <td>organic</td>\n",
                            "      <td>2018</td>\n",
                            "      <td>WestTexNewMexico</td>\n",
                            "    </tr>\n",
                            "    <tr>\n",
                            "      <th>11</th>\n",
                            "      <td>2018-01-07</td>\n",
                            "      <td>1.62</td>\n",
                            "      <td>17489.58</td>\n",
                            "      <td>organic</td>\n",
                            "      <td>2018</td>\n",
                            "      <td>WestTexNewMexico</td>\n",
                            "    </tr>\n",
                            "  </tbody>\n",
                            "</table>\n",
                            "<p>18249 rows × 6 columns</p>\n",
                            "</div>"
                        ],
                        "text/plain": [
                            "         Date  AveragePrice  Total Volume          type  year  \\\n",
                            "0  2015-12-27          1.33      64236.62  conventional  2015   \n",
                            "1  2015-12-20          1.35      54876.98  conventional  2015   \n",
                            "2  2015-12-13          0.93     118220.22  conventional  2015   \n",
                            "3  2015-12-06          1.08      78992.15  conventional  2015   \n",
                            "4  2015-11-29          1.28      51039.60  conventional  2015   \n",
                            "..        ...           ...           ...           ...   ...   \n",
                            "7  2018-02-04          1.63      17074.83       organic  2018   \n",
                            "8  2018-01-28          1.71      13888.04       organic  2018   \n",
                            "9  2018-01-21          1.87      13766.76       organic  2018   \n",
                            "10 2018-01-14          1.93      16205.22       organic  2018   \n",
                            "11 2018-01-07          1.62      17489.58       organic  2018   \n",
                            "\n",
                            "              region  \n",
                            "0             Albany  \n",
                            "1             Albany  \n",
                            "2             Albany  \n",
                            "3             Albany  \n",
                            "4             Albany  \n",
                            "..               ...  \n",
                            "7   WestTexNewMexico  \n",
                            "8   WestTexNewMexico  \n",
                            "9   WestTexNewMexico  \n",
                            "10  WestTexNewMexico  \n",
                            "11  WestTexNewMexico  \n",
                            "\n",
                            "[18249 rows x 6 columns]"
                        ]
                    },
                    "execution_count": 253,
                    "metadata": {},
                    "output_type": "execute_result"
                }
            ],
            "source": [
                "drop_columns = ['4046', '4225', '4770', 'Total Bags', 'Small Bags', 'Large Bags', 'XLarge Bags']\n",
                "df = df.drop(columns=drop_columns)\n",
                "df"
            ]
        },
        {
            "attachments": {},
            "cell_type": "markdown",
            "metadata": {},
            "source": [
                "# Sorting\n",
                "\n",
                "[`sort_values`](https://pandas.pydata.org/docs/reference/api/pandas.DataFrame.sort_values.html) and [`sort_index`](https://pandas.pydata.org/docs/reference/api/pandas.DataFrame.sort_index.html) являются общими методами при использовании панд.\n",
                "**sort_values**: Сортировать по значениям вдоль любой оси.\n",
                "```python\n",
                "df.sort_values(by, axis=0, ascending=True, inplace=False, kind='quicksort',\n",
                "               na_position='last', ignore_index=False, key=None)\n",
                "```"
            ]
        },
        {
            "attachments": {},
            "cell_type": "markdown",
            "metadata": {},
            "source": [
                "Следующие данные фильтра сотового фильтра для конкретной даты и типа.Затем сортируйте значения по региону в порядке возрастания и, наконец, отобразите только первые 10 рядов."
            ]
        },
        {
            "cell_type": "code",
            "execution_count": 254,
            "metadata": {},
            "outputs": [
                {
                    "data": {
                        "text/html": [
                            "<div>\n",
                            "<style scoped>\n",
                            "    .dataframe tbody tr th:only-of-type {\n",
                            "        vertical-align: middle;\n",
                            "    }\n",
                            "\n",
                            "    .dataframe tbody tr th {\n",
                            "        vertical-align: top;\n",
                            "    }\n",
                            "\n",
                            "    .dataframe thead th {\n",
                            "        text-align: right;\n",
                            "    }\n",
                            "</style>\n",
                            "<table border=\"1\" class=\"dataframe\">\n",
                            "  <thead>\n",
                            "    <tr style=\"text-align: right;\">\n",
                            "      <th></th>\n",
                            "      <th>Date</th>\n",
                            "      <th>AveragePrice</th>\n",
                            "      <th>Total Volume</th>\n",
                            "      <th>type</th>\n",
                            "      <th>year</th>\n",
                            "      <th>region</th>\n",
                            "    </tr>\n",
                            "  </thead>\n",
                            "  <tbody>\n",
                            "    <tr>\n",
                            "      <th>11</th>\n",
                            "      <td>2018-01-07</td>\n",
                            "      <td>1.54</td>\n",
                            "      <td>4816.90</td>\n",
                            "      <td>organic</td>\n",
                            "      <td>2018</td>\n",
                            "      <td>Albany</td>\n",
                            "    </tr>\n",
                            "    <tr>\n",
                            "      <th>11</th>\n",
                            "      <td>2018-01-07</td>\n",
                            "      <td>1.53</td>\n",
                            "      <td>15714.11</td>\n",
                            "      <td>organic</td>\n",
                            "      <td>2018</td>\n",
                            "      <td>Atlanta</td>\n",
                            "    </tr>\n",
                            "    <tr>\n",
                            "      <th>11</th>\n",
                            "      <td>2018-01-07</td>\n",
                            "      <td>1.15</td>\n",
                            "      <td>82282.71</td>\n",
                            "      <td>organic</td>\n",
                            "      <td>2018</td>\n",
                            "      <td>BaltimoreWashington</td>\n",
                            "    </tr>\n",
                            "    <tr>\n",
                            "      <th>11</th>\n",
                            "      <td>2018-01-07</td>\n",
                            "      <td>1.77</td>\n",
                            "      <td>2553.90</td>\n",
                            "      <td>organic</td>\n",
                            "      <td>2018</td>\n",
                            "      <td>Boise</td>\n",
                            "    </tr>\n",
                            "    <tr>\n",
                            "      <th>11</th>\n",
                            "      <td>2018-01-07</td>\n",
                            "      <td>1.91</td>\n",
                            "      <td>30096.00</td>\n",
                            "      <td>organic</td>\n",
                            "      <td>2018</td>\n",
                            "      <td>Boston</td>\n",
                            "    </tr>\n",
                            "    <tr>\n",
                            "      <th>11</th>\n",
                            "      <td>2018-01-07</td>\n",
                            "      <td>1.17</td>\n",
                            "      <td>9115.92</td>\n",
                            "      <td>organic</td>\n",
                            "      <td>2018</td>\n",
                            "      <td>BuffaloRochester</td>\n",
                            "    </tr>\n",
                            "    <tr>\n",
                            "      <th>11</th>\n",
                            "      <td>2018-01-07</td>\n",
                            "      <td>1.95</td>\n",
                            "      <td>156341.57</td>\n",
                            "      <td>organic</td>\n",
                            "      <td>2018</td>\n",
                            "      <td>California</td>\n",
                            "    </tr>\n",
                            "    <tr>\n",
                            "      <th>11</th>\n",
                            "      <td>2018-01-07</td>\n",
                            "      <td>1.08</td>\n",
                            "      <td>28741.11</td>\n",
                            "      <td>organic</td>\n",
                            "      <td>2018</td>\n",
                            "      <td>Charlotte</td>\n",
                            "    </tr>\n",
                            "    <tr>\n",
                            "      <th>11</th>\n",
                            "      <td>2018-01-07</td>\n",
                            "      <td>1.83</td>\n",
                            "      <td>41573.25</td>\n",
                            "      <td>organic</td>\n",
                            "      <td>2018</td>\n",
                            "      <td>Chicago</td>\n",
                            "    </tr>\n",
                            "    <tr>\n",
                            "      <th>11</th>\n",
                            "      <td>2018-01-07</td>\n",
                            "      <td>1.71</td>\n",
                            "      <td>13141.82</td>\n",
                            "      <td>organic</td>\n",
                            "      <td>2018</td>\n",
                            "      <td>CincinnatiDayton</td>\n",
                            "    </tr>\n",
                            "  </tbody>\n",
                            "</table>\n",
                            "</div>"
                        ],
                        "text/plain": [
                            "         Date  AveragePrice  Total Volume     type  year               region\n",
                            "11 2018-01-07          1.54       4816.90  organic  2018               Albany\n",
                            "11 2018-01-07          1.53      15714.11  organic  2018              Atlanta\n",
                            "11 2018-01-07          1.15      82282.71  organic  2018  BaltimoreWashington\n",
                            "11 2018-01-07          1.77       2553.90  organic  2018                Boise\n",
                            "11 2018-01-07          1.91      30096.00  organic  2018               Boston\n",
                            "11 2018-01-07          1.17       9115.92  organic  2018     BuffaloRochester\n",
                            "11 2018-01-07          1.95     156341.57  organic  2018           California\n",
                            "11 2018-01-07          1.08      28741.11  organic  2018            Charlotte\n",
                            "11 2018-01-07          1.83      41573.25  organic  2018              Chicago\n",
                            "11 2018-01-07          1.71      13141.82  organic  2018     CincinnatiDayton"
                        ]
                    },
                    "execution_count": 254,
                    "metadata": {},
                    "output_type": "execute_result"
                }
            ],
            "source": [
                "condition = (df['Date'] == '2018-01-07') & (df['type'] == 'organic')\n",
                "df[condition].sort_values(by='region').head(10)"
            ]
        },
        {
            "attachments": {},
            "cell_type": "markdown",
            "metadata": {},
            "source": [
                "Сортировка может использовать больше столбцов, используя список Python с некоторыми параметрами."
            ]
        },
        {
            "cell_type": "code",
            "execution_count": 255,
            "metadata": {},
            "outputs": [
                {
                    "data": {
                        "text/html": [
                            "<div>\n",
                            "<style scoped>\n",
                            "    .dataframe tbody tr th:only-of-type {\n",
                            "        vertical-align: middle;\n",
                            "    }\n",
                            "\n",
                            "    .dataframe tbody tr th {\n",
                            "        vertical-align: top;\n",
                            "    }\n",
                            "\n",
                            "    .dataframe thead th {\n",
                            "        text-align: right;\n",
                            "    }\n",
                            "</style>\n",
                            "<table border=\"1\" class=\"dataframe\">\n",
                            "  <thead>\n",
                            "    <tr style=\"text-align: right;\">\n",
                            "      <th></th>\n",
                            "      <th>Date</th>\n",
                            "      <th>AveragePrice</th>\n",
                            "      <th>Total Volume</th>\n",
                            "      <th>type</th>\n",
                            "      <th>year</th>\n",
                            "      <th>region</th>\n",
                            "    </tr>\n",
                            "  </thead>\n",
                            "  <tbody>\n",
                            "    <tr>\n",
                            "      <th>11</th>\n",
                            "      <td>2018-01-07</td>\n",
                            "      <td>1.54</td>\n",
                            "      <td>4816.90</td>\n",
                            "      <td>organic</td>\n",
                            "      <td>2018</td>\n",
                            "      <td>Albany</td>\n",
                            "    </tr>\n",
                            "    <tr>\n",
                            "      <th>11</th>\n",
                            "      <td>2018-01-07</td>\n",
                            "      <td>1.53</td>\n",
                            "      <td>15714.11</td>\n",
                            "      <td>organic</td>\n",
                            "      <td>2018</td>\n",
                            "      <td>Atlanta</td>\n",
                            "    </tr>\n",
                            "    <tr>\n",
                            "      <th>11</th>\n",
                            "      <td>2018-01-07</td>\n",
                            "      <td>1.15</td>\n",
                            "      <td>82282.71</td>\n",
                            "      <td>organic</td>\n",
                            "      <td>2018</td>\n",
                            "      <td>BaltimoreWashington</td>\n",
                            "    </tr>\n",
                            "    <tr>\n",
                            "      <th>11</th>\n",
                            "      <td>2018-01-07</td>\n",
                            "      <td>1.77</td>\n",
                            "      <td>2553.90</td>\n",
                            "      <td>organic</td>\n",
                            "      <td>2018</td>\n",
                            "      <td>Boise</td>\n",
                            "    </tr>\n",
                            "    <tr>\n",
                            "      <th>11</th>\n",
                            "      <td>2018-01-07</td>\n",
                            "      <td>1.91</td>\n",
                            "      <td>30096.00</td>\n",
                            "      <td>organic</td>\n",
                            "      <td>2018</td>\n",
                            "      <td>Boston</td>\n",
                            "    </tr>\n",
                            "  </tbody>\n",
                            "</table>\n",
                            "</div>"
                        ],
                        "text/plain": [
                            "         Date  AveragePrice  Total Volume     type  year               region\n",
                            "11 2018-01-07          1.54       4816.90  organic  2018               Albany\n",
                            "11 2018-01-07          1.53      15714.11  organic  2018              Atlanta\n",
                            "11 2018-01-07          1.15      82282.71  organic  2018  BaltimoreWashington\n",
                            "11 2018-01-07          1.77       2553.90  organic  2018                Boise\n",
                            "11 2018-01-07          1.91      30096.00  organic  2018               Boston"
                        ]
                    },
                    "execution_count": 255,
                    "metadata": {},
                    "output_type": "execute_result"
                }
            ],
            "source": [
                "df[condition].sort_values(by=['region', 'AveragePrice'], ascending=[True, False]).head()"
            ]
        },
        {
            "attachments": {},
            "cell_type": "markdown",
            "metadata": {},
            "source": [
                "**sort_index**: объект сортировки по меткам (по оси)\n",
                "```python\n",
                "df.sort_index(axis=0, level=None, ascending=True, inplace=False, kind='quicksort', na_position='last', sort_remaining=True, ignore_index=False, key=None)\n",
                "```\n",
                "Следующие строки сортировки ячейки на основе значений индекса (в порядке возрастания)"
            ]
        },
        {
            "cell_type": "code",
            "execution_count": 256,
            "metadata": {},
            "outputs": [
                {
                    "data": {
                        "text/html": [
                            "<div>\n",
                            "<style scoped>\n",
                            "    .dataframe tbody tr th:only-of-type {\n",
                            "        vertical-align: middle;\n",
                            "    }\n",
                            "\n",
                            "    .dataframe tbody tr th {\n",
                            "        vertical-align: top;\n",
                            "    }\n",
                            "\n",
                            "    .dataframe thead th {\n",
                            "        text-align: right;\n",
                            "    }\n",
                            "</style>\n",
                            "<table border=\"1\" class=\"dataframe\">\n",
                            "  <thead>\n",
                            "    <tr style=\"text-align: right;\">\n",
                            "      <th></th>\n",
                            "      <th>Date</th>\n",
                            "      <th>AveragePrice</th>\n",
                            "      <th>Total Volume</th>\n",
                            "      <th>type</th>\n",
                            "      <th>year</th>\n",
                            "      <th>region</th>\n",
                            "    </tr>\n",
                            "  </thead>\n",
                            "  <tbody>\n",
                            "    <tr>\n",
                            "      <th>0</th>\n",
                            "      <td>2015-12-27</td>\n",
                            "      <td>1.33</td>\n",
                            "      <td>64236.62</td>\n",
                            "      <td>conventional</td>\n",
                            "      <td>2015</td>\n",
                            "      <td>Albany</td>\n",
                            "    </tr>\n",
                            "    <tr>\n",
                            "      <th>0</th>\n",
                            "      <td>2016-12-25</td>\n",
                            "      <td>1.85</td>\n",
                            "      <td>8657.87</td>\n",
                            "      <td>organic</td>\n",
                            "      <td>2016</td>\n",
                            "      <td>PhoenixTucson</td>\n",
                            "    </tr>\n",
                            "    <tr>\n",
                            "      <th>0</th>\n",
                            "      <td>2015-12-27</td>\n",
                            "      <td>1.25</td>\n",
                            "      <td>73109.90</td>\n",
                            "      <td>conventional</td>\n",
                            "      <td>2015</td>\n",
                            "      <td>Pittsburgh</td>\n",
                            "    </tr>\n",
                            "    <tr>\n",
                            "      <th>0</th>\n",
                            "      <td>2016-12-25</td>\n",
                            "      <td>1.90</td>\n",
                            "      <td>11376.97</td>\n",
                            "      <td>organic</td>\n",
                            "      <td>2016</td>\n",
                            "      <td>Philadelphia</td>\n",
                            "    </tr>\n",
                            "    <tr>\n",
                            "      <th>0</th>\n",
                            "      <td>2016-12-25</td>\n",
                            "      <td>1.27</td>\n",
                            "      <td>5601.65</td>\n",
                            "      <td>organic</td>\n",
                            "      <td>2016</td>\n",
                            "      <td>Orlando</td>\n",
                            "    </tr>\n",
                            "    <tr>\n",
                            "      <th>...</th>\n",
                            "      <td>...</td>\n",
                            "      <td>...</td>\n",
                            "      <td>...</td>\n",
                            "      <td>...</td>\n",
                            "      <td>...</td>\n",
                            "      <td>...</td>\n",
                            "    </tr>\n",
                            "    <tr>\n",
                            "      <th>52</th>\n",
                            "      <td>2017-01-01</td>\n",
                            "      <td>2.06</td>\n",
                            "      <td>39260.55</td>\n",
                            "      <td>organic</td>\n",
                            "      <td>2017</td>\n",
                            "      <td>NewYork</td>\n",
                            "    </tr>\n",
                            "    <tr>\n",
                            "      <th>52</th>\n",
                            "      <td>2017-01-01</td>\n",
                            "      <td>1.11</td>\n",
                            "      <td>476239.03</td>\n",
                            "      <td>conventional</td>\n",
                            "      <td>2017</td>\n",
                            "      <td>NorthernNewEngland</td>\n",
                            "    </tr>\n",
                            "    <tr>\n",
                            "      <th>52</th>\n",
                            "      <td>2017-01-01</td>\n",
                            "      <td>2.00</td>\n",
                            "      <td>115256.09</td>\n",
                            "      <td>organic</td>\n",
                            "      <td>2017</td>\n",
                            "      <td>Northeast</td>\n",
                            "    </tr>\n",
                            "    <tr>\n",
                            "      <th>52</th>\n",
                            "      <td>2017-01-01</td>\n",
                            "      <td>0.93</td>\n",
                            "      <td>547565.88</td>\n",
                            "      <td>conventional</td>\n",
                            "      <td>2017</td>\n",
                            "      <td>Atlanta</td>\n",
                            "    </tr>\n",
                            "    <tr>\n",
                            "      <th>52</th>\n",
                            "      <td>2017-01-01</td>\n",
                            "      <td>0.97</td>\n",
                            "      <td>142347.90</td>\n",
                            "      <td>conventional</td>\n",
                            "      <td>2017</td>\n",
                            "      <td>Roanoke</td>\n",
                            "    </tr>\n",
                            "  </tbody>\n",
                            "</table>\n",
                            "<p>18249 rows × 6 columns</p>\n",
                            "</div>"
                        ],
                        "text/plain": [
                            "         Date  AveragePrice  Total Volume          type  year  \\\n",
                            "0  2015-12-27          1.33      64236.62  conventional  2015   \n",
                            "0  2016-12-25          1.85       8657.87       organic  2016   \n",
                            "0  2015-12-27          1.25      73109.90  conventional  2015   \n",
                            "0  2016-12-25          1.90      11376.97       organic  2016   \n",
                            "0  2016-12-25          1.27       5601.65       organic  2016   \n",
                            "..        ...           ...           ...           ...   ...   \n",
                            "52 2017-01-01          2.06      39260.55       organic  2017   \n",
                            "52 2017-01-01          1.11     476239.03  conventional  2017   \n",
                            "52 2017-01-01          2.00     115256.09       organic  2017   \n",
                            "52 2017-01-01          0.93     547565.88  conventional  2017   \n",
                            "52 2017-01-01          0.97     142347.90  conventional  2017   \n",
                            "\n",
                            "                region  \n",
                            "0               Albany  \n",
                            "0        PhoenixTucson  \n",
                            "0           Pittsburgh  \n",
                            "0         Philadelphia  \n",
                            "0              Orlando  \n",
                            "..                 ...  \n",
                            "52             NewYork  \n",
                            "52  NorthernNewEngland  \n",
                            "52           Northeast  \n",
                            "52             Atlanta  \n",
                            "52             Roanoke  \n",
                            "\n",
                            "[18249 rows x 6 columns]"
                        ]
                    },
                    "execution_count": 256,
                    "metadata": {},
                    "output_type": "execute_result"
                }
            ],
            "source": [
                "df.sort_index()"
            ]
        },
        {
            "attachments": {},
            "cell_type": "markdown",
            "metadata": {},
            "source": [
                "# Переименование\n",
                "\n",
                "Очень часто переименовать вещи для удобства.В примере, когда имена столбцов слишком длинные или используют специальные символы, это может пригодиться, чтобы сократить их.Метод [`rename ()`] (https://pandas.pydata.org/docs/reference/api/pandas.dataframe.rename.html) является отличным инструментом, чтобы помочь нам во многих ситуациях.\n",
                "\n",
                "Посмотрим простой пример"
            ]
        },
        {
            "cell_type": "code",
            "execution_count": 257,
            "metadata": {},
            "outputs": [
                {
                    "data": {
                        "text/html": [
                            "<div>\n",
                            "<style scoped>\n",
                            "    .dataframe tbody tr th:only-of-type {\n",
                            "        vertical-align: middle;\n",
                            "    }\n",
                            "\n",
                            "    .dataframe tbody tr th {\n",
                            "        vertical-align: top;\n",
                            "    }\n",
                            "\n",
                            "    .dataframe thead th {\n",
                            "        text-align: right;\n",
                            "    }\n",
                            "</style>\n",
                            "<table border=\"1\" class=\"dataframe\">\n",
                            "  <thead>\n",
                            "    <tr style=\"text-align: right;\">\n",
                            "      <th></th>\n",
                            "      <th>Date</th>\n",
                            "      <th>price</th>\n",
                            "      <th>volume</th>\n",
                            "      <th>type</th>\n",
                            "      <th>year</th>\n",
                            "      <th>region</th>\n",
                            "    </tr>\n",
                            "  </thead>\n",
                            "  <tbody>\n",
                            "    <tr>\n",
                            "      <th>0</th>\n",
                            "      <td>2015-12-27</td>\n",
                            "      <td>1.33</td>\n",
                            "      <td>64236.62</td>\n",
                            "      <td>conventional</td>\n",
                            "      <td>2015</td>\n",
                            "      <td>Albany</td>\n",
                            "    </tr>\n",
                            "    <tr>\n",
                            "      <th>1</th>\n",
                            "      <td>2015-12-20</td>\n",
                            "      <td>1.35</td>\n",
                            "      <td>54876.98</td>\n",
                            "      <td>conventional</td>\n",
                            "      <td>2015</td>\n",
                            "      <td>Albany</td>\n",
                            "    </tr>\n",
                            "    <tr>\n",
                            "      <th>2</th>\n",
                            "      <td>2015-12-13</td>\n",
                            "      <td>0.93</td>\n",
                            "      <td>118220.22</td>\n",
                            "      <td>conventional</td>\n",
                            "      <td>2015</td>\n",
                            "      <td>Albany</td>\n",
                            "    </tr>\n",
                            "    <tr>\n",
                            "      <th>3</th>\n",
                            "      <td>2015-12-06</td>\n",
                            "      <td>1.08</td>\n",
                            "      <td>78992.15</td>\n",
                            "      <td>conventional</td>\n",
                            "      <td>2015</td>\n",
                            "      <td>Albany</td>\n",
                            "    </tr>\n",
                            "    <tr>\n",
                            "      <th>4</th>\n",
                            "      <td>2015-11-29</td>\n",
                            "      <td>1.28</td>\n",
                            "      <td>51039.60</td>\n",
                            "      <td>conventional</td>\n",
                            "      <td>2015</td>\n",
                            "      <td>Albany</td>\n",
                            "    </tr>\n",
                            "    <tr>\n",
                            "      <th>...</th>\n",
                            "      <td>...</td>\n",
                            "      <td>...</td>\n",
                            "      <td>...</td>\n",
                            "      <td>...</td>\n",
                            "      <td>...</td>\n",
                            "      <td>...</td>\n",
                            "    </tr>\n",
                            "    <tr>\n",
                            "      <th>7</th>\n",
                            "      <td>2018-02-04</td>\n",
                            "      <td>1.63</td>\n",
                            "      <td>17074.83</td>\n",
                            "      <td>organic</td>\n",
                            "      <td>2018</td>\n",
                            "      <td>WestTexNewMexico</td>\n",
                            "    </tr>\n",
                            "    <tr>\n",
                            "      <th>8</th>\n",
                            "      <td>2018-01-28</td>\n",
                            "      <td>1.71</td>\n",
                            "      <td>13888.04</td>\n",
                            "      <td>organic</td>\n",
                            "      <td>2018</td>\n",
                            "      <td>WestTexNewMexico</td>\n",
                            "    </tr>\n",
                            "    <tr>\n",
                            "      <th>9</th>\n",
                            "      <td>2018-01-21</td>\n",
                            "      <td>1.87</td>\n",
                            "      <td>13766.76</td>\n",
                            "      <td>organic</td>\n",
                            "      <td>2018</td>\n",
                            "      <td>WestTexNewMexico</td>\n",
                            "    </tr>\n",
                            "    <tr>\n",
                            "      <th>10</th>\n",
                            "      <td>2018-01-14</td>\n",
                            "      <td>1.93</td>\n",
                            "      <td>16205.22</td>\n",
                            "      <td>organic</td>\n",
                            "      <td>2018</td>\n",
                            "      <td>WestTexNewMexico</td>\n",
                            "    </tr>\n",
                            "    <tr>\n",
                            "      <th>11</th>\n",
                            "      <td>2018-01-07</td>\n",
                            "      <td>1.62</td>\n",
                            "      <td>17489.58</td>\n",
                            "      <td>organic</td>\n",
                            "      <td>2018</td>\n",
                            "      <td>WestTexNewMexico</td>\n",
                            "    </tr>\n",
                            "  </tbody>\n",
                            "</table>\n",
                            "<p>18249 rows × 6 columns</p>\n",
                            "</div>"
                        ],
                        "text/plain": [
                            "         Date  price     volume          type  year            region\n",
                            "0  2015-12-27   1.33   64236.62  conventional  2015            Albany\n",
                            "1  2015-12-20   1.35   54876.98  conventional  2015            Albany\n",
                            "2  2015-12-13   0.93  118220.22  conventional  2015            Albany\n",
                            "3  2015-12-06   1.08   78992.15  conventional  2015            Albany\n",
                            "4  2015-11-29   1.28   51039.60  conventional  2015            Albany\n",
                            "..        ...    ...        ...           ...   ...               ...\n",
                            "7  2018-02-04   1.63   17074.83       organic  2018  WestTexNewMexico\n",
                            "8  2018-01-28   1.71   13888.04       organic  2018  WestTexNewMexico\n",
                            "9  2018-01-21   1.87   13766.76       organic  2018  WestTexNewMexico\n",
                            "10 2018-01-14   1.93   16205.22       organic  2018  WestTexNewMexico\n",
                            "11 2018-01-07   1.62   17489.58       organic  2018  WestTexNewMexico\n",
                            "\n",
                            "[18249 rows x 6 columns]"
                        ]
                    },
                    "execution_count": 257,
                    "metadata": {},
                    "output_type": "execute_result"
                }
            ],
            "source": [
                "df.rename(columns={'AveragePrice': 'price', 'Total Volume': 'volume'}, inplace=True)\n",
                "df"
            ]
        },
        {
            "attachments": {},
            "cell_type": "markdown",
            "metadata": {},
            "source": [
                "# Подсчет\n",
                "\n",
                "**Подсчет количества значений без Nan**\n",
                "Мы уже видели разные способы доступа к количеству рядов.\n",
                "\n",
                "Но что, если вы хотите подсчитать количество строк с не значениями NAN?\n",
                "\n",
                "Метод `count ()` считает нена-клеток для каждого столбца или строки"
            ]
        },
        {
            "cell_type": "code",
            "execution_count": 258,
            "metadata": {},
            "outputs": [
                {
                    "data": {
                        "text/plain": [
                            "Date      18249\n",
                            "price     18249\n",
                            "volume    18249\n",
                            "type      18249\n",
                            "year      18249\n",
                            "region    18249\n",
                            "dtype: int64"
                        ]
                    },
                    "execution_count": 258,
                    "metadata": {},
                    "output_type": "execute_result"
                }
            ],
            "source": [
                "df.count()"
            ]
        },
        {
            "attachments": {},
            "cell_type": "markdown",
            "metadata": {},
            "source": [
                "**Подсчет количества уникальных значений на столбец (серия) в DataFrame**\n",
                "\n",
                "Количество уникальных для одной серии"
            ]
        },
        {
            "cell_type": "code",
            "execution_count": 259,
            "metadata": {},
            "outputs": [
                {
                    "data": {
                        "text/plain": [
                            "54"
                        ]
                    },
                    "execution_count": 259,
                    "metadata": {},
                    "output_type": "execute_result"
                }
            ],
            "source": [
                "df.region.nunique()"
            ]
        },
        {
            "attachments": {},
            "cell_type": "markdown",
            "metadata": {},
            "source": [
                "Количество уникальных значений для каждой серии в `DataFrame`"
            ]
        },
        {
            "cell_type": "code",
            "execution_count": 260,
            "metadata": {},
            "outputs": [
                {
                    "data": {
                        "text/plain": [
                            "Date        169\n",
                            "price       259\n",
                            "volume    18237\n",
                            "type          2\n",
                            "year          4\n",
                            "region       54\n",
                            "dtype: int64"
                        ]
                    },
                    "execution_count": 260,
                    "metadata": {},
                    "output_type": "execute_result"
                }
            ],
            "source": [
                "df.nunique()"
            ]
        },
        {
            "attachments": {},
            "cell_type": "markdown",
            "metadata": {},
            "source": [
                "**Unique values**"
            ]
        },
        {
            "cell_type": "code",
            "execution_count": 261,
            "metadata": {},
            "outputs": [
                {
                    "data": {
                        "text/plain": [
                            "array(['conventional', 'organic'], dtype=object)"
                        ]
                    },
                    "execution_count": 261,
                    "metadata": {},
                    "output_type": "execute_result"
                }
            ],
            "source": [
                "df['type'].unique()"
            ]
        },
        {
            "attachments": {},
            "cell_type": "markdown",
            "metadata": {},
            "source": [
                "Помните, что мы можем легко изменить данные DataFrame или серии в список Python"
            ]
        },
        {
            "cell_type": "code",
            "execution_count": 262,
            "metadata": {},
            "outputs": [
                {
                    "data": {
                        "text/plain": [
                            "['conventional', 'organic']"
                        ]
                    },
                    "execution_count": 262,
                    "metadata": {},
                    "output_type": "execute_result"
                }
            ],
            "source": [
                "df['type'].unique().tolist()"
            ]
        },
        {
            "attachments": {},
            "cell_type": "markdown",
            "metadata": {},
            "source": [
                "**Counting rows based on unique values**\n",
                "\n",
                "`value_counts()` вернуть серию, содержащие количество уникальных строк в DataFrame\n",
                "```python\n",
                "DataFrame.value_counts(subset=None, normalize=False, sort=True, ascending=False, dropna=True)\n",
                "```\n",
                "Этот метод прост, но мощный для простого исследования.Давайте посмотрим на несколько примеров"
            ]
        },
        {
            "cell_type": "code",
            "execution_count": 263,
            "metadata": {},
            "outputs": [
                {
                    "data": {
                        "text/plain": [
                            "type\n",
                            "conventional    9126\n",
                            "organic         9123\n",
                            "dtype: int64"
                        ]
                    },
                    "execution_count": 263,
                    "metadata": {},
                    "output_type": "execute_result"
                }
            ],
            "source": [
                "df.value_counts(subset='type')"
            ]
        },
        {
            "cell_type": "code",
            "execution_count": 264,
            "metadata": {},
            "outputs": [
                {
                    "data": {
                        "text/plain": [
                            "year\n",
                            "2015    5615\n",
                            "2016    5616\n",
                            "2017    5722\n",
                            "2018    1296\n",
                            "dtype: int64"
                        ]
                    },
                    "execution_count": 264,
                    "metadata": {},
                    "output_type": "execute_result"
                }
            ],
            "source": [
                "df.value_counts(subset='year', sort=False)"
            ]
        },
        {
            "attachments": {},
            "cell_type": "markdown",
            "metadata": {},
            "source": [
                "Мы можем использовать большее подмножество для более подробного представления"
            ]
        },
        {
            "cell_type": "code",
            "execution_count": 265,
            "metadata": {},
            "outputs": [
                {
                    "data": {
                        "text/plain": [
                            "year  type        \n",
                            "2015  conventional    2808\n",
                            "      organic         2807\n",
                            "2016  conventional    2808\n",
                            "      organic         2808\n",
                            "2017  conventional    2862\n",
                            "      organic         2860\n",
                            "2018  conventional     648\n",
                            "      organic          648\n",
                            "dtype: int64"
                        ]
                    },
                    "execution_count": 265,
                    "metadata": {},
                    "output_type": "execute_result"
                }
            ],
            "source": [
                "df.value_counts(subset=['year', 'type'], sort=False)"
            ]
        },
        {
            "cell_type": "markdown",
            "metadata": {},
            "source": [
                "- `subset` (подмножество): Этот параметр задает столбцы, для которых необходимо выполнить операцию подсчета значений. В данном примере в качестве столбцов подмножества указаны 'year' и 'type'.\n",
                "\n",
                "- `sort`: Этот параметр определяет, нужно ли сортировать результаты по количеству частот. Если sort=False, то результаты не будут отсортированы по частоте. Если sort=True, то результаты будут отсортированы в порядке убывания по количеству частот. \n",
                "\n",
                "- `normalize`: Этот параметр определяет, нужно ли нормировать результаты в процентах. Если normalize=False, то результаты будут представлять собой необработанный подсчет каждой уникальной комбинации. Если normalize=True, то результаты будут нормированы в проценты от общего числа.\n",
                "\n",
                "В приведенном фрагменте кода `df.value_counts(subset=['year', 'type'], sort=False, normalize=True)*100` вычисляет количество значений уникальных комбинаций столбцов 'year' и 'type' в DataFrame df. Результаты сортируются в порядке их появления в DataFrame (`благодаря sort=False)` и нормализуются для представления процентов (`благодаря normalize=True`). \n",
                "\n",
                "Функция * 100 в `конце умножает нормализованные значения на 100, чтобы преобразовать их в проценты`.\n",
                "\n",
                "***В результате будет получен объект Pandas Series с уникальными комбинациями 'year' и 'type' в качестве индексов и соответствующими процентными значениями в качестве значений***."
            ]
        },
        {
            "attachments": {},
            "cell_type": "markdown",
            "metadata": {},
            "source": [
                "И нам просто нужно добавить еще один флаг, чтобы получить доступ к одинаковым, но нормализованным значениям"
            ]
        },
        {
            "cell_type": "code",
            "execution_count": 266,
            "metadata": {},
            "outputs": [
                {
                    "data": {
                        "text/plain": [
                            "year  type        \n",
                            "2015  conventional    15.387145\n",
                            "      organic         15.381665\n",
                            "2016  conventional    15.387145\n",
                            "      organic         15.387145\n",
                            "2017  conventional    15.683051\n",
                            "      organic         15.672092\n",
                            "2018  conventional     3.550880\n",
                            "      organic          3.550880\n",
                            "dtype: float64"
                        ]
                    },
                    "execution_count": 266,
                    "metadata": {},
                    "output_type": "execute_result"
                }
            ],
            "source": [
                "df.value_counts(subset=['year', 'type'], sort=False, normalize=True)*100"
            ]
        },
        {
            "attachments": {},
            "cell_type": "markdown",
            "metadata": {},
            "source": [
                "# Grouping\n",
                "\n",
                "Have you been looking for power: meet `groupby()`\n",
                "\n",
                "Операция группы включает в себя некоторую комбинацию разделения объекта, применения функции и объединения результатов.Это может быть использовано для сгруппирования больших объемов данных и вычисления операций в этих группах.\n",
                "\n",
                "```python\n",
                "DataFrame.groupby(by=None, axis=0, level=None, as_index=True, sort=True,\n",
                "                  group_keys=True, squeeze=<no_default>, observed=False, dropna=True)\n",
                "```"
            ]
        },
        {
            "cell_type": "markdown",
            "metadata": {},
            "source": [
                "Параметры:\n",
                "- `by`: Столбец или столбцы, по которым осуществляется группировка. Может быть строкой или списком строк.\n",
                "- `axis`: Определяет направление группировки. Значение 0 означает группировку по строкам (по умолчанию), 1 - группировку по столбцам.\n",
                "- `level`: Используется для группировки по указанному уровню MultiIndex.\n",
                "- `as_index`: Определяет, следует ли использовать группировочные столбцы как индекс. По умолчанию True.\n",
                "- `sort`: Определяет, следует ли сортировать результаты по группировке. По умолчанию True.\n",
                "- `group_keys`: Определяет, следует ли добавлять ключи групп в результирующий индекс. По умолчанию True.\n",
                "- `squeeze`: Если True и результат группировки содержит только одну группу, то возвращается Series вместо DataFrame. Если False, всегда возвращается DataFrame. По умолчанию используется значение no_default, которое разрешает pandas предпринять решение самостоятельно.\n",
                "- `observed`: Если True, то гарантируется, что все значения в группирующем столбце будут присутствовать в результатах группировки. По умолчанию False.\n",
                "- `dropna`: Определяет, следует ли исключить отсутствующие значения при группировке. По умолчанию True."
            ]
        },
        {
            "attachments": {},
            "cell_type": "markdown",
            "metadata": {},
            "source": [
                "Следующая ячейка некоторым образом имитирует поведение value_counts().\n",
                "- Разбить набор данных на субданные, в которых каждый субданный.year является уникальным \n",
                "- Подсчитать количество строк без NaNs для каждого столбца"
            ]
        },
        {
            "cell_type": "code",
            "execution_count": 267,
            "metadata": {},
            "outputs": [
                {
                    "data": {
                        "text/html": [
                            "<div>\n",
                            "<style scoped>\n",
                            "    .dataframe tbody tr th:only-of-type {\n",
                            "        vertical-align: middle;\n",
                            "    }\n",
                            "\n",
                            "    .dataframe tbody tr th {\n",
                            "        vertical-align: top;\n",
                            "    }\n",
                            "\n",
                            "    .dataframe thead th {\n",
                            "        text-align: right;\n",
                            "    }\n",
                            "</style>\n",
                            "<table border=\"1\" class=\"dataframe\">\n",
                            "  <thead>\n",
                            "    <tr style=\"text-align: right;\">\n",
                            "      <th></th>\n",
                            "      <th>Date</th>\n",
                            "      <th>price</th>\n",
                            "      <th>volume</th>\n",
                            "      <th>type</th>\n",
                            "      <th>region</th>\n",
                            "    </tr>\n",
                            "    <tr>\n",
                            "      <th>year</th>\n",
                            "      <th></th>\n",
                            "      <th></th>\n",
                            "      <th></th>\n",
                            "      <th></th>\n",
                            "      <th></th>\n",
                            "    </tr>\n",
                            "  </thead>\n",
                            "  <tbody>\n",
                            "    <tr>\n",
                            "      <th>2015</th>\n",
                            "      <td>5615</td>\n",
                            "      <td>5615</td>\n",
                            "      <td>5615</td>\n",
                            "      <td>5615</td>\n",
                            "      <td>5615</td>\n",
                            "    </tr>\n",
                            "    <tr>\n",
                            "      <th>2016</th>\n",
                            "      <td>5616</td>\n",
                            "      <td>5616</td>\n",
                            "      <td>5616</td>\n",
                            "      <td>5616</td>\n",
                            "      <td>5616</td>\n",
                            "    </tr>\n",
                            "    <tr>\n",
                            "      <th>2017</th>\n",
                            "      <td>5722</td>\n",
                            "      <td>5722</td>\n",
                            "      <td>5722</td>\n",
                            "      <td>5722</td>\n",
                            "      <td>5722</td>\n",
                            "    </tr>\n",
                            "    <tr>\n",
                            "      <th>2018</th>\n",
                            "      <td>1296</td>\n",
                            "      <td>1296</td>\n",
                            "      <td>1296</td>\n",
                            "      <td>1296</td>\n",
                            "      <td>1296</td>\n",
                            "    </tr>\n",
                            "  </tbody>\n",
                            "</table>\n",
                            "</div>"
                        ],
                        "text/plain": [
                            "      Date  price  volume  type  region\n",
                            "year                                   \n",
                            "2015  5615   5615    5615  5615    5615\n",
                            "2016  5616   5616    5616  5616    5616\n",
                            "2017  5722   5722    5722  5722    5722\n",
                            "2018  1296   1296    1296  1296    1296"
                        ]
                    },
                    "execution_count": 267,
                    "metadata": {},
                    "output_type": "execute_result"
                }
            ],
            "source": [
                "df.groupby('year').count()"
            ]
        },
        {
            "attachments": {},
            "cell_type": "markdown",
            "metadata": {},
            "source": [
                "В приведенных строках представлены одинаковые значения, поскольку в исходном наборе данных отсутствуют значения NaN. Это отличный набор данных: Никаких NaN и повсюду \"авокадо\".\n",
                "\n",
                "## Функции\n",
                "\n",
                "Как насчет функции max()?"
            ]
        },
        {
            "cell_type": "code",
            "execution_count": 268,
            "metadata": {},
            "outputs": [
                {
                    "data": {
                        "text/html": [
                            "<div>\n",
                            "<style scoped>\n",
                            "    .dataframe tbody tr th:only-of-type {\n",
                            "        vertical-align: middle;\n",
                            "    }\n",
                            "\n",
                            "    .dataframe tbody tr th {\n",
                            "        vertical-align: top;\n",
                            "    }\n",
                            "\n",
                            "    .dataframe thead th {\n",
                            "        text-align: right;\n",
                            "    }\n",
                            "</style>\n",
                            "<table border=\"1\" class=\"dataframe\">\n",
                            "  <thead>\n",
                            "    <tr style=\"text-align: right;\">\n",
                            "      <th></th>\n",
                            "      <th>Date</th>\n",
                            "      <th>price</th>\n",
                            "      <th>volume</th>\n",
                            "      <th>type</th>\n",
                            "      <th>region</th>\n",
                            "    </tr>\n",
                            "    <tr>\n",
                            "      <th>year</th>\n",
                            "      <th></th>\n",
                            "      <th></th>\n",
                            "      <th></th>\n",
                            "      <th></th>\n",
                            "      <th></th>\n",
                            "    </tr>\n",
                            "  </thead>\n",
                            "  <tbody>\n",
                            "    <tr>\n",
                            "      <th>2015</th>\n",
                            "      <td>2015-12-27</td>\n",
                            "      <td>2.79</td>\n",
                            "      <td>44655461.51</td>\n",
                            "      <td>organic</td>\n",
                            "      <td>WestTexNewMexico</td>\n",
                            "    </tr>\n",
                            "    <tr>\n",
                            "      <th>2016</th>\n",
                            "      <td>2016-12-25</td>\n",
                            "      <td>3.25</td>\n",
                            "      <td>52288697.89</td>\n",
                            "      <td>organic</td>\n",
                            "      <td>WestTexNewMexico</td>\n",
                            "    </tr>\n",
                            "    <tr>\n",
                            "      <th>2017</th>\n",
                            "      <td>2017-12-31</td>\n",
                            "      <td>3.17</td>\n",
                            "      <td>61034457.10</td>\n",
                            "      <td>organic</td>\n",
                            "      <td>WestTexNewMexico</td>\n",
                            "    </tr>\n",
                            "    <tr>\n",
                            "      <th>2018</th>\n",
                            "      <td>2018-03-25</td>\n",
                            "      <td>2.30</td>\n",
                            "      <td>62505646.52</td>\n",
                            "      <td>organic</td>\n",
                            "      <td>WestTexNewMexico</td>\n",
                            "    </tr>\n",
                            "  </tbody>\n",
                            "</table>\n",
                            "</div>"
                        ],
                        "text/plain": [
                            "           Date  price       volume     type            region\n",
                            "year                                                          \n",
                            "2015 2015-12-27   2.79  44655461.51  organic  WestTexNewMexico\n",
                            "2016 2016-12-25   3.25  52288697.89  organic  WestTexNewMexico\n",
                            "2017 2017-12-31   3.17  61034457.10  organic  WestTexNewMexico\n",
                            "2018 2018-03-25   2.30  62505646.52  organic  WestTexNewMexico"
                        ]
                    },
                    "execution_count": 268,
                    "metadata": {},
                    "output_type": "execute_result"
                }
            ],
            "source": [
                "df.groupby('year').max()"
            ]
        },
        {
            "attachments": {},
            "cell_type": "markdown",
            "metadata": {},
            "source": [
                "И `mean()`?"
            ]
        },
        {
            "cell_type": "code",
            "execution_count": 269,
            "metadata": {},
            "outputs": [
                {
                    "name": "stderr",
                    "output_type": "stream",
                    "text": [
                        "C:\\Users\\admin\\AppData\\Local\\Temp/ipykernel_7432/3416304893.py:1: FutureWarning: The default value of numeric_only in DataFrameGroupBy.mean is deprecated. In a future version, numeric_only will default to False. Either specify numeric_only or select only columns which should be valid for the function.\n",
                        "  df.groupby('year').mean()\n"
                    ]
                },
                {
                    "data": {
                        "text/html": [
                            "<div>\n",
                            "<style scoped>\n",
                            "    .dataframe tbody tr th:only-of-type {\n",
                            "        vertical-align: middle;\n",
                            "    }\n",
                            "\n",
                            "    .dataframe tbody tr th {\n",
                            "        vertical-align: top;\n",
                            "    }\n",
                            "\n",
                            "    .dataframe thead th {\n",
                            "        text-align: right;\n",
                            "    }\n",
                            "</style>\n",
                            "<table border=\"1\" class=\"dataframe\">\n",
                            "  <thead>\n",
                            "    <tr style=\"text-align: right;\">\n",
                            "      <th></th>\n",
                            "      <th>price</th>\n",
                            "      <th>volume</th>\n",
                            "    </tr>\n",
                            "    <tr>\n",
                            "      <th>year</th>\n",
                            "      <th></th>\n",
                            "      <th></th>\n",
                            "    </tr>\n",
                            "  </thead>\n",
                            "  <tbody>\n",
                            "    <tr>\n",
                            "      <th>2015</th>\n",
                            "      <td>1.375590</td>\n",
                            "      <td>7.810274e+05</td>\n",
                            "    </tr>\n",
                            "    <tr>\n",
                            "      <th>2016</th>\n",
                            "      <td>1.338640</td>\n",
                            "      <td>8.584206e+05</td>\n",
                            "    </tr>\n",
                            "    <tr>\n",
                            "      <th>2017</th>\n",
                            "      <td>1.515128</td>\n",
                            "      <td>8.623393e+05</td>\n",
                            "    </tr>\n",
                            "    <tr>\n",
                            "      <th>2018</th>\n",
                            "      <td>1.347531</td>\n",
                            "      <td>1.066928e+06</td>\n",
                            "    </tr>\n",
                            "  </tbody>\n",
                            "</table>\n",
                            "</div>"
                        ],
                        "text/plain": [
                            "         price        volume\n",
                            "year                        \n",
                            "2015  1.375590  7.810274e+05\n",
                            "2016  1.338640  8.584206e+05\n",
                            "2017  1.515128  8.623393e+05\n",
                            "2018  1.347531  1.066928e+06"
                        ]
                    },
                    "execution_count": 269,
                    "metadata": {},
                    "output_type": "execute_result"
                }
            ],
            "source": [
                "df.groupby('year').mean()"
            ]
        },
        {
            "attachments": {},
            "cell_type": "markdown",
            "metadata": {},
            "source": [
                "Вы находите что -то другое между использованием Max и Mean? Что ты думаешь?"
            ]
        },
        {
            "cell_type": "code",
            "execution_count": 270,
            "metadata": {},
            "outputs": [
                {
                    "data": {
                        "text/html": [
                            "<div>\n",
                            "<style scoped>\n",
                            "    .dataframe tbody tr th:only-of-type {\n",
                            "        vertical-align: middle;\n",
                            "    }\n",
                            "\n",
                            "    .dataframe tbody tr th {\n",
                            "        vertical-align: top;\n",
                            "    }\n",
                            "\n",
                            "    .dataframe thead tr th {\n",
                            "        text-align: left;\n",
                            "    }\n",
                            "\n",
                            "    .dataframe thead tr:last-of-type th {\n",
                            "        text-align: right;\n",
                            "    }\n",
                            "</style>\n",
                            "<table border=\"1\" class=\"dataframe\">\n",
                            "  <thead>\n",
                            "    <tr>\n",
                            "      <th></th>\n",
                            "      <th colspan=\"8\" halign=\"left\">price</th>\n",
                            "      <th colspan=\"8\" halign=\"left\">volume</th>\n",
                            "    </tr>\n",
                            "    <tr>\n",
                            "      <th></th>\n",
                            "      <th>count</th>\n",
                            "      <th>mean</th>\n",
                            "      <th>std</th>\n",
                            "      <th>min</th>\n",
                            "      <th>25%</th>\n",
                            "      <th>50%</th>\n",
                            "      <th>75%</th>\n",
                            "      <th>max</th>\n",
                            "      <th>count</th>\n",
                            "      <th>mean</th>\n",
                            "      <th>std</th>\n",
                            "      <th>min</th>\n",
                            "      <th>25%</th>\n",
                            "      <th>50%</th>\n",
                            "      <th>75%</th>\n",
                            "      <th>max</th>\n",
                            "    </tr>\n",
                            "    <tr>\n",
                            "      <th>year</th>\n",
                            "      <th></th>\n",
                            "      <th></th>\n",
                            "      <th></th>\n",
                            "      <th></th>\n",
                            "      <th></th>\n",
                            "      <th></th>\n",
                            "      <th></th>\n",
                            "      <th></th>\n",
                            "      <th></th>\n",
                            "      <th></th>\n",
                            "      <th></th>\n",
                            "      <th></th>\n",
                            "      <th></th>\n",
                            "      <th></th>\n",
                            "      <th></th>\n",
                            "      <th></th>\n",
                            "    </tr>\n",
                            "  </thead>\n",
                            "  <tbody>\n",
                            "    <tr>\n",
                            "      <th>2015</th>\n",
                            "      <td>5615.0</td>\n",
                            "      <td>1.375590</td>\n",
                            "      <td>0.375595</td>\n",
                            "      <td>0.49</td>\n",
                            "      <td>1.07</td>\n",
                            "      <td>1.300</td>\n",
                            "      <td>1.67</td>\n",
                            "      <td>2.79</td>\n",
                            "      <td>5615.0</td>\n",
                            "      <td>7.810274e+05</td>\n",
                            "      <td>3.171256e+06</td>\n",
                            "      <td>84.56</td>\n",
                            "      <td>6931.6300</td>\n",
                            "      <td>76146.82</td>\n",
                            "      <td>400176.6800</td>\n",
                            "      <td>44655461.51</td>\n",
                            "    </tr>\n",
                            "    <tr>\n",
                            "      <th>2016</th>\n",
                            "      <td>5616.0</td>\n",
                            "      <td>1.338640</td>\n",
                            "      <td>0.393708</td>\n",
                            "      <td>0.51</td>\n",
                            "      <td>1.04</td>\n",
                            "      <td>1.300</td>\n",
                            "      <td>1.56</td>\n",
                            "      <td>3.25</td>\n",
                            "      <td>5616.0</td>\n",
                            "      <td>8.584206e+05</td>\n",
                            "      <td>3.478732e+06</td>\n",
                            "      <td>385.55</td>\n",
                            "      <td>10643.6850</td>\n",
                            "      <td>109597.29</td>\n",
                            "      <td>451107.2925</td>\n",
                            "      <td>52288697.89</td>\n",
                            "    </tr>\n",
                            "    <tr>\n",
                            "      <th>2017</th>\n",
                            "      <td>5722.0</td>\n",
                            "      <td>1.515128</td>\n",
                            "      <td>0.432906</td>\n",
                            "      <td>0.44</td>\n",
                            "      <td>1.22</td>\n",
                            "      <td>1.490</td>\n",
                            "      <td>1.77</td>\n",
                            "      <td>3.17</td>\n",
                            "      <td>5722.0</td>\n",
                            "      <td>8.623393e+05</td>\n",
                            "      <td>3.481957e+06</td>\n",
                            "      <td>515.01</td>\n",
                            "      <td>13790.6975</td>\n",
                            "      <td>122915.75</td>\n",
                            "      <td>426454.5125</td>\n",
                            "      <td>61034457.10</td>\n",
                            "    </tr>\n",
                            "    <tr>\n",
                            "      <th>2018</th>\n",
                            "      <td>1296.0</td>\n",
                            "      <td>1.347531</td>\n",
                            "      <td>0.305858</td>\n",
                            "      <td>0.56</td>\n",
                            "      <td>1.13</td>\n",
                            "      <td>1.345</td>\n",
                            "      <td>1.56</td>\n",
                            "      <td>2.30</td>\n",
                            "      <td>1296.0</td>\n",
                            "      <td>1.066928e+06</td>\n",
                            "      <td>4.285501e+06</td>\n",
                            "      <td>2064.90</td>\n",
                            "      <td>17690.9825</td>\n",
                            "      <td>157175.09</td>\n",
                            "      <td>529462.2450</td>\n",
                            "      <td>62505646.52</td>\n",
                            "    </tr>\n",
                            "  </tbody>\n",
                            "</table>\n",
                            "</div>"
                        ],
                        "text/plain": [
                            "       price                                                     volume  \\\n",
                            "       count      mean       std   min   25%    50%   75%   max   count   \n",
                            "year                                                                      \n",
                            "2015  5615.0  1.375590  0.375595  0.49  1.07  1.300  1.67  2.79  5615.0   \n",
                            "2016  5616.0  1.338640  0.393708  0.51  1.04  1.300  1.56  3.25  5616.0   \n",
                            "2017  5722.0  1.515128  0.432906  0.44  1.22  1.490  1.77  3.17  5722.0   \n",
                            "2018  1296.0  1.347531  0.305858  0.56  1.13  1.345  1.56  2.30  1296.0   \n",
                            "\n",
                            "                                                                               \\\n",
                            "              mean           std      min         25%        50%          75%   \n",
                            "year                                                                            \n",
                            "2015  7.810274e+05  3.171256e+06    84.56   6931.6300   76146.82  400176.6800   \n",
                            "2016  8.584206e+05  3.478732e+06   385.55  10643.6850  109597.29  451107.2925   \n",
                            "2017  8.623393e+05  3.481957e+06   515.01  13790.6975  122915.75  426454.5125   \n",
                            "2018  1.066928e+06  4.285501e+06  2064.90  17690.9825  157175.09  529462.2450   \n",
                            "\n",
                            "                   \n",
                            "              max  \n",
                            "year               \n",
                            "2015  44655461.51  \n",
                            "2016  52288697.89  \n",
                            "2017  61034457.10  \n",
                            "2018  62505646.52  "
                        ]
                    },
                    "execution_count": 270,
                    "metadata": {},
                    "output_type": "execute_result"
                }
            ],
            "source": [
                "df.groupby('year').describe()"
            ]
        },
        {
            "attachments": {},
            "cell_type": "markdown",
            "metadata": {},
            "source": [
                "Существуют другие методы, которые могут быть подходящими  к `Gropuby ()`.В примере первого и последнего вернет первый и последний ряд каждой группы соответственно."
            ]
        },
        {
            "cell_type": "code",
            "execution_count": 271,
            "metadata": {},
            "outputs": [
                {
                    "data": {
                        "text/html": [
                            "<div>\n",
                            "<style scoped>\n",
                            "    .dataframe tbody tr th:only-of-type {\n",
                            "        vertical-align: middle;\n",
                            "    }\n",
                            "\n",
                            "    .dataframe tbody tr th {\n",
                            "        vertical-align: top;\n",
                            "    }\n",
                            "\n",
                            "    .dataframe thead th {\n",
                            "        text-align: right;\n",
                            "    }\n",
                            "</style>\n",
                            "<table border=\"1\" class=\"dataframe\">\n",
                            "  <thead>\n",
                            "    <tr style=\"text-align: right;\">\n",
                            "      <th></th>\n",
                            "      <th>Date</th>\n",
                            "      <th>price</th>\n",
                            "      <th>volume</th>\n",
                            "      <th>type</th>\n",
                            "      <th>region</th>\n",
                            "    </tr>\n",
                            "    <tr>\n",
                            "      <th>year</th>\n",
                            "      <th></th>\n",
                            "      <th></th>\n",
                            "      <th></th>\n",
                            "      <th></th>\n",
                            "      <th></th>\n",
                            "    </tr>\n",
                            "  </thead>\n",
                            "  <tbody>\n",
                            "    <tr>\n",
                            "      <th>2015</th>\n",
                            "      <td>2015-12-27</td>\n",
                            "      <td>1.33</td>\n",
                            "      <td>64236.62</td>\n",
                            "      <td>conventional</td>\n",
                            "      <td>Albany</td>\n",
                            "    </tr>\n",
                            "    <tr>\n",
                            "      <th>2016</th>\n",
                            "      <td>2016-12-25</td>\n",
                            "      <td>1.52</td>\n",
                            "      <td>73341.73</td>\n",
                            "      <td>conventional</td>\n",
                            "      <td>Albany</td>\n",
                            "    </tr>\n",
                            "    <tr>\n",
                            "      <th>2017</th>\n",
                            "      <td>2017-12-31</td>\n",
                            "      <td>1.47</td>\n",
                            "      <td>113514.42</td>\n",
                            "      <td>conventional</td>\n",
                            "      <td>Albany</td>\n",
                            "    </tr>\n",
                            "    <tr>\n",
                            "      <th>2018</th>\n",
                            "      <td>2018-03-25</td>\n",
                            "      <td>1.57</td>\n",
                            "      <td>149396.50</td>\n",
                            "      <td>conventional</td>\n",
                            "      <td>Albany</td>\n",
                            "    </tr>\n",
                            "  </tbody>\n",
                            "</table>\n",
                            "</div>"
                        ],
                        "text/plain": [
                            "           Date  price     volume          type  region\n",
                            "year                                                   \n",
                            "2015 2015-12-27   1.33   64236.62  conventional  Albany\n",
                            "2016 2016-12-25   1.52   73341.73  conventional  Albany\n",
                            "2017 2017-12-31   1.47  113514.42  conventional  Albany\n",
                            "2018 2018-03-25   1.57  149396.50  conventional  Albany"
                        ]
                    },
                    "execution_count": 271,
                    "metadata": {},
                    "output_type": "execute_result"
                }
            ],
            "source": [
                "df.groupby('year').first()"
            ]
        },
        {
            "attachments": {},
            "cell_type": "markdown",
            "metadata": {},
            "source": [
                "Предыдущий вызов аналогичен использованию Head, но Head () сохраняет групповой индекс, где сначала установил новый индекс: год"
            ]
        },
        {
            "cell_type": "code",
            "execution_count": 272,
            "metadata": {},
            "outputs": [
                {
                    "data": {
                        "text/html": [
                            "<div>\n",
                            "<style scoped>\n",
                            "    .dataframe tbody tr th:only-of-type {\n",
                            "        vertical-align: middle;\n",
                            "    }\n",
                            "\n",
                            "    .dataframe tbody tr th {\n",
                            "        vertical-align: top;\n",
                            "    }\n",
                            "\n",
                            "    .dataframe thead th {\n",
                            "        text-align: right;\n",
                            "    }\n",
                            "</style>\n",
                            "<table border=\"1\" class=\"dataframe\">\n",
                            "  <thead>\n",
                            "    <tr style=\"text-align: right;\">\n",
                            "      <th></th>\n",
                            "      <th>Date</th>\n",
                            "      <th>price</th>\n",
                            "      <th>volume</th>\n",
                            "      <th>type</th>\n",
                            "      <th>year</th>\n",
                            "      <th>region</th>\n",
                            "    </tr>\n",
                            "  </thead>\n",
                            "  <tbody>\n",
                            "    <tr>\n",
                            "      <th>0</th>\n",
                            "      <td>2015-12-27</td>\n",
                            "      <td>1.33</td>\n",
                            "      <td>64236.62</td>\n",
                            "      <td>conventional</td>\n",
                            "      <td>2015</td>\n",
                            "      <td>Albany</td>\n",
                            "    </tr>\n",
                            "    <tr>\n",
                            "      <th>0</th>\n",
                            "      <td>2016-12-25</td>\n",
                            "      <td>1.52</td>\n",
                            "      <td>73341.73</td>\n",
                            "      <td>conventional</td>\n",
                            "      <td>2016</td>\n",
                            "      <td>Albany</td>\n",
                            "    </tr>\n",
                            "    <tr>\n",
                            "      <th>0</th>\n",
                            "      <td>2017-12-31</td>\n",
                            "      <td>1.47</td>\n",
                            "      <td>113514.42</td>\n",
                            "      <td>conventional</td>\n",
                            "      <td>2017</td>\n",
                            "      <td>Albany</td>\n",
                            "    </tr>\n",
                            "    <tr>\n",
                            "      <th>0</th>\n",
                            "      <td>2018-03-25</td>\n",
                            "      <td>1.57</td>\n",
                            "      <td>149396.50</td>\n",
                            "      <td>conventional</td>\n",
                            "      <td>2018</td>\n",
                            "      <td>Albany</td>\n",
                            "    </tr>\n",
                            "  </tbody>\n",
                            "</table>\n",
                            "</div>"
                        ],
                        "text/plain": [
                            "        Date  price     volume          type  year  region\n",
                            "0 2015-12-27   1.33   64236.62  conventional  2015  Albany\n",
                            "0 2016-12-25   1.52   73341.73  conventional  2016  Albany\n",
                            "0 2017-12-31   1.47  113514.42  conventional  2017  Albany\n",
                            "0 2018-03-25   1.57  149396.50  conventional  2018  Albany"
                        ]
                    },
                    "execution_count": 272,
                    "metadata": {},
                    "output_type": "execute_result"
                }
            ],
            "source": [
                "df.groupby('year').head(1)"
            ]
        },
        {
            "attachments": {},
            "cell_type": "markdown",
            "metadata": {},
            "source": [
                "### Aggregate\n",
                "\n",
                "`Aggregate`: агрегат с использованием одной или нескольких операций по указанной оси (` agg` - это псевдоним).\n",
                "\n",
                "Следующая ячейка показывает агрегированную цену и объем авокадо с 2018 года"
            ]
        },
        {
            "cell_type": "code",
            "execution_count": 273,
            "metadata": {},
            "outputs": [
                {
                    "data": {
                        "text/html": [
                            "<div>\n",
                            "<style scoped>\n",
                            "    .dataframe tbody tr th:only-of-type {\n",
                            "        vertical-align: middle;\n",
                            "    }\n",
                            "\n",
                            "    .dataframe tbody tr th {\n",
                            "        vertical-align: top;\n",
                            "    }\n",
                            "\n",
                            "    .dataframe thead th {\n",
                            "        text-align: right;\n",
                            "    }\n",
                            "</style>\n",
                            "<table border=\"1\" class=\"dataframe\">\n",
                            "  <thead>\n",
                            "    <tr style=\"text-align: right;\">\n",
                            "      <th></th>\n",
                            "      <th>price</th>\n",
                            "      <th>volume</th>\n",
                            "    </tr>\n",
                            "  </thead>\n",
                            "  <tbody>\n",
                            "    <tr>\n",
                            "      <th>min</th>\n",
                            "      <td>0.560000</td>\n",
                            "      <td>2.064900e+03</td>\n",
                            "    </tr>\n",
                            "    <tr>\n",
                            "      <th>mean</th>\n",
                            "      <td>1.347531</td>\n",
                            "      <td>1.066928e+06</td>\n",
                            "    </tr>\n",
                            "    <tr>\n",
                            "      <th>std</th>\n",
                            "      <td>0.305858</td>\n",
                            "      <td>4.285501e+06</td>\n",
                            "    </tr>\n",
                            "    <tr>\n",
                            "      <th>max</th>\n",
                            "      <td>2.300000</td>\n",
                            "      <td>6.250565e+07</td>\n",
                            "    </tr>\n",
                            "  </tbody>\n",
                            "</table>\n",
                            "</div>"
                        ],
                        "text/plain": [
                            "         price        volume\n",
                            "min   0.560000  2.064900e+03\n",
                            "mean  1.347531  1.066928e+06\n",
                            "std   0.305858  4.285501e+06\n",
                            "max   2.300000  6.250565e+07"
                        ]
                    },
                    "execution_count": 273,
                    "metadata": {},
                    "output_type": "execute_result"
                }
            ],
            "source": [
                "condition = (df['year'] == 2018)\n",
                "df[condition][['price','volume']].agg(['min', 'mean', 'std', 'max'])"
            ]
        },
        {
            "attachments": {},
            "cell_type": "markdown",
            "metadata": {},
            "source": [
                "`aggregate` может применяться к DataFrames, хотя его можно применять и с  `groupby()`"
            ]
        },
        {
            "cell_type": "code",
            "execution_count": 274,
            "metadata": {},
            "outputs": [
                {
                    "data": {
                        "text/html": [
                            "<div>\n",
                            "<style scoped>\n",
                            "    .dataframe tbody tr th:only-of-type {\n",
                            "        vertical-align: middle;\n",
                            "    }\n",
                            "\n",
                            "    .dataframe tbody tr th {\n",
                            "        vertical-align: top;\n",
                            "    }\n",
                            "\n",
                            "    .dataframe thead tr th {\n",
                            "        text-align: left;\n",
                            "    }\n",
                            "\n",
                            "    .dataframe thead tr:last-of-type th {\n",
                            "        text-align: right;\n",
                            "    }\n",
                            "</style>\n",
                            "<table border=\"1\" class=\"dataframe\">\n",
                            "  <thead>\n",
                            "    <tr>\n",
                            "      <th></th>\n",
                            "      <th colspan=\"4\" halign=\"left\">price</th>\n",
                            "      <th colspan=\"4\" halign=\"left\">volume</th>\n",
                            "    </tr>\n",
                            "    <tr>\n",
                            "      <th></th>\n",
                            "      <th>min</th>\n",
                            "      <th>mean</th>\n",
                            "      <th>std</th>\n",
                            "      <th>max</th>\n",
                            "      <th>min</th>\n",
                            "      <th>mean</th>\n",
                            "      <th>std</th>\n",
                            "      <th>max</th>\n",
                            "    </tr>\n",
                            "    <tr>\n",
                            "      <th>year</th>\n",
                            "      <th></th>\n",
                            "      <th></th>\n",
                            "      <th></th>\n",
                            "      <th></th>\n",
                            "      <th></th>\n",
                            "      <th></th>\n",
                            "      <th></th>\n",
                            "      <th></th>\n",
                            "    </tr>\n",
                            "  </thead>\n",
                            "  <tbody>\n",
                            "    <tr>\n",
                            "      <th>2015</th>\n",
                            "      <td>0.49</td>\n",
                            "      <td>1.375590</td>\n",
                            "      <td>0.375595</td>\n",
                            "      <td>2.79</td>\n",
                            "      <td>84.56</td>\n",
                            "      <td>7.810274e+05</td>\n",
                            "      <td>3.171256e+06</td>\n",
                            "      <td>44655461.51</td>\n",
                            "    </tr>\n",
                            "    <tr>\n",
                            "      <th>2016</th>\n",
                            "      <td>0.51</td>\n",
                            "      <td>1.338640</td>\n",
                            "      <td>0.393708</td>\n",
                            "      <td>3.25</td>\n",
                            "      <td>385.55</td>\n",
                            "      <td>8.584206e+05</td>\n",
                            "      <td>3.478732e+06</td>\n",
                            "      <td>52288697.89</td>\n",
                            "    </tr>\n",
                            "    <tr>\n",
                            "      <th>2017</th>\n",
                            "      <td>0.44</td>\n",
                            "      <td>1.515128</td>\n",
                            "      <td>0.432906</td>\n",
                            "      <td>3.17</td>\n",
                            "      <td>515.01</td>\n",
                            "      <td>8.623393e+05</td>\n",
                            "      <td>3.481957e+06</td>\n",
                            "      <td>61034457.10</td>\n",
                            "    </tr>\n",
                            "    <tr>\n",
                            "      <th>2018</th>\n",
                            "      <td>0.56</td>\n",
                            "      <td>1.347531</td>\n",
                            "      <td>0.305858</td>\n",
                            "      <td>2.30</td>\n",
                            "      <td>2064.90</td>\n",
                            "      <td>1.066928e+06</td>\n",
                            "      <td>4.285501e+06</td>\n",
                            "      <td>62505646.52</td>\n",
                            "    </tr>\n",
                            "  </tbody>\n",
                            "</table>\n",
                            "</div>"
                        ],
                        "text/plain": [
                            "     price                             volume                              \\\n",
                            "       min      mean       std   max      min          mean           std   \n",
                            "year                                                                        \n",
                            "2015  0.49  1.375590  0.375595  2.79    84.56  7.810274e+05  3.171256e+06   \n",
                            "2016  0.51  1.338640  0.393708  3.25   385.55  8.584206e+05  3.478732e+06   \n",
                            "2017  0.44  1.515128  0.432906  3.17   515.01  8.623393e+05  3.481957e+06   \n",
                            "2018  0.56  1.347531  0.305858  2.30  2064.90  1.066928e+06  4.285501e+06   \n",
                            "\n",
                            "                   \n",
                            "              max  \n",
                            "year               \n",
                            "2015  44655461.51  \n",
                            "2016  52288697.89  \n",
                            "2017  61034457.10  \n",
                            "2018  62505646.52  "
                        ]
                    },
                    "execution_count": 274,
                    "metadata": {},
                    "output_type": "execute_result"
                }
            ],
            "source": [
                "df.groupby('year')[['price','volume']].agg(['min', 'mean', 'std', 'max'])"
            ]
        },
        {
            "attachments": {},
            "cell_type": "markdown",
            "metadata": {},
            "source": [
                "Предположим, вам нужен способ извлечения процентилей.\n",
                "\n",
                "А `quantile()` Метод может быть применен непосредственно на DataFrame, чтобы извлечь то, что вы хотите."
            ]
        },
        {
            "cell_type": "code",
            "execution_count": 275,
            "metadata": {},
            "outputs": [
                {
                    "data": {
                        "text/plain": [
                            "price        0.970\n",
                            "volume    8174.655\n",
                            "Name: 0.1, dtype: float64"
                        ]
                    },
                    "execution_count": 275,
                    "metadata": {},
                    "output_type": "execute_result"
                }
            ],
            "source": [
                "#  извлечет 10 процентные значения цены и объема\n",
                "df[condition][['price', 'volume']].quantile(.10)"
            ]
        },
        {
            "attachments": {},
            "cell_type": "markdown",
            "metadata": {},
            "source": [
                "Но есть случаи, когда вам нужно извлечь больше, чем это.\n",
                "\n",
                "Для этих случаев может быть удобно создавать пользовательские методы, которые будут использоваться с агрегацией."
            ]
        },
        {
            "cell_type": "code",
            "execution_count": 276,
            "metadata": {},
            "outputs": [
                {
                    "data": {
                        "text/html": [
                            "<div>\n",
                            "<style scoped>\n",
                            "    .dataframe tbody tr th:only-of-type {\n",
                            "        vertical-align: middle;\n",
                            "    }\n",
                            "\n",
                            "    .dataframe tbody tr th {\n",
                            "        vertical-align: top;\n",
                            "    }\n",
                            "\n",
                            "    .dataframe thead th {\n",
                            "        text-align: right;\n",
                            "    }\n",
                            "</style>\n",
                            "<table border=\"1\" class=\"dataframe\">\n",
                            "  <thead>\n",
                            "    <tr style=\"text-align: right;\">\n",
                            "      <th></th>\n",
                            "      <th>price</th>\n",
                            "      <th>volume</th>\n",
                            "    </tr>\n",
                            "  </thead>\n",
                            "  <tbody>\n",
                            "    <tr>\n",
                            "      <th>percentil_10</th>\n",
                            "      <td>0.970</td>\n",
                            "      <td>8174.655</td>\n",
                            "    </tr>\n",
                            "    <tr>\n",
                            "      <th>median</th>\n",
                            "      <td>1.345</td>\n",
                            "      <td>157175.090</td>\n",
                            "    </tr>\n",
                            "    <tr>\n",
                            "      <th>percentil_90</th>\n",
                            "      <td>1.750</td>\n",
                            "      <td>1810981.615</td>\n",
                            "    </tr>\n",
                            "  </tbody>\n",
                            "</table>\n",
                            "</div>"
                        ],
                        "text/plain": [
                            "              price       volume\n",
                            "percentil_10  0.970     8174.655\n",
                            "median        1.345   157175.090\n",
                            "percentil_90  1.750  1810981.615"
                        ]
                    },
                    "execution_count": 276,
                    "metadata": {},
                    "output_type": "execute_result"
                }
            ],
            "source": [
                "def percentil_10(x): return x.quantile(.10)\n",
                "def percentil_90(x): return x.quantile(.90)\n",
                "\n",
                "df[condition][['price','volume']].agg([percentil_10, 'median', percentil_90])"
            ]
        },
        {
            "cell_type": "code",
            "execution_count": 277,
            "metadata": {},
            "outputs": [
                {
                    "data": {
                        "text/html": [
                            "<div>\n",
                            "<style scoped>\n",
                            "    .dataframe tbody tr th:only-of-type {\n",
                            "        vertical-align: middle;\n",
                            "    }\n",
                            "\n",
                            "    .dataframe tbody tr th {\n",
                            "        vertical-align: top;\n",
                            "    }\n",
                            "\n",
                            "    .dataframe thead tr th {\n",
                            "        text-align: left;\n",
                            "    }\n",
                            "\n",
                            "    .dataframe thead tr:last-of-type th {\n",
                            "        text-align: right;\n",
                            "    }\n",
                            "</style>\n",
                            "<table border=\"1\" class=\"dataframe\">\n",
                            "  <thead>\n",
                            "    <tr>\n",
                            "      <th></th>\n",
                            "      <th colspan=\"3\" halign=\"left\">price</th>\n",
                            "      <th colspan=\"3\" halign=\"left\">volume</th>\n",
                            "    </tr>\n",
                            "    <tr>\n",
                            "      <th></th>\n",
                            "      <th>percentil_10</th>\n",
                            "      <th>median</th>\n",
                            "      <th>percentil_90</th>\n",
                            "      <th>percentil_10</th>\n",
                            "      <th>median</th>\n",
                            "      <th>percentil_90</th>\n",
                            "    </tr>\n",
                            "    <tr>\n",
                            "      <th>year</th>\n",
                            "      <th></th>\n",
                            "      <th></th>\n",
                            "      <th></th>\n",
                            "      <th></th>\n",
                            "      <th></th>\n",
                            "      <th></th>\n",
                            "    </tr>\n",
                            "  </thead>\n",
                            "  <tbody>\n",
                            "    <tr>\n",
                            "      <th>2015</th>\n",
                            "      <td>0.96</td>\n",
                            "      <td>1.300</td>\n",
                            "      <td>1.90</td>\n",
                            "      <td>2431.434</td>\n",
                            "      <td>76146.82</td>\n",
                            "      <td>1285267.958</td>\n",
                            "    </tr>\n",
                            "    <tr>\n",
                            "      <th>2016</th>\n",
                            "      <td>0.88</td>\n",
                            "      <td>1.300</td>\n",
                            "      <td>1.86</td>\n",
                            "      <td>4146.935</td>\n",
                            "      <td>109597.29</td>\n",
                            "      <td>1351865.735</td>\n",
                            "    </tr>\n",
                            "    <tr>\n",
                            "      <th>2017</th>\n",
                            "      <td>0.98</td>\n",
                            "      <td>1.490</td>\n",
                            "      <td>2.07</td>\n",
                            "      <td>5889.687</td>\n",
                            "      <td>122915.75</td>\n",
                            "      <td>1398304.817</td>\n",
                            "    </tr>\n",
                            "    <tr>\n",
                            "      <th>2018</th>\n",
                            "      <td>0.97</td>\n",
                            "      <td>1.345</td>\n",
                            "      <td>1.75</td>\n",
                            "      <td>8174.655</td>\n",
                            "      <td>157175.09</td>\n",
                            "      <td>1810981.615</td>\n",
                            "    </tr>\n",
                            "  </tbody>\n",
                            "</table>\n",
                            "</div>"
                        ],
                        "text/plain": [
                            "            price                           volume                        \n",
                            "     percentil_10 median percentil_90 percentil_10     median percentil_90\n",
                            "year                                                                      \n",
                            "2015         0.96  1.300         1.90     2431.434   76146.82  1285267.958\n",
                            "2016         0.88  1.300         1.86     4146.935  109597.29  1351865.735\n",
                            "2017         0.98  1.490         2.07     5889.687  122915.75  1398304.817\n",
                            "2018         0.97  1.345         1.75     8174.655  157175.09  1810981.615"
                        ]
                    },
                    "execution_count": 277,
                    "metadata": {},
                    "output_type": "execute_result"
                }
            ],
            "source": [
                "df.groupby('year')[['price','volume']].agg([percentil_10, 'median', percentil_90])"
            ]
        },
        {
            "attachments": {},
            "cell_type": "markdown",
            "metadata": {},
            "source": [
                "# Краткое содержание\n",
                "\n",
                "В этой лекции вы узнали:\n",
                "- Как установить панды\n",
                "- о пандах\n",
                "- Что такое структуры данных серии и данных данных\n",
                "- Как создать простой датчик\n",
                "- Как загрузить DataFrame с помощью внешнего источника данных\n",
                "- Как получить доступ к серии столбцов\n",
                "- Как получить доступ к серии строк (индекс)\n",
                "- Различия между `loc []` и `iloc []`\n",
                "- Различные способы начать изучение общей структуры данных\n",
                "- Различные способы доступа к статистике описания\n",
                "- Как искать недостающие данные\n",
                "- Как делать фильтрацию данных с помощью условий\n",
                "- Как сортировать\n",
                "- Как сделать подсчет\n",
                "- Как группировать информацию\n",
                "- Как сделать агрегацию"
            ]
        },
        {
            "attachments": {},
            "cell_type": "markdown",
            "metadata": {},
            "source": [
                "### Факты:\n",
                "- Мы только импортировали панды!\n",
                "- Почти все было о доступе и обработке данных, а также о их создании.\n",
                "\n",
                "\n",
                "### Темы, возможно, оставлены для других лекций:\n",
                "- Операции DataFrame:\n",
                "  - Как добавить столбец в DataFrame\n",
                "  - Операции DataFrame Inter Columns Operations\n",
                "  - apply()\n",
                "  - applymap()\n",
                "  - pipe()\n",
                "- Слияние DataFrames (слияние)\n",
                "- Согласование данных DataFrames (CONCAT)\n",
                "- Добавление DataFrames, серии или простой строки (добавление)\n",
                "- Использование петель с:\n",
                "  - iterrows()\n",
                "  - itertuples()\n",
                "  - groupby()\n",
                "  \n",
                "### Следующая лекция\n",
                "- Построение с пандами (показывая важность участков)\n",
                "- Eda с пандами (с использованием Seaborn, если это возможно)"
            ]
        }
    ],
    "metadata": {
        "kernelspec": {
            "display_name": "Python 3 (ipykernel)",
            "language": "python",
            "name": "python3"
        },
        "language_info": {
            "codemirror_mode": {
                "name": "ipython",
                "version": 3
            },
            "file_extension": ".py",
            "mimetype": "text/x-python",
            "name": "python",
            "nbconvert_exporter": "python",
            "pygments_lexer": "ipython3",
            "version": "3.11.1"
        }
    },
    "nbformat": 4,
    "nbformat_minor": 4
}
