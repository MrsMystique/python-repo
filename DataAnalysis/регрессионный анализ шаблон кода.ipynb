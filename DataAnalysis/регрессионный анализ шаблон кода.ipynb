{
 "cells": [
  {
   "cell_type": "markdown",
   "metadata": {},
   "source": [
    "# Основные Библиотеки"
   ]
  },
  {
   "cell_type": "code",
   "execution_count": null,
   "metadata": {},
   "outputs": [],
   "source": [
    "import numpy as np\n",
    "import pandas as pd \n",
    "import matplotlib.pyplot as plt\n",
    "from sklearn.utils import shuffle\n",
    "from sklearn.metrics import r2_score\n",
    "from sklearn.metrics import mean_squared_error\n",
    "# KNN\n",
    "from sklearn.neighbors import KNeighborsRegressor\n",
    "from sklearn.model_selection import train_test_split\n",
    "%matplotlib inline\n",
    "# LR\n",
    "from sklearn.linear_model import LinearRegression\n"
   ]
  },
  {
   "cell_type": "markdown",
   "metadata": {},
   "source": [
    "# KNN (самые близкие соседи)"
   ]
  },
  {
   "cell_type": "markdown",
   "metadata": {},
   "source": [
    "# Определимся с переменными (независимые и зависимая)\n",
    "***обычно с помощью предварительных исследований на корреляции и иные зависимости***\n",
    " "
   ]
  },
  {
   "cell_type": "code",
   "execution_count": null,
   "metadata": {},
   "outputs": [],
   "source": [
    "# Х большое - если матрица (df[['столбец1','столбец2']), х маленькое - если вектор (один столбец)\n",
    "x = df[['столбец1']]\n",
    "y = df[['столбец3']]"
   ]
  },
  {
   "cell_type": "markdown",
   "metadata": {},
   "source": [
    "# Разбиение данных"
   ]
  },
  {
   "cell_type": "code",
   "execution_count": null,
   "metadata": {},
   "outputs": [],
   "source": [
    "x_train, x_test, y_train, y_test = train_test_split(`предикаты(x)`, `предиктор(y)`,train_size = `процент тренировочных данных(Например = 0.40)`, random_state = `целое число или None`)"
   ]
  },
  {
   "cell_type": "markdown",
   "metadata": {},
   "source": [
    "# Создание списка чисел "
   ]
  },
  {
   "cell_type": "code",
   "execution_count": null,
   "metadata": {},
   "outputs": [],
   "source": [
    "k_value_min = `начальное значение диапазона`\n",
    "k_value_max = `конечное значение диапазона`\n",
    "# Создайте список значений целого числа K между K_VALUE_MIN и\n",
    "# k_value_max с использованием linspace\n",
    "k_list = np.linspace(`начальное значение`, `конечное значение`, num = `int чисел создаст`, dtype = int)\n"
   ]
  },
  {
   "cell_type": "markdown",
   "metadata": {},
   "source": [
    "# Обучение модели KNN и построение графика"
   ]
  },
  {
   "cell_type": "code",
   "execution_count": null,
   "metadata": {},
   "outputs": [],
   "source": [
    "# Настройка сетки для построения данных и прогнозов\n",
    "fig, ax = plt.subplots(figsize=(10,6))\n",
    "\n",
    "# Создать словарь для хранения значения k против MSE FIT {k: mse@k}\n",
    "knn_dict = {}\n",
    "k_list = [1, 3, 5, 7]  # Пример списка значений k\n",
    "# Переменная, используемая для изменения ширины линии значений моделей KNN\n",
    "j=0\n",
    "\n",
    "# Цикл по всем значениям k\n",
    "for k_value in k_list:   \n",
    "    \n",
    "    # Создать регрессионную модель KNN для текущего k\n",
    "    model = KNeighborsRegressor(n_neighbors=int(`число ближайших соседей`))\n",
    "    \n",
    "   # Подогнать(обучить) модель на обучающих данных\n",
    "    model.fit(x_train, y_train)\n",
    "    \n",
    "    # Используйте обученную модель для прогнозирования на тестовых данных\n",
    "    y_pred = model.predict(x_test, y_test)\n",
    "    \n",
    "   # Рассчитайте MSE прогнозов тестовых данных\n",
    "    MSE = mean_squared_error(y_train, y_test)\n",
    "\n",
    "    # Храните значения MSE каждого значения k в словаре\n",
    "    knn_dict[k_value] = MSE\n",
    "    \n",
    "colors = ['grey', 'r', 'b'] # список цветов\n",
    "if k_value in [1, 10, 70]:# проверка, является ли текущее значение k_value из списка [1, 10, 70].\n",
    "    xvals = np.linspace(x.min(), x.max(), 100)  # Создаем 100 равномерно распределенных значений по оси X\n",
    "    ypreds = model.predict(xvals)  # Прогнозируем значения на основе модели и значений xvals\n",
    "    ax.plot(xvals, ypreds, '-', label=f'k = {int(k_value)}', linewidth=j + 2, color=colors[j])\n",
    "    j += 1\n",
    "\n",
    "ax.legend(loc= 'lower right', fontsize=20)  # Добавляем легенду в нижний правый угол\n",
    "ax.plot(x_train, y_train, 'x', label='test', color='k')  # Добавляем точки тестовых данных на график\n",
    "ax.set_xlabel('TV budget in $1000', fontsize=20)  # Задаем подпись для оси X\n",
    "ax.set_ylabel('Sales in $1000', fontsize=20)  # Задаем подпись для оси Y\n",
    "plt.tight_layout()  # Избегаем наложение текста или меток"
   ]
  },
  {
   "cell_type": "markdown",
   "metadata": {},
   "source": [
    "# Поиск наилучшего k"
   ]
  },
  {
   "cell_type": "code",
   "execution_count": null,
   "metadata": {},
   "outputs": [],
   "source": [
    "# Построить график, который изображает связь между значениями k и MSE\n",
    "plt.figure(figsize=(8,6))\n",
    "plt.plot(list(`имя словаря`.keys()), (`имя словаря`.values()),'bx-', alpha= 0.5, linewidth = 2) #bx-', где b цвет x тип маркера - тип линии\n",
    "\n",
    "# Установите метки заголовка и оси\n",
    "plt.xlabel('k',fontsize=20)\n",
    "plt.ylabel('MSE',fontsize = 20)\n",
    "plt.title('Test $MSE$ values for different k values - KNN regression',fontsize=20)\n",
    "plt.tight_layout()"
   ]
  },
  {
   "cell_type": "code",
   "execution_count": null,
   "metadata": {},
   "outputs": [],
   "source": [
    "# Найдите самый низкий MSE среди всех моделей KNN\n",
    "min_mse = min(list(`имя_словаря`.values()))\n",
    "\n",
    "# Используйте понимание списка, чтобы найти значение k, связанное с самым низким MSE\n",
    "best_model = [key  for (key, value) in `имя_словаря`.items() if value == min_mse]\n",
    "\n",
    "# Распечатайте лучшее k-значение\n",
    "print (\"The best k value is \", best_model,\"with a MSE of \", min_mse)\n"
   ]
  },
  {
   "cell_type": "markdown",
   "metadata": {},
   "source": [
    "Примечание: best_model - это словарь, в котором будет элемент соответствующий условию, то есть один элемент. с индексом 0"
   ]
  },
  {
   "cell_type": "code",
   "execution_count": null,
   "metadata": {},
   "outputs": [],
   "source": [
    "# Помощный код для вычисления R2_SCORE вашей лучшей модели\n",
    "model = KNeighborsRegressor(n_neighbors = best_model[0])\n",
    "model.fit(x_train, y_train)\n",
    "y_pred_test = model.predict(x_test)\n",
    "\n",
    "# Распечатайте оценку R2 модели\n",
    "print(f\"The R2 score for your model is {r2_score(y_test, y_pred_test)}\")"
   ]
  }
 ],
 "metadata": {
  "kernelspec": {
   "display_name": "Python 3",
   "language": "python",
   "name": "python3"
  },
  "language_info": {
   "codemirror_mode": {
    "name": "ipython",
    "version": 3
   },
   "file_extension": ".py",
   "mimetype": "text/x-python",
   "name": "python",
   "nbconvert_exporter": "python",
   "pygments_lexer": "ipython3",
   "version": "3.11.1"
  },
  "orig_nbformat": 4
 },
 "nbformat": 4,
 "nbformat_minor": 2
}
