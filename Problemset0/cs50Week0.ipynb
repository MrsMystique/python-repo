{
 "cells": [
  {
   "attachments": {},
   "cell_type": "markdown",
   "metadata": {},
   "source": [
    "## Задача 1\n",
    "\n",
    "Преобразовать пользовательский ввод в нижний регистр"
   ]
  },
  {
   "cell_type": "code",
   "execution_count": null,
   "metadata": {},
   "outputs": [],
   "source": [
    "indoor = input(\"Enter some text: \").strip().upper()\n",
    "print(f\"In upper case it will be {indoor}\")\n"
   ]
  },
  {
   "attachments": {},
   "cell_type": "markdown",
   "metadata": {},
   "source": [
    "## Задача 2\n",
    "Преобразовать символы :) и :( в смайлики юникода. Написать для этого функцию. Так же функцию мейн, в которой вызвать все необходимые аргументы"
   ]
  },
  {
   "cell_type": "code",
   "execution_count": 3,
   "metadata": {},
   "outputs": [
    {
     "name": "stdout",
     "output_type": "stream",
     "text": [
      "Hello my love 🙂\n",
      "Goodbye my love 🙁\n",
      "im tired 🙁 but im happy 🙂\n"
     ]
    }
   ],
   "source": [
    "def main():\n",
    "    str = input()\n",
    "    print(convert(str))\n",
    "\n",
    "\n",
    "def convert(str):\n",
    "    if \":)\" and \":(\" in str:\n",
    "        newstr = str.replace(\":)\", \"\\U0001F642\").replace(\":(\", \"\\U0001F641\")\n",
    "        return newstr\n",
    "    elif \":)\" in str:\n",
    "        newstr = str.replace(\":)\", \"\\U0001F642\")\n",
    "        return newstr\n",
    "    elif \":(\" in str:\n",
    "        newstr = str.replace(\":(\", \"\\U0001F641\")\n",
    "        return newstr\n",
    "\n",
    "\n",
    "main()\n",
    "main()\n",
    "main()\n"
   ]
  },
  {
   "attachments": {},
   "cell_type": "markdown",
   "metadata": {},
   "source": [
    "## Задача 3\n",
    "\n",
    "Написать функции для подсчета чаевых. На ввод принимаются данные в определенном формате: дробные числа в формате $##.## ($50.00) и процент в формате ##% (15%)"
   ]
  },
  {
   "cell_type": "code",
   "execution_count": null,
   "metadata": {},
   "outputs": [],
   "source": [
    "def main():\n",
    "    dollars = dollars_to_float(input(\"How much was the meal? \"))\n",
    "    percent = percent_to_float(input(\"What percentage would you like to tip? \"))\n",
    "    tip = dollars * percent\n",
    "    print(f\"Leave ${tip:.2f}\")\n",
    "\n",
    "\n",
    "def dollars_to_float(dollars):\n",
    "    price = float(dollars.strip(\"$\"))\n",
    "    return price\n",
    "\n",
    "def percent_to_float(percent):\n",
    "    percentage = float((percent).strip(\"%\"))/100\n",
    "    return percentage\n",
    "\n",
    "\n",
    "main()\n"
   ]
  },
  {
   "attachments": {},
   "cell_type": "markdown",
   "metadata": {},
   "source": [
    "## Задача 4\n",
    "Написать код для расчета количества джоулей исходя из массы и скорости света (дана)"
   ]
  },
  {
   "cell_type": "code",
   "execution_count": null,
   "metadata": {},
   "outputs": [],
   "source": [
    "def squared (n):\n",
    "    return n*n\n",
    "\n",
    "\n",
    "mass = int(input(\"Input mass(kg): \"))\n",
    "energy  = int(300000000)\n",
    "number_of_joules = squared(energy)*mass\n",
    "print (number_of_joules)\n"
   ]
  }
 ],
 "metadata": {
  "kernelspec": {
   "display_name": "Python 3",
   "language": "python",
   "name": "python3"
  },
  "language_info": {
   "codemirror_mode": {
    "name": "ipython",
    "version": 3
   },
   "file_extension": ".py",
   "mimetype": "text/x-python",
   "name": "python",
   "nbconvert_exporter": "python",
   "pygments_lexer": "ipython3",
   "version": "3.11.1"
  },
  "orig_nbformat": 4
 },
 "nbformat": 4,
 "nbformat_minor": 2
}
