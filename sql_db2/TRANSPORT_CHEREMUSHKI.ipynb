{
 "cells": [
  {
   "attachments": {},
   "cell_type": "markdown",
   "metadata": {},
   "source": [
    "# Создание базы данных с помощью SQL. В облаке IBM и в таблицах ехсель по шагам.\n",
    "1)\tНаша задача – создать реляционную базу данных на примере небольшого городка, где немного транспорта.\n",
    "2)\tМоя конкретная цель использования этой БД – хочу знать где и когда и какой находится транспорт, кто на смене и какие-то банальные вещи. Не буду считать амортизацию и тп=)) и мой автобус никогда не ломается)))\n"
   ]
  },
  {
   "cell_type": "code",
   "execution_count": 1,
   "metadata": {},
   "outputs": [],
   "source": [
    "# импортируем расширения для работы с базой данных и подключимся к серверу\n",
    "%load_ext sql\n",
    "import ibm_db\n",
    "%sql ibm_db_sa://zll40028:ddf0A3z05tbS4duC@b0aebb68-94fa-46ec-a1fc-1c999edb6187.c3n41cmd0nqnrk39u98g.databases.appdomain.cloud:31249/BLUDB?security=SSL"
   ]
  },
  {
   "attachments": {},
   "cell_type": "markdown",
   "metadata": {},
   "source": [
    "### Для себя вижу несколько вариантов создания БД:\n",
    "•\tсразу в эксель или блокнот, дальше загружать в облако для работы с БД\n",
    "\n",
    "•\tсразу в облаке с помощью SQL и при необходимости выгружать таблицы для создания резервных копий\n",
    "\n",
    "**Тем не менее, первое, что мне необходимо – расписать какие данные у меня могут присутствовать для конкретных целей использования**\n"
   ]
  },
  {
   "attachments": {},
   "cell_type": "markdown",
   "metadata": {},
   "source": [
    "## Транспорт в небольшом городке будет иметь следующие характеристики:\n",
    "\n",
    "•\tтип (автобус, микроавтобус)\n",
    "\n",
    "•\tпервичным ключом будет являться гаражный номер транспортного средства, так как он уникален\n",
    "\n",
    "•\tгод выпуска транспортного средства\n",
    "\n",
    "•\tдата тех осмотра\n",
    "\n",
    "•\tколичество посадочных мест\n",
    "\n",
    "•\tНомер транспортного средства – так же будет уникален\n",
    "\n",
    "\n",
    "***не буду погружаться в расход топлива, километраж и амортизацию=)***\n"
   ]
  },
  {
   "attachments": {},
   "cell_type": "markdown",
   "metadata": {},
   "source": [
    "### Создаем таблицу\n",
    "***синтаксис выглядит следующим образом:***\n",
    "\n",
    "CREATE TABLE table_name (\n",
    "\n",
    "    col1 datatype optional keyword, \n",
    "\n",
    "    col2 datatype optional keyword,\n",
    "\n",
    "    col3datatype optional keyword,\n",
    "\n",
    "    ...,\n",
    "    \n",
    "    coln datatype optional keyword)"
   ]
  },
  {
   "cell_type": "code",
   "execution_count": 2,
   "metadata": {},
   "outputs": [
    {
     "name": "stdout",
     "output_type": "stream",
     "text": [
      " * ibm_db_sa://zll40028:***@b0aebb68-94fa-46ec-a1fc-1c999edb6187.c3n41cmd0nqnrk39u98g.databases.appdomain.cloud:31249/BLUDB\n",
      "Done.\n"
     ]
    },
    {
     "data": {
      "text/plain": [
       "[]"
      ]
     },
     "execution_count": 2,
     "metadata": {},
     "output_type": "execute_result"
    }
   ],
   "source": [
    "\n",
    "%%sql \n",
    "CREATE TABLE ТРАНСПОРТ(\n",
    "\tНОМЕР_ТРАНСПОРТНОГО_СРЕДСТВА VARCHAR (10) NOT NULL, \n",
    "\tГАРАЖНЫЙ_НОМЕР VARCHAR(10)PRIMARY KEY NOT NULL,\n",
    "\tТИП_ТРАНСПОРТА VARCHAR(50)NOT NULL,\n",
    "\tГОД_ВЫПУСКА_ТРАНСПОРТА DATE NOT NULL,\n",
    "\tДАТА_ТЕХОСМОТРА DATE NOT NULL,\n",
    "\tКОЛИЧЕСТВО_ПОСАДОЧНЫХ_МЕСТ INT NOT NULL,\n",
    "\tНОМЕР_МАРШРУТА VARCHAR(10) NOT NULL,\n",
    "\tНОМЕР_ДЕПО VARCHAR(10) NOT NULL)\n"
   ]
  },
  {
   "attachments": {},
   "cell_type": "markdown",
   "metadata": {},
   "source": [
    "### Заполняем таблицу данными\n",
    "***синтаксис выглядит следующим образом:***\n",
    "\n",
    "INSERT INTO table_name\n",
    "\n",
    "(column1,column2,column3...)\n",
    "\n",
    "VALUES(value1,value2,value3...);\n",
    "\n"
   ]
  },
  {
   "cell_type": "code",
   "execution_count": 3,
   "metadata": {},
   "outputs": [
    {
     "name": "stdout",
     "output_type": "stream",
     "text": [
      " * ibm_db_sa://zll40028:***@b0aebb68-94fa-46ec-a1fc-1c999edb6187.c3n41cmd0nqnrk39u98g.databases.appdomain.cloud:31249/BLUDB\n",
      "3 rows affected.\n"
     ]
    },
    {
     "data": {
      "text/plain": [
       "[]"
      ]
     },
     "execution_count": 3,
     "metadata": {},
     "output_type": "execute_result"
    }
   ],
   "source": [
    "%%sql \n",
    "INSERT INTO ТРАНСПОРТ(\n",
    "    НОМЕР_ТРАНСПОРТНОГО_СРЕДСТВА, \n",
    "    ГАРАЖНЫЙ_НОМЕР, \n",
    "    ТИП_ТРАНСПОРТА, \n",
    "    ГОД_ВЫПУСКА_ТРАНСПОРТА, \n",
    "    ДАТА_ТЕХОСМОТРА, \n",
    "    КОЛИЧЕСТВО_ПОСАДОЧНЫХ_МЕСТ, \n",
    "    НОМЕР_МАРШРУТА, \n",
    "    НОМЕР_ДЕПО) \n",
    "VALUES \n",
    "('34A356', '11','АВТОБУС', '2015-10-20', '2022-12-05', 40, 6,'45А'),\n",
    "('36B134', '12','МИКРОАВТОБУС', '2018-05-12', '2021-10-01', 20, 3,'56В'),\n",
    "('32C327', '14','МИКРОАВТОБУС', '2019-08-17', '2020-11-12', 20, 4,'45А')"
   ]
  },
  {
   "attachments": {},
   "cell_type": "markdown",
   "metadata": {},
   "source": [
    "## Просмотрим таблицу"
   ]
  },
  {
   "cell_type": "code",
   "execution_count": 4,
   "metadata": {},
   "outputs": [
    {
     "name": "stdout",
     "output_type": "stream",
     "text": [
      " * ibm_db_sa://zll40028:***@b0aebb68-94fa-46ec-a1fc-1c999edb6187.c3n41cmd0nqnrk39u98g.databases.appdomain.cloud:31249/BLUDB\n",
      "Done.\n"
     ]
    },
    {
     "data": {
      "text/html": [
       "<table>\n",
       "    <tr>\n",
       "        <th>НОМЕР_ТРАНСПОРТНОГО_СРЕДСТВА</th>\n",
       "        <th>ГАРАЖНЫЙ_НОМЕР</th>\n",
       "        <th>ТИП_ТРАНСПОРТА</th>\n",
       "        <th>ГОД_ВЫПУСКА_ТРАНСПОРТА</th>\n",
       "        <th>ДАТА_ТЕХОСМОТРА</th>\n",
       "        <th>КОЛИЧЕСТВО_ПОСАДОЧНЫХ_МЕСТ</th>\n",
       "        <th>НОМЕР_МАРШРУТА</th>\n",
       "        <th>НОМЕР_ДЕПО</th>\n",
       "    </tr>\n",
       "    <tr>\n",
       "        <td>34A356</td>\n",
       "        <td>11</td>\n",
       "        <td>АВТОБУС</td>\n",
       "        <td>2015-10-20</td>\n",
       "        <td>2022-12-05</td>\n",
       "        <td>40</td>\n",
       "        <td>6</td>\n",
       "        <td>45А</td>\n",
       "    </tr>\n",
       "    <tr>\n",
       "        <td>36B134</td>\n",
       "        <td>12</td>\n",
       "        <td>МИКРОАВТОБУС</td>\n",
       "        <td>2018-05-12</td>\n",
       "        <td>2021-10-01</td>\n",
       "        <td>20</td>\n",
       "        <td>3</td>\n",
       "        <td>56В</td>\n",
       "    </tr>\n",
       "    <tr>\n",
       "        <td>32C327</td>\n",
       "        <td>14</td>\n",
       "        <td>МИКРОАВТОБУС</td>\n",
       "        <td>2019-08-17</td>\n",
       "        <td>2020-11-12</td>\n",
       "        <td>20</td>\n",
       "        <td>4</td>\n",
       "        <td>45А</td>\n",
       "    </tr>\n",
       "</table>"
      ],
      "text/plain": [
       "[('34A356', '11', 'АВТОБУС', datetime.date(2015, 10, 20), datetime.date(2022, 12, 5), 40, '6', '45А'),\n",
       " ('36B134', '12', 'МИКРОАВТОБУС', datetime.date(2018, 5, 12), datetime.date(2021, 10, 1), 20, '3', '56В'),\n",
       " ('32C327', '14', 'МИКРОАВТОБУС', datetime.date(2019, 8, 17), datetime.date(2020, 11, 12), 20, '4', '45А')]"
      ]
     },
     "execution_count": 4,
     "metadata": {},
     "output_type": "execute_result"
    }
   ],
   "source": [
    "%%sql\n",
    "SELECT * FROM ТРАНСПОРТ"
   ]
  },
  {
   "attachments": {},
   "cell_type": "markdown",
   "metadata": {},
   "source": [
    "Просмотрим уникальные значения какой то ячейки, например тип_транспорта"
   ]
  },
  {
   "cell_type": "code",
   "execution_count": 5,
   "metadata": {},
   "outputs": [
    {
     "name": "stdout",
     "output_type": "stream",
     "text": [
      " * ibm_db_sa://zll40028:***@b0aebb68-94fa-46ec-a1fc-1c999edb6187.c3n41cmd0nqnrk39u98g.databases.appdomain.cloud:31249/BLUDB\n",
      "Done.\n"
     ]
    },
    {
     "data": {
      "text/html": [
       "<table>\n",
       "    <tr>\n",
       "        <th>ТИП_ТРАНСПОРТА</th>\n",
       "    </tr>\n",
       "    <tr>\n",
       "        <td>АВТОБУС</td>\n",
       "    </tr>\n",
       "    <tr>\n",
       "        <td>МИКРОАВТОБУС</td>\n",
       "    </tr>\n",
       "</table>"
      ],
      "text/plain": [
       "[('АВТОБУС',), ('МИКРОАВТОБУС',)]"
      ]
     },
     "execution_count": 5,
     "metadata": {},
     "output_type": "execute_result"
    }
   ],
   "source": [
    "%sql SELECT DISTINCT ТИП_ТРАНСПОРТА FROM ТРАНСПОРТ"
   ]
  },
  {
   "attachments": {},
   "cell_type": "markdown",
   "metadata": {},
   "source": [
    "## Заполним остальные таблицы"
   ]
  },
  {
   "cell_type": "code",
   "execution_count": 6,
   "metadata": {},
   "outputs": [
    {
     "name": "stdout",
     "output_type": "stream",
     "text": [
      " * ibm_db_sa://zll40028:***@b0aebb68-94fa-46ec-a1fc-1c999edb6187.c3n41cmd0nqnrk39u98g.databases.appdomain.cloud:31249/BLUDB\n",
      "Done.\n"
     ]
    },
    {
     "data": {
      "text/plain": [
       "[]"
      ]
     },
     "execution_count": 6,
     "metadata": {},
     "output_type": "execute_result"
    }
   ],
   "source": [
    "%%sql\n",
    "CREATE TABLE СОТРУДНИКИ (\n",
    "    ТАБЕЛЬНЫЙ_НОМЕР VARCHAR(10)PRIMARY KEY NOT NULL,\n",
    "    ИМЯ VARCHAR(50)NOT NULL,\n",
    "    ОТЧЕСТВО VARCHAR(50) NOT NULL,\n",
    "    ФАМИЛИЯ VARCHAR(50) NOT NULL,\n",
    "    ДОЛЖНОСТЬ VARCHAR(50) NOT NULL,\n",
    "\tСТАЖ_РАБОТЫ INT NOT NULL,\n",
    "\tДАТА_ПРИЕМА_НА_РАБОТУ DATE NOT NULL,\n",
    "\tПОЛ VARCHAR(10) NOT NULL,\n",
    "\tДАТА_РОЖДЕНИЯ DATE NOT NULL\n",
    ")"
   ]
  },
  {
   "cell_type": "code",
   "execution_count": 7,
   "metadata": {},
   "outputs": [
    {
     "name": "stdout",
     "output_type": "stream",
     "text": [
      " * ibm_db_sa://zll40028:***@b0aebb68-94fa-46ec-a1fc-1c999edb6187.c3n41cmd0nqnrk39u98g.databases.appdomain.cloud:31249/BLUDB\n",
      "4 rows affected.\n"
     ]
    },
    {
     "data": {
      "text/plain": [
       "[]"
      ]
     },
     "execution_count": 7,
     "metadata": {},
     "output_type": "execute_result"
    }
   ],
   "source": [
    "%%sql\n",
    "INSERT INTO СОТРУДНИКИ (\n",
    "\tТАБЕЛЬНЫЙ_НОМЕР,\n",
    "\tИМЯ,\n",
    "\tОТЧЕСТВО,\n",
    "\tФАМИЛИЯ,\n",
    "\tДОЛЖНОСТЬ,\n",
    "\tСТАЖ_РАБОТЫ,\n",
    "\tДАТА_ПРИЕМА_НА_РАБОТУ,\n",
    "\tПОЛ,\n",
    "\tДАТА_РОЖДЕНИЯ)\n",
    "VALUES\n",
    "\t(123,'ПЕТР','ПЕТРОВИЧ','ПЕТРОВ','ВОДИТЕЛЬ',12,'2019-08-17','М','1985-05-13'),\n",
    "\t(124,'ВАЛЕРИЙ','ВАЛЕРЬЕВИЧ','ВАЛЕРЬЕВ','ВОДИТЕЛЬ',14,'2018-08-15','М','1983-02-11'),\n",
    "\t(121,'МАРИЯ','ФЕДОРОВНА','ИВАНОВА','КОНДУКТОР',10,'2019-09-17','Ж','1973-01-15'),\n",
    "\t(126,'СЕРАФИМА','ИВАНОВНА','КУКОЛКИНА','КОНДУКТОР',8,'2020-03-04','Ж','1970-09-05');\n",
    " "
   ]
  },
  {
   "attachments": {},
   "cell_type": "markdown",
   "metadata": {},
   "source": [
    "## Проверим таблицу СОТРУДНИКИ"
   ]
  },
  {
   "cell_type": "code",
   "execution_count": 8,
   "metadata": {},
   "outputs": [
    {
     "name": "stdout",
     "output_type": "stream",
     "text": [
      " * ibm_db_sa://zll40028:***@b0aebb68-94fa-46ec-a1fc-1c999edb6187.c3n41cmd0nqnrk39u98g.databases.appdomain.cloud:31249/BLUDB\n",
      "Done.\n"
     ]
    },
    {
     "data": {
      "text/html": [
       "<table>\n",
       "    <tr>\n",
       "        <th>ТАБЕЛЬНЫЙ_НОМЕР</th>\n",
       "        <th>ИМЯ</th>\n",
       "        <th>ОТЧЕСТВО</th>\n",
       "        <th>ФАМИЛИЯ</th>\n",
       "        <th>ДОЛЖНОСТЬ</th>\n",
       "        <th>СТАЖ_РАБОТЫ</th>\n",
       "        <th>ДАТА_ПРИЕМА_НА_РАБОТУ</th>\n",
       "        <th>ПОЛ</th>\n",
       "        <th>ДАТА_РОЖДЕНИЯ</th>\n",
       "    </tr>\n",
       "    <tr>\n",
       "        <td>123</td>\n",
       "        <td>ПЕТР</td>\n",
       "        <td>ПЕТРОВИЧ</td>\n",
       "        <td>ПЕТРОВ</td>\n",
       "        <td>ВОДИТЕЛЬ</td>\n",
       "        <td>12</td>\n",
       "        <td>2019-08-17</td>\n",
       "        <td>М</td>\n",
       "        <td>1985-05-13</td>\n",
       "    </tr>\n",
       "    <tr>\n",
       "        <td>124</td>\n",
       "        <td>ВАЛЕРИЙ</td>\n",
       "        <td>ВАЛЕРЬЕВИЧ</td>\n",
       "        <td>ВАЛЕРЬЕВ</td>\n",
       "        <td>ВОДИТЕЛЬ</td>\n",
       "        <td>14</td>\n",
       "        <td>2018-08-15</td>\n",
       "        <td>М</td>\n",
       "        <td>1983-02-11</td>\n",
       "    </tr>\n",
       "    <tr>\n",
       "        <td>121</td>\n",
       "        <td>МАРИЯ</td>\n",
       "        <td>ФЕДОРОВНА</td>\n",
       "        <td>ИВАНОВА</td>\n",
       "        <td>КОНДУКТОР</td>\n",
       "        <td>10</td>\n",
       "        <td>2019-09-17</td>\n",
       "        <td>Ж</td>\n",
       "        <td>1973-01-15</td>\n",
       "    </tr>\n",
       "    <tr>\n",
       "        <td>126</td>\n",
       "        <td>СЕРАФИМА</td>\n",
       "        <td>ИВАНОВНА</td>\n",
       "        <td>КУКОЛКИНА</td>\n",
       "        <td>КОНДУКТОР</td>\n",
       "        <td>8</td>\n",
       "        <td>2020-03-04</td>\n",
       "        <td>Ж</td>\n",
       "        <td>1970-09-05</td>\n",
       "    </tr>\n",
       "</table>"
      ],
      "text/plain": [
       "[('123', 'ПЕТР', 'ПЕТРОВИЧ', 'ПЕТРОВ', 'ВОДИТЕЛЬ', 12, datetime.date(2019, 8, 17), 'М', datetime.date(1985, 5, 13)),\n",
       " ('124', 'ВАЛЕРИЙ', 'ВАЛЕРЬЕВИЧ', 'ВАЛЕРЬЕВ', 'ВОДИТЕЛЬ', 14, datetime.date(2018, 8, 15), 'М', datetime.date(1983, 2, 11)),\n",
       " ('121', 'МАРИЯ', 'ФЕДОРОВНА', 'ИВАНОВА', 'КОНДУКТОР', 10, datetime.date(2019, 9, 17), 'Ж', datetime.date(1973, 1, 15)),\n",
       " ('126', 'СЕРАФИМА', 'ИВАНОВНА', 'КУКОЛКИНА', 'КОНДУКТОР', 8, datetime.date(2020, 3, 4), 'Ж', datetime.date(1970, 9, 5))]"
      ]
     },
     "execution_count": 8,
     "metadata": {},
     "output_type": "execute_result"
    }
   ],
   "source": [
    "%sql SELECT * FROM СОТРУДНИКИ"
   ]
  },
  {
   "cell_type": "code",
   "execution_count": 10,
   "metadata": {},
   "outputs": [
    {
     "name": "stdout",
     "output_type": "stream",
     "text": [
      " * ibm_db_sa://zll40028:***@b0aebb68-94fa-46ec-a1fc-1c999edb6187.c3n41cmd0nqnrk39u98g.databases.appdomain.cloud:31249/BLUDB\n",
      "Done.\n"
     ]
    },
    {
     "data": {
      "text/html": [
       "<table>\n",
       "    <tr>\n",
       "        <th>ИМЯ</th>\n",
       "        <th>ОТЧЕСТВО</th>\n",
       "        <th>ТАБЕЛЬНЫЙ_НОМЕР</th>\n",
       "        <th>ДАТА_ПРИЕМА_НА_РАБОТУ</th>\n",
       "    </tr>\n",
       "    <tr>\n",
       "        <td>ПЕТР</td>\n",
       "        <td>ПЕТРОВИЧ</td>\n",
       "        <td>123</td>\n",
       "        <td>2019-08-17</td>\n",
       "    </tr>\n",
       "    <tr>\n",
       "        <td>ВАЛЕРИЙ</td>\n",
       "        <td>ВАЛЕРЬЕВИЧ</td>\n",
       "        <td>124</td>\n",
       "        <td>2018-08-15</td>\n",
       "    </tr>\n",
       "    <tr>\n",
       "        <td>МАРИЯ</td>\n",
       "        <td>ФЕДОРОВНА</td>\n",
       "        <td>121</td>\n",
       "        <td>2019-09-17</td>\n",
       "    </tr>\n",
       "</table>"
      ],
      "text/plain": [
       "[('ПЕТР', 'ПЕТРОВИЧ', '123', datetime.date(2019, 8, 17)),\n",
       " ('ВАЛЕРИЙ', 'ВАЛЕРЬЕВИЧ', '124', datetime.date(2018, 8, 15)),\n",
       " ('МАРИЯ', 'ФЕДОРОВНА', '121', datetime.date(2019, 9, 17))]"
      ]
     },
     "execution_count": 10,
     "metadata": {},
     "output_type": "execute_result"
    }
   ],
   "source": [
    "%sql SELECT ИМЯ, ОТЧЕСТВО, ТАБЕЛЬНЫЙ_НОМЕР, ДАТА_ПРИЕМА_НА_РАБОТУ FROM СОТРУДНИКИ WHERE СТАЖ_РАБОТЫ BETWEEN '10' AND '14'"
   ]
  },
  {
   "attachments": {},
   "cell_type": "markdown",
   "metadata": {},
   "source": [
    "**Продолжаем создание страниц согласно плану** \n",
    "\n",
    "Создам все в одной ячейке для ускорения процесса"
   ]
  },
  {
   "cell_type": "code",
   "execution_count": 11,
   "metadata": {},
   "outputs": [
    {
     "name": "stdout",
     "output_type": "stream",
     "text": [
      " * ibm_db_sa://zll40028:***@b0aebb68-94fa-46ec-a1fc-1c999edb6187.c3n41cmd0nqnrk39u98g.databases.appdomain.cloud:31249/BLUDB\n",
      "Done.\n",
      "Done.\n",
      "Done.\n",
      "Done.\n",
      "Done.\n",
      "Done.\n"
     ]
    },
    {
     "data": {
      "text/plain": [
       "[]"
      ]
     },
     "execution_count": 11,
     "metadata": {},
     "output_type": "execute_result"
    }
   ],
   "source": [
    "%%sql\n",
    "CREATE TABLE УДОСТОВЕРЕНИЯ(\n",
    "    ТАБЕЛЬНЫЙ_НОМЕР VARCHAR(10)PRIMARY KEY NOT NULL,\n",
    "    ВИД_УДОСТОВЕРЕНИЯ VARCHAR(50) NOT NULL,\n",
    "    НОМЕР_УДОСТОВЕРЕНИЯ VARCHAR(10) NOT NULL,\n",
    "    ДАТА_ВЫДАЧИ DATE NOT NULL,\n",
    "    ДАТА_ЭКСПИРАЦИИ DATE NOT NULL,\n",
    "    КОММЕНТАРИЙ VARCHAR(70)\n",
    "\t\n",
    ");\n",
    "\n",
    "CREATE TABLE КОНТАКТНЫЕ_ДАННЫЕ_СОТРУДНИКОВ(\n",
    "    ТАБЕЛЬНЫЙ_НОМЕР VARCHAR(10)PRIMARY KEY NOT NULL,\n",
    "    ГОРОД VARCHAR(50) NOT NULL,\n",
    "    УЛИЦА VARCHAR(70) NOT NULL,\n",
    "    НОМЕР_ДОМА VARCHAR(10) NOT NULL,\n",
    "    НОМЕР_КВАРТИРЫ VARCHAR(10),\n",
    "    НОМЕР_ТЕЛЕФОНА VARCHAR(70) NOT NULL,\n",
    "    КОММЕНТАРИЙ VARCHAR(70)\n",
    "\n",
    ");\n",
    "\n",
    "\n",
    "CREATE TABLE ГРАФИК_РАБОТЫ(\n",
    "    ТАБЕЛЬНЫЙ_НОМЕР VARCHAR(10)PRIMARY KEY NOT NULL,\n",
    "    ПОНЕДЕЛЬНИК CHAR,\n",
    "\tВТОРНИК CHAR,\n",
    "\tСРЕДА CHAR,\n",
    "\tЧЕТВЕРГ CHAR,\n",
    "\tПЯТНИЦА CHAR,\n",
    "\tСУББОТА CHAR,\n",
    "\tВОСКРЕСЕНЬЕ CHAR,\n",
    "\tНОМЕР_МАРШРУТА CHAR,\n",
    "\tВРЕМЯ_ВЫХОДА_НА_МАРШРУТ TIME NOT NULL,\n",
    "    ВРЕМЯ_ОКОНЧАНИЯ_РАБОТЫ TIME NOT NULL\n",
    ");\n",
    "\n",
    "CREATE TABLE РАСПИСАНИЕ(\n",
    "    ГАРАЖНЫЙ_НОМЕР VARCHAR(10) NOT NULL,\n",
    "    НОМЕР_МАРШРУТА CHAR(5) NOT NULL,\n",
    "   \tОСТАНОВКА VARCHAR(70) NOT NULL,\n",
    "\tВРЕМЯ_ПРИБЫТИЯ TIME NOT NULL,\n",
    "    ВРЕМЯ_ПРИБЫТИЯ1 TIME NOT NULL,\n",
    "    ВРЕМЯ_ПРИБЫТИЯ2 TIME NOT NULL,\n",
    "    ВРЕМЯ_ПРИБЫТИЯ3 TIME NOT NULL\n",
    ");\n",
    "\n",
    "\n",
    "CREATE TABLE ДЕПО(\n",
    "    НОМЕР_ДЕПО VARCHAR(10)PRIMARY KEY NOT NULL,\n",
    "    ГОРОД VARCHAR(50) NOT NULL,\n",
    "    УЛИЦА VARCHAR(70) NOT NULL,\n",
    "    НОМЕР_ЗДАНИЯ CHAR (5) NOT NULL,\n",
    "    НОМЕР_ТЕЛЕФОНА VARCHAR(70) NOT NULL,\n",
    "    ФАКС VARCHAR(70),\n",
    "    КОММЕНТАРИЙ VARCHAR(70)\n",
    "\n",
    ");\n",
    "\n",
    "CREATE TABLE ЗАРАБОТНАЯ_ПЛАТА(\n",
    "    ТАБЕЛЬНЫЙ_НОМЕР VARCHAR(10)PRIMARY KEY NOT NULL,\n",
    "    ОКЛАД DOUBLE NOT NULL,\n",
    "    КОММЕНТАРИЙ VARCHAR(70)\n",
    "\n",
    ");"
   ]
  },
  {
   "attachments": {},
   "cell_type": "markdown",
   "metadata": {},
   "source": [
    "### Заполним:"
   ]
  },
  {
   "cell_type": "code",
   "execution_count": 12,
   "metadata": {},
   "outputs": [
    {
     "name": "stdout",
     "output_type": "stream",
     "text": [
      " * ibm_db_sa://zll40028:***@b0aebb68-94fa-46ec-a1fc-1c999edb6187.c3n41cmd0nqnrk39u98g.databases.appdomain.cloud:31249/BLUDB\n",
      "4 rows affected.\n",
      "4 rows affected.\n",
      "4 rows affected.\n",
      "25 rows affected.\n",
      "2 rows affected.\n",
      "4 rows affected.\n"
     ]
    },
    {
     "data": {
      "text/plain": [
       "[]"
      ]
     },
     "execution_count": 12,
     "metadata": {},
     "output_type": "execute_result"
    }
   ],
   "source": [
    "%%sql\n",
    "INSERT INTO КОНТАКТНЫЕ_ДАННЫЕ_СОТРУДНИКОВ(\n",
    "    ТАБЕЛЬНЫЙ_НОМЕР,\n",
    "    ГОРОД,\n",
    "    УЛИЦА,\n",
    "    НОМЕР_ДОМА,\n",
    "    НОМЕР_КВАРТИРЫ,\n",
    "    НОМЕР_ТЕЛЕФОНА,\n",
    "    КОММЕНТАРИЙ)\n",
    "VALUES\n",
    "\t(123,'ЧЕРЕМУШКИ','УЛ. РАДУЖНАЯ','4','','+34-34-456738',''),\n",
    "\t(124,'ЧЕРЕМУШКИ','УЛ. СОЛНЕЧНАЯ','12','34','+34-34-45735',''),\n",
    "\t(121,'НИЖНИЕ ЧЕРЕМУШКИ','УЛ. ЛЕСНАЯ','48-А','36','+34-34-42910',''),\n",
    "\t(126,'ВЕРХНИЕ ЧЕРЕМУШКИ','УЛ. ОЗЕРНАЯ','34','','+34-34-44535','');\n",
    "\n",
    "INSERT INTO УДОСТОВЕРЕНИЯ(\n",
    "    ТАБЕЛЬНЫЙ_НОМЕР,\n",
    "    ВИД_УДОСТОВЕРЕНИЯ,\n",
    "    НОМЕР_УДОСТОВЕРЕНИЯ,\n",
    "    ДАТА_ВЫДАЧИ,\n",
    "    ДАТА_ЭКСПИРАЦИИ,\n",
    "    КОММЕНТАРИЙ)\n",
    "VALUES\n",
    "\t(123,'ВОДИТЕЛЬСКОЕ','AB25436F','2015-08-16','2023-08-17','КАТЕГОРИЯ D,C'),\n",
    "\t(124,'ВОДИТЕЛЬСКОЕ','AC24367F','2014-01-12','2025-12-01','КАТЕГОРИЯ B,D,C'),\n",
    "\t(121,'КОНДУКТОРСКОЕ','4734645-1','2015-10-23','2024-08-09',''),\n",
    "\t(126,'КОНДУКТОРСКОЕ','3245367-2','2017-11-18','2025-11-19','');\n",
    "\n",
    "\n",
    "INSERT INTO ГРАФИК_РАБОТЫ(\n",
    "    ТАБЕЛЬНЫЙ_НОМЕР,\n",
    "    ПОНЕДЕЛЬНИК,\n",
    "\tВТОРНИК,\n",
    "\tСРЕДА,\n",
    "\tЧЕТВЕРГ,\n",
    "\tПЯТНИЦА,\n",
    "\tСУББОТА,\n",
    "\tВОСКРЕСЕНЬЕ,\n",
    "\tНОМЕР_МАРШРУТА,\n",
    "\tВРЕМЯ_ВЫХОДА_НА_МАРШРУТ,\n",
    "    ВРЕМЯ_ОКОНЧАНИЯ_РАБОТЫ)\n",
    "VALUES\n",
    "\t(123,'+','','+','','+','','+','6','06:30:00','23:30:00'),\n",
    "\t(124,'','+','','+','','+','','3','06:30:00','23:50:00'),\n",
    "\t(121,'+','','+','','+','','+','6','06:30:00','23:30:00'),\n",
    "\t(126,'','+','','+','','+','','3','06:30:00','23:50:00');\n",
    "\n",
    "INSERT INTO РАСПИСАНИЕ(\n",
    "    ГАРАЖНЫЙ_НОМЕР,\n",
    "    НОМЕР_МАРШРУТА,\n",
    "   \tОСТАНОВКА,\n",
    "\tВРЕМЯ_ПРИБЫТИЯ,\n",
    "    ВРЕМЯ_ПРИБЫТИЯ1,\n",
    "    ВРЕМЯ_ПРИБЫТИЯ2,\n",
    "    ВРЕМЯ_ПРИБЫТИЯ3)  \n",
    "VALUES\n",
    "('11','6','ДЕСАНТНАЯ','06:30:00','13:17:00','13:27:00','22:07:00'),\n",
    "('11','6','КИРПИЧНАЯ','06:45:00','12:55:00','13:41:00','21:35:00'),\n",
    "('11','6','ОЗЕРНАЯ','07:00:00','12:33:00','13:55:00','21:03:00'),\n",
    "('11','6','ГЕРШОНЫ','07:15:00','12:11:00','14:09:00','20:31:00'),\n",
    "('11','6','СИРЕНЕВАЯ','07:30:00','11:49:00','14:23:00','19:59:00'),\n",
    "('11','6','АРКАДИЯ','07:45:00','11:27:00','14:37:00','19:27:00'),\n",
    "('11','6','ФОРТ','08:00:00','11:05:00','14:51:00','18:55:00'),\n",
    "('11','6','ВОЛЫНКА','08:15:00','10:43:00','15:05:00','18:23:00'),\n",
    "('11','6','ПРИБУЖСКАЯ','08:30:00','10:21:00','15:19:00','17:51:00'),\n",
    "('11','6','ГРИБОЕДОВА','08:45:00','09:59:00','15:33:00','17:19:00'),\n",
    "('11','6','САЛЬНИКОВА','09:00:00','09:37:00','15:47:00','16:47:00'),\n",
    "('11','6','МАХНОВИЧА','09:15:00','09:18:00','16:01:00','16:15:00'),\n",
    "('12','3','ЦУМ','06:30:00','12:06:00','13:11:00','22:21:00'),\n",
    "('12','3','ЛЕНИНА','06:41:00','11:49:00','13:39:00','22:04:00'),\n",
    "('12','3','СКВЕР','06:52:00','11:32:00','14:07:00','21:47:00'),\n",
    "('12','3','ОВЕЧКИНА','07:03:00','11:15:00','14:35:00','21:30:00'),\n",
    "('12','3','ПАРК','07:14:00','10:58:00','15:03:00','21:13:00'),\n",
    "('12','3','МОСТОВАЯ','07:25:00','10:41:00','15:31:00','20:56:00'),\n",
    "('12','3','МАТРОСОВА','7:36:00','10:24:00','15:59:00','20:39:00'),\n",
    "('12','3','ВЕСЕЛАЯ','07:47:00','10:07:00','16:27:00','20:22:00'),\n",
    "('12','3','ПРИГОРОДНАЯ','07:58:00','09:50:00','16:55:00','20:05:00'),\n",
    "('12','3','АДАМКОВСКАЯ','08:09:00','09:33:00','17:23:00','19:48:00'),\n",
    "('12','3','ПОЧТА','08:20:00','09:16:00','17:51:00','19:31:00'),\n",
    "('12','3','АКИМОЧКИНА','08:31:00','8:59:00','18:19:00','19:14:00'),\n",
    "('12','3','ДВОРНИКОВА','08:39:00','08:42:00','18:47:00','18:57:00');\n",
    "\n",
    "INSERT INTO ДЕПО(\n",
    "    НОМЕР_ДЕПО,\n",
    "    ГОРОД,\n",
    "    УЛИЦА,\n",
    "    НОМЕР_ЗДАНИЯ,\n",
    "    НОМЕР_ТЕЛЕФОНА,\n",
    "    ФАКС,\n",
    "    КОММЕНТАРИЙ)\n",
    "VALUES\n",
    "\t('42','ЧЕРЕМУШКИ','УЛ.ДЕСАНТНАЯ','45А','+34-34-2-34','+645-263-2-23',''),\n",
    "\t('64','ЧЕРЕМУШКИ','УЛ.ЦЕНТРАЛЬНАЯ','56В','+34-3445635','+35-26453543','');\n",
    "\n",
    "INSERT INTO ЗАРАБОТНАЯ_ПЛАТА(\n",
    "    ТАБЕЛЬНЫЙ_НОМЕР,\n",
    "    ОКЛАД,\n",
    "    КОММЕНТАРИЙ)\n",
    "VALUES\n",
    "    (123,5000,''),\n",
    "\t(124,6000,''),\n",
    "\t(121,4000,''),\n",
    "\t(126,4000,'');\n"
   ]
  },
  {
   "attachments": {},
   "cell_type": "markdown",
   "metadata": {},
   "source": [
    "## Проверим на примере связанного запроса"
   ]
  },
  {
   "cell_type": "code",
   "execution_count": 13,
   "metadata": {},
   "outputs": [
    {
     "name": "stdout",
     "output_type": "stream",
     "text": [
      " * ibm_db_sa://zll40028:***@b0aebb68-94fa-46ec-a1fc-1c999edb6187.c3n41cmd0nqnrk39u98g.databases.appdomain.cloud:31249/BLUDB\n",
      "Done.\n"
     ]
    },
    {
     "data": {
      "text/html": [
       "<table>\n",
       "    <tr>\n",
       "        <th>ИМЯ</th>\n",
       "        <th>ФАМИЛИЯ</th>\n",
       "        <th>ДОЛЖНОСТЬ</th>\n",
       "        <th>НОМЕР_УДОСТОВЕРЕНИЯ</th>\n",
       "    </tr>\n",
       "    <tr>\n",
       "        <td>ПЕТР</td>\n",
       "        <td>ПЕТРОВ</td>\n",
       "        <td>ВОДИТЕЛЬ</td>\n",
       "        <td>AB25436F</td>\n",
       "    </tr>\n",
       "    <tr>\n",
       "        <td>ВАЛЕРИЙ</td>\n",
       "        <td>ВАЛЕРЬЕВ</td>\n",
       "        <td>ВОДИТЕЛЬ</td>\n",
       "        <td>AC24367F</td>\n",
       "    </tr>\n",
       "    <tr>\n",
       "        <td>МАРИЯ</td>\n",
       "        <td>ИВАНОВА</td>\n",
       "        <td>КОНДУКТОР</td>\n",
       "        <td>4734645-1</td>\n",
       "    </tr>\n",
       "    <tr>\n",
       "        <td>СЕРАФИМА</td>\n",
       "        <td>КУКОЛКИНА</td>\n",
       "        <td>КОНДУКТОР</td>\n",
       "        <td>3245367-2</td>\n",
       "    </tr>\n",
       "</table>"
      ],
      "text/plain": [
       "[('ПЕТР', 'ПЕТРОВ', 'ВОДИТЕЛЬ', 'AB25436F'),\n",
       " ('ВАЛЕРИЙ', 'ВАЛЕРЬЕВ', 'ВОДИТЕЛЬ', 'AC24367F'),\n",
       " ('МАРИЯ', 'ИВАНОВА', 'КОНДУКТОР', '4734645-1'),\n",
       " ('СЕРАФИМА', 'КУКОЛКИНА', 'КОНДУКТОР', '3245367-2')]"
      ]
     },
     "execution_count": 13,
     "metadata": {},
     "output_type": "execute_result"
    }
   ],
   "source": [
    "%%sql\n",
    "SELECT СОТРУДНИКИ.ИМЯ, СОТРУДНИКИ.ФАМИЛИЯ, СОТРУДНИКИ.ДОЛЖНОСТЬ, УДОСТОВЕРЕНИЯ.НОМЕР_УДОСТОВЕРЕНИЯ \n",
    "FROM СОТРУДНИКИ,УДОСТОВЕРЕНИЯ WHERE СОТРУДНИКИ.ТАБЕЛЬНЫЙ_НОМЕР = УДОСТОВЕРЕНИЯ.ТАБЕЛЬНЫЙ_НОМЕР"
   ]
  },
  {
   "attachments": {},
   "cell_type": "markdown",
   "metadata": {},
   "source": [
    "НАЙДЕМ СОТРУДНИКОВ КОТОРЫЕ ЗАРАБАТЫВАЮТ ОКОЛО 4-5 ТЫСЯЧ (БАКСОВ КОНЕЧНО=))"
   ]
  },
  {
   "cell_type": "code",
   "execution_count": 14,
   "metadata": {},
   "outputs": [
    {
     "name": "stdout",
     "output_type": "stream",
     "text": [
      " * ibm_db_sa://zll40028:***@b0aebb68-94fa-46ec-a1fc-1c999edb6187.c3n41cmd0nqnrk39u98g.databases.appdomain.cloud:31249/BLUDB\n",
      "Done.\n"
     ]
    },
    {
     "data": {
      "text/html": [
       "<table>\n",
       "    <tr>\n",
       "        <th>ИМЯ</th>\n",
       "        <th>ФАМИЛИЯ</th>\n",
       "        <th>ДОЛЖНОСТЬ</th>\n",
       "        <th>ОКЛАД</th>\n",
       "    </tr>\n",
       "    <tr>\n",
       "        <td>ПЕТР</td>\n",
       "        <td>ПЕТРОВ</td>\n",
       "        <td>ВОДИТЕЛЬ</td>\n",
       "        <td>5000.0</td>\n",
       "    </tr>\n",
       "    <tr>\n",
       "        <td>МАРИЯ</td>\n",
       "        <td>ИВАНОВА</td>\n",
       "        <td>КОНДУКТОР</td>\n",
       "        <td>4000.0</td>\n",
       "    </tr>\n",
       "    <tr>\n",
       "        <td>СЕРАФИМА</td>\n",
       "        <td>КУКОЛКИНА</td>\n",
       "        <td>КОНДУКТОР</td>\n",
       "        <td>4000.0</td>\n",
       "    </tr>\n",
       "</table>"
      ],
      "text/plain": [
       "[('ПЕТР', 'ПЕТРОВ', 'ВОДИТЕЛЬ', 5000.0),\n",
       " ('МАРИЯ', 'ИВАНОВА', 'КОНДУКТОР', 4000.0),\n",
       " ('СЕРАФИМА', 'КУКОЛКИНА', 'КОНДУКТОР', 4000.0)]"
      ]
     },
     "execution_count": 14,
     "metadata": {},
     "output_type": "execute_result"
    }
   ],
   "source": [
    "%%sql\n",
    "SELECT СОТРУДНИКИ.ИМЯ, СОТРУДНИКИ.ФАМИЛИЯ, СОТРУДНИКИ.ДОЛЖНОСТЬ, ЗАРАБОТНАЯ_ПЛАТА.ОКЛАД \n",
    "FROM СОТРУДНИКИ,ЗАРАБОТНАЯ_ПЛАТА WHERE СОТРУДНИКИ.ТАБЕЛЬНЫЙ_НОМЕР = ЗАРАБОТНАЯ_ПЛАТА.ТАБЕЛЬНЫЙ_НОМЕР AND ЗАРАБОТНАЯ_ПЛАТА.ОКЛАД BETWEEN '4000' AND '5000'"
   ]
  },
  {
   "attachments": {},
   "cell_type": "markdown",
   "metadata": {},
   "source": [
    "НАЙДЕМ СРЕДНЮЮ ЗП ПО БОЛЬНИЧКЕ"
   ]
  },
  {
   "cell_type": "code",
   "execution_count": 15,
   "metadata": {},
   "outputs": [
    {
     "name": "stdout",
     "output_type": "stream",
     "text": [
      " * ibm_db_sa://zll40028:***@b0aebb68-94fa-46ec-a1fc-1c999edb6187.c3n41cmd0nqnrk39u98g.databases.appdomain.cloud:31249/BLUDB\n",
      "Done.\n"
     ]
    },
    {
     "data": {
      "text/html": [
       "<table>\n",
       "    <tr>\n",
       "        <th>СРЕДНЯЯ_ЗАРПЛАТА</th>\n",
       "    </tr>\n",
       "    <tr>\n",
       "        <td>4750.0</td>\n",
       "    </tr>\n",
       "</table>"
      ],
      "text/plain": [
       "[(4750.0,)]"
      ]
     },
     "execution_count": 15,
     "metadata": {},
     "output_type": "execute_result"
    }
   ],
   "source": [
    "%%sql\n",
    "SELECT AVG(ОКЛАД) AS СРЕДНЯЯ_ЗАРПЛАТА FROM ЗАРАБОТНАЯ_ПЛАТА"
   ]
  },
  {
   "attachments": {},
   "cell_type": "markdown",
   "metadata": {},
   "source": [
    "ПРОПРОБУЕМ ПОСМОТРЕТЬ НА КАКОЙ ОСТАНОВКЕ БУДУТ АВТОБУСЫ МЕЖДУ 11 И 12 ЧАСАМИ ДНЯ"
   ]
  },
  {
   "cell_type": "code",
   "execution_count": 18,
   "metadata": {},
   "outputs": [
    {
     "name": "stdout",
     "output_type": "stream",
     "text": [
      " * ibm_db_sa://zll40028:***@b0aebb68-94fa-46ec-a1fc-1c999edb6187.c3n41cmd0nqnrk39u98g.databases.appdomain.cloud:31249/BLUDB\n",
      "Done.\n"
     ]
    },
    {
     "data": {
      "text/html": [
       "<table>\n",
       "    <tr>\n",
       "        <th>ОСТАНОВКА</th>\n",
       "        <th>ГАРАЖНЫЙ_НОМЕР</th>\n",
       "    </tr>\n",
       "    <tr>\n",
       "        <td>СИРЕНЕВАЯ</td>\n",
       "        <td>11</td>\n",
       "    </tr>\n",
       "    <tr>\n",
       "        <td>АРКАДИЯ</td>\n",
       "        <td>11</td>\n",
       "    </tr>\n",
       "    <tr>\n",
       "        <td>ФОРТ</td>\n",
       "        <td>11</td>\n",
       "    </tr>\n",
       "    <tr>\n",
       "        <td>ЛЕНИНА</td>\n",
       "        <td>12</td>\n",
       "    </tr>\n",
       "    <tr>\n",
       "        <td>СКВЕР</td>\n",
       "        <td>12</td>\n",
       "    </tr>\n",
       "    <tr>\n",
       "        <td>ОВЕЧКИНА</td>\n",
       "        <td>12</td>\n",
       "    </tr>\n",
       "</table>"
      ],
      "text/plain": [
       "[('СИРЕНЕВАЯ', '11'),\n",
       " ('АРКАДИЯ', '11'),\n",
       " ('ФОРТ', '11'),\n",
       " ('ЛЕНИНА', '12'),\n",
       " ('СКВЕР', '12'),\n",
       " ('ОВЕЧКИНА', '12')]"
      ]
     },
     "execution_count": 18,
     "metadata": {},
     "output_type": "execute_result"
    }
   ],
   "source": [
    "%%sql\n",
    "SELECT ОСТАНОВКА, ГАРАЖНЫЙ_НОМЕР FROM РАСПИСАНИЕ WHERE ВРЕМЯ_ПРИБЫТИЯ1 BETWEEN '11:00:00' AND '12:00:00'\n"
   ]
  },
  {
   "cell_type": "code",
   "execution_count": 20,
   "metadata": {},
   "outputs": [
    {
     "name": "stdout",
     "output_type": "stream",
     "text": [
      " * ibm_db_sa://zll40028:***@b0aebb68-94fa-46ec-a1fc-1c999edb6187.c3n41cmd0nqnrk39u98g.databases.appdomain.cloud:31249/BLUDB\n",
      "Done.\n"
     ]
    },
    {
     "data": {
      "text/html": [
       "<table>\n",
       "    <tr>\n",
       "        <th>ФАМИЛИЯ</th>\n",
       "        <th>ИМЯ</th>\n",
       "        <th>ТАБЕЛЬНЫЙ_НОМЕР</th>\n",
       "    </tr>\n",
       "    <tr>\n",
       "        <td>ПЕТРОВ</td>\n",
       "        <td>ПЕТР</td>\n",
       "        <td>123</td>\n",
       "    </tr>\n",
       "    <tr>\n",
       "        <td>ИВАНОВА</td>\n",
       "        <td>МАРИЯ</td>\n",
       "        <td>121</td>\n",
       "    </tr>\n",
       "</table>"
      ],
      "text/plain": [
       "[('ПЕТРОВ', 'ПЕТР', '123'), ('ИВАНОВА', 'МАРИЯ', '121')]"
      ]
     },
     "execution_count": 20,
     "metadata": {},
     "output_type": "execute_result"
    }
   ],
   "source": [
    "%%sql\n",
    "SELECT СОТРУДНИКИ.ФАМИЛИЯ, СОТРУДНИКИ.ИМЯ, СОТРУДНИКИ.ТАБЕЛЬНЫЙ_НОМЕР FROM СОТРУДНИКИ, ГРАФИК_РАБОТЫ WHERE СОТРУДНИКИ.ТАБЕЛЬНЫЙ_НОМЕР = ГРАФИК_РАБОТЫ.ТАБЕЛЬНЫЙ_НОМЕР AND ГРАФИК_РАБОТЫ.ПЯТНИЦА LIKE '+' \n"
   ]
  },
  {
   "cell_type": "code",
   "execution_count": 21,
   "metadata": {},
   "outputs": [
    {
     "name": "stdout",
     "output_type": "stream",
     "text": [
      " * ibm_db_sa://zll40028:***@b0aebb68-94fa-46ec-a1fc-1c999edb6187.c3n41cmd0nqnrk39u98g.databases.appdomain.cloud:31249/BLUDB\n",
      "Done.\n"
     ]
    },
    {
     "data": {
      "text/html": [
       "<table>\n",
       "    <tr>\n",
       "        <th>ГАРАЖНЫЙ_НОМЕР</th>\n",
       "        <th>НОМЕР_МАРШРУТА</th>\n",
       "        <th>ОСТАНОВКА</th>\n",
       "        <th>ВРЕМЯ_ПРИБЫТИЯ</th>\n",
       "        <th>ВРЕМЯ_ПРИБЫТИЯ1</th>\n",
       "        <th>ВРЕМЯ_ПРИБЫТИЯ2</th>\n",
       "        <th>ВРЕМЯ_ПРИБЫТИЯ3</th>\n",
       "    </tr>\n",
       "    <tr>\n",
       "        <td>11</td>\n",
       "        <td>6    </td>\n",
       "        <td>ДЕСАНТНАЯ</td>\n",
       "        <td>06:30:00</td>\n",
       "        <td>13:17:00</td>\n",
       "        <td>13:27:00</td>\n",
       "        <td>22:07:00</td>\n",
       "    </tr>\n",
       "    <tr>\n",
       "        <td>11</td>\n",
       "        <td>6    </td>\n",
       "        <td>КИРПИЧНАЯ</td>\n",
       "        <td>06:45:00</td>\n",
       "        <td>12:55:00</td>\n",
       "        <td>13:41:00</td>\n",
       "        <td>21:35:00</td>\n",
       "    </tr>\n",
       "    <tr>\n",
       "        <td>11</td>\n",
       "        <td>6    </td>\n",
       "        <td>ОЗЕРНАЯ</td>\n",
       "        <td>07:00:00</td>\n",
       "        <td>12:33:00</td>\n",
       "        <td>13:55:00</td>\n",
       "        <td>21:03:00</td>\n",
       "    </tr>\n",
       "    <tr>\n",
       "        <td>11</td>\n",
       "        <td>6    </td>\n",
       "        <td>ГЕРШОНЫ</td>\n",
       "        <td>07:15:00</td>\n",
       "        <td>12:11:00</td>\n",
       "        <td>14:09:00</td>\n",
       "        <td>20:31:00</td>\n",
       "    </tr>\n",
       "    <tr>\n",
       "        <td>11</td>\n",
       "        <td>6    </td>\n",
       "        <td>СИРЕНЕВАЯ</td>\n",
       "        <td>07:30:00</td>\n",
       "        <td>11:49:00</td>\n",
       "        <td>14:23:00</td>\n",
       "        <td>19:59:00</td>\n",
       "    </tr>\n",
       "    <tr>\n",
       "        <td>11</td>\n",
       "        <td>6    </td>\n",
       "        <td>АРКАДИЯ</td>\n",
       "        <td>07:45:00</td>\n",
       "        <td>11:27:00</td>\n",
       "        <td>14:37:00</td>\n",
       "        <td>19:27:00</td>\n",
       "    </tr>\n",
       "    <tr>\n",
       "        <td>11</td>\n",
       "        <td>6    </td>\n",
       "        <td>ФОРТ</td>\n",
       "        <td>08:00:00</td>\n",
       "        <td>11:05:00</td>\n",
       "        <td>14:51:00</td>\n",
       "        <td>18:55:00</td>\n",
       "    </tr>\n",
       "    <tr>\n",
       "        <td>11</td>\n",
       "        <td>6    </td>\n",
       "        <td>ВОЛЫНКА</td>\n",
       "        <td>08:15:00</td>\n",
       "        <td>10:43:00</td>\n",
       "        <td>15:05:00</td>\n",
       "        <td>18:23:00</td>\n",
       "    </tr>\n",
       "    <tr>\n",
       "        <td>11</td>\n",
       "        <td>6    </td>\n",
       "        <td>ПРИБУЖСКАЯ</td>\n",
       "        <td>08:30:00</td>\n",
       "        <td>10:21:00</td>\n",
       "        <td>15:19:00</td>\n",
       "        <td>17:51:00</td>\n",
       "    </tr>\n",
       "    <tr>\n",
       "        <td>11</td>\n",
       "        <td>6    </td>\n",
       "        <td>ГРИБОЕДОВА</td>\n",
       "        <td>08:45:00</td>\n",
       "        <td>09:59:00</td>\n",
       "        <td>15:33:00</td>\n",
       "        <td>17:19:00</td>\n",
       "    </tr>\n",
       "    <tr>\n",
       "        <td>11</td>\n",
       "        <td>6    </td>\n",
       "        <td>САЛЬНИКОВА</td>\n",
       "        <td>09:00:00</td>\n",
       "        <td>09:37:00</td>\n",
       "        <td>15:47:00</td>\n",
       "        <td>16:47:00</td>\n",
       "    </tr>\n",
       "    <tr>\n",
       "        <td>11</td>\n",
       "        <td>6    </td>\n",
       "        <td>МАХНОВИЧА</td>\n",
       "        <td>09:15:00</td>\n",
       "        <td>09:18:00</td>\n",
       "        <td>16:01:00</td>\n",
       "        <td>16:15:00</td>\n",
       "    </tr>\n",
       "    <tr>\n",
       "        <td>12</td>\n",
       "        <td>3    </td>\n",
       "        <td>ЦУМ</td>\n",
       "        <td>06:30:00</td>\n",
       "        <td>12:06:00</td>\n",
       "        <td>13:11:00</td>\n",
       "        <td>22:21:00</td>\n",
       "    </tr>\n",
       "    <tr>\n",
       "        <td>12</td>\n",
       "        <td>3    </td>\n",
       "        <td>ЛЕНИНА</td>\n",
       "        <td>06:41:00</td>\n",
       "        <td>11:49:00</td>\n",
       "        <td>13:39:00</td>\n",
       "        <td>22:04:00</td>\n",
       "    </tr>\n",
       "    <tr>\n",
       "        <td>12</td>\n",
       "        <td>3    </td>\n",
       "        <td>СКВЕР</td>\n",
       "        <td>06:52:00</td>\n",
       "        <td>11:32:00</td>\n",
       "        <td>14:07:00</td>\n",
       "        <td>21:47:00</td>\n",
       "    </tr>\n",
       "    <tr>\n",
       "        <td>12</td>\n",
       "        <td>3    </td>\n",
       "        <td>ОВЕЧКИНА</td>\n",
       "        <td>07:03:00</td>\n",
       "        <td>11:15:00</td>\n",
       "        <td>14:35:00</td>\n",
       "        <td>21:30:00</td>\n",
       "    </tr>\n",
       "    <tr>\n",
       "        <td>12</td>\n",
       "        <td>3    </td>\n",
       "        <td>ПАРК</td>\n",
       "        <td>07:14:00</td>\n",
       "        <td>10:58:00</td>\n",
       "        <td>15:03:00</td>\n",
       "        <td>21:13:00</td>\n",
       "    </tr>\n",
       "    <tr>\n",
       "        <td>12</td>\n",
       "        <td>3    </td>\n",
       "        <td>МОСТОВАЯ</td>\n",
       "        <td>07:25:00</td>\n",
       "        <td>10:41:00</td>\n",
       "        <td>15:31:00</td>\n",
       "        <td>20:56:00</td>\n",
       "    </tr>\n",
       "    <tr>\n",
       "        <td>12</td>\n",
       "        <td>3    </td>\n",
       "        <td>МАТРОСОВА</td>\n",
       "        <td>07:36:00</td>\n",
       "        <td>10:24:00</td>\n",
       "        <td>15:59:00</td>\n",
       "        <td>20:39:00</td>\n",
       "    </tr>\n",
       "    <tr>\n",
       "        <td>12</td>\n",
       "        <td>3    </td>\n",
       "        <td>ВЕСЕЛАЯ</td>\n",
       "        <td>07:47:00</td>\n",
       "        <td>10:07:00</td>\n",
       "        <td>16:27:00</td>\n",
       "        <td>20:22:00</td>\n",
       "    </tr>\n",
       "    <tr>\n",
       "        <td>12</td>\n",
       "        <td>3    </td>\n",
       "        <td>ПРИГОРОДНАЯ</td>\n",
       "        <td>07:58:00</td>\n",
       "        <td>09:50:00</td>\n",
       "        <td>16:55:00</td>\n",
       "        <td>20:05:00</td>\n",
       "    </tr>\n",
       "    <tr>\n",
       "        <td>12</td>\n",
       "        <td>3    </td>\n",
       "        <td>АДАМКОВСКАЯ</td>\n",
       "        <td>08:09:00</td>\n",
       "        <td>09:33:00</td>\n",
       "        <td>17:23:00</td>\n",
       "        <td>19:48:00</td>\n",
       "    </tr>\n",
       "    <tr>\n",
       "        <td>12</td>\n",
       "        <td>3    </td>\n",
       "        <td>ПОЧТА</td>\n",
       "        <td>08:20:00</td>\n",
       "        <td>09:16:00</td>\n",
       "        <td>17:51:00</td>\n",
       "        <td>19:31:00</td>\n",
       "    </tr>\n",
       "    <tr>\n",
       "        <td>12</td>\n",
       "        <td>3    </td>\n",
       "        <td>АКИМОЧКИНА</td>\n",
       "        <td>08:31:00</td>\n",
       "        <td>08:59:00</td>\n",
       "        <td>18:19:00</td>\n",
       "        <td>19:14:00</td>\n",
       "    </tr>\n",
       "    <tr>\n",
       "        <td>12</td>\n",
       "        <td>3    </td>\n",
       "        <td>ДВОРНИКОВА</td>\n",
       "        <td>08:39:00</td>\n",
       "        <td>08:42:00</td>\n",
       "        <td>18:47:00</td>\n",
       "        <td>18:57:00</td>\n",
       "    </tr>\n",
       "</table>"
      ],
      "text/plain": [
       "[('11', '6    ', 'ДЕСАНТНАЯ', datetime.time(6, 30), datetime.time(13, 17), datetime.time(13, 27), datetime.time(22, 7)),\n",
       " ('11', '6    ', 'КИРПИЧНАЯ', datetime.time(6, 45), datetime.time(12, 55), datetime.time(13, 41), datetime.time(21, 35)),\n",
       " ('11', '6    ', 'ОЗЕРНАЯ', datetime.time(7, 0), datetime.time(12, 33), datetime.time(13, 55), datetime.time(21, 3)),\n",
       " ('11', '6    ', 'ГЕРШОНЫ', datetime.time(7, 15), datetime.time(12, 11), datetime.time(14, 9), datetime.time(20, 31)),\n",
       " ('11', '6    ', 'СИРЕНЕВАЯ', datetime.time(7, 30), datetime.time(11, 49), datetime.time(14, 23), datetime.time(19, 59)),\n",
       " ('11', '6    ', 'АРКАДИЯ', datetime.time(7, 45), datetime.time(11, 27), datetime.time(14, 37), datetime.time(19, 27)),\n",
       " ('11', '6    ', 'ФОРТ', datetime.time(8, 0), datetime.time(11, 5), datetime.time(14, 51), datetime.time(18, 55)),\n",
       " ('11', '6    ', 'ВОЛЫНКА', datetime.time(8, 15), datetime.time(10, 43), datetime.time(15, 5), datetime.time(18, 23)),\n",
       " ('11', '6    ', 'ПРИБУЖСКАЯ', datetime.time(8, 30), datetime.time(10, 21), datetime.time(15, 19), datetime.time(17, 51)),\n",
       " ('11', '6    ', 'ГРИБОЕДОВА', datetime.time(8, 45), datetime.time(9, 59), datetime.time(15, 33), datetime.time(17, 19)),\n",
       " ('11', '6    ', 'САЛЬНИКОВА', datetime.time(9, 0), datetime.time(9, 37), datetime.time(15, 47), datetime.time(16, 47)),\n",
       " ('11', '6    ', 'МАХНОВИЧА', datetime.time(9, 15), datetime.time(9, 18), datetime.time(16, 1), datetime.time(16, 15)),\n",
       " ('12', '3    ', 'ЦУМ', datetime.time(6, 30), datetime.time(12, 6), datetime.time(13, 11), datetime.time(22, 21)),\n",
       " ('12', '3    ', 'ЛЕНИНА', datetime.time(6, 41), datetime.time(11, 49), datetime.time(13, 39), datetime.time(22, 4)),\n",
       " ('12', '3    ', 'СКВЕР', datetime.time(6, 52), datetime.time(11, 32), datetime.time(14, 7), datetime.time(21, 47)),\n",
       " ('12', '3    ', 'ОВЕЧКИНА', datetime.time(7, 3), datetime.time(11, 15), datetime.time(14, 35), datetime.time(21, 30)),\n",
       " ('12', '3    ', 'ПАРК', datetime.time(7, 14), datetime.time(10, 58), datetime.time(15, 3), datetime.time(21, 13)),\n",
       " ('12', '3    ', 'МОСТОВАЯ', datetime.time(7, 25), datetime.time(10, 41), datetime.time(15, 31), datetime.time(20, 56)),\n",
       " ('12', '3    ', 'МАТРОСОВА', datetime.time(7, 36), datetime.time(10, 24), datetime.time(15, 59), datetime.time(20, 39)),\n",
       " ('12', '3    ', 'ВЕСЕЛАЯ', datetime.time(7, 47), datetime.time(10, 7), datetime.time(16, 27), datetime.time(20, 22)),\n",
       " ('12', '3    ', 'ПРИГОРОДНАЯ', datetime.time(7, 58), datetime.time(9, 50), datetime.time(16, 55), datetime.time(20, 5)),\n",
       " ('12', '3    ', 'АДАМКОВСКАЯ', datetime.time(8, 9), datetime.time(9, 33), datetime.time(17, 23), datetime.time(19, 48)),\n",
       " ('12', '3    ', 'ПОЧТА', datetime.time(8, 20), datetime.time(9, 16), datetime.time(17, 51), datetime.time(19, 31)),\n",
       " ('12', '3    ', 'АКИМОЧКИНА', datetime.time(8, 31), datetime.time(8, 59), datetime.time(18, 19), datetime.time(19, 14)),\n",
       " ('12', '3    ', 'ДВОРНИКОВА', datetime.time(8, 39), datetime.time(8, 42), datetime.time(18, 47), datetime.time(18, 57))]"
      ]
     },
     "execution_count": 21,
     "metadata": {},
     "output_type": "execute_result"
    }
   ],
   "source": [
    "%%sql\n",
    "SELECT * FROM РАСПИСАНИЕ "
   ]
  },
  {
   "attachments": {},
   "cell_type": "markdown",
   "metadata": {},
   "source": [
    "Таблицы подлежат редактированию и конечно данные можно севершенствовать бесконечно, но на начальном этапе этого вполне достаточно\n",
    "\n",
    "* доработать расписание\n",
    "* доработать таблицы с зп\n",
    "* добавить таблицы расчета топлива\n",
    "* доработать рабочий график\n",
    "* проработать внешние ключи"
   ]
  }
 ],
 "metadata": {
  "kernelspec": {
   "display_name": "Python 3",
   "language": "python",
   "name": "python3"
  },
  "language_info": {
   "codemirror_mode": {
    "name": "ipython",
    "version": 3
   },
   "file_extension": ".py",
   "mimetype": "text/x-python",
   "name": "python",
   "nbconvert_exporter": "python",
   "pygments_lexer": "ipython3",
   "version": "3.11.1"
  },
  "orig_nbformat": 4,
  "vscode": {
   "interpreter": {
    "hash": "1682e5d06a6d97c1b1cf6bb4ae6cf16223e994936ddb1d53664597d7d46101fa"
   }
  }
 },
 "nbformat": 4,
 "nbformat_minor": 2
}
