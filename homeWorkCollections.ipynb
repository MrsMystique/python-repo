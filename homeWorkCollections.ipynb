{
 "cells": [
  {
   "attachments": {},
   "cell_type": "markdown",
   "metadata": {},
   "source": [
    "# Словари и списки\n",
    "\n",
    "#### ДОМАШНЯЯ РАБОТА\n",
    "\n",
    "Задача 16: Требуется вычислить, сколько раз встречается некоторое число X в массиве A[1..N]. Пользователь в первой строке вводит натуральное число N – количество элементов в массиве. В последующих  строках записаны N целых чисел Ai. Последняя строка содержит число X\n",
    "\n",
    "*Пример:*\n",
    "\n",
    "5\n",
    "\n",
    "1 2 3 4 5\n",
    "\n",
    "3\n",
    "\n",
    "-> 1"
   ]
  },
  {
   "cell_type": "code",
   "execution_count": null,
   "metadata": {},
   "outputs": [],
   "source": []
  },
  {
   "attachments": {},
   "cell_type": "markdown",
   "metadata": {},
   "source": [
    "Задача 18: Требуется найти в массиве A[1..N] самый близкий по величине элемент к заданному числу X. Пользователь в первой строке вводит натуральное число N – количество элементов в массиве. В последующих  строках записаны N целых чисел Ai. Последняя строка содержит число X\n",
    "\n",
    "*Пример:*\n",
    "\n",
    "5\n",
    "    1 2 3 4 5\n",
    "    6\n",
    "    -> 5"
   ]
  },
  {
   "cell_type": "code",
   "execution_count": null,
   "metadata": {},
   "outputs": [],
   "source": []
  },
  {
   "attachments": {},
   "cell_type": "markdown",
   "metadata": {},
   "source": [
    "**Задача 20:** В настольной игре Скрабл (Scrabble) каждая буква имеет определенную ценность. В случае с английским алфавитом очки распределяются так:\n",
    "\n",
    "A, E, I, O, U, L, N, S, T, R – 1 очко; \n",
    "\n",
    "D, G – 2 очка; \n",
    "\n",
    "B, C, M, P – 3 очка; \n",
    "\n",
    "F, H, V, W, Y – 4 очка; \n",
    "\n",
    "K – 5 очков; \n",
    "\n",
    "J, X – 8 очков; \n",
    "\n",
    "Q, Z – 10 очков. \n",
    "\n",
    "**А русские буквы оцениваются так:**\n",
    "\n",
    "А, В, Е, И, Н, О, Р, С, Т – 1 очко; \n",
    "\n",
    "Д, К, Л, М, П, У – 2 очка; \n",
    "\n",
    "Б, Г, Ё, Ь, Я – 3 очка; \n",
    "\n",
    "Й, Ы – 4 очка; \n",
    "\n",
    "Ж, З, Х, Ц, Ч – 5 очков; \n",
    "\n",
    "Ш, Э, Ю – 8 очков; \n",
    "\n",
    "Ф, Щ, Ъ – 10 очков. \n",
    "\n",
    "Напишите программу, которая вычисляет стоимость введенного пользователем слова. Будем считать, что на вход подается только одно слово, которое содержит либо только английские, либо только русские буквы.\n",
    "\n",
    "*Пример:*\n",
    "\n",
    "ноутбук\n",
    "    12"
   ]
  },
  {
   "attachments": {},
   "cell_type": "markdown",
   "metadata": {},
   "source": [
    "# Данное решение реализовано только через списки"
   ]
  },
  {
   "cell_type": "code",
   "execution_count": 58,
   "metadata": {},
   "outputs": [
    {
     "name": "stdout",
     "output_type": "stream",
     "text": [
      "🧑🏻 Вы ввели слово ДОМ\n",
      "Вы выбрали для игры Русский язык\n",
      "\n",
      "Ход компьютера🤖. Его слово ЕЩЁ\n",
      "\n",
      "Веду подсчет очков...\n",
      "\n",
      "Вы набрали 5 очков!\n",
      "Ваш соперник набрал 14 очков!\n",
      "👾К сожалению, Вы проиграли этому железному ящику 🤖\n"
     ]
    }
   ],
   "source": [
    "# план-фонтан\n",
    "# создать 2 списка для букв в верхнем регистре и очков. (так для каждого языка)\n",
    "# выбор компьютера (типа игрок 2). чтобы не кормить словарями и иными файлами, выберем абракадабру рандобную такой же длинны как у юзера\n",
    "# можно попробовать реализовать какую то приколюху с match и кейсами по языкам дабы оно не колупало все списки. \n",
    "# но в конце принято решение сделать простенькую функцию которая итерирует по списку, если находит букву, то типа это английский, иначе как бы это русский) гениально\n",
    "# игрок комп, будет ограничиваться выбором из списка, соответственно выбранному языку, дабы не жульничал)))\n",
    "# нужно принимать от юзера слово\n",
    "# нужно считывать длину введенного слова. воизбежание проблем сразу переводим все в upper case\n",
    "# итерировать по слову - нужно получать индексы буквы в списке букв по совпадению\n",
    "# присваивать какой то переменной значение индекса буквы в списке очков и суммировать\n",
    "# для пущей интриги ограничим длинну вводимых слов\n",
    "# выберем победителя=))\n",
    "import random\n",
    "import emoji\n",
    "# определение языка\n",
    "def langdetector(word):\n",
    "    if player_word[0] in eng_letters: \n",
    "        print(\"You choose ENGLISH language for this play\")\n",
    "        return 'eng'\n",
    "    else: \n",
    "        print(\"Вы выбрали для игры Русский язык\")\n",
    "        return 'ru'\n",
    "   \n",
    "# создать 2 списка для букв в верхнем регистре и очков. (так для каждого языка)\n",
    "eng_letters = ['A', 'E', 'I', 'O', 'U', 'L', 'N', 'S', 'T', 'R', 'D', 'G','B', 'C', 'M', 'P','F', 'H', 'V', 'W', 'Y', 'K', 'J','X', 'Q', 'Z']\n",
    "eng_scores = [1, 1, 1, 1, 1, 1, 1, 1, 1, 1, 2 , 2, 3, 3, 3, 3, 4, 4, 4, 4, 4, 5, 8, 8, 10, 10]\n",
    "ru_letters = ['А', 'В', 'Е', 'И', 'Н', 'О', 'Р', 'С', 'Т', 'Д', 'К', 'Л', 'М', 'П', 'У', 'Б', 'Г', 'Ё', 'Ь', 'Я', 'Й', 'Ы', 'Ж', 'З', 'Х', 'Ц', 'Ч', 'Ш', 'Э', 'Ю', 'Ф', 'Щ', 'Ъ']\n",
    "ru_scores = [1, 1, 1, 1, 1, 1, 1, 1, 1, 2, 2, 2, 2, 2, 2, 3, 3, 3, 3, 3, 4, 4, 5, 5, 5, 5, 5, 8, 8, 8, 10, 10, 10]\n",
    "\n",
    "# установим начальное количество очков\n",
    "player_score = 0\n",
    "comp_score = 0\n",
    "player_word = input(\"Введите слово: \").upper()\n",
    "print(f\"🧑🏻 Вы ввели слово {player_word}\")\n",
    "\n",
    "# выбор компьютера. чтобы не кормить словарями, выберем абракадабру рандобную такой же длинны как у юзера\n",
    "if langdetector(player_word) == 'eng':  \n",
    "    comp_word = []\n",
    "    for letter in range(len(player_word)):\n",
    "        comp_word.append(random.choice(eng_letters))\n",
    "    print(f\"\\nХод компьютера🤖. Его слово {''.join(comp_word)}\")\n",
    "    # итерируем по словам, если находим букву в списке букв, то получаем ее индекс, \n",
    "    # обращаемся по этому индексу к списку очков, суммируем при каждой итерации\n",
    "    for element in range(len(player_word)):\n",
    "        if player_word[element] in eng_letters:\n",
    "            player_score += eng_scores[eng_letters.index(player_word[element])]\n",
    "    for element in range(len(comp_word)):\n",
    "        if comp_word[element] in eng_letters:\n",
    "            comp_score+=eng_scores[eng_letters.index(comp_word[element])]\n",
    "else:\n",
    "    comp_word = []\n",
    "    for letter in range(len(player_word)):\n",
    "        comp_word.append(random.choice(ru_letters))\n",
    "    print(f\"\\nХод компьютера🤖. Его слово {''.join(comp_word)}\")\n",
    "        # итерируем по словам, если находим букву в списке букв, то получаем ее индекс, \n",
    "        # обращаемся по этому индексу к списку очков, суммируем при каждой итерации\n",
    "    for element in range(len(player_word)):\n",
    "        if player_word[element] in ru_letters:\n",
    "            player_score += ru_scores[ru_letters.index(player_word[element])]\n",
    "    for element in range(len(comp_word)):\n",
    "        if comp_word[element] in ru_letters:\n",
    "            comp_score+=ru_scores[ru_letters.index(comp_word[element])]\n",
    "\n",
    "print()\n",
    "print (\"Веду подсчет очков...\\n\")\n",
    "# распечатка очков игроков.\n",
    "print(f\"Вы набрали {player_score} очков!\")\n",
    "print(f\"Ваш соперник набрал {comp_score} очков!\")\n",
    "# Определяем победителя путем сравнения (можно было просто юзать метод макс)\n",
    "if player_score > comp_score: \n",
    "    print(\"Вы одержли победу над компьютером!😎😎😎\") \n",
    "elif player_score < comp_score: \n",
    "    print(\"👾К сожалению, Вы проиграли этому железному ящику 🤖\") \n",
    "else:\n",
    "    print(\"НИЧЬЯ!🤝🤝🤝\") "
   ]
  },
  {
   "cell_type": "code",
   "execution_count": 36,
   "metadata": {},
   "outputs": [
    {
     "name": "stdout",
     "output_type": "stream",
     "text": [
      "Вы выбрали для игры Русский язык\n"
     ]
    }
   ],
   "source": [
    "import random\n",
    "import emoji\n",
    "import csv\n",
    "# определение языка\n",
    "def langdetector(word):\n",
    "    if player_word[0] in eng_letters: \n",
    "        print(\"You choose ENGLISH language for this play\")\n",
    "        return 'eng'\n",
    "    else: \n",
    "        print(\"Вы выбрали для игры Русский язык\")\n",
    "        return 'ru'\n",
    "   \n",
    "# создать 2 списка для букв в верхнем регистре и очков. (так для каждого языка)\n",
    "eng_letters = {\n",
    "    1: ['A', 'E', 'I', 'O', 'U', 'L', 'N', 'S', 'T', 'R'],    \n",
    "    2: ['D', 'G' ],\n",
    "    3: ['B', 'C', 'M', 'P'],\n",
    "    4: ['F', 'H', 'V', 'W', 'Y'],\n",
    "    5: ['K'],\n",
    "    8: ['J', 'X'],\n",
    "    10:['Q', 'Z']\n",
    "}\n",
    "ru_letters = {\n",
    "    1: ['А', 'В', 'Е', 'И', 'Н', 'О', 'Р', 'С', 'Т'], \n",
    "    2: ['Д', 'К', 'Л', 'М', 'П', 'У'], \n",
    "    3: ['Б', 'Г', 'Ё', 'Ь', 'Я'], \n",
    "    4: ['Й', 'Ы'],\n",
    "    5: ['Ж', 'З', 'Х', 'Ц', 'Ч'], \n",
    "    8: ['Ш', 'Э', 'Ю'],\n",
    "    10:['Ф', 'Щ', 'Ъ']\n",
    "}\n",
    "\n",
    "\n",
    "        "
   ]
  },
  {
   "cell_type": "code",
   "execution_count": 45,
   "metadata": {},
   "outputs": [
    {
     "name": "stdout",
     "output_type": "stream",
     "text": [
      "SAYA\n"
     ]
    }
   ],
   "source": [
    "import random\n",
    "import requests\n",
    "\n",
    "# Получить содержимое файла или интернет-ресурса\n",
    "response = requests.get(\"https://raw.githubusercontent.com/dwyl/english-words/master/words.txt\")\n",
    "words = response.content.decode().split()\n",
    "player_word = input(\"Введите слово: \").upper()\n",
    "# Выбрать случайное слово определенной длины\n",
    "comp_word = random.choice([word for word in words if len(word) == len(player_word)]).upper()\n",
    "\n",
    "print(comp_word)\n"
   ]
  },
  {
   "cell_type": "code",
   "execution_count": 57,
   "metadata": {},
   "outputs": [
    {
     "name": "stdout",
     "output_type": "stream",
     "text": [
      "ВЕТВЛЕНИЕ\n"
     ]
    }
   ],
   "source": [
    "import random\n",
    "player_word = input(\"Введите слово: \").upper()\n",
    "# Открываем файл и считываем все слова\n",
    "with open(\"RU-WORDS.txt\", \"r\", encoding = 'utf-8') as file:\n",
    "    words = file.read().split()\n",
    "\n",
    "# Выбираем случайное слово заданной длины из списка слов\n",
    "word = random.choice ([word for word in words if len(word) == len(player_word)]).upper()\n",
    "\n",
    "print(word)"
   ]
  }
 ],
 "metadata": {
  "kernelspec": {
   "display_name": "Python 3",
   "language": "python",
   "name": "python3"
  },
  "language_info": {
   "codemirror_mode": {
    "name": "ipython",
    "version": 3
   },
   "file_extension": ".py",
   "mimetype": "text/x-python",
   "name": "python",
   "nbconvert_exporter": "python",
   "pygments_lexer": "ipython3",
   "version": "3.11.1"
  },
  "orig_nbformat": 4
 },
 "nbformat": 4,
 "nbformat_minor": 2
}
