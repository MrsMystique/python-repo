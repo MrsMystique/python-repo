{
 "cells": [
  {
   "cell_type": "code",
   "execution_count": 4,
   "metadata": {},
   "outputs": [
    {
     "name": "stdout",
     "output_type": "stream",
     "text": [
      "Парам пам-пам\n"
     ]
    }
   ],
   "source": [
    "def count_syllables(word):\n",
    "    vowels = \"ёеуыаэяию\"\n",
    "    count = 0\n",
    "    for letter in word:\n",
    "        if letter in vowels:\n",
    "            count += 1\n",
    "    return count\n",
    "\n",
    "def check_rhythm(poem):\n",
    "    lines = poem.split()\n",
    "    syllables = []\n",
    "    for line in lines:\n",
    "        words = line.split(\"-\")\n",
    "        count = 0\n",
    "        for word in words:\n",
    "            count += count_syllables(word)\n",
    "        syllables.append(count)\n",
    "    if len(set(syllables)) == 1:\n",
    "        return \"Парам пам-пам\"\n",
    "    else:\n",
    "        return \"Пам парам\"\n",
    "\n",
    "poem = input(\"Введите стихотворение Винни-Пуха: \")\n",
    "print(check_rhythm(poem))"
   ]
  },
  {
   "cell_type": "code",
   "execution_count": 15,
   "metadata": {},
   "outputs": [
    {
     "name": "stdout",
     "output_type": "stream",
     "text": [
      "  |    1   2   3   4   5   6\n",
      "--+------------------\n",
      " 1|    1   2   3   4   5   6\n",
      " 2|    2   4   6   8  10  12\n",
      " 3|    3   6   9  12  15  18\n",
      " 4|    4   8  12  16  20  24\n",
      " 5|    5  10  15  20  25  30\n",
      " 6|    6  12  18  24  30  36\n"
     ]
    }
   ],
   "source": [
    "def print_operation_table(operation, num_rows, num_columns):\n",
    "    # немного красоты сбоку\n",
    "    print(\"  | \", end=\"\")\n",
    "    for column in range(1, num_columns + 1):\n",
    "        print(\"{:4d}\".format(column), end = \"\")\n",
    "    print()\n",
    "    # немного красоты под колонкой \n",
    "    print(\"--+\" + \"---\" * num_columns)\n",
    "    # итого начинаем  1 строка 1 столбец + 1 к строке и +1 к столбцу = 4\n",
    "    # печатаем и каждый раз добавляем к числу котрый является номером строки 1\n",
    "    for row in range(1, num_rows + 1):\n",
    "        print(\"{:2d}| \".format(row), end = \"\")\n",
    "         # печатаем и каждый раз добавляем к числу котрый является номером столбца 1\n",
    "        for column in range(1, num_columns + 1):\n",
    "            print(\"{:4d}\".format(operation(row, column)), end = \"\")\n",
    "        print()\n",
    "\n",
    "\n",
    "num_rows = int(input(\"Введите количество строк: \"))\n",
    "num_columns = int(input(\"Введите количество столбцов: \"))\n",
    "print_operation_table(lambda x, y: x * y, num_rows, num_columns)"
   ]
  }
 ],
 "metadata": {
  "kernelspec": {
   "display_name": "Python 3",
   "language": "python",
   "name": "python3"
  },
  "language_info": {
   "codemirror_mode": {
    "name": "ipython",
    "version": 3
   },
   "file_extension": ".py",
   "mimetype": "text/x-python",
   "name": "python",
   "nbconvert_exporter": "python",
   "pygments_lexer": "ipython3",
   "version": "3.11.1"
  },
  "orig_nbformat": 4
 },
 "nbformat": 4,
 "nbformat_minor": 2
}
