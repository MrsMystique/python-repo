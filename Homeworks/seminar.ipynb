{
 "cells": [
  {
   "cell_type": "code",
   "execution_count": null,
   "metadata": {},
   "outputs": [],
   "source": []
  },
  {
   "attachments": {},
   "cell_type": "markdown",
   "metadata": {},
   "source": [
    "Дан список чисел. Определите, сколько в нем встречается различных чисел.\n",
    "\n",
    "Input: [1, 1, 2, 0, -1, 3, 4, 4]\n",
    "\n",
    "Output: 6"
   ]
  },
  {
   "cell_type": "code",
   "execution_count": null,
   "metadata": {},
   "outputs": [],
   "source": []
  },
  {
   "attachments": {},
   "cell_type": "markdown",
   "metadata": {},
   "source": [
    "Дана последовательность из N целых чисел и число K. Необходимо сдвинуть всю последовательность (сдвиг - циклический) на K элементов вправо,  K – положительное число.\n",
    "\n",
    "Input:   [1, 2, 3, 4, 5] k = 2\n",
    "\n",
    "Output:  [4, 5, 1, 2, 3]"
   ]
  },
  {
   "cell_type": "code",
   "execution_count": 8,
   "metadata": {},
   "outputs": [
    {
     "name": "stdout",
     "output_type": "stream",
     "text": [
      "[3, 5, 5, 1, 2, 2]\n"
     ]
    }
   ],
   "source": [
    "list = [1,2,2,3,5,5] \n",
    "k = 3\n",
    "for _ in range(k):\n",
    "    element = list.pop(-1)\n",
    "    list.insert(0, element)\n",
    "print(list)"
   ]
  },
  {
   "attachments": {},
   "cell_type": "markdown",
   "metadata": {},
   "source": [
    "Напишите программу для печати всех уникальных значений в словаре. \n",
    "\n",
    "Input:  [{\"V\": \"S001\"}, {\"V\": \"S002\"}, {\"VI\": \"S001\"}, {\"VI\": \"S005\"}, {\"VII\": \" S005 \"}, {\" V \":\" S009 \"}, {\" VIII \":\" S007 \"}] \n",
    "\n",
    "Output: {'S005', 'S002', 'S007', 'S001', 'S009'}"
   ]
  },
  {
   "cell_type": "code",
   "execution_count": null,
   "metadata": {},
   "outputs": [],
   "source": [
    "dict_list = [{\"V\": \"S001\"}, {\"V\": \"S002\"}, {\"VI\": \"S001\"}, \n",
    "{\"VI\": \"S005\"}, {\"VII\": \"S005\"}, {\"V\": \"S009\"}, {\"VIII\": \"S007\"}] \n",
    "\n",
    "result_set = set()\n",
    "for dict_ in dict_list:\n",
    "    for val in dict_.values():\n",
    "        result_set.add(val)\n",
    "\n",
    "print(result_set)"
   ]
  },
  {
   "cell_type": "code",
   "execution_count": null,
   "metadata": {},
   "outputs": [],
   "source": [
    "dict_list = [{\"V\": \"S001\"}, {\"V\": \"S002\"}, {\"VI\": \"S001\"}, \n",
    "{\"VI\": \"S005\"}, {\"VII\": \"S005\"}, {\"V\": \"S009\"}, {\"VIII\": \"S007\"}] \n",
    "result_set = set()\n",
    "for dict_ in dict_list:\n",
    "    val_set = set(dict_.values())\n",
    "    result_set |= val_set\n",
    "\n",
    "print(result_set)"
   ]
  },
  {
   "cell_type": "code",
   "execution_count": null,
   "metadata": {},
   "outputs": [],
   "source": [
    "start_list = [0, -1, 5, 2, 3]\n",
    "\n",
    "count = 0\n",
    "for i in range(1, len(start_list)):\n",
    "    if start_list[i] > start_list[i - 1]:\n",
    "        count += 1\n",
    "\n",
    "print(count)"
   ]
  },
  {
   "attachments": {},
   "cell_type": "markdown",
   "metadata": {},
   "source": [
    "Напишите программу, которая принимает на вход строку, и отслеживает, сколько раз каждый символ уже встречался. Количество повторов добавляется к символам с помощью постфикса формата _n.\n",
    "\n",
    "Input: a a a b c a a d c d d\n",
    "Output: a a_1 a_2 b c a_3 a_4 d c_1 d_1 d_2\n",
    "\n",
    "Для решения данной задачи используйте функцию .split()"
   ]
  },
  {
   "cell_type": "code",
   "execution_count": null,
   "metadata": {},
   "outputs": [],
   "source": [
    "start_str = 'a a a b c a a d c d d'\n",
    "print(start_str)\n",
    "start_str = start_str.split()\n",
    "\n",
    "counts = {}\n",
    "\n",
    "for char in start_str:\n",
    "    if char in counts:\n",
    "        counts[char] += 1\n",
    "        print(f'{char}_{counts[char]}', end=' ')\n",
    "    else:\n",
    "        counts[char] = 0\n",
    "        print(char, end=' ')"
   ]
  },
  {
   "cell_type": "code",
   "execution_count": null,
   "metadata": {},
   "outputs": [],
   "source": [
    "start_str = start_str.lower()\n",
    "print(start_str)\n",
    "start_str = start_str.split()\n",
    "print(start_str)\n",
    "print(set(start_str))\n",
    "print(len(set(start_str)))"
   ]
  },
  {
   "attachments": {},
   "cell_type": "markdown",
   "metadata": {},
   "source": [
    "my_tuple = tuple([1, 1, 3, 4, 5])\n",
    "my_lst = [1, 1, 3, 4, 5]\n",
    "print(my_tuple.__sizeof__())\n",
    "print(my_lst.__sizeof__())\n",
    "\n",
    "\n",
    "my_dict = {\n",
    "    (1, 2, 3): 'val'\n",
    "}\n",
    "\n",
    "print(my_dict[(1, 2, 3)])"
   ]
  }
 ],
 "metadata": {
  "kernelspec": {
   "display_name": "Python 3",
   "language": "python",
   "name": "python3"
  },
  "language_info": {
   "codemirror_mode": {
    "name": "ipython",
    "version": 3
   },
   "file_extension": ".py",
   "mimetype": "text/x-python",
   "name": "python",
   "nbconvert_exporter": "python",
   "pygments_lexer": "ipython3",
   "version": "3.11.1"
  },
  "orig_nbformat": 4
 },
 "nbformat": 4,
 "nbformat_minor": 2
}
