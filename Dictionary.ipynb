{
 "cells": [
  {
   "attachments": {},
   "cell_type": "markdown",
   "metadata": {},
   "source": [
    "## СЛОВАРИ (Dictionary)\n",
    "\n",
    "#### Словарь представляет собой упорядоченный* набор, изменяемый и не допускающий дублирования.\n",
    "\n",
    "Словари используются для хранения значений данных в парах **ключ:значение.**\n",
    "\n",
    "Иницициализация пустого словаря **имя_словаря = {}**\n",
    "\n",
    "Бозовый синтакиси: **имя_словаря = {\"имя_ключа\": значение, \"имя_ключа2\": значение}**\n",
    "\n"
   ]
  },
  {
   "attachments": {},
   "cell_type": "markdown",
   "metadata": {},
   "source": [
    "#### получение значения из ключа"
   ]
  },
  {
   "cell_type": "code",
   "execution_count": 4,
   "metadata": {},
   "outputs": [
    {
     "name": "stdout",
     "output_type": "stream",
     "text": [
      "Mustang\n"
     ]
    }
   ],
   "source": [
    "cardict =\t{\n",
    "  \"brand\": \"Ford\",\n",
    "  \"model\": \"Mustang\",\n",
    "  \"year\": 1964\n",
    "}\n",
    "value = cardict.get(\"model\")\n",
    "print(value)\n"
   ]
  },
  {
   "cell_type": "code",
   "execution_count": 6,
   "metadata": {},
   "outputs": [
    {
     "name": "stdout",
     "output_type": "stream",
     "text": [
      "Mustang\n"
     ]
    }
   ],
   "source": [
    "cardict =\t{\n",
    "  \"brand\": \"Ford\",\n",
    "  \"model\": \"Mustang\",\n",
    "  \"year\": 1964\n",
    "}\n",
    "value = cardict[\"model\"]\n",
    "print(value)\n"
   ]
  },
  {
   "cell_type": "code",
   "execution_count": 4,
   "metadata": {},
   "outputs": [
    {
     "name": "stdout",
     "output_type": "stream",
     "text": [
      "dict_items([('brand', 'Ford'), ('model', 'Mustang'), ('year', 1964)])\n",
      "dict_items([('brand', 'Ford'), ('model', 'Mustang'), ('year', 1964)])\n",
      "dict_items([('brand', 'Ford'), ('model', 'Mustang'), ('year', 1964)])\n"
     ]
    }
   ],
   "source": [
    "cardict =\t{\n",
    "  \"brand\": \"Ford\",\n",
    "  \"model\": \"Mustang\",\n",
    "  \"year\": 1964\n",
    "}\n",
    "print(cardict.items())"
   ]
  },
  {
   "attachments": {},
   "cell_type": "markdown",
   "metadata": {},
   "source": [
    "# Функии словаря"
   ]
  },
  {
   "attachments": {},
   "cell_type": "markdown",
   "metadata": {},
   "source": [
    "clear() Удаляет все элементы из словаря\n",
    "\n",
    "copy() Возвращает копию словаря\n",
    "\n",
    "fromkeys() Возвращает словарь с указанными ключами и значением\n",
    "\n",
    "get() Возвращает значение указанного ключа\n",
    "\n",
    "items() Возвращает список, содержащий кортеж для каждой пары ключ-значение\n",
    "\n",
    "keys() Возвращает список, содержащий ключи словаря\n",
    "\n",
    "pop() Удаляет элемент с указанным ключом\n",
    "\n",
    "popitem() Удаляет последнюю вставленную пару ключ-значение\n",
    "\n",
    "setdefault() Возвращает значение указанного ключа. Если ключ не существует: вставляет ключ с указанным значением\n",
    "\n",
    "update() Обновляет словарь указанными парами ключ-значение\n",
    "\n",
    "values() Возвращает список всех значений в словаре\n"
   ]
  }
 ],
 "metadata": {
  "kernelspec": {
   "display_name": "Python 3",
   "language": "python",
   "name": "python3"
  },
  "language_info": {
   "codemirror_mode": {
    "name": "ipython",
    "version": 3
   },
   "file_extension": ".py",
   "mimetype": "text/x-python",
   "name": "python",
   "nbconvert_exporter": "python",
   "pygments_lexer": "ipython3",
   "version": "3.11.1"
  },
  "orig_nbformat": 4
 },
 "nbformat": 4,
 "nbformat_minor": 2
}
