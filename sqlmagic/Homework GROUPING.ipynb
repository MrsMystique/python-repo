{
 "cells": [
  {
   "cell_type": "code",
   "execution_count": 1,
   "metadata": {},
   "outputs": [],
   "source": [
    "%load_ext sql\n",
    "%sql ibm_db_sa://mng80479:VD2X2NNvhWqLPRAZ@fbd88901-ebdb-4a4f-a32e-9822b9fb237b.c1ogj3sd0tgtu0lqde00.databases.appdomain.cloud:32731/BLUDB?security=SSL"
   ]
  },
  {
   "cell_type": "code",
   "execution_count": 3,
   "metadata": {},
   "outputs": [
    {
     "name": "stdout",
     "output_type": "stream",
     "text": [
      " * ibm_db_sa://mng80479:***@fbd88901-ebdb-4a4f-a32e-9822b9fb237b.c1ogj3sd0tgtu0lqde00.databases.appdomain.cloud:32731/BLUDB\n",
      "Done.\n"
     ]
    },
    {
     "data": {
      "text/html": [
       "<table>\n",
       "    <tr>\n",
       "        <th>tabname</th>\n",
       "    </tr>\n",
       "    <tr>\n",
       "        <td>CARS</td>\n",
       "    </tr>\n",
       "    <tr>\n",
       "        <td>PHONES</td>\n",
       "    </tr>\n",
       "    <tr>\n",
       "        <td>HOUSES</td>\n",
       "    </tr>\n",
       "    <tr>\n",
       "        <td>CHICAGO_SCHOOLS</td>\n",
       "    </tr>\n",
       "    <tr>\n",
       "        <td>SOCIOECONOMIC</td>\n",
       "    </tr>\n",
       "    <tr>\n",
       "        <td>SOCIOECONOMIC_DATA</td>\n",
       "    </tr>\n",
       "    <tr>\n",
       "        <td>CRIME</td>\n",
       "    </tr>\n",
       "</table>"
      ],
      "text/plain": [
       "[('CARS',),\n",
       " ('PHONES',),\n",
       " ('HOUSES',),\n",
       " ('CHICAGO_SCHOOLS',),\n",
       " ('SOCIOECONOMIC',),\n",
       " ('SOCIOECONOMIC_DATA',),\n",
       " ('CRIME',)]"
      ]
     },
     "execution_count": 3,
     "metadata": {},
     "output_type": "execute_result"
    }
   ],
   "source": [
    "%sql SELECT TABNAME FROM SYSCAT.TABLES WHERE TABSCHEMA = 'MNG80479'\n"
   ]
  },
  {
   "cell_type": "code",
   "execution_count": 4,
   "metadata": {},
   "outputs": [
    {
     "name": "stdout",
     "output_type": "stream",
     "text": [
      " * ibm_db_sa://mng80479:***@fbd88901-ebdb-4a4f-a32e-9822b9fb237b.c1ogj3sd0tgtu0lqde00.databases.appdomain.cloud:32731/BLUDB\n",
      "Done.\n"
     ]
    },
    {
     "data": {
      "text/html": [
       "<table>\n",
       "    <tr>\n",
       "        <th>colname</th>\n",
       "        <th>typename</th>\n",
       "        <th>length</th>\n",
       "        <th>scale</th>\n",
       "        <th>NULLS</th>\n",
       "    </tr>\n",
       "    <tr>\n",
       "        <td>ID</td>\n",
       "        <td>SMALLINT</td>\n",
       "        <td>2</td>\n",
       "        <td>0</td>\n",
       "        <td>N</td>\n",
       "    </tr>\n",
       "    <tr>\n",
       "        <td>SYMBOLING</td>\n",
       "        <td>SMALLINT</td>\n",
       "        <td>2</td>\n",
       "        <td>0</td>\n",
       "        <td>Y</td>\n",
       "    </tr>\n",
       "    <tr>\n",
       "        <td>NORMALIZED_LOSSES</td>\n",
       "        <td>SMALLINT</td>\n",
       "        <td>2</td>\n",
       "        <td>0</td>\n",
       "        <td>Y</td>\n",
       "    </tr>\n",
       "    <tr>\n",
       "        <td>MAKE</td>\n",
       "        <td>VARCHAR</td>\n",
       "        <td>13</td>\n",
       "        <td>0</td>\n",
       "        <td>Y</td>\n",
       "    </tr>\n",
       "    <tr>\n",
       "        <td>NUM_OF_DOORS</td>\n",
       "        <td>VARCHAR</td>\n",
       "        <td>4</td>\n",
       "        <td>0</td>\n",
       "        <td>Y</td>\n",
       "    </tr>\n",
       "    <tr>\n",
       "        <td>BODY_STYLE</td>\n",
       "        <td>VARCHAR</td>\n",
       "        <td>11</td>\n",
       "        <td>0</td>\n",
       "        <td>Y</td>\n",
       "    </tr>\n",
       "    <tr>\n",
       "        <td>DRIVE_WHEELS</td>\n",
       "        <td>VARCHAR</td>\n",
       "        <td>3</td>\n",
       "        <td>0</td>\n",
       "        <td>Y</td>\n",
       "    </tr>\n",
       "    <tr>\n",
       "        <td>ENGINE_LOCATION</td>\n",
       "        <td>VARCHAR</td>\n",
       "        <td>5</td>\n",
       "        <td>0</td>\n",
       "        <td>Y</td>\n",
       "    </tr>\n",
       "    <tr>\n",
       "        <td>WHEEL_BASE</td>\n",
       "        <td>DECIMAL</td>\n",
       "        <td>5</td>\n",
       "        <td>1</td>\n",
       "        <td>Y</td>\n",
       "    </tr>\n",
       "    <tr>\n",
       "        <td>LENGTH</td>\n",
       "        <td>DECFLOAT</td>\n",
       "        <td>16</td>\n",
       "        <td>0</td>\n",
       "        <td>Y</td>\n",
       "    </tr>\n",
       "    <tr>\n",
       "        <td>WIDTH</td>\n",
       "        <td>DECFLOAT</td>\n",
       "        <td>16</td>\n",
       "        <td>0</td>\n",
       "        <td>Y</td>\n",
       "    </tr>\n",
       "    <tr>\n",
       "        <td>HEIGHT</td>\n",
       "        <td>DECFLOAT</td>\n",
       "        <td>16</td>\n",
       "        <td>0</td>\n",
       "        <td>Y</td>\n",
       "    </tr>\n",
       "    <tr>\n",
       "        <td>CURB_WEIGHT</td>\n",
       "        <td>SMALLINT</td>\n",
       "        <td>2</td>\n",
       "        <td>0</td>\n",
       "        <td>Y</td>\n",
       "    </tr>\n",
       "    <tr>\n",
       "        <td>ENGINE_TYPE</td>\n",
       "        <td>VARCHAR</td>\n",
       "        <td>5</td>\n",
       "        <td>0</td>\n",
       "        <td>Y</td>\n",
       "    </tr>\n",
       "    <tr>\n",
       "        <td>NUM_OF_CYLINDERS</td>\n",
       "        <td>VARCHAR</td>\n",
       "        <td>6</td>\n",
       "        <td>0</td>\n",
       "        <td>Y</td>\n",
       "    </tr>\n",
       "    <tr>\n",
       "        <td>ENGINE_SIZE</td>\n",
       "        <td>SMALLINT</td>\n",
       "        <td>2</td>\n",
       "        <td>0</td>\n",
       "        <td>Y</td>\n",
       "    </tr>\n",
       "    <tr>\n",
       "        <td>FUEL_SYSTEM</td>\n",
       "        <td>VARCHAR</td>\n",
       "        <td>4</td>\n",
       "        <td>0</td>\n",
       "        <td>Y</td>\n",
       "    </tr>\n",
       "    <tr>\n",
       "        <td>BORE</td>\n",
       "        <td>DECIMAL</td>\n",
       "        <td>5</td>\n",
       "        <td>2</td>\n",
       "        <td>Y</td>\n",
       "    </tr>\n",
       "    <tr>\n",
       "        <td>STROKE</td>\n",
       "        <td>DECIMAL</td>\n",
       "        <td>5</td>\n",
       "        <td>2</td>\n",
       "        <td>Y</td>\n",
       "    </tr>\n",
       "    <tr>\n",
       "        <td>COMPRESSION_RATIO</td>\n",
       "        <td>DECIMAL</td>\n",
       "        <td>5</td>\n",
       "        <td>2</td>\n",
       "        <td>Y</td>\n",
       "    </tr>\n",
       "    <tr>\n",
       "        <td>HORSEPOWER</td>\n",
       "        <td>SMALLINT</td>\n",
       "        <td>2</td>\n",
       "        <td>0</td>\n",
       "        <td>Y</td>\n",
       "    </tr>\n",
       "    <tr>\n",
       "        <td>PEAK_RPM</td>\n",
       "        <td>DECIMAL</td>\n",
       "        <td>6</td>\n",
       "        <td>1</td>\n",
       "        <td>Y</td>\n",
       "    </tr>\n",
       "    <tr>\n",
       "        <td>PRICE</td>\n",
       "        <td>DECIMAL</td>\n",
       "        <td>7</td>\n",
       "        <td>1</td>\n",
       "        <td>Y</td>\n",
       "    </tr>\n",
       "    <tr>\n",
       "        <td>CITY_L_100KM</td>\n",
       "        <td>DECFLOAT</td>\n",
       "        <td>16</td>\n",
       "        <td>0</td>\n",
       "        <td>Y</td>\n",
       "    </tr>\n",
       "    <tr>\n",
       "        <td>HIGHWAY_L_100KM</td>\n",
       "        <td>DECFLOAT</td>\n",
       "        <td>16</td>\n",
       "        <td>0</td>\n",
       "        <td>Y</td>\n",
       "    </tr>\n",
       "    <tr>\n",
       "        <td>HORSEPOWER_BINNED</td>\n",
       "        <td>VARCHAR</td>\n",
       "        <td>6</td>\n",
       "        <td>0</td>\n",
       "        <td>Y</td>\n",
       "    </tr>\n",
       "    <tr>\n",
       "        <td>FUEL_TYPE_DIESEL</td>\n",
       "        <td>SMALLINT</td>\n",
       "        <td>2</td>\n",
       "        <td>0</td>\n",
       "        <td>Y</td>\n",
       "    </tr>\n",
       "    <tr>\n",
       "        <td>FUEL_TYPE_GAS</td>\n",
       "        <td>SMALLINT</td>\n",
       "        <td>2</td>\n",
       "        <td>0</td>\n",
       "        <td>Y</td>\n",
       "    </tr>\n",
       "    <tr>\n",
       "        <td>ASPIRATION_STD</td>\n",
       "        <td>SMALLINT</td>\n",
       "        <td>2</td>\n",
       "        <td>0</td>\n",
       "        <td>Y</td>\n",
       "    </tr>\n",
       "    <tr>\n",
       "        <td>ASPIRATION_TURBO</td>\n",
       "        <td>SMALLINT</td>\n",
       "        <td>2</td>\n",
       "        <td>0</td>\n",
       "        <td>Y</td>\n",
       "    </tr>\n",
       "</table>"
      ],
      "text/plain": [
       "[('ID', 'SMALLINT', 2, 0, 'N'),\n",
       " ('SYMBOLING', 'SMALLINT', 2, 0, 'Y'),\n",
       " ('NORMALIZED_LOSSES', 'SMALLINT', 2, 0, 'Y'),\n",
       " ('MAKE', 'VARCHAR', 13, 0, 'Y'),\n",
       " ('NUM_OF_DOORS', 'VARCHAR', 4, 0, 'Y'),\n",
       " ('BODY_STYLE', 'VARCHAR', 11, 0, 'Y'),\n",
       " ('DRIVE_WHEELS', 'VARCHAR', 3, 0, 'Y'),\n",
       " ('ENGINE_LOCATION', 'VARCHAR', 5, 0, 'Y'),\n",
       " ('WHEEL_BASE', 'DECIMAL', 5, 1, 'Y'),\n",
       " ('LENGTH', 'DECFLOAT', 16, 0, 'Y'),\n",
       " ('WIDTH', 'DECFLOAT', 16, 0, 'Y'),\n",
       " ('HEIGHT', 'DECFLOAT', 16, 0, 'Y'),\n",
       " ('CURB_WEIGHT', 'SMALLINT', 2, 0, 'Y'),\n",
       " ('ENGINE_TYPE', 'VARCHAR', 5, 0, 'Y'),\n",
       " ('NUM_OF_CYLINDERS', 'VARCHAR', 6, 0, 'Y'),\n",
       " ('ENGINE_SIZE', 'SMALLINT', 2, 0, 'Y'),\n",
       " ('FUEL_SYSTEM', 'VARCHAR', 4, 0, 'Y'),\n",
       " ('BORE', 'DECIMAL', 5, 2, 'Y'),\n",
       " ('STROKE', 'DECIMAL', 5, 2, 'Y'),\n",
       " ('COMPRESSION_RATIO', 'DECIMAL', 5, 2, 'Y'),\n",
       " ('HORSEPOWER', 'SMALLINT', 2, 0, 'Y'),\n",
       " ('PEAK_RPM', 'DECIMAL', 6, 1, 'Y'),\n",
       " ('PRICE', 'DECIMAL', 7, 1, 'Y'),\n",
       " ('CITY_L_100KM', 'DECFLOAT', 16, 0, 'Y'),\n",
       " ('HIGHWAY_L_100KM', 'DECFLOAT', 16, 0, 'Y'),\n",
       " ('HORSEPOWER_BINNED', 'VARCHAR', 6, 0, 'Y'),\n",
       " ('FUEL_TYPE_DIESEL', 'SMALLINT', 2, 0, 'Y'),\n",
       " ('FUEL_TYPE_GAS', 'SMALLINT', 2, 0, 'Y'),\n",
       " ('ASPIRATION_STD', 'SMALLINT', 2, 0, 'Y'),\n",
       " ('ASPIRATION_TURBO', 'SMALLINT', 2, 0, 'Y')]"
      ]
     },
     "execution_count": 4,
     "metadata": {},
     "output_type": "execute_result"
    }
   ],
   "source": [
    "%%sql\n",
    "SELECT COLNAME, TYPENAME, LENGTH, SCALE, NULLS\n",
    "FROM SYSCAT.COLUMNS\n",
    "WHERE TABNAME = 'CARS'"
   ]
  },
  {
   "cell_type": "code",
   "execution_count": 5,
   "metadata": {},
   "outputs": [
    {
     "name": "stdout",
     "output_type": "stream",
     "text": [
      " * ibm_db_sa://mng80479:***@fbd88901-ebdb-4a4f-a32e-9822b9fb237b.c1ogj3sd0tgtu0lqde00.databases.appdomain.cloud:32731/BLUDB\n",
      "(ibm_db_dbi.ProgrammingError) ibm_db_dbi::ProgrammingError: Statement Execute Failed: [IBM][CLI Driver][DB2/LINUXX8664] SQL0205N  Column, attribute, or period \"COLUMN_0\" is not defined in \"MNG80479.CARS\".  SQLSTATE=42703  SQLCODE=-205\n",
      "[SQL: ALTER TABLE CARS\n",
      "RENAME COLUMN COLUMN_0 TO id]\n",
      "(Background on this error at: http://sqlalche.me/e/13/f405)\n"
     ]
    }
   ],
   "source": [
    "%%sql \n",
    "ALTER TABLE CARS\n",
    "RENAME COLUMN COLUMN_0 TO id\n"
   ]
  },
  {
   "cell_type": "code",
   "execution_count": 6,
   "metadata": {},
   "outputs": [
    {
     "name": "stdout",
     "output_type": "stream",
     "text": [
      " * ibm_db_sa://mng80479:***@fbd88901-ebdb-4a4f-a32e-9822b9fb237b.c1ogj3sd0tgtu0lqde00.databases.appdomain.cloud:32731/BLUDB\n",
      "Done.\n"
     ]
    },
    {
     "data": {
      "text/plain": [
       "[]"
      ]
     },
     "execution_count": 6,
     "metadata": {},
     "output_type": "execute_result"
    }
   ],
   "source": [
    "%%sql\n",
    "ALTER TABLE CARS\n",
    "ALTER COLUMN ID SET NOT NULL\n"
   ]
  },
  {
   "cell_type": "code",
   "execution_count": 7,
   "metadata": {},
   "outputs": [
    {
     "name": "stdout",
     "output_type": "stream",
     "text": [
      " * ibm_db_sa://mng80479:***@fbd88901-ebdb-4a4f-a32e-9822b9fb237b.c1ogj3sd0tgtu0lqde00.databases.appdomain.cloud:32731/BLUDB\n",
      "Done.\n"
     ]
    },
    {
     "data": {
      "text/html": [
       "<table>\n",
       "    <tr>\n",
       "        <th>id</th>\n",
       "        <th>symboling</th>\n",
       "        <th>normalized_losses</th>\n",
       "        <th>make</th>\n",
       "        <th>num_of_doors</th>\n",
       "        <th>body_style</th>\n",
       "        <th>drive_wheels</th>\n",
       "        <th>engine_location</th>\n",
       "        <th>wheel_base</th>\n",
       "        <th>length</th>\n",
       "        <th>width</th>\n",
       "        <th>height</th>\n",
       "        <th>curb_weight</th>\n",
       "        <th>engine_type</th>\n",
       "        <th>num_of_cylinders</th>\n",
       "        <th>engine_size</th>\n",
       "        <th>fuel_system</th>\n",
       "        <th>bore</th>\n",
       "        <th>stroke</th>\n",
       "        <th>compression_ratio</th>\n",
       "        <th>horsepower</th>\n",
       "        <th>peak_rpm</th>\n",
       "        <th>price</th>\n",
       "        <th>city_l_100km</th>\n",
       "        <th>highway_l_100km</th>\n",
       "        <th>horsepower_binned</th>\n",
       "        <th>fuel_type_diesel</th>\n",
       "        <th>fuel_type_gas</th>\n",
       "        <th>aspiration_std</th>\n",
       "        <th>aspiration_turbo</th>\n",
       "    </tr>\n",
       "    <tr>\n",
       "        <td>0</td>\n",
       "        <td>3</td>\n",
       "        <td>122</td>\n",
       "        <td>alfa-romero</td>\n",
       "        <td>two</td>\n",
       "        <td>convertible</td>\n",
       "        <td>rwd</td>\n",
       "        <td>front</td>\n",
       "        <td>88.6</td>\n",
       "        <td>0.8111484863046613</td>\n",
       "        <td>0.8902777777777777</td>\n",
       "        <td>0.8160535117056856</td>\n",
       "        <td>2548</td>\n",
       "        <td>dohc</td>\n",
       "        <td>four</td>\n",
       "        <td>130</td>\n",
       "        <td>mpfi</td>\n",
       "        <td>3.47</td>\n",
       "        <td>2.68</td>\n",
       "        <td>9.00</td>\n",
       "        <td>111</td>\n",
       "        <td>5000.0</td>\n",
       "        <td>13495.0</td>\n",
       "        <td>11.19047619047619</td>\n",
       "        <td>8.703703703703704</td>\n",
       "        <td>Low</td>\n",
       "        <td>0</td>\n",
       "        <td>1</td>\n",
       "        <td>1</td>\n",
       "        <td>0</td>\n",
       "    </tr>\n",
       "    <tr>\n",
       "        <td>1</td>\n",
       "        <td>3</td>\n",
       "        <td>122</td>\n",
       "        <td>alfa-romero</td>\n",
       "        <td>two</td>\n",
       "        <td>convertible</td>\n",
       "        <td>rwd</td>\n",
       "        <td>front</td>\n",
       "        <td>88.6</td>\n",
       "        <td>0.8111484863046613</td>\n",
       "        <td>0.8902777777777777</td>\n",
       "        <td>0.8160535117056856</td>\n",
       "        <td>2548</td>\n",
       "        <td>dohc</td>\n",
       "        <td>four</td>\n",
       "        <td>130</td>\n",
       "        <td>mpfi</td>\n",
       "        <td>3.47</td>\n",
       "        <td>2.68</td>\n",
       "        <td>9.00</td>\n",
       "        <td>111</td>\n",
       "        <td>5000.0</td>\n",
       "        <td>16500.0</td>\n",
       "        <td>11.19047619047619</td>\n",
       "        <td>8.703703703703704</td>\n",
       "        <td>Low</td>\n",
       "        <td>0</td>\n",
       "        <td>1</td>\n",
       "        <td>1</td>\n",
       "        <td>0</td>\n",
       "    </tr>\n",
       "    <tr>\n",
       "        <td>2</td>\n",
       "        <td>1</td>\n",
       "        <td>122</td>\n",
       "        <td>alfa-romero</td>\n",
       "        <td>two</td>\n",
       "        <td>hatchback</td>\n",
       "        <td>rwd</td>\n",
       "        <td>front</td>\n",
       "        <td>94.5</td>\n",
       "        <td>0.8226814031715521</td>\n",
       "        <td>0.9097222222222222</td>\n",
       "        <td>0.8762541806020067</td>\n",
       "        <td>2823</td>\n",
       "        <td>ohcv</td>\n",
       "        <td>six</td>\n",
       "        <td>152</td>\n",
       "        <td>mpfi</td>\n",
       "        <td>2.68</td>\n",
       "        <td>3.47</td>\n",
       "        <td>9.00</td>\n",
       "        <td>154</td>\n",
       "        <td>5000.0</td>\n",
       "        <td>16500.0</td>\n",
       "        <td>12.368421052631579</td>\n",
       "        <td>9.038461538461538</td>\n",
       "        <td>Medium</td>\n",
       "        <td>0</td>\n",
       "        <td>1</td>\n",
       "        <td>1</td>\n",
       "        <td>0</td>\n",
       "    </tr>\n",
       "    <tr>\n",
       "        <td>3</td>\n",
       "        <td>2</td>\n",
       "        <td>164</td>\n",
       "        <td>audi</td>\n",
       "        <td>four</td>\n",
       "        <td>sedan</td>\n",
       "        <td>fwd</td>\n",
       "        <td>front</td>\n",
       "        <td>99.8</td>\n",
       "        <td>0.8486304661220567</td>\n",
       "        <td>0.9194444444444445</td>\n",
       "        <td>0.9080267558528428</td>\n",
       "        <td>2337</td>\n",
       "        <td>ohc</td>\n",
       "        <td>four</td>\n",
       "        <td>109</td>\n",
       "        <td>mpfi</td>\n",
       "        <td>3.19</td>\n",
       "        <td>3.40</td>\n",
       "        <td>10.00</td>\n",
       "        <td>102</td>\n",
       "        <td>5500.0</td>\n",
       "        <td>13950.0</td>\n",
       "        <td>9.791666666666666</td>\n",
       "        <td>7.833333333333333</td>\n",
       "        <td>Low</td>\n",
       "        <td>0</td>\n",
       "        <td>1</td>\n",
       "        <td>1</td>\n",
       "        <td>0</td>\n",
       "    </tr>\n",
       "    <tr>\n",
       "        <td>4</td>\n",
       "        <td>2</td>\n",
       "        <td>164</td>\n",
       "        <td>audi</td>\n",
       "        <td>four</td>\n",
       "        <td>sedan</td>\n",
       "        <td>4wd</td>\n",
       "        <td>front</td>\n",
       "        <td>99.4</td>\n",
       "        <td>0.8486304661220567</td>\n",
       "        <td>0.9222222222222223</td>\n",
       "        <td>0.9080267558528428</td>\n",
       "        <td>2824</td>\n",
       "        <td>ohc</td>\n",
       "        <td>five</td>\n",
       "        <td>136</td>\n",
       "        <td>mpfi</td>\n",
       "        <td>3.19</td>\n",
       "        <td>3.40</td>\n",
       "        <td>8.00</td>\n",
       "        <td>115</td>\n",
       "        <td>5500.0</td>\n",
       "        <td>17450.0</td>\n",
       "        <td>13.055555555555555</td>\n",
       "        <td>10.681818181818182</td>\n",
       "        <td>Low</td>\n",
       "        <td>0</td>\n",
       "        <td>1</td>\n",
       "        <td>1</td>\n",
       "        <td>0</td>\n",
       "    </tr>\n",
       "</table>"
      ],
      "text/plain": [
       "[(0, 3, 122, 'alfa-romero', 'two', 'convertible', 'rwd', 'front', Decimal('88.6'), '0.8111484863046613', '0.8902777777777777', '0.8160535117056856', 2548, 'dohc', 'four', 130, 'mpfi', Decimal('3.47'), Decimal('2.68'), Decimal('9.00'), 111, Decimal('5000.0'), Decimal('13495.0'), '11.19047619047619', '8.703703703703704', 'Low', 0, 1, 1, 0),\n",
       " (1, 3, 122, 'alfa-romero', 'two', 'convertible', 'rwd', 'front', Decimal('88.6'), '0.8111484863046613', '0.8902777777777777', '0.8160535117056856', 2548, 'dohc', 'four', 130, 'mpfi', Decimal('3.47'), Decimal('2.68'), Decimal('9.00'), 111, Decimal('5000.0'), Decimal('16500.0'), '11.19047619047619', '8.703703703703704', 'Low', 0, 1, 1, 0),\n",
       " (2, 1, 122, 'alfa-romero', 'two', 'hatchback', 'rwd', 'front', Decimal('94.5'), '0.8226814031715521', '0.9097222222222222', '0.8762541806020067', 2823, 'ohcv', 'six', 152, 'mpfi', Decimal('2.68'), Decimal('3.47'), Decimal('9.00'), 154, Decimal('5000.0'), Decimal('16500.0'), '12.368421052631579', '9.038461538461538', 'Medium', 0, 1, 1, 0),\n",
       " (3, 2, 164, 'audi', 'four', 'sedan', 'fwd', 'front', Decimal('99.8'), '0.8486304661220567', '0.9194444444444445', '0.9080267558528428', 2337, 'ohc', 'four', 109, 'mpfi', Decimal('3.19'), Decimal('3.40'), Decimal('10.00'), 102, Decimal('5500.0'), Decimal('13950.0'), '9.791666666666666', '7.833333333333333', 'Low', 0, 1, 1, 0),\n",
       " (4, 2, 164, 'audi', 'four', 'sedan', '4wd', 'front', Decimal('99.4'), '0.8486304661220567', '0.9222222222222223', '0.9080267558528428', 2824, 'ohc', 'five', 136, 'mpfi', Decimal('3.19'), Decimal('3.40'), Decimal('8.00'), 115, Decimal('5500.0'), Decimal('17450.0'), '13.055555555555555', '10.681818181818182', 'Low', 0, 1, 1, 0)]"
      ]
     },
     "execution_count": 7,
     "metadata": {},
     "output_type": "execute_result"
    }
   ],
   "source": [
    "%sql SELECT * FROM CARS LIMIT 5"
   ]
  },
  {
   "cell_type": "markdown",
   "metadata": {},
   "source": [
    "## Условие:\n",
    "\n",
    "МОДИФИЦИРОВАНО ПОД ТЕКУЩУЮ ТАБЛИЦУ\n",
    "\n",
    "1. Напишите запрос который вывел бы таблицу со столбцами в следующем порядке: make, price, \tengine_type, num_of_doors. (к первой или второй таблице, используя SELECT)"
   ]
  },
  {
   "cell_type": "markdown",
   "metadata": {},
   "source": [
    "Воспользуюсь, так как выведет многовато строк без ограничений)"
   ]
  },
  {
   "cell_type": "code",
   "execution_count": 8,
   "metadata": {},
   "outputs": [
    {
     "name": "stdout",
     "output_type": "stream",
     "text": [
      " * ibm_db_sa://mng80479:***@fbd88901-ebdb-4a4f-a32e-9822b9fb237b.c1ogj3sd0tgtu0lqde00.databases.appdomain.cloud:32731/BLUDB\n",
      "Done.\n"
     ]
    },
    {
     "data": {
      "text/html": [
       "<table>\n",
       "    <tr>\n",
       "        <th>make</th>\n",
       "        <th>price</th>\n",
       "        <th>engine_type</th>\n",
       "        <th>num_of_doors</th>\n",
       "    </tr>\n",
       "    <tr>\n",
       "        <td>alfa-romero</td>\n",
       "        <td>13495.0</td>\n",
       "        <td>dohc</td>\n",
       "        <td>two</td>\n",
       "    </tr>\n",
       "    <tr>\n",
       "        <td>alfa-romero</td>\n",
       "        <td>16500.0</td>\n",
       "        <td>dohc</td>\n",
       "        <td>two</td>\n",
       "    </tr>\n",
       "    <tr>\n",
       "        <td>alfa-romero</td>\n",
       "        <td>16500.0</td>\n",
       "        <td>ohcv</td>\n",
       "        <td>two</td>\n",
       "    </tr>\n",
       "    <tr>\n",
       "        <td>audi</td>\n",
       "        <td>13950.0</td>\n",
       "        <td>ohc</td>\n",
       "        <td>four</td>\n",
       "    </tr>\n",
       "    <tr>\n",
       "        <td>audi</td>\n",
       "        <td>17450.0</td>\n",
       "        <td>ohc</td>\n",
       "        <td>four</td>\n",
       "    </tr>\n",
       "    <tr>\n",
       "        <td>audi</td>\n",
       "        <td>15250.0</td>\n",
       "        <td>ohc</td>\n",
       "        <td>two</td>\n",
       "    </tr>\n",
       "    <tr>\n",
       "        <td>audi</td>\n",
       "        <td>17710.0</td>\n",
       "        <td>ohc</td>\n",
       "        <td>four</td>\n",
       "    </tr>\n",
       "    <tr>\n",
       "        <td>audi</td>\n",
       "        <td>18920.0</td>\n",
       "        <td>ohc</td>\n",
       "        <td>four</td>\n",
       "    </tr>\n",
       "    <tr>\n",
       "        <td>audi</td>\n",
       "        <td>23875.0</td>\n",
       "        <td>ohc</td>\n",
       "        <td>four</td>\n",
       "    </tr>\n",
       "    <tr>\n",
       "        <td>bmw</td>\n",
       "        <td>16430.0</td>\n",
       "        <td>ohc</td>\n",
       "        <td>two</td>\n",
       "    </tr>\n",
       "</table>"
      ],
      "text/plain": [
       "[('alfa-romero', Decimal('13495.0'), 'dohc', 'two'),\n",
       " ('alfa-romero', Decimal('16500.0'), 'dohc', 'two'),\n",
       " ('alfa-romero', Decimal('16500.0'), 'ohcv', 'two'),\n",
       " ('audi', Decimal('13950.0'), 'ohc', 'four'),\n",
       " ('audi', Decimal('17450.0'), 'ohc', 'four'),\n",
       " ('audi', Decimal('15250.0'), 'ohc', 'two'),\n",
       " ('audi', Decimal('17710.0'), 'ohc', 'four'),\n",
       " ('audi', Decimal('18920.0'), 'ohc', 'four'),\n",
       " ('audi', Decimal('23875.0'), 'ohc', 'four'),\n",
       " ('bmw', Decimal('16430.0'), 'ohc', 'two')]"
      ]
     },
     "execution_count": 8,
     "metadata": {},
     "output_type": "execute_result"
    }
   ],
   "source": [
    "%sql select make, price, engine_type, num_of_doors from cars limit 10\n"
   ]
  },
  {
   "cell_type": "markdown",
   "metadata": {},
   "source": [
    "2. Напишите команду SELECT, которая вывела бы цену(price), сопровождаемую наименованием марки автомобиля, КОТОРЫЕ ЯВЛЯЮТСЯ СЕДАНАМИ. "
   ]
  },
  {
   "cell_type": "code",
   "execution_count": 9,
   "metadata": {},
   "outputs": [
    {
     "name": "stdout",
     "output_type": "stream",
     "text": [
      " * ibm_db_sa://mng80479:***@fbd88901-ebdb-4a4f-a32e-9822b9fb237b.c1ogj3sd0tgtu0lqde00.databases.appdomain.cloud:32731/BLUDB\n",
      "Done.\n"
     ]
    },
    {
     "data": {
      "text/html": [
       "<table>\n",
       "    <tr>\n",
       "        <th>price</th>\n",
       "        <th>make</th>\n",
       "        <th>body_style</th>\n",
       "    </tr>\n",
       "    <tr>\n",
       "        <td>13950.0</td>\n",
       "        <td>audi</td>\n",
       "        <td>sedan</td>\n",
       "    </tr>\n",
       "    <tr>\n",
       "        <td>17450.0</td>\n",
       "        <td>audi</td>\n",
       "        <td>sedan</td>\n",
       "    </tr>\n",
       "    <tr>\n",
       "        <td>15250.0</td>\n",
       "        <td>audi</td>\n",
       "        <td>sedan</td>\n",
       "    </tr>\n",
       "    <tr>\n",
       "        <td>17710.0</td>\n",
       "        <td>audi</td>\n",
       "        <td>sedan</td>\n",
       "    </tr>\n",
       "    <tr>\n",
       "        <td>23875.0</td>\n",
       "        <td>audi</td>\n",
       "        <td>sedan</td>\n",
       "    </tr>\n",
       "    <tr>\n",
       "        <td>16430.0</td>\n",
       "        <td>bmw</td>\n",
       "        <td>sedan</td>\n",
       "    </tr>\n",
       "    <tr>\n",
       "        <td>16925.0</td>\n",
       "        <td>bmw</td>\n",
       "        <td>sedan</td>\n",
       "    </tr>\n",
       "    <tr>\n",
       "        <td>20970.0</td>\n",
       "        <td>bmw</td>\n",
       "        <td>sedan</td>\n",
       "    </tr>\n",
       "    <tr>\n",
       "        <td>21105.0</td>\n",
       "        <td>bmw</td>\n",
       "        <td>sedan</td>\n",
       "    </tr>\n",
       "    <tr>\n",
       "        <td>24565.0</td>\n",
       "        <td>bmw</td>\n",
       "        <td>sedan</td>\n",
       "    </tr>\n",
       "</table>"
      ],
      "text/plain": [
       "[(Decimal('13950.0'), 'audi', 'sedan'),\n",
       " (Decimal('17450.0'), 'audi', 'sedan'),\n",
       " (Decimal('15250.0'), 'audi', 'sedan'),\n",
       " (Decimal('17710.0'), 'audi', 'sedan'),\n",
       " (Decimal('23875.0'), 'audi', 'sedan'),\n",
       " (Decimal('16430.0'), 'bmw', 'sedan'),\n",
       " (Decimal('16925.0'), 'bmw', 'sedan'),\n",
       " (Decimal('20970.0'), 'bmw', 'sedan'),\n",
       " (Decimal('21105.0'), 'bmw', 'sedan'),\n",
       " (Decimal('24565.0'), 'bmw', 'sedan')]"
      ]
     },
     "execution_count": 9,
     "metadata": {},
     "output_type": "execute_result"
    }
   ],
   "source": [
    "%%sql\n",
    "SELECT Price, Make, body_style FROM CARS WHERE body_style ='sedan' limit 10"
   ]
  },
  {
   "cell_type": "markdown",
   "metadata": {},
   "source": [
    "3. Напишите запрос, который вывел бы наименования всех производителей из таблицы автомобилей без каких бы то ни было повторений. (уникальные значения в “make“ “cars”)\n"
   ]
  },
  {
   "cell_type": "code",
   "execution_count": 10,
   "metadata": {},
   "outputs": [
    {
     "name": "stdout",
     "output_type": "stream",
     "text": [
      " * ibm_db_sa://mng80479:***@fbd88901-ebdb-4a4f-a32e-9822b9fb237b.c1ogj3sd0tgtu0lqde00.databases.appdomain.cloud:32731/BLUDB\n",
      "Done.\n"
     ]
    },
    {
     "data": {
      "text/html": [
       "<table>\n",
       "    <tr>\n",
       "        <th>make</th>\n",
       "        <th>car_count</th>\n",
       "    </tr>\n",
       "    <tr>\n",
       "        <td>alfa-romero</td>\n",
       "        <td>3</td>\n",
       "    </tr>\n",
       "    <tr>\n",
       "        <td>audi</td>\n",
       "        <td>6</td>\n",
       "    </tr>\n",
       "    <tr>\n",
       "        <td>bmw</td>\n",
       "        <td>8</td>\n",
       "    </tr>\n",
       "    <tr>\n",
       "        <td>chevrolet</td>\n",
       "        <td>3</td>\n",
       "    </tr>\n",
       "    <tr>\n",
       "        <td>dodge</td>\n",
       "        <td>9</td>\n",
       "    </tr>\n",
       "    <tr>\n",
       "        <td>honda</td>\n",
       "        <td>13</td>\n",
       "    </tr>\n",
       "    <tr>\n",
       "        <td>isuzu</td>\n",
       "        <td>2</td>\n",
       "    </tr>\n",
       "    <tr>\n",
       "        <td>jaguar</td>\n",
       "        <td>3</td>\n",
       "    </tr>\n",
       "    <tr>\n",
       "        <td>mazda</td>\n",
       "        <td>17</td>\n",
       "    </tr>\n",
       "    <tr>\n",
       "        <td>mercedes-benz</td>\n",
       "        <td>8</td>\n",
       "    </tr>\n",
       "    <tr>\n",
       "        <td>mercury</td>\n",
       "        <td>1</td>\n",
       "    </tr>\n",
       "    <tr>\n",
       "        <td>mitsubishi</td>\n",
       "        <td>13</td>\n",
       "    </tr>\n",
       "    <tr>\n",
       "        <td>nissan</td>\n",
       "        <td>18</td>\n",
       "    </tr>\n",
       "    <tr>\n",
       "        <td>peugot</td>\n",
       "        <td>11</td>\n",
       "    </tr>\n",
       "    <tr>\n",
       "        <td>plymouth</td>\n",
       "        <td>7</td>\n",
       "    </tr>\n",
       "    <tr>\n",
       "        <td>porsche</td>\n",
       "        <td>4</td>\n",
       "    </tr>\n",
       "    <tr>\n",
       "        <td>saab</td>\n",
       "        <td>6</td>\n",
       "    </tr>\n",
       "    <tr>\n",
       "        <td>subaru</td>\n",
       "        <td>12</td>\n",
       "    </tr>\n",
       "    <tr>\n",
       "        <td>toyota</td>\n",
       "        <td>32</td>\n",
       "    </tr>\n",
       "    <tr>\n",
       "        <td>volkswagen</td>\n",
       "        <td>12</td>\n",
       "    </tr>\n",
       "    <tr>\n",
       "        <td>volvo</td>\n",
       "        <td>11</td>\n",
       "    </tr>\n",
       "</table>"
      ],
      "text/plain": [
       "[('alfa-romero', 3),\n",
       " ('audi', 6),\n",
       " ('bmw', 8),\n",
       " ('chevrolet', 3),\n",
       " ('dodge', 9),\n",
       " ('honda', 13),\n",
       " ('isuzu', 2),\n",
       " ('jaguar', 3),\n",
       " ('mazda', 17),\n",
       " ('mercedes-benz', 8),\n",
       " ('mercury', 1),\n",
       " ('mitsubishi', 13),\n",
       " ('nissan', 18),\n",
       " ('peugot', 11),\n",
       " ('plymouth', 7),\n",
       " ('porsche', 4),\n",
       " ('saab', 6),\n",
       " ('subaru', 12),\n",
       " ('toyota', 32),\n",
       " ('volkswagen', 12),\n",
       " ('volvo', 11)]"
      ]
     },
     "execution_count": 10,
     "metadata": {},
     "output_type": "execute_result"
    }
   ],
   "source": [
    "%%sql\n",
    "SELECT DISTINCT(make), COUNT(*) AS car_count\n",
    "FROM cars\n",
    "GROUP BY make\n"
   ]
  },
  {
   "cell_type": "markdown",
   "metadata": {},
   "source": [
    "4*. Напишите запрос, который бы выбирал Производителей, чьи наименования начинаются с буквы p. Используется оператор \"LIKE\":\n",
    "\n"
   ]
  },
  {
   "cell_type": "code",
   "execution_count": 11,
   "metadata": {},
   "outputs": [
    {
     "name": "stdout",
     "output_type": "stream",
     "text": [
      " * ibm_db_sa://mng80479:***@fbd88901-ebdb-4a4f-a32e-9822b9fb237b.c1ogj3sd0tgtu0lqde00.databases.appdomain.cloud:32731/BLUDB\n",
      "Done.\n"
     ]
    },
    {
     "data": {
      "text/html": [
       "<table>\n",
       "    <tr>\n",
       "        <th>make</th>\n",
       "    </tr>\n",
       "    <tr>\n",
       "        <td>peugot</td>\n",
       "    </tr>\n",
       "    <tr>\n",
       "        <td>plymouth</td>\n",
       "    </tr>\n",
       "    <tr>\n",
       "        <td>porsche</td>\n",
       "    </tr>\n",
       "</table>"
      ],
      "text/plain": [
       "[('peugot',), ('plymouth',), ('porsche',)]"
      ]
     },
     "execution_count": 11,
     "metadata": {},
     "output_type": "execute_result"
    }
   ],
   "source": [
    "%%sql\n",
    "SELECT distinct(MAKE) FROM CARS \n",
    "WHERE MAKE LIKE 'p%'"
   ]
  },
  {
   "cell_type": "markdown",
   "metadata": {},
   "source": [
    "5. Напишите запрос, который может дать вам все цены со значениями суммы выше чем $40,000.\n"
   ]
  },
  {
   "cell_type": "code",
   "execution_count": 12,
   "metadata": {},
   "outputs": [
    {
     "name": "stdout",
     "output_type": "stream",
     "text": [
      " * ibm_db_sa://mng80479:***@fbd88901-ebdb-4a4f-a32e-9822b9fb237b.c1ogj3sd0tgtu0lqde00.databases.appdomain.cloud:32731/BLUDB\n",
      "Done.\n"
     ]
    },
    {
     "data": {
      "text/html": [
       "<table>\n",
       "    <tr>\n",
       "        <th>make</th>\n",
       "        <th>price</th>\n",
       "    </tr>\n",
       "    <tr>\n",
       "        <td>bmw</td>\n",
       "        <td>41315.0</td>\n",
       "    </tr>\n",
       "    <tr>\n",
       "        <td>mercedes-benz</td>\n",
       "        <td>40960.0</td>\n",
       "    </tr>\n",
       "    <tr>\n",
       "        <td>mercedes-benz</td>\n",
       "        <td>45400.0</td>\n",
       "    </tr>\n",
       "</table>"
      ],
      "text/plain": [
       "[('bmw', Decimal('41315.0')),\n",
       " ('mercedes-benz', Decimal('40960.0')),\n",
       " ('mercedes-benz', Decimal('45400.0'))]"
      ]
     },
     "execution_count": 12,
     "metadata": {},
     "output_type": "execute_result"
    }
   ],
   "source": [
    "%%sql\n",
    "SELECT MAKE, price FROM CARS WHERE price > 40000"
   ]
  },
  {
   "cell_type": "markdown",
   "metadata": {},
   "source": [
    "6. Напишите запрос который выбрал бы наименьшую цену\n"
   ]
  },
  {
   "cell_type": "code",
   "execution_count": 14,
   "metadata": {},
   "outputs": [
    {
     "name": "stdout",
     "output_type": "stream",
     "text": [
      " * ibm_db_sa://mng80479:***@fbd88901-ebdb-4a4f-a32e-9822b9fb237b.c1ogj3sd0tgtu0lqde00.databases.appdomain.cloud:32731/BLUDB\n",
      "Done.\n"
     ]
    },
    {
     "data": {
      "text/html": [
       "<table>\n",
       "    <tr>\n",
       "        <th>min_price</th>\n",
       "    </tr>\n",
       "    <tr>\n",
       "        <td>5118.0</td>\n",
       "    </tr>\n",
       "</table>"
      ],
      "text/plain": [
       "[(Decimal('5118.0'),)]"
      ]
     },
     "execution_count": 14,
     "metadata": {},
     "output_type": "execute_result"
    }
   ],
   "source": [
    "%sql SELECT MIN(price) AS min_price from cars"
   ]
  },
  {
   "cell_type": "markdown",
   "metadata": {},
   "source": [
    "Или субселектом"
   ]
  },
  {
   "cell_type": "code",
   "execution_count": 18,
   "metadata": {},
   "outputs": [
    {
     "name": "stdout",
     "output_type": "stream",
     "text": [
      " * ibm_db_sa://mng80479:***@fbd88901-ebdb-4a4f-a32e-9822b9fb237b.c1ogj3sd0tgtu0lqde00.databases.appdomain.cloud:32731/BLUDB\n",
      "Done.\n"
     ]
    },
    {
     "data": {
      "text/html": [
       "<table>\n",
       "    <tr>\n",
       "        <th>id</th>\n",
       "        <th>symboling</th>\n",
       "        <th>normalized_losses</th>\n",
       "        <th>make</th>\n",
       "        <th>num_of_doors</th>\n",
       "        <th>body_style</th>\n",
       "        <th>drive_wheels</th>\n",
       "        <th>engine_location</th>\n",
       "        <th>wheel_base</th>\n",
       "        <th>length</th>\n",
       "        <th>width</th>\n",
       "        <th>height</th>\n",
       "        <th>curb_weight</th>\n",
       "        <th>engine_type</th>\n",
       "        <th>num_of_cylinders</th>\n",
       "        <th>engine_size</th>\n",
       "        <th>fuel_system</th>\n",
       "        <th>bore</th>\n",
       "        <th>stroke</th>\n",
       "        <th>compression_ratio</th>\n",
       "        <th>horsepower</th>\n",
       "        <th>peak_rpm</th>\n",
       "        <th>price</th>\n",
       "        <th>city_l_100km</th>\n",
       "        <th>highway_l_100km</th>\n",
       "        <th>horsepower_binned</th>\n",
       "        <th>fuel_type_diesel</th>\n",
       "        <th>fuel_type_gas</th>\n",
       "        <th>aspiration_std</th>\n",
       "        <th>aspiration_turbo</th>\n",
       "    </tr>\n",
       "    <tr>\n",
       "        <td>134</td>\n",
       "        <td>2</td>\n",
       "        <td>83</td>\n",
       "        <td>subaru</td>\n",
       "        <td>two</td>\n",
       "        <td>hatchback</td>\n",
       "        <td>fwd</td>\n",
       "        <td>front</td>\n",
       "        <td>93.7</td>\n",
       "        <td>0.7539644401729938</td>\n",
       "        <td>0.8805555555555555</td>\n",
       "        <td>0.8979933110367894</td>\n",
       "        <td>2050</td>\n",
       "        <td>ohcf</td>\n",
       "        <td>four</td>\n",
       "        <td>97</td>\n",
       "        <td>2bbl</td>\n",
       "        <td>3.62</td>\n",
       "        <td>2.36</td>\n",
       "        <td>9.00</td>\n",
       "        <td>69</td>\n",
       "        <td>4900.0</td>\n",
       "        <td>5118.0</td>\n",
       "        <td>7.580645161290323</td>\n",
       "        <td>6.527777777777778</td>\n",
       "        <td>Low</td>\n",
       "        <td>0</td>\n",
       "        <td>1</td>\n",
       "        <td>1</td>\n",
       "        <td>0</td>\n",
       "    </tr>\n",
       "</table>"
      ],
      "text/plain": [
       "[(134, 2, 83, 'subaru', 'two', 'hatchback', 'fwd', 'front', Decimal('93.7'), '0.7539644401729938', '0.8805555555555555', '0.8979933110367894', 2050, 'ohcf', 'four', 97, '2bbl', Decimal('3.62'), Decimal('2.36'), Decimal('9.00'), 69, Decimal('4900.0'), Decimal('5118.0'), '7.580645161290323', '6.527777777777778', 'Low', 0, 1, 1, 0)]"
      ]
     },
     "execution_count": 18,
     "metadata": {},
     "output_type": "execute_result"
    }
   ],
   "source": [
    "%%sql \n",
    "SELECT * from cars where price in (SELECT MIN(price) from cars)"
   ]
  },
  {
   "cell_type": "markdown",
   "metadata": {},
   "source": [
    "\n",
    "7. Напишите запрос к табличке “машины”, который может показать всех атомобили, у которых normalized_losses больше 200 и они не в Тойоты или Субару.\n",
    "\n"
   ]
  },
  {
   "cell_type": "code",
   "execution_count": 22,
   "metadata": {},
   "outputs": [
    {
     "name": "stdout",
     "output_type": "stream",
     "text": [
      " * ibm_db_sa://mng80479:***@fbd88901-ebdb-4a4f-a32e-9822b9fb237b.c1ogj3sd0tgtu0lqde00.databases.appdomain.cloud:32731/BLUDB\n",
      "Done.\n"
     ]
    },
    {
     "data": {
      "text/html": [
       "<table>\n",
       "    <tr>\n",
       "        <th>make</th>\n",
       "        <th>normalized_losses</th>\n",
       "    </tr>\n",
       "    <tr>\n",
       "        <td>nissan</td>\n",
       "        <td>231</td>\n",
       "    </tr>\n",
       "    <tr>\n",
       "        <td>volkswagen</td>\n",
       "        <td>256</td>\n",
       "    </tr>\n",
       "</table>"
      ],
      "text/plain": [
       "[('nissan', 231), ('volkswagen', 256)]"
      ]
     },
     "execution_count": 22,
     "metadata": {},
     "output_type": "execute_result"
    }
   ],
   "source": [
    "%%sql\n",
    "SELECT MAKE, NORMALIZED_LOSSES \n",
    "FROM CARS \n",
    "WHERE NORMALIZED_LOSSES > 200\n",
    "AND MAKE NOT IN ('toyota', 'subaru')"
   ]
  },
  {
   "cell_type": "markdown",
   "metadata": {},
   "source": [
    "\n",
    "Отсортируйте поле “цена” в порядке убывания и возрастания (лимитирую выборку сразу, так как строк очень много)\n"
   ]
  },
  {
   "cell_type": "code",
   "execution_count": 24,
   "metadata": {},
   "outputs": [
    {
     "name": "stdout",
     "output_type": "stream",
     "text": [
      " * ibm_db_sa://mng80479:***@fbd88901-ebdb-4a4f-a32e-9822b9fb237b.c1ogj3sd0tgtu0lqde00.databases.appdomain.cloud:32731/BLUDB\n",
      "Done.\n"
     ]
    },
    {
     "data": {
      "text/html": [
       "<table>\n",
       "    <tr>\n",
       "        <th>make</th>\n",
       "        <th>price</th>\n",
       "    </tr>\n",
       "    <tr>\n",
       "        <td>subaru</td>\n",
       "        <td>5118.0</td>\n",
       "    </tr>\n",
       "    <tr>\n",
       "        <td>chevrolet</td>\n",
       "        <td>5151.0</td>\n",
       "    </tr>\n",
       "    <tr>\n",
       "        <td>mazda</td>\n",
       "        <td>5195.0</td>\n",
       "    </tr>\n",
       "    <tr>\n",
       "        <td>toyota</td>\n",
       "        <td>5348.0</td>\n",
       "    </tr>\n",
       "    <tr>\n",
       "        <td>mitsubishi</td>\n",
       "        <td>5389.0</td>\n",
       "    </tr>\n",
       "</table>"
      ],
      "text/plain": [
       "[('subaru', Decimal('5118.0')),\n",
       " ('chevrolet', Decimal('5151.0')),\n",
       " ('mazda', Decimal('5195.0')),\n",
       " ('toyota', Decimal('5348.0')),\n",
       " ('mitsubishi', Decimal('5389.0'))]"
      ]
     },
     "execution_count": 24,
     "metadata": {},
     "output_type": "execute_result"
    }
   ],
   "source": [
    "%%sql\n",
    "SELECT MAKE, price\n",
    "FROM CARS \n",
    "order by price\n",
    "limit 5"
   ]
  },
  {
   "cell_type": "code",
   "execution_count": 26,
   "metadata": {},
   "outputs": [
    {
     "name": "stdout",
     "output_type": "stream",
     "text": [
      " * ibm_db_sa://mng80479:***@fbd88901-ebdb-4a4f-a32e-9822b9fb237b.c1ogj3sd0tgtu0lqde00.databases.appdomain.cloud:32731/BLUDB\n",
      "Done.\n"
     ]
    },
    {
     "data": {
      "text/html": [
       "<table>\n",
       "    <tr>\n",
       "        <th>make</th>\n",
       "        <th>price</th>\n",
       "    </tr>\n",
       "    <tr>\n",
       "        <td>mercedes-benz</td>\n",
       "        <td>45400.0</td>\n",
       "    </tr>\n",
       "    <tr>\n",
       "        <td>bmw</td>\n",
       "        <td>41315.0</td>\n",
       "    </tr>\n",
       "    <tr>\n",
       "        <td>mercedes-benz</td>\n",
       "        <td>40960.0</td>\n",
       "    </tr>\n",
       "    <tr>\n",
       "        <td>porsche</td>\n",
       "        <td>37028.0</td>\n",
       "    </tr>\n",
       "    <tr>\n",
       "        <td>bmw</td>\n",
       "        <td>36880.0</td>\n",
       "    </tr>\n",
       "</table>"
      ],
      "text/plain": [
       "[('mercedes-benz', Decimal('45400.0')),\n",
       " ('bmw', Decimal('41315.0')),\n",
       " ('mercedes-benz', Decimal('40960.0')),\n",
       " ('porsche', Decimal('37028.0')),\n",
       " ('bmw', Decimal('36880.0'))]"
      ]
     },
     "execution_count": 26,
     "metadata": {},
     "output_type": "execute_result"
    }
   ],
   "source": [
    "%%sql\n",
    "SELECT MAKE, price\n",
    "FROM CARS \n",
    "order by price desc\n",
    "limit 5"
   ]
  },
  {
   "cell_type": "markdown",
   "metadata": {},
   "source": [
    "Выполните группировку всех автомобилей по марке , суммарная цена которых превышает 250 000"
   ]
  },
  {
   "cell_type": "code",
   "execution_count": 32,
   "metadata": {},
   "outputs": [
    {
     "name": "stdout",
     "output_type": "stream",
     "text": [
      " * ibm_db_sa://mng80479:***@fbd88901-ebdb-4a4f-a32e-9822b9fb237b.c1ogj3sd0tgtu0lqde00.databases.appdomain.cloud:32731/BLUDB\n",
      "Done.\n"
     ]
    },
    {
     "data": {
      "text/html": [
       "<table>\n",
       "    <tr>\n",
       "        <th>make</th>\n",
       "        <th>sum_price</th>\n",
       "    </tr>\n",
       "    <tr>\n",
       "        <td>mercedes-benz</td>\n",
       "        <td>269176.0</td>\n",
       "    </tr>\n",
       "    <tr>\n",
       "        <td>toyota</td>\n",
       "        <td>316346.0</td>\n",
       "    </tr>\n",
       "</table>"
      ],
      "text/plain": [
       "[('mercedes-benz', Decimal('269176.0')), ('toyota', Decimal('316346.0'))]"
      ]
     },
     "execution_count": 32,
     "metadata": {},
     "output_type": "execute_result"
    }
   ],
   "source": [
    "%%sql\n",
    "SELECT MAKE, SUM(PRICE) AS SUM_PRICE\n",
    "FROM CARS \n",
    "GROUP BY MAKE\n",
    "HAVING SUM(PRICE) >250000\n"
   ]
  }
 ],
 "metadata": {
  "kernelspec": {
   "display_name": "Python 3",
   "language": "python",
   "name": "python3"
  },
  "language_info": {
   "codemirror_mode": {
    "name": "ipython",
    "version": 3
   },
   "file_extension": ".py",
   "mimetype": "text/x-python",
   "name": "python",
   "nbconvert_exporter": "python",
   "pygments_lexer": "ipython3",
   "version": "3.11.1"
  },
  "orig_nbformat": 4
 },
 "nbformat": 4,
 "nbformat_minor": 2
}
