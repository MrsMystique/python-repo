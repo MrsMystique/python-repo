{
 "cells": [
  {
   "cell_type": "code",
   "execution_count": 131,
   "metadata": {},
   "outputs": [
    {
     "name": "stdout",
     "output_type": "stream",
     "text": [
      "The sql extension is already loaded. To reload it, use:\n",
      "  %reload_ext sql\n"
     ]
    }
   ],
   "source": [
    "%load_ext sql\n",
    "%sql ibm_db_sa://mng80479:VD2X2NNvhWqLPRAZ@fbd88901-ebdb-4a4f-a32e-9822b9fb237b.c1ogj3sd0tgtu0lqde00.databases.appdomain.cloud:32731/BLUDB?security=SSL"
   ]
  },
  {
   "cell_type": "code",
   "execution_count": 132,
   "metadata": {},
   "outputs": [],
   "source": [
    "import pandas as pd\n",
    "import numpy as np\n",
    "import matplotlib as plt \n",
    "import seaborn as sns"
   ]
  },
  {
   "cell_type": "markdown",
   "metadata": {},
   "source": [
    "Просмотрим все схемы"
   ]
  },
  {
   "cell_type": "code",
   "execution_count": 133,
   "metadata": {},
   "outputs": [
    {
     "name": "stdout",
     "output_type": "stream",
     "text": [
      " * ibm_db_sa://mng80479:***@fbd88901-ebdb-4a4f-a32e-9822b9fb237b.c1ogj3sd0tgtu0lqde00.databases.appdomain.cloud:32731/BLUDB\n",
      "   sqlite:///Chicago.db\n",
      "Done.\n"
     ]
    },
    {
     "data": {
      "text/html": [
       "<table>\n",
       "    <tr>\n",
       "        <th>schemaname</th>\n",
       "    </tr>\n",
       "    <tr>\n",
       "        <td>SYSIBM  </td>\n",
       "    </tr>\n",
       "    <tr>\n",
       "        <td>SYSCAT  </td>\n",
       "    </tr>\n",
       "    <tr>\n",
       "        <td>SYSFUN  </td>\n",
       "    </tr>\n",
       "    <tr>\n",
       "        <td>SYSSTAT </td>\n",
       "    </tr>\n",
       "    <tr>\n",
       "        <td>SYSPROC </td>\n",
       "    </tr>\n",
       "    <tr>\n",
       "        <td>SYSIBMADM</td>\n",
       "    </tr>\n",
       "    <tr>\n",
       "        <td>SYSIBMINTERNAL</td>\n",
       "    </tr>\n",
       "    <tr>\n",
       "        <td>SYSIBMTS</td>\n",
       "    </tr>\n",
       "    <tr>\n",
       "        <td>SYSPUBLIC</td>\n",
       "    </tr>\n",
       "    <tr>\n",
       "        <td>NULLID  </td>\n",
       "    </tr>\n",
       "    <tr>\n",
       "        <td>SQLJ    </td>\n",
       "    </tr>\n",
       "    <tr>\n",
       "        <td>SYSTOOLS</td>\n",
       "    </tr>\n",
       "    <tr>\n",
       "        <td>DSWEBSECURITY</td>\n",
       "    </tr>\n",
       "    <tr>\n",
       "        <td>IBMADT  </td>\n",
       "    </tr>\n",
       "    <tr>\n",
       "        <td>IBMPDQ  </td>\n",
       "    </tr>\n",
       "    <tr>\n",
       "        <td>DB2INST1</td>\n",
       "    </tr>\n",
       "    <tr>\n",
       "        <td>DB2GSE  </td>\n",
       "    </tr>\n",
       "    <tr>\n",
       "        <td>ST_INFORMTN_SCHEMA</td>\n",
       "    </tr>\n",
       "    <tr>\n",
       "        <td>DSWEB   </td>\n",
       "    </tr>\n",
       "    <tr>\n",
       "        <td>DSSCHED </td>\n",
       "    </tr>\n",
       "    <tr>\n",
       "        <td>PROCMGMT</td>\n",
       "    </tr>\n",
       "    <tr>\n",
       "        <td>DSSHSV1 </td>\n",
       "    </tr>\n",
       "    <tr>\n",
       "        <td>DSJOBMGR</td>\n",
       "    </tr>\n",
       "    <tr>\n",
       "        <td>IBMOTS  </td>\n",
       "    </tr>\n",
       "    <tr>\n",
       "        <td>IDAX    </td>\n",
       "    </tr>\n",
       "    <tr>\n",
       "        <td>IBM_RTMON_DATA</td>\n",
       "    </tr>\n",
       "    <tr>\n",
       "        <td>ERRORSCHEMA</td>\n",
       "    </tr>\n",
       "    <tr>\n",
       "        <td>IBM_RTMON_EVMON</td>\n",
       "    </tr>\n",
       "    <tr>\n",
       "        <td>IBM_RTMON_METADATA</td>\n",
       "    </tr>\n",
       "    <tr>\n",
       "        <td>IBM_RTMON_BASELINE</td>\n",
       "    </tr>\n",
       "    <tr>\n",
       "        <td>IBM_DSM_VIEWS</td>\n",
       "    </tr>\n",
       "    <tr>\n",
       "        <td>HEALTHMETRICS</td>\n",
       "    </tr>\n",
       "    <tr>\n",
       "        <td>IBMCONSOLE</td>\n",
       "    </tr>\n",
       "    <tr>\n",
       "        <td>IBM_RTMON</td>\n",
       "    </tr>\n",
       "    <tr>\n",
       "        <td>AUDIT   </td>\n",
       "    </tr>\n",
       "    <tr>\n",
       "        <td>MNG80479</td>\n",
       "    </tr>\n",
       "</table>"
      ],
      "text/plain": [
       "[('SYSIBM  ',),\n",
       " ('SYSCAT  ',),\n",
       " ('SYSFUN  ',),\n",
       " ('SYSSTAT ',),\n",
       " ('SYSPROC ',),\n",
       " ('SYSIBMADM',),\n",
       " ('SYSIBMINTERNAL',),\n",
       " ('SYSIBMTS',),\n",
       " ('SYSPUBLIC',),\n",
       " ('NULLID  ',),\n",
       " ('SQLJ    ',),\n",
       " ('SYSTOOLS',),\n",
       " ('DSWEBSECURITY',),\n",
       " ('IBMADT  ',),\n",
       " ('IBMPDQ  ',),\n",
       " ('DB2INST1',),\n",
       " ('DB2GSE  ',),\n",
       " ('ST_INFORMTN_SCHEMA',),\n",
       " ('DSWEB   ',),\n",
       " ('DSSCHED ',),\n",
       " ('PROCMGMT',),\n",
       " ('DSSHSV1 ',),\n",
       " ('DSJOBMGR',),\n",
       " ('IBMOTS  ',),\n",
       " ('IDAX    ',),\n",
       " ('IBM_RTMON_DATA',),\n",
       " ('ERRORSCHEMA',),\n",
       " ('IBM_RTMON_EVMON',),\n",
       " ('IBM_RTMON_METADATA',),\n",
       " ('IBM_RTMON_BASELINE',),\n",
       " ('IBM_DSM_VIEWS',),\n",
       " ('HEALTHMETRICS',),\n",
       " ('IBMCONSOLE',),\n",
       " ('IBM_RTMON',),\n",
       " ('AUDIT   ',),\n",
       " ('MNG80479',)]"
      ]
     },
     "execution_count": 133,
     "metadata": {},
     "output_type": "execute_result"
    }
   ],
   "source": [
    "%sql SELECT SCHEMANAME FROM SYSCAT.SCHEMATA"
   ]
  },
  {
   "cell_type": "markdown",
   "metadata": {},
   "source": [
    "Выберем схему и узнаем имена таблиц в ней"
   ]
  },
  {
   "cell_type": "code",
   "execution_count": 134,
   "metadata": {},
   "outputs": [
    {
     "name": "stdout",
     "output_type": "stream",
     "text": [
      " * ibm_db_sa://mng80479:***@fbd88901-ebdb-4a4f-a32e-9822b9fb237b.c1ogj3sd0tgtu0lqde00.databases.appdomain.cloud:32731/BLUDB\n",
      "   sqlite:///Chicago.db\n",
      "Done.\n"
     ]
    },
    {
     "data": {
      "text/html": [
       "<table>\n",
       "    <tr>\n",
       "        <th>tabname</th>\n",
       "    </tr>\n",
       "    <tr>\n",
       "        <td>CARS</td>\n",
       "    </tr>\n",
       "    <tr>\n",
       "        <td>PHONES</td>\n",
       "    </tr>\n",
       "    <tr>\n",
       "        <td>HOUSES</td>\n",
       "    </tr>\n",
       "    <tr>\n",
       "        <td>CHICAGO_SCHOOLS</td>\n",
       "    </tr>\n",
       "    <tr>\n",
       "        <td>SOCIOECONOMIC</td>\n",
       "    </tr>\n",
       "    <tr>\n",
       "        <td>SOCIOECONOMIC_DATA</td>\n",
       "    </tr>\n",
       "    <tr>\n",
       "        <td>CRIME</td>\n",
       "    </tr>\n",
       "</table>"
      ],
      "text/plain": [
       "[('CARS',),\n",
       " ('PHONES',),\n",
       " ('HOUSES',),\n",
       " ('CHICAGO_SCHOOLS',),\n",
       " ('SOCIOECONOMIC',),\n",
       " ('SOCIOECONOMIC_DATA',),\n",
       " ('CRIME',)]"
      ]
     },
     "execution_count": 134,
     "metadata": {},
     "output_type": "execute_result"
    }
   ],
   "source": [
    "%sql SELECT TABNAME FROM SYSCAT.TABLES WHERE TABSCHEMA = 'MNG80479'\n"
   ]
  },
  {
   "cell_type": "code",
   "execution_count": 135,
   "metadata": {},
   "outputs": [
    {
     "name": "stdout",
     "output_type": "stream",
     "text": [
      " * ibm_db_sa://mng80479:***@fbd88901-ebdb-4a4f-a32e-9822b9fb237b.c1ogj3sd0tgtu0lqde00.databases.appdomain.cloud:32731/BLUDB\n",
      "   sqlite:///Chicago.db\n",
      "Done.\n"
     ]
    },
    {
     "data": {
      "text/html": [
       "<table>\n",
       "    <tr>\n",
       "        <th>colname</th>\n",
       "        <th>typename</th>\n",
       "        <th>length</th>\n",
       "        <th>scale</th>\n",
       "        <th>NULLS</th>\n",
       "    </tr>\n",
       "    <tr>\n",
       "        <td>COMMUNITY_AREA_NUMBER</td>\n",
       "        <td>INTEGER</td>\n",
       "        <td>4</td>\n",
       "        <td>0</td>\n",
       "        <td>Y</td>\n",
       "    </tr>\n",
       "    <tr>\n",
       "        <td>COMMUNITY_AREA_NAME</td>\n",
       "        <td>VARCHAR</td>\n",
       "        <td>22</td>\n",
       "        <td>0</td>\n",
       "        <td>Y</td>\n",
       "    </tr>\n",
       "    <tr>\n",
       "        <td>PERCENT_OF_HOUSING_CROWDED</td>\n",
       "        <td>DECIMAL</td>\n",
       "        <td>4</td>\n",
       "        <td>1</td>\n",
       "        <td>Y</td>\n",
       "    </tr>\n",
       "    <tr>\n",
       "        <td>PERCENT_HOUSEHOLDS_BELOW_POVERTY</td>\n",
       "        <td>DECIMAL</td>\n",
       "        <td>4</td>\n",
       "        <td>1</td>\n",
       "        <td>Y</td>\n",
       "    </tr>\n",
       "    <tr>\n",
       "        <td>PERCENT_AGED_16__UNEMPLOYED</td>\n",
       "        <td>DECIMAL</td>\n",
       "        <td>4</td>\n",
       "        <td>1</td>\n",
       "        <td>Y</td>\n",
       "    </tr>\n",
       "    <tr>\n",
       "        <td>PERCENT_AGED_25__WITHOUT_HIGH_SCHOOL_DIPLOMA</td>\n",
       "        <td>DECIMAL</td>\n",
       "        <td>4</td>\n",
       "        <td>1</td>\n",
       "        <td>Y</td>\n",
       "    </tr>\n",
       "    <tr>\n",
       "        <td>PERCENT_AGED_UNDER_18_OR_OVER_64</td>\n",
       "        <td>DECIMAL</td>\n",
       "        <td>4</td>\n",
       "        <td>1</td>\n",
       "        <td>Y</td>\n",
       "    </tr>\n",
       "    <tr>\n",
       "        <td>PER_CAPITA_INCOME</td>\n",
       "        <td>INTEGER</td>\n",
       "        <td>4</td>\n",
       "        <td>0</td>\n",
       "        <td>Y</td>\n",
       "    </tr>\n",
       "    <tr>\n",
       "        <td>HARDSHIP_INDEX</td>\n",
       "        <td>SMALLINT</td>\n",
       "        <td>2</td>\n",
       "        <td>0</td>\n",
       "        <td>Y</td>\n",
       "    </tr>\n",
       "</table>"
      ],
      "text/plain": [
       "[('COMMUNITY_AREA_NUMBER', 'INTEGER', 4, 0, 'Y'),\n",
       " ('COMMUNITY_AREA_NAME', 'VARCHAR', 22, 0, 'Y'),\n",
       " ('PERCENT_OF_HOUSING_CROWDED', 'DECIMAL', 4, 1, 'Y'),\n",
       " ('PERCENT_HOUSEHOLDS_BELOW_POVERTY', 'DECIMAL', 4, 1, 'Y'),\n",
       " ('PERCENT_AGED_16__UNEMPLOYED', 'DECIMAL', 4, 1, 'Y'),\n",
       " ('PERCENT_AGED_25__WITHOUT_HIGH_SCHOOL_DIPLOMA', 'DECIMAL', 4, 1, 'Y'),\n",
       " ('PERCENT_AGED_UNDER_18_OR_OVER_64', 'DECIMAL', 4, 1, 'Y'),\n",
       " ('PER_CAPITA_INCOME', 'INTEGER', 4, 0, 'Y'),\n",
       " ('HARDSHIP_INDEX', 'SMALLINT', 2, 0, 'Y')]"
      ]
     },
     "execution_count": 135,
     "metadata": {},
     "output_type": "execute_result"
    }
   ],
   "source": [
    "%%sql\n",
    "SELECT COLNAME, TYPENAME, LENGTH, SCALE, NULLS\n",
    "FROM SYSCAT.COLUMNS\n",
    "WHERE TABNAME = 'SOCIOECONOMIC'"
   ]
  },
  {
   "cell_type": "code",
   "execution_count": 136,
   "metadata": {},
   "outputs": [
    {
     "name": "stdout",
     "output_type": "stream",
     "text": [
      " * ibm_db_sa://mng80479:***@fbd88901-ebdb-4a4f-a32e-9822b9fb237b.c1ogj3sd0tgtu0lqde00.databases.appdomain.cloud:32731/BLUDB\n",
      "   sqlite:///Chicago.db\n",
      "Done.\n"
     ]
    },
    {
     "data": {
      "text/html": [
       "<table>\n",
       "    <tr>\n",
       "        <th>community_area_number</th>\n",
       "        <th>community_area_name</th>\n",
       "        <th>percent_of_housing_crowded</th>\n",
       "        <th>percent_households_below_poverty</th>\n",
       "        <th>percent_aged_16__unemployed</th>\n",
       "        <th>percent_aged_25__without_high_school_diploma</th>\n",
       "        <th>percent_aged_under_18_or_over_64</th>\n",
       "        <th>per_capita_income</th>\n",
       "        <th>hardship_index</th>\n",
       "    </tr>\n",
       "    <tr>\n",
       "        <td>None</td>\n",
       "        <td>CHICAGO</td>\n",
       "        <td>4.7</td>\n",
       "        <td>19.7</td>\n",
       "        <td>12.9</td>\n",
       "        <td>19.5</td>\n",
       "        <td>33.5</td>\n",
       "        <td>28202</td>\n",
       "        <td>None</td>\n",
       "    </tr>\n",
       "</table>"
      ],
      "text/plain": [
       "[(None, 'CHICAGO', Decimal('4.7'), Decimal('19.7'), Decimal('12.9'), Decimal('19.5'), Decimal('33.5'), 28202, None)]"
      ]
     },
     "execution_count": 136,
     "metadata": {},
     "output_type": "execute_result"
    }
   ],
   "source": [
    "%sql select * from SOCIOECONOMIC WHERE community_area_number is null"
   ]
  },
  {
   "cell_type": "code",
   "execution_count": 137,
   "metadata": {},
   "outputs": [
    {
     "name": "stdout",
     "output_type": "stream",
     "text": [
      " * ibm_db_sa://mng80479:***@fbd88901-ebdb-4a4f-a32e-9822b9fb237b.c1ogj3sd0tgtu0lqde00.databases.appdomain.cloud:32731/BLUDB\n",
      "   sqlite:///Chicago.db\n",
      "Done.\n"
     ]
    },
    {
     "data": {
      "text/html": [
       "<table>\n",
       "    <tr>\n",
       "        <th>1</th>\n",
       "    </tr>\n",
       "    <tr>\n",
       "        <td>78</td>\n",
       "    </tr>\n",
       "</table>"
      ],
      "text/plain": [
       "[(78,)]"
      ]
     },
     "execution_count": 137,
     "metadata": {},
     "output_type": "execute_result"
    }
   ],
   "source": [
    "%sql select count(*) from socioeconomic"
   ]
  },
  {
   "cell_type": "code",
   "execution_count": 138,
   "metadata": {},
   "outputs": [
    {
     "name": "stdout",
     "output_type": "stream",
     "text": [
      " * ibm_db_sa://mng80479:***@fbd88901-ebdb-4a4f-a32e-9822b9fb237b.c1ogj3sd0tgtu0lqde00.databases.appdomain.cloud:32731/BLUDB\n",
      "   sqlite:///Chicago.db\n",
      "Done.\n"
     ]
    },
    {
     "data": {
      "text/html": [
       "<table>\n",
       "    <tr>\n",
       "        <th>colname</th>\n",
       "    </tr>\n",
       "    <tr>\n",
       "        <td>COMMUNITY_AREA_NAME</td>\n",
       "    </tr>\n",
       "    <tr>\n",
       "        <td>COMMUNITY_AREA_NUMBER</td>\n",
       "    </tr>\n",
       "    <tr>\n",
       "        <td>HARDSHIP_INDEX</td>\n",
       "    </tr>\n",
       "    <tr>\n",
       "        <td>PERCENT_AGED_16__UNEMPLOYED</td>\n",
       "    </tr>\n",
       "    <tr>\n",
       "        <td>PERCENT_AGED_25__WITHOUT_HIGH_SCHOOL_DIPLOMA</td>\n",
       "    </tr>\n",
       "    <tr>\n",
       "        <td>PERCENT_AGED_UNDER_18_OR_OVER_64</td>\n",
       "    </tr>\n",
       "    <tr>\n",
       "        <td>PERCENT_HOUSEHOLDS_BELOW_POVERTY</td>\n",
       "    </tr>\n",
       "    <tr>\n",
       "        <td>PERCENT_OF_HOUSING_CROWDED</td>\n",
       "    </tr>\n",
       "    <tr>\n",
       "        <td>PER_CAPITA_INCOME</td>\n",
       "    </tr>\n",
       "</table>"
      ],
      "text/plain": [
       "[('COMMUNITY_AREA_NAME',),\n",
       " ('COMMUNITY_AREA_NUMBER',),\n",
       " ('HARDSHIP_INDEX',),\n",
       " ('PERCENT_AGED_16__UNEMPLOYED',),\n",
       " ('PERCENT_AGED_25__WITHOUT_HIGH_SCHOOL_DIPLOMA',),\n",
       " ('PERCENT_AGED_UNDER_18_OR_OVER_64',),\n",
       " ('PERCENT_HOUSEHOLDS_BELOW_POVERTY',),\n",
       " ('PERCENT_OF_HOUSING_CROWDED',),\n",
       " ('PER_CAPITA_INCOME',)]"
      ]
     },
     "execution_count": 138,
     "metadata": {},
     "output_type": "execute_result"
    }
   ],
   "source": [
    "%%sql\n",
    "SELECT COLNAME\n",
    "FROM SYSCAT.COLUMNS\n",
    "WHERE TABNAME = 'SOCIOECONOMIC'"
   ]
  },
  {
   "cell_type": "markdown",
   "metadata": {},
   "source": [
    "## ВАРИАНТ СОЗДАНИЯ НОВОЙ ТАБЛИЦЫ"
   ]
  },
  {
   "cell_type": "markdown",
   "metadata": {},
   "source": [
    "Создадим новую таблицу"
   ]
  },
  {
   "cell_type": "code",
   "execution_count": 139,
   "metadata": {},
   "outputs": [
    {
     "name": "stdout",
     "output_type": "stream",
     "text": [
      " * ibm_db_sa://mng80479:***@fbd88901-ebdb-4a4f-a32e-9822b9fb237b.c1ogj3sd0tgtu0lqde00.databases.appdomain.cloud:32731/BLUDB\n",
      "   sqlite:///Chicago.db\n",
      "(ibm_db_dbi.ProgrammingError) ibm_db_dbi::ProgrammingError: Statement Execute Failed: [IBM][CLI Driver][DB2/LINUXX8664] SQL0601N  The name of the object to be created is identical to the existing name \"MNG80479.SOCIOECONOMIC_DATA\" of type \"TABLE\".  SQLSTATE=42710  SQLCODE=-601\n",
      "[SQL: CREATE TABLE SOCIOECONOMIC_DATA (\n",
      "COMMUNITY_AREA_NUMBER INTEGER PRIMARY KEY GENERATED BY DEFAULT AS IDENTITY\n",
      "(START WITH 1, INCREMENT BY 1) NOT NULL,\n",
      "COMMUNITY_AREA_NAME VARCHAR(22),\n",
      "PERCENT_OF_HOUSING_CROWDED DECIMAL(4),\n",
      "PERCENT_HOUSEHOLDS_BELOW_POVERTY DECIMAL(4),\n",
      "PERCENT_AGED_16_UNEMPLOYED DECIMAL(4),\n",
      "PERCENT_AGED_25_WITHOUT_HIGH_SCHOOL_DIPLOMA DECIMAL(4),\n",
      "PERCENT_AGED_UNDER_18_OR_OVER_64 DECIMAL(4),\n",
      "PER_CAPITA_INCOME INTEGER,\n",
      "HARDSHIP_INDEX  SMALLINT\n",
      ")]\n",
      "(Background on this error at: http://sqlalche.me/e/13/f405)\n"
     ]
    }
   ],
   "source": [
    "%%sql\n",
    "CREATE TABLE SOCIOECONOMIC_DATA (\n",
    "COMMUNITY_AREA_NUMBER INTEGER PRIMARY KEY GENERATED BY DEFAULT AS IDENTITY\n",
    "(START WITH 1, INCREMENT BY 1) NOT NULL,\n",
    "COMMUNITY_AREA_NAME VARCHAR(22),\n",
    "PERCENT_OF_HOUSING_CROWDED DECIMAL(4),\n",
    "PERCENT_HOUSEHOLDS_BELOW_POVERTY DECIMAL(4),\n",
    "PERCENT_AGED_16_UNEMPLOYED DECIMAL(4),\n",
    "PERCENT_AGED_25_WITHOUT_HIGH_SCHOOL_DIPLOMA DECIMAL(4),\n",
    "PERCENT_AGED_UNDER_18_OR_OVER_64 DECIMAL(4),\n",
    "PER_CAPITA_INCOME INTEGER,\n",
    "HARDSHIP_INDEX  SMALLINT\n",
    ")"
   ]
  },
  {
   "cell_type": "markdown",
   "metadata": {},
   "source": [
    "Вставляем данные во вторую таблицу"
   ]
  },
  {
   "cell_type": "code",
   "execution_count": 140,
   "metadata": {},
   "outputs": [
    {
     "name": "stdout",
     "output_type": "stream",
     "text": [
      " * ibm_db_sa://mng80479:***@fbd88901-ebdb-4a4f-a32e-9822b9fb237b.c1ogj3sd0tgtu0lqde00.databases.appdomain.cloud:32731/BLUDB\n",
      "   sqlite:///Chicago.db\n",
      "78 rows affected.\n"
     ]
    },
    {
     "data": {
      "text/plain": [
       "[]"
      ]
     },
     "execution_count": 140,
     "metadata": {},
     "output_type": "execute_result"
    }
   ],
   "source": [
    "%%sql\n",
    "INSERT INTO SOCIOECONOMIC_DATA (COMMUNITY_AREA_NAME,\n",
    "       HARDSHIP_INDEX,\n",
    "       PERCENT_AGED_16_UNEMPLOYED,\n",
    "       PERCENT_AGED_25_WITHOUT_HIGH_SCHOOL_DIPLOMA,\n",
    "       PERCENT_AGED_UNDER_18_OR_OVER_64,\n",
    "       PERCENT_HOUSEHOLDS_BELOW_POVERTY,\n",
    "       PERCENT_OF_HOUSING_CROWDED,\n",
    "       PER_CAPITA_INCOME)\n",
    "SELECT COMMUNITY_AREA_NAME,\n",
    "       HARDSHIP_INDEX,\n",
    "       PERCENT_AGED_16__UNEMPLOYED,\n",
    "       PERCENT_AGED_25__WITHOUT_HIGH_SCHOOL_DIPLOMA,\n",
    "       PERCENT_AGED_UNDER_18_OR_OVER_64,\n",
    "       PERCENT_HOUSEHOLDS_BELOW_POVERTY,\n",
    "       PERCENT_OF_HOUSING_CROWDED,\n",
    "       PER_CAPITA_INCOME\n",
    "FROM SOCIOECONOMIC"
   ]
  },
  {
   "cell_type": "code",
   "execution_count": 141,
   "metadata": {},
   "outputs": [
    {
     "name": "stdout",
     "output_type": "stream",
     "text": [
      " * ibm_db_sa://mng80479:***@fbd88901-ebdb-4a4f-a32e-9822b9fb237b.c1ogj3sd0tgtu0lqde00.databases.appdomain.cloud:32731/BLUDB\n",
      "   sqlite:///Chicago.db\n",
      "Done.\n"
     ]
    },
    {
     "data": {
      "text/html": [
       "<table>\n",
       "    <tr>\n",
       "        <th>community_area_number</th>\n",
       "        <th>community_area_name</th>\n",
       "        <th>percent_of_housing_crowded</th>\n",
       "        <th>percent_households_below_poverty</th>\n",
       "        <th>percent_aged_16_unemployed</th>\n",
       "        <th>percent_aged_25_without_high_school_diploma</th>\n",
       "        <th>percent_aged_under_18_or_over_64</th>\n",
       "        <th>per_capita_income</th>\n",
       "        <th>hardship_index</th>\n",
       "    </tr>\n",
       "    <tr>\n",
       "        <td>1</td>\n",
       "        <td>Rogers Park</td>\n",
       "        <td>7</td>\n",
       "        <td>23</td>\n",
       "        <td>8</td>\n",
       "        <td>18</td>\n",
       "        <td>27</td>\n",
       "        <td>23939</td>\n",
       "        <td>39</td>\n",
       "    </tr>\n",
       "    <tr>\n",
       "        <td>2</td>\n",
       "        <td>West Ridge</td>\n",
       "        <td>7</td>\n",
       "        <td>17</td>\n",
       "        <td>8</td>\n",
       "        <td>20</td>\n",
       "        <td>38</td>\n",
       "        <td>23040</td>\n",
       "        <td>46</td>\n",
       "    </tr>\n",
       "    <tr>\n",
       "        <td>3</td>\n",
       "        <td>Uptown</td>\n",
       "        <td>3</td>\n",
       "        <td>24</td>\n",
       "        <td>8</td>\n",
       "        <td>11</td>\n",
       "        <td>22</td>\n",
       "        <td>35787</td>\n",
       "        <td>20</td>\n",
       "    </tr>\n",
       "    <tr>\n",
       "        <td>4</td>\n",
       "        <td>Lincoln Square</td>\n",
       "        <td>3</td>\n",
       "        <td>10</td>\n",
       "        <td>8</td>\n",
       "        <td>13</td>\n",
       "        <td>25</td>\n",
       "        <td>37524</td>\n",
       "        <td>17</td>\n",
       "    </tr>\n",
       "    <tr>\n",
       "        <td>5</td>\n",
       "        <td>North Center</td>\n",
       "        <td>0</td>\n",
       "        <td>7</td>\n",
       "        <td>5</td>\n",
       "        <td>4</td>\n",
       "        <td>26</td>\n",
       "        <td>57123</td>\n",
       "        <td>6</td>\n",
       "    </tr>\n",
       "    <tr>\n",
       "        <td>6</td>\n",
       "        <td>Lake View</td>\n",
       "        <td>1</td>\n",
       "        <td>11</td>\n",
       "        <td>4</td>\n",
       "        <td>2</td>\n",
       "        <td>17</td>\n",
       "        <td>60058</td>\n",
       "        <td>5</td>\n",
       "    </tr>\n",
       "    <tr>\n",
       "        <td>7</td>\n",
       "        <td>Lincoln Park</td>\n",
       "        <td>0</td>\n",
       "        <td>12</td>\n",
       "        <td>5</td>\n",
       "        <td>3</td>\n",
       "        <td>21</td>\n",
       "        <td>71551</td>\n",
       "        <td>2</td>\n",
       "    </tr>\n",
       "    <tr>\n",
       "        <td>8</td>\n",
       "        <td>Near North Side</td>\n",
       "        <td>1</td>\n",
       "        <td>12</td>\n",
       "        <td>7</td>\n",
       "        <td>2</td>\n",
       "        <td>22</td>\n",
       "        <td>88669</td>\n",
       "        <td>1</td>\n",
       "    </tr>\n",
       "    <tr>\n",
       "        <td>9</td>\n",
       "        <td>Edison Park</td>\n",
       "        <td>1</td>\n",
       "        <td>3</td>\n",
       "        <td>6</td>\n",
       "        <td>7</td>\n",
       "        <td>35</td>\n",
       "        <td>40959</td>\n",
       "        <td>8</td>\n",
       "    </tr>\n",
       "    <tr>\n",
       "        <td>10</td>\n",
       "        <td>Norwood Park</td>\n",
       "        <td>2</td>\n",
       "        <td>5</td>\n",
       "        <td>9</td>\n",
       "        <td>11</td>\n",
       "        <td>39</td>\n",
       "        <td>32875</td>\n",
       "        <td>21</td>\n",
       "    </tr>\n",
       "</table>"
      ],
      "text/plain": [
       "[(1, 'Rogers Park', Decimal('7'), Decimal('23'), Decimal('8'), Decimal('18'), Decimal('27'), 23939, 39),\n",
       " (2, 'West Ridge', Decimal('7'), Decimal('17'), Decimal('8'), Decimal('20'), Decimal('38'), 23040, 46),\n",
       " (3, 'Uptown', Decimal('3'), Decimal('24'), Decimal('8'), Decimal('11'), Decimal('22'), 35787, 20),\n",
       " (4, 'Lincoln Square', Decimal('3'), Decimal('10'), Decimal('8'), Decimal('13'), Decimal('25'), 37524, 17),\n",
       " (5, 'North Center', Decimal('0'), Decimal('7'), Decimal('5'), Decimal('4'), Decimal('26'), 57123, 6),\n",
       " (6, 'Lake View', Decimal('1'), Decimal('11'), Decimal('4'), Decimal('2'), Decimal('17'), 60058, 5),\n",
       " (7, 'Lincoln Park', Decimal('0'), Decimal('12'), Decimal('5'), Decimal('3'), Decimal('21'), 71551, 2),\n",
       " (8, 'Near North Side', Decimal('1'), Decimal('12'), Decimal('7'), Decimal('2'), Decimal('22'), 88669, 1),\n",
       " (9, 'Edison Park', Decimal('1'), Decimal('3'), Decimal('6'), Decimal('7'), Decimal('35'), 40959, 8),\n",
       " (10, 'Norwood Park', Decimal('2'), Decimal('5'), Decimal('9'), Decimal('11'), Decimal('39'), 32875, 21)]"
      ]
     },
     "execution_count": 141,
     "metadata": {},
     "output_type": "execute_result"
    }
   ],
   "source": [
    "%sql SELECT * FROM SOCIOECONOMIC_DATA limit 10"
   ]
  },
  {
   "cell_type": "code",
   "execution_count": 142,
   "metadata": {},
   "outputs": [
    {
     "name": "stdout",
     "output_type": "stream",
     "text": [
      " * ibm_db_sa://mng80479:***@fbd88901-ebdb-4a4f-a32e-9822b9fb237b.c1ogj3sd0tgtu0lqde00.databases.appdomain.cloud:32731/BLUDB\n",
      "   sqlite:///Chicago.db\n",
      "1 rows affected.\n"
     ]
    },
    {
     "data": {
      "text/plain": [
       "[]"
      ]
     },
     "execution_count": 142,
     "metadata": {},
     "output_type": "execute_result"
    }
   ],
   "source": [
    "%sql DELETE from socioeconomic_data WHERE COMMUNITY_AREA_NAME like 'CHICAGO'"
   ]
  },
  {
   "cell_type": "code",
   "execution_count": 143,
   "metadata": {},
   "outputs": [
    {
     "name": "stdout",
     "output_type": "stream",
     "text": [
      " * ibm_db_sa://mng80479:***@fbd88901-ebdb-4a4f-a32e-9822b9fb237b.c1ogj3sd0tgtu0lqde00.databases.appdomain.cloud:32731/BLUDB\n",
      "   sqlite:///Chicago.db\n",
      "Done.\n"
     ]
    }
   ],
   "source": [
    "data = %sql SELECT * FROM SOCIOECONOMIC_DATA"
   ]
  },
  {
   "cell_type": "code",
   "execution_count": 144,
   "metadata": {},
   "outputs": [
    {
     "name": "stdout",
     "output_type": "stream",
     "text": [
      " * ibm_db_sa://mng80479:***@fbd88901-ebdb-4a4f-a32e-9822b9fb237b.c1ogj3sd0tgtu0lqde00.databases.appdomain.cloud:32731/BLUDB\n",
      "   sqlite:///Chicago.db\n",
      "Done.\n"
     ]
    },
    {
     "data": {
      "text/html": [
       "<div>\n",
       "<style scoped>\n",
       "    .dataframe tbody tr th:only-of-type {\n",
       "        vertical-align: middle;\n",
       "    }\n",
       "\n",
       "    .dataframe tbody tr th {\n",
       "        vertical-align: top;\n",
       "    }\n",
       "\n",
       "    .dataframe thead th {\n",
       "        text-align: right;\n",
       "    }\n",
       "</style>\n",
       "<table border=\"1\" class=\"dataframe\">\n",
       "  <thead>\n",
       "    <tr style=\"text-align: right;\">\n",
       "      <th></th>\n",
       "      <th>COMMUNITY_AREA_NUMBER</th>\n",
       "      <th>COMMUNITY_AREA_NAME</th>\n",
       "      <th>HARDSHIP_INDEX</th>\n",
       "      <th>PERCENT_AGED_16_UNEMPLOYED</th>\n",
       "      <th>PERCENT_AGED_25_WITHOUT_HIGH_SCHOOL_DIPLOMA</th>\n",
       "      <th>PERCENT_AGED_UNDER_18_OR_OVER_64</th>\n",
       "      <th>PERCENT_HOUSEHOLDS_BELOW_POVERTY</th>\n",
       "      <th>PERCENT_OF_HOUSING_CROWDED</th>\n",
       "      <th>PER_CAPITA_INCOME</th>\n",
       "    </tr>\n",
       "  </thead>\n",
       "  <tbody>\n",
       "    <tr>\n",
       "      <th>0</th>\n",
       "      <td>1</td>\n",
       "      <td>Rogers Park</td>\n",
       "      <td>7</td>\n",
       "      <td>23</td>\n",
       "      <td>8</td>\n",
       "      <td>18</td>\n",
       "      <td>27</td>\n",
       "      <td>23939</td>\n",
       "      <td>39</td>\n",
       "    </tr>\n",
       "    <tr>\n",
       "      <th>1</th>\n",
       "      <td>2</td>\n",
       "      <td>West Ridge</td>\n",
       "      <td>7</td>\n",
       "      <td>17</td>\n",
       "      <td>8</td>\n",
       "      <td>20</td>\n",
       "      <td>38</td>\n",
       "      <td>23040</td>\n",
       "      <td>46</td>\n",
       "    </tr>\n",
       "    <tr>\n",
       "      <th>2</th>\n",
       "      <td>3</td>\n",
       "      <td>Uptown</td>\n",
       "      <td>3</td>\n",
       "      <td>24</td>\n",
       "      <td>8</td>\n",
       "      <td>11</td>\n",
       "      <td>22</td>\n",
       "      <td>35787</td>\n",
       "      <td>20</td>\n",
       "    </tr>\n",
       "    <tr>\n",
       "      <th>3</th>\n",
       "      <td>4</td>\n",
       "      <td>Lincoln Square</td>\n",
       "      <td>3</td>\n",
       "      <td>10</td>\n",
       "      <td>8</td>\n",
       "      <td>13</td>\n",
       "      <td>25</td>\n",
       "      <td>37524</td>\n",
       "      <td>17</td>\n",
       "    </tr>\n",
       "    <tr>\n",
       "      <th>4</th>\n",
       "      <td>5</td>\n",
       "      <td>North Center</td>\n",
       "      <td>0</td>\n",
       "      <td>7</td>\n",
       "      <td>5</td>\n",
       "      <td>4</td>\n",
       "      <td>26</td>\n",
       "      <td>57123</td>\n",
       "      <td>6</td>\n",
       "    </tr>\n",
       "    <tr>\n",
       "      <th>5</th>\n",
       "      <td>6</td>\n",
       "      <td>Lake View</td>\n",
       "      <td>1</td>\n",
       "      <td>11</td>\n",
       "      <td>4</td>\n",
       "      <td>2</td>\n",
       "      <td>17</td>\n",
       "      <td>60058</td>\n",
       "      <td>5</td>\n",
       "    </tr>\n",
       "    <tr>\n",
       "      <th>6</th>\n",
       "      <td>7</td>\n",
       "      <td>Lincoln Park</td>\n",
       "      <td>0</td>\n",
       "      <td>12</td>\n",
       "      <td>5</td>\n",
       "      <td>3</td>\n",
       "      <td>21</td>\n",
       "      <td>71551</td>\n",
       "      <td>2</td>\n",
       "    </tr>\n",
       "    <tr>\n",
       "      <th>7</th>\n",
       "      <td>8</td>\n",
       "      <td>Near North Side</td>\n",
       "      <td>1</td>\n",
       "      <td>12</td>\n",
       "      <td>7</td>\n",
       "      <td>2</td>\n",
       "      <td>22</td>\n",
       "      <td>88669</td>\n",
       "      <td>1</td>\n",
       "    </tr>\n",
       "  </tbody>\n",
       "</table>\n",
       "</div>"
      ],
      "text/plain": [
       "   COMMUNITY_AREA_NUMBER COMMUNITY_AREA_NAME HARDSHIP_INDEX  \\\n",
       "0                      1         Rogers Park              7   \n",
       "1                      2          West Ridge              7   \n",
       "2                      3              Uptown              3   \n",
       "3                      4      Lincoln Square              3   \n",
       "4                      5        North Center              0   \n",
       "5                      6           Lake View              1   \n",
       "6                      7        Lincoln Park              0   \n",
       "7                      8     Near North Side              1   \n",
       "\n",
       "  PERCENT_AGED_16_UNEMPLOYED PERCENT_AGED_25_WITHOUT_HIGH_SCHOOL_DIPLOMA  \\\n",
       "0                         23                                           8   \n",
       "1                         17                                           8   \n",
       "2                         24                                           8   \n",
       "3                         10                                           8   \n",
       "4                          7                                           5   \n",
       "5                         11                                           4   \n",
       "6                         12                                           5   \n",
       "7                         12                                           7   \n",
       "\n",
       "  PERCENT_AGED_UNDER_18_OR_OVER_64 PERCENT_HOUSEHOLDS_BELOW_POVERTY  \\\n",
       "0                               18                               27   \n",
       "1                               20                               38   \n",
       "2                               11                               22   \n",
       "3                               13                               25   \n",
       "4                                4                               26   \n",
       "5                                2                               17   \n",
       "6                                3                               21   \n",
       "7                                2                               22   \n",
       "\n",
       "   PERCENT_OF_HOUSING_CROWDED  PER_CAPITA_INCOME  \n",
       "0                       23939                 39  \n",
       "1                       23040                 46  \n",
       "2                       35787                 20  \n",
       "3                       37524                 17  \n",
       "4                       57123                  6  \n",
       "5                       60058                  5  \n",
       "6                       71551                  2  \n",
       "7                       88669                  1  "
      ]
     },
     "execution_count": 144,
     "metadata": {},
     "output_type": "execute_result"
    }
   ],
   "source": [
    "data = %sql SELECT * FROM SOCIOECONOMIC_DATA\n",
    "df_socioeconomic = pd.DataFrame(data)\n",
    "headers = ['COMMUNITY_AREA_NUMBER', \n",
    "       'COMMUNITY_AREA_NAME',\n",
    "       'HARDSHIP_INDEX',\n",
    "       'PERCENT_AGED_16_UNEMPLOYED',\n",
    "       'PERCENT_AGED_25_WITHOUT_HIGH_SCHOOL_DIPLOMA',\n",
    "       'PERCENT_AGED_UNDER_18_OR_OVER_64',\n",
    "       'PERCENT_HOUSEHOLDS_BELOW_POVERTY',\n",
    "       'PERCENT_OF_HOUSING_CROWDED',\n",
    "       'PER_CAPITA_INCOME']\n",
    "df_socioeconomic.columns=headers\n",
    "df_socioeconomic.head(8)"
   ]
  },
  {
   "cell_type": "code",
   "execution_count": 145,
   "metadata": {},
   "outputs": [
    {
     "data": {
      "text/plain": [
       "COMMUNITY_AREA_NUMBER                           int64\n",
       "COMMUNITY_AREA_NAME                            object\n",
       "HARDSHIP_INDEX                                 object\n",
       "PERCENT_AGED_16_UNEMPLOYED                     object\n",
       "PERCENT_AGED_25_WITHOUT_HIGH_SCHOOL_DIPLOMA    object\n",
       "PERCENT_AGED_UNDER_18_OR_OVER_64               object\n",
       "PERCENT_HOUSEHOLDS_BELOW_POVERTY               object\n",
       "PERCENT_OF_HOUSING_CROWDED                      int64\n",
       "PER_CAPITA_INCOME                               int64\n",
       "dtype: object"
      ]
     },
     "execution_count": 145,
     "metadata": {},
     "output_type": "execute_result"
    }
   ],
   "source": [
    "df_socioeconomic.dtypes"
   ]
  },
  {
   "cell_type": "code",
   "execution_count": 146,
   "metadata": {},
   "outputs": [],
   "source": [
    "# Заменим  на инт \n",
    "df_socioeconomic['HARDSHIP_INDEX'] = df_socioeconomic['HARDSHIP_INDEX'].astype(int)\n",
    "df_socioeconomic['PERCENT_AGED_16_UNEMPLOYED'] = df_socioeconomic['PERCENT_AGED_16_UNEMPLOYED'].astype(float)\n",
    "df_socioeconomic['PERCENT_AGED_25_WITHOUT_HIGH_SCHOOL_DIPLOMA'] = df_socioeconomic['PERCENT_AGED_25_WITHOUT_HIGH_SCHOOL_DIPLOMA'].astype(float)\n",
    "df_socioeconomic['PERCENT_AGED_UNDER_18_OR_OVER_64'] = df_socioeconomic['PERCENT_AGED_UNDER_18_OR_OVER_64'].astype(float)\n",
    "df_socioeconomic['PERCENT_HOUSEHOLDS_BELOW_POVERTY'] = df_socioeconomic['PERCENT_HOUSEHOLDS_BELOW_POVERTY'].astype(float)"
   ]
  },
  {
   "cell_type": "code",
   "execution_count": 147,
   "metadata": {},
   "outputs": [
    {
     "data": {
      "text/html": [
       "<div>\n",
       "<style scoped>\n",
       "    .dataframe tbody tr th:only-of-type {\n",
       "        vertical-align: middle;\n",
       "    }\n",
       "\n",
       "    .dataframe tbody tr th {\n",
       "        vertical-align: top;\n",
       "    }\n",
       "\n",
       "    .dataframe thead th {\n",
       "        text-align: right;\n",
       "    }\n",
       "</style>\n",
       "<table border=\"1\" class=\"dataframe\">\n",
       "  <thead>\n",
       "    <tr style=\"text-align: right;\">\n",
       "      <th></th>\n",
       "      <th>COMMUNITY_AREA_NUMBER</th>\n",
       "      <th>HARDSHIP_INDEX</th>\n",
       "      <th>PERCENT_AGED_16_UNEMPLOYED</th>\n",
       "      <th>PERCENT_AGED_25_WITHOUT_HIGH_SCHOOL_DIPLOMA</th>\n",
       "      <th>PERCENT_AGED_UNDER_18_OR_OVER_64</th>\n",
       "      <th>PERCENT_HOUSEHOLDS_BELOW_POVERTY</th>\n",
       "      <th>PERCENT_OF_HOUSING_CROWDED</th>\n",
       "      <th>PER_CAPITA_INCOME</th>\n",
       "    </tr>\n",
       "  </thead>\n",
       "  <tbody>\n",
       "    <tr>\n",
       "      <th>count</th>\n",
       "      <td>154.000000</td>\n",
       "      <td>154.000000</td>\n",
       "      <td>154.000000</td>\n",
       "      <td>154.000000</td>\n",
       "      <td>154.000000</td>\n",
       "      <td>154.000000</td>\n",
       "      <td>154.000000</td>\n",
       "      <td>154.000000</td>\n",
       "    </tr>\n",
       "    <tr>\n",
       "      <th>mean</th>\n",
       "      <td>78.000000</td>\n",
       "      <td>4.454545</td>\n",
       "      <td>21.272727</td>\n",
       "      <td>14.935065</td>\n",
       "      <td>19.844156</td>\n",
       "      <td>35.285714</td>\n",
       "      <td>25563.168831</td>\n",
       "      <td>49.506494</td>\n",
       "    </tr>\n",
       "    <tr>\n",
       "      <th>std</th>\n",
       "      <td>45.035208</td>\n",
       "      <td>3.642686</td>\n",
       "      <td>11.515986</td>\n",
       "      <td>7.504835</td>\n",
       "      <td>11.775753</td>\n",
       "      <td>7.275812</td>\n",
       "      <td>15243.038883</td>\n",
       "      <td>28.596642</td>\n",
       "    </tr>\n",
       "    <tr>\n",
       "      <th>min</th>\n",
       "      <td>1.000000</td>\n",
       "      <td>0.000000</td>\n",
       "      <td>3.000000</td>\n",
       "      <td>4.000000</td>\n",
       "      <td>2.000000</td>\n",
       "      <td>13.000000</td>\n",
       "      <td>8201.000000</td>\n",
       "      <td>1.000000</td>\n",
       "    </tr>\n",
       "    <tr>\n",
       "      <th>25%</th>\n",
       "      <td>39.250000</td>\n",
       "      <td>2.000000</td>\n",
       "      <td>13.000000</td>\n",
       "      <td>9.000000</td>\n",
       "      <td>11.000000</td>\n",
       "      <td>32.000000</td>\n",
       "      <td>15754.000000</td>\n",
       "      <td>25.000000</td>\n",
       "    </tr>\n",
       "    <tr>\n",
       "      <th>50%</th>\n",
       "      <td>78.000000</td>\n",
       "      <td>3.000000</td>\n",
       "      <td>18.000000</td>\n",
       "      <td>13.000000</td>\n",
       "      <td>18.000000</td>\n",
       "      <td>38.000000</td>\n",
       "      <td>21323.000000</td>\n",
       "      <td>50.000000</td>\n",
       "    </tr>\n",
       "    <tr>\n",
       "      <th>75%</th>\n",
       "      <td>116.750000</td>\n",
       "      <td>6.000000</td>\n",
       "      <td>29.000000</td>\n",
       "      <td>20.000000</td>\n",
       "      <td>26.000000</td>\n",
       "      <td>40.000000</td>\n",
       "      <td>28887.000000</td>\n",
       "      <td>74.000000</td>\n",
       "    </tr>\n",
       "    <tr>\n",
       "      <th>max</th>\n",
       "      <td>155.000000</td>\n",
       "      <td>15.000000</td>\n",
       "      <td>56.000000</td>\n",
       "      <td>35.000000</td>\n",
       "      <td>54.000000</td>\n",
       "      <td>51.000000</td>\n",
       "      <td>88669.000000</td>\n",
       "      <td>98.000000</td>\n",
       "    </tr>\n",
       "  </tbody>\n",
       "</table>\n",
       "</div>"
      ],
      "text/plain": [
       "       COMMUNITY_AREA_NUMBER  HARDSHIP_INDEX  PERCENT_AGED_16_UNEMPLOYED  \\\n",
       "count             154.000000      154.000000                  154.000000   \n",
       "mean               78.000000        4.454545                   21.272727   \n",
       "std                45.035208        3.642686                   11.515986   \n",
       "min                 1.000000        0.000000                    3.000000   \n",
       "25%                39.250000        2.000000                   13.000000   \n",
       "50%                78.000000        3.000000                   18.000000   \n",
       "75%               116.750000        6.000000                   29.000000   \n",
       "max               155.000000       15.000000                   56.000000   \n",
       "\n",
       "       PERCENT_AGED_25_WITHOUT_HIGH_SCHOOL_DIPLOMA  \\\n",
       "count                                   154.000000   \n",
       "mean                                     14.935065   \n",
       "std                                       7.504835   \n",
       "min                                       4.000000   \n",
       "25%                                       9.000000   \n",
       "50%                                      13.000000   \n",
       "75%                                      20.000000   \n",
       "max                                      35.000000   \n",
       "\n",
       "       PERCENT_AGED_UNDER_18_OR_OVER_64  PERCENT_HOUSEHOLDS_BELOW_POVERTY  \\\n",
       "count                        154.000000                        154.000000   \n",
       "mean                          19.844156                         35.285714   \n",
       "std                           11.775753                          7.275812   \n",
       "min                            2.000000                         13.000000   \n",
       "25%                           11.000000                         32.000000   \n",
       "50%                           18.000000                         38.000000   \n",
       "75%                           26.000000                         40.000000   \n",
       "max                           54.000000                         51.000000   \n",
       "\n",
       "       PERCENT_OF_HOUSING_CROWDED  PER_CAPITA_INCOME  \n",
       "count                  154.000000         154.000000  \n",
       "mean                 25563.168831          49.506494  \n",
       "std                  15243.038883          28.596642  \n",
       "min                   8201.000000           1.000000  \n",
       "25%                  15754.000000          25.000000  \n",
       "50%                  21323.000000          50.000000  \n",
       "75%                  28887.000000          74.000000  \n",
       "max                  88669.000000          98.000000  "
      ]
     },
     "execution_count": 147,
     "metadata": {},
     "output_type": "execute_result"
    }
   ],
   "source": [
    "df_socioeconomic.describe()"
   ]
  },
  {
   "cell_type": "code",
   "execution_count": null,
   "metadata": {},
   "outputs": [],
   "source": [
    "import sqlite3\n",
    "# Создаем соединение с базой данных SQLite\n",
    "conn = sqlite3.connect('Chicago.db')\n",
    "\n",
    "# Сохраняем датафрейм в базу данных\n",
    "df_socioeconomic.to_sql('socioeconomic', conn)\n",
    "\n",
    "# Закрываем соединение\n",
    "conn.close()"
   ]
  },
  {
   "cell_type": "code",
   "execution_count": 152,
   "metadata": {},
   "outputs": [],
   "source": [
    "%sql sqlite:///Chicago.db"
   ]
  },
  {
   "cell_type": "code",
   "execution_count": 153,
   "metadata": {},
   "outputs": [
    {
     "name": "stdout",
     "output_type": "stream",
     "text": [
      "   ibm_db_sa://mng80479:***@fbd88901-ebdb-4a4f-a32e-9822b9fb237b.c1ogj3sd0tgtu0lqde00.databases.appdomain.cloud:32731/BLUDB\n",
      " * sqlite:///Chicago.db\n",
      "Done.\n"
     ]
    },
    {
     "data": {
      "text/html": [
       "<table>\n",
       "    <tr>\n",
       "        <th>name</th>\n",
       "    </tr>\n",
       "    <tr>\n",
       "        <td>socioeconomic</td>\n",
       "    </tr>\n",
       "</table>"
      ],
      "text/plain": [
       "[('socioeconomic',)]"
      ]
     },
     "execution_count": 153,
     "metadata": {},
     "output_type": "execute_result"
    }
   ],
   "source": [
    "%sql SELECT name FROM sqlite_master WHERE type='table'"
   ]
  },
  {
   "cell_type": "code",
   "execution_count": null,
   "metadata": {},
   "outputs": [],
   "source": []
  }
 ],
 "metadata": {
  "kernelspec": {
   "display_name": "Python 3",
   "language": "python",
   "name": "python3"
  },
  "language_info": {
   "codemirror_mode": {
    "name": "ipython",
    "version": 3
   },
   "file_extension": ".py",
   "mimetype": "text/x-python",
   "name": "python",
   "nbconvert_exporter": "python",
   "pygments_lexer": "ipython3",
   "version": "3.11.1"
  },
  "orig_nbformat": 4
 },
 "nbformat": 4,
 "nbformat_minor": 2
}
