{
 "cells": [
  {
   "cell_type": "code",
   "execution_count": 2,
   "metadata": {},
   "outputs": [],
   "source": [
    "%load_ext sql\n",
    "import pandas as pd\n",
    "import numpy as np\n",
    "import matplotlib as plt \n",
    "import seaborn as sns"
   ]
  },
  {
   "cell_type": "code",
   "execution_count": 3,
   "metadata": {},
   "outputs": [],
   "source": [
    "%sql sqlite:///phonesData.db"
   ]
  },
  {
   "cell_type": "code",
   "execution_count": 38,
   "metadata": {},
   "outputs": [
    {
     "name": "stdout",
     "output_type": "stream",
     "text": [
      " * sqlite:///phonesData.db\n",
      "Done.\n"
     ]
    },
    {
     "data": {
      "text/plain": [
       "[]"
      ]
     },
     "execution_count": 38,
     "metadata": {},
     "output_type": "execute_result"
    }
   ],
   "source": [
    "%sql drop table if exists phones"
   ]
  },
  {
   "cell_type": "code",
   "execution_count": 39,
   "metadata": {},
   "outputs": [
    {
     "name": "stdout",
     "output_type": "stream",
     "text": [
      " * sqlite:///phonesData.db\n",
      "Done.\n"
     ]
    },
    {
     "data": {
      "text/plain": [
       "[]"
      ]
     },
     "execution_count": 39,
     "metadata": {},
     "output_type": "execute_result"
    }
   ],
   "source": [
    "%%sql \n",
    "CREATE TABLE if not exists phones(\n",
    "    id INTEGER PRIMARY KEY AUTOINCREMENT,\n",
    "    ProductName VARCHAR(30) NOT NULL,\n",
    "    Manufacturer VARCHAR(30) NOT NULL,\n",
    "    ProductCount INT NOT NULL,\n",
    "    Price INT NOT NULL\n",
    ")"
   ]
  },
  {
   "cell_type": "code",
   "execution_count": 40,
   "metadata": {},
   "outputs": [
    {
     "name": "stdout",
     "output_type": "stream",
     "text": [
      " * sqlite:///phonesData.db\n",
      "5 rows affected.\n"
     ]
    },
    {
     "data": {
      "text/plain": [
       "[]"
      ]
     },
     "execution_count": 40,
     "metadata": {},
     "output_type": "execute_result"
    }
   ],
   "source": [
    "%%sql\n",
    "\n",
    "INSERT INTO phones (ProductName, Manufacturer, ProductCount, Price)\n",
    "VALUES ('iPhone X', 'Apple', 3, 76000),\n",
    "    ('iPhone 8', 'Apple', 2, 51000),\n",
    "    ('Galaxy S9', 'Samsung', 2, 56000),\n",
    "    ('Galaxy S8', 'Samsung', 1, 41000),\n",
    "    ('P20 Pro', 'Huawei', 5, 36000)"
   ]
  },
  {
   "cell_type": "code",
   "execution_count": 41,
   "metadata": {},
   "outputs": [
    {
     "name": "stdout",
     "output_type": "stream",
     "text": [
      " * sqlite:///phonesData.db\n",
      "Done.\n"
     ]
    },
    {
     "data": {
      "text/html": [
       "<table>\n",
       "    <tr>\n",
       "        <th>id</th>\n",
       "        <th>ProductName</th>\n",
       "        <th>Manufacturer</th>\n",
       "        <th>ProductCount</th>\n",
       "        <th>Price</th>\n",
       "    </tr>\n",
       "    <tr>\n",
       "        <td>1</td>\n",
       "        <td>iPhone X</td>\n",
       "        <td>Apple</td>\n",
       "        <td>3</td>\n",
       "        <td>76000</td>\n",
       "    </tr>\n",
       "    <tr>\n",
       "        <td>2</td>\n",
       "        <td>iPhone 8</td>\n",
       "        <td>Apple</td>\n",
       "        <td>2</td>\n",
       "        <td>51000</td>\n",
       "    </tr>\n",
       "    <tr>\n",
       "        <td>3</td>\n",
       "        <td>Galaxy S9</td>\n",
       "        <td>Samsung</td>\n",
       "        <td>2</td>\n",
       "        <td>56000</td>\n",
       "    </tr>\n",
       "    <tr>\n",
       "        <td>4</td>\n",
       "        <td>Galaxy S8</td>\n",
       "        <td>Samsung</td>\n",
       "        <td>1</td>\n",
       "        <td>41000</td>\n",
       "    </tr>\n",
       "    <tr>\n",
       "        <td>5</td>\n",
       "        <td>P20 Pro</td>\n",
       "        <td>Huawei</td>\n",
       "        <td>5</td>\n",
       "        <td>36000</td>\n",
       "    </tr>\n",
       "</table>"
      ],
      "text/plain": [
       "[(1, 'iPhone X', 'Apple', 3, 76000),\n",
       " (2, 'iPhone 8', 'Apple', 2, 51000),\n",
       " (3, 'Galaxy S9', 'Samsung', 2, 56000),\n",
       " (4, 'Galaxy S8', 'Samsung', 1, 41000),\n",
       " (5, 'P20 Pro', 'Huawei', 5, 36000)]"
      ]
     },
     "execution_count": 41,
     "metadata": {},
     "output_type": "execute_result"
    }
   ],
   "source": [
    "%sql select * from phones\n"
   ]
  },
  {
   "cell_type": "code",
   "execution_count": 42,
   "metadata": {},
   "outputs": [
    {
     "name": "stdout",
     "output_type": "stream",
     "text": [
      " * sqlite:///phonesData.db\n",
      "Done.\n"
     ]
    },
    {
     "data": {
      "text/html": [
       "<div>\n",
       "<style scoped>\n",
       "    .dataframe tbody tr th:only-of-type {\n",
       "        vertical-align: middle;\n",
       "    }\n",
       "\n",
       "    .dataframe tbody tr th {\n",
       "        vertical-align: top;\n",
       "    }\n",
       "\n",
       "    .dataframe thead th {\n",
       "        text-align: right;\n",
       "    }\n",
       "</style>\n",
       "<table border=\"1\" class=\"dataframe\">\n",
       "  <thead>\n",
       "    <tr style=\"text-align: right;\">\n",
       "      <th></th>\n",
       "      <th>id</th>\n",
       "      <th>ProductName</th>\n",
       "      <th>Manufacturer</th>\n",
       "      <th>ProductCount</th>\n",
       "      <th>Price</th>\n",
       "    </tr>\n",
       "  </thead>\n",
       "  <tbody>\n",
       "    <tr>\n",
       "      <th>0</th>\n",
       "      <td>1</td>\n",
       "      <td>iPhone X</td>\n",
       "      <td>Apple</td>\n",
       "      <td>3</td>\n",
       "      <td>76000</td>\n",
       "    </tr>\n",
       "    <tr>\n",
       "      <th>1</th>\n",
       "      <td>2</td>\n",
       "      <td>iPhone 8</td>\n",
       "      <td>Apple</td>\n",
       "      <td>2</td>\n",
       "      <td>51000</td>\n",
       "    </tr>\n",
       "    <tr>\n",
       "      <th>2</th>\n",
       "      <td>3</td>\n",
       "      <td>Galaxy S9</td>\n",
       "      <td>Samsung</td>\n",
       "      <td>2</td>\n",
       "      <td>56000</td>\n",
       "    </tr>\n",
       "    <tr>\n",
       "      <th>3</th>\n",
       "      <td>4</td>\n",
       "      <td>Galaxy S8</td>\n",
       "      <td>Samsung</td>\n",
       "      <td>1</td>\n",
       "      <td>41000</td>\n",
       "    </tr>\n",
       "    <tr>\n",
       "      <th>4</th>\n",
       "      <td>5</td>\n",
       "      <td>P20 Pro</td>\n",
       "      <td>Huawei</td>\n",
       "      <td>5</td>\n",
       "      <td>36000</td>\n",
       "    </tr>\n",
       "  </tbody>\n",
       "</table>\n",
       "</div>"
      ],
      "text/plain": [
       "   id ProductName Manufacturer  ProductCount  Price\n",
       "0   1    iPhone X        Apple             3  76000\n",
       "1   2    iPhone 8        Apple             2  51000\n",
       "2   3   Galaxy S9      Samsung             2  56000\n",
       "3   4   Galaxy S8      Samsung             1  41000\n",
       "4   5     P20 Pro       Huawei             5  36000"
      ]
     },
     "execution_count": 42,
     "metadata": {},
     "output_type": "execute_result"
    }
   ],
   "source": [
    "result = %sql SELECT * FROM phones\n",
    "\n",
    "df = pd.DataFrame(result)\n",
    "headers = ['id','ProductName','Manufacturer','ProductCount','Price']\n",
    "df.columns=headers\n",
    "df.head(8)"
   ]
  },
  {
   "cell_type": "code",
   "execution_count": 43,
   "metadata": {},
   "outputs": [
    {
     "data": {
      "text/plain": [
       "<Axes: xlabel='Manufacturer', ylabel='Price'>"
      ]
     },
     "execution_count": 43,
     "metadata": {},
     "output_type": "execute_result"
    },
    {
     "data": {
      "image/png": "[encoded data removed]",
      "text/plain": [
       "<Figure size 640x480 with 1 Axes>"
      ]
     },
     "metadata": {},
     "output_type": "display_data"
    }
   ],
   "source": [
    "sns.boxplot(x='Manufacturer', y='Price', data=df)"
   ]
  },
  {
   "cell_type": "code",
   "execution_count": 44,
   "metadata": {},
   "outputs": [
    {
     "name": "stdout",
     "output_type": "stream",
     "text": [
      " * sqlite:///phonesData.db\n",
      "Done.\n"
     ]
    },
    {
     "data": {
      "text/html": [
       "<table>\n",
       "    <tr>\n",
       "        <th>ProductName</th>\n",
       "        <th>Manufacturer</th>\n",
       "        <th>Price</th>\n",
       "    </tr>\n",
       "    <tr>\n",
       "        <td>iPhone X</td>\n",
       "        <td>Apple</td>\n",
       "        <td>76000</td>\n",
       "    </tr>\n",
       "    <tr>\n",
       "        <td>P20 Pro</td>\n",
       "        <td>Huawei</td>\n",
       "        <td>36000</td>\n",
       "    </tr>\n",
       "</table>"
      ],
      "text/plain": [
       "[('iPhone X', 'Apple', 76000), ('P20 Pro', 'Huawei', 36000)]"
      ]
     },
     "execution_count": 44,
     "metadata": {},
     "output_type": "execute_result"
    }
   ],
   "source": [
    "%%sql \n",
    "SELECT ProductName, Manufacturer, Price \n",
    "FROM phones \n",
    "WHERE ProductCount > 2"
   ]
  },
  {
   "cell_type": "code",
   "execution_count": 45,
   "metadata": {},
   "outputs": [
    {
     "name": "stdout",
     "output_type": "stream",
     "text": [
      " * sqlite:///phonesData.db\n",
      "Done.\n"
     ]
    },
    {
     "data": {
      "text/html": [
       "<table>\n",
       "    <tr>\n",
       "        <th>ProductName</th>\n",
       "        <th>Price</th>\n",
       "        <th>ProductCount</th>\n",
       "    </tr>\n",
       "    <tr>\n",
       "        <td>Galaxy S9</td>\n",
       "        <td>56000</td>\n",
       "        <td>2</td>\n",
       "    </tr>\n",
       "    <tr>\n",
       "        <td>Galaxy S8</td>\n",
       "        <td>41000</td>\n",
       "        <td>1</td>\n",
       "    </tr>\n",
       "</table>"
      ],
      "text/plain": [
       "[('Galaxy S9', 56000, 2), ('Galaxy S8', 41000, 1)]"
      ]
     },
     "execution_count": 45,
     "metadata": {},
     "output_type": "execute_result"
    }
   ],
   "source": [
    "%%sql \n",
    "SELECT ProductName, Price, ProductCount \n",
    "FROM phones \n",
    "WHERE Manufacturer = 'Samsung'"
   ]
  },
  {
   "cell_type": "code",
   "execution_count": 11,
   "metadata": {},
   "outputs": [
    {
     "name": "stdout",
     "output_type": "stream",
     "text": [
      " * sqlite:///phonesData.db\n",
      "Done.\n"
     ]
    },
    {
     "data": {
      "text/html": [
       "<table>\n",
       "    <tr>\n",
       "        <th>id</th>\n",
       "        <th>ProductName</th>\n",
       "        <th>Manufacturer</th>\n",
       "        <th>ProductCount</th>\n",
       "        <th>Price</th>\n",
       "    </tr>\n",
       "    <tr>\n",
       "        <td>1</td>\n",
       "        <td>iPhone X</td>\n",
       "        <td>Apple</td>\n",
       "        <td>3</td>\n",
       "        <td>76000</td>\n",
       "    </tr>\n",
       "    <tr>\n",
       "        <td>2</td>\n",
       "        <td>iPhone 8</td>\n",
       "        <td>Apple</td>\n",
       "        <td>2</td>\n",
       "        <td>51000</td>\n",
       "    </tr>\n",
       "    <tr>\n",
       "        <td>6</td>\n",
       "        <td>iPhone X</td>\n",
       "        <td>Apple</td>\n",
       "        <td>3</td>\n",
       "        <td>76000</td>\n",
       "    </tr>\n",
       "    <tr>\n",
       "        <td>7</td>\n",
       "        <td>iPhone 8</td>\n",
       "        <td>Apple</td>\n",
       "        <td>2</td>\n",
       "        <td>51000</td>\n",
       "    </tr>\n",
       "    <tr>\n",
       "        <td>11</td>\n",
       "        <td>iPhone X</td>\n",
       "        <td>Apple</td>\n",
       "        <td>3</td>\n",
       "        <td>76000</td>\n",
       "    </tr>\n",
       "    <tr>\n",
       "        <td>12</td>\n",
       "        <td>iPhone 8</td>\n",
       "        <td>Apple</td>\n",
       "        <td>2</td>\n",
       "        <td>51000</td>\n",
       "    </tr>\n",
       "    <tr>\n",
       "        <td>16</td>\n",
       "        <td>iPhone X</td>\n",
       "        <td>Apple</td>\n",
       "        <td>3</td>\n",
       "        <td>76000</td>\n",
       "    </tr>\n",
       "    <tr>\n",
       "        <td>17</td>\n",
       "        <td>iPhone 8</td>\n",
       "        <td>Apple</td>\n",
       "        <td>2</td>\n",
       "        <td>51000</td>\n",
       "    </tr>\n",
       "</table>"
      ],
      "text/plain": [
       "[(1, 'iPhone X', 'Apple', 3, 76000),\n",
       " (2, 'iPhone 8', 'Apple', 2, 51000),\n",
       " (6, 'iPhone X', 'Apple', 3, 76000),\n",
       " (7, 'iPhone 8', 'Apple', 2, 51000),\n",
       " (11, 'iPhone X', 'Apple', 3, 76000),\n",
       " (12, 'iPhone 8', 'Apple', 2, 51000),\n",
       " (16, 'iPhone X', 'Apple', 3, 76000),\n",
       " (17, 'iPhone 8', 'Apple', 2, 51000)]"
      ]
     },
     "execution_count": 11,
     "metadata": {},
     "output_type": "execute_result"
    }
   ],
   "source": [
    "%%sql \n",
    "SELECT * FROM phones \n",
    "WHERE ProductName LIKE '%Iphone%'"
   ]
  },
  {
   "cell_type": "code",
   "execution_count": 46,
   "metadata": {},
   "outputs": [
    {
     "name": "stdout",
     "output_type": "stream",
     "text": [
      " * sqlite:///phonesData.db\n",
      "Done.\n"
     ]
    },
    {
     "data": {
      "text/html": [
       "<table>\n",
       "    <tr>\n",
       "        <th>id</th>\n",
       "        <th>ProductName</th>\n",
       "        <th>Manufacturer</th>\n",
       "        <th>ProductCount</th>\n",
       "        <th>Price</th>\n",
       "    </tr>\n",
       "    <tr>\n",
       "        <td>3</td>\n",
       "        <td>Galaxy S9</td>\n",
       "        <td>Samsung</td>\n",
       "        <td>2</td>\n",
       "        <td>56000</td>\n",
       "    </tr>\n",
       "    <tr>\n",
       "        <td>4</td>\n",
       "        <td>Galaxy S8</td>\n",
       "        <td>Samsung</td>\n",
       "        <td>1</td>\n",
       "        <td>41000</td>\n",
       "    </tr>\n",
       "</table>"
      ],
      "text/plain": [
       "[(3, 'Galaxy S9', 'Samsung', 2, 56000), (4, 'Galaxy S8', 'Samsung', 1, 41000)]"
      ]
     },
     "execution_count": 46,
     "metadata": {},
     "output_type": "execute_result"
    }
   ],
   "source": [
    "%%sql \n",
    "SELECT * FROM phones \n",
    "WHERE Manufacturer LIKE '%Samsung%'"
   ]
  },
  {
   "cell_type": "code",
   "execution_count": 47,
   "metadata": {},
   "outputs": [
    {
     "name": "stdout",
     "output_type": "stream",
     "text": [
      " * sqlite:///phonesData.db\n",
      "(sqlite3.OperationalError) no such function: REGEXP\n",
      "[SQL: SELECT * FROM phones \n",
      "WHERE ProductName REGEXP '[0-9]']\n",
      "(Background on this error at: http://sqlalche.me/e/13/e3q8)\n"
     ]
    }
   ],
   "source": [
    "%%sql \n",
    "SELECT * FROM phones \n",
    "WHERE ProductName REGEXP '[0-9]'"
   ]
  },
  {
   "cell_type": "code",
   "execution_count": 48,
   "metadata": {},
   "outputs": [
    {
     "name": "stdout",
     "output_type": "stream",
     "text": [
      " * sqlite:///phonesData.db\n",
      "Done.\n"
     ]
    },
    {
     "data": {
      "text/html": [
       "<table>\n",
       "    <tr>\n",
       "        <th>id</th>\n",
       "        <th>ProductName</th>\n",
       "        <th>Manufacturer</th>\n",
       "        <th>ProductCount</th>\n",
       "        <th>Price</th>\n",
       "    </tr>\n",
       "    <tr>\n",
       "        <td>2</td>\n",
       "        <td>iPhone 8</td>\n",
       "        <td>Apple</td>\n",
       "        <td>2</td>\n",
       "        <td>51000</td>\n",
       "    </tr>\n",
       "    <tr>\n",
       "        <td>4</td>\n",
       "        <td>Galaxy S8</td>\n",
       "        <td>Samsung</td>\n",
       "        <td>1</td>\n",
       "        <td>41000</td>\n",
       "    </tr>\n",
       "</table>"
      ],
      "text/plain": [
       "[(2, 'iPhone 8', 'Apple', 2, 51000), (4, 'Galaxy S8', 'Samsung', 1, 41000)]"
      ]
     },
     "execution_count": 48,
     "metadata": {},
     "output_type": "execute_result"
    }
   ],
   "source": [
    "%%sql \n",
    "SELECT * FROM phones \n",
    "WHERE ProductName LIKE '%8%'"
   ]
  },
  {
   "cell_type": "markdown",
   "metadata": {},
   "source": [
    "## **Seminar 2**\n",
    "\n",
    "План урока:\n",
    "- Типы данных, значения NULL, create table, PK, FK, index\n",
    "- Комментарии\n",
    "- Арифметических операции\n",
    "- Логические операторы (and, or, between, not, in)\n",
    "- Приоритет выполнения операторов, порядок выполнения запроса\n",
    "- Оператор CASE, IF\n",
    "- Запросы изменения данных (insert, update, delete)"
   ]
  },
  {
   "cell_type": "markdown",
   "metadata": {},
   "source": [
    "# **CASE IF**\n",
    "Операторы CASE и IF являются условными операторами во многих языках программирования и SQL. Они позволяют выполнять различные действия в зависимости от условий.\n",
    "\n",
    "1. Оператор CASE:\n",
    "\n",
    "   Оператор CASE позволяет выполнить различные действия в зависимости от значения выражения или условия. Он имеет две формы: простую и поисковую.\n",
    "\n",
    "   Простая форма оператора CASE выглядит следующим образом:\n",
    "\n",
    "   \n",
    "   <code>\n",
    "       CASE expression\n",
    "\n",
    "       WHEN value1 THEN result1\n",
    "\n",
    "       WHEN value2 THEN result2\n",
    "\n",
    "       ...\n",
    "\n",
    "       ELSE result\n",
    "\n",
    "   END\n",
    "   </code>\n",
    "\n",
    "   Здесь expression - выражение, значение которого будет сравниваться с value1, value2 и т.д. Если значение expression совпадает с одним из value, то возвращается соответствующий result. Если ни одно из значений не совпадает, возвращается result из блока ELSE (если он указан).\n",
    "\n",
    "   Пример использования оператора CASE в SQL:\n",
    "   \n",
    "   <code>\n",
    "          SELECT name, \n",
    "\n",
    "          CASE\n",
    "\n",
    "              WHEN age < 18 THEN 'Minor'\n",
    "\n",
    "              WHEN age >= 18 AND age < 65 THEN 'Adult'\n",
    "\n",
    "              ELSE 'Senior'\n",
    "\n",
    "          END AS age_group\n",
    "\n",
    "   FROM users;\n",
    "   </code>\n",
    "   \n",
    "   В этом примере оператор **CASE** используется для определения группы возраста на основе значения поля age в таблице users.\n",
    "\n",
    "2. Оператор IF:\n",
    "   Оператор IF позволяет выполнить различные действия в зависимости от условия. Он имеет следующую форму:\n",
    "   \n",
    "   <code>IF condition THEN\n",
    "\n",
    "       statements\n",
    "\n",
    "   ELSE\n",
    "\n",
    "       statements\n",
    "\n",
    "   END IF;</code>\n",
    "   \n",
    "\n",
    "   Здесь condition - логическое выражение, которое должно быть истинным или ложным. Если condition истинно, то выполняются statements в блоке THEN. Если condition ложно, то выполняются statements в блоке ELSE (если он указан).\n",
    "\n",
    "   Пример использования оператора IF в SQL:\n",
    "\n",
    "   \n",
    "   <code>DECLARE @age INT;\n",
    "\n",
    "   SET @age = 25;\n",
    "\n",
    "   IF @age < 18 THEN\n",
    "\n",
    "       SELECT 'Minor';\n",
    "\n",
    "   ELSE\n",
    "\n",
    "       SELECT 'Adult';\n",
    "       \n",
    "   END IF;</code>\n",
    "   \n",
    "\n",
    "   В этом примере оператор IF используется для определения, является ли значение переменной @age меньше 18 или нет, и выводит соответствующее сообщение.\n",
    "\n",
    "Оба оператора CASE и IF могут быть очень полезными при написании условной логики в программировании и SQL, позволяя выполнять различные действия в зависимости от заданных условий."
   ]
  },
  {
   "cell_type": "markdown",
   "metadata": {},
   "source": [
    "В представленном коде на языке SQL используются несколько операторов. Давайте разберем их по порядку:\n",
    "\n",
    "1. DECLARE: Этот оператор используется для объявления переменных в SQL. В данном случае, мы объявляем переменную @age типа INT.\n",
    "\n",
    "2. SET: Оператор SET используется для присваивания значения переменной. В данном случае, мы присваиваем переменной @age значение 25.\n",
    "\n",
    "3. IF: Оператор IF используется для выполнения условного оператора. Он проверяет условие и выполняет определенный блок кода, если условие истинно. В данном случае, мы проверяем, является ли значение переменной @age меньше 18.\n",
    "\n",
    "4. THEN: THEN является ключевым словом, которое указывает начало блока кода, который будет выполнен, если условие в операторе IF истинно. В данном случае, если значение переменной @age меньше 18, будет выполнен следующий оператор SELECT.\n",
    "\n",
    "5. SELECT: Оператор SELECT используется для выборки данных из таблицы или для возврата результата запроса. В данном случае, мы используем оператор SELECT для вывода строки 'Minor', если условие в операторе IF истинно.\n",
    "\n",
    "6. ELSE: ELSE является ключевым словом, которое указывает начало блока кода, который будет выполнен, если условие в операторе IF ложно. В данном случае, если значение переменной @age больше или равно 18, будет выполнен следующий оператор SELECT.\n",
    "\n",
    "7. END IF: END IF является ключевым словом, которое указывает конец блока кода оператора IF. В данном случае, мы завершаем оператор IF.\n",
    "\n",
    "Таким образом, в данном коде мы объявляем переменную @age, присваиваем ей значение 25, а затем проверяем, является ли значение переменной меньше 18. В зависимости от результата проверки, выводится соответствующая строка 'Minor' или 'Adult'."
   ]
  },
  {
   "cell_type": "code",
   "execution_count": 49,
   "metadata": {},
   "outputs": [
    {
     "name": "stdout",
     "output_type": "stream",
     "text": [
      " * sqlite:///phonesData.db\n",
      "Done.\n"
     ]
    },
    {
     "data": {
      "text/html": [
       "<table>\n",
       "    <tr>\n",
       "        <th>id</th>\n",
       "        <th>ProductName</th>\n",
       "        <th>Manufacturer</th>\n",
       "        <th>ProductCount</th>\n",
       "        <th>Price</th>\n",
       "    </tr>\n",
       "    <tr>\n",
       "        <td>1</td>\n",
       "        <td>iPhone X</td>\n",
       "        <td>Apple</td>\n",
       "        <td>3</td>\n",
       "        <td>76000</td>\n",
       "    </tr>\n",
       "    <tr>\n",
       "        <td>2</td>\n",
       "        <td>iPhone 8</td>\n",
       "        <td>Apple</td>\n",
       "        <td>2</td>\n",
       "        <td>51000</td>\n",
       "    </tr>\n",
       "    <tr>\n",
       "        <td>3</td>\n",
       "        <td>Galaxy S9</td>\n",
       "        <td>Samsung</td>\n",
       "        <td>2</td>\n",
       "        <td>56000</td>\n",
       "    </tr>\n",
       "    <tr>\n",
       "        <td>4</td>\n",
       "        <td>Galaxy S8</td>\n",
       "        <td>Samsung</td>\n",
       "        <td>1</td>\n",
       "        <td>41000</td>\n",
       "    </tr>\n",
       "    <tr>\n",
       "        <td>5</td>\n",
       "        <td>P20 Pro</td>\n",
       "        <td>Huawei</td>\n",
       "        <td>5</td>\n",
       "        <td>36000</td>\n",
       "    </tr>\n",
       "</table>"
      ],
      "text/plain": [
       "[(1, 'iPhone X', 'Apple', 3, 76000),\n",
       " (2, 'iPhone 8', 'Apple', 2, 51000),\n",
       " (3, 'Galaxy S9', 'Samsung', 2, 56000),\n",
       " (4, 'Galaxy S8', 'Samsung', 1, 41000),\n",
       " (5, 'P20 Pro', 'Huawei', 5, 36000)]"
      ]
     },
     "execution_count": 49,
     "metadata": {},
     "output_type": "execute_result"
    }
   ],
   "source": [
    "%%sql \n",
    "SELECT * FROM phones"
   ]
  },
  {
   "cell_type": "code",
   "execution_count": 50,
   "metadata": {},
   "outputs": [
    {
     "name": "stdout",
     "output_type": "stream",
     "text": [
      " * sqlite:///phonesData.db\n",
      "Done.\n"
     ]
    },
    {
     "data": {
      "text/html": [
       "<table>\n",
       "    <tr>\n",
       "        <th>id</th>\n",
       "        <th>ProductName</th>\n",
       "        <th>Manufacturer</th>\n",
       "        <th>ProductCount</th>\n",
       "        <th>Price</th>\n",
       "        <th>Price_group</th>\n",
       "    </tr>\n",
       "    <tr>\n",
       "        <td>1</td>\n",
       "        <td>iPhone X</td>\n",
       "        <td>Apple</td>\n",
       "        <td>3</td>\n",
       "        <td>76000</td>\n",
       "        <td>Low price</td>\n",
       "    </tr>\n",
       "    <tr>\n",
       "        <td>2</td>\n",
       "        <td>iPhone 8</td>\n",
       "        <td>Apple</td>\n",
       "        <td>2</td>\n",
       "        <td>51000</td>\n",
       "        <td>Normal price</td>\n",
       "    </tr>\n",
       "    <tr>\n",
       "        <td>3</td>\n",
       "        <td>Galaxy S9</td>\n",
       "        <td>Samsung</td>\n",
       "        <td>2</td>\n",
       "        <td>56000</td>\n",
       "        <td>Normal price</td>\n",
       "    </tr>\n",
       "    <tr>\n",
       "        <td>4</td>\n",
       "        <td>Galaxy S8</td>\n",
       "        <td>Samsung</td>\n",
       "        <td>1</td>\n",
       "        <td>41000</td>\n",
       "        <td>High price</td>\n",
       "    </tr>\n",
       "    <tr>\n",
       "        <td>5</td>\n",
       "        <td>P20 Pro</td>\n",
       "        <td>Huawei</td>\n",
       "        <td>5</td>\n",
       "        <td>36000</td>\n",
       "        <td>High price</td>\n",
       "    </tr>\n",
       "</table>"
      ],
      "text/plain": [
       "[(1, 'iPhone X', 'Apple', 3, 76000, 'Low price'),\n",
       " (2, 'iPhone 8', 'Apple', 2, 51000, 'Normal price'),\n",
       " (3, 'Galaxy S9', 'Samsung', 2, 56000, 'Normal price'),\n",
       " (4, 'Galaxy S8', 'Samsung', 1, 41000, 'High price'),\n",
       " (5, 'P20 Pro', 'Huawei', 5, 36000, 'High price')]"
      ]
     },
     "execution_count": 50,
     "metadata": {},
     "output_type": "execute_result"
    }
   ],
   "source": [
    "%%sql \n",
    "\n",
    "SELECT *,\n",
    "CASE\n",
    "    WHEN Price < 50000 THEN 'High price'\n",
    "    WHEN Price >= 50000 AND Price < 60000 THEN 'Normal price'\n",
    "    ELSE 'Low price'\n",
    "END AS Price_group\n",
    "\n",
    "FROM phones"
   ]
  },
  {
   "cell_type": "markdown",
   "metadata": {},
   "source": [
    "В SQL порядок выполнения операторов зависит от их приоритета. Вот порядок выполнения для операторов\n",
    "\n",
    "1. NOT: Оператор NOT имеет самый высокий приоритет и выполняется первым. Он используется для инвертирования логического выражения. Например, NOT TRUE вернет FALSE.\n",
    "\n",
    "2. AND: Оператор AND выполняется после оператора NOT. Он используется для объединения двух или более логических выражений и возвращает TRUE, если оба выражения истинны. Например, TRUE AND TRUE вернет TRUE, а TRUE AND FALSE вернет FALSE.\n",
    "\n",
    "3. OR: Оператор OR выполняется после оператора AND. Он также используется для объединения двух или более логических выражений, но возвращает TRUE, если хотя бы одно из выражений истинно. Например, TRUE OR FALSE вернет TRUE.\n",
    "\n",
    "4. BETWEEN: Оператор BETWEEN используется для проверки, находится ли значение в заданном диапазоне. Он выполняется после операторов NOT, AND и OR. Например, value BETWEEN min_value AND max_value.\n",
    "\n",
    "5. IN: Оператор IN используется для проверки, находится ли значение в списке значений. Он также выполняется после операторов NOT, AND и OR. Например, value IN (value1, value2, ...).\n",
    "\n",
    "Важно отметить, что порядок выполнения операторов может быть изменен с использованием скобок. Вы можете использовать скобки, чтобы явно указать порядок выполнения операторов и управлять логическими выражениями в SQL."
   ]
  },
  {
   "cell_type": "code",
   "execution_count": 51,
   "metadata": {},
   "outputs": [
    {
     "name": "stdout",
     "output_type": "stream",
     "text": [
      " * sqlite:///phonesData.db\n",
      "Done.\n"
     ]
    },
    {
     "data": {
      "text/plain": [
       "[]"
      ]
     },
     "execution_count": 51,
     "metadata": {},
     "output_type": "execute_result"
    }
   ],
   "source": [
    "%%sql\n",
    "CREATE TABLE IF NOT EXISTS movies(\n",
    "    id INTEGER PRIMARY KEY AUTOINCREMENT,\n",
    "    title VARCHAR(70) NOT NULL,\n",
    "    year INT NOT NULL,\n",
    "    running_time TIME NOT NULL,\n",
    "    storyline TEXT NOT NULL\n",
    ")\n"
   ]
  },
  {
   "cell_type": "code",
   "execution_count": 52,
   "metadata": {},
   "outputs": [
    {
     "name": "stdout",
     "output_type": "stream",
     "text": [
      " * sqlite:///phonesData.db\n",
      "4 rows affected.\n"
     ]
    },
    {
     "data": {
      "text/plain": [
       "[]"
      ]
     },
     "execution_count": 52,
     "metadata": {},
     "output_type": "execute_result"
    }
   ],
   "source": [
    "%%sql\n",
    "INSERT into movies (title, year, running_time, storyline) \n",
    "VALUES ('Harry Potter and the Philosophers Stone', 2001, 152, \"An orphaned boy enrolls in a school of wizardry, where he learns the truth about himself, his family and the terrible evil that haunts the magical world.\"),\n",
    "('Harry Potter and the Chamber of Secrets', 2002, 162,\"An ancient prophecy seems to be coming true when a mysterious presence begins stalking the corridors of a school of magic and leaving its victims paralyzed.\"),\n",
    "('The Green Mile', 1999, 188,'Death Row guards at a penitentiary, in the 1930s, have a moral dilemma with their job when they discover one of their prisoners, a convicted murderer, has a special gift.'),\n",
    "('Forrest Gump', 1994, 142,\"The presidencies of Kennedy and Johnson, the Vietnam War, the Watergate scandal and other historical events unfold from the perspective of an Alabama man with an IQ of 75, whose only desire is to be reunited with his childhood sweetheart.\")"
   ]
  },
  {
   "cell_type": "markdown",
   "metadata": {},
   "source": [
    "SET NULL - это один из вариантов ограничения обновления или удаления для внешнего ключа в SQL. Когда установлено ограничение SET NULL, при обновлении значения в поле, на которое ссылается внешний ключ, или при удалении записи из таблицы с внешним ключом, значения в поле, на которое ссылается внешний ключ, будут установлены в NULL.\n",
    "\n",
    "Другими словами, если у вас есть внешний ключ, который ссылается на поле в другой таблице, и вы обновляете значение в этом поле или удаляете запись, на которую ссылается внешний ключ, то все записи в таблице с внешним ключом, которые ссылались на это значение или запись, будут иметь значение NULL в поле, на которое ссылается внешний ключ.\n",
    "\n",
    "Например, предположим, у нас есть таблицы \"Orders\" и \"Customers\", и поле \"CustomerID\" в таблице \"Orders\" является внешним ключом, который ссылается на поле \"CustomerID\" в таблице \"Customers\". Если мы установим ограничение обновления SET NULL для этого внешнего ключа, и затем обновим значение \"CustomerID\" в таблице \"Customers\", все записи в таблице \"Orders\", которые ссылались на это значение, будут иметь значение NULL в поле \"CustomerID\".\n",
    "\n",
    "Ограничение SET NULL полезно, когда вы хотите сохранить целостность данных и не потерять связь между записями, но при этом разрешить обновление или удаление связанных записей."
   ]
  },
  {
   "cell_type": "markdown",
   "metadata": {},
   "source": [
    "Для создания внешнего ключа с ограничениями удаления и обновления в SQL, следуйте этим шагам:\n",
    "\n",
    "1. Создайте таблицу, в которой будет внешний ключ, и таблицу, на которую будет ссылаться внешний ключ. Например, у нас есть таблица \"Orders\" с полем \"CustomerID\", которое будет ссылаться на поле \"CustomerID\" в таблице \"Customers\".\n",
    "\n",
    "2. Убедитесь, что поле, на которое будет ссылаться внешний ключ, имеет уникальное ограничение. В нашем случае, поле \"CustomerID\" в таблице \"Customers\" должно быть уникальным.\n",
    "\n",
    "3. Создайте внешний ключ в таблице \"Orders\" с помощью оператора ALTER TABLE. Укажите имя внешнего ключа, поле, которое будет ссылаться на внешний ключ, и таблицу и поле, на которые будет ссылаться внешний ключ. Например:\n",
    "\n",
    "ALTER TABLE Orders\n",
    "ADD CONSTRAINT FK_CustomerID\n",
    "FOREIGN KEY (CustomerID)\n",
    "REFERENCES Customers(CustomerID)\n",
    "\n",
    "\n",
    "4. Добавьте ограничение удаления и обновления для внешнего ключа. Ограничение удаления определяет, что произойдет с записями в таблице, на которую ссылается внешний ключ, при удалении записи из таблицы с внешним ключом. Ограничение обновления определяет, что произойдет с записями в таблице, на которую ссылается внешний ключ, при обновлении значения в поле, на которое ссылается внешний ключ. Доступные варианты для ограничений удаления и обновления включают CASCADE, SET NULL, SET DEFAULT и NO ACTION.\n",
    "\n",
    "Пример с ограничением удаления CASCADE и ограничением обновления SET NULL:\n",
    "\n",
    "ALTER TABLE Orders\n",
    "ADD CONSTRAINT FK_CustomerID\n",
    "FOREIGN KEY (CustomerID)\n",
    "REFERENCES Customers(CustomerID)\n",
    "ON DELETE CASCADE\n",
    "ON UPDATE SET NULL\n",
    "\n",
    "\n",
    "Теперь у вас есть внешний ключ с ограничениями удаления и обновления."
   ]
  },
  {
   "cell_type": "code",
   "execution_count": 53,
   "metadata": {},
   "outputs": [
    {
     "name": "stdout",
     "output_type": "stream",
     "text": [
      " * sqlite:///phonesData.db\n",
      "Done.\n"
     ]
    },
    {
     "data": {
      "text/plain": [
       "[]"
      ]
     },
     "execution_count": 53,
     "metadata": {},
     "output_type": "execute_result"
    }
   ],
   "source": [
    "%%sql\n",
    "CREATE TABLE IF NOT EXISTS studentMarks (\n",
    "stud_id INTEGER PRIMARY KEY AUTOINCREMENT, \n",
    "total_marks INT, \n",
    "grade VARCHAR(5))"
   ]
  },
  {
   "cell_type": "code",
   "execution_count": 54,
   "metadata": {},
   "outputs": [
    {
     "name": "stdout",
     "output_type": "stream",
     "text": [
      " * sqlite:///phonesData.db\n",
      "11 rows affected.\n"
     ]
    },
    {
     "data": {
      "text/plain": [
       "[]"
      ]
     },
     "execution_count": 54,
     "metadata": {},
     "output_type": "execute_result"
    }
   ],
   "source": [
    "%%sql\n",
    "INSERT into studentMarks(total_marks, grade)\n",
    "VALUES\n",
    "(450, 'A'), \n",
    "(480, 'A+'), \n",
    "(490, 'A++'), \n",
    "(440, 'B+'),\n",
    "(400, 'C+'),\n",
    "(380,'C'),\n",
    "(250, 'D'),\n",
    "(200,'E'),\n",
    "(100,'F'),\n",
    "(150,'F'),\n",
    "(220, 'E')"
   ]
  },
  {
   "cell_type": "markdown",
   "metadata": {},
   "source": [
    "Наименование столбца по которому идет классификация может записываться после кейс, в таком случае после when уго писать не нужно, если в классификации несколько столбцов, их прописывают после when"
   ]
  },
  {
   "cell_type": "code",
   "execution_count": null,
   "metadata": {},
   "outputs": [],
   "source": [
    "%%sql \n",
    "\n",
    "SELECT *,\n",
    "CASE grade\n",
    "    WHEN 'A++' THEN 'DISTINCTION'\n",
    "    WHEN 'A+' then 'FIRST CLASS'\n",
    "    WHEN 'A' THEN 'SECOND CLASS'\n",
    "    WHEN 'B+' THEN 'SECOND CLASS'\n",
    "    WHEN 'C+' then 'THIRD CLASS'\n",
    "    ELSE 'FAIL'\n",
    "END AS grade_group\n",
    "\n",
    "FROM studentMarks"
   ]
  },
  {
   "cell_type": "code",
   "execution_count": 22,
   "metadata": {},
   "outputs": [
    {
     "name": "stdout",
     "output_type": "stream",
     "text": [
      " * sqlite:///phonesData.db\n",
      "Done.\n"
     ]
    },
    {
     "data": {
      "text/html": [
       "<table>\n",
       "    <tr>\n",
       "        <th>stud_id</th>\n",
       "        <th>total_marks</th>\n",
       "        <th>grade</th>\n",
       "        <th>grade_group_by_mark</th>\n",
       "    </tr>\n",
       "    <tr>\n",
       "        <td>1</td>\n",
       "        <td>450</td>\n",
       "        <td>A</td>\n",
       "        <td>FIRST CLASS</td>\n",
       "    </tr>\n",
       "    <tr>\n",
       "        <td>2</td>\n",
       "        <td>480</td>\n",
       "        <td>A+</td>\n",
       "        <td>DISTINCTION</td>\n",
       "    </tr>\n",
       "    <tr>\n",
       "        <td>3</td>\n",
       "        <td>490</td>\n",
       "        <td>A++</td>\n",
       "        <td>DISTINCTION</td>\n",
       "    </tr>\n",
       "    <tr>\n",
       "        <td>4</td>\n",
       "        <td>440</td>\n",
       "        <td>B+</td>\n",
       "        <td>FIRST CLASS</td>\n",
       "    </tr>\n",
       "    <tr>\n",
       "        <td>5</td>\n",
       "        <td>400</td>\n",
       "        <td>C+</td>\n",
       "        <td>FIRST CLASS</td>\n",
       "    </tr>\n",
       "    <tr>\n",
       "        <td>6</td>\n",
       "        <td>380</td>\n",
       "        <td>C</td>\n",
       "        <td>SECOND CLASS</td>\n",
       "    </tr>\n",
       "    <tr>\n",
       "        <td>7</td>\n",
       "        <td>250</td>\n",
       "        <td>D</td>\n",
       "        <td>FAIL</td>\n",
       "    </tr>\n",
       "    <tr>\n",
       "        <td>8</td>\n",
       "        <td>200</td>\n",
       "        <td>E</td>\n",
       "        <td>FAIL</td>\n",
       "    </tr>\n",
       "    <tr>\n",
       "        <td>9</td>\n",
       "        <td>100</td>\n",
       "        <td>F</td>\n",
       "        <td>FAIL</td>\n",
       "    </tr>\n",
       "    <tr>\n",
       "        <td>10</td>\n",
       "        <td>150</td>\n",
       "        <td>F</td>\n",
       "        <td>FAIL</td>\n",
       "    </tr>\n",
       "    <tr>\n",
       "        <td>11</td>\n",
       "        <td>220</td>\n",
       "        <td>E</td>\n",
       "        <td>FAIL</td>\n",
       "    </tr>\n",
       "    <tr>\n",
       "        <td>12</td>\n",
       "        <td>450</td>\n",
       "        <td>A</td>\n",
       "        <td>FIRST CLASS</td>\n",
       "    </tr>\n",
       "    <tr>\n",
       "        <td>13</td>\n",
       "        <td>480</td>\n",
       "        <td>A+</td>\n",
       "        <td>DISTINCTION</td>\n",
       "    </tr>\n",
       "    <tr>\n",
       "        <td>14</td>\n",
       "        <td>490</td>\n",
       "        <td>A++</td>\n",
       "        <td>DISTINCTION</td>\n",
       "    </tr>\n",
       "    <tr>\n",
       "        <td>15</td>\n",
       "        <td>440</td>\n",
       "        <td>B+</td>\n",
       "        <td>FIRST CLASS</td>\n",
       "    </tr>\n",
       "    <tr>\n",
       "        <td>16</td>\n",
       "        <td>400</td>\n",
       "        <td>C+</td>\n",
       "        <td>FIRST CLASS</td>\n",
       "    </tr>\n",
       "    <tr>\n",
       "        <td>17</td>\n",
       "        <td>380</td>\n",
       "        <td>C</td>\n",
       "        <td>SECOND CLASS</td>\n",
       "    </tr>\n",
       "    <tr>\n",
       "        <td>18</td>\n",
       "        <td>250</td>\n",
       "        <td>D</td>\n",
       "        <td>FAIL</td>\n",
       "    </tr>\n",
       "    <tr>\n",
       "        <td>19</td>\n",
       "        <td>200</td>\n",
       "        <td>E</td>\n",
       "        <td>FAIL</td>\n",
       "    </tr>\n",
       "    <tr>\n",
       "        <td>20</td>\n",
       "        <td>100</td>\n",
       "        <td>F</td>\n",
       "        <td>FAIL</td>\n",
       "    </tr>\n",
       "    <tr>\n",
       "        <td>21</td>\n",
       "        <td>150</td>\n",
       "        <td>F</td>\n",
       "        <td>FAIL</td>\n",
       "    </tr>\n",
       "    <tr>\n",
       "        <td>22</td>\n",
       "        <td>220</td>\n",
       "        <td>E</td>\n",
       "        <td>FAIL</td>\n",
       "    </tr>\n",
       "    <tr>\n",
       "        <td>23</td>\n",
       "        <td>450</td>\n",
       "        <td>A</td>\n",
       "        <td>FIRST CLASS</td>\n",
       "    </tr>\n",
       "    <tr>\n",
       "        <td>24</td>\n",
       "        <td>480</td>\n",
       "        <td>A+</td>\n",
       "        <td>DISTINCTION</td>\n",
       "    </tr>\n",
       "    <tr>\n",
       "        <td>25</td>\n",
       "        <td>490</td>\n",
       "        <td>A++</td>\n",
       "        <td>DISTINCTION</td>\n",
       "    </tr>\n",
       "    <tr>\n",
       "        <td>26</td>\n",
       "        <td>440</td>\n",
       "        <td>B+</td>\n",
       "        <td>FIRST CLASS</td>\n",
       "    </tr>\n",
       "    <tr>\n",
       "        <td>27</td>\n",
       "        <td>400</td>\n",
       "        <td>C+</td>\n",
       "        <td>FIRST CLASS</td>\n",
       "    </tr>\n",
       "    <tr>\n",
       "        <td>28</td>\n",
       "        <td>380</td>\n",
       "        <td>C</td>\n",
       "        <td>SECOND CLASS</td>\n",
       "    </tr>\n",
       "    <tr>\n",
       "        <td>29</td>\n",
       "        <td>250</td>\n",
       "        <td>D</td>\n",
       "        <td>FAIL</td>\n",
       "    </tr>\n",
       "    <tr>\n",
       "        <td>30</td>\n",
       "        <td>200</td>\n",
       "        <td>E</td>\n",
       "        <td>FAIL</td>\n",
       "    </tr>\n",
       "    <tr>\n",
       "        <td>31</td>\n",
       "        <td>100</td>\n",
       "        <td>F</td>\n",
       "        <td>FAIL</td>\n",
       "    </tr>\n",
       "    <tr>\n",
       "        <td>32</td>\n",
       "        <td>150</td>\n",
       "        <td>F</td>\n",
       "        <td>FAIL</td>\n",
       "    </tr>\n",
       "    <tr>\n",
       "        <td>33</td>\n",
       "        <td>220</td>\n",
       "        <td>E</td>\n",
       "        <td>FAIL</td>\n",
       "    </tr>\n",
       "    <tr>\n",
       "        <td>34</td>\n",
       "        <td>450</td>\n",
       "        <td>A</td>\n",
       "        <td>FIRST CLASS</td>\n",
       "    </tr>\n",
       "    <tr>\n",
       "        <td>35</td>\n",
       "        <td>480</td>\n",
       "        <td>A+</td>\n",
       "        <td>DISTINCTION</td>\n",
       "    </tr>\n",
       "    <tr>\n",
       "        <td>36</td>\n",
       "        <td>490</td>\n",
       "        <td>A++</td>\n",
       "        <td>DISTINCTION</td>\n",
       "    </tr>\n",
       "    <tr>\n",
       "        <td>37</td>\n",
       "        <td>440</td>\n",
       "        <td>B+</td>\n",
       "        <td>FIRST CLASS</td>\n",
       "    </tr>\n",
       "    <tr>\n",
       "        <td>38</td>\n",
       "        <td>400</td>\n",
       "        <td>C+</td>\n",
       "        <td>FIRST CLASS</td>\n",
       "    </tr>\n",
       "    <tr>\n",
       "        <td>39</td>\n",
       "        <td>380</td>\n",
       "        <td>C</td>\n",
       "        <td>SECOND CLASS</td>\n",
       "    </tr>\n",
       "    <tr>\n",
       "        <td>40</td>\n",
       "        <td>250</td>\n",
       "        <td>D</td>\n",
       "        <td>FAIL</td>\n",
       "    </tr>\n",
       "    <tr>\n",
       "        <td>41</td>\n",
       "        <td>200</td>\n",
       "        <td>E</td>\n",
       "        <td>FAIL</td>\n",
       "    </tr>\n",
       "    <tr>\n",
       "        <td>42</td>\n",
       "        <td>100</td>\n",
       "        <td>F</td>\n",
       "        <td>FAIL</td>\n",
       "    </tr>\n",
       "    <tr>\n",
       "        <td>43</td>\n",
       "        <td>150</td>\n",
       "        <td>F</td>\n",
       "        <td>FAIL</td>\n",
       "    </tr>\n",
       "    <tr>\n",
       "        <td>44</td>\n",
       "        <td>220</td>\n",
       "        <td>E</td>\n",
       "        <td>FAIL</td>\n",
       "    </tr>\n",
       "    <tr>\n",
       "        <td>45</td>\n",
       "        <td>450</td>\n",
       "        <td>A</td>\n",
       "        <td>FIRST CLASS</td>\n",
       "    </tr>\n",
       "    <tr>\n",
       "        <td>46</td>\n",
       "        <td>480</td>\n",
       "        <td>A+</td>\n",
       "        <td>DISTINCTION</td>\n",
       "    </tr>\n",
       "    <tr>\n",
       "        <td>47</td>\n",
       "        <td>490</td>\n",
       "        <td>A++</td>\n",
       "        <td>DISTINCTION</td>\n",
       "    </tr>\n",
       "    <tr>\n",
       "        <td>48</td>\n",
       "        <td>440</td>\n",
       "        <td>B+</td>\n",
       "        <td>FIRST CLASS</td>\n",
       "    </tr>\n",
       "    <tr>\n",
       "        <td>49</td>\n",
       "        <td>400</td>\n",
       "        <td>C+</td>\n",
       "        <td>FIRST CLASS</td>\n",
       "    </tr>\n",
       "    <tr>\n",
       "        <td>50</td>\n",
       "        <td>380</td>\n",
       "        <td>C</td>\n",
       "        <td>SECOND CLASS</td>\n",
       "    </tr>\n",
       "    <tr>\n",
       "        <td>51</td>\n",
       "        <td>250</td>\n",
       "        <td>D</td>\n",
       "        <td>FAIL</td>\n",
       "    </tr>\n",
       "    <tr>\n",
       "        <td>52</td>\n",
       "        <td>200</td>\n",
       "        <td>E</td>\n",
       "        <td>FAIL</td>\n",
       "    </tr>\n",
       "    <tr>\n",
       "        <td>53</td>\n",
       "        <td>100</td>\n",
       "        <td>F</td>\n",
       "        <td>FAIL</td>\n",
       "    </tr>\n",
       "    <tr>\n",
       "        <td>54</td>\n",
       "        <td>150</td>\n",
       "        <td>F</td>\n",
       "        <td>FAIL</td>\n",
       "    </tr>\n",
       "    <tr>\n",
       "        <td>55</td>\n",
       "        <td>220</td>\n",
       "        <td>E</td>\n",
       "        <td>FAIL</td>\n",
       "    </tr>\n",
       "</table>"
      ],
      "text/plain": [
       "[(1, 450, 'A', 'FIRST CLASS'),\n",
       " (2, 480, 'A+', 'DISTINCTION'),\n",
       " (3, 490, 'A++', 'DISTINCTION'),\n",
       " (4, 440, 'B+', 'FIRST CLASS'),\n",
       " (5, 400, 'C+', 'FIRST CLASS'),\n",
       " (6, 380, 'C', 'SECOND CLASS'),\n",
       " (7, 250, 'D', 'FAIL'),\n",
       " (8, 200, 'E', 'FAIL'),\n",
       " (9, 100, 'F', 'FAIL'),\n",
       " (10, 150, 'F', 'FAIL'),\n",
       " (11, 220, 'E', 'FAIL'),\n",
       " (12, 450, 'A', 'FIRST CLASS'),\n",
       " (13, 480, 'A+', 'DISTINCTION'),\n",
       " (14, 490, 'A++', 'DISTINCTION'),\n",
       " (15, 440, 'B+', 'FIRST CLASS'),\n",
       " (16, 400, 'C+', 'FIRST CLASS'),\n",
       " (17, 380, 'C', 'SECOND CLASS'),\n",
       " (18, 250, 'D', 'FAIL'),\n",
       " (19, 200, 'E', 'FAIL'),\n",
       " (20, 100, 'F', 'FAIL'),\n",
       " (21, 150, 'F', 'FAIL'),\n",
       " (22, 220, 'E', 'FAIL'),\n",
       " (23, 450, 'A', 'FIRST CLASS'),\n",
       " (24, 480, 'A+', 'DISTINCTION'),\n",
       " (25, 490, 'A++', 'DISTINCTION'),\n",
       " (26, 440, 'B+', 'FIRST CLASS'),\n",
       " (27, 400, 'C+', 'FIRST CLASS'),\n",
       " (28, 380, 'C', 'SECOND CLASS'),\n",
       " (29, 250, 'D', 'FAIL'),\n",
       " (30, 200, 'E', 'FAIL'),\n",
       " (31, 100, 'F', 'FAIL'),\n",
       " (32, 150, 'F', 'FAIL'),\n",
       " (33, 220, 'E', 'FAIL'),\n",
       " (34, 450, 'A', 'FIRST CLASS'),\n",
       " (35, 480, 'A+', 'DISTINCTION'),\n",
       " (36, 490, 'A++', 'DISTINCTION'),\n",
       " (37, 440, 'B+', 'FIRST CLASS'),\n",
       " (38, 400, 'C+', 'FIRST CLASS'),\n",
       " (39, 380, 'C', 'SECOND CLASS'),\n",
       " (40, 250, 'D', 'FAIL'),\n",
       " (41, 200, 'E', 'FAIL'),\n",
       " (42, 100, 'F', 'FAIL'),\n",
       " (43, 150, 'F', 'FAIL'),\n",
       " (44, 220, 'E', 'FAIL'),\n",
       " (45, 450, 'A', 'FIRST CLASS'),\n",
       " (46, 480, 'A+', 'DISTINCTION'),\n",
       " (47, 490, 'A++', 'DISTINCTION'),\n",
       " (48, 440, 'B+', 'FIRST CLASS'),\n",
       " (49, 400, 'C+', 'FIRST CLASS'),\n",
       " (50, 380, 'C', 'SECOND CLASS'),\n",
       " (51, 250, 'D', 'FAIL'),\n",
       " (52, 200, 'E', 'FAIL'),\n",
       " (53, 100, 'F', 'FAIL'),\n",
       " (54, 150, 'F', 'FAIL'),\n",
       " (55, 220, 'E', 'FAIL')]"
      ]
     },
     "execution_count": 22,
     "metadata": {},
     "output_type": "execute_result"
    }
   ],
   "source": [
    "%%sql \n",
    "\n",
    "SELECT *,\n",
    "CASE \n",
    "    WHEN total_marks > 450  \n",
    "    THEN 'DISTINCTION'\n",
    "    WHEN total_marks between 400 and 450 \n",
    "    then 'FIRST CLASS'\n",
    "    WHEN total_marks between 350 and 400 \n",
    "    then 'SECOND CLASS'\n",
    "    WHEN total_marks between 300 and 350 \n",
    "    then 'THIRD CLASS'\n",
    "    ELSE 'FAIL'\n",
    "END AS grade_group_by_mark\n",
    "\n",
    "FROM studentMarks"
   ]
  },
  {
   "cell_type": "markdown",
   "metadata": {},
   "source": [
    "IF условие THEN\n",
    "    -- код, который будет выполнен, если условие истинно\n",
    "ELSE\n",
    "    -- код, который будет выполнен, если условие ложно\n",
    "END IF;"
   ]
  },
  {
   "cell_type": "code",
   "execution_count": 23,
   "metadata": {},
   "outputs": [
    {
     "name": "stdout",
     "output_type": "stream",
     "text": [
      " * sqlite:///phonesData.db\n",
      "(sqlite3.OperationalError) table workers already exists\n",
      "[SQL: CREATE TABLE workers \n",
      "(\n",
      "id INTEGER NOT NULL PRIMARY KEY AUTOINCREMENT,\n",
      "name VARCHAR(50) NOT NULL,\n",
      "surname VARCHAR(50) NOT NULL,\n",
      "specialty VARCHAR(50) NOT NULL,\n",
      "seniority INT NOT NULL,\n",
      "salary INT NOT NULL,\n",
      "age INT NOT NULL\n",
      ")]\n",
      "(Background on this error at: http://sqlalche.me/e/13/e3q8)\n"
     ]
    }
   ],
   "source": [
    "%%sql\n",
    "CREATE TABLE workers \n",
    "(\n",
    "id INTEGER NOT NULL PRIMARY KEY AUTOINCREMENT,\n",
    "name VARCHAR(50) NOT NULL,\n",
    "surname VARCHAR(50) NOT NULL,\n",
    "specialty VARCHAR(50) NOT NULL,\n",
    "seniority INT NOT NULL,\n",
    "salary INT NOT NULL,\n",
    "age INT NOT NULL\n",
    ")\n"
   ]
  },
  {
   "cell_type": "code",
   "execution_count": 24,
   "metadata": {},
   "outputs": [
    {
     "name": "stdout",
     "output_type": "stream",
     "text": [
      " * sqlite:///phonesData.db\n",
      "7 rows affected.\n"
     ]
    },
    {
     "data": {
      "text/plain": [
       "[]"
      ]
     },
     "execution_count": 24,
     "metadata": {},
     "output_type": "execute_result"
    }
   ],
   "source": [
    "%%sql\n",
    "insert into workers (name, surname, specialty, seniority, salary, age)\n",
    "values\n",
    "('Вася',\t'Васькин',\t'Начальник',\t40,\t100000,\t60),\n",
    "('Петя',\t'Петькин',\t'Начальник',\t8,\t70000,\t30),\n",
    "('Катя',\t'Катькина',\t'Инженер',\t2,\t70000,\t25),\n",
    "('Саша',\t'Сашкин',\t'Инженер',\t12,\t50000,\t35),\n",
    "('Иван',\t'Иванов',\t'Рабочий',\t40,\t30000,\t59),\n",
    "('Юра',\t'Юркин',\t'Рабочий',\t5,\t15000,\t25),\n",
    "('Максим',\t'Воронин',\t'Рабочий',\t2,\t11000,\t22)"
   ]
  },
  {
   "cell_type": "code",
   "execution_count": 25,
   "metadata": {},
   "outputs": [
    {
     "name": "stdout",
     "output_type": "stream",
     "text": [
      " * sqlite:///phonesData.db\n",
      "Done.\n"
     ]
    },
    {
     "data": {
      "text/html": [
       "<table>\n",
       "    <tr>\n",
       "        <th>name</th>\n",
       "        <th>surname</th>\n",
       "        <th>age</th>\n",
       "    </tr>\n",
       "    <tr>\n",
       "        <td>Юра</td>\n",
       "        <td>Юркин</td>\n",
       "        <td>25</td>\n",
       "    </tr>\n",
       "    <tr>\n",
       "        <td>Юра</td>\n",
       "        <td>Юркин</td>\n",
       "        <td>25</td>\n",
       "    </tr>\n",
       "    <tr>\n",
       "        <td>Саша</td>\n",
       "        <td>Сашкин</td>\n",
       "        <td>35</td>\n",
       "    </tr>\n",
       "    <tr>\n",
       "        <td>Саша</td>\n",
       "        <td>Сашкин</td>\n",
       "        <td>35</td>\n",
       "    </tr>\n",
       "    <tr>\n",
       "        <td>Петя</td>\n",
       "        <td>Петькин</td>\n",
       "        <td>30</td>\n",
       "    </tr>\n",
       "    <tr>\n",
       "        <td>Петя</td>\n",
       "        <td>Петькин</td>\n",
       "        <td>30</td>\n",
       "    </tr>\n",
       "    <tr>\n",
       "        <td>Максим</td>\n",
       "        <td>Воронин</td>\n",
       "        <td>22</td>\n",
       "    </tr>\n",
       "    <tr>\n",
       "        <td>Максим</td>\n",
       "        <td>Воронин</td>\n",
       "        <td>22</td>\n",
       "    </tr>\n",
       "    <tr>\n",
       "        <td>Катя</td>\n",
       "        <td>Катькина</td>\n",
       "        <td>25</td>\n",
       "    </tr>\n",
       "    <tr>\n",
       "        <td>Катя</td>\n",
       "        <td>Катькина</td>\n",
       "        <td>25</td>\n",
       "    </tr>\n",
       "    <tr>\n",
       "        <td>Иван</td>\n",
       "        <td>Иванов</td>\n",
       "        <td>59</td>\n",
       "    </tr>\n",
       "    <tr>\n",
       "        <td>Иван</td>\n",
       "        <td>Иванов</td>\n",
       "        <td>59</td>\n",
       "    </tr>\n",
       "    <tr>\n",
       "        <td>Вася</td>\n",
       "        <td>Васькин</td>\n",
       "        <td>60</td>\n",
       "    </tr>\n",
       "    <tr>\n",
       "        <td>Вася</td>\n",
       "        <td>Васькин</td>\n",
       "        <td>60</td>\n",
       "    </tr>\n",
       "</table>"
      ],
      "text/plain": [
       "[('Юра', 'Юркин', 25),\n",
       " ('Юра', 'Юркин', 25),\n",
       " ('Саша', 'Сашкин', 35),\n",
       " ('Саша', 'Сашкин', 35),\n",
       " ('Петя', 'Петькин', 30),\n",
       " ('Петя', 'Петькин', 30),\n",
       " ('Максим', 'Воронин', 22),\n",
       " ('Максим', 'Воронин', 22),\n",
       " ('Катя', 'Катькина', 25),\n",
       " ('Катя', 'Катькина', 25),\n",
       " ('Иван', 'Иванов', 59),\n",
       " ('Иван', 'Иванов', 59),\n",
       " ('Вася', 'Васькин', 60),\n",
       " ('Вася', 'Васькин', 60)]"
      ]
     },
     "execution_count": 25,
     "metadata": {},
     "output_type": "execute_result"
    }
   ],
   "source": [
    "%sql select name, surname, age from workers order by name desc"
   ]
  },
  {
   "cell_type": "code",
   "execution_count": 26,
   "metadata": {},
   "outputs": [
    {
     "name": "stdout",
     "output_type": "stream",
     "text": [
      " * sqlite:///phonesData.db\n",
      "Done.\n"
     ]
    },
    {
     "data": {
      "text/html": [
       "<table>\n",
       "    <tr>\n",
       "        <th>id</th>\n",
       "        <th>name</th>\n",
       "        <th>surname</th>\n",
       "        <th>specialty</th>\n",
       "        <th>seniority</th>\n",
       "        <th>salary</th>\n",
       "        <th>age</th>\n",
       "    </tr>\n",
       "    <tr>\n",
       "        <td>1</td>\n",
       "        <td>Вася</td>\n",
       "        <td>Васькин</td>\n",
       "        <td>Начальник</td>\n",
       "        <td>40</td>\n",
       "        <td>100000</td>\n",
       "        <td>60</td>\n",
       "    </tr>\n",
       "    <tr>\n",
       "        <td>8</td>\n",
       "        <td>Вася</td>\n",
       "        <td>Васькин</td>\n",
       "        <td>Начальник</td>\n",
       "        <td>40</td>\n",
       "        <td>100000</td>\n",
       "        <td>60</td>\n",
       "    </tr>\n",
       "    <tr>\n",
       "        <td>5</td>\n",
       "        <td>Иван</td>\n",
       "        <td>Иванов</td>\n",
       "        <td>Рабочий</td>\n",
       "        <td>40</td>\n",
       "        <td>30000</td>\n",
       "        <td>59</td>\n",
       "    </tr>\n",
       "    <tr>\n",
       "        <td>12</td>\n",
       "        <td>Иван</td>\n",
       "        <td>Иванов</td>\n",
       "        <td>Рабочий</td>\n",
       "        <td>40</td>\n",
       "        <td>30000</td>\n",
       "        <td>59</td>\n",
       "    </tr>\n",
       "    <tr>\n",
       "        <td>3</td>\n",
       "        <td>Катя</td>\n",
       "        <td>Катькина</td>\n",
       "        <td>Инженер</td>\n",
       "        <td>2</td>\n",
       "        <td>70000</td>\n",
       "        <td>25</td>\n",
       "    </tr>\n",
       "    <tr>\n",
       "        <td>10</td>\n",
       "        <td>Катя</td>\n",
       "        <td>Катькина</td>\n",
       "        <td>Инженер</td>\n",
       "        <td>2</td>\n",
       "        <td>70000</td>\n",
       "        <td>25</td>\n",
       "    </tr>\n",
       "    <tr>\n",
       "        <td>7</td>\n",
       "        <td>Максим</td>\n",
       "        <td>Воронин</td>\n",
       "        <td>Рабочий</td>\n",
       "        <td>2</td>\n",
       "        <td>11000</td>\n",
       "        <td>22</td>\n",
       "    </tr>\n",
       "    <tr>\n",
       "        <td>14</td>\n",
       "        <td>Максим</td>\n",
       "        <td>Воронин</td>\n",
       "        <td>Рабочий</td>\n",
       "        <td>2</td>\n",
       "        <td>11000</td>\n",
       "        <td>22</td>\n",
       "    </tr>\n",
       "    <tr>\n",
       "        <td>2</td>\n",
       "        <td>Петя</td>\n",
       "        <td>Петькин</td>\n",
       "        <td>Начальник</td>\n",
       "        <td>8</td>\n",
       "        <td>70000</td>\n",
       "        <td>30</td>\n",
       "    </tr>\n",
       "    <tr>\n",
       "        <td>9</td>\n",
       "        <td>Петя</td>\n",
       "        <td>Петькин</td>\n",
       "        <td>Начальник</td>\n",
       "        <td>8</td>\n",
       "        <td>70000</td>\n",
       "        <td>30</td>\n",
       "    </tr>\n",
       "</table>"
      ],
      "text/plain": [
       "[(1, 'Вася', 'Васькин', 'Начальник', 40, 100000, 60),\n",
       " (8, 'Вася', 'Васькин', 'Начальник', 40, 100000, 60),\n",
       " (5, 'Иван', 'Иванов', 'Рабочий', 40, 30000, 59),\n",
       " (12, 'Иван', 'Иванов', 'Рабочий', 40, 30000, 59),\n",
       " (3, 'Катя', 'Катькина', 'Инженер', 2, 70000, 25),\n",
       " (10, 'Катя', 'Катькина', 'Инженер', 2, 70000, 25),\n",
       " (7, 'Максим', 'Воронин', 'Рабочий', 2, 11000, 22),\n",
       " (14, 'Максим', 'Воронин', 'Рабочий', 2, 11000, 22),\n",
       " (2, 'Петя', 'Петькин', 'Начальник', 8, 70000, 30),\n",
       " (9, 'Петя', 'Петькин', 'Начальник', 8, 70000, 30)]"
      ]
     },
     "execution_count": 26,
     "metadata": {},
     "output_type": "execute_result"
    }
   ],
   "source": [
    "%sql select * from workers order by name, age desc limit 10"
   ]
  },
  {
   "cell_type": "code",
   "execution_count": 27,
   "metadata": {},
   "outputs": [
    {
     "name": "stdout",
     "output_type": "stream",
     "text": [
      " * sqlite:///phonesData.db\n",
      "Done.\n"
     ]
    },
    {
     "data": {
      "text/html": [
       "<table>\n",
       "    <tr>\n",
       "        <th>id</th>\n",
       "        <th>name</th>\n",
       "        <th>surname</th>\n",
       "        <th>specialty</th>\n",
       "        <th>seniority</th>\n",
       "        <th>salary</th>\n",
       "        <th>age</th>\n",
       "    </tr>\n",
       "    <tr>\n",
       "        <td>12</td>\n",
       "        <td>Иван</td>\n",
       "        <td>Иванов</td>\n",
       "        <td>Рабочий</td>\n",
       "        <td>40</td>\n",
       "        <td>30000</td>\n",
       "        <td>59</td>\n",
       "    </tr>\n",
       "    <tr>\n",
       "        <td>11</td>\n",
       "        <td>Саша</td>\n",
       "        <td>Сашкин</td>\n",
       "        <td>Инженер</td>\n",
       "        <td>12</td>\n",
       "        <td>50000</td>\n",
       "        <td>35</td>\n",
       "    </tr>\n",
       "    <tr>\n",
       "        <td>10</td>\n",
       "        <td>Катя</td>\n",
       "        <td>Катькина</td>\n",
       "        <td>Инженер</td>\n",
       "        <td>2</td>\n",
       "        <td>70000</td>\n",
       "        <td>25</td>\n",
       "    </tr>\n",
       "</table>"
      ],
      "text/plain": [
       "[(12, 'Иван', 'Иванов', 'Рабочий', 40, 30000, 59),\n",
       " (11, 'Саша', 'Сашкин', 'Инженер', 12, 50000, 35),\n",
       " (10, 'Катя', 'Катькина', 'Инженер', 2, 70000, 25)]"
      ]
     },
     "execution_count": 27,
     "metadata": {},
     "output_type": "execute_result"
    }
   ],
   "source": [
    "%sql select * from workers order by id desc limit 2,3 "
   ]
  },
  {
   "cell_type": "code",
   "execution_count": 28,
   "metadata": {},
   "outputs": [
    {
     "name": "stdout",
     "output_type": "stream",
     "text": [
      " * sqlite:///phonesData.db\n",
      "Done.\n"
     ]
    },
    {
     "data": {
      "text/html": [
       "<table>\n",
       "    <tr>\n",
       "        <th>sum(salary)</th>\n",
       "    </tr>\n",
       "    <tr>\n",
       "        <td>692000</td>\n",
       "    </tr>\n",
       "</table>"
      ],
      "text/plain": [
       "[(692000,)]"
      ]
     },
     "execution_count": 28,
     "metadata": {},
     "output_type": "execute_result"
    }
   ],
   "source": [
    "%sql select sum(salary) from workers"
   ]
  },
  {
   "cell_type": "code",
   "execution_count": 29,
   "metadata": {},
   "outputs": [
    {
     "name": "stdout",
     "output_type": "stream",
     "text": [
      " * sqlite:///phonesData.db\n",
      "Done.\n"
     ]
    },
    {
     "data": {
      "text/html": [
       "<table>\n",
       "    <tr>\n",
       "        <th>sum(salary)</th>\n",
       "    </tr>\n",
       "    <tr>\n",
       "        <td>240000</td>\n",
       "    </tr>\n",
       "    <tr>\n",
       "        <td>340000</td>\n",
       "    </tr>\n",
       "    <tr>\n",
       "        <td>112000</td>\n",
       "    </tr>\n",
       "</table>"
      ],
      "text/plain": [
       "[(240000,), (340000,), (112000,)]"
      ]
     },
     "execution_count": 29,
     "metadata": {},
     "output_type": "execute_result"
    }
   ],
   "source": [
    "%sql select sum(salary) from workers group by specialty"
   ]
  },
  {
   "cell_type": "markdown",
   "metadata": {},
   "source": [
    "Сгруппируйте поля по возрасту (будет 3 группы - 23 года, 24 года и 25 лет). Для каждой группы  найдите суммарную зарплату"
   ]
  },
  {
   "cell_type": "code",
   "execution_count": 30,
   "metadata": {},
   "outputs": [
    {
     "name": "stdout",
     "output_type": "stream",
     "text": [
      " * sqlite:///phonesData.db\n",
      "Done.\n"
     ]
    },
    {
     "data": {
      "text/html": [
       "<table>\n",
       "    <tr>\n",
       "        <th>age</th>\n",
       "        <th>total_salary</th>\n",
       "    </tr>\n",
       "    <tr>\n",
       "        <td>22</td>\n",
       "        <td>22000</td>\n",
       "    </tr>\n",
       "    <tr>\n",
       "        <td>25</td>\n",
       "        <td>170000</td>\n",
       "    </tr>\n",
       "    <tr>\n",
       "        <td>30</td>\n",
       "        <td>140000</td>\n",
       "    </tr>\n",
       "    <tr>\n",
       "        <td>35</td>\n",
       "        <td>100000</td>\n",
       "    </tr>\n",
       "    <tr>\n",
       "        <td>59</td>\n",
       "        <td>60000</td>\n",
       "    </tr>\n",
       "    <tr>\n",
       "        <td>60</td>\n",
       "        <td>200000</td>\n",
       "    </tr>\n",
       "</table>"
      ],
      "text/plain": [
       "[(22, 22000),\n",
       " (25, 170000),\n",
       " (30, 140000),\n",
       " (35, 100000),\n",
       " (59, 60000),\n",
       " (60, 200000)]"
      ]
     },
     "execution_count": 30,
     "metadata": {},
     "output_type": "execute_result"
    }
   ],
   "source": [
    "%%sql\n",
    "SELECT age, SUM(salary) AS total_salary\n",
    "FROM workers\n",
    "GROUP BY age"
   ]
  },
  {
   "cell_type": "code",
   "execution_count": 31,
   "metadata": {},
   "outputs": [
    {
     "name": "stdout",
     "output_type": "stream",
     "text": [
      " * sqlite:///phonesData.db\n",
      "Done.\n"
     ]
    },
    {
     "data": {
      "text/html": [
       "<table>\n",
       "    <tr>\n",
       "        <th>age</th>\n",
       "        <th>total_salary</th>\n",
       "    </tr>\n",
       "    <tr>\n",
       "        <td>22</td>\n",
       "        <td>11000</td>\n",
       "    </tr>\n",
       "    <tr>\n",
       "        <td>25</td>\n",
       "        <td>70000</td>\n",
       "    </tr>\n",
       "    <tr>\n",
       "        <td>30</td>\n",
       "        <td>70000</td>\n",
       "    </tr>\n",
       "    <tr>\n",
       "        <td>35</td>\n",
       "        <td>50000</td>\n",
       "    </tr>\n",
       "    <tr>\n",
       "        <td>59</td>\n",
       "        <td>30000</td>\n",
       "    </tr>\n",
       "    <tr>\n",
       "        <td>60</td>\n",
       "        <td>100000</td>\n",
       "    </tr>\n",
       "</table>"
      ],
      "text/plain": [
       "[(22, 11000), (25, 70000), (30, 70000), (35, 50000), (59, 30000), (60, 100000)]"
      ]
     },
     "execution_count": 31,
     "metadata": {},
     "output_type": "execute_result"
    }
   ],
   "source": [
    "%%sql\n",
    "SELECT age, MAX(salary) AS total_salary\n",
    "FROM workers\n",
    "GROUP BY age"
   ]
  },
  {
   "cell_type": "code",
   "execution_count": 32,
   "metadata": {},
   "outputs": [
    {
     "name": "stdout",
     "output_type": "stream",
     "text": [
      " * sqlite:///phonesData.db\n",
      "Done.\n"
     ]
    },
    {
     "data": {
      "text/html": [
       "<table>\n",
       "    <tr>\n",
       "        <th>age</th>\n",
       "        <th>total_salary</th>\n",
       "    </tr>\n",
       "    <tr>\n",
       "        <td>25</td>\n",
       "        <td>170000</td>\n",
       "    </tr>\n",
       "    <tr>\n",
       "        <td>30</td>\n",
       "        <td>140000</td>\n",
       "    </tr>\n",
       "    <tr>\n",
       "        <td>35</td>\n",
       "        <td>100000</td>\n",
       "    </tr>\n",
       "    <tr>\n",
       "        <td>59</td>\n",
       "        <td>60000</td>\n",
       "    </tr>\n",
       "    <tr>\n",
       "        <td>60</td>\n",
       "        <td>200000</td>\n",
       "    </tr>\n",
       "</table>"
      ],
      "text/plain": [
       "[(25, 170000), (30, 140000), (35, 100000), (59, 60000), (60, 200000)]"
      ]
     },
     "execution_count": 32,
     "metadata": {},
     "output_type": "execute_result"
    }
   ],
   "source": [
    "%%sql\n",
    "SELECT age, SUM(salary) AS total_salary\n",
    "FROM workers\n",
    "GROUP BY age\n",
    "having total_salary  >=50000"
   ]
  },
  {
   "cell_type": "code",
   "execution_count": 33,
   "metadata": {},
   "outputs": [
    {
     "name": "stdout",
     "output_type": "stream",
     "text": [
      " * sqlite:///phonesData.db\n",
      "Done.\n"
     ]
    },
    {
     "data": {
      "text/html": [
       "<table>\n",
       "    <tr>\n",
       "        <th>id</th>\n",
       "        <th>name</th>\n",
       "        <th>surname</th>\n",
       "        <th>specialty</th>\n",
       "        <th>seniority</th>\n",
       "        <th>salary</th>\n",
       "        <th>age</th>\n",
       "    </tr>\n",
       "    <tr>\n",
       "        <td>1</td>\n",
       "        <td>Вася</td>\n",
       "        <td>Васькин</td>\n",
       "        <td>Начальник</td>\n",
       "        <td>40</td>\n",
       "        <td>100000</td>\n",
       "        <td>60</td>\n",
       "    </tr>\n",
       "    <tr>\n",
       "        <td>2</td>\n",
       "        <td>Петя</td>\n",
       "        <td>Петькин</td>\n",
       "        <td>Начальник</td>\n",
       "        <td>8</td>\n",
       "        <td>70000</td>\n",
       "        <td>30</td>\n",
       "    </tr>\n",
       "    <tr>\n",
       "        <td>3</td>\n",
       "        <td>Катя</td>\n",
       "        <td>Катькина</td>\n",
       "        <td>Инженер</td>\n",
       "        <td>2</td>\n",
       "        <td>70000</td>\n",
       "        <td>25</td>\n",
       "    </tr>\n",
       "    <tr>\n",
       "        <td>4</td>\n",
       "        <td>Саша</td>\n",
       "        <td>Сашкин</td>\n",
       "        <td>Инженер</td>\n",
       "        <td>12</td>\n",
       "        <td>50000</td>\n",
       "        <td>35</td>\n",
       "    </tr>\n",
       "    <tr>\n",
       "        <td>5</td>\n",
       "        <td>Иван</td>\n",
       "        <td>Иванов</td>\n",
       "        <td>Рабочий</td>\n",
       "        <td>40</td>\n",
       "        <td>30000</td>\n",
       "        <td>59</td>\n",
       "    </tr>\n",
       "    <tr>\n",
       "        <td>6</td>\n",
       "        <td>Юра</td>\n",
       "        <td>Юркин</td>\n",
       "        <td>Рабочий</td>\n",
       "        <td>5</td>\n",
       "        <td>15000</td>\n",
       "        <td>25</td>\n",
       "    </tr>\n",
       "    <tr>\n",
       "        <td>7</td>\n",
       "        <td>Максим</td>\n",
       "        <td>Воронин</td>\n",
       "        <td>Рабочий</td>\n",
       "        <td>2</td>\n",
       "        <td>11000</td>\n",
       "        <td>22</td>\n",
       "    </tr>\n",
       "    <tr>\n",
       "        <td>8</td>\n",
       "        <td>Вася</td>\n",
       "        <td>Васькин</td>\n",
       "        <td>Начальник</td>\n",
       "        <td>40</td>\n",
       "        <td>100000</td>\n",
       "        <td>60</td>\n",
       "    </tr>\n",
       "    <tr>\n",
       "        <td>9</td>\n",
       "        <td>Петя</td>\n",
       "        <td>Петькин</td>\n",
       "        <td>Начальник</td>\n",
       "        <td>8</td>\n",
       "        <td>70000</td>\n",
       "        <td>30</td>\n",
       "    </tr>\n",
       "    <tr>\n",
       "        <td>10</td>\n",
       "        <td>Катя</td>\n",
       "        <td>Катькина</td>\n",
       "        <td>Инженер</td>\n",
       "        <td>2</td>\n",
       "        <td>70000</td>\n",
       "        <td>25</td>\n",
       "    </tr>\n",
       "    <tr>\n",
       "        <td>11</td>\n",
       "        <td>Саша</td>\n",
       "        <td>Сашкин</td>\n",
       "        <td>Инженер</td>\n",
       "        <td>12</td>\n",
       "        <td>50000</td>\n",
       "        <td>35</td>\n",
       "    </tr>\n",
       "    <tr>\n",
       "        <td>12</td>\n",
       "        <td>Иван</td>\n",
       "        <td>Иванов</td>\n",
       "        <td>Рабочий</td>\n",
       "        <td>40</td>\n",
       "        <td>30000</td>\n",
       "        <td>59</td>\n",
       "    </tr>\n",
       "    <tr>\n",
       "        <td>13</td>\n",
       "        <td>Юра</td>\n",
       "        <td>Юркин</td>\n",
       "        <td>Рабочий</td>\n",
       "        <td>5</td>\n",
       "        <td>15000</td>\n",
       "        <td>25</td>\n",
       "    </tr>\n",
       "    <tr>\n",
       "        <td>14</td>\n",
       "        <td>Максим</td>\n",
       "        <td>Воронин</td>\n",
       "        <td>Рабочий</td>\n",
       "        <td>2</td>\n",
       "        <td>11000</td>\n",
       "        <td>22</td>\n",
       "    </tr>\n",
       "</table>"
      ],
      "text/plain": [
       "[(1, 'Вася', 'Васькин', 'Начальник', 40, 100000, 60),\n",
       " (2, 'Петя', 'Петькин', 'Начальник', 8, 70000, 30),\n",
       " (3, 'Катя', 'Катькина', 'Инженер', 2, 70000, 25),\n",
       " (4, 'Саша', 'Сашкин', 'Инженер', 12, 50000, 35),\n",
       " (5, 'Иван', 'Иванов', 'Рабочий', 40, 30000, 59),\n",
       " (6, 'Юра', 'Юркин', 'Рабочий', 5, 15000, 25),\n",
       " (7, 'Максим', 'Воронин', 'Рабочий', 2, 11000, 22),\n",
       " (8, 'Вася', 'Васькин', 'Начальник', 40, 100000, 60),\n",
       " (9, 'Петя', 'Петькин', 'Начальник', 8, 70000, 30),\n",
       " (10, 'Катя', 'Катькина', 'Инженер', 2, 70000, 25),\n",
       " (11, 'Саша', 'Сашкин', 'Инженер', 12, 50000, 35),\n",
       " (12, 'Иван', 'Иванов', 'Рабочий', 40, 30000, 59),\n",
       " (13, 'Юра', 'Юркин', 'Рабочий', 5, 15000, 25),\n",
       " (14, 'Максим', 'Воронин', 'Рабочий', 2, 11000, 22)]"
      ]
     },
     "execution_count": 33,
     "metadata": {},
     "output_type": "execute_result"
    }
   ],
   "source": [
    "%sql select * from workers"
   ]
  },
  {
   "cell_type": "code",
   "execution_count": 34,
   "metadata": {},
   "outputs": [
    {
     "name": "stdout",
     "output_type": "stream",
     "text": [
      " * sqlite:///phonesData.db\n",
      "Done.\n"
     ]
    },
    {
     "data": {
      "text/html": [
       "<table>\n",
       "    <tr>\n",
       "        <th>age</th>\n",
       "    </tr>\n",
       "    <tr>\n",
       "        <td>22</td>\n",
       "    </tr>\n",
       "    <tr>\n",
       "        <td>30</td>\n",
       "    </tr>\n",
       "    <tr>\n",
       "        <td>35</td>\n",
       "    </tr>\n",
       "    <tr>\n",
       "        <td>59</td>\n",
       "    </tr>\n",
       "    <tr>\n",
       "        <td>60</td>\n",
       "    </tr>\n",
       "</table>"
      ],
      "text/plain": [
       "[(22,), (30,), (35,), (59,), (60,)]"
      ]
     },
     "execution_count": 34,
     "metadata": {},
     "output_type": "execute_result"
    }
   ],
   "source": [
    "%%sql\n",
    "SELECT age\n",
    "FROM workers\n",
    "GROUP BY age\n",
    "having count(age) <=2"
   ]
  },
  {
   "cell_type": "code",
   "execution_count": 35,
   "metadata": {},
   "outputs": [
    {
     "name": "stdout",
     "output_type": "stream",
     "text": [
      " * sqlite:///phonesData.db\n",
      "Done.\n"
     ]
    },
    {
     "data": {
      "text/html": [
       "<table>\n",
       "    <tr>\n",
       "        <th>age</th>\n",
       "        <th>row_count</th>\n",
       "    </tr>\n",
       "    <tr>\n",
       "        <td>22</td>\n",
       "        <td>2</td>\n",
       "    </tr>\n",
       "    <tr>\n",
       "        <td>30</td>\n",
       "        <td>2</td>\n",
       "    </tr>\n",
       "    <tr>\n",
       "        <td>35</td>\n",
       "        <td>2</td>\n",
       "    </tr>\n",
       "    <tr>\n",
       "        <td>59</td>\n",
       "        <td>2</td>\n",
       "    </tr>\n",
       "    <tr>\n",
       "        <td>60</td>\n",
       "        <td>2</td>\n",
       "    </tr>\n",
       "</table>"
      ],
      "text/plain": [
       "[(22, 2), (30, 2), (35, 2), (59, 2), (60, 2)]"
      ]
     },
     "execution_count": 35,
     "metadata": {},
     "output_type": "execute_result"
    }
   ],
   "source": [
    "%%sql\n",
    "SELECT age, COUNT(*) AS row_count\n",
    "FROM workers\n",
    "GROUP BY age\n",
    "HAVING COUNT(*) in  (1,2)"
   ]
  },
  {
   "cell_type": "code",
   "execution_count": 36,
   "metadata": {},
   "outputs": [
    {
     "name": "stdout",
     "output_type": "stream",
     "text": [
      " * sqlite:///phonesData.db\n",
      "Done.\n"
     ]
    },
    {
     "data": {
      "text/html": [
       "<table>\n",
       "    <tr>\n",
       "        <th>age</th>\n",
       "        <th>row_count</th>\n",
       "    </tr>\n",
       "    <tr>\n",
       "        <td>22</td>\n",
       "        <td>2</td>\n",
       "    </tr>\n",
       "    <tr>\n",
       "        <td>30</td>\n",
       "        <td>2</td>\n",
       "    </tr>\n",
       "    <tr>\n",
       "        <td>35</td>\n",
       "        <td>2</td>\n",
       "    </tr>\n",
       "    <tr>\n",
       "        <td>59</td>\n",
       "        <td>2</td>\n",
       "    </tr>\n",
       "    <tr>\n",
       "        <td>60</td>\n",
       "        <td>2</td>\n",
       "    </tr>\n",
       "</table>"
      ],
      "text/plain": [
       "[(22, 2), (30, 2), (35, 2), (59, 2), (60, 2)]"
      ]
     },
     "execution_count": 36,
     "metadata": {},
     "output_type": "execute_result"
    }
   ],
   "source": [
    "%%sql\n",
    "SELECT age, COUNT(*) AS row_count\n",
    "FROM workers\n",
    "GROUP BY age\n",
    "HAVING COUNT(*) between  1 and 2"
   ]
  }
 ],
 "metadata": {
  "kernelspec": {
   "display_name": "Python 3",
   "language": "python",
   "name": "python3"
  },
  "language_info": {
   "codemirror_mode": {
    "name": "ipython",
    "version": 3
   },
   "file_extension": ".py",
   "mimetype": "text/x-python",
   "name": "python",
   "nbconvert_exporter": "python",
   "pygments_lexer": "ipython3",
   "version": "3.11.1"
  },
  "orig_nbformat": 4
 },
 "nbformat": 4,
 "nbformat_minor": 2
}
