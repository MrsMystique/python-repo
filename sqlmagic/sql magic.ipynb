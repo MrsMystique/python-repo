{
 "cells": [
  {
   "cell_type": "code",
   "execution_count": 1,
   "metadata": {},
   "outputs": [],
   "source": [
    "%load_ext sql\n"
   ]
  },
  {
   "cell_type": "code",
   "execution_count": 2,
   "metadata": {},
   "outputs": [],
   "source": [
    "%sql sqlite:///phonesData.db"
   ]
  },
  {
   "cell_type": "code",
   "execution_count": 3,
   "metadata": {},
   "outputs": [
    {
     "name": "stdout",
     "output_type": "stream",
     "text": [
      " * sqlite:///phonesData.db\n",
      "Done.\n"
     ]
    },
    {
     "data": {
      "text/plain": [
       "[]"
      ]
     },
     "execution_count": 3,
     "metadata": {},
     "output_type": "execute_result"
    }
   ],
   "source": [
    "%%sql \n",
    "CREATE TABLE if not exists phones(\n",
    "    id INTEGER PRIMARY KEY AUTOINCREMENT,\n",
    "    ProductName VARCHAR(30) NOT NULL,\n",
    "    Manufacturer VARCHAR(30) NOT NULL,\n",
    "    ProductCount INTEGER NOT NULL,\n",
    "    Price INTEGER NOT NULL\n",
    ")"
   ]
  },
  {
   "cell_type": "code",
   "execution_count": 4,
   "metadata": {},
   "outputs": [
    {
     "name": "stdout",
     "output_type": "stream",
     "text": [
      " * sqlite:///phonesData.db\n",
      "5 rows affected.\n"
     ]
    },
    {
     "data": {
      "text/plain": [
       "[]"
      ]
     },
     "execution_count": 4,
     "metadata": {},
     "output_type": "execute_result"
    }
   ],
   "source": [
    "%%sql\n",
    "\n",
    "INSERT INTO phones (ProductName, Manufacturer, ProductCount, Price)\n",
    "VALUES ('iPhone X', 'Apple', 3, 76000),\n",
    "    ('iPhone 8', 'Apple', 2, 51000),\n",
    "    ('Galaxy S9', 'Samsung', 2, 56000),\n",
    "    ('Galaxy S8', 'Samsung', 1, 41000),\n",
    "    ('P20 Pro', 'Huawei', 5, 36000)"
   ]
  },
  {
   "cell_type": "code",
   "execution_count": 5,
   "metadata": {},
   "outputs": [
    {
     "name": "stdout",
     "output_type": "stream",
     "text": [
      " * sqlite:///phonesData.db\n",
      "Done.\n"
     ]
    },
    {
     "data": {
      "text/html": [
       "<table>\n",
       "    <tr>\n",
       "        <th>id</th>\n",
       "        <th>ProductName</th>\n",
       "        <th>Manufacturer</th>\n",
       "        <th>ProductCount</th>\n",
       "        <th>Price</th>\n",
       "    </tr>\n",
       "    <tr>\n",
       "        <td>1</td>\n",
       "        <td>iPhone X</td>\n",
       "        <td>Apple</td>\n",
       "        <td>3</td>\n",
       "        <td>76000</td>\n",
       "    </tr>\n",
       "    <tr>\n",
       "        <td>2</td>\n",
       "        <td>iPhone 8</td>\n",
       "        <td>Apple</td>\n",
       "        <td>2</td>\n",
       "        <td>51000</td>\n",
       "    </tr>\n",
       "    <tr>\n",
       "        <td>3</td>\n",
       "        <td>Galaxy S9</td>\n",
       "        <td>Samsung</td>\n",
       "        <td>2</td>\n",
       "        <td>56000</td>\n",
       "    </tr>\n",
       "    <tr>\n",
       "        <td>4</td>\n",
       "        <td>Galaxy S8</td>\n",
       "        <td>Samsung</td>\n",
       "        <td>1</td>\n",
       "        <td>41000</td>\n",
       "    </tr>\n",
       "    <tr>\n",
       "        <td>5</td>\n",
       "        <td>P20 Pro</td>\n",
       "        <td>Huawei</td>\n",
       "        <td>5</td>\n",
       "        <td>36000</td>\n",
       "    </tr>\n",
       "</table>"
      ],
      "text/plain": [
       "[(1, 'iPhone X', 'Apple', 3, 76000),\n",
       " (2, 'iPhone 8', 'Apple', 2, 51000),\n",
       " (3, 'Galaxy S9', 'Samsung', 2, 56000),\n",
       " (4, 'Galaxy S8', 'Samsung', 1, 41000),\n",
       " (5, 'P20 Pro', 'Huawei', 5, 36000)]"
      ]
     },
     "execution_count": 5,
     "metadata": {},
     "output_type": "execute_result"
    }
   ],
   "source": [
    "%sql select * from phones\n"
   ]
  },
  {
   "cell_type": "code",
   "execution_count": 6,
   "metadata": {},
   "outputs": [
    {
     "name": "stdout",
     "output_type": "stream",
     "text": [
      " * sqlite:///phonesData.db\n",
      "Done.\n"
     ]
    },
    {
     "data": {
      "text/html": [
       "<table>\n",
       "    <tr>\n",
       "        <th>ProductName</th>\n",
       "        <th>Manufacturer</th>\n",
       "        <th>Price</th>\n",
       "    </tr>\n",
       "    <tr>\n",
       "        <td>iPhone X</td>\n",
       "        <td>Apple</td>\n",
       "        <td>76000</td>\n",
       "    </tr>\n",
       "    <tr>\n",
       "        <td>P20 Pro</td>\n",
       "        <td>Huawei</td>\n",
       "        <td>36000</td>\n",
       "    </tr>\n",
       "</table>"
      ],
      "text/plain": [
       "[('iPhone X', 'Apple', 76000), ('P20 Pro', 'Huawei', 36000)]"
      ]
     },
     "execution_count": 6,
     "metadata": {},
     "output_type": "execute_result"
    }
   ],
   "source": [
    "%%sql \n",
    "SELECT ProductName, Manufacturer, Price \n",
    "FROM phones \n",
    "WHERE ProductCount > 2"
   ]
  },
  {
   "cell_type": "code",
   "execution_count": 7,
   "metadata": {},
   "outputs": [
    {
     "name": "stdout",
     "output_type": "stream",
     "text": [
      " * sqlite:///phonesData.db\n",
      "Done.\n"
     ]
    },
    {
     "data": {
      "text/html": [
       "<table>\n",
       "    <tr>\n",
       "        <th>ProductName</th>\n",
       "        <th>Price</th>\n",
       "        <th>ProductCount</th>\n",
       "    </tr>\n",
       "    <tr>\n",
       "        <td>Galaxy S9</td>\n",
       "        <td>56000</td>\n",
       "        <td>2</td>\n",
       "    </tr>\n",
       "    <tr>\n",
       "        <td>Galaxy S8</td>\n",
       "        <td>41000</td>\n",
       "        <td>1</td>\n",
       "    </tr>\n",
       "</table>"
      ],
      "text/plain": [
       "[('Galaxy S9', 56000, 2), ('Galaxy S8', 41000, 1)]"
      ]
     },
     "execution_count": 7,
     "metadata": {},
     "output_type": "execute_result"
    }
   ],
   "source": [
    "%%sql \n",
    "SELECT ProductName, Price, ProductCount \n",
    "FROM phones \n",
    "WHERE Manufacturer = 'Samsung'"
   ]
  },
  {
   "cell_type": "code",
   "execution_count": 8,
   "metadata": {},
   "outputs": [
    {
     "name": "stdout",
     "output_type": "stream",
     "text": [
      " * sqlite:///phonesData.db\n",
      "Done.\n"
     ]
    },
    {
     "data": {
      "text/html": [
       "<table>\n",
       "    <tr>\n",
       "        <th>id</th>\n",
       "        <th>ProductName</th>\n",
       "        <th>Manufacturer</th>\n",
       "        <th>ProductCount</th>\n",
       "        <th>Price</th>\n",
       "    </tr>\n",
       "    <tr>\n",
       "        <td>1</td>\n",
       "        <td>iPhone X</td>\n",
       "        <td>Apple</td>\n",
       "        <td>3</td>\n",
       "        <td>76000</td>\n",
       "    </tr>\n",
       "    <tr>\n",
       "        <td>2</td>\n",
       "        <td>iPhone 8</td>\n",
       "        <td>Apple</td>\n",
       "        <td>2</td>\n",
       "        <td>51000</td>\n",
       "    </tr>\n",
       "</table>"
      ],
      "text/plain": [
       "[(1, 'iPhone X', 'Apple', 3, 76000), (2, 'iPhone 8', 'Apple', 2, 51000)]"
      ]
     },
     "execution_count": 8,
     "metadata": {},
     "output_type": "execute_result"
    }
   ],
   "source": [
    "%%sql \n",
    "SELECT * FROM phones \n",
    "WHERE ProductName LIKE '%Iphone%'"
   ]
  },
  {
   "cell_type": "code",
   "execution_count": 9,
   "metadata": {},
   "outputs": [
    {
     "name": "stdout",
     "output_type": "stream",
     "text": [
      " * sqlite:///phonesData.db\n",
      "Done.\n"
     ]
    },
    {
     "data": {
      "text/html": [
       "<table>\n",
       "    <tr>\n",
       "        <th>id</th>\n",
       "        <th>ProductName</th>\n",
       "        <th>Manufacturer</th>\n",
       "        <th>ProductCount</th>\n",
       "        <th>Price</th>\n",
       "    </tr>\n",
       "    <tr>\n",
       "        <td>3</td>\n",
       "        <td>Galaxy S9</td>\n",
       "        <td>Samsung</td>\n",
       "        <td>2</td>\n",
       "        <td>56000</td>\n",
       "    </tr>\n",
       "    <tr>\n",
       "        <td>4</td>\n",
       "        <td>Galaxy S8</td>\n",
       "        <td>Samsung</td>\n",
       "        <td>1</td>\n",
       "        <td>41000</td>\n",
       "    </tr>\n",
       "</table>"
      ],
      "text/plain": [
       "[(3, 'Galaxy S9', 'Samsung', 2, 56000), (4, 'Galaxy S8', 'Samsung', 1, 41000)]"
      ]
     },
     "execution_count": 9,
     "metadata": {},
     "output_type": "execute_result"
    }
   ],
   "source": [
    "%%sql \n",
    "SELECT * FROM phones \n",
    "WHERE Manufacturer LIKE '%Samsung%'"
   ]
  },
  {
   "cell_type": "code",
   "execution_count": 10,
   "metadata": {},
   "outputs": [
    {
     "name": "stdout",
     "output_type": "stream",
     "text": [
      " * sqlite:///phonesData.db\n",
      "Done.\n"
     ]
    },
    {
     "data": {
      "text/html": [
       "<table>\n",
       "    <tr>\n",
       "        <th>id</th>\n",
       "        <th>ProductName</th>\n",
       "        <th>Manufacturer</th>\n",
       "        <th>ProductCount</th>\n",
       "        <th>Price</th>\n",
       "    </tr>\n",
       "    <tr>\n",
       "        <td>2</td>\n",
       "        <td>iPhone 8</td>\n",
       "        <td>Apple</td>\n",
       "        <td>2</td>\n",
       "        <td>51000</td>\n",
       "    </tr>\n",
       "    <tr>\n",
       "        <td>3</td>\n",
       "        <td>Galaxy S9</td>\n",
       "        <td>Samsung</td>\n",
       "        <td>2</td>\n",
       "        <td>56000</td>\n",
       "    </tr>\n",
       "    <tr>\n",
       "        <td>4</td>\n",
       "        <td>Galaxy S8</td>\n",
       "        <td>Samsung</td>\n",
       "        <td>1</td>\n",
       "        <td>41000</td>\n",
       "    </tr>\n",
       "    <tr>\n",
       "        <td>5</td>\n",
       "        <td>P20 Pro</td>\n",
       "        <td>Huawei</td>\n",
       "        <td>5</td>\n",
       "        <td>36000</td>\n",
       "    </tr>\n",
       "</table>"
      ],
      "text/plain": [
       "[(2, 'iPhone 8', 'Apple', 2, 51000),\n",
       " (3, 'Galaxy S9', 'Samsung', 2, 56000),\n",
       " (4, 'Galaxy S8', 'Samsung', 1, 41000),\n",
       " (5, 'P20 Pro', 'Huawei', 5, 36000)]"
      ]
     },
     "execution_count": 10,
     "metadata": {},
     "output_type": "execute_result"
    }
   ],
   "source": [
    "%%sql \n",
    "SELECT * FROM phones \n",
    "WHERE ProductName REGEXP '[0-9]'"
   ]
  },
  {
   "cell_type": "code",
   "execution_count": 11,
   "metadata": {},
   "outputs": [
    {
     "name": "stdout",
     "output_type": "stream",
     "text": [
      " * sqlite:///phonesData.db\n",
      "Done.\n"
     ]
    },
    {
     "data": {
      "text/html": [
       "<table>\n",
       "    <tr>\n",
       "        <th>id</th>\n",
       "        <th>ProductName</th>\n",
       "        <th>Manufacturer</th>\n",
       "        <th>ProductCount</th>\n",
       "        <th>Price</th>\n",
       "    </tr>\n",
       "    <tr>\n",
       "        <td>2</td>\n",
       "        <td>iPhone 8</td>\n",
       "        <td>Apple</td>\n",
       "        <td>2</td>\n",
       "        <td>51000</td>\n",
       "    </tr>\n",
       "    <tr>\n",
       "        <td>4</td>\n",
       "        <td>Galaxy S8</td>\n",
       "        <td>Samsung</td>\n",
       "        <td>1</td>\n",
       "        <td>41000</td>\n",
       "    </tr>\n",
       "</table>"
      ],
      "text/plain": [
       "[(2, 'iPhone 8', 'Apple', 2, 51000), (4, 'Galaxy S8', 'Samsung', 1, 41000)]"
      ]
     },
     "execution_count": 11,
     "metadata": {},
     "output_type": "execute_result"
    }
   ],
   "source": [
    "%%sql \n",
    "SELECT * FROM phones \n",
    "WHERE ProductName LIKE '%8%'"
   ]
  }
 ],
 "metadata": {
  "kernelspec": {
   "display_name": "Python 3",
   "language": "python",
   "name": "python3"
  },
  "language_info": {
   "codemirror_mode": {
    "name": "ipython",
    "version": 3
   },
   "file_extension": ".py",
   "mimetype": "text/x-python",
   "name": "python",
   "nbconvert_exporter": "python",
   "pygments_lexer": "ipython3",
   "version": "3.11.1"
  },
  "orig_nbformat": 4
 },
 "nbformat": 4,
 "nbformat_minor": 2
}
