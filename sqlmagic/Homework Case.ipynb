{
 "cells": [
  {
   "cell_type": "markdown",
   "metadata": {},
   "source": [
    "# Homework 2\n",
    "\n",
    "**Case <- function**"
   ]
  },
  {
   "cell_type": "code",
   "execution_count": 2,
   "metadata": {},
   "outputs": [],
   "source": [
    "%load_ext sql\n",
    "%sql sqlite:///Sales.db"
   ]
  },
  {
   "cell_type": "markdown",
   "metadata": {},
   "source": [
    "# 1.\tИспользуя операторы языка SQL, \n",
    "создайте табличку “sales”. Заполните ее данными\n"
   ]
  },
  {
   "cell_type": "code",
   "execution_count": 3,
   "metadata": {},
   "outputs": [
    {
     "name": "stdout",
     "output_type": "stream",
     "text": [
      " * sqlite:///Sales.db\n",
      "Done.\n"
     ]
    },
    {
     "data": {
      "text/plain": [
       "[]"
      ]
     },
     "execution_count": 3,
     "metadata": {},
     "output_type": "execute_result"
    }
   ],
   "source": [
    "%%sql \n",
    "# Если id везде одинаковый, значит это либо ошибка либо это внешний ключ от таблицы orders. Но создаю как обычный айдишник с инкрементом\n",
    "CREATE TABLE if not exists sales(\n",
    "    id INTEGER PRIMARY KEY AUTOINCREMENT,\n",
    "    order_date DATE NOT NULL,\n",
    "    bucket VARCHAR(50) NOT NULL\n",
    ")"
   ]
  },
  {
   "cell_type": "code",
   "execution_count": 4,
   "metadata": {},
   "outputs": [
    {
     "name": "stdout",
     "output_type": "stream",
     "text": [
      " * sqlite:///Sales.db\n",
      "5 rows affected.\n"
     ]
    },
    {
     "data": {
      "text/plain": [
       "[]"
      ]
     },
     "execution_count": 4,
     "metadata": {},
     "output_type": "execute_result"
    }
   ],
   "source": [
    "%%sql\n",
    "INSERT INTO sales (order_date, bucket)\n",
    "VALUES ('2021-01-01', '101 to 300'),\n",
    "    ('2021-01-02', '101 to 300'),\n",
    "    ('2021-01-02', 'less than equal to 100'),\n",
    "    ('2021-01-04', '101 to 300'),\n",
    "    ('2021-01-05', 'greater than 300')"
   ]
  },
  {
   "cell_type": "code",
   "execution_count": 5,
   "metadata": {},
   "outputs": [
    {
     "name": "stdout",
     "output_type": "stream",
     "text": [
      " * sqlite:///Sales.db\n",
      "Done.\n"
     ]
    },
    {
     "data": {
      "text/html": [
       "<table>\n",
       "    <tr>\n",
       "        <th>id</th>\n",
       "        <th>order_date</th>\n",
       "        <th>bucket</th>\n",
       "    </tr>\n",
       "    <tr>\n",
       "        <td>1</td>\n",
       "        <td>2021-01-01</td>\n",
       "        <td>101 to 300</td>\n",
       "    </tr>\n",
       "    <tr>\n",
       "        <td>2</td>\n",
       "        <td>2021-01-02</td>\n",
       "        <td>101 to 300</td>\n",
       "    </tr>\n",
       "    <tr>\n",
       "        <td>3</td>\n",
       "        <td>2021-01-02</td>\n",
       "        <td>less than equal to 100</td>\n",
       "    </tr>\n",
       "    <tr>\n",
       "        <td>4</td>\n",
       "        <td>2021-01-04</td>\n",
       "        <td>101 to 300</td>\n",
       "    </tr>\n",
       "    <tr>\n",
       "        <td>5</td>\n",
       "        <td>2021-01-05</td>\n",
       "        <td>greater than 300</td>\n",
       "    </tr>\n",
       "</table>"
      ],
      "text/plain": [
       "[(1, '2021-01-01', '101 to 300'),\n",
       " (2, '2021-01-02', '101 to 300'),\n",
       " (3, '2021-01-02', 'less than equal to 100'),\n",
       " (4, '2021-01-04', '101 to 300'),\n",
       " (5, '2021-01-05', 'greater than 300')]"
      ]
     },
     "execution_count": 5,
     "metadata": {},
     "output_type": "execute_result"
    }
   ],
   "source": [
    "%sql SELECT * FROM sales"
   ]
  },
  {
   "cell_type": "code",
   "execution_count": 6,
   "metadata": {},
   "outputs": [
    {
     "name": "stdout",
     "output_type": "stream",
     "text": [
      " * sqlite:///Sales.db\n",
      "Done.\n"
     ]
    },
    {
     "data": {
      "text/html": [
       "<table>\n",
       "    <tr>\n",
       "        <th>id</th>\n",
       "        <th>order_date</th>\n",
       "        <th>bucket</th>\n",
       "        <th>Order_value</th>\n",
       "    </tr>\n",
       "    <tr>\n",
       "        <td>1</td>\n",
       "        <td>2021-01-01</td>\n",
       "        <td>101 to 300</td>\n",
       "        <td>Average order</td>\n",
       "    </tr>\n",
       "    <tr>\n",
       "        <td>2</td>\n",
       "        <td>2021-01-02</td>\n",
       "        <td>101 to 300</td>\n",
       "        <td>Average order</td>\n",
       "    </tr>\n",
       "    <tr>\n",
       "        <td>3</td>\n",
       "        <td>2021-01-02</td>\n",
       "        <td>less than equal to 100</td>\n",
       "        <td>Small order</td>\n",
       "    </tr>\n",
       "    <tr>\n",
       "        <td>4</td>\n",
       "        <td>2021-01-04</td>\n",
       "        <td>101 to 300</td>\n",
       "        <td>Average order</td>\n",
       "    </tr>\n",
       "    <tr>\n",
       "        <td>5</td>\n",
       "        <td>2021-01-05</td>\n",
       "        <td>greater than 300</td>\n",
       "        <td>Large order</td>\n",
       "    </tr>\n",
       "</table>"
      ],
      "text/plain": [
       "[(1, '2021-01-01', '101 to 300', 'Average order'),\n",
       " (2, '2021-01-02', '101 to 300', 'Average order'),\n",
       " (3, '2021-01-02', 'less than equal to 100', 'Small order'),\n",
       " (4, '2021-01-04', '101 to 300', 'Average order'),\n",
       " (5, '2021-01-05', 'greater than 300', 'Large order')]"
      ]
     },
     "execution_count": 6,
     "metadata": {},
     "output_type": "execute_result"
    }
   ],
   "source": [
    "%%sql \n",
    "\n",
    "SELECT *,\n",
    "CASE\n",
    "    WHEN bucket = '101 to 300' THEN 'Average order'\n",
    "    WHEN bucket = 'less than equal to 100' THEN 'Small order'\n",
    "    ELSE 'Large order'\n",
    "END AS Order_value\n",
    "\n",
    "FROM sales"
   ]
  },
  {
   "cell_type": "code",
   "execution_count": 7,
   "metadata": {},
   "outputs": [
    {
     "name": "stdout",
     "output_type": "stream",
     "text": [
      " * sqlite:///Sales.db\n",
      "Done.\n"
     ]
    },
    {
     "data": {
      "text/plain": [
       "[]"
      ]
     },
     "execution_count": 7,
     "metadata": {},
     "output_type": "execute_result"
    }
   ],
   "source": [
    "%%sql \n",
    "CREATE TABLE if not exists orders(\n",
    "    orderid INTEGER PRIMARY KEY AUTOINCREMENT,\n",
    "    employeeid CHAR(3) NOT NULL,\n",
    "    amount DECIMAL NOT NULL,\n",
    "    orderstatus VARCHAR(30) NOT NULL\n",
    ")"
   ]
  },
  {
   "cell_type": "markdown",
   "metadata": {},
   "source": [
    "# 3.\tСоздайте таблицу “orders”, заполните ее значениями. Покажите “полный” статус заказа, используя оператор CASE\n"
   ]
  },
  {
   "cell_type": "code",
   "execution_count": 9,
   "metadata": {},
   "outputs": [
    {
     "name": "stdout",
     "output_type": "stream",
     "text": [
      " * sqlite:///Sales.db\n",
      "6 rows affected.\n"
     ]
    },
    {
     "data": {
      "text/plain": [
       "[]"
      ]
     },
     "execution_count": 9,
     "metadata": {},
     "output_type": "execute_result"
    }
   ],
   "source": [
    "%%sql\n",
    "INSERT INTO ORDERS (employeeid, amount, orderstatus)\n",
    "VALUES \n",
    "    ('e03', 15.00,'OPEN'),\n",
    "    ('e01', 25.50,'OPEN'),\n",
    "    ('e05', 100.70,'CLOSED'),\n",
    "    ('e02', 22.18,'OPEN'),\n",
    "    ('e04', 9.50,'CANCELLED'),\n",
    "    ('e04', 99.99,'OPEN')\n",
    "    "
   ]
  },
  {
   "cell_type": "markdown",
   "metadata": {},
   "source": [
    "Проверим:"
   ]
  },
  {
   "cell_type": "code",
   "execution_count": 10,
   "metadata": {},
   "outputs": [
    {
     "name": "stdout",
     "output_type": "stream",
     "text": [
      " * sqlite:///Sales.db\n",
      "Done.\n"
     ]
    },
    {
     "data": {
      "text/html": [
       "<table>\n",
       "    <tr>\n",
       "        <th>orderid</th>\n",
       "        <th>employeeid</th>\n",
       "        <th>amount</th>\n",
       "        <th>orderstatus</th>\n",
       "    </tr>\n",
       "    <tr>\n",
       "        <td>1</td>\n",
       "        <td>e03</td>\n",
       "        <td>15</td>\n",
       "        <td>OPEN</td>\n",
       "    </tr>\n",
       "    <tr>\n",
       "        <td>2</td>\n",
       "        <td>e01</td>\n",
       "        <td>25.5</td>\n",
       "        <td>OPEN</td>\n",
       "    </tr>\n",
       "    <tr>\n",
       "        <td>3</td>\n",
       "        <td>e05</td>\n",
       "        <td>100.7</td>\n",
       "        <td>CLOSED</td>\n",
       "    </tr>\n",
       "    <tr>\n",
       "        <td>4</td>\n",
       "        <td>e02</td>\n",
       "        <td>22.18</td>\n",
       "        <td>OPEN</td>\n",
       "    </tr>\n",
       "    <tr>\n",
       "        <td>5</td>\n",
       "        <td>e04</td>\n",
       "        <td>9.5</td>\n",
       "        <td>CANCELLED</td>\n",
       "    </tr>\n",
       "    <tr>\n",
       "        <td>6</td>\n",
       "        <td>e04</td>\n",
       "        <td>99.99</td>\n",
       "        <td>OPEN</td>\n",
       "    </tr>\n",
       "</table>"
      ],
      "text/plain": [
       "[(1, 'e03', 15, 'OPEN'),\n",
       " (2, 'e01', 25.5, 'OPEN'),\n",
       " (3, 'e05', 100.7, 'CLOSED'),\n",
       " (4, 'e02', 22.18, 'OPEN'),\n",
       " (5, 'e04', 9.5, 'CANCELLED'),\n",
       " (6, 'e04', 99.99, 'OPEN')]"
      ]
     },
     "execution_count": 10,
     "metadata": {},
     "output_type": "execute_result"
    }
   ],
   "source": [
    "%sql SELECT * FROM ORDERS"
   ]
  },
  {
   "cell_type": "code",
   "execution_count": 11,
   "metadata": {},
   "outputs": [
    {
     "name": "stdout",
     "output_type": "stream",
     "text": [
      " * sqlite:///Sales.db\n",
      "Done.\n"
     ]
    },
    {
     "data": {
      "text/html": [
       "<table>\n",
       "    <tr>\n",
       "        <th>orderid</th>\n",
       "        <th>employeeid</th>\n",
       "        <th>amount</th>\n",
       "        <th>orderstatus</th>\n",
       "        <th>Full_order_status</th>\n",
       "    </tr>\n",
       "    <tr>\n",
       "        <td>1</td>\n",
       "        <td>e03</td>\n",
       "        <td>15</td>\n",
       "        <td>OPEN</td>\n",
       "        <td>Order is in open state</td>\n",
       "    </tr>\n",
       "    <tr>\n",
       "        <td>2</td>\n",
       "        <td>e01</td>\n",
       "        <td>25.5</td>\n",
       "        <td>OPEN</td>\n",
       "        <td>Order is in open state</td>\n",
       "    </tr>\n",
       "    <tr>\n",
       "        <td>3</td>\n",
       "        <td>e05</td>\n",
       "        <td>100.7</td>\n",
       "        <td>CLOSED</td>\n",
       "        <td>Order is closed</td>\n",
       "    </tr>\n",
       "    <tr>\n",
       "        <td>4</td>\n",
       "        <td>e02</td>\n",
       "        <td>22.18</td>\n",
       "        <td>OPEN</td>\n",
       "        <td>Order is in open state</td>\n",
       "    </tr>\n",
       "    <tr>\n",
       "        <td>5</td>\n",
       "        <td>e04</td>\n",
       "        <td>9.5</td>\n",
       "        <td>CANCELLED</td>\n",
       "        <td>Order is cancelled</td>\n",
       "    </tr>\n",
       "    <tr>\n",
       "        <td>6</td>\n",
       "        <td>e04</td>\n",
       "        <td>99.99</td>\n",
       "        <td>OPEN</td>\n",
       "        <td>Order is in open state</td>\n",
       "    </tr>\n",
       "</table>"
      ],
      "text/plain": [
       "[(1, 'e03', 15, 'OPEN', 'Order is in open state'),\n",
       " (2, 'e01', 25.5, 'OPEN', 'Order is in open state'),\n",
       " (3, 'e05', 100.7, 'CLOSED', 'Order is closed'),\n",
       " (4, 'e02', 22.18, 'OPEN', 'Order is in open state'),\n",
       " (5, 'e04', 9.5, 'CANCELLED', 'Order is cancelled'),\n",
       " (6, 'e04', 99.99, 'OPEN', 'Order is in open state')]"
      ]
     },
     "execution_count": 11,
     "metadata": {},
     "output_type": "execute_result"
    }
   ],
   "source": [
    "%%sql \n",
    "\n",
    "SELECT *,\n",
    "CASE\n",
    "    WHEN ORDERSTATUS = 'OPEN' THEN 'Order is in open state'\n",
    "    WHEN ORDERSTATUS = 'CLOSED' THEN 'Order is closed'\n",
    "    ELSE 'Order is cancelled'\n",
    "END AS Full_order_status\n",
    "\n",
    "FROM orders"
   ]
  },
  {
   "cell_type": "markdown",
   "metadata": {},
   "source": [
    "# Чем 0 отличается от NULL?\n",
    "Сильно спорный вопрос, так как в некоторых данных 0 - это такое же пропущенное значение как и - и ? и null, но непосредственно в SQL, 0 и NULL - это два разных концепта и имеют различное значение.\n",
    "В целом, 0 - это конкретное числовое значение, которое обозначает ноль или отсутствие какого-либо количества или величины. Оно может быть использовано в вычислениях и операциях с числами.\n",
    "\n",
    "NULL - это специальное значение, которое указывает на отсутствие значения или неизвестное значение. Оно не является числовым значением и не может быть использовано в вычислениях или операциях с числами. NULL может быть присвоено столбцу, чтобы указать, что для данной строки значение отсутствует или неизвестно.\n",
    "\n",
    "Для проверки наличия или отсутствия значения NULL (в некоторых случаях оно отображается как None) используются операторы IS NULL и IS NOT NULL , так как при сравнении таких значений различными операторами мы получим не булево значение а null, что может привести к ошибкам.\n"
   ]
  }
 ],
 "metadata": {
  "kernelspec": {
   "display_name": "Python 3",
   "language": "python",
   "name": "python3"
  },
  "language_info": {
   "codemirror_mode": {
    "name": "ipython",
    "version": 3
   },
   "file_extension": ".py",
   "mimetype": "text/x-python",
   "name": "python",
   "nbconvert_exporter": "python",
   "pygments_lexer": "ipython3",
   "version": "3.11.1"
  },
  "orig_nbformat": 4
 },
 "nbformat": 4,
 "nbformat_minor": 2
}
