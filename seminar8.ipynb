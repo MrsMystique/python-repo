{
 "cells": [
  {
   "cell_type": "code",
   "execution_count": 2,
   "metadata": {},
   "outputs": [],
   "source": [
    "import csv"
   ]
  },
  {
   "cell_type": "code",
   "execution_count": 9,
   "metadata": {},
   "outputs": [],
   "source": [
    "phonebook = []\n",
    "with open(\"phonebook.csv\", \"a\") as file:\n",
    "    columnnames = [\"name\", \"lastname\", \"phonenumber\"] \n",
    "    name = input(\"Enter name: \").strip().title()\n",
    "    lastname = input(\"Enter lastname: \").strip().title()\n",
    "    phone_number = input(\"Enter phonenumber: \")\n",
    "    writer = csv.DictWriter(file, columnnames)\n",
    "    writer.writerow({\"name\": name, \"lastname\": lastname, \"phonenumber\": phone_number})"
   ]
  },
  {
   "cell_type": "code",
   "execution_count": 11,
   "metadata": {},
   "outputs": [
    {
     "name": "stdout",
     "output_type": "stream",
     "text": [
      "Andr is in Kor, he was born in 873456875454\n",
      "Dasha is in Krasivaia, he was born in 2354647895\n",
      "Olga is in Zorina, he was born in 873456754356\n"
     ]
    }
   ],
   "source": [
    "# с открытым в качестве файла phonebook.csv в режиме чтения, далее этот обьект будем называть file для обращения к нему\n",
    "with open(\"phonebook.csv\", \"r\", newline ='') as file:\n",
    "    # в переменную filereader положим обьект котрый мы будем читать (все содержимое файла)\n",
    "    filereader = csv.DictReader(file)\n",
    "    # циклом перебираем filereader, которая содержит список всех строк \n",
    "    for row in filereader:\n",
    "        #  добавляем в список элементы каждого столбца ключи - это названия столбцов, а значения - это элемент строки, принадлежащий ячейке соответствующего столбца.\n",
    "        phonebook.append({\"name\": row[\"name\"], \"lastname\": row[\"lastname\"], \"phonenumber\": row[\"phonenumber\"]})\n",
    "# используем функцию sorted() для сортировки списка phonebook по ключу \"name\".\n",
    "sortedList =sorted(phonebook, key=lambda contact: contact[\"name\"])\n",
    "# Используем цикл `for` для итерации по каждому элементу (person) уже отсортированного списка `sortedList` .\n",
    "for person in sortedList:\n",
    "    # выводим информацию о каждом человеке на экран форматируя строку так что: \n",
    "    # {первый элемент строки [принадлежаший столбцу имя] живет в {второй элемент строки [принадлежаший столбцу дом] родился в {третий элемент строки [принадлежаший столбцу др]\n",
    "    print(f\"{person['name']} is in {person['lastname']}, he was born in {person['phonenumber']}\")"
   ]
  },
  {
   "cell_type": "code",
   "execution_count": 28,
   "metadata": {},
   "outputs": [
    {
     "name": "stdout",
     "output_type": "stream",
     "text": [
      "Dasha Krasivaia 2354647895\n",
      "Andr Kor 873456875454\n",
      "Dasha Krasiv 87987987987\n",
      "Dasha Kraia 9788798797\n"
     ]
    }
   ],
   "source": [
    "search = []\n",
    "# с открытым в качестве файла phonebook.csv в режиме чтения, далее этот обьект будем называть file для обращения к нему\n",
    "with open(\"phonebook.csv\", \"r\", newline ='') as file:\n",
    "    # в переменную filereader положим обьект котрый мы будем читать (все содержимое файла)\n",
    "    filereader = csv.DictReader(file)\n",
    "    for row in filereader:\n",
    "        search.append({\"name\": row[\"name\"], \"lastname\": row[\"lastname\"], \"phonenumber\": row[\"phonenumber\"]})\n",
    "    search_term = input(\"Search: \")\n",
    "    for person in search:\n",
    "        if any(search_term.lower() in value.lower() for value in person.values()):\n",
    "            print(f\"{person['name']} {person['lastname']} {person['phonenumber']}\")"
   ]
  }
 ],
 "metadata": {
  "kernelspec": {
   "display_name": "Python 3",
   "language": "python",
   "name": "python3"
  },
  "language_info": {
   "codemirror_mode": {
    "name": "ipython",
    "version": 3
   },
   "file_extension": ".py",
   "mimetype": "text/x-python",
   "name": "python",
   "nbconvert_exporter": "python",
   "pygments_lexer": "ipython3",
   "version": "3.11.1"
  },
  "orig_nbformat": 4
 },
 "nbformat": 4,
 "nbformat_minor": 2
}
