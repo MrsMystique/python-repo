{
 "cells": [
  {
   "attachments": {},
   "cell_type": "markdown",
   "metadata": {},
   "source": [
    "# Заголовок\n",
    "\n",
    "** Упражнение: A.1 - Построение данных **\n",
    "\n",
    "# Описание\n",
    "\n",
    "Цель этого упражнения состоит в том, чтобы ** сюжет ** телевизионные объявления против продаж на основе рекламного набора данных, который должен выглядеть похоже на график, приведенный ниже."
   ]
  },
  {
   "attachments": {},
   "cell_type": "markdown",
   "metadata": {},
   "source": [
    "## Инструкции:\n",
    "- Прочитайте данные о рекламе и просмотрите верхние строки DataFrame, чтобы получить понимание данных и столбцов\n",
    "\n",
    "- Выберите первые 7 наблюдений и столбцов «TV» и «Sales».\n",
    "\n",
    "- Создайте график рассеяния «ТВ» бюджет против «продаж», как в лекции.\n",
    "\n",
    "## подсказки:\n",
    "\n",
    "<a href=\"https://pandas.pydata.org/pandas-docs/stable/reference/api/pandas.read_csv.html\" target=\"_blank\"> pd.read_csv (FileName) </a>: ВозвращаетPandas DataFrame, содержащий данные и этикетки из данных файла.\n",
    "\n",
    "<a href=\"https://pandas.pydata.org/pandas-docs/stable/reference/api/pandas.dataframe.iloc.html?highlight=iloc#pandas.dataframe.iloc\" target=\"_blank\"> df.ILOC [] </a>: возвращает подмножество данных DataFrame, который содержится в диапазоне строк, передаваемых в качестве аргумента.\n",
    "\n",
    "<a href=\"https://numpy.org/doc/stable/reference/generated/numpy.linspace.html\" target=\"_blank\"> np.linspace () </a>: возвращает равномерно распределенные цифры на указанныеинтервал.\n",
    "\n",
    "<a href=\"https://pandas.pydata.org/pandas-docs/stable/reference/api/pandas.dataframe.head.html?highlight=head#pandas.dataframe.head\" target=\"_blank\"> df.head () </a>: возвращает первые 5 рядов DataFrame с именами столбцов\n",
    "\n",
    "<a href=\"https://matplotlib.org/3.2.2.2.2/api/_as_gen/matplotlib.pyplot.scater.html\" target=\"_blank\"> plt.scatter () </a>: график рассеяния yпротив х с различным размером маркера и/или цветом\n",
    "\n",
    "<a href=\"https://matplotlib.org/3.2.2.2.2/api/_as_gen/matplotlib.pyplot.xlabel.html\" target=\"_blank\"> plt.xlabel () </a>: это используется, чтобы указатьтекст, который будет отображаться в качестве метки для оси x\n",
    "\n",
    "ПРИМЕЧАНИЕ: это упражнение ** автоматически лишается, и вы можете попробовать несколько попыток. **"
   ]
  },
  {
   "cell_type": "code",
   "execution_count": null,
   "metadata": {},
   "outputs": [],
   "source": [
    "\n",
    "# Data set used in this exercise\n",
    "data_filename = 'Advertising.csv'\n",
    "\n",
    "# Read advertising.csv file using the pandas library\n",
    "df = pd.read_csv(___)\n"
   ]
  },
  {
   "cell_type": "code",
   "execution_count": null,
   "metadata": {},
   "outputs": [],
   "source": [
    "# Print your new dataframe to see if you have selected 7 rows correctly\n",
    "\n",
    "print(___)"
   ]
  },
  {
   "cell_type": "markdown",
   "metadata": {},
   "source": [
    "### Plotting the graph"
   ]
  },
  {
   "cell_type": "code",
   "execution_count": null,
   "metadata": {},
   "outputs": [],
   "source": [
    "# Use a scatter plot for TV vs Sales\n",
    "plt.___\n",
    "\n",
    "# Add axis labels for clarity (x : TV budget, y : Sales)\n",
    "plt.___\n",
    "plt.___\n"
   ]
  },
  {
   "attachments": {},
   "cell_type": "markdown",
   "metadata": {},
   "source": [
    "## Вопрос после тренировки\n",
    "\n",
    "Вместо того, чтобы просто построить семь очков, экспериментируйте, чтобы построить все точки"
   ]
  },
  {
   "cell_type": "code",
   "execution_count": null,
   "metadata": {},
   "outputs": [],
   "source": []
  }
 ],
 "metadata": {
  "kernelspec": {
   "display_name": "Python 3",
   "language": "python",
   "name": "python3"
  },
  "language_info": {
   "codemirror_mode": {
    "name": "ipython",
    "version": 3
   },
   "file_extension": ".py",
   "mimetype": "text/x-python",
   "name": "python",
   "nbconvert_exporter": "python",
   "pygments_lexer": "ipython3",
   "version": "3.8.5"
  }
 },
 "nbformat": 4,
 "nbformat_minor": 4
}
