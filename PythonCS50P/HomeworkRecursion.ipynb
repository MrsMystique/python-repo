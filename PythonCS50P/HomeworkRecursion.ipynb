{
 "cells": [
  {
   "attachments": {},
   "cell_type": "markdown",
   "metadata": {},
   "source": [
    "## **Recursion**\n",
    "\n",
    "ДОМАШНЯЯ РАБОТА"
   ]
  },
  {
   "attachments": {},
   "cell_type": "markdown",
   "metadata": {},
   "source": [
    "Задача 26:  Напишите программу, которая на вход принимает два числа A и B, и возводит число А в целую степень B с помощью рекурсии.\n",
    "\n",
    "*Пример:*\n",
    "\n",
    "A = 3; B = 5 -> 243 (3⁵)\n",
    "\n",
    "    A = 2; B = 3 -> 8 "
   ]
  },
  {
   "cell_type": "code",
   "execution_count": 20,
   "metadata": {},
   "outputs": [
    {
     "name": "stdout",
     "output_type": "stream",
     "text": [
      "5 в степени 3 = 125\n"
     ]
    }
   ],
   "source": [
    "# рекурсивная функция. 2 базы (на примере number =2 в кубе (degree = 3)\n",
    "def exponentiate (number, degree):\n",
    "    if degree == 0:# базовый случай\n",
    "        return 0\n",
    "    elif degree == 1: # базовый случай1\n",
    "        return number\n",
    "    else:\n",
    "        # если степень четная, то  2*2 и делим степень на 2 для того чтобы приблизиться к базовому случаю\n",
    "        if degree % 2 == 0:\n",
    "            return exponentiate(number*number, degree//2)\n",
    "       # если четная\n",
    "        else:\n",
    "            # проверяет, равна ли степень degree единице, если нет, то уменьшает степень на 1 (пока не достигнет базового случая)\n",
    "            # вызывает саму себя с аргументами number и degree-1\n",
    "            # и результат этого вызова умножается на number (вернет 3)\n",
    "            return number * exponentiate(number, degree-1)\n",
    "\n",
    "        \n",
    "number = int(input(\"Введите число для возведение в степень: \"))\n",
    "degree = int(input(\"Введите степень в которую необходимо возвести число: \"))\n",
    "\n",
    "print(f'{number} в степени {degree} = {exponentiate(number, degree)}')\n",
    "\n",
    "#exponentiate(2, 3)\n",
    "# 2 * exponentiate(2, 2) ->\n",
    "# 2 * (2 * exponentiate(2, 1))\n",
    "# 2 * (2 * 2)\n",
    "# 8\n"
   ]
  },
  {
   "attachments": {},
   "cell_type": "markdown",
   "metadata": {},
   "source": [
    "Напишите рекурсивную функцию sum(a, b), возвращающую сумму двух целых неотрицательных чисел. Из всех арифметических операций допускаются только +1 и -1."
   ]
  },
  {
   "cell_type": "code",
   "execution_count": 4,
   "metadata": {},
   "outputs": [
    {
     "name": "stdout",
     "output_type": "stream",
     "text": [
      "4\n"
     ]
    }
   ],
   "source": [
    "def sum(a, b):\n",
    "    if b == 0:\n",
    "        return a\n",
    "    else:\n",
    "        # каждый раз исходное а увеличивается на 1 а б уменьшается. \n",
    "        # когда б дойдет до базоваго случая - вернется а, которое будет равно сумме а и б\n",
    "        return sum(a + 1, b - 1)\n",
    "    \n",
    "a = int(input(\"Введите число a: \"))\n",
    "b = int(input(\"Введите число b: \"))\n",
    "print(sum(a, b))\n"
   ]
  }
 ],
 "metadata": {
  "kernelspec": {
   "display_name": "Python 3",
   "language": "python",
   "name": "python3"
  },
  "language_info": {
   "codemirror_mode": {
    "name": "ipython",
    "version": 3
   },
   "file_extension": ".py",
   "mimetype": "text/x-python",
   "name": "python",
   "nbconvert_exporter": "python",
   "pygments_lexer": "ipython3",
   "version": "3.11.1"
  },
  "orig_nbformat": 4
 },
 "nbformat": 4,
 "nbformat_minor": 2
}
