{
 "cells": [
  {
   "cell_type": "code",
   "execution_count": 6,
   "metadata": {},
   "outputs": [
    {
     "name": "stdout",
     "output_type": "stream",
     "text": [
      "Элементы прогрессии: [1, 3, 5]\n"
     ]
    }
   ],
   "source": [
    "a = int(input(\"Введите первый элемент прогрессии: \"))\n",
    "d = int(input(\"Введите разность прогрессии: \"))\n",
    "n = int(input(\"Введите количество элементов прогрессии: \"))\n",
    "\n",
    "progression = [a + (i-1)*d for i in range(1, n+1)]\n",
    "\n",
    "print(f\"Элементы прогрессии: {progression}\")\n"
   ]
  },
  {
   "cell_type": "code",
   "execution_count": 18,
   "metadata": {},
   "outputs": [
    {
     "name": "stdout",
     "output_type": "stream",
     "text": [
      "[71, 86, 57, 41, 60, 97, 78]\n",
      "41 97\n",
      "3 5\n"
     ]
    }
   ],
   "source": [
    "import random \n",
    "\n",
    "list_len = int(input(\"Введите количество элементов списка\"))\n",
    "lst = []\n",
    "for i in range(list_len):\n",
    "    lst.append(random.randint(1 , 100))\n",
    "print(lst)\n",
    "\n",
    "min_val, max_val = min(lst), max(lst)\n",
    "print(min_val, max_val)\n",
    "print(lst.index(min_val), lst.index(max_val))\n"
   ]
  }
 ],
 "metadata": {
  "kernelspec": {
   "display_name": "Python 3",
   "language": "python",
   "name": "python3"
  },
  "language_info": {
   "codemirror_mode": {
    "name": "ipython",
    "version": 3
   },
   "file_extension": ".py",
   "mimetype": "text/x-python",
   "name": "python",
   "nbconvert_exporter": "python",
   "pygments_lexer": "ipython3",
   "version": "3.11.1"
  },
  "orig_nbformat": 4
 },
 "nbformat": 4,
 "nbformat_minor": 2
}
