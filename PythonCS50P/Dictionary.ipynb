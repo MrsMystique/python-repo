{
 "cells": [
  {
   "attachments": {},
   "cell_type": "markdown",
   "metadata": {},
   "source": [
    "## СЛОВАРИ (Dictionary)\n",
    "\n",
    "#### Словарь представляет собой упорядоченный* набор, изменяемый и не допускающий дублирования.\n",
    "\n",
    "Словари используются для хранения значений данных в парах **ключ:значение.**\n",
    "\n",
    "Иницициализация пустого словаря **имя_словаря = {}**\n",
    "\n",
    "Бозовый синтакиси: **имя_словаря = {\"имя_ключа\": значение, \"имя_ключа2\": значение}**\n",
    "\n",
    "#### Словари могут иметь разнотипные значения"
   ]
  },
  {
   "attachments": {},
   "cell_type": "markdown",
   "metadata": {},
   "source": [
    "#### получение значения из ключа"
   ]
  },
  {
   "cell_type": "code",
   "execution_count": 4,
   "metadata": {},
   "outputs": [
    {
     "name": "stdout",
     "output_type": "stream",
     "text": [
      "Mustang\n"
     ]
    }
   ],
   "source": [
    "cardict =\t{\n",
    "  \"brand\": \"Ford\",\n",
    "  \"model\": \"Mustang\",\n",
    "  \"year\": 1964\n",
    "}\n",
    "value = cardict.get(\"model\")\n",
    "print(value)\n"
   ]
  },
  {
   "cell_type": "code",
   "execution_count": 2,
   "metadata": {},
   "outputs": [
    {
     "name": "stdout",
     "output_type": "stream",
     "text": [
      "А В Е И Н О Р С Т\n",
      "Q Z\n"
     ]
    }
   ],
   "source": [
    "\n",
    "eng_letters = {\n",
    "    1: ['A', 'E', 'I', 'O', 'U', 'L', 'N', 'S', 'T', 'R'],    \n",
    "    2: ['D', 'G' ],\n",
    "    3: ['B', 'C', 'M', 'P'],\n",
    "    4: ['F', 'H', 'V', 'W', 'Y'],\n",
    "    5: ['K'],\n",
    "    8: ['J', 'X'],\n",
    "    10:['Q', 'Z']\n",
    "}\n",
    "ru_letters = {\n",
    "    1: ['А', 'В', 'Е', 'И', 'Н', 'О', 'Р', 'С', 'Т'], \n",
    "    2: ['Д', 'К', 'Л', 'М', 'П', 'У'], \n",
    "    3: ['Б', 'Г', 'Ё', 'Ь', 'Я'], \n",
    "    4: ['Й', 'Ы'],\n",
    "    5: ['Ж', 'З', 'Х', 'Ц', 'Ч'], \n",
    "    8: ['Ш', 'Э', 'Ю'],\n",
    "    10:['Ф', 'Щ', 'Ъ']\n",
    "}\n",
    "print(*ru_letters[1])\n",
    "print(*eng_letters[10])"
   ]
  },
  {
   "cell_type": "code",
   "execution_count": 6,
   "metadata": {},
   "outputs": [
    {
     "name": "stdout",
     "output_type": "stream",
     "text": [
      "Mustang\n"
     ]
    }
   ],
   "source": [
    "cardict =\t{\n",
    "  \"brand\": \"Ford\",\n",
    "  \"model\": \"Mustang\",\n",
    "  \"year\": 1964\n",
    "}\n",
    "value = cardict[\"model\"]\n",
    "print(value)\n"
   ]
  },
  {
   "cell_type": "code",
   "execution_count": 4,
   "metadata": {},
   "outputs": [
    {
     "name": "stdout",
     "output_type": "stream",
     "text": [
      "dict_items([('brand', 'Ford'), ('model', 'Mustang'), ('year', 1964)])\n",
      "dict_items([('brand', 'Ford'), ('model', 'Mustang'), ('year', 1964)])\n",
      "dict_items([('brand', 'Ford'), ('model', 'Mustang'), ('year', 1964)])\n"
     ]
    }
   ],
   "source": [
    "cardict =\t{\n",
    "  \"brand\": \"Ford\",\n",
    "  \"model\": \"Mustang\",\n",
    "  \"year\": 1964\n",
    "}\n",
    "print(cardict.items())"
   ]
  },
  {
   "cell_type": "code",
   "execution_count": 28,
   "metadata": {},
   "outputs": [
    {
     "name": "stdout",
     "output_type": "stream",
     "text": [
      "apple has 130 calories.\n"
     ]
    }
   ],
   "source": [
    "# запрошу наименование фрукта. буду игнорировать регистр\n",
    "Fruit = input(\"Enter the fruit: \").lower()\n",
    "# целью является получение каллорий, если бы нужно было получить фрукт,\n",
    "# в котором содердится например 60 каллорий, можно было бы сгруппировать фрукты как значение\n",
    "# а каллории седлать ключами\n",
    "# создам словарь, где ключи это фруукты, значения это каллории\n",
    "dictFruits = {\n",
    "    \"apple\": 130, \"avocado\": 50, \"banana\": 110, \"cantaloupe\": 50, \"grapefruit\": 60,\n",
    "    \"grapes\": 90, \"honeydew melon\": 50, \"kiwifruit\": 90, \"lemon\": 15, \"lime\": 20, \"nectarine\": 60,\n",
    "    \"orange\": 80, \"peach\": 60, \"pear\": 100, \"pineapple\": 50, \"plums\": 70, \"strawberries\": 50,\n",
    "    \"sweet cherries\": 100, \"tangerine\": 50, \"watermelon\": 80\n",
    "}\n",
    "# игнорировать любые данные которые не входят в словарь\n",
    "# по тз не надо заводить циклл для повторного запроса. просто программа завершается\n",
    "\n",
    "if Fruit in dictFruits:\n",
    "        print(f\"{Fruit} has {dictFruits[Fruit]} calories.\")"
   ]
  },
  {
   "attachments": {},
   "cell_type": "markdown",
   "metadata": {},
   "source": [
    "## Вывод всего словаря"
   ]
  },
  {
   "cell_type": "code",
   "execution_count": 4,
   "metadata": {},
   "outputs": [
    {
     "name": "stdout",
     "output_type": "stream",
     "text": [
      "{'name': 'Karan', 'age': 19, 'eligible': True}\n"
     ]
    }
   ],
   "source": [
    "info = {'name':'Kasper', 'age':19, 'eligible':True}\n",
    "print(info)"
   ]
  },
  {
   "attachments": {},
   "cell_type": "markdown",
   "metadata": {},
   "source": [
    "# Доступ к значениям:\n",
    "\n",
    "### словари не индексируются, доступ к значению происходит по ключу"
   ]
  },
  {
   "cell_type": "code",
   "execution_count": 6,
   "metadata": {},
   "outputs": [
    {
     "name": "stdout",
     "output_type": "stream",
     "text": [
      "Kasper\n",
      "True\n"
     ]
    }
   ],
   "source": [
    "info = {'name':'Kasper', 'age':19, 'eligible':True}\n",
    "# извлекаем значение ключа имя (пишется как индекс, в квадратных скобках)\n",
    "print(info['name'])\n",
    "#  можно получить значение через функцию get(), применяемую к словарю\n",
    "# дословно: получить из словаря info значение ключа eligible\n",
    "print(info.get('eligible'))"
   ]
  },
  {
   "cell_type": "code",
   "execution_count": 9,
   "metadata": {},
   "outputs": [
    {
     "name": "stdout",
     "output_type": "stream",
     "text": [
      "dict_values(['Kasper', 19, True])\n",
      "Kasper 19 True\n"
     ]
    }
   ],
   "source": [
    "info = {'name':'Kasper', 'age':19, 'eligible':True}\n",
    "# получить все значения словаря (не отформатировано)\n",
    "print(info.values())\n",
    "# для того чтобы получить их в отформатированном виде - ставим * перед именем словаря\n",
    "print(*info.values())"
   ]
  },
  {
   "attachments": {},
   "cell_type": "markdown",
   "metadata": {},
   "source": [
    "### Доступ к ключам"
   ]
  },
  {
   "cell_type": "code",
   "execution_count": 11,
   "metadata": {},
   "outputs": [
    {
     "name": "stdout",
     "output_type": "stream",
     "text": [
      "dict_keys(['name', 'age', 'eligible'])\n",
      "name age eligible\n"
     ]
    }
   ],
   "source": [
    "info = {'name':'Kasper', 'age':19, 'eligible':True}\n",
    "# получим все ключи с помощью функции keys() в неотформатированном виде из словаря info\n",
    "print(info.keys())\n",
    "# для того чтобы получить их в отформатированном виде - ставим * перед именем словаря\n",
    "print(*info.keys())"
   ]
  },
  {
   "attachments": {},
   "cell_type": "markdown",
   "metadata": {},
   "source": [
    "## Доступ к парам (ключ- значение)"
   ]
  },
  {
   "cell_type": "code",
   "execution_count": 16,
   "metadata": {},
   "outputs": [
    {
     "name": "stdout",
     "output_type": "stream",
     "text": [
      "('name', 'Kasper') ('age', 19) ('eligible', True)\n"
     ]
    }
   ],
   "source": [
    "info = {'name':'Kasper', 'age':19, 'eligible':True}\n",
    "# пары будут получены в виде кортежей ( типом будет дословно: элементы словаря)\n",
    "print(*info.items())"
   ]
  },
  {
   "attachments": {},
   "cell_type": "markdown",
   "metadata": {},
   "source": [
    "### Удаление или изменение, добавление значений в словарях\n",
    "\n",
    "имя_словаря[ключ] = значение"
   ]
  },
  {
   "cell_type": "code",
   "execution_count": 23,
   "metadata": {},
   "outputs": [
    {
     "name": "stdout",
     "output_type": "stream",
     "text": [
      "Исходный словарь {'name': 'Kasper', 'age': 19, 'eligible': True}\n",
      "Результирующий словарь {'name': 'Kasper', 'age': 19, 'eligible': True, 'DOB': 2001}\n"
     ]
    }
   ],
   "source": [
    "info = {'name':'Kasper', 'age':19, 'eligible':True}\n",
    "print(f\"Исходный словарь {info}\")\n",
    "# Новый ключ и его значение\n",
    "info['DOB'] = 2001\n",
    "# появится новая пара ключ-значение\n",
    "print(f\"Результирующий словарь {info}\")"
   ]
  },
  {
   "attachments": {},
   "cell_type": "markdown",
   "metadata": {},
   "source": [
    "**Базовый синтаксис при изменении (добавлении значений, изменении существующих) содержимого словаря:**\n",
    "\n",
    "имя_словаря.update({ключ: значение})"
   ]
  },
  {
   "cell_type": "code",
   "execution_count": 24,
   "metadata": {},
   "outputs": [
    {
     "name": "stdout",
     "output_type": "stream",
     "text": [
      "Исходный словарь {'name': 'Kasper', 'age': 19, 'eligible': True}\n",
      "Результирующий словарь {'name': 'Kasper', 'age': 20, 'eligible': True, 'DOB': 2010}\n"
     ]
    }
   ],
   "source": [
    "info = {'name':'Kasper', 'age':19, 'eligible':True}\n",
    "print(f\"Исходный словарь {info}\")\n",
    "# для изменения значений в словаре необходимо воспользоваться методом update()\n",
    "info.update({'age': 20})\n",
    "# изменяемые (обновляемые) значения пишутся внутри функции в фигурных скобках ({ключ: новое_значение})\n",
    "info.update({'DOB': 2010})\n",
    "print(f\"Результирующий словарь {info}\")"
   ]
  },
  {
   "attachments": {},
   "cell_type": "markdown",
   "metadata": {},
   "source": [
    "### метод pop() позволит удалить ключ и значение и запомнить его!"
   ]
  },
  {
   "cell_type": "code",
   "execution_count": 27,
   "metadata": {},
   "outputs": [
    {
     "name": "stdout",
     "output_type": "stream",
     "text": [
      "{'name': 'Karan', 'age': 19, 'eligible': True}\n"
     ]
    }
   ],
   "source": [
    "info = {'name':'Kasper', 'age':19, 'eligible':True}\n",
    "info.pop('eligible')\n",
    "print(info)\n"
   ]
  },
  {
   "cell_type": "code",
   "execution_count": null,
   "metadata": {},
   "outputs": [],
   "source": [
    "list = [1,2,2,3,5,5] \n",
    "k = 3\n",
    "for _ in range(k):\n",
    "    # элемент удаляется на тукущей позиции\n",
    "    element = list.pop(-1)\n",
    "    # и вставляется на указанный индекс\n",
    "    list.insert(0, element)\n",
    "print(list)"
   ]
  },
  {
   "attachments": {},
   "cell_type": "markdown",
   "metadata": {},
   "source": [
    "## Циклы: Итерирование по словарям\n",
    "\n",
    "Цель - поэлементная проверка и поэтапный (поэлементный) вывод и так далее. \n",
    "\n",
    "Циклы перебирает все пары ключ и значение по очереди"
   ]
  },
  {
   "cell_type": "code",
   "execution_count": 29,
   "metadata": {},
   "outputs": [
    {
     "name": "stdout",
     "output_type": "stream",
     "text": [
      "brand\n",
      "model\n",
      "year\n"
     ]
    }
   ],
   "source": [
    "# Выведите все имена ключей в словаре, одно за другим:\n",
    "cardict = {\n",
    "  \"brand\": \"Ford\",\n",
    "  \"model\": \"Mustang\",\n",
    "  \"year\": 1964\n",
    "}\n",
    "\n",
    "for x in cardict:\n",
    "  print(x)"
   ]
  },
  {
   "cell_type": "code",
   "execution_count": 31,
   "metadata": {},
   "outputs": [
    {
     "name": "stdout",
     "output_type": "stream",
     "text": [
      "Ford\n",
      "Mustang\n",
      "1964\n"
     ]
    }
   ],
   "source": [
    "# Распечатайте все ЗНАЧЕНИЯ в словаре, одно за другим:\n",
    "cardict = {\n",
    "  \"brand\": \"Ford\",\n",
    "  \"model\": \"Mustang\",\n",
    "  \"year\": 1964\n",
    "}\n",
    "\n",
    "for x in cardict:\n",
    "  print(cardict[x])"
   ]
  },
  {
   "cell_type": "code",
   "execution_count": 35,
   "metadata": {},
   "outputs": [
    {
     "name": "stdout",
     "output_type": "stream",
     "text": [
      "Ford\n",
      "Mustang\n",
      "1964\n"
     ]
    }
   ],
   "source": [
    "# Вы также можете использовать этот values() метод для возврата значений словаря:\n",
    "cardict = {\n",
    "  \"brand\": \"Ford\",\n",
    "  \"model\": \"Mustang\",\n",
    "  \"year\": 1964\n",
    "}\n",
    "\n",
    "for x in cardict.values():\n",
    "    print(x)"
   ]
  },
  {
   "cell_type": "code",
   "execution_count": 36,
   "metadata": {},
   "outputs": [
    {
     "name": "stdout",
     "output_type": "stream",
     "text": [
      "brand\n",
      "model\n",
      "year\n"
     ]
    }
   ],
   "source": [
    "# получаем последовательно( исходя из номера позиции элемента) каждый ключ\n",
    "cardict = {\n",
    "  \"brand\": \"Ford\",\n",
    "  \"model\": \"Mustang\",\n",
    "  \"year\": 1964\n",
    "}\n",
    "\n",
    "for x in cardict.keys():\n",
    "  print(x)"
   ]
  },
  {
   "cell_type": "code",
   "execution_count": 37,
   "metadata": {},
   "outputs": [
    {
     "name": "stdout",
     "output_type": "stream",
     "text": [
      "brand Ford\n",
      "model Mustang\n",
      "year 1964\n"
     ]
    }
   ],
   "source": [
    "# получаем последовательно( исходя из номера позиции элемента) каждый \"ЭЛЕМЕНТ словаря\" - item это ключ значение, это в целом - элемент словаря\n",
    "# запросив итем (элемент словаря) - мы получим пары значений\n",
    "cardict = {\n",
    "  \"brand\": \"Ford\",\n",
    "  \"model\": \"Mustang\",\n",
    "  \"year\": 1964\n",
    "}\n",
    "for x, y in cardict.items():\n",
    "  print(x, y)"
   ]
  },
  {
   "attachments": {},
   "cell_type": "markdown",
   "metadata": {},
   "source": [
    "# Копирование словаря"
   ]
  },
  {
   "cell_type": "code",
   "execution_count": 38,
   "metadata": {},
   "outputs": [
    {
     "name": "stdout",
     "output_type": "stream",
     "text": [
      "{'brand': 'Ford', 'model': 'Mustang', 'year': 1964}\n"
     ]
    }
   ],
   "source": [
    "# копирование словаря с помощью copy()\n",
    "cardict = {\n",
    "  \"brand\": \"Ford\",\n",
    "  \"model\": \"Mustang\",\n",
    "  \"year\": 1964\n",
    "}\n",
    "mydict = cardict.copy()\n",
    "print(mydict)"
   ]
  },
  {
   "cell_type": "code",
   "execution_count": 40,
   "metadata": {},
   "outputs": [
    {
     "name": "stdout",
     "output_type": "stream",
     "text": [
      "{'brand': 'Ford', 'model': 'Mustang', 'year': 1964}\n"
     ]
    }
   ],
   "source": [
    "# копиz словаря с помощью dict() функции:\n",
    "cardict = {\n",
    "  \"brand\": \"Ford\",\n",
    "  \"model\": \"Mustang\",\n",
    "  \"year\": 1964\n",
    "}\n",
    "mydict = dict(cardict)\n",
    "print(mydict)"
   ]
  },
  {
   "attachments": {},
   "cell_type": "markdown",
   "metadata": {},
   "source": [
    "## **ВЛОЖЕННЫЕ СЛОВАРИ**\n"
   ]
  },
  {
   "cell_type": "code",
   "execution_count": 43,
   "metadata": {},
   "outputs": [
    {
     "name": "stdout",
     "output_type": "stream",
     "text": [
      "{'name': 'Emil', 'year': 2004}\n"
     ]
    }
   ],
   "source": [
    "# во вложенных словарях - основной ключ - имя обьекта (ребенок)\n",
    "# значения ключа - это детальное описание обьекта, также  ключи - значения\n",
    "myfamily = {\n",
    "    # ключ - ребенок 1\n",
    "  \"child1\" : {\n",
    "    # описание элемента (ребенок 1. у енго есть имя, год рождения - ключи, ну и их значения)\n",
    "    \"name\" : \"Emil\",\n",
    "    \"year\" : 2004\n",
    "  },\n",
    "  \n",
    "  \"child2\" : {\n",
    "      \n",
    "    \"name\" : \"Tobias\",\n",
    "    \"year\" : 2007\n",
    "  },\n",
    "  \"child3\" : {\n",
    "      \n",
    "    \"name\" : \"Linus\",\n",
    "    \"year\" : 2011\n",
    "  }\n",
    "}\n",
    "# получим данные по 1 ребенку\n",
    "print(myfamily[\"child1\"])"
   ]
  },
  {
   "attachments": {},
   "cell_type": "markdown",
   "metadata": {},
   "source": [
    "Создайте три словаря, затем создайте один словарь, который будет содержать три других словаря:"
   ]
  },
  {
   "cell_type": "code",
   "execution_count": 42,
   "metadata": {},
   "outputs": [
    {
     "name": "stdout",
     "output_type": "stream",
     "text": [
      "{'child1': {'name': 'Emil', 'year': 2004}, 'child2': {'name': 'Tobias', 'year': 2007}, 'child3': {'name': 'Linus', 'year': 2011}}\n"
     ]
    }
   ],
   "source": [
    "child1 = {\n",
    "  \"name\" : \"Emil\",\n",
    "  \"year\" : 2004\n",
    "}\n",
    "child2 = {\n",
    "  \"name\" : \"Tobias\",\n",
    "  \"year\" : 2007\n",
    "}\n",
    "child3 = {\n",
    "  \"name\" : \"Linus\",\n",
    "  \"year\" : 2011\n",
    "}\n",
    "# обьединяем 3 словаря в один\n",
    "myfamily = {\n",
    "# \"key\" : value (описание)\n",
    "  \"child1\" : child1,\n",
    "  \"child2\" : child2,\n",
    "  \"child3\" : child3\n",
    "}\n",
    "# выведем обьединенный словарь\n",
    "print(myfamily)"
   ]
  },
  {
   "attachments": {},
   "cell_type": "markdown",
   "metadata": {},
   "source": [
    "**Доступ к элементам вложенного словаря**"
   ]
  },
  {
   "cell_type": "code",
   "execution_count": 46,
   "metadata": {},
   "outputs": [
    {
     "name": "stdout",
     "output_type": "stream",
     "text": [
      "Имя второго ребенка Tobias\n"
     ]
    }
   ],
   "source": [
    "# имясловаря[имя обьекта][необходимый параметр(ключ)]\n",
    "# дословно: получим из словаря myfamily имя второго ребенка\n",
    "print(f'Имя второго ребенка {myfamily[\"child2\"][\"name\"]}')"
   ]
  },
  {
   "attachments": {},
   "cell_type": "markdown",
   "metadata": {},
   "source": [
    "# Функии словаря"
   ]
  },
  {
   "attachments": {},
   "cell_type": "markdown",
   "metadata": {},
   "source": [
    "clear() Удаляет все элементы из словаря\n",
    "\n",
    "copy() Возвращает копию словаря\n",
    "\n",
    "fromkeys() Возвращает словарь с указанными ключами и значением\n",
    "\n",
    "get() Возвращает значение указанного ключа\n",
    "\n",
    "items() Возвращает список, содержащий кортеж для каждой пары ключ-значение\n",
    "\n",
    "keys() Возвращает список, содержащий ключи словаря\n",
    "\n",
    "pop() Удаляет элемент с указанным ключом\n",
    "\n",
    "popitem() Удаляет последнюю вставленную пару ключ-значение\n",
    "\n",
    "setdefault() Возвращает значение указанного ключа. Если ключ не существует: вставляет ключ с указанным значением\n",
    "\n",
    "update() Обновляет словарь указанными парами ключ-значение\n",
    "\n",
    "values() Возвращает список всех значений в словаре\n"
   ]
  }
 ],
 "metadata": {
  "kernelspec": {
   "display_name": "Python 3",
   "language": "python",
   "name": "python3"
  },
  "language_info": {
   "codemirror_mode": {
    "name": "ipython",
    "version": 3
   },
   "file_extension": ".py",
   "mimetype": "text/x-python",
   "name": "python",
   "nbconvert_exporter": "python",
   "pygments_lexer": "ipython3",
   "version": "3.11.1"
  },
  "orig_nbformat": 4
 },
 "nbformat": 4,
 "nbformat_minor": 2
}
