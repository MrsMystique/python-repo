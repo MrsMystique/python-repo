{
 "cells": [
  {
   "attachments": {},
   "cell_type": "markdown",
   "metadata": {},
   "source": [
    "# **Variables, data types and strings**"
   ]
  },
  {
   "attachments": {},
   "cell_type": "markdown",
   "metadata": {},
   "source": [
    "### Variables\n",
    "\n",
    "**Есть определенные соглашения в наименованиях переменных**\n",
    "\n",
    "* Имя переменной должно начинаться с буквы или символа подчеркивания.\n",
    "* Имя переменной не может начинаться с цифры\n",
    "* Имя переменной может содержать только буквенно-цифровые символы и символы подчеркивания (Az, 0–9 и _).\n",
    "* Имена переменных чувствительны к регистру если одна переменная начинается с большой буквы, а вторая с маленькой - это две разных переменных.\n",
    "* Имя переменной не может быть ни одним из ключевых слов Python (речь идет о функциях и т.п). То есть нельзя нахвать переменную len - так как это наименование встроенной функции .\n",
    "* По соглашению наименования функций лучше писать в upper case (def SEARCH (args)), наименования классов - как title (class Student(args))\n",
    "* все наименования должны быть самодокументируемыми и передавать свое значение и содержание максимально точно"
   ]
  },
  {
   "cell_type": "code",
   "execution_count": 8,
   "metadata": {},
   "outputs": [
    {
     "name": "stdout",
     "output_type": "stream",
     "text": [
      "Число содержит значение 5\n",
      "Имя содержит значение John\n"
     ]
    }
   ],
   "source": [
    "number = 5 # integer\n",
    "name = \"John\" # string\n",
    "passed = True  # type bool\n",
    "print(f\"Число содержит значение {number}\")\n",
    "print(f'Имя содержит значение {name}')"
   ]
  },
  {
   "attachments": {},
   "cell_type": "markdown",
   "metadata": {},
   "source": [
    "### Распаковка коллекции данных (списка) в соответствуещее длинне списка количество переменных"
   ]
  },
  {
   "cell_type": "code",
   "execution_count": 7,
   "metadata": {},
   "outputs": [
    {
     "name": "stdout",
     "output_type": "stream",
     "text": [
      "fruit1 сейчас имеет значение apple, fruit2 - значение banana, а fruit3 - cherry соответственно\n"
     ]
    }
   ],
   "source": [
    "fruits = [\"apple\", \"banana\", \"cherry\"]\n",
    "fruit1, fruit2, fruit3 = fruits # положим в каждую переменную элемент списка, соответствующий порядку переменной\n",
    "print(f'fruit1 сейчас имеет значение {fruit1}, fruit2 - значение {fruit2}, а fruit3 - {fruit3} соответственно')"
   ]
  },
  {
   "attachments": {},
   "cell_type": "markdown",
   "metadata": {},
   "source": [
    "### Для склеивания строковых переменных можно использовать конкатенацию (+)"
   ]
  },
  {
   "cell_type": "code",
   "execution_count": 12,
   "metadata": {},
   "outputs": [
    {
     "name": "stdout",
     "output_type": "stream",
     "text": [
      "Python is awesome\n",
      "ИЛИ\n",
      "Python  is  awesome\n"
     ]
    }
   ],
   "source": [
    "x = \"Python \"\n",
    "y = \"is \"\n",
    "z = \"awesome\"\n",
    "print(x + y + z)\n",
    "print(\"ИЛИ\")\n",
    "print(x,y,z)"
   ]
  },
  {
   "attachments": {},
   "cell_type": "markdown",
   "metadata": {},
   "source": [
    "## Область видимости переменных. Глобальные и локальные переменные в функциях\n",
    "\n",
    "* локальная переменная - та которая видна только в рамках цикла или какой то части кода"
   ]
  },
  {
   "cell_type": "code",
   "execution_count": 14,
   "metadata": {},
   "outputs": [
    {
     "name": "stdout",
     "output_type": "stream",
     "text": [
      "Python is fantastic\n",
      "Python is fantastic\n"
     ]
    }
   ],
   "source": [
    "# глобальная переменная в функции. так переменная будет видима для всего кода\n",
    "def myfunc():\n",
    "  global variable\n",
    "  variable = \"fantastic\"\n",
    "myfunc()\n",
    "print(\"Python is \" + variable)\n",
    "\n",
    "# если мы меняем значение глобальной переменной  внутри функции так же используем ключевое слово глобал\n",
    "variable = \"awesome\"\n",
    "def myfunc():\n",
    "  global variable\n",
    "  variable = \"fantastic\"\n",
    "myfunc()\n",
    "print(\"Python is \" + variable)"
   ]
  },
  {
   "attachments": {},
   "cell_type": "markdown",
   "metadata": {},
   "source": [
    "## Однотипным переменным можно присвоить значения в одной строке"
   ]
  },
  {
   "cell_type": "code",
   "execution_count": 4,
   "metadata": {},
   "outputs": [
    {
     "name": "stdout",
     "output_type": "stream",
     "text": [
      "Orange Banana Cherry\n",
      "Если одно и то же значение присвоено нескольким переменным\n",
      "Orange Orange Orange\n"
     ]
    }
   ],
   "source": [
    "fruit1, fruit2, fruit3 = \"Orange\", \"Banana\", \"Cherry\"\n",
    "print(fruit1, fruit2, fruit3)\n",
    "# Если все несколько переменных именют одно значение то можно передать это значение в одной строке\n",
    "print(\"Если одно и то же значение присвоено нескольким переменным: \")\n",
    "fruit1 = fruit2 = fruit3 = \"Orange\"\n",
    "print(fruit1, fruit2, fruit3)\n"
   ]
  },
  {
   "attachments": {},
   "cell_type": "markdown",
   "metadata": {},
   "source": [
    "## Преобразование переменных\n",
    "\n",
    "Python сам определяет тип переменных, но иногда их необходимо принудительно преобразовывать, как бы давая подсказку, что это определенно вот такой тип данных"
   ]
  },
  {
   "cell_type": "code",
   "execution_count": null,
   "metadata": {},
   "outputs": [],
   "source": [
    "x = str(3)    # будет '3' - теперь 3 - это строковый символ\n",
    "y = int(3)    # сейчас 3 - это число, с ним можно проводить математические операции\n",
    "z = float(3)  # число с плавающей запятой"
   ]
  },
  {
   "attachments": {},
   "cell_type": "markdown",
   "metadata": {},
   "source": [
    "### INTEGERS (целые числа)"
   ]
  },
  {
   "cell_type": "code",
   "execution_count": 11,
   "metadata": {},
   "outputs": [
    {
     "name": "stdout",
     "output_type": "stream",
     "text": [
      "В результате, мы просто склеили две строки и получили:  23\n",
      "<class 'str'>\n"
     ]
    }
   ],
   "source": [
    "# по дефолту питон принимает на ввод строки. поэтому этот код выведет сложение не интов, а строк\n",
    "# в таком случае сложение этих строк  будет ошибочным\n",
    "x = input(\"What's x? \") # ввела 2\n",
    "y = input(\"What's y? \") # ввела 3\n",
    "z = x + y\n",
    "\n",
    "print(\"В результате, мы просто склеили две строки и получили: \", z) #  получила 23\n",
    "# обратите внимание, что тип (класс) переменной z - string\n",
    "print(type(z))"
   ]
  },
  {
   "cell_type": "code",
   "execution_count": 12,
   "metadata": {},
   "outputs": [
    {
     "name": "stdout",
     "output_type": "stream",
     "text": [
      "5\n",
      "<class 'int'>\n",
      "Преобразовывать можно сразу при вводе\n",
      "5\n"
     ]
    }
   ],
   "source": [
    "# Бывают случаи когда необходимо преобразовать введенные данные только на каком то этапе\n",
    "# Например, чтобы применить функции для строк (длинна числа), а \n",
    "# уже потом исходя из этой информации проводить операции с целыми числами\n",
    "x = input(\"What's x? \")\n",
    "y = input(\"What's y? \")\n",
    "z = int(x) + int(y)\n",
    "print(z)\n",
    "# в данном случае класс переменной - инт, так как питон видлит что в выражении целые числа\n",
    "print(type(z))\n",
    "print (\"Преобразовывать можно сразу при вводе\")\n",
    "x = int(input(\"What's x? \"))\n",
    "y = int(input(\"What's y? \"))\n",
    "# можно выводить на экран результат вычислений сразу в вункции принт, \n",
    "# не заводя переменную z если она нам не нужна в дальнейшем\n",
    "print(x + y)"
   ]
  },
  {
   "attachments": {},
   "cell_type": "markdown",
   "metadata": {},
   "source": [
    "## FLOAT (числа с плавающей запятой)"
   ]
  },
  {
   "cell_type": "code",
   "execution_count": 29,
   "metadata": {},
   "outputs": [
    {
     "name": "stdout",
     "output_type": "stream",
     "text": [
      "результат от сложения цифр с плавающей запятой 12.21 и 12.147 = 24.357\n"
     ]
    }
   ],
   "source": [
    "x = float(input(\"What's x? \"))\n",
    "y = float(input(\"What's y? \"))\n",
    "\n",
    "print(f\"Результат от сложения цифр с плавающей запятой {x} и {y} = {x + y}\")"
   ]
  },
  {
   "cell_type": "code",
   "execution_count": 25,
   "metadata": {},
   "outputs": [
    {
     "name": "stdout",
     "output_type": "stream",
     "text": [
      "Округленный результат от сложения 12.34 на 17.354 = 30\n"
     ]
    }
   ],
   "source": [
    "# Их можно округлять\n",
    "x = float(input(\"What's x? \"))\n",
    "y = float(input(\"What's y? \"))\n",
    "# округлить результат\n",
    "z = round(x + y)\n",
    "print(f\"Округленный результат от сложения {x} на {y} = {z}\")"
   ]
  },
  {
   "cell_type": "code",
   "execution_count": 22,
   "metadata": {},
   "outputs": [
    {
     "name": "stdout",
     "output_type": "stream",
     "text": [
      "Округленный результат до 2 знаков после запятой от деления 5.0 на 4.0 = 1.25\n"
     ]
    }
   ],
   "source": [
    "x = float(input(\"What's x? \"))\n",
    "y = float(input(\"What's y? \"))\n",
    "# округлить\n",
    "z = round(x / y, 2) # округлит до 2 знаков после запятой\n",
    "# распечатать\n",
    "print(f\"Округленный результат до 2 знаков после запятой от деления {x} на {y} = {z}\")"
   ]
  },
  {
   "cell_type": "code",
   "execution_count": 30,
   "metadata": {},
   "outputs": [
    {
     "name": "stdout",
     "output_type": "stream",
     "text": [
      "0.85\n"
     ]
    }
   ],
   "source": [
    "x = float(input(\"What's x? \"))\n",
    "y = float(input(\"What's y? \"))\n",
    "\n",
    "# Calculate the result\n",
    "z = x / y\n",
    "\n",
    "# Print the result\n",
    "print(f\"{z:.2f}\")"
   ]
  },
  {
   "attachments": {},
   "cell_type": "markdown",
   "metadata": {},
   "source": [
    "# Форматирование при выводе чисел\n",
    "\n",
    "**print(f\"{z:,}\")** создает сценарий, в котором вывод **z** будет включать запятые, где результат может выглядеть как 1,000 или 2,500."
   ]
  },
  {
   "cell_type": "code",
   "execution_count": 19,
   "metadata": {},
   "outputs": [
    {
     "name": "stdout",
     "output_type": "stream",
     "text": [
      "2,000\n"
     ]
    }
   ],
   "source": [
    "x = float(input(\"What's x? \")) # 2000\n",
    "y = float(input(\"What's y? \")) # 1\n",
    "# Округлить результат\n",
    "z = round(x / y)\n",
    "# Вывести отформатированный результат (форматирует тысячи)\n",
    "print(f\"{z:,}\")"
   ]
  },
  {
   "attachments": {},
   "cell_type": "markdown",
   "metadata": {},
   "source": [
    "## **Вывод строк. форматирование**"
   ]
  },
  {
   "cell_type": "code",
   "execution_count": 2,
   "metadata": {},
   "outputs": [
    {
     "name": "stdout",
     "output_type": "stream",
     "text": [
      "hello, Olga\n",
      "Второй вариант, отделение переменной запятой\n",
      "hello, Olga\n"
     ]
    }
   ],
   "source": [
    "name = input(\"What's your name? \")\n",
    "# Напечатать текст + содержимое переменной, в которую записан ввод пользователя\n",
    "print(\"hello, \" + name)\n",
    "print(\"Второй вариант, отделение переменной запятой\")\n",
    "# Напечатать текст + содержимое переменной, в которую записан ввод пользователя\n",
    "print(\"hello,\", name)"
   ]
  },
  {
   "attachments": {},
   "cell_type": "markdown",
   "metadata": {},
   "source": [
    "Если мы посмотрим на документацию, `print` мы узнаем, что мы можем многое узнать об аргументах, которые принимает функция печати.\n",
    "Функция печати автоматически включает фрагмент кода `end='\\n'`. Это `\\n` обозначает что после работы функции мы автоматически переходим на новую строку. Функция по дефолту принимает парамент называемый  `end`, и по умолчанию создается новая строка.\n",
    "Однако технически мы можем переопределить аргумент `end` себя, чтобы новая строка не создавалась!"
   ]
  },
  {
   "cell_type": "code",
   "execution_count": 4,
   "metadata": {},
   "outputs": [
    {
     "name": "stdout",
     "output_type": "stream",
     "text": [
      "hello, Olga\n"
     ]
    }
   ],
   "source": [
    "name = input(\"What's your name? \")\n",
    "# при переопределении этого параметра новая строка не создается\n",
    "print(\"hello, \", end=\"\")\n",
    "print(name)"
   ]
  },
  {
   "cell_type": "code",
   "execution_count": 5,
   "metadata": {},
   "outputs": [
    {
     "name": "stdout",
     "output_type": "stream",
     "text": [
      "hello, Olga\n"
     ]
    }
   ],
   "source": [
    "name = input(\"What's your name? \")\n",
    "# форматирование строки с помощью f\n",
    "print(f\"hello, {name}\")"
   ]
  },
  {
   "attachments": {},
   "cell_type": "markdown",
   "metadata": {},
   "source": [
    "Вы никогда не должны ожидать, что ваш пользователь будет сотрудничать, как задумано. Поэтому вам нужно будет убедиться, что ввод вашего пользователя исправлен или проверен.\n",
    "\n",
    "Оказывается, в строки встроена возможность удалять пробелы из строки.\n",
    "\n",
    "Используя метод `strip()` , он удалит все пробелы слева и справа от пользовательского ввода `name = name.strip()`"
   ]
  },
  {
   "cell_type": "code",
   "execution_count": 6,
   "metadata": {},
   "outputs": [
    {
     "name": "stdout",
     "output_type": "stream",
     "text": [
      "hello, Olga\n"
     ]
    }
   ],
   "source": [
    "name = input(\"What's your name? \")\n",
    "\n",
    "# Удалить пробелы (при вводе сделала по 4 пробела справа и слева.    OLGA   \n",
    "name = name.strip()\n",
    "\n",
    "# Вывести\n",
    "print(f\"hello, {name}\")"
   ]
  },
  {
   "attachments": {},
   "cell_type": "markdown",
   "metadata": {},
   "source": [
    "Для того чтобы при любом вводе пользователя его имя было написано с заглавной буквы, а остальные строчными используется метод `tittle()` . Базовый синтаксис `name = name.tittle()`"
   ]
  },
  {
   "cell_type": "code",
   "execution_count": null,
   "metadata": {},
   "outputs": [],
   "source": [
    "# Ask the user for their name\n",
    "name = input(\"What's your name? \")\n",
    "\n",
    "# Remove whitespace from the str\n",
    "name = name.strip()\n",
    "\n",
    "# Capitalize the first letter of each word\n",
    "name = name.title()\n",
    "\n",
    "# Print the output\n",
    "print(f\"hello, {name}\")"
   ]
  },
  {
   "attachments": {},
   "cell_type": "markdown",
   "metadata": {},
   "source": [
    "Совместим. Удалим лишние пробелы и напишем с заглавной буквы"
   ]
  },
  {
   "cell_type": "code",
   "execution_count": 7,
   "metadata": {},
   "outputs": [
    {
     "name": "stdout",
     "output_type": "stream",
     "text": [
      "hello, Olga Zorina\n"
     ]
    }
   ],
   "source": [
    "# ВВОЖУ UPPERCASE\n",
    "name = input(\"What's your name? \")\n",
    "\n",
    "# Если я ввожу несколько слов, например имя и фамилию, \n",
    "# то все слова напишутся с заглавной буквы и справа и слева уберутся проблеы (внутри нет)\n",
    "name = name.strip().title()\n",
    "\n",
    "# Print the output\n",
    "print(f\"hello, {name}\")"
   ]
  },
  {
   "attachments": {},
   "cell_type": "markdown",
   "metadata": {},
   "source": [
    "Эти функции применимы к пользовательскому вводу (для экономии строк кода=)"
   ]
  },
  {
   "cell_type": "code",
   "execution_count": null,
   "metadata": {},
   "outputs": [],
   "source": [
    "name = input(\"What's your name? \").strip().title()\n",
    "\n",
    "# Print the output\n",
    "print(f\"hello, {name}\")"
   ]
  }
 ],
 "metadata": {
  "kernelspec": {
   "display_name": "Python 3",
   "language": "python",
   "name": "python3"
  },
  "language_info": {
   "codemirror_mode": {
    "name": "ipython",
    "version": 3
   },
   "file_extension": ".py",
   "mimetype": "text/x-python",
   "name": "python",
   "nbconvert_exporter": "python",
   "pygments_lexer": "ipython3",
   "version": "3.11.1"
  },
  "orig_nbformat": 4
 },
 "nbformat": 4,
 "nbformat_minor": 2
}
