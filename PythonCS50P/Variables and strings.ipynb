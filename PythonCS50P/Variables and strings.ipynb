{
 "cells": [
  {
   "attachments": {},
   "cell_type": "markdown",
   "metadata": {},
   "source": [
    "# **Variables, data types and strings**"
   ]
  },
  {
   "attachments": {},
   "cell_type": "markdown",
   "metadata": {},
   "source": [
    "### Variables\n",
    "\n",
    "**Есть определенные соглашения в наименованиях переменных**\n",
    "\n",
    "* Имя переменной должно начинаться с буквы или символа подчеркивания.\n",
    "* Имя переменной не может начинаться с цифры\n",
    "* Имя переменной может содержать только буквенно-цифровые символы и символы подчеркивания (Az, 0–9 и _).\n",
    "* Имена переменных чувствительны к регистру если одна переменная начинается с большой буквы, а вторая с маленькой - это две разных переменных.\n",
    "* Имя переменной не может быть ни одним из ключевых слов Python (речь идет о функциях и т.п). То есть нельзя нахвать переменную len - так как это наименование встроенной функции .\n",
    "* По соглашению наименования функций лучше писать в upper case (def SEARCH (args)), наименования классов - как title (class Student(args))\n",
    "* все наименования должны быть самодокументируемыми и передавать свое значение и содержание максимально точно"
   ]
  },
  {
   "cell_type": "code",
   "execution_count": 8,
   "metadata": {},
   "outputs": [
    {
     "name": "stdout",
     "output_type": "stream",
     "text": [
      "Число содержит значение 5\n",
      "Имя содержит значение John\n"
     ]
    }
   ],
   "source": [
    "number = 5 # integer\n",
    "name = \"John\" # string\n",
    "passed = True  # type bool\n",
    "print(f\"Число содержит значение {number}\")\n",
    "print(f'Имя содержит значение {name}')"
   ]
  },
  {
   "attachments": {},
   "cell_type": "markdown",
   "metadata": {},
   "source": [
    "### Распаковка коллекции данных (списка) в соответствуещее длинне списка количество переменных"
   ]
  },
  {
   "cell_type": "code",
   "execution_count": 7,
   "metadata": {},
   "outputs": [
    {
     "name": "stdout",
     "output_type": "stream",
     "text": [
      "fruit1 сейчас имеет значение apple, fruit2 - значение banana, а fruit3 - cherry соответственно\n"
     ]
    }
   ],
   "source": [
    "fruits = [\"apple\", \"banana\", \"cherry\"]\n",
    "fruit1, fruit2, fruit3 = fruits # положим в каждую переменную элемент списка, соответствующий порядку переменной\n",
    "print(f'fruit1 сейчас имеет значение {fruit1}, fruit2 - значение {fruit2}, а fruit3 - {fruit3} соответственно')"
   ]
  },
  {
   "attachments": {},
   "cell_type": "markdown",
   "metadata": {},
   "source": [
    "### Для склеивания строковых переменных можно использовать конкатенацию (+)"
   ]
  },
  {
   "cell_type": "code",
   "execution_count": 12,
   "metadata": {},
   "outputs": [
    {
     "name": "stdout",
     "output_type": "stream",
     "text": [
      "Python is awesome\n",
      "ИЛИ\n",
      "Python  is  awesome\n"
     ]
    }
   ],
   "source": [
    "x = \"Python \"\n",
    "y = \"is \"\n",
    "z = \"awesome\"\n",
    "print(x + y + z)\n",
    "print(\"ИЛИ\")\n",
    "print(x,y,z)"
   ]
  },
  {
   "attachments": {},
   "cell_type": "markdown",
   "metadata": {},
   "source": [
    "## Область видимости переменных. Глобальные и локальные переменные в функциях\n",
    "\n",
    "* локальная переменная - та которая видна только в рамках цикла или какой то части кода"
   ]
  },
  {
   "cell_type": "code",
   "execution_count": 14,
   "metadata": {},
   "outputs": [
    {
     "name": "stdout",
     "output_type": "stream",
     "text": [
      "Python is fantastic\n",
      "Python is fantastic\n"
     ]
    }
   ],
   "source": [
    "# глобальная переменная в функции. так переменная будет видима для всего кода\n",
    "def myfunc():\n",
    "  global variable\n",
    "  variable = \"fantastic\"\n",
    "myfunc()\n",
    "print(\"Python is \" + variable)\n",
    "\n",
    "# если мы меняем значение глобальной переменной  внутри функции так же используем ключевое слово глобал\n",
    "variable = \"awesome\"\n",
    "def myfunc():\n",
    "  global variable\n",
    "  variable = \"fantastic\"\n",
    "myfunc()\n",
    "print(\"Python is \" + variable)"
   ]
  },
  {
   "attachments": {},
   "cell_type": "markdown",
   "metadata": {},
   "source": [
    "## Однотипным переменным можно присвоить значения в одной строке"
   ]
  },
  {
   "cell_type": "code",
   "execution_count": 4,
   "metadata": {},
   "outputs": [
    {
     "name": "stdout",
     "output_type": "stream",
     "text": [
      "Orange Banana Cherry\n",
      "Если одно и то же значение присвоено нескольким переменным\n",
      "Orange Orange Orange\n"
     ]
    }
   ],
   "source": [
    "fruit1, fruit2, fruit3 = \"Orange\", \"Banana\", \"Cherry\"\n",
    "print(fruit1, fruit2, fruit3)\n",
    "# Если все несколько переменных именют одно значение то можно передать это значение в одной строке\n",
    "print(\"Если одно и то же значение присвоено нескольким переменным: \")\n",
    "fruit1 = fruit2 = fruit3 = \"Orange\"\n",
    "print(fruit1, fruit2, fruit3)\n"
   ]
  },
  {
   "attachments": {},
   "cell_type": "markdown",
   "metadata": {},
   "source": [
    "## Преобразование переменных\n",
    "\n",
    "Python сам определяет тип переменных, но иногда их необходимо принудительно преобразовывать, как бы давая подсказку, что это определенно вот такой тип данных"
   ]
  },
  {
   "cell_type": "code",
   "execution_count": null,
   "metadata": {},
   "outputs": [],
   "source": [
    "x = str(3)    # будет '3' - теперь 3 - это строковый символ\n",
    "y = int(3)    # сейчас 3 - это число, с ним можно проводить математические операции\n",
    "z = float(3)  # число с плавающей запятой"
   ]
  },
  {
   "attachments": {},
   "cell_type": "markdown",
   "metadata": {},
   "source": [
    "### INTEGERS (целые числа)"
   ]
  },
  {
   "cell_type": "code",
   "execution_count": 11,
   "metadata": {},
   "outputs": [
    {
     "name": "stdout",
     "output_type": "stream",
     "text": [
      "В результате, мы просто склеили две строки и получили:  23\n",
      "<class 'str'>\n"
     ]
    }
   ],
   "source": [
    "# по дефолту питон принимает на ввод строки. поэтому этот код выведет сложение не интов, а строк\n",
    "# в таком случае сложение этих строк  будет ошибочным\n",
    "x = input(\"What's x? \") # ввела 2\n",
    "y = input(\"What's y? \") # ввела 3\n",
    "z = x + y\n",
    "\n",
    "print(\"В результате, мы просто склеили две строки и получили: \", z) #  получила 23\n",
    "# обратите внимание, что тип (класс) переменной z - string\n",
    "print(type(z))"
   ]
  },
  {
   "cell_type": "code",
   "execution_count": 12,
   "metadata": {},
   "outputs": [
    {
     "name": "stdout",
     "output_type": "stream",
     "text": [
      "5\n",
      "<class 'int'>\n",
      "Преобразовывать можно сразу при вводе\n",
      "5\n"
     ]
    }
   ],
   "source": [
    "# Бывают случаи когда необходимо преобразовать введенные данные только на каком то этапе\n",
    "# Например, чтобы применить функции для строк (длинна числа), а \n",
    "# уже потом исходя из этой информации проводить операции с целыми числами\n",
    "x = input(\"What's x? \")\n",
    "y = input(\"What's y? \")\n",
    "z = int(x) + int(y)\n",
    "print(z)\n",
    "# в данном случае класс переменной - инт, так как питон видлит что в выражении целые числа\n",
    "print(type(z))\n",
    "print (\"Преобразовывать можно сразу при вводе\")\n",
    "x = int(input(\"What's x? \"))\n",
    "y = int(input(\"What's y? \"))\n",
    "# можно выводить на экран результат вычислений сразу в вункции принт, \n",
    "# не заводя переменную z если она нам не нужна в дальнейшем\n",
    "print(x + y)"
   ]
  },
  {
   "attachments": {},
   "cell_type": "markdown",
   "metadata": {},
   "source": [
    "## FLOAT (числа с плавающей запятой)"
   ]
  },
  {
   "cell_type": "code",
   "execution_count": 29,
   "metadata": {},
   "outputs": [
    {
     "name": "stdout",
     "output_type": "stream",
     "text": [
      "результат от сложения цифр с плавающей запятой 12.21 и 12.147 = 24.357\n"
     ]
    }
   ],
   "source": [
    "x = float(input(\"What's x? \"))\n",
    "y = float(input(\"What's y? \"))\n",
    "\n",
    "print(f\"Результат от сложения цифр с плавающей запятой {x} и {y} = {x + y}\")"
   ]
  },
  {
   "cell_type": "code",
   "execution_count": 25,
   "metadata": {},
   "outputs": [
    {
     "name": "stdout",
     "output_type": "stream",
     "text": [
      "Округленный результат от сложения 12.34 на 17.354 = 30\n"
     ]
    }
   ],
   "source": [
    "# Их можно округлять\n",
    "x = float(input(\"What's x? \"))\n",
    "y = float(input(\"What's y? \"))\n",
    "# округлить результат\n",
    "z = round(x + y)\n",
    "print(f\"Округленный результат от сложения {x} на {y} = {z}\")"
   ]
  },
  {
   "cell_type": "code",
   "execution_count": 22,
   "metadata": {},
   "outputs": [
    {
     "name": "stdout",
     "output_type": "stream",
     "text": [
      "Округленный результат до 2 знаков после запятой от деления 5.0 на 4.0 = 1.25\n"
     ]
    }
   ],
   "source": [
    "x = float(input(\"What's x? \"))\n",
    "y = float(input(\"What's y? \"))\n",
    "# округлить\n",
    "z = round(x / y, 2) # округлит до 2 знаков после запятой\n",
    "# распечатать\n",
    "print(f\"Округленный результат до 2 знаков после запятой от деления {x} на {y} = {z}\")"
   ]
  },
  {
   "cell_type": "code",
   "execution_count": 32,
   "metadata": {},
   "outputs": [
    {
     "name": "stdout",
     "output_type": "stream",
     "text": [
      "Округленный результат  от деления 5.0 на 4.0 до 2 знаков после запятой от деления 1.25\n"
     ]
    }
   ],
   "source": [
    "x = float(input(\"What's x? \"))\n",
    "y = float(input(\"What's y? \"))\n",
    "\n",
    "# Посчитать и положить результат в переменную z\n",
    "z = x / y\n",
    "\n",
    "# # Этот f string код отображает то же, что и  предыдущая стратегия округления (round(x / y, 2))\n",
    "print(f\"Округленный результат  от деления {x} на {y} до 2 знаков после запятой от деления {z:.2f}\")"
   ]
  },
  {
   "attachments": {},
   "cell_type": "markdown",
   "metadata": {},
   "source": [
    "# Форматирование при выводе чисел\n",
    "\n",
    "**print(f\"{z:,}\")** создает сценарий, в котором вывод **z** будет включать запятые, где результат может выглядеть как 1,000 или 2,500."
   ]
  },
  {
   "cell_type": "code",
   "execution_count": 37,
   "metadata": {},
   "outputs": [
    {
     "name": "stdout",
     "output_type": "stream",
     "text": [
      "Отформатировано для тысяч 1,002,000\n"
     ]
    }
   ],
   "source": [
    "x = float(input(\"What's x? \")) # 2000\n",
    "y = float(input(\"What's y? \")) # 1000000\n",
    "# Округлить результат\n",
    "z = round(x + y)\n",
    "# Вывести отформатированный результат (форматирует тысячи)\n",
    "print(f\"Отформатировано для тысяч {z:,}\") "
   ]
  },
  {
   "attachments": {},
   "cell_type": "markdown",
   "metadata": {},
   "source": [
    "## **Вывод строк. форматирование**"
   ]
  },
  {
   "cell_type": "code",
   "execution_count": 2,
   "metadata": {},
   "outputs": [
    {
     "name": "stdout",
     "output_type": "stream",
     "text": [
      "hello, Olga\n",
      "Второй вариант, отделение переменной запятой\n",
      "hello, Olga\n"
     ]
    }
   ],
   "source": [
    "name = input(\"What's your name? \")\n",
    "# Напечатать текст + содержимое переменной, в которую записан ввод пользователя\n",
    "print(\"hello, \" + name)\n",
    "print(\"Второй вариант, отделение переменной запятой\")\n",
    "# Напечатать текст + содержимое переменной, в которую записан ввод пользователя\n",
    "print(\"hello,\", name)"
   ]
  },
  {
   "attachments": {},
   "cell_type": "markdown",
   "metadata": {},
   "source": [
    "Если мы посмотрим на документацию, `print` мы узнаем, что мы можем многое узнать об аргументах, которые принимает функция печати.\n",
    "Функция печати автоматически включает фрагмент кода `end='\\n'`. Это `\\n` обозначает что после работы функции мы автоматически переходим на новую строку. Функция по дефолту принимает парамент называемый  `end`, и по умолчанию создается новая строка.\n",
    "Однако технически мы можем переопределить аргумент `end` себя, чтобы новая строка не создавалась!"
   ]
  },
  {
   "cell_type": "code",
   "execution_count": 4,
   "metadata": {},
   "outputs": [
    {
     "name": "stdout",
     "output_type": "stream",
     "text": [
      "hello, Olga\n"
     ]
    }
   ],
   "source": [
    "name = input(\"What's your name? \")\n",
    "# при переопределении этого параметра новая строка не создается\n",
    "print(\"hello, \", end=\"\")\n",
    "print(name)"
   ]
  },
  {
   "cell_type": "code",
   "execution_count": 5,
   "metadata": {},
   "outputs": [
    {
     "name": "stdout",
     "output_type": "stream",
     "text": [
      "hello, Olga\n"
     ]
    }
   ],
   "source": [
    "name = input(\"What's your name? \")\n",
    "# форматирование строки с помощью f\n",
    "print(f\"hello, {name}\")"
   ]
  },
  {
   "attachments": {},
   "cell_type": "markdown",
   "metadata": {},
   "source": [
    "Вы никогда не должны ожидать, что ваш пользователь будет сотрудничать, как задумано. Поэтому вам нужно будет убедиться, что ввод вашего пользователя исправлен или проверен.\n",
    "\n",
    "Оказывается, в строки встроена возможность удалять пробелы из строки.\n",
    "\n",
    "Используя метод `strip()` , он удалит все пробелы слева и справа от пользовательского ввода `name = name.strip()`"
   ]
  },
  {
   "cell_type": "code",
   "execution_count": 6,
   "metadata": {},
   "outputs": [
    {
     "name": "stdout",
     "output_type": "stream",
     "text": [
      "hello, Olga\n"
     ]
    }
   ],
   "source": [
    "name = input(\"What's your name? \")\n",
    "\n",
    "# Удалить пробелы (при вводе сделала по 4 пробела справа и слева.    OLGA   \n",
    "name = name.strip()\n",
    "\n",
    "# Вывести\n",
    "print(f\"hello, {name}\")"
   ]
  },
  {
   "attachments": {},
   "cell_type": "markdown",
   "metadata": {},
   "source": [
    "Для того чтобы при любом вводе пользователя его имя было написано с заглавной буквы, а остальные строчными используется метод `tittle()` . Базовый синтаксис `name = name.tittle()`"
   ]
  },
  {
   "cell_type": "code",
   "execution_count": null,
   "metadata": {},
   "outputs": [],
   "source": [
    "# Ask the user for their name\n",
    "name = input(\"What's your name? \")\n",
    "\n",
    "# Remove whitespace from the str\n",
    "name = name.strip()\n",
    "\n",
    "# Capitalize the first letter of each word\n",
    "name = name.title()\n",
    "\n",
    "# Print the output\n",
    "print(f\"hello, {name}\")"
   ]
  },
  {
   "attachments": {},
   "cell_type": "markdown",
   "metadata": {},
   "source": [
    "Совместим. Удалим лишние пробелы и напишем с заглавной буквы"
   ]
  },
  {
   "cell_type": "code",
   "execution_count": 7,
   "metadata": {},
   "outputs": [
    {
     "name": "stdout",
     "output_type": "stream",
     "text": [
      "hello, Olga Zorina\n"
     ]
    }
   ],
   "source": [
    "# ВВОЖУ UPPERCASE\n",
    "name = input(\"What's your name? \")\n",
    "\n",
    "# Если я ввожу несколько слов, например имя и фамилию, \n",
    "# то все слова напишутся с заглавной буквы и справа и слева уберутся проблеы (внутри нет)\n",
    "name = name.strip().title()\n",
    "\n",
    "# Print the output\n",
    "print(f\"hello, {name}\")"
   ]
  },
  {
   "attachments": {},
   "cell_type": "markdown",
   "metadata": {},
   "source": [
    "Эти функции применимы к пользовательскому вводу (для экономии строк кода=)"
   ]
  },
  {
   "cell_type": "code",
   "execution_count": null,
   "metadata": {},
   "outputs": [],
   "source": [
    "name = input(\"What's your name? \").strip().title()\n",
    "\n",
    "# Print the output\n",
    "print(f\"hello, {name}\")"
   ]
  },
  {
   "attachments": {},
   "cell_type": "markdown",
   "metadata": {},
   "source": [
    "### Регистры"
   ]
  },
  {
   "cell_type": "code",
   "execution_count": 10,
   "metadata": {},
   "outputs": [
    {
     "name": "stdout",
     "output_type": "stream",
     "text": [
      "Имя в нижнем регистре- olga\n",
      "\n",
      "Имя в верхнем регистре- OLGA\n"
     ]
    }
   ],
   "source": [
    "name = input(\"What is your name? \").lower()\n",
    "print(f\"Имя в нижнем регистре- {name}\")\n",
    "print()\n",
    "\n",
    "print(f\"Имя в верхнем регистре- {name.upper()}\")\n"
   ]
  },
  {
   "attachments": {},
   "cell_type": "markdown",
   "metadata": {},
   "source": [
    "## Format () (форматирование)"
   ]
  },
  {
   "attachments": {},
   "cell_type": "markdown",
   "metadata": {},
   "source": [
    "Строка, для которой вызывается этот метод, может содержать буквенный текст или **поля замены**, разделенные фигурными скобками {}. Каждое поле замены содержит либо **числовой индекс позиционного аргумента**, либо **имя** ключевого аргумента. Возвращает копию строки, в которой каждое поле замены заменяется строковым значением соответствующего аргумента."
   ]
  },
  {
   "cell_type": "code",
   "execution_count": 59,
   "metadata": {},
   "outputs": [
    {
     "name": "stdout",
     "output_type": "stream",
     "text": [
      "The sum of 1 + 2 is 3\n"
     ]
    }
   ],
   "source": [
    "# отформатирует строку согласно шаблону и поместит результат в {0}\n",
    "print((\"The sum of 1 + 2 is {0}\".format(1+2)))"
   ]
  },
  {
   "cell_type": "code",
   "execution_count": 9,
   "metadata": {},
   "outputs": [
    {
     "name": "stdout",
     "output_type": "stream",
     "text": [
      "My name is John, and I am 36\n"
     ]
    }
   ],
   "source": [
    "age = 36\n",
    "# отформатирует текст и поставит в {} введенный пользователем возраст\n",
    "txt = \"My name is John, and I am {}\"\n",
    "print(txt.format(age))"
   ]
  },
  {
   "cell_type": "code",
   "execution_count": 11,
   "metadata": {},
   "outputs": [
    {
     "name": "stdout",
     "output_type": "stream",
     "text": [
      "I want 3 pieces of item 567 for 49.95 dollars.\n"
     ]
    }
   ],
   "source": [
    "quantity = 3\n",
    "itemno = 567\n",
    "price = 49.95\n",
    "myorder = \"I want {} pieces of item {} for {} dollars.\"\n",
    "# отформатирует текст и поставит в {} введенные пользователем данные в указанном порядке\n",
    "print(myorder.format(quantity, itemno, price))"
   ]
  },
  {
   "cell_type": "code",
   "execution_count": 12,
   "metadata": {},
   "outputs": [
    {
     "name": "stdout",
     "output_type": "stream",
     "text": [
      "I want to pay 49.95 dollars for 3 pieces of item 567.\n"
     ]
    }
   ],
   "source": [
    "quantity = 3\n",
    "itemno = 567\n",
    "price = 49.95\n",
    "# в первые скобки пойдет значение цены (2 индекс элемента в скобках) во вторые нулевой элемент и тд\n",
    "myorder = \"I want to pay {2} dollars for {0} pieces of item {1}.\"\n",
    "print(myorder.format(quantity, itemno, price))"
   ]
  },
  {
   "attachments": {},
   "cell_type": "markdown",
   "metadata": {},
   "source": [
    "## Написание многострочного текста"
   ]
  },
  {
   "cell_type": "code",
   "execution_count": null,
   "metadata": {},
   "outputs": [],
   "source": [
    "a = \"\"\"Lorem ipsum dolor sit amet,\n",
    "consectetur adipiscing elit,\n",
    "sed do eiusmod tempor incididunt\n",
    "ut labore et dolore magna aliqua.\"\"\"\n",
    "print(a)\n"
   ]
  },
  {
   "attachments": {},
   "cell_type": "markdown",
   "metadata": {},
   "source": [
    "## str.join ()\n",
    "Возвращает строку, которая является конкатенацией строк при итеративных операциях (циклы). Если разделителем между элементами является строка"
   ]
  },
  {
   "cell_type": "code",
   "execution_count": null,
   "metadata": {},
   "outputs": [],
   "source": []
  },
  {
   "attachments": {},
   "cell_type": "markdown",
   "metadata": {},
   "source": [
    "## str.split()"
   ]
  },
  {
   "cell_type": "code",
   "execution_count": 55,
   "metadata": {},
   "outputs": [
    {
     "name": "stdout",
     "output_type": "stream",
     "text": [
      "['1', '2', '3']\n",
      "['1', '2,3']\n",
      "['1', '2', '', '3', '']\n",
      "['Two lines', '']\n"
     ]
    }
   ],
   "source": [
    "numbers ='1,2,3'.split(',')\n",
    "print(numbers)\n",
    "data = '1,2,3'.split(',', maxsplit=1)\n",
    "print(data)\n",
    "# разделит по запятой (найдет запятую, посчитает что каждый символ является отдельным, если после него стоит запятая)\n",
    "variable = '1,2,,3,'.split(',')\n",
    "print(variable)\n",
    "# посчитает новую строку элементом списка\n",
    "string ='Two lines\\n'.split('\\n')\n",
    "print(string)\n"
   ]
  },
  {
   "cell_type": "code",
   "execution_count": 7,
   "metadata": {},
   "outputs": [
    {
     "name": "stdout",
     "output_type": "stream",
     "text": [
      "Формат вывода числа (для расчета) 50.5\n"
     ]
    }
   ],
   "source": [
    "# удалит значок доллара для конвертации в число и последующих расчетов (может удалять его где угодно, справа, слева, в середине и тп)\n",
    "dollars = input(\"Введите количество валюты в формате $##.##: \").strip(\"$\")\n",
    "# убрали знак доллара для конвертации в число, теперь можно конвертировать (в данном случае это дробное число)\n",
    "dollars = float(dollars)\n",
    "print(f\"Формат вывода числа (для расчета) {dollars}\")\n",
    "   "
   ]
  },
  {
   "attachments": {},
   "cell_type": "markdown",
   "metadata": {},
   "source": [
    "Если sep (разделитель) не указан или равен None, применяется другой алгоритм разделения: последовательные пробелы рассматриваются как один разделитель, и результат не будет содержать пустых строк в начале или в конце, если в строке есть начальные или конечные пробелы. Следовательно, разделение пустой строки или строки, состоящей только из пробелов, с помощью None разделителя возвращает []."
   ]
  },
  {
   "cell_type": "code",
   "execution_count": 54,
   "metadata": {},
   "outputs": [
    {
     "name": "stdout",
     "output_type": "stream",
     "text": [
      "['1', '2', '3']\n"
     ]
    }
   ],
   "source": [
    "variable = '1    2    3 '.split()\n",
    "print(variable)\n"
   ]
  },
  {
   "attachments": {},
   "cell_type": "markdown",
   "metadata": {},
   "source": [
    "## str.replace()"
   ]
  },
  {
   "cell_type": "code",
   "execution_count": 8,
   "metadata": {},
   "outputs": [
    {
     "name": "stdout",
     "output_type": "stream",
     "text": [
      "Jello, World!\n",
      "Jello, Sorld!\n"
     ]
    }
   ],
   "source": [
    "a = \"Hello, World!\"\n",
    "# удалит H и заменит на J. \n",
    "print(a.replace(\"H\", \"J\"))\n",
    "# Можно выполнять замену нескольких символов, идущих не подряд\n",
    "b = \"Hello, World!\"\n",
    "print(b.replace(\"H\", \"J\").replace(\"W\", \"S\"))"
   ]
  },
  {
   "attachments": {},
   "cell_type": "markdown",
   "metadata": {},
   "source": [
    "## НАРЕЗКА СТРОК"
   ]
  },
  {
   "cell_type": "code",
   "execution_count": 1,
   "metadata": {},
   "outputs": [
    {
     "name": "stdout",
     "output_type": "stream",
     "text": [
      "llo\n"
     ]
    }
   ],
   "source": [
    "b = \"Hello, World!\"\n",
    "# Выведет со 2 по 4 индекс (5 не включает)\n",
    "print(b[2:5])"
   ]
  },
  {
   "cell_type": "code",
   "execution_count": 2,
   "metadata": {},
   "outputs": [
    {
     "name": "stdout",
     "output_type": "stream",
     "text": [
      "Hello\n"
     ]
    }
   ],
   "source": [
    "b = \"Hello, World!\"\n",
    "# Выведет с начала по 4 индекс (5 не включая)\n",
    "print(b[:5])"
   ]
  },
  {
   "cell_type": "code",
   "execution_count": 3,
   "metadata": {},
   "outputs": [
    {
     "name": "stdout",
     "output_type": "stream",
     "text": [
      "llo, World!\n"
     ]
    }
   ],
   "source": [
    "b = \"Hello, World!\"\n",
    "# выведет со  2 индекса до последнего\n",
    "print(b[2:])"
   ]
  },
  {
   "cell_type": "code",
   "execution_count": 4,
   "metadata": {},
   "outputs": [
    {
     "name": "stdout",
     "output_type": "stream",
     "text": [
      "orl\n"
     ]
    }
   ],
   "source": [
    "b = \"Hello, World!\"\n",
    "# при отрицательном индексировании выведет от 5 индекса с конца до 2 символа с конца\n",
    "print(b[-5:-2])"
   ]
  },
  {
   "attachments": {},
   "cell_type": "markdown",
   "metadata": {},
   "source": [
    "# **МЕТОДЫ СТРОК**"
   ]
  },
  {
   "attachments": {},
   "cell_type": "markdown",
   "metadata": {},
   "source": [
    "capitalize() Преобразует первый символ в верхний регистр\n",
    "\n",
    "casefold() Преобразует строку в нижний регистр\n",
    "\n",
    "center() Возвращает центрированную строку\n",
    "\n",
    "count() Возвращает количество раз, когда указанное значение встречается в строке\n",
    "\n",
    "encode() Возвращает кодированную версию строки\n",
    "\n",
    "endswith() Возвращает true, если строка заканчивается указанным значением\n",
    "\n",
    "expandtabs() Устанавливает размер табуляции строки\n",
    "\n",
    "find() Ищет в строке указанное значение и возвращает позицию, в которой оно было найдено\n",
    "\n",
    "format() Форматирует указанные значения в строке\n",
    "\n",
    "format_map() Форматирует указанные значения в строке\n",
    "\n",
    "index() Ищет в строке указанное значение и возвращает позицию, в которой оно было найдено\n",
    "\n",
    "isalnum() Возвращает True, если все символы в строке буквенно-цифровые\n",
    "\n",
    "isalpha() Возвращает True, если все символы в строке являются алфавитными\n",
    "\n",
    "isdecimal() Возвращает True, если все символы в строке десятичные\n",
    "\n",
    "isdigit() Возвращает True, если все символы в строке являются цифрами\n",
    "\n",
    "isidentifier() Возвращает True, если строка является идентификатором\n",
    "\n",
    "islower() Возвращает True, если все символы в строке являются строчными.\n",
    "\n",
    "isnumeric() Возвращает True, если все символы в строке являются цифрами\n",
    "\n",
    "isprintable() Возвращает True, если все символы в строке являются печатными\n",
    "\n",
    "ispace() Возвращает True, если все символы в строке являются пробелами\n",
    "\n",
    "istitle() Возвращает True, если строка соответствует правилам заголовка\n",
    "\n",
    "isupper() Возвращает True, если все символы в строке в верхнем регистре\n",
    "\n",
    "join() Присоединяет элементы итерабельной строки к концу строки\n",
    "\n",
    "ljust() Возвращает выровненную по левому краю версию строки\n",
    "\n",
    "lower() Преобразует строку в нижний регистр\n",
    "\n",
    "lstrip() Возвращает левую обрезанную версию строки\n",
    "\n",
    "maketrans() Возвращает таблицу переводов для использования в переводах\n",
    "\n",
    "partition() Возвращает кортеж, в котором строка разделена на три части\n",
    "\n",
    "replace() Возвращает строку, в которой указанное значение заменено на указанное значение\n",
    "\n",
    "rfind() Ищет в строке указанное значение и возвращает последнюю позицию, где оно было найдено\n",
    "\n",
    "rindex() Ищет в строке указанное значение и возвращает последнюю позицию, где оно было найдено\n",
    "\n",
    "rjust() Возвращает выровненную по правому краю версию строки\n",
    "\n",
    "rpartition() Возвращает кортеж, в котором строка разделена на три части\n",
    "\n",
    "rsplit() Разделяет строку на указанный разделитель и возвращает список\n",
    "\n",
    "rstrip() Возвращает обрезанную справа версию строки\n",
    "\n",
    "split() Разделяет строку по указанному разделителю и возвращает список\n",
    "\n",
    "splitlines() Разделяет строку на разрывы строк и возвращает список\n",
    "\n",
    "startswith() Возвращает true, если строка начинается с указанного значения\n",
    "\n",
    "strip() Возвращает обрезанную версию строки\n",
    "\n",
    "swapcase() Меняет регистры, нижний регистр становится верхним и наоборот\n",
    "\n",
    "title() Преобразует первый символ каждого слова в верхний регистр\n",
    "\n",
    "translate() Возвращает переведенную строку\n",
    "\n",
    "upper() Преобразует строку в верхний регистр\n",
    "\n",
    "zfill() Заполняет строку заданным количеством значений 0 в начале\n"
   ]
  },
  {
   "cell_type": "code",
   "execution_count": null,
   "metadata": {},
   "outputs": [],
   "source": []
  }
 ],
 "metadata": {
  "kernelspec": {
   "display_name": "Python 3",
   "language": "python",
   "name": "python3"
  },
  "language_info": {
   "codemirror_mode": {
    "name": "ipython",
    "version": 3
   },
   "file_extension": ".py",
   "mimetype": "text/x-python",
   "name": "python",
   "nbconvert_exporter": "python",
   "pygments_lexer": "ipython3",
   "version": "3.11.1"
  },
  "orig_nbformat": 4
 },
 "nbformat": 4,
 "nbformat_minor": 2
}
