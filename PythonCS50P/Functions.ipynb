{
 "cells": [
  {
   "attachments": {},
   "cell_type": "markdown",
   "metadata": {},
   "source": [
    "# ФУНКЦИИ\n",
    "\n",
    "**Функции** могут как принимать аргументы и возвращать значения, так и не принимать аргументов и не возвращать значений. Иля принимать аргументы и ничего не врозвращать\n",
    "\n",
    "Здесь, в первых строках, вы создаете свою hello функцию. Однако на этот раз вы сообщаете компилятору, что эта функция принимает единственный параметр: переменную с именем to. \n",
    "Поэтому при вызове hello(name) компьютер переходит name в hello функцию как to. Вот как мы передаем значения в функции."
   ]
  },
  {
   "cell_type": "code",
   "execution_count": null,
   "metadata": {},
   "outputs": [
    {
     "name": "stdout",
     "output_type": "stream",
     "text": [
      "эта функция ничего не принимает и не возвращает. она только пишет ПРИВЕТ\n",
      "hello\n",
      "Olga\n"
     ]
    }
   ],
   "source": [
    "print(\"эта функция ничего не принимает и не возвращает. она только пишет ПРИВЕТ\")\n",
    "def hello():\n",
    "    print(\"hello\")\n",
    "\n",
    "name = input(\"What's your name? \")\n",
    "# Вызываем функцию\n",
    "hello()\n",
    "print(name)\n"
   ]
  },
  {
   "cell_type": "code",
   "execution_count": null,
   "metadata": {},
   "outputs": [
    {
     "name": "stdout",
     "output_type": "stream",
     "text": [
      "эта функция принимает аргумент и ничего не возвращает. она только пишет принимая имя пользователя\n",
      "hello, Olga\n"
     ]
    }
   ],
   "source": [
    "print (\"эта функция принимает аргумент и ничего не возвращает. она только пишет принимая имя пользователя\")\n",
    "def hello(to):\n",
    "    print(\"hello,\", to)\n",
    "\n",
    "# Вывести с помощью функции\n",
    "name = input(\"What's your name? \")\n",
    "hello(name)"
   ]
  },
  {
   "cell_type": "code",
   "execution_count": null,
   "metadata": {},
   "outputs": [
    {
     "name": "stdout",
     "output_type": "stream",
     "text": [
      "hello, Olga\n",
      "hello, world\n"
     ]
    }
   ],
   "source": [
    "def main():\n",
    "\n",
    "    # Вывести используя функцию (поместили ее в главную функцию)\n",
    "    name = input(\"What's your name? \")\n",
    "    hello(name) # вывести с аргументами ( привет, имя_пользователя)\n",
    "\n",
    "    # вывести без аргументов (получим привет мир)\n",
    "    hello()\n",
    "\n",
    "\n",
    "# Создать функцию, которая при отсутствии аргумента по умолчанию пишет МИР, вместо имени\n",
    "def hello(to=\"world\"):\n",
    "    print(\"hello,\", to)\n",
    "\n",
    "# вызвать мейн, которая включила в себя необходимые функции и аргументы\n",
    "main()"
   ]
  },
  {
   "attachments": {},
   "cell_type": "markdown",
   "metadata": {},
   "source": [
    "Эта функция для возведения в квадрат. Она принимает на вход число и возвращает число умноженное на само себы (квадрат)"
   ]
  },
  {
   "cell_type": "code",
   "execution_count": 2,
   "metadata": {},
   "outputs": [
    {
     "name": "stdout",
     "output_type": "stream",
     "text": [
      "x в квадрате 16\n"
     ]
    }
   ],
   "source": [
    "# заполняем мейн всем что необходимо для работы (функцию, прием аргументов)\n",
    "def main():\n",
    "    x = int(input(\"Введите значение x: \"))\n",
    "    print(\"x в квадрате\", square(x))\n",
    "\n",
    "# создаем функцию\n",
    "def square(n):\n",
    "    return n * n\n",
    "\n",
    "# вызываем функцию мейн, в которую помещена функция возведения в квадрат\n",
    "main()"
   ]
  },
  {
   "cell_type": "code",
   "execution_count": null,
   "metadata": {},
   "outputs": [],
   "source": []
  }
 ],
 "metadata": {
  "kernelspec": {
   "display_name": "Python 3",
   "language": "python",
   "name": "python3"
  },
  "language_info": {
   "codemirror_mode": {
    "name": "ipython",
    "version": 3
   },
   "file_extension": ".py",
   "mimetype": "text/x-python",
   "name": "python",
   "nbconvert_exporter": "python",
   "pygments_lexer": "ipython3",
   "version": "3.11.1"
  },
  "orig_nbformat": 4
 },
 "nbformat": 4,
 "nbformat_minor": 2
}
