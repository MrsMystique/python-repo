{
 "cells": [
  {
   "attachments": {},
   "cell_type": "markdown",
   "metadata": {},
   "source": [
    "# Библиотеки Python\n",
    "\n",
    "Как правило, библиотеки — это фрагменты кода, написанные вами или кем-то другим, которые вы можете использовать в своей программе.\n",
    "Python позволяет вам делиться функциями или функциями с другими в виде «модулей».\n",
    "Если вы скопируете и вставите код из старого проекта, скорее всего, вы сможете создать такой модуль или библиотеку, которые сможете использовать в своем новом проекте.\n",
    "\n",
    "#### **Базовый синтаксис**\n",
    "\n",
    "    <import имя_библиотеки>\n",
    "\n",
    "    <имя_переменной = имя_библиотеки.имя_функции (аргументы)>"
   ]
  },
  {
   "attachments": {},
   "cell_type": "markdown",
   "metadata": {},
   "source": [
    "#### Импорт библиотеки **random**"
   ]
  },
  {
   "cell_type": "code",
   "execution_count": 14,
   "metadata": {},
   "outputs": [],
   "source": [
    "import random"
   ]
  },
  {
   "attachments": {},
   "cell_type": "markdown",
   "metadata": {},
   "source": [
    "Пример работы функции **shuffle ()**\n",
    "\n",
    "**Задача:** перетасовать карты"
   ]
  },
  {
   "cell_type": "code",
   "execution_count": 15,
   "metadata": {},
   "outputs": [
    {
     "name": "stdout",
     "output_type": "stream",
     "text": [
      "Текущий случайный порядок карт\n",
      "king queen jack "
     ]
    }
   ],
   "source": [
    "cards = [\"jack\", \"queen\", \"king\"]\n",
    "random.shuffle(cards)\n",
    "\n",
    "print(\"Текущий случайный порядок карт\")\n",
    "for card in cards:\n",
    "   print(card, end=' ')"
   ]
  },
  {
   "attachments": {},
   "cell_type": "markdown",
   "metadata": {},
   "source": [
    "Пример работы функции **radint ()**\n",
    "\n",
    "**Задача:** Выдать пользователю число из заданного в качестве аргумента диапазона \n",
    "\n",
    "***(жестко закодировано от 1 до 10 включительно)***"
   ]
  },
  {
   "cell_type": "code",
   "execution_count": 16,
   "metadata": {},
   "outputs": [
    {
     "name": "stdout",
     "output_type": "stream",
     "text": [
      "Случано сгенерированное число = 4\n"
     ]
    }
   ],
   "source": [
    "number = random.randint(1, 10)\n",
    "print(f\"Случано сгенерированное число = {number}\") "
   ]
  },
  {
   "attachments": {},
   "cell_type": "markdown",
   "metadata": {},
   "source": [
    "Пример работы функции **choice ()**\n",
    "\n",
    "**Задача:** Выбрать случайное значение из списка с вероятностью 50/50. Имитировать подбрасывание монетки. \n",
    "\n",
    "***(Орел или Решка)***"
   ]
  },
  {
   "cell_type": "code",
   "execution_count": 17,
   "metadata": {},
   "outputs": [
    {
     "name": "stdout",
     "output_type": "stream",
     "text": [
      " Вам выпал(a) Орел\n"
     ]
    }
   ],
   "source": [
    "coin = random.choice([\"Орел\", \"Решка\"])\n",
    "print(f\" Вам выпал(a) {coin}\")"
   ]
  },
  {
   "attachments": {},
   "cell_type": "markdown",
   "metadata": {},
   "source": [
    "#### Импорт библиотеки **statistics**"
   ]
  },
  {
   "cell_type": "code",
   "execution_count": 18,
   "metadata": {},
   "outputs": [],
   "source": [
    "import statistics"
   ]
  },
  {
   "attachments": {},
   "cell_type": "markdown",
   "metadata": {},
   "source": [
    "Пример работы функции **mean ()**\n",
    "\n",
    "**Задача:** найти среднее арифметическое значение, исходя из списка заданных значений"
   ]
  },
  {
   "cell_type": "code",
   "execution_count": 19,
   "metadata": {},
   "outputs": [
    {
     "name": "stdout",
     "output_type": "stream",
     "text": [
      " Среднее арифметичесткое чисел 100 и 90 = 95\n"
     ]
    }
   ],
   "source": [
    "Result = statistics.mean([100, 90])\n",
    "print(f\" Среднее арифметичесткое чисел 100 и 90 = {Result}\") "
   ]
  },
  {
   "attachments": {},
   "cell_type": "markdown",
   "metadata": {},
   "source": [
    "Пример работы функции **median ()**\n",
    "\n",
    "**Задача:** найти медианное значение, исходя из списка заданных значений ***(значения жестко закодированы ([100, 90, 120]))*** \n",
    "\n"
   ]
  },
  {
   "cell_type": "code",
   "execution_count": 20,
   "metadata": {},
   "outputs": [
    {
     "name": "stdout",
     "output_type": "stream",
     "text": [
      "Медианное значение списка чисел 100, 90, 120 = 100\n"
     ]
    }
   ],
   "source": [
    "Result = statistics.median([100, 90, 120])\n",
    "print(f\"Медианное значение списка чисел 100, 90, 120 = {Result}\")  "
   ]
  },
  {
   "attachments": {},
   "cell_type": "markdown",
   "metadata": {},
   "source": [
    "Пример работы функции **mode ()**\n",
    "\n",
    "**Задача:** найти моду, исходя из списка заданных значений\n",
    "***(значения жестко закодированы [100, 90, 120, 70, 50, 5, 5])*** "
   ]
  },
  {
   "cell_type": "code",
   "execution_count": 21,
   "metadata": {},
   "outputs": [
    {
     "name": "stdout",
     "output_type": "stream",
     "text": [
      "Значение моды в списке чисел = 5\n"
     ]
    }
   ],
   "source": [
    "Result = statistics.mode([100, 90, 120, 70, 50, 5, 5])\n",
    "print(f\"Значение моды в списке чисел = {Result}\") "
   ]
  },
  {
   "attachments": {},
   "cell_type": "markdown",
   "metadata": {},
   "source": [
    "\n",
    "**Задача:** найти амый распространенный цвет в списке"
   ]
  },
  {
   "cell_type": "code",
   "execution_count": 22,
   "metadata": {},
   "outputs": [
    {
     "name": "stdout",
     "output_type": "stream",
     "text": [
      "Модальное значение в списке = red\n"
     ]
    }
   ],
   "source": [
    "Result = statistics.mode([\"red\", \"blue\", \"blue\", \"red\", \"green\", \"red\", \"red\"])\n",
    "print(f\"Модальное значение в списке = {Result}\") "
   ]
  },
  {
   "attachments": {},
   "cell_type": "markdown",
   "metadata": {},
   "source": [
    "**Задача:** найти среднее арифметическое с плавающей запяток оценок студентов с разной ценностью (исходя из сложности)\n",
    "\n",
    "Обратите внимание на наличие двух списков в качестве аргументов (оценки, вес оценнок исходя из сложности работы)"
   ]
  },
  {
   "cell_type": "code",
   "execution_count": 23,
   "metadata": {},
   "outputs": [
    {
     "name": "stdout",
     "output_type": "stream",
     "text": [
      "Среднее арифметическое между двумя показателями (оценка) = 87.6\n"
     ]
    }
   ],
   "source": [
    "grades = [85, 92, 83, 91]\n",
    "weights = [0.20, 0.20, 0.30, 0.30]\n",
    "Result = statistics.fmean(grades, weights)\n",
    "print(f\"Среднее арифметическое между двумя показателями (оценка) = {Result}\")           "
   ]
  },
  {
   "attachments": {},
   "cell_type": "markdown",
   "metadata": {},
   "source": [
    "# Библиотека для работы с CSV-файлами"
   ]
  },
  {
   "attachments": {},
   "cell_type": "markdown",
   "metadata": {},
   "source": [
    "##### **open** - это функциональность, встроенная в Python, которая позволяет вам открывать файл и использовать его в своей программе. \n",
    "\n",
    "Функция openпозволяет вам открыть файл таким образом, чтобы вы могли читать или писать в него."
   ]
  },
  {
   "attachments": {},
   "cell_type": "markdown",
   "metadata": {},
   "source": [
    "### Режим записи в файл **\"w\"** - от слова write\n",
    "1. При вводе кода создается соответствующий текстовый файл\n",
    "2. В этот файл записываются данные, введенные с консоли\n",
    "3. в режиме записи \"w\" содержимое файла будет перезаписываться"
   ]
  },
  {
   "cell_type": "code",
   "execution_count": 1,
   "metadata": {},
   "outputs": [],
   "source": [
    "import csv"
   ]
  },
  {
   "cell_type": "code",
   "execution_count": 2,
   "metadata": {},
   "outputs": [],
   "source": [
    "# Присовоим переменной Имя значение введенное с консоли\n",
    "name = input(\"What's your name? \")\n",
    "# Открывает файл в режиме записи (\"w\")\n",
    "file = open(\"names.txt\", \"w\")\n",
    "# записывает в открытый файл значение переменной\n",
    "file.write(name) \n",
    "# закрывает файл\n",
    "file.close() "
   ]
  },
  {
   "attachments": {},
   "cell_type": "markdown",
   "metadata": {},
   "source": [
    "### Режим добавления в файл **\"a\"** - от слова **append** *(добавить)*\n",
    "1. При вводе кода создается  если не существует или открывается, если существует соответствующий текстовый файл\n",
    "2. В этот файл добавляются данные, введенные с консоли\n",
    "3. в режиме записи **\"a\"** содержимое файла будет добавляться к предыдущему содержимому"
   ]
  },
  {
   "cell_type": "code",
   "execution_count": 3,
   "metadata": {},
   "outputs": [],
   "source": [
    "# Присвоим переменной Имя (имя переменной будем выбирать исходя из имени столбца) значение введенное с консоли\n",
    "name = input(\"What's your name? \")\n",
    "# Открывает файл в режиме добавления информации, введенной через консоль (\"a\")\n",
    "file = open(\"names.txt\", \"a\")\n",
    "# записывает в открытый файл значение переменнойб после каждой записи имени переходит на новую строку\n",
    "file.write(f\"{name}\\n\")\n",
    "# закрывает файл\n",
    "file.close()"
   ]
  },
  {
   "attachments": {},
   "cell_type": "markdown",
   "metadata": {},
   "source": [
    "*Для работы с некоторыми библиотеками необходимо установить из через* **pip** с консоли\n",
    "\n",
    "Например: **pip install keyboard** \n",
    "\n",
    "Дальше библиотеку можно импортировать без проблем\n",
    "\n",
    "**Задача:** написать заполнение CSV-файла с клавиатуры циклом, который завершится по нажатию клавиши ESC"
   ]
  },
  {
   "cell_type": "code",
   "execution_count": 4,
   "metadata": {},
   "outputs": [],
   "source": [
    "# Импортируем библиотеку для работы с CSV-файлами\n",
    "import csv\n",
    "# Импортируем библиотеку для работы с клавиатурой (нажатие конкретных клавиш)\n",
    "import keyboard"
   ]
  },
  {
   "attachments": {},
   "cell_type": "markdown",
   "metadata": {},
   "source": [
    "## Работа с файлами через контекстный менеджер **(with...as)**\n",
    "Для автоматического закрытия файла необходимо использовать ключевое слово **with** функцию **open** *(имя обьекта, режим, дополнительные параметры форматирования и тп)* и присвоением псевдонима обьекту чтения/добавления информации  \n",
    "\n",
    "##### Режим добавления информации **'a'** (append)"
   ]
  },
  {
   "cell_type": "code",
   "execution_count": 5,
   "metadata": {},
   "outputs": [],
   "source": [
    "# с открытым в качестве файла Имена.csv в режиме добавления, добавлять все значения с новой строки\n",
    "with open('имена.csv', mode='a', newline='') as file:\n",
    "    # положить обьект (содержимое файла) в переменную писатель. Содержание отформатировано функцией writer из библиотеки CSV \n",
    "    writer = csv.writer(file)\n",
    "    # заполнять переменную построчно. столбец будет называться NAME\n",
    "    writer.writerow(['NAME', 'HOME'])\n",
    "    while True:\n",
    "        name = input('Введите имя: ')\n",
    "        home = input('Введите место жительства: ')\n",
    "        writer.writerow([name,home])\n",
    "        if keyboard.is_pressed('ESCAPE'):\n",
    "            break"
   ]
  },
  {
   "attachments": {},
   "cell_type": "markdown",
   "metadata": {},
   "source": [
    "#### Режим чтения файла (.txt, .csv) *или* mode = **'r'** или короче **'r'** - режим чтения файлов\n",
    "\n",
    "Переменная (в данном случае `lines`), в которую читают файл - это список из всех строк, каждая отдельная строка - элемент этого списка\n",
    "\n",
    "`lines = ['Antony Kondr,Russia,NaN **\\n**', 'Olga Zorina,Belarus,05.10.1989 **\\n**','Mark Zorin,Belarus,09.11.2010 **\\n**']`\n"
   ]
  },
  {
   "cell_type": "code",
   "execution_count": 33,
   "metadata": {},
   "outputs": [
    {
     "name": "stdout",
     "output_type": "stream",
     "text": [
      "\"Olga Zorina\",\"Belarus\",\"05.11.1988\"\n",
      "\"Mark Zorin\",\"Belarus\",\"07.11.2014\"\n",
      "\"Mama Masha\",\"Belarus\",\"11.03.1969\"\n",
      "\"Masha Rasrutina\",\"Russia\",\"03.12.1967\"\n",
      "\"Markusha Gromow\",\"Russia\",\"14.12.2012\"\n",
      "\"Olga Gromova\",\"Belarus\",\"05.11.1345\"\n",
      "\"Ronald McDonald\",\"USA\",\"19.07.2012\"\n",
      "\"Robin Good\",\"Sharewood\",\"13.01.1954\"\n",
      "\"Antony Kondr\",\"Russia\",\"NaN\"\n",
      "\"Michail Veller\",\"Russia\",\"NaN\"\n"
     ]
    }
   ],
   "source": [
    "# с открытым в качестве файла Имена.csv в режиме чтения\n",
    "with open(\"people.csv\", \"r\") as file:\n",
    "    # В переменную лайнс прочитать файл построчно \n",
    "    lines = file.readlines()\n",
    "# для каждого элемента (line) в переменной-списке lines дописать Привет,  элементом является строка файлы. список в данном случае - собранные строки с \\n в конце\n",
    "# к каждому обьекту и rstrip удаляется конец каждой строки ( а именно эскейп последовательность)\n",
    "# без .rstrip() между выведенными строками будут большие расстояния\n",
    "for line in lines:\n",
    "    print(line.rstrip())"
   ]
  },
  {
   "attachments": {},
   "cell_type": "markdown",
   "metadata": {},
   "source": [
    "## Работа с CSV-файлами с использованием словарей (чтение, запись)\n",
    " Из технической документации : `csv. DictWriter ( f , имена полей , restval = '' , extrasaction = 'raise' , диалект = 'excel' , * args , ** kwds )`\n",
    "\n",
    "В отличие от `DictReader` класса параметр `fieldnames` класса `DictWriter` **является обязательным.**\n",
    "\n",
    "Метод `DictWriter` требует строгого указания параметра  имен полей - fieldnames (columnnames). В качестве данных для записи используется словарь.\n",
    "\n",
    "При вводе переменных и списков  обращать внимание на область видимости переменных"
   ]
  },
  {
   "attachments": {},
   "cell_type": "markdown",
   "metadata": {},
   "source": [
    "## Метод **DictWriter**"
   ]
  },
  {
   "cell_type": "code",
   "execution_count": 48,
   "metadata": {},
   "outputs": [],
   "source": [
    "\n",
    "# с открытым в качестве файла people.csv в режиме добавления, далее этот обьект будем называть file (f, в целом это обычный псевдоним)\n",
    "with open(\"people.csv\", \"a\") as file:\n",
    "    # Параметр fieldnames представляет собой последовательность ключей словаря, определяющую порядок, в котором значения в словаре, переданном методу, writerow()\n",
    "    columnnames=[\"name\", \"home\", \"birth_date\"] \n",
    "    # Каждому ключу из параметра fieldnames присвоим значение введенное пользователем с консоли\n",
    "    name = input(\"Enter name: \")\n",
    "    home = input(\"Enter country: \")\n",
    "    birth_date = input(\"Enter date of birth: \")\n",
    "    # переменной writer передается обьект для записи в режиме словаря и имена полей для установления порядка записи\n",
    "    writer = csv.DictWriter(file, columnnames)\n",
    "    # записать заголовок столбцов\n",
    "    writer.writeheader()\n",
    "    # в writer записать значения в следующем порядке в одну строку методом writerow()\n",
    "    writer.writerow({\"name\": name, \"home\": home, \"birth_date\": birth_date})"
   ]
  },
  {
   "attachments": {},
   "cell_type": "markdown",
   "metadata": {},
   "source": [
    "## Метод **DictReader**\n",
    "\n",
    "##### Дополнительные параметры объекта DictReader\n",
    "\n",
    "* fieldnames – Определяет заголовки для столбцов\n",
    "\n",
    "* dialect – Параметры для форматирования информации\n",
    "\n",
    "* line_num – Устанавливает лимит на количество строк, которое может быть прочитано"
   ]
  },
  {
   "attachments": {},
   "cell_type": "markdown",
   "metadata": {},
   "source": [
    "Цикл **for** итерирует по каждой строке в **filereader**. Каждая строка представляет собой словарь, где ключи - это названия столбцов, а значения - это данные в этом столбце. \n",
    "\n",
    "* Мы создаем новый словарь для каждого человека, используя данные из столбцов \"name\", \"home\" и \"birth_date\". Затем мы добавляем этот словарь в список `people`.\n",
    "\n",
    "* В новую переменную (sortedList) кладем отсортированный список people (используем функцию `sorted()` для сортировки списка `people` по ключу \"name\") Мы передаем лямбда-функцию (функцию без имени) в качестве аргумента `key`, которая возвращает значение ключа \"name\" для каждого элемента списка. Затем мы используем цикл `for` для итерации по каждому элементу списка `people` и выводим информацию о каждом человеке на экран форматируя строку.\n",
    "\n",
    "**{первый элемент строки [принадлежаший столбцу имя]** живет в **{второй элемент строки [принадлежаший столбцу дом]** родился в **{третий элемент строки [принадлежаший столбцу др]**"
   ]
  },
  {
   "cell_type": "code",
   "execution_count": 57,
   "metadata": {},
   "outputs": [
    {
     "name": "stdout",
     "output_type": "stream",
     "text": [
      "Antony Kondr is in Russia, he was born in NaN\n",
      "Mama Masha is in Belarus, he was born in 11.03.1969\n",
      "Mark Zorin is in Belarus, he was born in 07.11.2014\n",
      "Markusha Gromow is in Russia, he was born in 14.12.2012\n",
      "Masha Rasrutina is in Russia, he was born in 03.12.1967\n",
      "Michail Medvedew is in Russia, he was born in 02.06.1965\n",
      "Michail Veller is in Russia, he was born in NaN\n",
      "Olga Gromova is in Belarus, he was born in 05.11.1345\n",
      "Olga Pronina is in Russia, he was born in 12.03.1987\n",
      "Olga Zorina is in Belarus, he was born in 05.11.1988\n",
      "Raja Rapay is in India, he was born in 12.05.2012\n",
      "Robin Good is in Sharewood, he was born in 13.01.1954\n",
      "Ronald McDonald is in USA, he was born in 19.07.2012\n",
      "Sasha Susko is in Russia, he was born in 02.04.1989\n"
     ]
    }
   ],
   "source": [
    "# создаем список в который будем передавать строки\n",
    "people = []\n",
    "# с открытым в качестве файла people.csv в режиме чтения, далее этот обьект будем называть file для обращения к нему\n",
    "with open(\"people.csv\", \"r\", newline ='') as file:\n",
    "    # в переменную filereader положим обьект котрый мы будем читать (все содержимое файла)\n",
    "    filereader = csv.DictReader(file)\n",
    "    # циклом перебираем filereader, которая содержит список всех строк \n",
    "    for row in filereader:\n",
    "        #  добавляем в список элементы каждого столбца ключи - это названия столбцов, а значения - это элемент строки, принадлежащий ячейке соответствующего столбца.\n",
    "        people.append({\"name\": row[\"name\"], \"home\": row[\"home\"], \"birth_date\": row[\"birth_date\"]})\n",
    "# используем функцию sorted() для сортировки списка people по ключу \"name\".\n",
    "sortedList =sorted(people, key=lambda student: student[\"name\"])\n",
    "# Используем цикл `for` для итерации по каждому элементу (person) уже отсортированного списка `sortedList` .\n",
    "for person in sortedList:\n",
    "    # выводим информацию о каждом человеке на экран форматируя строку так что: \n",
    "    # {первый элемент строки [принадлежаший столбцу имя] живет в {второй элемент строки [принадлежаший столбцу дом] родился в {третий элемент строки [принадлежаший столбцу др]\n",
    "    print(f\"{person['name']} is in {person['home']}, he was born in {person['birth_date']}\")"
   ]
  },
  {
   "attachments": {},
   "cell_type": "markdown",
   "metadata": {},
   "source": [
    "## О способах форматирования\n",
    "\n",
    "Конструкция (', '.join(row)) используется для объединения элементов списка **row** в одну строку, разделенную запятой и пробелом.\n",
    "\n",
    "Например, если есть список `row` с элементами `['John', '25', 'Male']`, то `', '.join(row)` вернет строку `'John, 25, Male'`.\n",
    "\n",
    "Функция `join()` объединяет элементы списка в одну строку, используя разделитель, который указывается в кавычках перед вызовом функции. В данном случае разделителем является строка `', '`. \n",
    "\n",
    "Когда мы используем эту конструкцию вместе с функцией `print()`, мы выводим объединенную строку на экран. Например, если мы хотим вывести на экран все элементы списка `row`, разделенные запятой и пробелом, мы можем использовать следующий код:"
   ]
  },
  {
   "cell_type": "code",
   "execution_count": 12,
   "metadata": {},
   "outputs": [],
   "source": [
    "with open('filename.csv', 'a', newline='') as csvfile:\n",
    "    writer = csv.writer(csvfile, delimiter=';')\n",
    "    writer.writerow(['Name', 'Age', 'Gender'])\n",
    "    writer.writerow(['John', '25', 'Male'])\n",
    "    writer.writerow(['Jane', '30', 'Female'])"
   ]
  },
  {
   "cell_type": "code",
   "execution_count": null,
   "metadata": {},
   "outputs": [],
   "source": [
    "import csv\n",
    "with open('people.csv', newline='') as file:\n",
    "    reader = csv.reader(file, delimiter=' ')\n",
    "    for row in reader:\n",
    "        print(','.join(row))"
   ]
  }
 ],
 "metadata": {
  "kernelspec": {
   "display_name": "Python 3",
   "language": "python",
   "name": "python3"
  },
  "language_info": {
   "codemirror_mode": {
    "name": "ipython",
    "version": 3
   },
   "file_extension": ".py",
   "mimetype": "text/x-python",
   "name": "python",
   "nbconvert_exporter": "python",
   "pygments_lexer": "ipython3",
   "version": "3.11.1"
  },
  "orig_nbformat": 4
 },
 "nbformat": 4,
 "nbformat_minor": 2
}
