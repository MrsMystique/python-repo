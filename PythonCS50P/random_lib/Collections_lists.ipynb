{
 "cells": [
  {
   "attachments": {},
   "cell_type": "markdown",
   "metadata": {},
   "source": [
    "# **Коллекции Python**\n",
    "\n",
    "**В языке программирования Python существует четыре типа данных коллекций:**\n",
    "\n",
    "* Список представляет собой набор, который упорядочен и может быть изменен. Позволяет дублировать элементы списка (может быть 2 и более одинаковых).\n",
    "* Кортеж — это упорядоченная и неизменяемая коллекция. Позволяет дублировать элементы (может быть 2 и более одинаковых).\n",
    "* Набор — это неупорядоченная, неизменяемая* и неиндексированная коллекция. Нет повторяющихся элементов. то есть все уникальны.\n",
    "* Словарь (ключ-значение) представляет собой сборник упорядоченный и изменяемый. Нет повторяющихся элементов."
   ]
  },
  {
   "attachments": {},
   "cell_type": "markdown",
   "metadata": {},
   "source": [
    "## **Списки**\n",
    "\n",
    "Списки — это один из 4 встроенных типов данных в Python, используемых для хранения коллекций данных, остальные 3 — это 'Tuple' , 'Set' и 'Dictionary' , все с разными качествами и использованием.\n",
    "\n",
    "Элементы списка упорядочены, изменяемы и допускают дублирование значений.\n",
    "\n",
    "Элементы списка индексируются, первый элемент имеет индекс [0], второй элемент имеет индекс [1]и т. д.\n",
    "\n",
    "#### Базовый синтакисис создания пустого списка: list_name = []"
   ]
  },
  {
   "cell_type": "code",
   "execution_count": 3,
   "metadata": {},
   "outputs": [
    {
     "name": "stdout",
     "output_type": "stream",
     "text": [
      "Antony\n",
      "Mark\n",
      "Olga\n"
     ]
    }
   ],
   "source": [
    "# Создание списка\n",
    "Fruits = []\n",
    "# заполнение списка из 3 элементов (for loop + append function (добавление в список))\n",
    "for element in range(3):\n",
    "    # буквально: к списку names. добавить(введенное с консоли(ответ на вопрос))\n",
    "    Fruits.append(input(\"Input name: \"))\n",
    "# вывод отсортированного списка (for loop + sorted function ())\n",
    "for element in sorted(Fruits):\n",
    "    print(element)\n"
   ]
  },
  {
   "attachments": {},
   "cell_type": "markdown",
   "metadata": {},
   "source": [
    "### **Жестко закодированный список**\n",
    "##### *Перебор значений циклом*\n",
    "#### Синтаксис: list_name = [arg, arg1, arg2, ...]"
   ]
  },
  {
   "cell_type": "code",
   "execution_count": 11,
   "metadata": {},
   "outputs": [
    {
     "name": "stdout",
     "output_type": "stream",
     "text": [
      "apple banana cherry "
     ]
    }
   ],
   "source": [
    "Fruits = [\"apple\", \"banana\", \"cherry\"]\n",
    "# выведем список циклом. строка (у нас каждый введенный элемент списка - новая строка по умолчанию) - элемент, \n",
    "# обьединим в одну строку, уберем установленный по умолчанию переход на новую строку\n",
    "for element in Fruits:\n",
    "        print(''.join(element), end=' ')"
   ]
  },
  {
   "attachments": {},
   "cell_type": "markdown",
   "metadata": {},
   "source": [
    "## Списки для различных типов данных\n",
    "\n",
    "В зависимости от типов данных есть, детали форматирования аргументов внутри списка\n",
    "* строки - берутся в одинарные либо двойные кавычки\n",
    "* числовые типы данных не берутся в кавычки\n",
    "* логический тип данных так же в кавычки не берется\n",
    "* смешанные списки форматирутся исходя из типа данных каждого аргумента"
   ]
  },
  {
   "cell_type": "code",
   "execution_count": null,
   "metadata": {},
   "outputs": [],
   "source": [
    "string_list = [\"apple\", \"banana\", \"cherry\"]\n",
    "integer_list = [1, 5, 7, 9, 3]\n",
    "boolean_list = [True, False, False]\n",
    "mixed_list = [\"string\", 34, True, 40, \"Masha\"]"
   ]
  },
  {
   "attachments": {},
   "cell_type": "markdown",
   "metadata": {},
   "source": [
    "## Индексирование\n",
    "Элементы списка индексируются  сначала от [0] до [N-1] ии с конца от [N-1] до [0]\n",
    "\n",
    "Для выведения элемента **с конца** списка необходимо ввести отрицательное число *(дословно, какой элемент с конца необходимо вывести)*\n",
    "\n",
    "Последний элемент имеет индекс [-1], предпоследний [-2] и так далее, до [0]"
   ]
  },
  {
   "cell_type": "code",
   "execution_count": 10,
   "metadata": {},
   "outputs": [
    {
     "name": "stdout",
     "output_type": "stream",
     "text": [
      "cherry\n"
     ]
    }
   ],
   "source": [
    "Fruits = [\"apple\", \"banana\", \"cherry\"]\n",
    "# вывести последний элемент\n",
    "print(Fruits[-1])"
   ]
  },
  {
   "attachments": {},
   "cell_type": "markdown",
   "metadata": {},
   "source": [
    "### **Slicing (нарезка)**"
   ]
  },
  {
   "cell_type": "code",
   "execution_count": 9,
   "metadata": {},
   "outputs": [
    {
     "name": "stdout",
     "output_type": "stream",
     "text": [
      "['cherry', 'orange', 'kiwi']\n",
      "['orange', 'kiwi', 'melon']\n",
      "['apple', 'banana', 'cherry', 'orange']\n",
      "['apple', 'banana', 'cherry', 'orange', 'kiwi', 'melon', 'mango']\n"
     ]
    }
   ],
   "source": [
    "Fruits = [\"apple\", \"banana\", \"cherry\", \"orange\", \"kiwi\", \"melon\", \"mango\"]\n",
    "# вывести элементы, начиная с индекса [2] (третий элемент) по [5] (шестой элемент, не включен)\n",
    "print(Fruits[2:5])\n",
    "# вывести элементы, начиная с индекса [4] (четвертый элемент) по [n-1] (последний)\n",
    "print(Fruits[3:-1])\n",
    "# вывести элементы, начиная с индекса [0] (первый элемент) по [4] (пятый, не включая)\n",
    "print(Fruits[:4])\n",
    "# вывести все элементы (с первого по последний)\n",
    "print(Fruits[:])"
   ]
  },
  {
   "attachments": {},
   "cell_type": "markdown",
   "metadata": {},
   "source": [
    "### Диапазон отрицательных индексов"
   ]
  },
  {
   "cell_type": "code",
   "execution_count": 8,
   "metadata": {},
   "outputs": [
    {
     "name": "stdout",
     "output_type": "stream",
     "text": [
      "['orange', 'kiwi', 'melon']\n"
     ]
    }
   ],
   "source": [
    "Fruits = [\"apple\", \"banana\", \"cherry\", \"orange\", \"kiwi\", \"melon\", \"mango\"]\n",
    "# дословно: начиная с 4 с конца до предпоследнего\n",
    "print(Fruits[-4:-1])"
   ]
  },
  {
   "attachments": {},
   "cell_type": "markdown",
   "metadata": {},
   "source": [
    "## Поиск в содержимом списка конкретного слова, элемента (совпадение)"
   ]
  },
  {
   "cell_type": "code",
   "execution_count": 7,
   "metadata": {},
   "outputs": [
    {
     "name": "stdout",
     "output_type": "stream",
     "text": [
      "Yes, orange is in the fruits list\n"
     ]
    }
   ],
   "source": [
    "Fruits = [\"apple\", \"banana\", \"cherry\", \"orange\", \"kiwi\", \"melon\", \"mango\"]\n",
    "# вводим с клавиатуры\n",
    "fruit = input('Enter fruit for searching in list of fruits: ')\n",
    "# вводим условие. Если находим совпадение - пишем - да, есть\n",
    "if fruit in Fruits:\n",
    "    print(f\"Yes, {fruit} is in the fruits list\")\n",
    "# иначе пишем, что не существет такого аргумента\n",
    "else:\n",
    "    print(f\"No, {fruit} isn't in the fruits list\")"
   ]
  },
  {
   "attachments": {},
   "cell_type": "markdown",
   "metadata": {},
   "source": [
    "## Внесение изменений в списки\n",
    "\n",
    "**Базовый синтакисис:** \n",
    "\n",
    "list = [arg[0], arg[1], arg[2], arg[3]]\n",
    "\n",
    "list[2] = [\"new_arg\"]\n",
    "\n",
    "list[1:4] = [\"new_arg\", \"new_arg2\", \"new_arg3\"]"
   ]
  },
  {
   "cell_type": "code",
   "execution_count": 6,
   "metadata": {},
   "outputs": [
    {
     "name": "stdout",
     "output_type": "stream",
     "text": [
      "['apple', 'blackcurrant', 'watermelon', 'orange', 'kiwi', 'mango']\n"
     ]
    }
   ],
   "source": [
    "Fruits = [\"apple\", \"banana\", \"cherry\", \"orange\", \"kiwi\", \"mango\"]\n",
    "# поменять значения в списке с именем фрукты  у элементов с 1 по 3 индекс (не включая)\n",
    "# внести новые значения \n",
    "Fruits[1:3] = [\"blackcurrant\", \"watermelon\"]\n",
    "# вывести новый список (без форматирования)\n",
    "print(Fruits)"
   ]
  },
  {
   "attachments": {},
   "cell_type": "markdown",
   "metadata": {},
   "source": [
    "#### **Вставка + замена энелементов списка**\n",
    "\n",
    "**ЕСЛИ** в списке замены элементов больше, чем указано в диапазоне индексов \n",
    "\n",
    "(например диапзон в 1 элемент, а вставляем 2, то первый элемент заменит базовый, а второй элемент будет вставлен в список)"
   ]
  },
  {
   "cell_type": "code",
   "execution_count": 15,
   "metadata": {},
   "outputs": [
    {
     "name": "stdout",
     "output_type": "stream",
     "text": [
      "['apple', 'blackcurrant', 'watermelon', 'cherry']\n"
     ]
    }
   ],
   "source": [
    "Fruits = [\"apple\", \"banana\", \"cherry\"]\n",
    "# диапазон заменяемых индексов - 1 (со второго элемента по 3 не включая, то есть только второй)\n",
    "Fruits[1:2] = [\"blackcurrant\", \"watermelon\"]\n",
    "print(Fruits)"
   ]
  },
  {
   "attachments": {},
   "cell_type": "markdown",
   "metadata": {},
   "source": [
    "#### **Замена и удаление элементов (замена 2 элементов одним значением)**\n",
    "\n",
    "**ЕСЛИ** диапазон индексов указан больший, чем вставлено новых аргументов, \n",
    "\n",
    "все значения диапазона будут удалены и заменены на новые аргументы"
   ]
  },
  {
   "cell_type": "code",
   "execution_count": 17,
   "metadata": {},
   "outputs": [
    {
     "name": "stdout",
     "output_type": "stream",
     "text": [
      "['apple', 'watermelon']\n"
     ]
    }
   ],
   "source": [
    "Fruits = [\"apple\", \"banana\", \"cherry\"]\n",
    "# list = [arg[0], arg[1], arg[2]]\n",
    "# указанный диапазон индексов от 1 по 2, то есть 1 и 2.  ИТОГО: 2 элемента\n",
    "# вставляем один новый аргумент вместо 2 предыдущих \n",
    "Fruits[1:3] = [\"watermelon\"]\n",
    "print(Fruits)"
   ]
  },
  {
   "attachments": {},
   "cell_type": "markdown",
   "metadata": {},
   "source": [
    "### **Заполнение нового списка на основании исходного**\n",
    "\n",
    "***Для выбора элементов из исходного списка можно использовать множество вариантов, которые непосредственно относятся к обращению к элементам класса Lists***\n",
    "\n",
    "**Например**\n",
    "\n",
    "* элементы которые содержат слово, цифру, символ и тп\n",
    "\n",
    "* элементы по индексу\n"
   ]
  },
  {
   "cell_type": "code",
   "execution_count": 8,
   "metadata": {},
   "outputs": [
    {
     "name": "stdout",
     "output_type": "stream",
     "text": [
      "Символ 'а' содержат следующие элементы списка ['apple', 'banana', 'mango']\n"
     ]
    }
   ],
   "source": [
    "# исходный список. из него берем элементы, которые содержат букву \"а\"\n",
    "Fruits = [\"apple\", \"banana\", \"cherry\", \"kiwi\", \"mango\"]\n",
    "# пустой список. В него мы положим найденные в исходном списке элементы, соответствующие условию\n",
    "newlist = []\n",
    "# перебираем значения исходного списка циклом for (дословно: для каждого элемента в списке Фрукты)\n",
    "for element in Fruits:\n",
    "  # Если символ \"а\" содержится в элементе\n",
    "  if \"a\" in element:\n",
    "    # добавим этот элемент в новый список\n",
    "    newlist.append(element)\n",
    "# выведем новый список\n",
    "print(f\"Символ 'а' содержат следующие элементы списка {newlist}\")\n"
   ]
  },
  {
   "attachments": {},
   "cell_type": "markdown",
   "metadata": {},
   "source": [
    "### Выборка по совпадению слога"
   ]
  },
  {
   "cell_type": "code",
   "execution_count": 9,
   "metadata": {},
   "outputs": [
    {
     "name": "stdout",
     "output_type": "stream",
     "text": [
      "Символы 'an' содержат следующие элементы списка ['banana', 'mango']\n"
     ]
    }
   ],
   "source": [
    "# исходный список. из него берем элементы, которые содержат символы \"аn\"\n",
    "Fruits = [\"apple\", \"banana\", \"cherry\", \"kiwi\", \"mango\"]\n",
    "# пустой список. В него мы положим найденные в исходном списке элементы, соответствующие условию\n",
    "newlist = []\n",
    "# перебираем значения исходного списка циклом for (дословно: для каждого элемента в списке Фрукты)\n",
    "for element in Fruits:\n",
    "  # Если набор символов \"аn\" содержится в элементе\n",
    "  if \"an\" in element:\n",
    "    # добавим этот элемент в новый список\n",
    "    newlist.append(element)\n",
    "# выведем новый список\n",
    "print(f\"Символы 'an' содержат следующие элементы списка {newlist}\")"
   ]
  },
  {
   "attachments": {},
   "cell_type": "markdown",
   "metadata": {},
   "source": [
    "### Вариант с заполнением циклом и с условием в одну строку"
   ]
  },
  {
   "cell_type": "code",
   "execution_count": 10,
   "metadata": {},
   "outputs": [
    {
     "name": "stdout",
     "output_type": "stream",
     "text": [
      "Символы 'l' содержат следующие элементы списка ['apple', 'melon']\n"
     ]
    }
   ],
   "source": [
    "Fruits = [\"apple\", \"banana\", \"cherry\", \"orange\", \"kiwi\", \"melon\", \"mango\"]\n",
    "#Дословно: добавить элемент из списка Фрукты, если он содержит в себе символ \"а\"\n",
    "newlist = [element for element in Fruits if \"l\" in element]\n",
    "print(f\"Символы 'l' содержат следующие элементы списка {newlist}\")"
   ]
  },
  {
   "attachments": {},
   "cell_type": "markdown",
   "metadata": {},
   "source": [
    "### **Циклы. Перебор значений** в списках"
   ]
  },
  {
   "attachments": {},
   "cell_type": "markdown",
   "metadata": {},
   "source": [
    "#### Цикл **FOR**:\n",
    "\n",
    "Базовый синтаксис: \n",
    "\n",
    "            `for element_name in list_name:`\n",
    "    \n",
    "                `do something`\n",
    "\n",
    "Переменная, обозначающая элемент в цикле может иметь любое имя. Если имя элемента не имеет значение, то ставится `_` - нижнее подчеркивание\n",
    "\n",
    "Для ограничений итераций в цикле можно пользоваться функциями `range()`, `len()`"
   ]
  },
  {
   "cell_type": "code",
   "execution_count": 34,
   "metadata": {},
   "outputs": [
    {
     "name": "stdout",
     "output_type": "stream",
     "text": [
      "apple\n",
      "banana\n",
      "cherry\n",
      "\n",
      "apple\n",
      "banana\n",
      "cherry\n"
     ]
    }
   ],
   "source": [
    "Fruits = [\"apple\", \"banana\", \"cherry\"]\n",
    "# перебор значений цикла с выводом их на экран. Дословно: для каждого элемента в списке фрукты, напечатать элемент\n",
    "for element in Fruits:\n",
    "  print(element)\n",
    "# для разделения вариантов использования цикла напечатаем пустую строку \n",
    "print() \n",
    "# перебор значений цикла с выводом их на экран с применением функции range() \n",
    "Fruits = [\"apple\", \"banana\", \"cherry\"]\n",
    "for element in range(len(Fruits)):\n",
    "  print(Fruits[element])"
   ]
  },
  {
   "attachments": {},
   "cell_type": "markdown",
   "metadata": {},
   "source": [
    "#### Цикл **WHILE**:\n",
    "\n",
    "Базовый синтаксис: \n",
    "\n",
    "            `while (boolean expression):`\n",
    "    \n",
    "                `do something`\n",
    "\n",
    "1. Логическое выражение для вечного цикла может содержать True\n",
    "\n",
    "2. В синтаксисе можно опустить скобки  `while boolean expression:`"
   ]
  },
  {
   "cell_type": "code",
   "execution_count": 35,
   "metadata": {},
   "outputs": [
    {
     "name": "stdout",
     "output_type": "stream",
     "text": [
      "apple\n",
      "banana\n",
      "cherry\n"
     ]
    }
   ],
   "source": [
    "Fruits = [\"apple\", \"banana\", \"cherry\"]\n",
    "# итератор (start value)\n",
    "i = 0\n",
    "# Дословно: ПОКА i меньше чем длинна списка Фрукты. Распечатывать каждый элемент и увеличивать после каждого цикла итератор на 1\n",
    "while i < len(Fruits):\n",
    "  print(Fruits[i])\n",
    "  i = i + 1"
   ]
  },
  {
   "attachments": {},
   "cell_type": "markdown",
   "metadata": {},
   "source": [
    "#### **Использование цикла в функции print()**\n",
    "\n",
    "В таком случае код берется в квадратные скобки `[print(variable) for variable in list_name]`"
   ]
  },
  {
   "cell_type": "code",
   "execution_count": 36,
   "metadata": {},
   "outputs": [
    {
     "name": "stdout",
     "output_type": "stream",
     "text": [
      "apple\n",
      "banana\n",
      "cherry\n"
     ]
    },
    {
     "data": {
      "text/plain": [
       "[None, None, None]"
      ]
     },
     "execution_count": 36,
     "metadata": {},
     "output_type": "execute_result"
    }
   ],
   "source": [
    "Fruits = [\"apple\", \"banana\", \"cherry\"]\n",
    "# наименование итератора не имеет значение. Аналогично принту в цикле этот код выведет на экран каждый элемент цикла\n",
    "[print(_) for _ in Fruits]"
   ]
  },
  {
   "attachments": {},
   "cell_type": "markdown",
   "metadata": {},
   "source": [
    "### **Копирование списка**\n",
    "\n",
    "Так как списки это ссылочный тип данных, то мы не можем в некоторых случаях, просто набрать list2 = list1, потому что: list2 будет содержать только ссылку на list1, а изменения, внесенные в list1 будут автоматически также сделаны в list2.\n",
    "\n",
    "        *Еще проще: обе переменные, будут хранить ссылку на один и тот же исходный массив. И если я произведу операцию по замене, удалению элемента,* \n",
    "\n",
    "        *то обе переменные будут содержать ту же ссылку, на те эже ячейки в памяти компьютера, но уже там будет храниться измененный список*\n",
    "\n",
    "        *Соответственно, и list1 и list2 будут ссылаться на одну и ту же информацию*\n",
    "\n",
    "        *Есть способы сделать копию по содержимому, один из способов — использовать встроенные методы для работы со списками - `copy()` и `list()`*\n",
    "\n",
    "*При копировании, создается совершенно иной список (с другим адресом в памяти), но идентичный по содержанию по отношению к исходному списку.*"
   ]
  },
  {
   "attachments": {},
   "cell_type": "markdown",
   "metadata": {},
   "source": [
    "Копирование списка методом `copy()`"
   ]
  },
  {
   "cell_type": "code",
   "execution_count": 37,
   "metadata": {},
   "outputs": [
    {
     "name": "stdout",
     "output_type": "stream",
     "text": [
      "Новый массив до изменений ['apple', 'banana', 'cherry']\n",
      "\n",
      "Новый массив после изменений ['apple', 'banana', 'watermelon', 'cherry', 'orange']\n",
      "Исходный массив с которого мы копировали значение ['apple', 'banana', 'cherry']\n",
      "\n",
      "Списки разные, значит изменения (добавление и вставка элементов) в копии списка не повлияло на исходный. Метод копирования работает\n"
     ]
    }
   ],
   "source": [
    "Fruits = [\"apple\", \"banana\", \"cherry\"]\n",
    "# В переменную положить полную копию содержания списка Фрукты\n",
    "FullCopyList = Fruits.copy()\n",
    "# Теперь можно редактировать копию массива, не затрагивая исходный массив. теперь это ссылки на отдельные области памяти\n",
    "print(f\"Новый массив до изменений {FullCopyList}\")\n",
    "# удалим из копии списка \"банан\"\n",
    "FullCopyList.append(\"orange\")\n",
    "FullCopyList.insert(2, \"watermelon\")\n",
    "print()\n",
    "# выведем на экран оба списка (исходный и копию, чтобы убедиться, что мы все сделали верно. Списки должны  быть с разным содержимым)\n",
    "print(f\"Новый массив после изменений {FullCopyList}\")\n",
    "print(f\"Исходный массив с которого мы копировали значение {Fruits}\")\n",
    "if len(Fruits)!= len(FullCopyList):\n",
    "    print()\n",
    "    print(\"Списки разные, значит изменения (добавление и вставка элементов) в копии списка не повлияло на исходный. Метод копирования работает\")"
   ]
  },
  {
   "attachments": {},
   "cell_type": "markdown",
   "metadata": {},
   "source": [
    "Копирование списка методом `list()`"
   ]
  },
  {
   "cell_type": "code",
   "execution_count": 33,
   "metadata": {},
   "outputs": [
    {
     "name": "stdout",
     "output_type": "stream",
     "text": [
      "Новый массив до изменений ['apple', 'banana', 'cherry']\n",
      "\n",
      "Новый массив после изменений ['apple', 'cherry']\n",
      "Исходный массив с которого мы копировали значение ['apple', 'banana', 'cherry']\n",
      "\n",
      "Списки разные, значит изменения (удаление элемента) в копии списка не повлияло на исходный. Метод копирования работает\n"
     ]
    }
   ],
   "source": [
    "Fruits = [\"apple\", \"banana\", \"cherry\"]\n",
    "# Теперь можно редактировать копию массива, не затрагивая исходный массив. теперь это ссылки на отдельные области памяти\n",
    "mylist = list(Fruits)\n",
    "print(f\"Новый массив до изменений {mylist}\")\n",
    "# удалим из копии списка \"банан\"\n",
    "mylist.remove(\"banana\")\n",
    "print()\n",
    "# выведем на экран оба списка (исходный и копию, чтобы убедиться, что мы все сделали верно. Списки должны  быть с разным содержимым)\n",
    "print(f\"Новый массив после изменений {mylist}\")\n",
    "print(f\"Исходный массив с которого мы копировали значение {Fruits}\")\n",
    "if len(Fruits)!= len(mylist):\n",
    "    print()\n",
    "    print(\"Списки разные, значит изменения (удаление элемента) в копии списка не повлияло на исходный. Метод копирования работает\")"
   ]
  },
  {
   "attachments": {},
   "cell_type": "markdown",
   "metadata": {},
   "source": [
    "## **Функции** для работы с классом **коллекции**\n",
    "\n",
    "**Основные:**\n",
    "\n",
    "`append()`\tметод добавляет элемент, который будет внесен в качестве аргумента в КОНЕЦ списка **(особенно полезно при заполнении списка с клавиатуры)**\n",
    "\n",
    "`clear()`\tУдаляет все элементы из списка (дословно, очищает), но не удаляет сам список\n",
    "\n",
    "`copy()`\tКопирует список и возвращает копию (списки, это ссылочный класс, для того чтобы не изменять исходный обьект, его необходимо копировать)\n",
    "\n",
    "`count()`\tВозвращает количество элементов, с указанным содержанием (совпадающие)\n",
    "\n",
    "`extend()`\tДобавить элементы списка (или любой итерабельной таблицы) в конец текущего списка. Дословно переводится как \"расширить\"\n",
    "\n",
    "`index()`\tВозвращает индекс элемента с указанным в качестве аргумента значением\n",
    "\n",
    "`insert()`\tДобавляет элемент на указанную позицию списка\n",
    "\n",
    "`pop()`\tудаляет элемент на указанной позиции (индекс берется в обычные скобки (1))\n",
    "\n",
    "`remove()`\tудаляет элемент с каким то указанным значением (также может принимать в качестве аргумента указатель на элемент в виде имени_списка[индекса])\n",
    "\n",
    "`reverse()`\t\"переворачивает\" список. если список отсортирован От А до Я, то выведется список обратный этому (от Я до А)\n",
    "\n",
    "`sort()`\tСортировка списка аналог (`sorted()`)\n",
    "\n"
   ]
  },
  {
   "attachments": {},
   "cell_type": "markdown",
   "metadata": {},
   "source": [
    "**append()** функция для добавления элемента\n",
    "\n",
    "Синтаксис: `list.append(elmnt)`\n",
    "\n",
    "***Если не указать под каким индексом необходимо вставить элемент - он добавится в конце списка***"
   ]
  },
  {
   "cell_type": "code",
   "execution_count": 5,
   "metadata": {},
   "outputs": [
    {
     "name": "stdout",
     "output_type": "stream",
     "text": [
      "['apple', 'banana', 'cherry', 'orange']\n"
     ]
    }
   ],
   "source": [
    "Fruits = [\"apple\", \"banana\", \"cherry\"]\n",
    "# добавить в список новый аргумент (апельсин)\n",
    "Fruits.append(\"orange\")\n",
    "print(Fruits)"
   ]
  },
  {
   "attachments": {},
   "cell_type": "markdown",
   "metadata": {},
   "source": [
    "**insert()** <- function: вставляет элемент по указанному индексу"
   ]
  },
  {
   "cell_type": "code",
   "execution_count": 2,
   "metadata": {},
   "outputs": [
    {
     "name": "stdout",
     "output_type": "stream",
     "text": [
      "['apple', 'banana', 'watermelon', 'cherry']\n"
     ]
    }
   ],
   "source": [
    "Fruits = [\"apple\", \"banana\", \"cherry\"]\n",
    "# имя_списка.вставить(под индексом 2, значение аргумента)\n",
    "Fruits.insert(2, \"watermelon\")\n",
    "# выведем новый список\n",
    "print(Fruits)"
   ]
  },
  {
   "attachments": {},
   "cell_type": "markdown",
   "metadata": {},
   "source": [
    "**extend()** <- function"
   ]
  },
  {
   "cell_type": "code",
   "execution_count": 22,
   "metadata": {},
   "outputs": [
    {
     "name": "stdout",
     "output_type": "stream",
     "text": [
      "['apple', 'banana', 'cherry', 'Ford', 'BMW', 'Volvo']\n"
     ]
    }
   ],
   "source": [
    "# исходный список\n",
    "fruits = ['apple', 'banana', 'cherry']\n",
    "# добавляемый список\n",
    "cars = ['Ford', 'BMW', 'Volvo']\n",
    "# список в который мы добавляем значения - фрукты. Добавим в конец список машины\n",
    "fruits.extend(cars)\n",
    "# выведем список в который мы добавлями (фрукты)\n",
    "print(fruits)"
   ]
  },
  {
   "attachments": {},
   "cell_type": "markdown",
   "metadata": {},
   "source": [
    "**sorted()** <- function\n"
   ]
  },
  {
   "cell_type": "code",
   "execution_count": 16,
   "metadata": {},
   "outputs": [
    {
     "name": "stdout",
     "output_type": "stream",
     "text": [
      "['apple', 'banana', 'cherry', 'kiwi', 'mango', 'orange']\n",
      "\n",
      "Вариант второй. Форматируем строки и проводим вычисления сразу в принте\n",
      "['apple', 'banana', 'cherry', 'kiwi', 'mango', 'orange']\n",
      "\n",
      "Вариант 3 - использование функции sort()\n",
      "[23, 50, 65, 82, 100]\n"
     ]
    }
   ],
   "source": [
    "Fruits = [\"apple\", \"banana\", \"cherry\", \"orange\", \"kiwi\", \"mango\"]\n",
    "# В данном примере писвоим новой переменной значения отсортированного списка\n",
    "sorted_Fruits = sorted(Fruits)\n",
    "print(sorted_Fruits)\n",
    "print()\n",
    "\n",
    "print(\"Вариант второй. Форматируем строки и проводим вычисления сразу в принте\")\n",
    "# Укоротим код. Сразу распечатаем отсортированный список\n",
    "Fruits = [\"apple\", \"banana\", \"cherry\", \"orange\", \"kiwi\", \"mango\"]\n",
    "print(sorted(Fruits))\n",
    "\n",
    "print()\n",
    "\n",
    "print(\"Вариант 3 - использование функции sort()\")\n",
    "NumbersList = [100, 50, 65, 82, 23]\n",
    "NumbersList.sort()\n",
    "print(NumbersList)"
   ]
  },
  {
   "attachments": {},
   "cell_type": "markdown",
   "metadata": {},
   "source": [
    "**reverse()** <- function \n",
    "\n",
    "Синтаксис: `list.reverse()`"
   ]
  },
  {
   "cell_type": "code",
   "execution_count": 17,
   "metadata": {},
   "outputs": [
    {
     "name": "stdout",
     "output_type": "stream",
     "text": [
      "Отсортированный массив ['apple', 'banana', 'cherry', 'kiwi', 'mango', 'orange']\n",
      "Перевернутый список ['orange', 'mango', 'kiwi', 'cherry', 'banana', 'apple']\n"
     ]
    }
   ],
   "source": [
    "Fruits = [\"apple\", \"banana\", \"cherry\", \"orange\", \"kiwi\", \"mango\"]\n",
    "# В данном примере писвоим новой переменной значения отсортированного списка\n",
    "sorted_Fruits = sorted(Fruits)\n",
    "print(f\"Отсортированный массив {sorted_Fruits}\")\n",
    "# Перевернем\n",
    "sorted_Fruits.reverse()\n",
    "print(f\"Перевернутый список {(sorted_Fruits)}\")"
   ]
  },
  {
   "cell_type": "code",
   "execution_count": 20,
   "metadata": {},
   "outputs": [
    {
     "name": "stdout",
     "output_type": "stream",
     "text": [
      "['pineapple', 'orange', 'mango', 'kiwi', 'banana']\n"
     ]
    }
   ],
   "source": [
    "Fruits = [\"orange\", \"mango\", \"kiwi\", \"pineapple\", \"banana\"]\n",
    "# буквально: сортируем список по убыванию\n",
    "Fruits.sort(reverse = True)\n",
    "print(Fruits)"
   ]
  },
  {
   "attachments": {},
   "cell_type": "markdown",
   "metadata": {},
   "source": [
    "**index** <- function\n",
    "\n",
    "Синтаксис: `list.index(elmnt)`\n",
    "\n",
    " метод `index()` возвращаем только первое значение списка, то есть, если в списке 2 и более одинаковых значений, мы получим только индекс первого"
   ]
  },
  {
   "cell_type": "code",
   "execution_count": 25,
   "metadata": {},
   "outputs": [
    {
     "name": "stdout",
     "output_type": "stream",
     "text": [
      "3\n"
     ]
    }
   ],
   "source": [
    "Fruits = [\"apple\", \"banana\", \"cherry\", \"orange\", \"kiwi\", \"mango\"]\n",
    "# вывести индекс элемента с наименованием \"orange\"\n",
    "print(Fruits.index(\"orange\"))"
   ]
  },
  {
   "attachments": {},
   "cell_type": "markdown",
   "metadata": {},
   "source": [
    "**count** <- function\n",
    "\n",
    "Синтаксис: `list.count(value)`"
   ]
  },
  {
   "cell_type": "code",
   "execution_count": 28,
   "metadata": {},
   "outputs": [
    {
     "name": "stdout",
     "output_type": "stream",
     "text": [
      "3\n"
     ]
    }
   ],
   "source": [
    "Fruits = [\"apple\", \"banana\", \"cherry\", \"orange\", \"kiwi\", \"mango\", \"orange\", \"orange\"]\n",
    "# посчитать количество элементов с наименованием \"orange\"\n",
    "print(Fruits.count(\"orange\"))"
   ]
  },
  {
   "attachments": {},
   "cell_type": "markdown",
   "metadata": {},
   "source": [
    "**remove()** - удаление элементов из списка\n"
   ]
  },
  {
   "cell_type": "code",
   "execution_count": 10,
   "metadata": {},
   "outputs": [
    {
     "name": "stdout",
     "output_type": "stream",
     "text": [
      "['apple', 'cherry']\n"
     ]
    }
   ],
   "source": [
    "Fruits = [\"apple\", \"banana\", \"cherry\"]\n",
    "# удаление из списка Фрукты c указанием содержимого списка\n",
    "Fruits.remove(\"banana\")\n",
    "print(Fruits)"
   ]
  },
  {
   "cell_type": "code",
   "execution_count": 11,
   "metadata": {},
   "outputs": [
    {
     "name": "stdout",
     "output_type": "stream",
     "text": [
      "['apple', 'cherry']\n"
     ]
    }
   ],
   "source": [
    "Fruits = [\"apple\", \"banana\", \"cherry\"]\n",
    "# удаление из списка Фрукты с указанием индекса удаляемого элемента (arg[1] - второй элемент списка, то есть \"банан\")\n",
    "Fruits.remove(Fruits[1])\n",
    "print(Fruits)"
   ]
  },
  {
   "attachments": {},
   "cell_type": "markdown",
   "metadata": {},
   "source": [
    "Второй вариант удаления - **pop()** <- function"
   ]
  },
  {
   "cell_type": "code",
   "execution_count": 12,
   "metadata": {},
   "outputs": [
    {
     "name": "stdout",
     "output_type": "stream",
     "text": [
      "['apple', 'cherry']\n"
     ]
    }
   ],
   "source": [
    "Fruits = [\"apple\", \"banana\", \"cherry\"]\n",
    "# удалить элемент с индексом 1 из списка Фрукты (банан)\n",
    "Fruits.pop(1)\n",
    "print(Fruits)"
   ]
  },
  {
   "cell_type": "code",
   "execution_count": 13,
   "metadata": {},
   "outputs": [
    {
     "name": "stdout",
     "output_type": "stream",
     "text": [
      "['apple', 'banana']\n"
     ]
    }
   ],
   "source": [
    "Fruits = [\"apple\", \"banana\", \"cherry\"]\n",
    "# удалить последний элемент ( в таком случае индекс можно опустить)\n",
    "Fruits.pop()\n",
    "print(Fruits)"
   ]
  },
  {
   "attachments": {},
   "cell_type": "markdown",
   "metadata": {},
   "source": [
    "**del** - ключевое слово"
   ]
  },
  {
   "cell_type": "code",
   "execution_count": 14,
   "metadata": {},
   "outputs": [
    {
     "name": "stdout",
     "output_type": "stream",
     "text": [
      "['banana', 'cherry']\n"
     ]
    }
   ],
   "source": [
    "Fruits = [\"apple\", \"banana\", \"cherry\"]\n",
    "# буквально - удалить элемент с индексом 0 (яблоко) из списка Фрукты\n",
    "del Fruits[0]\n",
    "print(Fruits)"
   ]
  },
  {
   "cell_type": "code",
   "execution_count": 16,
   "metadata": {},
   "outputs": [],
   "source": [
    "Fruits = [\"apple\", \"banana\", \"cherry\"]\n",
    "# удалить ВЕСЬ список Фрукты\n",
    "del Fruits\n",
    "# после этой операции список будет не просто пуст - он перестанет существовать"
   ]
  },
  {
   "attachments": {},
   "cell_type": "markdown",
   "metadata": {},
   "source": [
    "**clear** <- function. Очистка списка"
   ]
  },
  {
   "cell_type": "code",
   "execution_count": 20,
   "metadata": {},
   "outputs": [
    {
     "name": "stdout",
     "output_type": "stream",
     "text": [
      "[]\n"
     ]
    }
   ],
   "source": [
    "Fruits = [\"apple\", \"banana\", \"cherry\", \"orange\", \"kiwi\", \"mango\"]\n",
    "# очистить список Фрукты (удалить все аргументы)\n",
    "Fruits.clear()\n",
    "# выведется пустой список, то есть просто квадратные скобки, без аргументов\n",
    "print(Fruits)"
   ]
  },
  {
   "attachments": {},
   "cell_type": "markdown",
   "metadata": {},
   "source": [
    "**len()** <- function"
   ]
  },
  {
   "cell_type": "code",
   "execution_count": 3,
   "metadata": {},
   "outputs": [
    {
     "name": "stdout",
     "output_type": "stream",
     "text": [
      " В списке 3 элемента\n"
     ]
    }
   ],
   "source": [
    "Fruits = [\"apple\", \"banana\", \"cherry\"]\n",
    "# выведет длинну списка (len(list_name []))\n",
    "print(f\" В списке {len(Fruits)} элемента\")"
   ]
  },
  {
   "attachments": {},
   "cell_type": "markdown",
   "metadata": {},
   "source": [
    "**type()** <- function"
   ]
  },
  {
   "cell_type": "code",
   "execution_count": 4,
   "metadata": {},
   "outputs": [
    {
     "name": "stdout",
     "output_type": "stream",
     "text": [
      "переменная имеет тип: <class 'list'>\n"
     ]
    }
   ],
   "source": [
    "Fruits = [\"apple\", \"banana\", \"cherry\"]\n",
    "print(f\"переменная имеет тип: {type(Fruits)}\")"
   ]
  }
 ],
 "metadata": {
  "kernelspec": {
   "display_name": "Python 3",
   "language": "python",
   "name": "python3"
  },
  "language_info": {
   "codemirror_mode": {
    "name": "ipython",
    "version": 3
   },
   "file_extension": ".py",
   "mimetype": "text/x-python",
   "name": "python",
   "nbconvert_exporter": "python",
   "pygments_lexer": "ipython3",
   "version": "3.11.1"
  },
  "orig_nbformat": 4
 },
 "nbformat": 4,
 "nbformat_minor": 2
}
