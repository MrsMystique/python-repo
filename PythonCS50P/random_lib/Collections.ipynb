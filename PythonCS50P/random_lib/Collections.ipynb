{
 "cells": [
  {
   "attachments": {},
   "cell_type": "markdown",
   "metadata": {},
   "source": [
    "# Коллекции Python \n",
    "\n",
    "**В языке программирования Python существует четыре типа данных коллекций:**\n",
    "\n",
    "* Список представляет собой набор, который упорядочен и может быть изменен. Позволяет дублировать участников.\n",
    "* Кортеж — это упорядоченная и неизменяемая коллекция. Позволяет дублировать участников.\n",
    "* Набор — это неупорядоченная, неизменяемая* и неиндексированная коллекция. Нет повторяющихся членов.\n",
    "* Словарь (ключ-значение) представляет собой сборник упорядоченный и изменяемый. Нет повторяющихся членов."
   ]
  },
  {
   "attachments": {},
   "cell_type": "markdown",
   "metadata": {},
   "source": [
    "## **Списки**\n",
    "\n",
    "Списки — это один из 4 встроенных типов данных в Python, используемых для хранения коллекций данных, остальные 3 — это 'Tuple' , 'Set' и 'Dictionary' , все с разными качествами и использованием.\n",
    "\n",
    "Элементы списка упорядочены, изменяемы и допускают дублирование значений.\n",
    "\n",
    "Элементы списка индексируются, первый элемент имеет индекс [0], второй элемент имеет индекс [1]и т. д.\n",
    "\n",
    "#### Базовый синтакисис создания пустого списка: list_name = []"
   ]
  },
  {
   "cell_type": "code",
   "execution_count": 3,
   "metadata": {},
   "outputs": [
    {
     "name": "stdout",
     "output_type": "stream",
     "text": [
      "Antony\n",
      "Mark\n",
      "Olga\n"
     ]
    }
   ],
   "source": [
    "# Создание списка\n",
    "Fruits = []\n",
    "# заполнение списка из 3 элементов (for loop + append function (добавление в список))\n",
    "for element in range(3):\n",
    "    # буквально: к списку names. добавить(введенное с консоли(ответ на вопрос))\n",
    "    Fruits.append(input(\"Input name: \"))\n",
    "# вывод отсортированного списка (for loop + sorted function ())\n",
    "for element in sorted(Fruits):\n",
    "    print(element)\n"
   ]
  },
  {
   "attachments": {},
   "cell_type": "markdown",
   "metadata": {},
   "source": [
    "### **Жестко закодированный список**\n",
    "##### *Перебор значений циклом*\n",
    "#### Синтаксис: list_name = [arg, arg1, arg2, ...]"
   ]
  },
  {
   "cell_type": "code",
   "execution_count": 11,
   "metadata": {},
   "outputs": [
    {
     "name": "stdout",
     "output_type": "stream",
     "text": [
      "apple banana cherry "
     ]
    }
   ],
   "source": [
    "Fruits = [\"apple\", \"banana\", \"cherry\"]\n",
    "# выведем список циклом. строка (у нас каждый введенный элемент списка - новая строка по умолчанию) - элемент, \n",
    "# обьединим в одну строку, уберем установленный по умолчанию переход на новую строку\n",
    "for element in Fruits:\n",
    "        print(''.join(element), end=' ')"
   ]
  },
  {
   "attachments": {},
   "cell_type": "markdown",
   "metadata": {},
   "source": [
    "## Списки для различных типов данных\n",
    "\n",
    "В зависимости от типов данных есть, детали форматирования аргументов внутри списка\n",
    "* строки - берутся в одинарные либо двойные кавычки\n",
    "* числовые типы данных не берутся в кавычки\n",
    "* логический тип данных так же в кавычки не берется\n",
    "* смешанные списки форматирутся исходя из типа данных каждого аргумента"
   ]
  },
  {
   "cell_type": "code",
   "execution_count": null,
   "metadata": {},
   "outputs": [],
   "source": [
    "string_list = [\"apple\", \"banana\", \"cherry\"]\n",
    "integer_list = [1, 5, 7, 9, 3]\n",
    "boolean_list = [True, False, False]\n",
    "mixed_list = [\"string\", 34, True, 40, \"Masha\"]"
   ]
  },
  {
   "attachments": {},
   "cell_type": "markdown",
   "metadata": {},
   "source": [
    "## Индексирование\n",
    "Элементы списка индексируются  сначала от [0] до [N-1] ии с конца от [N-1] до [0]\n",
    "\n",
    "Для выведения элемента **с конца** списка необходимо ввести отрицательное число *(дословно, какой элемент с конца необходимо вывести)*\n",
    "\n",
    "Последний элемент имеет индекс [-1], предпоследний [-2] и так далее, до [0]"
   ]
  },
  {
   "cell_type": "code",
   "execution_count": 10,
   "metadata": {},
   "outputs": [
    {
     "name": "stdout",
     "output_type": "stream",
     "text": [
      "cherry\n"
     ]
    }
   ],
   "source": [
    "Fruits = [\"apple\", \"banana\", \"cherry\"]\n",
    "# вывести последний элемент\n",
    "print(Fruits[-1])"
   ]
  },
  {
   "attachments": {},
   "cell_type": "markdown",
   "metadata": {},
   "source": [
    "**Slicing (нарезка)**"
   ]
  },
  {
   "cell_type": "code",
   "execution_count": 9,
   "metadata": {},
   "outputs": [
    {
     "name": "stdout",
     "output_type": "stream",
     "text": [
      "['cherry', 'orange', 'kiwi']\n",
      "['orange', 'kiwi', 'melon']\n",
      "['apple', 'banana', 'cherry', 'orange']\n",
      "['apple', 'banana', 'cherry', 'orange', 'kiwi', 'melon', 'mango']\n"
     ]
    }
   ],
   "source": [
    "Fruits = [\"apple\", \"banana\", \"cherry\", \"orange\", \"kiwi\", \"melon\", \"mango\"]\n",
    "# вывести элементы, начиная с индекса [2] (третий элемент) по [5] (шестой элемент, не включен)\n",
    "print(Fruits[2:5])\n",
    "# вывести элементы, начиная с индекса [4] (четвертый элемент) по [n-1] (последний)\n",
    "print(Fruits[3:-1])\n",
    "# вывести элементы, начиная с индекса [0] (первый элемент) по [4] (пятый, не включая)\n",
    "print(Fruits[:4])\n",
    "# вывести все элементы (с первого по последний)\n",
    "print(Fruits[:])"
   ]
  },
  {
   "attachments": {},
   "cell_type": "markdown",
   "metadata": {},
   "source": [
    "### Диапазон отрицательных индексов"
   ]
  },
  {
   "cell_type": "code",
   "execution_count": 8,
   "metadata": {},
   "outputs": [
    {
     "name": "stdout",
     "output_type": "stream",
     "text": [
      "['orange', 'kiwi', 'melon']\n"
     ]
    }
   ],
   "source": [
    "Fruits = [\"apple\", \"banana\", \"cherry\", \"orange\", \"kiwi\", \"melon\", \"mango\"]\n",
    "# дословно: начиная с 4 с конца до предпоследнего\n",
    "print(Fruits[-4:-1])"
   ]
  },
  {
   "attachments": {},
   "cell_type": "markdown",
   "metadata": {},
   "source": [
    "## Поиск в содержимом списка конкретного слова, элемента (совпадение)"
   ]
  },
  {
   "cell_type": "code",
   "execution_count": 7,
   "metadata": {},
   "outputs": [
    {
     "name": "stdout",
     "output_type": "stream",
     "text": [
      "Yes, orange is in the fruits list\n"
     ]
    }
   ],
   "source": [
    "Fruits = [\"apple\", \"banana\", \"cherry\", \"orange\", \"kiwi\", \"melon\", \"mango\"]\n",
    "# вводим с клавиатуры\n",
    "fruit = input('Enter fruit for searching in list of fruits: ')\n",
    "# вводим условие. Если находим совпадение - пишем - да, есть\n",
    "if fruit in Fruits:\n",
    "    print(f\"Yes, {fruit} is in the fruits list\")\n",
    "# иначе пишем, что не существет такого аргумента\n",
    "else:\n",
    "    print(f\"No, {fruit} isn't in the fruits list\")"
   ]
  },
  {
   "attachments": {},
   "cell_type": "markdown",
   "metadata": {},
   "source": [
    "## Внесение изменений в списки\n",
    "\n",
    "**Базовый синтакисис:** \n",
    "\n",
    "list = [arg[0], arg[1], arg[2], arg[3]]\n",
    "\n",
    "list[2] = [\"new_arg\"]\n",
    "\n",
    "list[1:4] = [\"new_arg\", \"new_arg2\", \"new_arg3\"]"
   ]
  },
  {
   "cell_type": "code",
   "execution_count": 6,
   "metadata": {},
   "outputs": [
    {
     "name": "stdout",
     "output_type": "stream",
     "text": [
      "['apple', 'blackcurrant', 'watermelon', 'orange', 'kiwi', 'mango']\n"
     ]
    }
   ],
   "source": [
    "Fruits = [\"apple\", \"banana\", \"cherry\", \"orange\", \"kiwi\", \"mango\"]\n",
    "# поменять значения в списке с именем фрукты  у элементов с 1 по 3 индекс (не включая)\n",
    "# внести новые значения \n",
    "Fruits[1:3] = [\"blackcurrant\", \"watermelon\"]\n",
    "# вывести новый список (без форматирования)\n",
    "print(Fruits)"
   ]
  },
  {
   "attachments": {},
   "cell_type": "markdown",
   "metadata": {},
   "source": [
    "#### **Вставка + замена энелементов списка**\n",
    "\n",
    "**ЕСЛИ** в списке замены элементов больше, чем указано в диапазоне индексов \n",
    "\n",
    "(например диапзон в 1 элемент, а вставляем 2, то первый элемент заменит базовый, а второй элемент будет вставлен в список)"
   ]
  },
  {
   "cell_type": "code",
   "execution_count": 15,
   "metadata": {},
   "outputs": [
    {
     "name": "stdout",
     "output_type": "stream",
     "text": [
      "['apple', 'blackcurrant', 'watermelon', 'cherry']\n"
     ]
    }
   ],
   "source": [
    "Fruits = [\"apple\", \"banana\", \"cherry\"]\n",
    "# диапазон заменяемых индексов - 1 (со второго элемента по 3 не включая, то есть только второй)\n",
    "Fruits[1:2] = [\"blackcurrant\", \"watermelon\"]\n",
    "print(Fruits)"
   ]
  },
  {
   "attachments": {},
   "cell_type": "markdown",
   "metadata": {},
   "source": [
    "#### **Замена и удаление элементов (замена 2 элементов одним значением)**\n",
    "\n",
    "**ЕСЛИ** диапазон индексов указан больший, чем вставлено новых аргументов, \n",
    "\n",
    "все значения диапазона будут удалены и заменены на новые аргументы"
   ]
  },
  {
   "cell_type": "code",
   "execution_count": 17,
   "metadata": {},
   "outputs": [
    {
     "name": "stdout",
     "output_type": "stream",
     "text": [
      "['apple', 'watermelon']\n"
     ]
    }
   ],
   "source": [
    "Fruits = [\"apple\", \"banana\", \"cherry\"]\n",
    "# list = [arg[0], arg[1], arg[2]]\n",
    "# указанный диапазон индексов от 1 по 2, то есть 1 и 2.  ИТОГО: 2 элемента\n",
    "# вставляем один новый аргумент вместо 2 предыдущих \n",
    "Fruits[1:3] = [\"watermelon\"]\n",
    "print(Fruits)"
   ]
  },
  {
   "cell_type": "markdown",
   "metadata": {},
   "source": []
  },
  {
   "attachments": {},
   "cell_type": "markdown",
   "metadata": {},
   "source": [
    "## **Функции**\n",
    "\n"
   ]
  },
  {
   "attachments": {},
   "cell_type": "markdown",
   "metadata": {},
   "source": [
    "**append()** функция для добавления элемента\n",
    "\n",
    "***Если не указать под каким индексом необходимо вставить элемент - он добавится в конце списка***"
   ]
  },
  {
   "cell_type": "code",
   "execution_count": 5,
   "metadata": {},
   "outputs": [
    {
     "name": "stdout",
     "output_type": "stream",
     "text": [
      "['apple', 'banana', 'cherry', 'orange']\n"
     ]
    }
   ],
   "source": [
    "Fruits = [\"apple\", \"banana\", \"cherry\"]\n",
    "# добавить в список новый аргумент (апельсин)\n",
    "Fruits.append(\"orange\")\n",
    "print(Fruits)"
   ]
  },
  {
   "attachments": {},
   "cell_type": "markdown",
   "metadata": {},
   "source": [
    "**insert()** <- function: вставляет элемент по указанному индексу"
   ]
  },
  {
   "cell_type": "code",
   "execution_count": 2,
   "metadata": {},
   "outputs": [
    {
     "name": "stdout",
     "output_type": "stream",
     "text": [
      "['apple', 'banana', 'watermelon', 'cherry']\n"
     ]
    }
   ],
   "source": [
    "Fruits = [\"apple\", \"banana\", \"cherry\"]\n",
    "# имя_списка.вставить(под индексом 2, значение аргумента)\n",
    "Fruits.insert(2, \"watermelon\")\n",
    "# выведем новый список\n",
    "print(Fruits)"
   ]
  },
  {
   "attachments": {},
   "cell_type": "markdown",
   "metadata": {},
   "source": [
    "**remove()** - удаление элементов из списка\n"
   ]
  },
  {
   "cell_type": "code",
   "execution_count": 10,
   "metadata": {},
   "outputs": [
    {
     "name": "stdout",
     "output_type": "stream",
     "text": [
      "['apple', 'cherry']\n"
     ]
    }
   ],
   "source": [
    "Fruits = [\"apple\", \"banana\", \"cherry\"]\n",
    "# удаление из списка Фрукты c указанием содержимого списка\n",
    "Fruits.remove(\"banana\")\n",
    "print(Fruits)"
   ]
  },
  {
   "cell_type": "code",
   "execution_count": 11,
   "metadata": {},
   "outputs": [
    {
     "name": "stdout",
     "output_type": "stream",
     "text": [
      "['apple', 'cherry']\n"
     ]
    }
   ],
   "source": [
    "Fruits = [\"apple\", \"banana\", \"cherry\"]\n",
    "# удаление из списка Фрукты с указанием индекса удаляемого элемента (arg[1] - второй элемент списка, то есть \"банан\")\n",
    "Fruits.remove(Fruits[1])\n",
    "print(Fruits)"
   ]
  },
  {
   "attachments": {},
   "cell_type": "markdown",
   "metadata": {},
   "source": [
    "**Len()** <- function"
   ]
  },
  {
   "cell_type": "code",
   "execution_count": 3,
   "metadata": {},
   "outputs": [
    {
     "name": "stdout",
     "output_type": "stream",
     "text": [
      " В списке 3 элемента\n"
     ]
    }
   ],
   "source": [
    "Fruits = [\"apple\", \"banana\", \"cherry\"]\n",
    "# выведет длинну списка (len(list_name []))\n",
    "print(f\" В списке {len(Fruits)} элемента\")"
   ]
  },
  {
   "attachments": {},
   "cell_type": "markdown",
   "metadata": {},
   "source": [
    "**type()** <- function"
   ]
  },
  {
   "cell_type": "code",
   "execution_count": 4,
   "metadata": {},
   "outputs": [
    {
     "name": "stdout",
     "output_type": "stream",
     "text": [
      "переменная имеет тип: <class 'list'>\n"
     ]
    }
   ],
   "source": [
    "Fruits = [\"apple\", \"banana\", \"cherry\"]\n",
    "print(f\"переменная имеет тип: {type(Fruits)}\")"
   ]
  },
  {
   "attachments": {},
   "cell_type": "markdown",
   "metadata": {},
   "source": [
    "## **Словарь (Dictionary)**"
   ]
  },
  {
   "cell_type": "code",
   "execution_count": null,
   "metadata": {},
   "outputs": [],
   "source": []
  }
 ],
 "metadata": {
  "kernelspec": {
   "display_name": "Python 3",
   "language": "python",
   "name": "python3"
  },
  "language_info": {
   "codemirror_mode": {
    "name": "ipython",
    "version": 3
   },
   "file_extension": ".py",
   "mimetype": "text/x-python",
   "name": "python",
   "nbconvert_exporter": "python",
   "pygments_lexer": "ipython3",
   "version": "3.11.1"
  },
  "orig_nbformat": 4
 },
 "nbformat": 4,
 "nbformat_minor": 2
}
