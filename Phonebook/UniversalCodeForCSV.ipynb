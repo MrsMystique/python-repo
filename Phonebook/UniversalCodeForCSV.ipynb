{
 "cells": [
  {
   "cell_type": "code",
   "execution_count": null,
   "metadata": {},
   "outputs": [],
   "source": [
    "# pip install qrcode\n",
    "# pip install reportlab\n",
    "# pip install pandas"
   ]
  },
  {
   "attachments": {},
   "cell_type": "markdown",
   "metadata": {},
   "source": [
    "## **Импорт библиотек**"
   ]
  },
  {
   "cell_type": "code",
   "execution_count": 3,
   "metadata": {},
   "outputs": [],
   "source": [
    "# импорт библиотек\n",
    "import csv\n",
    "import pandas as pd\n",
    "from reportlab.pdfgen import canvas\n",
    "import qrcode"
   ]
  },
  {
   "attachments": {},
   "cell_type": "markdown",
   "metadata": {},
   "source": [
    "### Прочтем нужный файл для общего понимания"
   ]
  },
  {
   "cell_type": "code",
   "execution_count": 61,
   "metadata": {},
   "outputs": [
    {
     "data": {
      "text/html": [
       "<div>\n",
       "<style scoped>\n",
       "    .dataframe tbody tr th:only-of-type {\n",
       "        vertical-align: middle;\n",
       "    }\n",
       "\n",
       "    .dataframe tbody tr th {\n",
       "        vertical-align: top;\n",
       "    }\n",
       "\n",
       "    .dataframe thead th {\n",
       "        text-align: right;\n",
       "    }\n",
       "</style>\n",
       "<table border=\"1\" class=\"dataframe\">\n",
       "  <thead>\n",
       "    <tr style=\"text-align: right;\">\n",
       "      <th></th>\n",
       "      <th>NAME</th>\n",
       "      <th>LASTNAME</th>\n",
       "      <th>PHONE</th>\n",
       "      <th>EMAIL</th>\n",
       "      <th>TELEGRAM</th>\n",
       "      <th>ORGANIZATION NAME</th>\n",
       "    </tr>\n",
       "  </thead>\n",
       "  <tbody>\n",
       "    <tr>\n",
       "      <th>0</th>\n",
       "      <td>MASHA</td>\n",
       "      <td>ARTEMEWA</td>\n",
       "      <td>34254356565</td>\n",
       "      <td>MASHA@FGDGF.COM</td>\n",
       "      <td>@FHDJSGJ</td>\n",
       "      <td>ASEC GOW</td>\n",
       "    </tr>\n",
       "    <tr>\n",
       "      <th>1</th>\n",
       "      <td>SASHA</td>\n",
       "      <td>SOLNCEV</td>\n",
       "      <td>374378634</td>\n",
       "      <td>RASTIKE@DFDFJ.COM</td>\n",
       "      <td>@OOOOOO</td>\n",
       "      <td>ALPHAVIT</td>\n",
       "    </tr>\n",
       "    <tr>\n",
       "      <th>2</th>\n",
       "      <td>DASHA</td>\n",
       "      <td>KRASIVAIA</td>\n",
       "      <td>2354647895</td>\n",
       "      <td>DASHA@FGDH.COM</td>\n",
       "      <td>@FHDJSGJ</td>\n",
       "      <td>ABS CONSTRUCTION</td>\n",
       "    </tr>\n",
       "    <tr>\n",
       "      <th>3</th>\n",
       "      <td>DASHA</td>\n",
       "      <td>KRASIV</td>\n",
       "      <td>375292202727</td>\n",
       "      <td>GOOGLE@GLAIL.COM</td>\n",
       "      <td>@DARIAG</td>\n",
       "      <td>ALPHABET</td>\n",
       "    </tr>\n",
       "    <tr>\n",
       "      <th>4</th>\n",
       "      <td>ANDR</td>\n",
       "      <td>KONDR</td>\n",
       "      <td>937529220</td>\n",
       "      <td>KONDART@GML.COM</td>\n",
       "      <td>@KONDR</td>\n",
       "      <td>SOFTWARE LLC</td>\n",
       "    </tr>\n",
       "  </tbody>\n",
       "</table>\n",
       "</div>"
      ],
      "text/plain": [
       "    NAME   LASTNAME         PHONE              EMAIL  TELEGRAM  \\\n",
       "0  MASHA   ARTEMEWA   34254356565    MASHA@FGDGF.COM  @FHDJSGJ   \n",
       "1  SASHA    SOLNCEV     374378634  RASTIKE@DFDFJ.COM   @OOOOOO   \n",
       "2  DASHA  KRASIVAIA    2354647895     DASHA@FGDH.COM  @FHDJSGJ   \n",
       "3  DASHA     KRASIV  375292202727   GOOGLE@GLAIL.COM   @DARIAG   \n",
       "4   ANDR      KONDR     937529220    KONDART@GML.COM    @KONDR   \n",
       "\n",
       "  ORGANIZATION NAME  \n",
       "0          ASEC GOW  \n",
       "1          ALPHAVIT  \n",
       "2  ABS CONSTRUCTION  \n",
       "3          ALPHABET  \n",
       "4      SOFTWARE LLC  "
      ]
     },
     "execution_count": 61,
     "metadata": {},
     "output_type": "execute_result"
    }
   ],
   "source": [
    "# читаем 2 строки\n",
    "filename = input(\"Введите имя файла для чтения: \")\n",
    "filename = f\"{filename}.csv\"\n",
    "df = pd.read_csv(filename)\n",
    "df.head(5)"
   ]
  },
  {
   "attachments": {},
   "cell_type": "markdown",
   "metadata": {},
   "source": [
    "## **Функция поэтапного добавления информации в CSV - файл**\n",
    "\n",
    "1. Считываем Header - первую строку файла CSV, имя котрого мы ввели с клавиатуры. имя файла вводится вместе с расширением phonebook.csv\n",
    "2. Получаем список имен столбцов в список `columnNames`\n",
    "3. Открываем файл в режиме добавления `\"a\"`\n",
    "4. `DictWriter` создает объект, который может записывать словари в файл CSV. Кладем это в переменную `writer`. При создании объекта `DictWriter` мы передаем два аргумента: `file` - файловый объект, в который мы хотим записать данные, и `fieldnames` - список имен столбцов в файле CSV.\n",
    "5. Затем мы создаем словарь `data`, который будет содержать какие то данные, согласно текущему столбцу. В цикле `for`  мы перебираем поэлементно список `columnNames` и запрашиваем у пользователя значения для каждого столбца и сохраняем их в словаре `data`. Для этого мы используем функцию `input()` и метод `strip()`, чтобы удалить любые лишние пробелы в начале и конце строки.\n",
    "6. Все вводимые значения на каждом этапе цикла - value каждого конкретного ключа (наименования столбца)\n",
    "7. Наконец, мы используем метод `writerow()` объекта `DictWriter`, чтобы записать данные нового контакта в файл. Метод `writerow()` принимает словарь, который содержит данные, которые мы хотим записать в файл. Этот словарь должен содержать ключи, соответствующие именам столбцов в файле CSV, и значения, которые мы хотим записать в каждый столбец.\n"
   ]
  },
  {
   "cell_type": "code",
   "execution_count": 2,
   "metadata": {},
   "outputs": [
    {
     "name": "stdout",
     "output_type": "stream",
     "text": [
      "Контакт добавлен!\n"
     ]
    }
   ],
   "source": [
    "def add_info_to_csv(filename):\n",
    "    # добавляет расширение к введенному имени файла\n",
    "    filename = f\"{filename}.csv\"\n",
    "    # читаем, создаем список их наименований столбцов\n",
    "    with open(filename, \"r\", newline =\"\") as file:\n",
    "        reader = csv.reader(file, delimiter=',') \n",
    "        columnNames = next(reader)\n",
    "    with open(filename, \"a\", newline=\"\") as file:\n",
    "        writer = csv.DictWriter(file, fieldnames = columnNames)\n",
    "        data = {}\n",
    "        for column in columnNames:\n",
    "            data[column] = input(f\"Введите {column}: \").strip().upper()\n",
    "        writer.writerow(data)\n",
    "    print(f'Информация добавлена! Проверьте измененния в файле {filename}')\n",
    "# ввод с расширением  phonebook.csv\n",
    "filename = input(\"Введите имя файла, который вы хотите открыть: \").strip()\n",
    "add_info_to_csv(filename)"
   ]
  },
  {
   "attachments": {},
   "cell_type": "markdown",
   "metadata": {},
   "source": [
    "## **Функция поиска данных в CSV - файле**"
   ]
  },
  {
   "cell_type": "code",
   "execution_count": 49,
   "metadata": {},
   "outputs": [
    {
     "name": "stdout",
     "output_type": "stream",
     "text": [
      "===============================\n",
      "NAME:  DASHA\n",
      "LASTNAME:  KRASIVAIA\n",
      "PHONE:  2354647895\n",
      "EMAIL:  DASHA@FGDH.COM\n",
      "TELEGRAM:  @FHDJSGJ\n",
      "ORGANIZATION NAME:  ABS CONSTRUCTION\n",
      "===============================\n",
      "===============================\n",
      "NAME:  DASHA\n",
      "LASTNAME:  KRASIV\n",
      "PHONE:  375292202727\n",
      "EMAIL:  GOOGLE@GLAIL.COM\n",
      "TELEGRAM:  @DARIAG\n",
      "ORGANIZATION NAME:  ALPHABET\n",
      "===============================\n"
     ]
    }
   ],
   "source": [
    "# Функция для поиска контакта (визитка)\n",
    "def search_info_in_csv(filename):\n",
    "    filename = f\"{filename}.csv\"\n",
    "    # считываем данные из CSV файла в DataFrame\n",
    "    df = pd.read_csv(filename)\n",
    "    with open(filename, \"r\", newline =\"\") as file:\n",
    "        reader = csv.reader(file, delimiter=',') \n",
    "        columnNames = next(reader)\n",
    "    # запрашиваем у пользователя строку для поиска\n",
    "    search_term = input(\"Поиск по файлу: \").strip().upper()\n",
    "    # фильтруем DataFrame по запросу пользователя\n",
    "    filtered_df = df[df.apply(lambda row: search_term.lower() in row.astype(str).str.lower().str.cat(sep=' '), axis=1)]\n",
    "    # выводим найденные данные в форме визитной карточки\n",
    "    for index, row in filtered_df.iterrows():\n",
    "        print('===============================')\n",
    "        for column in columnNames:\n",
    "            print(f'{column}: ', row[column])\n",
    "        print('===============================')\n",
    "filename = input(\"Введите имя файла, который вы хотите открыть: \").strip()\n",
    "search_info_in_csv(filename)"
   ]
  },
  {
   "cell_type": "code",
   "execution_count": 30,
   "metadata": {},
   "outputs": [
    {
     "name": "stdout",
     "output_type": "stream",
     "text": [
      "Подсказка: Имена столбцов в этом файле\n",
      "Name  Lastname  Phone  Email  Telegram  Organization name   \t \n",
      "\n",
      "Вывожу информацию\n",
      "     Name Lastname         Phone             Email Telegram Organization name\n",
      "9  Markus      Zor  456098750697  markus@gmail.com  @markus    Mark Softweare\n"
     ]
    }
   ],
   "source": [
    "# Функция для поиска инфы столбцы. вариант 2\n",
    "def search_info_in_csv(filename):\n",
    "    filename = f\"{filename}.csv\"\n",
    "    # считываем данные из CSV файла в DataFrame\n",
    "    df = pd.read_csv(filename)\n",
    "    with open(filename, \"r\", newline =\"\") as file:\n",
    "        reader = csv.reader(file, delimiter=',') \n",
    "        columnNames = next(reader)\n",
    "    print(\"Подсказка: Имена столбцов в этом файле\")\n",
    "    print(*columnNames,\" \\t \", sep=\"  \")\n",
    "    col_name = input (\"Введите имя столбца в котором нужно искать информацию\").strip().upper()\n",
    "    # запрашиваем у пользователя строку для поиска\n",
    "    search_term = input(\"Введите параметр для поиска: \").strip().upper()\n",
    "    # фильтруем DataFrame по запросу пользователя\n",
    "    filtered_df = df[(df[col_name].str.contains(search_term, case = False))]\n",
    "    print(\"\\nВывожу информацию ...\")\n",
    "    # выводим найденные данные\n",
    "    print(filtered_df)\n",
    "    \n",
    "filename = input(\"Введите имя файла, который вы хотите открыть: \").strip()\n",
    "search_info_in_csv(filename)\n"
   ]
  },
  {
   "cell_type": "code",
   "execution_count": null,
   "metadata": {},
   "outputs": [],
   "source": [
    "# Функция для поиска столбцы. все содержимое\n",
    "def columns_values_in_csv(filename):\n",
    "    filename = f\"{filename}.csv\"\n",
    "    # считываем данные из CSV файла в DataFrame\n",
    "    df = pd.read_csv(filename)\n",
    "    with open(filename, \"r\", newline =\"\") as file:\n",
    "        reader = csv.reader(file, delimiter=',') \n",
    "        columnNames = next(reader)\n",
    "    print(\"Подсказка: Имена столбцов в этом файле\")\n",
    "    print(*columnNames,\" \\t \", sep=\"  \")\n",
    "    \n",
    "    column_val = int(input(\"Сколько столбцов вам необходимо выбрать? \"))\n",
    "    # запрашиваем у пользователя имена столбцов для выборки\n",
    "    selected_columns = []\n",
    "    for i in range(column_val):\n",
    "        col_name = input(f\"Введите имя {i+1} столбца для добавления в выборку: \").strip().upper()\n",
    "        selected_columns.append(col_name)\n",
    "        \n",
    "    # выводим содержимое выбранных столбцов\n",
    "    print(\"\\nВывожу информацию ...\")\n",
    "    for index, row in df[selected_columns].iterrows():\n",
    "        print('===============================')\n",
    "        for col_name in selected_columns:\n",
    "            print(f'{col_name}: {row[col_name]}')\n",
    "        print('===============================')\n",
    "\n",
    "filename = input(\"Введите имя файла, который вы хотите открыть: \").strip()\n",
    "columns_values_in_csv(filename)\n"
   ]
  },
  {
   "cell_type": "code",
   "execution_count": 70,
   "metadata": {},
   "outputs": [
    {
     "name": "stdout",
     "output_type": "stream",
     "text": [
      "Подсказка: Имена столбцов в файле phonebook\n",
      "NAME  LASTNAME  PHONE  EMAIL  TELEGRAM  ORGANIZATION NAME   \t \n",
      "\n",
      "Вывожу результаты...\n",
      "     NAME LASTNAME         PHONE             EMAIL TELEGRAM ORGANIZATION NAME\n",
      "0  MARKUS      ZOR  456098750697  MARKUS@GMAIL.COM  @MARKUS    MARK SOFTWEARE\n"
     ]
    }
   ],
   "source": [
    "import pandas as pd\n",
    "import sqlite3\n",
    "\n",
    "filename = input(\"Введите имя файла, который вы хотите открыть: \").strip()\n",
    "full_filename = f\"{filename}.csv\"\n",
    "# считываем данные из CSV файла в DataFrame\n",
    "df = pd.read_csv(full_filename)\n",
    "with open(full_filename, \"r\", newline =\"\") as file:\n",
    "        reader = csv.reader(file, delimiter=',') \n",
    "        columnNames = next(reader)\n",
    "print(f\"Подсказка: Имена столбцов в файле {filename}\")\n",
    "print(*columnNames,\" \\t \", sep=\"  \")\n",
    "# создаем соединение с базой данных в памяти\n",
    "conn = sqlite3.connect(':memory:')\n",
    "# записываем DataFrame в базу данных\n",
    "df.to_sql(filename, conn, index = False)\n",
    "\n",
    "# выполняем SQL запрос на данных из DataFrame SELECT * FROM phonebook WHERE name LIKE 'Dasha%'\n",
    "query = input(\"Введите запрос\")\n",
    "result = pd.read_sql(query, conn)\n",
    "print(\"\\nВывожу результаты...\")\n",
    "# выводим результаты запроса\n",
    "print(result)"
   ]
  },
  {
   "cell_type": "code",
   "execution_count": 80,
   "metadata": {},
   "outputs": [
    {
     "name": "stdout",
     "output_type": "stream",
     "text": [
      "Подсказка: Имена столбцов в файле phonebook\n",
      "NAME  LASTNAME  PHONE  EMAIL  TELEGRAM  ORGANIZATION NAME   \t \n",
      "\n",
      "Вывожу результаты...\n",
      "    NAME   LASTNAME         PHONE             EMAIL  TELEGRAM  \\\n",
      "0  DASHA  KRASIVAIA    2354647895    DASHA@FGDH.COM  @FHDJSGJ   \n",
      "1  DASHA     KRASIV  375292202727  GOOGLE@GLAIL.COM   @DARIAG   \n",
      "\n",
      "  ORGANIZATION NAME  \n",
      "0  ABS CONSTRUCTION  \n",
      "1          ALPHABET  \n"
     ]
    }
   ],
   "source": [
    "import csv\n",
    "import sqlite3\n",
    "\n",
    "def search_contacts(filename, search_term, columnName):\n",
    "    full_filename = f\"{filename}.csv\"\n",
    "    # считываем данные из CSV файла в DataFrame\n",
    "    df = pd.read_csv(full_filename)\n",
    "    # создаем соединение с базой данных в памяти\n",
    "    conn = sqlite3.connect(':memory:')\n",
    "    # записываем DataFrame в базу данных\n",
    "    df.to_sql(filename, conn, index = False)\n",
    "    # Выполнение запроса SQL для поиска контактов\n",
    "    query= f\"SELECT * FROM {filename} WHERE {columnName} LIKE '%{search_term}%'\"\n",
    "    result = pd.read_sql(query, conn)\n",
    "    print(\"\\nВывожу результаты...\")\n",
    "    # выводим результаты запроса\n",
    "    print(result)\n",
    "    \n",
    "filename = input(\"Введите имя файла, который вы хотите открыть: \").strip()\n",
    "print(f\"Подсказка: Имена столбцов в файле {filename}\")\n",
    "print(*columnNames,\" \\t \", sep=\"  \")\n",
    "columnName = input(\"\\nВведите столбец по которому будете искать:\").strip().upper()\n",
    "search_term = input(\"Введите параметр для поиска: \").strip().upper()\n",
    "\n",
    "search_contacts(filename, search_term, columnName)\n"
   ]
  }
 ],
 "metadata": {
  "kernelspec": {
   "display_name": "Python 3",
   "language": "python",
   "name": "python3"
  },
  "language_info": {
   "codemirror_mode": {
    "name": "ipython",
    "version": 3
   },
   "file_extension": ".py",
   "mimetype": "text/x-python",
   "name": "python",
   "nbconvert_exporter": "python",
   "pygments_lexer": "ipython3",
   "version": "3.11.1"
  },
  "orig_nbformat": 4
 },
 "nbformat": 4,
 "nbformat_minor": 2
}
