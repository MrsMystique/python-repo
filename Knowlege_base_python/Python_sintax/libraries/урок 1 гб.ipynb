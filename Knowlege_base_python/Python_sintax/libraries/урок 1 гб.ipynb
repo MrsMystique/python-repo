{
 "cells": [
  {
   "attachments": {},
   "cell_type": "markdown",
   "metadata": {},
   "source": [
    "## **Задача 1**\n",
    "<code>\n",
    "dict1 = {'One': 1, 'Two': 2, 'Three': 3}\n",
    "\n",
    "dict2 = {'Four': 4, 'Five': 5, 'Six': 6}\n",
    "</code>\n",
    "\n",
    "##### Цели\n",
    "\n",
    "- Соединить два словаря в один\n"
   ]
  },
  {
   "cell_type": "code",
   "execution_count": 1,
   "metadata": {},
   "outputs": [
    {
     "data": {
      "text/plain": [
       "{'One': 1, 'Two': 2, 'Three': 3, 'Four': 4, 'Five': 5, 'Six': 6}"
      ]
     },
     "execution_count": 1,
     "metadata": {},
     "output_type": "execute_result"
    }
   ],
   "source": [
    "dict1 = {'One': 1, 'Two': 2, 'Three': 3}\n",
    "dict2 = {'Four': 4, 'Five': 5, 'Six': 6}\n",
    "dict1.update(dict2)\n",
    "dict1"
   ]
  },
  {
   "cell_type": "code",
   "execution_count": 2,
   "metadata": {},
   "outputs": [
    {
     "data": {
      "text/plain": [
       "{'One': 1, 'Two': 2, 'Three': 3, 'Four': 4, 'Five': 5, 'Six': 6}"
      ]
     },
     "execution_count": 2,
     "metadata": {},
     "output_type": "execute_result"
    }
   ],
   "source": [
    "def merge_dicts(dict1: dict, dict2: dict) -> dict:\n",
    "    dict1.update(dict2)\n",
    "    return dict1\n",
    "\n",
    "merge_dicts(dict1, dict2)"
   ]
  },
  {
   "cell_type": "code",
   "execution_count": 4,
   "metadata": {},
   "outputs": [],
   "source": [
    "keys = ['One', 'Two', 'Three']\n",
    "values = [1, 2, 3]"
   ]
  },
  {
   "cell_type": "code",
   "execution_count": 5,
   "metadata": {},
   "outputs": [
    {
     "data": {
      "text/plain": [
       "{'One': 1, 'Two': 2, 'Three': 3}"
      ]
     },
     "execution_count": 5,
     "metadata": {},
     "output_type": "execute_result"
    }
   ],
   "source": [
    "def get_dict(keys: list, values: list) -> dict:\n",
    "    res_dict = {}\n",
    "    \n",
    "    for i in range(len(keys)):\n",
    "        res_dict.update({keys[i]: values[i]})\n",
    "    return res_dict\n",
    "\n",
    "get_dict(keys, values)"
   ]
  },
  {
   "cell_type": "code",
   "execution_count": 6,
   "metadata": {},
   "outputs": [
    {
     "data": {
      "text/plain": [
       "{'One': 1, 'Two': 2, 'Three': 3}"
      ]
     },
     "execution_count": 6,
     "metadata": {},
     "output_type": "execute_result"
    }
   ],
   "source": [
    "def get_dict(keys: list, values: list) -> dict:\n",
    "    return {keys[i]: values[i] for i in range(len(values))}\n",
    "\n",
    "get_dict(keys, values)"
   ]
  },
  {
   "cell_type": "code",
   "execution_count": 11,
   "metadata": {},
   "outputs": [],
   "source": [
    "client_dict = {\n",
    "    \"name\": \"John\",\n",
    "    \"age\": 25,\n",
    "    \"salary\": 5000,\n",
    "    \"city\": \"Moscow\"\n",
    "}\n",
    "keys = ['name', 'age']\n",
    "\n"
   ]
  },
  {
   "cell_type": "code",
   "execution_count": 12,
   "metadata": {},
   "outputs": [
    {
     "data": {
      "text/plain": [
       "{'name': 'John', 'age': 25}"
      ]
     },
     "execution_count": 12,
     "metadata": {},
     "output_type": "execute_result"
    }
   ],
   "source": [
    "def get_keys(base_dict: dict, keys: list) -> dict:\n",
    "    res = {}\n",
    "    for k in keys:\n",
    "        res.update({k: base_dict[k]})\n",
    "    return res\n",
    "\n",
    "get_keys(client_dict, keys)"
   ]
  },
  {
   "attachments": {},
   "cell_type": "markdown",
   "metadata": {},
   "source": [
    "<img src='https://cdn.playcaliber.com/site/media/news/2021/06/01/4-%D0%A2%D0%B0%D0%B1%D0%BB%D0%B8%D1%86%D0%B0-%D0%BC%D0%B0%D0%BB%D0%B5%D0%BD%D1%8C%D0%BA%D0%B0%D1%8F-%D0%BF%D0%BE-%D1%80%D0%B5%D0%B6%D0%B8%D0%BC%D0%B0%D0%BC-1280%D1%85853.jpg' width=500>"
   ]
  },
  {
   "cell_type": "code",
   "execution_count": 16,
   "metadata": {},
   "outputs": [
    {
     "data": {
      "text/plain": [
       "{'sum': 37, 'avg': 5.285714285714286}"
      ]
     },
     "execution_count": 16,
     "metadata": {},
     "output_type": "execute_result"
    }
   ],
   "source": [
    "def calc(*args):\n",
    "    sum_purch = sum(args)\n",
    "    n_purch = len(args)\n",
    "    return {\n",
    "        'sum': sum_purch,\n",
    "        'avg': sum_purch / n_purch\n",
    "    }\n",
    "calc(1, 2, 2, 6, 7, 9, 10)"
   ]
  },
  {
   "cell_type": "code",
   "execution_count": 19,
   "metadata": {},
   "outputs": [
    {
     "data": {
      "text/plain": [
       "[79, 32, 94, 45, 88]"
      ]
     },
     "execution_count": 19,
     "metadata": {},
     "output_type": "execute_result"
    }
   ],
   "source": [
    "import random\n",
    "random.seed(5)\n",
    "\n",
    "num = [random.randint(0, 100) for i in range(5)]\n",
    "num"
   ]
  },
  {
   "cell_type": "code",
   "execution_count": 21,
   "metadata": {},
   "outputs": [],
   "source": [
    "import time\n",
    "def elapced_since(data):\n",
    "    last_time = None\n",
    "    \n",
    "    for i in data:\n",
    "        currnet_time = time.time()\n",
    "        \n",
    "        if last_time:\n",
    "            delta = currnet_time - last_time\n",
    "        else:\n",
    "            delta = currnet_time - currnet_time\n",
    "        \n",
    "        last_time = time.time()\n",
    "        yield (int(delta), i)"
   ]
  },
  {
   "attachments": {},
   "cell_type": "markdown",
   "metadata": {},
   "source": [
    "Данный код представляет собой определение функции elapsed_since(), которая принимает на вход некоторый итерируемый объект data. \n",
    "\n",
    "Функция использует модуль time для измерения времени выполнения итераций в цикле for. \n",
    "\n",
    "В цикле for происходит итерация по элементам data. На каждой итерации функция сохраняет текущее время в переменную current_time. \n",
    "\n",
    "Затем, если переменная last_time уже была определена (т.е. это не первая итерация), функция вычисляет разницу между текущим временем и временем последней итерации и сохраняет ее в переменную delta. \n",
    "\n",
    "Если это первая итерация, то переменная delta устанавливается равной нулю. \n",
    "\n",
    "Затем функция сохраняет текущее время в переменную last_time и использует оператор yield для возврата кортежа, содержащего целочисленное значение delta и текущий элемент i из итерируемого объекта data. \n",
    "\n",
    "Функция yield используется для создания генератора, который возвращает значения по мере их генерации, а не возвращает все значения сразу. \n",
    "\n",
    "Таким образом, при вызове функции elapsed_since() с некоторым итерируемым объектом data, мы получим генератор, который будет возвращать кортежи с разницей времени между итерациями и соответствующими элементами из data. - данные берем из сгенерированного списка num"
   ]
  },
  {
   "cell_type": "code",
   "execution_count": 22,
   "metadata": {},
   "outputs": [
    {
     "name": "stdout",
     "output_type": "stream",
     "text": [
      "(0, 79)\n",
      "(2, 32)\n",
      "(2, 94)\n",
      "(2, 45)\n",
      "(2, 88)\n"
     ]
    }
   ],
   "source": [
    "for i in elapced_since(num):\n",
    "    print(i)\n",
    "    time.sleep(2)"
   ]
  }
 ],
 "metadata": {
  "kernelspec": {
   "display_name": "Python 3",
   "language": "python",
   "name": "python3"
  },
  "language_info": {
   "codemirror_mode": {
    "name": "ipython",
    "version": 3
   },
   "file_extension": ".py",
   "mimetype": "text/x-python",
   "name": "python",
   "nbconvert_exporter": "python",
   "pygments_lexer": "ipython3",
   "version": "3.11.1"
  },
  "orig_nbformat": 4
 },
 "nbformat": 4,
 "nbformat_minor": 2
}
