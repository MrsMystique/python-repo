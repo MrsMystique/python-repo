{
 "cells": [
  {
   "attachments": {},
   "cell_type": "markdown",
   "metadata": {},
   "source": [
    "## RANDOM библиотека\n",
    "\n",
    "Библиотека рандом используется для случайной генерации чисел и иных данных\n",
    "\n",
    "Библиотеку нужно импортировать"
   ]
  },
  {
   "cell_type": "code",
   "execution_count": 13,
   "metadata": {},
   "outputs": [
    {
     "name": "stdout",
     "output_type": "stream",
     "text": [
      " Случайно выбранное число = 4\n"
     ]
    }
   ],
   "source": [
    "import random\n",
    "# в переменную путем случайного выбора  из диапазона от 1 до 10 включительно будет положено число\n",
    "number = random.randint(1, 10)\n",
    "# выведем на экран текущее случайное число\n",
    "print(f' Случайно выбранное число = {number}')"
   ]
  },
  {
   "attachments": {},
   "cell_type": "markdown",
   "metadata": {},
   "source": [
    "#### RANDOM CHOICE - случайный выбор значений"
   ]
  },
  {
   "cell_type": "code",
   "execution_count": 23,
   "metadata": {},
   "outputs": [
    {
     "name": "stdout",
     "output_type": "stream",
     "text": [
      " Вам выпал(а) = Орел\n",
      "\n",
      " Вам выпал(а) = 2\n",
      "\n",
      " Вам выпало в сумме = 8\n"
     ]
    }
   ],
   "source": [
    "import random\n",
    "# в переменную путем случайного выбора  с шансом 50/50 в случае наличия 2 значений в списке будет выбрано расположение монетки \n",
    "# (если 3 то шанс выпадения того или иного значения будет равен +-33 процента и так далее)\n",
    "coin = random.choice([\"Орел\", \"Решка\"])\n",
    "print(f' Вам выпал(а) = {coin}')\n",
    "print()# новая строка\n",
    "\n",
    "# если мы бросаем кубик (4 стороны, то 100%:6 - шанс выпадения той или иной стороны)\n",
    "kubik = random.choice([\"1\", \"2\", \"3\", \"4\", \"5\", \"6\"])\n",
    "print(f' Вам выпал(а) = {kubik}')\n",
    "\n",
    "print()# новая строка\n",
    "# Если кубика (костей) две, можно выбросить их и сложить результат\n",
    "kubik1 = random.choice([\"1\", \"2\", \"3\", \"4\", \"5\", \"6\"])\n",
    "kubik2 = random.choice([\"1\", \"2\", \"3\", \"4\", \"5\", \"6\"])\n",
    "print(f' Вам выпало в сумме = {int(kubik1)+int(kubik2)}')"
   ]
  },
  {
   "attachments": {},
   "cell_type": "markdown",
   "metadata": {},
   "source": [
    "#### RANDOM SHUFFLE - перетасовка списка значений"
   ]
  },
  {
   "cell_type": "code",
   "execution_count": 26,
   "metadata": {},
   "outputs": [
    {
     "name": "stdout",
     "output_type": "stream",
     "text": [
      "queen jack king "
     ]
    }
   ],
   "source": [
    "import random\n",
    "# в переменную путем случайного выбора позиции каждого элемента  с шансом 33проц постановки на ту или иную позицию (т.к 3 значений) \n",
    "# перетасуем карты (или любые другие значения в списке)\n",
    "cards = [\"jack\", \"queen\", \"king\"]\n",
    "random.shuffle(cards)\n",
    "# так как нам нужно перетасовать и вывести карты как элементы, а не как список с его исходным форматирование сделаем вывод циклом\n",
    "for card in cards:\n",
    "    print(card, end=' ')\n",
    "# если делать принтом, то выведется все в формате списка ['king', 'queen', 'jack']"
   ]
  }
 ],
 "metadata": {
  "kernelspec": {
   "display_name": "Python 3",
   "language": "python",
   "name": "python3"
  },
  "language_info": {
   "codemirror_mode": {
    "name": "ipython",
    "version": 3
   },
   "file_extension": ".py",
   "mimetype": "text/x-python",
   "name": "python",
   "nbconvert_exporter": "python",
   "pygments_lexer": "ipython3",
   "version": "3.11.1"
  },
  "orig_nbformat": 4
 },
 "nbformat": 4,
 "nbformat_minor": 2
}
