{
 "cells": [
  {
   "attachments": {},
   "cell_type": "markdown",
   "metadata": {},
   "source": [
    "# **LOOPS**. Петли, циклы"
   ]
  },
  {
   "attachments": {},
   "cell_type": "markdown",
   "metadata": {},
   "source": [
    "Циклы используются для поэлементного перебора значений пока истинно какое то условие либо не достигли необходимого количества итераций\n",
    "\n",
    "* если не указана цифровая граница диапазона в цикле FOR - итерируемый элемент будет иметь тип CHAR\n",
    "* если необходим цифровой итератор - нужно указывать цифровуюб границу диапазона для итераций\n",
    "* либо назначить итератор отдельной переменной (если он необходим для определения текущих инлдексов или чего либо)"
   ]
  },
  {
   "attachments": {},
   "cell_type": "markdown",
   "metadata": {},
   "source": [
    "## for\n",
    "базовый систаксис: for element in iterable_list(string, etc.):\n",
    "                        do something..."
   ]
  },
  {
   "cell_type": "code",
   "execution_count": 2,
   "metadata": {},
   "outputs": [
    {
     "name": "stdout",
     "output_type": "stream",
     "text": [
      "Hermoine\n",
      "Harry\n",
      "Ron\n",
      "<class 'str'>\n"
     ]
    }
   ],
   "source": [
    "# скормим в цикл список для поэлементного вывода аргументов\n",
    "students = [\"Hermoine\", \"Harry\", \"Ron\"]\n",
    "# в данном случае элемент \"студент\" в списке \"студетнов\" - строка (аргумент типа стринг)\n",
    "for student in students:\n",
    "    print(student)\n",
    "print(type(student))"
   ]
  },
  {
   "attachments": {},
   "cell_type": "markdown",
   "metadata": {},
   "source": [
    "### итератор инт в цикле (делаю вывод что итератор будет того же типа что и ограничитель)"
   ]
  },
  {
   "cell_type": "code",
   "execution_count": 6,
   "metadata": {},
   "outputs": [
    {
     "name": "stdout",
     "output_type": "stream",
     "text": [
      "0\n",
      "Hermoine\n",
      "1\n",
      "Harry\n",
      "2\n",
      "Ron\n",
      "<class 'int'>\n"
     ]
    }
   ],
   "source": [
    "# скормим в цикл список для поэлементного вывода аргументов\n",
    "students = [\"Hermoine\", \"Harry\", \"Ron\"]\n",
    "# в данном случае элемент \"студент\" в списке \"студетнов\" - индекс (аргумент типа инт, порядковый номер элементы списка)\n",
    "for student in range(len(students)):\n",
    "    # распечатаем итератор\n",
    "    print(student)\n",
    "    # используем его для доступа к элементам с помощью указания текущего индекса\n",
    "    print(students[student])\n",
    "print(type(student))"
   ]
  },
  {
   "cell_type": "code",
   "execution_count": 27,
   "metadata": {},
   "outputs": [
    {
     "name": "stdout",
     "output_type": "stream",
     "text": [
      "Harry\n",
      "Ron\n",
      "<class 'int'>\n"
     ]
    }
   ],
   "source": [
    "# скормим в цикл список для поэлементного вывода аргументов\n",
    "students = [\"Hermoine\", \"Harry\", \"Ron\"]\n",
    "# в данном случае мы хотим итерировать от 1 индекса до 3 не включая (2 и последнее значение)\n",
    "for student in range(1, 3):\n",
    "    print(students[student])\n",
    "print(type(student))"
   ]
  },
  {
   "attachments": {},
   "cell_type": "markdown",
   "metadata": {},
   "source": [
    "Функция range() по умолчанию увеличивает последовательность на 1, однако можно указать значение приращения, добавив третий параметр: range(2, 30, 3 ) :"
   ]
  },
  {
   "cell_type": "code",
   "execution_count": 29,
   "metadata": {},
   "outputs": [
    {
     "name": "stdout",
     "output_type": "stream",
     "text": [
      "2\n",
      "5\n",
      "8\n",
      "11\n",
      "14\n"
     ]
    }
   ],
   "source": [
    "for x in range(2, 15, 3):\n",
    "  print(x)"
   ]
  },
  {
   "attachments": {},
   "cell_type": "markdown",
   "metadata": {},
   "source": [
    "## Else в циклах"
   ]
  },
  {
   "cell_type": "code",
   "execution_count": 31,
   "metadata": {},
   "outputs": [
    {
     "name": "stdout",
     "output_type": "stream",
     "text": [
      "0\n",
      "1\n",
      "2\n",
      "Finally finished!\n"
     ]
    }
   ],
   "source": [
    "# по окончанию цикла напишет что он завершен\n",
    "for x in range(3):\n",
    "  print(x)\n",
    "else:\n",
    "  print(\"Finally finished!\")"
   ]
  },
  {
   "cell_type": "code",
   "execution_count": 33,
   "metadata": {},
   "outputs": [
    {
     "name": "stdout",
     "output_type": "stream",
     "text": [
      "0\n",
      "1\n",
      "2\n"
     ]
    }
   ],
   "source": [
    "# когда х (итератор) будет равен 3, мы прервем цикл и войдем в else\n",
    "for x in range(6):\n",
    "  if x == 3: break\n",
    "  print(x)\n",
    "else:\n",
    "  print(\"Finally finished!\")"
   ]
  },
  {
   "attachments": {},
   "cell_type": "markdown",
   "metadata": {},
   "source": [
    "## Цикл в словарях"
   ]
  },
  {
   "cell_type": "code",
   "execution_count": 8,
   "metadata": {},
   "outputs": [
    {
     "name": "stdout",
     "output_type": "stream",
     "text": [
      "Hermoine\n",
      "Harry\n",
      "Ron\n",
      "Draco\n"
     ]
    }
   ],
   "source": [
    "students = {\n",
    "    \"Hermoine\": \"Gryffindor\",\n",
    "    \"Harry\": \"Gryffindor\",\n",
    "    \"Ron\": \"Gryffindor\",\n",
    "    \"Draco\": \"Slytherin\",\n",
    "}\n",
    "# ПЕРЕБЕРЕТ КЛЮЧИ\n",
    "for student in students:\n",
    "    print(student)"
   ]
  },
  {
   "cell_type": "code",
   "execution_count": 9,
   "metadata": {},
   "outputs": [
    {
     "name": "stdout",
     "output_type": "stream",
     "text": [
      "Gryffindor\n",
      "Gryffindor\n",
      "Gryffindor\n",
      "Slytherin\n"
     ]
    }
   ],
   "source": [
    "# Обратите внимание, как students[student] будет идти к ключу каждого ученика и найти значение этого ключа (дом студента).\n",
    "students = {\n",
    "    \"Hermoine\": \"Gryffindor\",\n",
    "    \"Harry\": \"Gryffindor\",\n",
    "    \"Ron\": \"Gryffindor\",\n",
    "    \"Draco\": \"Slytherin\",\n",
    "}\n",
    "# ПЕРЕБЕРЕТ ВСЕ КЛЮЧИ И ВЫВЕДЕТ ЗНАЧЕНИЯ КЛЮЧЕЙ поэтапно \n",
    "# (когда студент = Гермиона, вывести значение этого ключа)\n",
    "for student in students:\n",
    "    print(students[student])"
   ]
  },
  {
   "cell_type": "code",
   "execution_count": 10,
   "metadata": {},
   "outputs": [
    {
     "name": "stdout",
     "output_type": "stream",
     "text": [
      "Hermoine живет в  Gryffindor\n",
      "Harry живет в  Gryffindor\n",
      "Ron живет в  Gryffindor\n",
      "Draco живет в  Slytherin\n"
     ]
    }
   ],
   "source": [
    "# Обратите внимание, как students[student] будет идти к ключу каждого ученика и найти значение этого ключа (дом студента).\n",
    "students = {\n",
    "    \"Hermoine\": \"Gryffindor\",\n",
    "    \"Harry\": \"Gryffindor\",\n",
    "    \"Ron\": \"Gryffindor\",\n",
    "    \"Draco\": \"Slytherin\",\n",
    "}\n",
    "# ПЕРЕБЕРЕТ ВСЕ КЛЮЧИ И ВЫВЕДЕТ ЗНАЧЕНИЯ КЛЮЧЕЙ поэтапно \n",
    "# (когда студент = Гермиона, вывести значение этого ключа)\n",
    "for student in students:\n",
    "    # отформатируем  чтобы выводило и ключ и значение\n",
    "    print(f'{student} живет в  {students[student]}')"
   ]
  },
  {
   "cell_type": "code",
   "execution_count": 11,
   "metadata": {},
   "outputs": [
    {
     "name": "stdout",
     "output_type": "stream",
     "text": [
      "Hermoine, Gryffindor, Otter\n",
      "Harry, Gryffindor, Stag\n",
      "Ron, Gryffindor, Jack Russell terrier\n",
      "Draco, Slytherin, None\n"
     ]
    }
   ],
   "source": [
    "students = [\n",
    "    {\"name\": \"Hermoine\", \"house\": \"Gryffindor\", \"patronus\": \"Otter\"},\n",
    "    {\"name\": \"Harry\", \"house\": \"Gryffindor\", \"patronus\": \"Stag\"},\n",
    "    {\"name\": \"Ron\", \"house\": \"Gryffindor\", \"patronus\": \"Jack Russell terrier\"},\n",
    "    {\"name\": \"Draco\", \"house\": \"Slytherin\", \"patronus\": None}, \n",
    "    # None - специальное ключевое слово. Если значения нет, но без него нельзя, можно его вводить.\n",
    "    # если бы значение ключа(патронуса) драко не содержало ничего - была бы ошибка, \n",
    "    # так же если бы у нас вообще небыло этого ключа - была бы ошибка\n",
    "]\n",
    "# выведем  значения имени, значение ключа дом и значение патронуса каждого студента поэтапно. и разделит все значения разделителем \"запятая\"\n",
    "for student in students:\n",
    "    print(student[\"name\"], student[\"house\"], student[\"patronus\"], sep=\", \")"
   ]
  },
  {
   "cell_type": "code",
   "execution_count": 12,
   "metadata": {},
   "outputs": [
    {
     "name": "stdout",
     "output_type": "stream",
     "text": [
      "Hermoine живет в Gryffindor и имеет патронус: Otter\n",
      "Harry живет в Gryffindor и имеет патронус: Stag\n",
      "Ron живет в Gryffindor и имеет патронус: Jack Russell terrier\n",
      "Draco живет в Slytherin и имеет патронус: None\n"
     ]
    }
   ],
   "source": [
    "students = [\n",
    "    {\"name\": \"Hermoine\", \"house\": \"Gryffindor\", \"patronus\": \"Otter\"},\n",
    "    {\"name\": \"Harry\", \"house\": \"Gryffindor\", \"patronus\": \"Stag\"},\n",
    "    {\"name\": \"Ron\", \"house\": \"Gryffindor\", \"patronus\": \"Jack Russell terrier\"},\n",
    "    {\"name\": \"Draco\", \"house\": \"Slytherin\", \"patronus\": None}, \n",
    "    # None - специальное ключевое слово. Если значения нет, но без него нельзя, нужно его вводить.\n",
    "]\n",
    "# выведем  значения имени, значение ключа дом и значение патронуса каждого студента поэтапно. отформатируем\n",
    "for student in students:\n",
    "\n",
    "    print(f'{student[\"name\"]} живет в {student[\"house\"]} и имеет патронус: {student[\"patronus\"]}')"
   ]
  },
  {
   "attachments": {},
   "cell_type": "markdown",
   "metadata": {},
   "source": [
    "## Рисование в цикле"
   ]
  },
  {
   "cell_type": "code",
   "execution_count": 14,
   "metadata": {},
   "outputs": [
    {
     "name": "stdout",
     "output_type": "stream",
     "text": [
      "#\n",
      "#\n",
      "#\n"
     ]
    }
   ],
   "source": [
    "height = 3\n",
    "# напечатать что то height раз\n",
    "for _ in range(height):\n",
    "        print(\"#\")"
   ]
  },
  {
   "cell_type": "code",
   "execution_count": 16,
   "metadata": {},
   "outputs": [
    {
     "name": "stdout",
     "output_type": "stream",
     "text": [
      "???\n",
      "???\n",
      "???\n"
     ]
    }
   ],
   "source": [
    "width = 3\n",
    "height = 3\n",
    "# распечатать ? width раз в одну строку height раз\n",
    "for _ in range(height):\n",
    "    print(\"?\" * width)"
   ]
  },
  {
   "attachments": {},
   "cell_type": "markdown",
   "metadata": {},
   "source": [
    "## **break**\n",
    "\n",
    "Прерывает цикл и не продолжает итерировать"
   ]
  },
  {
   "cell_type": "code",
   "execution_count": 17,
   "metadata": {},
   "outputs": [
    {
     "name": "stdout",
     "output_type": "stream",
     "text": [
      "apple\n",
      "banana\n"
     ]
    }
   ],
   "source": [
    "# распечатывать каждый элемент\n",
    "# выйти из цикла ПОСЛЕ того как  встретится элемент с наименованием банан\n",
    "fruits = [\"apple\", \"banana\", \"cherry\"]\n",
    "for x in fruits:\n",
    "  print(x)\n",
    "  if x == \"banana\":\n",
    "    break\n",
    "# в данном случае мы сначала печатаем элемент, потом проверяем условие и выходим после банана"
   ]
  },
  {
   "cell_type": "code",
   "execution_count": 18,
   "metadata": {},
   "outputs": [
    {
     "name": "stdout",
     "output_type": "stream",
     "text": [
      "apple\n"
     ]
    }
   ],
   "source": [
    "# распечатывать каждый элемент\n",
    "# выйти из цикла когда встретится элемент с наименованием банан\n",
    "fruits = [\"apple\", \"banana\", \"cherry\"]\n",
    "for x in fruits:\n",
    "  if x == \"banana\":\n",
    "    break\n",
    "  print(x)\n",
    "# в данном случае мы сначала проверяме условие, потом печатаем. соответственно  банан мы уже не напечатаем"
   ]
  },
  {
   "attachments": {},
   "cell_type": "markdown",
   "metadata": {},
   "source": [
    "## **continue**\n",
    "\n",
    "С помощью оператора continue мы можем остановить текущую итерацию цикла и продолжить следующую:"
   ]
  },
  {
   "cell_type": "code",
   "execution_count": 20,
   "metadata": {},
   "outputs": [
    {
     "name": "stdout",
     "output_type": "stream",
     "text": [
      "apple\n",
      "cherry\n"
     ]
    }
   ],
   "source": [
    "fruits = [\"apple\", \"banana\", \"cherry\"]\n",
    "for x in fruits:\n",
    "  #  если элемент банан, игнорировать этот элемент и перейти к следующему\n",
    "  if x == \"banana\":\n",
    "    continue\n",
    "  print(x)"
   ]
  },
  {
   "attachments": {},
   "cell_type": "markdown",
   "metadata": {},
   "source": [
    "## **Вложенные циклы**"
   ]
  },
  {
   "cell_type": "code",
   "execution_count": 34,
   "metadata": {},
   "outputs": [
    {
     "name": "stdout",
     "output_type": "stream",
     "text": [
      "red apple\n",
      "red banana\n",
      "red cherry\n",
      "big apple\n",
      "big banana\n",
      "big cherry\n",
      "tasty apple\n",
      "tasty banana\n",
      "tasty cherry\n"
     ]
    }
   ],
   "source": [
    "# есть 2 списка\n",
    "mylist = [\"red\", \"big\", \"tasty\"]\n",
    "fruits = [\"apple\", \"banana\", \"cherry\"]\n",
    "# внутренний цикл будет итерироваться весь, пока будет проходить первая итерация внешнегно цикла\n",
    "# тем самым мы присвоим какой то качественный параметр всем фруктам\n",
    "for x in mylist:\n",
    "  for y in fruits:\n",
    "    # каждую итерацию внутреннего цикла распечатаем певый элемент внешнего цикла и каждый элемент внутреннего цикла\n",
    "    print(x, y)"
   ]
  },
  {
   "attachments": {},
   "cell_type": "markdown",
   "metadata": {},
   "source": [
    "**for Циклы не могут быть пустыми, но если по какой-то причине у вас есть for цикл без содержимого, поместите pass оператор, чтобы избежать ошибки.**"
   ]
  },
  {
   "cell_type": "code",
   "execution_count": 35,
   "metadata": {},
   "outputs": [],
   "source": [
    "# пропускать значение х если x в списке\n",
    "for x in [0, 1, 2]:\n",
    "  pass"
   ]
  },
  {
   "cell_type": "code",
   "execution_count": 36,
   "metadata": {},
   "outputs": [
    {
     "name": "stdout",
     "output_type": "stream",
     "text": [
      "A, b, h, i, s, h, e, k, "
     ]
    }
   ],
   "source": [
    "# выведется склеенная строка с разделителем запятая.  параметр end переопределен. \n",
    "# теперь не переходим на новую строку, а разделяем запятой\n",
    "name = 'Abhishek'\n",
    "for i in name:\n",
    "    print(i, end=\", \")"
   ]
  },
  {
   "attachments": {},
   "cell_type": "markdown",
   "metadata": {},
   "source": [
    "# **WHILE**"
   ]
  },
  {
   "cell_type": "code",
   "execution_count": null,
   "metadata": {},
   "outputs": [],
   "source": [
    "x = 5\n",
    "while (x > 0):\n",
    "    print(x)\n",
    "    x = x - 1\n",
    "else:\n",
    "    print('counter is 0')"
   ]
  },
  {
   "cell_type": "code",
   "execution_count": 37,
   "metadata": {},
   "outputs": [
    {
     "name": "stdout",
     "output_type": "stream",
     "text": [
      "1\n",
      "2\n",
      "3\n",
      "4\n",
      "5\n"
     ]
    }
   ],
   "source": [
    "i = 1\n",
    "while i < 6:\n",
    "  print(i)\n",
    "  i += 1"
   ]
  },
  {
   "cell_type": "code",
   "execution_count": 38,
   "metadata": {},
   "outputs": [
    {
     "name": "stdout",
     "output_type": "stream",
     "text": [
      "1\n",
      "2\n",
      "3\n"
     ]
    }
   ],
   "source": [
    "i = 1\n",
    "while i < 6:\n",
    "  print(i)\n",
    "  if i == 3:\n",
    "    break\n",
    "  i += 1"
   ]
  },
  {
   "cell_type": "code",
   "execution_count": 39,
   "metadata": {},
   "outputs": [
    {
     "name": "stdout",
     "output_type": "stream",
     "text": [
      "1\n",
      "2\n",
      "4\n",
      "5\n",
      "6\n"
     ]
    }
   ],
   "source": [
    "i = 0\n",
    "while i < 6:\n",
    "  i += 1\n",
    "  if i == 3:\n",
    "    continue\n",
    "  print(i)"
   ]
  },
  {
   "cell_type": "code",
   "execution_count": 42,
   "metadata": {},
   "outputs": [
    {
     "name": "stdout",
     "output_type": "stream",
     "text": [
      "1\n",
      "2\n",
      "3\n",
      "4\n",
      "5\n",
      "i need to be no longer than 6\n"
     ]
    }
   ],
   "source": [
    "i = 1\n",
    "while i < 6:\n",
    "  print(i)\n",
    "  i += 1\n",
    "else:\n",
    "  print(\"i need to be no longer than 6\")"
   ]
  },
  {
   "cell_type": "code",
   "execution_count": 43,
   "metadata": {},
   "outputs": [
    {
     "name": "stdout",
     "output_type": "stream",
     "text": [
      "meow\n",
      "meow\n",
      "meow\n"
     ]
    }
   ],
   "source": [
    "# обратный отсчет  и = 3 изначально\n",
    "# цикл работает пока и не 0\n",
    "# каждую итерацию минусуем от и 1 шаг (и-1)\n",
    "i = 3\n",
    "while i != 0:\n",
    "  print(\"meow\")\n",
    "  i = i - 1"
   ]
  },
  {
   "cell_type": "code",
   "execution_count": 44,
   "metadata": {},
   "outputs": [
    {
     "name": "stdout",
     "output_type": "stream",
     "text": [
      "meow\n",
      "meow\n",
      "meow\n"
     ]
    }
   ],
   "source": [
    "# каждый раз к и прибавляем 1. когда и будет 3 - цикл прервется\n",
    "i = 1\n",
    "while i <= 3:\n",
    "    print(\"meow\")\n",
    "    i = i + 1"
   ]
  },
  {
   "attachments": {},
   "cell_type": "markdown",
   "metadata": {},
   "source": [
    "## Вариант требования нужного значения в помощью While"
   ]
  },
  {
   "cell_type": "code",
   "execution_count": 45,
   "metadata": {},
   "outputs": [],
   "source": [
    "# если вводится значение меньше нуля, продолжаем запрашивать\n",
    "while True:\n",
    "    n = int(input(\"What's n? \"))\n",
    "    if n < 0:\n",
    "        continue\n",
    "    # если введется положительное значение - цикл прервется\n",
    "    else:\n",
    "        break"
   ]
  },
  {
   "cell_type": "code",
   "execution_count": 46,
   "metadata": {},
   "outputs": [
    {
     "name": "stdout",
     "output_type": "stream",
     "text": [
      "meow\n"
     ]
    }
   ],
   "source": [
    "# если введется правильное значение, прервемся и процдем дальше\n",
    "while True:\n",
    "    n = int(input(\"What's n? \"))\n",
    "    if n > 0:\n",
    "        break\n",
    "\n",
    "for _ in range(n):\n",
    "    print(\"meow\")"
   ]
  }
 ],
 "metadata": {
  "kernelspec": {
   "display_name": "Python 3",
   "language": "python",
   "name": "python3"
  },
  "language_info": {
   "codemirror_mode": {
    "name": "ipython",
    "version": 3
   },
   "file_extension": ".py",
   "mimetype": "text/x-python",
   "name": "python",
   "nbconvert_exporter": "python",
   "pygments_lexer": "ipython3",
   "version": "3.11.1"
  },
  "orig_nbformat": 4
 },
 "nbformat": 4,
 "nbformat_minor": 2
}
