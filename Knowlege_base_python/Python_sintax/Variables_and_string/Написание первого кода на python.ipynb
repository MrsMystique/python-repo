{
  "cells": [
    {
      "attachments": {},
      "cell_type": "markdown",
      "metadata": {},
      "source": [
        "# Лабораторная работа: Написание вашего первого кода Python\n",
        "\n",
        "## Цели\n",
        "\n",
        "* Написать базовый код в Python\n",
        "* Работать с различными типами данных в Python\n",
        "* Конвертировать данные из одного типа в другой\n",
        "* Использовать выражения и переменные для выполнения операций\n",
        "\n",
        "## При использовании Jupiter notebook не обязательно писать print для вывода данных\n",
        "***Если вы работаете в через стандартный файл .py, то это делать необходимо***"
      ]
    },
    {
      "attachments": {},
      "cell_type": "markdown",
      "metadata": {},
      "source": [
        "<h2> Содержание </h2>\n",
        "<div class = \"rewert-lert-block alert-info\" style = \"margin-top: 20px\">\n",
        "    <ul>\n",
        "        <li>\n",
        "            <a href=\"#hello\"> Скажите «привет» миру в Python </a>\n",
        "            <ul>\n",
        "                <li> <a href=\"comments\"> написание комментариев в Python </a> </li>\n",
        "                <li> <a href=\"errors\"> ошибки в Python </a> </li>\n",
        "                <li> <a href=\"python_error\"> Python знает о вашей ошибке, прежде чем запустит ваш код? </a> </li>\n",
        "                <li> <a href=\"exercise\"> упражнение: ваша первая программа </a> </li>\n",
        "            </ul>\n",
        "        </li>\n",
        "        <li>\n",
        "            <a href=\"#types_objects\"> типы объектов в Python </a>\n",
        "            <ul>\n",
        "                <li> <a href=\"int\"> целые числа </a> </li>\n",
        "                <li> <a href=\"float\"> плавает </a> </li>\n",
        "                <li> <a href=\"convert\"> преобразование из одного типа объекта в другой тип объекта </a> </li>\n",
        "                <li> <a href=\"bool\"> логический тип данных </a> </li>\n",
        "                <li> <a href=\"exer_type\"> упражнение: типы </a> </li>\n",
        "            </ul>\n",
        "        </li>\n",
        "        <li>\n",
        "            <a href=\"#expressions\"> выражения и переменные </a>\n",
        "            <ul>\n",
        "                <li> <a href=\"exp\"> выражения </a> </li>\n",
        "                <li> <a href=\"exer_exp\"> упражнение: выражения </a> </li>\n",
        "                <li> <a href=\"var\"> переменные </a> </li>\n",
        "                <li> <a href=\"exer_exp_var\"> упражнение: выражение и переменные в Python </a> </li>\n",
        "            </ul>\n",
        "        </li>\n",
        "    </ul>\n",
        "</div>\n",
        "\n",
        "<hr>\n"
      ]
    },
    {
      "attachments": {},
      "cell_type": "markdown",
      "metadata": {},
      "source": [
        "<h2 id = \"hello\"> Скажи \"Привет\" миру на Python </h2>\n"
      ]
    },
    {
      "attachments": {},
      "cell_type": "markdown",
      "metadata": {},
      "source": [
        "При изучении нового языка программирования обычно начинается с примера «Hello World».Как бы это ни было, эта одна строка кода обеспечит, чтобы мы знали, как печатать строку в выводе и как выполнять код в ячейках в ноутбуке.\n"
      ]
    },
    {
      "attachments": {},
      "cell_type": "markdown",
      "metadata": {},
      "source": [
        "<hr/>\n",
        "<div class = \"оповещение о предупреждении AlertSuccess\" style = \"margin-out: 20px\">\n",
        "Чтобы выполнить код Python в ячейке кода ниже, нажмите на ячейку, чтобы выбрать ее и нажмите <KBD> SHIFT </KBD> + <KBD> ENTER </KBD>.\n",
        "</div>\n",
        "<hr/>\n"
      ]
    },
    {
      "cell_type": "code",
      "execution_count": null,
      "metadata": {},
      "outputs": [],
      "source": [
        "# Выведите свою первую фразу на Python\n",
        "\n",
        "print('Hello, Python!')\n"
      ]
    },
    {
      "attachments": {},
      "cell_type": "markdown",
      "metadata": {},
      "source": [
        "<hr/>\n",
        "<div class = \"оповещение о предупреждении AlertSuccess\" style = \"margin-out: 20px\">\n",
        "<code> print () </code> - функция.Вы передали строку <code> 'Hello, Python!' </Code> в качестве аргумента для обучения Python о том, что нужно печатать (выводить пользователю).\n",
        "</div>\n",
        "<hr/>\n"
      ]
    },
    {
      "attachments": {},
      "cell_type": "markdown",
      "metadata": {},
      "source": [
        "<h3 id = \"Комментарии\"> Написание комментариев в Python </h3>"
      ]
    },
    {
      "attachments": {},
      "cell_type": "markdown",
      "metadata": {},
      "source": [
        "<p>\n",
        "    В дополнение к написанию кода, обратите внимание, что всегда полезно добавить комментарии к вашему коду.Это поможет другим понять, чего вы пытались достичь (причина, по которой вы написали данный фрагмент кода).Это не только помогает <strong> другим людям </strong> понять ваш код, это также может служить напоминанием <strong> для вас </strong>, когда вы вернетесь к нему через несколько недель или месяцев. </P>\n",
        "<p>\n",
        "    Чтобы написать комментарии в Python, используйте символ номера <code>#</code> перед написанием вашего комментария.Когда вы запускаете свой код, Python игнорирует все после <code>#</code> в данной строке.\n",
        "</p>\n",
        "    Так же возможны многострочные комментарии, которые заключаются в тройные кавычки\n",
        "    Закомментированные строки никак не влияют на код"
      ]
    },
    {
      "cell_type": "code",
      "execution_count": null,
      "metadata": {},
      "outputs": [],
      "source": [
        "# Написание комментариев\n",
        "\n",
        "print('Hello, Python!') # Однострочный комментарий\n",
        "# print(\"hi\")"
      ]
    },
    {
      "attachments": {},
      "cell_type": "markdown",
      "metadata": {},
      "source": [
        "<p>\n",
        "    После выполнения ячейки выше, вы должны заметить, что <code> Эта строка печатает string </code> не появляется в выводе, потому что это был комментарий (и, таким образом, игнорируется Python).\n",
        "</p>\n",
        "<p>\n",
        "    Вторая строка также не была выполнена, потому что <code> print ('hi') </code> также предшествовал знак номера (<code>#</code>) также!Поскольку это не объяснительный комментарий от программиста, а фактическая строка кода, мы могли бы сказать, что программист <em> прокомментировал </em> вторую строку кода.\n",
        "</p>\n"
      ]
    },
    {
      "attachments": {},
      "cell_type": "markdown",
      "metadata": {},
      "source": [
        "<h3 id=\"errors\">Ошибки в Python</h3>\n"
      ]
    },
    {
      "attachments": {},
      "cell_type": "markdown",
      "metadata": {},
      "source": [
        "<p> Все делают ошибки.Для многих типов ошибок Python скажет вам, что вы допустили ошибку, предоставив вам сообщение об ошибке.Важно тщательно прочитать сообщения об ошибках, чтобы по -настоящему понять, где вы допустили ошибку и как вы можете исправить их. </P>\n",
        "<p> Например, если вы пишете  не <code> print </code> а <code> frint </code>, Python отобразит сообщение об ошибке.Попробуйте: </p>\n"
      ]
    },
    {
      "cell_type": "code",
      "execution_count": 9,
      "metadata": {},
      "outputs": [
        {
          "ename": "NameError",
          "evalue": "name 'frint' is not defined",
          "output_type": "error",
          "traceback": [
            "\u001b[1;31m---------------------------------------------------------------------------\u001b[0m",
            "\u001b[1;31mNameError\u001b[0m                                 Traceback (most recent call last)",
            "\u001b[1;32m~\\AppData\\Local\\Temp/ipykernel_3236/4017949674.py\u001b[0m in \u001b[0;36m<module>\u001b[1;34m\u001b[0m\n\u001b[0;32m      1\u001b[0m \u001b[1;31m# Print string as error message\u001b[0m\u001b[1;33m\u001b[0m\u001b[1;33m\u001b[0m\u001b[0m\n\u001b[0;32m      2\u001b[0m \u001b[1;33m\u001b[0m\u001b[0m\n\u001b[1;32m----> 3\u001b[1;33m \u001b[0mfrint\u001b[0m\u001b[1;33m(\u001b[0m\u001b[1;34m\"Hello, Python!\"\u001b[0m\u001b[1;33m)\u001b[0m\u001b[1;33m\u001b[0m\u001b[1;33m\u001b[0m\u001b[0m\n\u001b[0m",
            "\u001b[1;31mNameError\u001b[0m: name 'frint' is not defined"
          ]
        }
      ],
      "source": [
        "# Запустите ячейку чтобы увидеть сообщение об ошибке\n",
        "\n",
        "frint(\"Hello, Python!\")"
      ]
    },
    {
      "attachments": {},
      "cell_type": "markdown",
      "metadata": {},
      "source": [
        "<p> Сообщение об ошибке говорит вам:\n",
        "<ol>\n",
        "    <li> Где произошла ошибка (более полезная в больших ячеек ноутбука или сценариев) и </li>\n",
        "    <li> Какая это была ошибка (nameerror) </li>\n",
        "</ol>\n",
        "<p> Здесь Python попытался запустить функцию <code> frint </code>, но не смог определить, что <code> это за команда. </p>\n"
      ]
    },
    {
      "attachments": {},
      "cell_type": "markdown",
      "metadata": {},
      "source": [
        "<p>\n",
        "Вы заметите, что если мы сделаем другой тип ошибки, забыв закрыть строку, мы получим другую ошибку (то есть, <code> syntaxError </code>). Запустите ячейку ниже:\n",
        "</p>\n"
      ]
    },
    {
      "cell_type": "code",
      "execution_count": 10,
      "metadata": {},
      "outputs": [
        {
          "ename": "SyntaxError",
          "evalue": "unterminated string literal (detected at line 3) (Temp/ipykernel_3236/3628399183.py, line 3)",
          "output_type": "error",
          "traceback": [
            "\u001b[1;36m  File \u001b[1;32m\"C:\\Users\\admin\\AppData\\Local\\Temp/ipykernel_3236/3628399183.py\"\u001b[1;36m, line \u001b[1;32m3\u001b[0m\n\u001b[1;33m    print(\"Hello, Python!)\u001b[0m\n\u001b[1;37m          ^\u001b[0m\n\u001b[1;31mSyntaxError\u001b[0m\u001b[1;31m:\u001b[0m unterminated string literal (detected at line 3)\n"
          ]
        }
      ],
      "source": [
        "# Для того чтобы увидеть built-in сообщение об ошибке\n",
        "\n",
        "print(\"Hello, Python!)"
      ]
    },
    {
      "attachments": {},
      "cell_type": "markdown",
      "metadata": {},
      "source": [
        "<h3 id = \"python_error\"> знает ли Python о вашей ошибке, прежде чем запустить ваш код? </h3>\n"
      ]
    },
    {
      "attachments": {},
      "cell_type": "markdown",
      "metadata": {},
      "source": [
        "Python - это то, что называется <em> интерпретируемым языком </em>.Скомпилированные языки изучают всю вашу программу во время компиляции и могут предупредить вас о целом классе ошибок до выполнения.\n",
        "\n",
        "Напротив, Python интерпретирует вашу линию скрипта по линии, когда он выполняет ее.\n",
        "\n",
        "Python перестанет выполнять всю программу, когда она столкнется с ошибкой (если ошибка не ожидается и обрабатывается программистом, \n",
        "\n",
        "более продвинутой темой, которую мы рассмотрим позже в этом курсе).\n"
      ]
    },
    {
      "attachments": {},
      "cell_type": "markdown",
      "metadata": {},
      "source": [
        "Попробуйте запустить код в ячейке ниже и посмотрите, что произойдет:\n"
      ]
    },
    {
      "cell_type": "code",
      "execution_count": 11,
      "metadata": {},
      "outputs": [
        {
          "name": "stdout",
          "output_type": "stream",
          "text": [
            "This will be printed\n"
          ]
        },
        {
          "ename": "NameError",
          "evalue": "name 'frint' is not defined",
          "output_type": "error",
          "traceback": [
            "\u001b[1;31m---------------------------------------------------------------------------\u001b[0m",
            "\u001b[1;31mNameError\u001b[0m                                 Traceback (most recent call last)",
            "\u001b[1;32m~\\AppData\\Local\\Temp/ipykernel_3236/488948284.py\u001b[0m in \u001b[0;36m<module>\u001b[1;34m\u001b[0m\n\u001b[0;32m      2\u001b[0m \u001b[1;33m\u001b[0m\u001b[0m\n\u001b[0;32m      3\u001b[0m \u001b[0mprint\u001b[0m\u001b[1;33m(\u001b[0m\u001b[1;34m\"This will be printed\"\u001b[0m\u001b[1;33m)\u001b[0m\u001b[1;33m\u001b[0m\u001b[1;33m\u001b[0m\u001b[0m\n\u001b[1;32m----> 4\u001b[1;33m \u001b[0mfrint\u001b[0m\u001b[1;33m(\u001b[0m\u001b[1;34m\"This will cause an error\"\u001b[0m\u001b[1;33m)\u001b[0m\u001b[1;33m\u001b[0m\u001b[1;33m\u001b[0m\u001b[0m\n\u001b[0m\u001b[0;32m      5\u001b[0m \u001b[0mprint\u001b[0m\u001b[1;33m(\u001b[0m\u001b[1;34m\"This will NOT be printed\"\u001b[0m\u001b[1;33m)\u001b[0m\u001b[1;33m\u001b[0m\u001b[1;33m\u001b[0m\u001b[0m\n",
            "\u001b[1;31mNameError\u001b[0m: name 'frint' is not defined"
          ]
        }
      ],
      "source": [
        "# Интерпретатор Python читает код сверху вних и слева направо\n",
        "# Поэтому первая строка кода выведется без ошибки. а вторая заставит Python остановить программу\n",
        "\n",
        "print(\"This will be printed\")\n",
        "frint(\"This will cause an error\")\n",
        "print(\"This will NOT be printed\")"
      ]
    },
    {
      "attachments": {},
      "cell_type": "markdown",
      "metadata": {},
      "source": [
        "<h3 id=\"exercise\">Упражнение: ваша первая программа</h3>\n"
      ]
    },
    {
      "attachments": {},
      "cell_type": "markdown",
      "metadata": {},
      "source": [
        "<p> поколения программистов начали свою карьеру в кодировании, просто печатая «Привет, мир!».Вы будете идти по их стопам. </P>\n",
        "<p> В кодовой ячейке ниже используйте функцию <code> print () </code>, чтобы распечатать фразу: <code> Привет, мир! </code> </p>\n"
      ]
    },
    {
      "cell_type": "code",
      "execution_count": null,
      "metadata": {},
      "outputs": [],
      "source": [
        "# Напишите свой код ниже. Не забудьте нажать Shift+Enter, чтобы выполнить ячейку\n"
      ]
    },
    {
      "attachments": {},
      "cell_type": "markdown",
      "metadata": {},
      "source": [
        "<details><summary>Нажмите здесь для решения</summary>\n",
        "\n",
        "```python\n",
        "print(\"Hello, world!\")\n",
        "\n",
        "```\n",
        "\n",
        "</details>\n"
      ]
    },
    {
      "attachments": {},
      "cell_type": "markdown",
      "metadata": {},
      "source": [
        "<P> Теперь давайте улучшим ваш код с помощью комментария. В кодовой ячейке ниже распечатайте фразу: <code> Привет, мир!\n"
      ]
    },
    {
      "cell_type": "code",
      "execution_count": null,
      "metadata": {},
      "outputs": [],
      "source": [
        "# Напишите свой код и закомментируйте его\n"
      ]
    },
    {
      "attachments": {},
      "cell_type": "markdown",
      "metadata": {},
      "source": [
        "<details><summary>Нажмите здесь для решения</summary>\n",
        "\n",
        "```python\n",
        "print(\"Hello, world!\") # Print the traditional hello world\n",
        "\n",
        "```\n",
        "\n",
        "</details>\n"
      ]
    },
    {
      "cell_type": "markdown",
      "metadata": {},
      "source": [
        "<hr>\n"
      ]
    },
    {
      "attachments": {},
      "cell_type": "markdown",
      "metadata": {},
      "source": [
        "<h2 id=\"types_objects\" align=\"center\">Типы обьектов в Python</h2>\n"
      ]
    },
    {
      "attachments": {},
      "cell_type": "markdown",
      "metadata": {},
      "source": [
        "<p> Python-это объектно-ориентированный язык.В Python есть много разных типов объектов.\n",
        "\n",
        "Давайте начнем с наиболее распространенных типов объектов: <i> Strings (строк) </i>, <i> integers (целых чисел) </i> и <i> floats (чисел с плавающей запятой) </i>.В любое время, когда вы пишете слова (текст) в Python, вы используете строчные символы </i> (строки).\n",
        "\n",
        "А вот наиболее распространенными числами, являются <i> целые числа </i> (например, -1, 0, 100) и <i> floats </i>, которые представляют реальные числа (например, 3.14, -42.0).</p>\n"
      ]
    },
    {
      "cell_type": "markdown",
      "metadata": {},
      "source": [
        "<a align=\"center\">\n",
        "    <img src=\"https://cf-courses-data.s3.us.cloud-object-storage.appdomain.cloud/IBMDeveloperSkillsNetwork-PY0101EN-SkillsNetwork/labs/Module%201/images/TypesObjects.png\" width=\"600\">\n",
        "</a>\n"
      ]
    },
    {
      "attachments": {},
      "cell_type": "markdown",
      "metadata": {},
      "source": [
        "<p>Следующие кодовые ячейки содержат несколько примеров.</p>\n"
      ]
    },
    {
      "cell_type": "code",
      "execution_count": 22,
      "metadata": {},
      "outputs": [
        {
          "data": {
            "text/plain": [
              "11"
            ]
          },
          "execution_count": 22,
          "metadata": {},
          "output_type": "execute_result"
        }
      ],
      "source": [
        "# Integer\n",
        "11\n"
      ]
    },
    {
      "cell_type": "code",
      "execution_count": 24,
      "metadata": {},
      "outputs": [
        {
          "name": "stdout",
          "output_type": "stream",
          "text": [
            "11\n"
          ]
        }
      ],
      "source": [
        "# Для файла .py\n",
        "print(11)"
      ]
    },
    {
      "cell_type": "code",
      "execution_count": 13,
      "metadata": {},
      "outputs": [
        {
          "data": {
            "text/plain": [
              "2.14"
            ]
          },
          "execution_count": 13,
          "metadata": {},
          "output_type": "execute_result"
        }
      ],
      "source": [
        "# Float. Для файла .py  print(2.14)\n",
        "2.14"
      ]
    },
    {
      "cell_type": "code",
      "execution_count": 14,
      "metadata": {},
      "outputs": [
        {
          "data": {
            "text/plain": [
              "'Hello, Python 101!'"
            ]
          },
          "execution_count": 14,
          "metadata": {},
          "output_type": "execute_result"
        }
      ],
      "source": [
        "# String. Для файла .py  print(\"Hello, Python 101!\")\n",
        "\n",
        "\"Hello, Python 101!\""
      ]
    },
    {
      "attachments": {},
      "cell_type": "markdown",
      "metadata": {},
      "source": [
        "<p> Вы можете попросить Python, чтобы он сообщил вам тип возвращаемого выражения или переменной, используя встроенную функцию <code> type () </code>.\n",
        "\n",
        "Вы заметите, что Python называет целые числа как <code> int </code>, числа с плавающей запятой как <code> float </code> и строки символов как <code> str </code>. </P>\n"
      ]
    },
    {
      "cell_type": "code",
      "execution_count": 15,
      "metadata": {},
      "outputs": [
        {
          "data": {
            "text/plain": [
              "int"
            ]
          },
          "execution_count": 15,
          "metadata": {},
          "output_type": "execute_result"
        }
      ],
      "source": [
        "# Тип 12\n",
        "type(12)\n"
      ]
    },
    {
      "cell_type": "code",
      "execution_count": 25,
      "metadata": {},
      "outputs": [
        {
          "name": "stdout",
          "output_type": "stream",
          "text": [
            "<class 'int'>\n"
          ]
        }
      ],
      "source": [
        "# для стандартного типа файлов .py\n",
        "print(type(12))# функция type() и ее аргумент - 12, помещаются в функцию print()\n",
        "# вывод говорит что эт ообьект класса int - целых чисел"
      ]
    },
    {
      "cell_type": "code",
      "execution_count": 16,
      "metadata": {},
      "outputs": [
        {
          "data": {
            "text/plain": [
              "float"
            ]
          },
          "execution_count": 16,
          "metadata": {},
          "output_type": "execute_result"
        }
      ],
      "source": [
        "# Tип 2.14\n",
        "type(2.14)\n"
      ]
    },
    {
      "cell_type": "code",
      "execution_count": 17,
      "metadata": {},
      "outputs": [
        {
          "data": {
            "text/plain": [
              "str"
            ]
          },
          "execution_count": 17,
          "metadata": {},
          "output_type": "execute_result"
        }
      ],
      "source": [
        "# Tип выражения \"Hello, Python 101!\"\n",
        "type(\"Hello, Python 101!\")\n"
      ]
    },
    {
      "attachments": {},
      "cell_type": "markdown",
      "metadata": {},
      "source": [
        "<p> В ячейке кода ниже используйте функцию <code> type () </code>, чтобы проверить тип объекта <code> 12.0 </code>.\n"
      ]
    },
    {
      "cell_type": "code",
      "execution_count": null,
      "metadata": {},
      "outputs": [],
      "source": [
        "# Напишите свой код ниже. Не забудьте нажать Shift+Enter, чтобы выполнить ячейку\n",
        "\n"
      ]
    },
    {
      "attachments": {},
      "cell_type": "markdown",
      "metadata": {},
      "source": [
        "<details><summary>Нажмите здесь для решения</summary>\n",
        "\n",
        "```python\n",
        "type(12.0)\n",
        "\n",
        "```\n",
        "\n",
        "</details>\n"
      ]
    },
    {
      "attachments": {},
      "cell_type": "markdown",
      "metadata": {},
      "source": [
        "<h3 id=\"int\">Integers. Целые числа</h3>\n"
      ]
    },
    {
      "attachments": {},
      "cell_type": "markdown",
      "metadata": {},
      "source": [
        "<p>Вот несколько примеров целых чисел. Целые числа могут быть отрицательными или положительными числами:</p>\n"
      ]
    },
    {
      "cell_type": "markdown",
      "metadata": {},
      "source": [
        "<a align=\"center\">\n",
        "    <img src=\"https://cf-courses-data.s3.us.cloud-object-storage.appdomain.cloud/IBMDeveloperSkillsNetwork-PY0101EN-SkillsNetwork/labs/Module%201/images/TypesInt.png\" width=\"600\">\n",
        "</a>\n"
      ]
    },
    {
      "attachments": {},
      "cell_type": "markdown",
      "metadata": {},
      "source": [
        "<p>Мы можем убедиться, что это так, используя, как вы уже догадались, <code> type () </code>:\n",
        "\n",
        "При использовании стандартных файлов .py необходимо включать эти функции в функцию print() для вывода\n",
        "\n",
        "<code> print(your_function(arguments)) </code>"
      ]
    },
    {
      "cell_type": "code",
      "execution_count": 18,
      "metadata": {},
      "outputs": [
        {
          "data": {
            "text/plain": [
              "int"
            ]
          },
          "execution_count": 18,
          "metadata": {},
          "output_type": "execute_result"
        }
      ],
      "source": [
        "# вывести на экран тип данных -1\n",
        "type(-1)"
      ]
    },
    {
      "cell_type": "code",
      "execution_count": 19,
      "metadata": {},
      "outputs": [
        {
          "data": {
            "text/plain": [
              "int"
            ]
          },
          "execution_count": 19,
          "metadata": {},
          "output_type": "execute_result"
        }
      ],
      "source": [
        "# Вывести на экран тип данных 4\n",
        "type(4)"
      ]
    },
    {
      "cell_type": "code",
      "execution_count": null,
      "metadata": {},
      "outputs": [],
      "source": [
        "# Print the type of 0\n",
        "type(0)"
      ]
    },
    {
      "attachments": {},
      "cell_type": "markdown",
      "metadata": {},
      "source": [
        "<h3 id=\"float\">Floats. Числа с плавающей запятой</h3> \n"
      ]
    },
    {
      "attachments": {},
      "cell_type": "markdown",
      "metadata": {},
      "source": [
        "<P> Поплавки представляют собой реальные числа (Real numbers);\n",
        "\n",
        "Они представляют собой суперсет целочисленных чисел, но также включают «цифры с десятиками».\n",
        "\n",
        "Есть некоторые ограничения, когда речь идет о машинах, представляющих реальные числа, но в большинстве случаев плавучие номера являются хорошим представлением.\n",
        "\n",
        "Вы можете узнать больше о специфике поплавков для вашей среды выполнения, проверяя значение <code> sys.float_info </code>.\n",
        "\n",
        "До точки идет наименование используемой библиотеки (sys) - ссылка на библиотеку https://docs.python.org/3/library/sys.html\n",
        "\n",
        "Это также скажет вам, какое самое большое и наименьшее число может быть представлено с ними. </P>\n",
        "\n",
        "<p> Еще раз, может проверить некоторые примеры с помощью <code> type () </code> function:\n"
      ]
    },
    {
      "cell_type": "code",
      "execution_count": null,
      "metadata": {},
      "outputs": [],
      "source": [
        "# Print the type of 1.0\n",
        "\n",
        "type(1.0) # 1 это int, но 1.0 это float"
      ]
    },
    {
      "cell_type": "code",
      "execution_count": 27,
      "metadata": {},
      "outputs": [
        {
          "data": {
            "text/plain": [
              "sys.float_info(max=1.7976931348623157e+308, max_exp=1024, max_10_exp=308, min=2.2250738585072014e-308, min_exp=-1021, min_10_exp=-307, dig=15, mant_dig=53, epsilon=2.220446049250313e-16, radix=2, rounds=1)"
            ]
          },
          "execution_count": 27,
          "metadata": {},
          "output_type": "execute_result"
        }
      ],
      "source": [
        "# Для того чтобы посмотреть информацию о любом классе или типе данных сможно воспользоваться библиотекой sys\n",
        "import sys # ждя того чтобы библиотека работала ее нужно импортировать. но об этом позднее\n",
        "type(1)\n",
        "sys.float_info\n",
        "# или print(sys.float_info)"
      ]
    },
    {
      "attachments": {},
      "cell_type": "markdown",
      "metadata": {},
      "source": [
        "<h3 id=\"convert\">Преобразование из одного типа объекта в другой тип объекта</h3>\n"
      ]
    },
    {
      "attachments": {},
      "cell_type": "markdown",
      "metadata": {},
      "source": [
        "<p>Вы можете изменить тип объекта в Python;\n",
        "\n",
        "Это называется ***TypeCasting***. Например, вы можете преобразовать <i> integer </i> в <i> float </i> (например, 2 до 2.0). </P>\n",
        "<p> Попробуем:</p>\n"
      ]
    },
    {
      "cell_type": "code",
      "execution_count": 31,
      "metadata": {},
      "outputs": [
        {
          "data": {
            "text/plain": [
              "int"
            ]
          },
          "execution_count": 31,
          "metadata": {},
          "output_type": "execute_result"
        }
      ],
      "source": [
        "# Запомните , что первоначальный тип аргумента (2) - это integer\n",
        "type(2)\n"
      ]
    },
    {
      "attachments": {},
      "cell_type": "markdown",
      "metadata": {},
      "source": [
        "<h4>Преобразование целых чисел в числа с плавающей запятой (поплавки) </h4>\n",
        "<p> Давайте возьмем целое число 2, и сменим его тип (для повышения точности вычислений): </p>\n"
      ]
    },
    {
      "cell_type": "code",
      "execution_count": 32,
      "metadata": {},
      "outputs": [
        {
          "data": {
            "text/plain": [
              "2.0"
            ]
          },
          "execution_count": 32,
          "metadata": {},
          "output_type": "execute_result"
        }
      ],
      "source": [
        "# Конвертация 2 в тип данных float\n",
        "float(2)\n"
      ]
    },
    {
      "attachments": {},
      "cell_type": "markdown",
      "metadata": {},
      "source": [
        "**Следующую операцию можно выполнять поэтапно. То есть, в ячейке написано слeдующее**:\n",
        "\n",
        "* Преобразовать 2 в число с плавающей запятой -> функция вернет 2.0\n",
        "* Передать 2.0 в качестве аргумента функции type() -> функция вернет тип данных\n",
        "* Для вывода данных в консоль при использовании стандартного файла .py необходимо использовать <code> print(*остальные функции, результат которых необходимо вывести*)<code> \n"
      ]
    },
    {
      "cell_type": "code",
      "execution_count": null,
      "metadata": {},
      "outputs": [],
      "source": [
        "# проверим тип данных возвращаемый конвертицией (передадим функции type() в качестве аргумента, функцию преобразования и ее агрумент)\n",
        "type(float(2))"
      ]
    },
    {
      "attachments": {},
      "cell_type": "markdown",
      "metadata": {},
      "source": [
        "<p> Когда мы конвертируем целое число в поплавок, мы на самом деле не меняем значение (то есть значимость) числа.\n",
        "Однако, если мы переводим поплавок (float) в целое число (int), мы могли бы потерять некоторую информацию.\n",
        "\n",
        "Например, если мы конвертируем Float 1.1 в целое число, мы получим 1 и потеряем десятичную информацию (т.е. 0,1): </p>\n"
      ]
    },
    {
      "cell_type": "code",
      "execution_count": 33,
      "metadata": {},
      "outputs": [
        {
          "data": {
            "text/plain": [
              "1"
            ]
          },
          "execution_count": 33,
          "metadata": {},
          "output_type": "execute_result"
        }
      ],
      "source": [
        "# Проверьте это утверждение (преобразование дробного числа в целое)\n",
        "\n",
        "int(1.1)\n"
      ]
    },
    {
      "attachments": {},
      "cell_type": "markdown",
      "metadata": {},
      "source": [
        "### ***Преобразование из строк в целые числа или поплавки***\n"
      ]
    },
    {
      "attachments": {},
      "cell_type": "markdown",
      "metadata": {},
      "source": [
        "<p>Иногда мы можем иметь строку, которая содержит число в ней.\n",
        "\n",
        "Если это так, мы можем конвертировать эту строку, которая представляет число в целое число, используя <code>int()</code>:</p>\n"
      ]
    },
    {
      "cell_type": "code",
      "execution_count": 34,
      "metadata": {},
      "outputs": [
        {
          "data": {
            "text/plain": [
              "1"
            ]
          },
          "execution_count": 34,
          "metadata": {},
          "output_type": "execute_result"
        }
      ],
      "source": [
        "# Конвертируйте  строку в целое число\n",
        "# Если вы ставите число в кавычки, то это строка\n",
        "\n",
        "int('1')\n"
      ]
    },
    {
      "attachments": {},
      "cell_type": "markdown",
      "metadata": {},
      "source": [
        "<center><h4>ОШИБКА КОНВЕРТИЦИИ</h4></center>\n",
        "\n",
        "<h4>\n",
        "<p>Но, если вы попытаетесь сделать это со строкой, которая не идеально подходит для числа, вы получите ,<code>ошибку</code>\n",
        "\n",
        "Попробуйте следующее:</p><h4>\n"
      ]
    },
    {
      "cell_type": "code",
      "execution_count": 35,
      "metadata": {},
      "outputs": [
        {
          "ename": "ValueError",
          "evalue": "invalid literal for int() with base 10: '1 or 2 people'",
          "output_type": "error",
          "traceback": [
            "\u001b[1;31m---------------------------------------------------------------------------\u001b[0m",
            "\u001b[1;31mValueError\u001b[0m                                Traceback (most recent call last)",
            "\u001b[1;32m~\\AppData\\Local\\Temp/ipykernel_3236/3410397714.py\u001b[0m in \u001b[0;36m<module>\u001b[1;34m\u001b[0m\n\u001b[0;32m      1\u001b[0m \u001b[1;31m# Получите ошибку конвертиции\u001b[0m\u001b[1;33m\u001b[0m\u001b[1;33m\u001b[0m\u001b[0m\n\u001b[1;32m----> 2\u001b[1;33m \u001b[0mint\u001b[0m\u001b[1;33m(\u001b[0m\u001b[1;34m'1 or 2 people'\u001b[0m\u001b[1;33m)\u001b[0m\u001b[1;33m\u001b[0m\u001b[1;33m\u001b[0m\u001b[0m\n\u001b[0m",
            "\u001b[1;31mValueError\u001b[0m: invalid literal for int() with base 10: '1 or 2 people'"
          ]
        }
      ],
      "source": [
        "# Получите ошибку конвертиции\n",
        "int('1 or 2 people')\n",
        "\n",
        "# иногда такие моменты становятся краеугольными, особенно при получении пользовательского ввода, который необходимо интерпретировать как число\n",
        "#Например для последующих математический вычислений\n",
        "\n"
      ]
    },
    {
      "attachments": {},
      "cell_type": "markdown",
      "metadata": {},
      "source": [
        "<p> Вы также можете преобразовать строки, содержащие номера с плавающими запятыми и в объекты <i> float </i>: </p>\n"
      ]
    },
    {
      "cell_type": "code",
      "execution_count": null,
      "metadata": {},
      "outputs": [],
      "source": [
        "# конвертируйте строку \"1.2\" в тиип данных float\n",
        "\n",
        "float('1.2')"
      ]
    },
    {
      "attachments": {},
      "cell_type": "markdown",
      "metadata": {},
      "source": [
        "<hr/>\n",
        "<div class=\"alert alert-success alertsuccess\" style=\"margin-top: 20px\">\n",
        "[Tip:] Обратите внимание, что строки могут быть представлены с помощью отдельных кавычек (<code> '1.2' </code>) или двойными кавычками (<code> \"1.2\" </code>), но вы не можете смешать оба (например,, <code> \"1.2 '</code>).\n",
        "</div>\n",
        "<hr/>\n"
      ]
    },
    {
      "attachments": {},
      "cell_type": "markdown",
      "metadata": {},
      "source": [
        "<h4>Преобразование чисел в строки</h4>\n"
      ]
    },
    {
      "attachments": {},
      "cell_type": "markdown",
      "metadata": {},
      "source": [
        "<p> Если мы можем преобразовать строки в числа, естественно предположить, что мы можем преобразовать числа в строки, верно? </p>\n"
      ]
    },
    {
      "cell_type": "code",
      "execution_count": 36,
      "metadata": {},
      "outputs": [
        {
          "data": {
            "text/plain": [
              "str"
            ]
          },
          "execution_count": 36,
          "metadata": {},
          "output_type": "execute_result"
        }
      ],
      "source": [
        "# Конвертируем и сразу проверим тип возвращаемых данных (как в математике сначала выполняются действия в скобках)\n",
        "# \n",
        "type(str(1))\n"
      ]
    },
    {
      "attachments": {},
      "cell_type": "markdown",
      "metadata": {},
      "source": [
        "<p> И нет никаких причин, по которым мы не должны быть в состоянии делать поплавки в строки: </p>\n"
      ]
    },
    {
      "cell_type": "code",
      "execution_count": 37,
      "metadata": {},
      "outputs": [
        {
          "data": {
            "text/plain": [
              "'1.2'"
            ]
          },
          "execution_count": 37,
          "metadata": {},
          "output_type": "execute_result"
        }
      ],
      "source": [
        "# Кронвертируем float в string\n",
        "\n",
        "str(1.2)"
      ]
    },
    {
      "attachments": {},
      "cell_type": "markdown",
      "metadata": {},
      "source": [
        "<h3 id=\"bool\">Логический тип данных</h3>\n"
      ]
    },
    {
      "attachments": {},
      "cell_type": "markdown",
      "metadata": {},
      "source": [
        "<p><i>Boolean</i> является еще одним важным типом в Python. Объект типа <i> boolean (логический) </i> может принять одно из двух значений: <code>True</code> или <code>False</code>:</p>\n"
      ]
    },
    {
      "cell_type": "code",
      "execution_count": null,
      "metadata": {},
      "outputs": [],
      "source": [
        "# Истинное значение\n",
        "\n",
        "True"
      ]
    },
    {
      "attachments": {},
      "cell_type": "markdown",
      "metadata": {},
      "source": [
        "<p> Обратите внимание, что значение <code> True </code> написано с большой буквы \"T\".То же самое относится и к <code> False </code> (т.е. вы должны использовать верхний кейс \"F\"). </P>\n"
      ]
    },
    {
      "cell_type": "code",
      "execution_count": 38,
      "metadata": {},
      "outputs": [
        {
          "data": {
            "text/plain": [
              "False"
            ]
          },
          "execution_count": 38,
          "metadata": {},
          "output_type": "execute_result"
        }
      ],
      "source": [
        "# Ложное значение\n",
        "False"
      ]
    },
    {
      "attachments": {},
      "cell_type": "markdown",
      "metadata": {},
      "source": [
        "<p> Когда вы попросите Python отобразить тип логического объекта, он покажет <cod> bool </code>, который означает <i> boolean </i>: </p>"
      ]
    },
    {
      "cell_type": "code",
      "execution_count": null,
      "metadata": {},
      "outputs": [],
      "source": [
        "# Тип данных True\n",
        "type(True)\n"
      ]
    },
    {
      "cell_type": "code",
      "execution_count": null,
      "metadata": {},
      "outputs": [],
      "source": [
        "# тип данных False\n",
        "type(False)\n"
      ]
    },
    {
      "attachments": {},
      "cell_type": "markdown",
      "metadata": {},
      "source": [
        "<p> Мы можем конвертировать логические объекты в другие типы данных. Если мы попробуем конвертировать логическое значение со значением <code> True </code> в целое число или поплавок, мы получим 1.\n",
        "\n",
        "Если мы конвертируем логическое значение <code> false </code> на целое число или поплавок, мы получим 0 (ноль).\n",
        "\n",
        "Точно так же, если мы конвертируем 1 (целое число) на логическое, получим <code> True </code>. И если мы конвертируем 0 на bool, мы получим <code> False </code>.\n",
        "\n",
        "Давайте попробуем: </p>\n"
      ]
    },
    {
      "cell_type": "code",
      "execution_count": 40,
      "metadata": {},
      "outputs": [
        {
          "data": {
            "text/plain": [
              "1"
            ]
          },
          "execution_count": 40,
          "metadata": {},
          "output_type": "execute_result"
        }
      ],
      "source": [
        "# конвертируем True в int\n",
        "int(True)\n"
      ]
    },
    {
      "cell_type": "code",
      "execution_count": null,
      "metadata": {},
      "outputs": [],
      "source": [
        "# конвертируем 1 в bool\n",
        "\n",
        "bool(1)"
      ]
    },
    {
      "cell_type": "code",
      "execution_count": null,
      "metadata": {},
      "outputs": [],
      "source": [
        "# конвертируем 0 в bool\n",
        "\n",
        "bool(0)"
      ]
    },
    {
      "cell_type": "code",
      "execution_count": null,
      "metadata": {},
      "outputs": [],
      "source": [
        "# конвертируем True в float\n",
        "\n",
        "float(True)"
      ]
    },
    {
      "attachments": {},
      "cell_type": "markdown",
      "metadata": {},
      "source": [
        "<h3 id=\"exer_type\">Упражнение: Типы данных</h3>\n"
      ]
    },
    {
      "attachments": {},
      "cell_type": "markdown",
      "metadata": {},
      "source": [
        "<p>Каков тип данных выражения: <code>6 / 2</code>?</p>\n"
      ]
    },
    {
      "cell_type": "code",
      "execution_count": null,
      "metadata": {},
      "outputs": [],
      "source": [
        "# Напишите свой код ниже. Не забудьте нажать Shift+Enter, чтобы выполнить ячейку\n"
      ]
    },
    {
      "attachments": {},
      "cell_type": "markdown",
      "metadata": {},
      "source": [
        "<details><summary>Нажмите здесь для решения</summary>\n",
        "\n",
        "```python\n",
        "type(6/2) # float\n",
        "# or\n",
        "print(type(6/2))\n",
        "```\n",
        "\n",
        "</details>\n"
      ]
    },
    {
      "attachments": {},
      "cell_type": "markdown",
      "metadata": {},
      "source": [
        "<p>Каков тип результата: <code> 6 // 2 </code>? (Обратите внимание на двойную черту <code>//</code>)</p>\n"
      ]
    },
    {
      "cell_type": "code",
      "execution_count": null,
      "metadata": {},
      "outputs": [],
      "source": [
        "# Напишите свой код ниже. Не забудьте нажать Shift+Enter, чтобы выполнить ячейку\n"
      ]
    },
    {
      "attachments": {},
      "cell_type": "markdown",
      "metadata": {},
      "source": [
        "<details><summary>Нажмите здесь для решения</summary>\n",
        "\n",
        "```python\n",
        "type(6//2) # int, двойной слэш обозначает целочесленное деление\n",
        "# или для стандартного файла .py\n",
        "print(type(6//2))\n",
        "\n",
        "```\n",
        "\n",
        "</details>\n"
      ]
    },
    {
      "cell_type": "markdown",
      "metadata": {},
      "source": [
        "<hr>\n"
      ]
    },
    {
      "attachments": {},
      "cell_type": "markdown",
      "metadata": {},
      "source": [
        "<center><h2 id=\"expressions\">Выражения и переменные</h2></center>\n"
      ]
    },
    {
      "attachments": {},
      "cell_type": "markdown",
      "metadata": {},
      "source": [
        "<h3 id=\"exp\">Expressions (Выражения) </h3>\n"
      ]
    },
    {
      "attachments": {},
      "cell_type": "markdown",
      "metadata": {},
      "source": [
        "<p>Выражения в Python могут включать операции между совместимыми типами (например, целыми и поплавками).\n",
        "\n",
        "Например, основные арифметические операции, такие как сложение, вычитание нескольких чисел:</p>\n"
      ]
    },
    {
      "cell_type": "code",
      "execution_count": 41,
      "metadata": {},
      "outputs": [
        {
          "data": {
            "text/plain": [
              "160"
            ]
          },
          "execution_count": 41,
          "metadata": {},
          "output_type": "execute_result"
        }
      ],
      "source": [
        "# Простоая операция по сложению чисел \n",
        "\n",
        "43 + 60 + 16 + 41 \n"
      ]
    },
    {
      "attachments": {},
      "cell_type": "markdown",
      "metadata": {},
      "source": [
        "В Python существует несколько вариантов работы с выражениями\n",
        "* через интерпретатор из командной строки: ввести в командную строку ключевое слово python, далее ввести выражение, нажать Enter\n",
        "* через сохраниение результата в переменной, если сохраненный результат нужен для дальнейшей работы: \n",
        "\n",
        "<code>result = 43 + 60 + 16 + 41\n",
        "print(result)</code>\n",
        "\n",
        "* Или через вывод результата выражения без присвоения его переменной: print(43 + 60 + 16 + 41)"
      ]
    },
    {
      "attachments": {},
      "cell_type": "markdown",
      "metadata": {},
      "source": [
        "<p>Мы можем выполнить операции вычитания, используя оператор минус.В этом случае результатом является отрицательное число:</p>\n"
      ]
    },
    {
      "cell_type": "code",
      "execution_count": 42,
      "metadata": {},
      "outputs": [
        {
          "data": {
            "text/plain": [
              "-10"
            ]
          },
          "execution_count": 42,
          "metadata": {},
          "output_type": "execute_result"
        }
      ],
      "source": [
        "#  операция вычитания\n",
        "\n",
        "50 - 60"
      ]
    },
    {
      "attachments": {},
      "cell_type": "markdown",
      "metadata": {},
      "source": [
        "<p>Мы можем сделать умножение, используя звездочку:</p>\n"
      ]
    },
    {
      "cell_type": "code",
      "execution_count": null,
      "metadata": {},
      "outputs": [],
      "source": [
        "# Операция умножения\n",
        "\n",
        "5 * 5"
      ]
    },
    {
      "attachments": {},
      "cell_type": "markdown",
      "metadata": {},
      "source": [
        "<p>Мы также можем выполнить деление с прямой слэш:\n"
      ]
    },
    {
      "cell_type": "code",
      "execution_count": null,
      "metadata": {},
      "outputs": [],
      "source": [
        "# Деление\n",
        "\n",
        "25 / 5"
      ]
    },
    {
      "cell_type": "code",
      "execution_count": null,
      "metadata": {},
      "outputs": [],
      "source": [
        "# Результатом деления двух цедлых чисел будет целое число\n",
        "\n",
        "25 / 6"
      ]
    },
    {
      "attachments": {},
      "cell_type": "markdown",
      "metadata": {},
      "source": [
        "<p>Для явного указания на то, что мы используем целочисленное деление мы можем использовать двойную черту , где результат округлен до ближайшего целого числа:\n"
      ]
    },
    {
      "cell_type": "code",
      "execution_count": null,
      "metadata": {},
      "outputs": [],
      "source": [
        "# Целочисленное деление\n",
        "\n",
        "25 // 5"
      ]
    },
    {
      "cell_type": "code",
      "execution_count": null,
      "metadata": {},
      "outputs": [],
      "source": [
        "# целочисленное деление\n",
        "\n",
        "25 // 6"
      ]
    },
    {
      "attachments": {},
      "cell_type": "markdown",
      "metadata": {},
      "source": [
        "<h3 id=\"exer_exp\">Упражнения: Выражения</h3>\n"
      ]
    },
    {
      "attachments": {},
      "cell_type": "markdown",
      "metadata": {},
      "source": [
        "<p>Давайте напишем выражение, которое вычисляет, сколько часов есть за 160 минут:\n"
      ]
    },
    {
      "cell_type": "code",
      "execution_count": null,
      "metadata": {},
      "outputs": [],
      "source": [
        "# Напишите свой код ниже. Не забудьте нажать Shift+Enter, чтобы выполнить ячейку (или нажмите стрелочку слева от ячейки)\n"
      ]
    },
    {
      "attachments": {},
      "cell_type": "markdown",
      "metadata": {},
      "source": [
        "<details><summary>Нажмите здесь для решения</summary>\n",
        "\n",
        "```python\n",
        "160/60 \n",
        "\n",
        "# или\n",
        "\n",
        "160//60\n",
        "\n",
        "# для .py\n",
        "print(160//60)\n",
        "# или\n",
        "hours = 160//60\n",
        "print(hours)\n",
        "```\n",
        "\n",
        "</details>\n"
      ]
    },
    {
      "attachments": {},
      "cell_type": "markdown",
      "metadata": {},
      "source": [
        "<p>Python следует хорошо принятым математическим соглашениям при оценке математических выражений.В следующем примере Python добавляет 30 к результату умножения (то есть 120).\n"
      ]
    },
    {
      "cell_type": "code",
      "execution_count": 43,
      "metadata": {},
      "outputs": [
        {
          "data": {
            "text/plain": [
              "150"
            ]
          },
          "execution_count": 43,
          "metadata": {},
          "output_type": "execute_result"
        }
      ],
      "source": [
        "# Математическое выражение\n",
        "\n",
        "30 + 2 * 60"
      ]
    },
    {
      "attachments": {},
      "cell_type": "markdown",
      "metadata": {},
      "source": [
        "<p>И так же, как математика, выражения, заключенные в скобки, имеют приоритет.Таким образом, следующие умножения 32 на 60.\n"
      ]
    },
    {
      "cell_type": "code",
      "execution_count": null,
      "metadata": {},
      "outputs": [],
      "source": [
        "# Mathematical expression\n",
        "\n",
        "(30 + 2) * 60"
      ]
    },
    {
      "attachments": {},
      "cell_type": "markdown",
      "metadata": {},
      "source": [
        "<h3 id=\"var\">Variables (Переменные)</h3>\n"
      ]
    },
    {
      "attachments": {},
      "cell_type": "markdown",
      "metadata": {},
      "source": [
        "<p>Как и в случае с большинством языков программирования, мы можем хранить рузельтаты, возвращаемые функциями, математическими и иными выраженими в <i>переменных</i>, \n",
        "для того чтобы в дальнейшем использовать этот результат. \n",
        "\n",
        "Переменная, это именованная ячейка в памяти, в которую сохраняется та или иная информация к которой в последствии мы можем обрадаться по имени (имени переменной)\n",
        "\n",
        "Рекомендуется заводить переменные только в случае. если потом требуется обращаться к этой информации. \n",
        "Имена перемнных должны соответствовать смысловой нагрузке получаемого результата\n",
        "\n",
        "Например: Мы считаем ***количество фруктов*** и помещаем это в переменную, которую называем **fruints_quantity**</p>\n"
      ]
    },
    {
      "cell_type": "code",
      "execution_count": 44,
      "metadata": {},
      "outputs": [],
      "source": [
        "# Хранение результатов в переменной\n",
        "\n",
        "result = 43 + 60 + 16 + 41"
      ]
    },
    {
      "attachments": {},
      "cell_type": "markdown",
      "metadata": {},
      "source": [
        "<p>Чтобы увидеть значение <code> result </code> в ноутбуке, мы можем просто поместить его на последнюю строку ячейки\n",
        "а для .py, как всегда, добавим функцию print():</p>\n"
      ]
    },
    {
      "cell_type": "code",
      "execution_count": 45,
      "metadata": {},
      "outputs": [
        {
          "data": {
            "text/plain": [
              "160"
            ]
          },
          "execution_count": 45,
          "metadata": {},
          "output_type": "execute_result"
        }
      ],
      "source": [
        "# Вывести результат вычисления\n",
        "\n",
        "result"
      ]
    },
    {
      "attachments": {},
      "cell_type": "markdown",
      "metadata": {},
      "source": [
        "<p>Мы также можем выполнять дальнейшие операции c <code>result</code> и сохранить результат в новой переменной:</p>\n"
      ]
    },
    {
      "cell_type": "code",
      "execution_count": 46,
      "metadata": {},
      "outputs": [
        {
          "data": {
            "text/plain": [
              "2.6666666666666665"
            ]
          },
          "execution_count": 46,
          "metadata": {},
          "output_type": "execute_result"
        }
      ],
      "source": [
        "# Используем другую переменную (division) для хранения результата деления переменной result на 60\n",
        "\n",
        "division = result / 60\n",
        "division\n",
        "# если бы мы не использовали переменную resultБ в которой хранится результат выполнения сложения (43 + 60 + 16 + 41)\n",
        "# наше выражение выглядело бы так: division = (43 + 60 + 16 + 41)/60"
      ]
    },
    {
      "attachments": {},
      "cell_type": "markdown",
      "metadata": {},
      "source": [
        "<p>Если мы сохраним значение существующей переменной, новое значение перезаписывает предыдущее значение:</p>\n",
        "\n",
        "Обратите внимание, что знак \"=\" в программировании означает присвоиение, запись в ячейку, ее перезапись, \n",
        "\n",
        "в то время, как равно(эквивалентность) - это знак \"==\" (двойное равно)\n"
      ]
    },
    {
      "cell_type": "code",
      "execution_count": 47,
      "metadata": {},
      "outputs": [
        {
          "data": {
            "text/plain": [
              "2.6666666666666665"
            ]
          },
          "execution_count": 47,
          "metadata": {},
          "output_type": "execute_result"
        }
      ],
      "source": [
        "# Переприсвоение значения переменной result. теперь в этой ячейке записана новыя информация\n",
        "\n",
        "result = result / 60\n",
        "result"
      ]
    },
    {
      "attachments": {},
      "cell_type": "markdown",
      "metadata": {},
      "source": [
        "<p>Это хорошая практика для использования значимых имен переменных, чтобы вы и другие могли прочитать код и понять его легче:</p>\n"
      ]
    },
    {
      "cell_type": "code",
      "execution_count": 48,
      "metadata": {},
      "outputs": [
        {
          "data": {
            "text/plain": [
              "142"
            ]
          },
          "execution_count": 48,
          "metadata": {},
          "output_type": "execute_result"
        }
      ],
      "source": [
        "# Предположим мы посмотрели 3 фильма, нам нужно узнать сколько времени в минутах мы на это потратили\n",
        "\n",
        "total_min = 43 + 42 + 57 # общая продолжительность фильмов в минутах\n",
        "total_min # наименование переменной самодокументируемое - то есть отвечает на вопрос, что мы в ней храним"
      ]
    },
    {
      "cell_type": "code",
      "execution_count": 49,
      "metadata": {},
      "outputs": [
        {
          "data": {
            "text/plain": [
              "2.3666666666666667"
            ]
          },
          "execution_count": 49,
          "metadata": {},
          "output_type": "execute_result"
        }
      ],
      "source": [
        "# Самодокументируемые имена переменных\n",
        "\n",
        "total_hours = total_min / 60 # общая продолжительность фильмов в минутах\n",
        "total_hours"
      ]
    },
    {
      "attachments": {},
      "cell_type": "markdown",
      "metadata": {},
      "source": [
        "<p> В ячейках выше мы добавили продолжительность трех фильмов в минутах и сохранили ее в <code> total_min </code>. Затем мы разделили его на 60, чтобы вычислить общую продолжительность в часах - <code> total_hours </code>.\n",
        "\n",
        "Вы также можете сделать все это сразу в одном выражении, если вы используете скобку, как показано ниже. </P>\n"
      ]
    },
    {
      "cell_type": "code",
      "execution_count": null,
      "metadata": {},
      "outputs": [],
      "source": [
        "# Усложненное выражение\n",
        "\n",
        "total_hours = (43 + 42 + 57) / 60  # Вычисление длительности 3 фильмов в часах\n",
        "total_hours"
      ]
    },
    {
      "attachments": {},
      "cell_type": "markdown",
      "metadata": {},
      "source": [
        "<p>Если вы предпочитаете общее количество часов в качестве целого числа, вы, конечно, можете заменить обычное деление на целочисленное (т.е.., <code>//</code>).</p>\n"
      ]
    },
    {
      "attachments": {},
      "cell_type": "markdown",
      "metadata": {},
      "source": [
        "<h3 id=\"exer_exp_var\">Упражнения: выражение и переменные в Python</h3>\n"
      ]
    },
    {
      "attachments": {},
      "cell_type": "markdown",
      "metadata": {},
      "source": [
        "<p>Какой результат <code>x</code> где <code> x = 3 + 2 * 2</code></p>\n"
      ]
    },
    {
      "cell_type": "code",
      "execution_count": null,
      "metadata": {},
      "outputs": [],
      "source": [
        "# Напишите свой код\n"
      ]
    },
    {
      "attachments": {},
      "cell_type": "markdown",
      "metadata": {},
      "source": [
        "<details><summary>Нажмите здесь для решения </summary>\n",
        "\n",
        "```python\n",
        "7\n",
        "\n",
        "```\n",
        "\n",
        "</details>\n"
      ]
    },
    {
      "attachments": {},
      "cell_type": "markdown",
      "metadata": {},
      "source": [
        "<p>Каково значение <code> y </code> где <code>y = (3 + 2) * 2</code>?</p>\n"
      ]
    },
    {
      "cell_type": "code",
      "execution_count": null,
      "metadata": {},
      "outputs": [],
      "source": [
        "# Напишите свой код\n"
      ]
    },
    {
      "attachments": {},
      "cell_type": "markdown",
      "metadata": {},
      "source": [
        "<details><summary>Нажмите здесь для решения</summary>\n",
        "\n",
        "```python\n",
        "10\n",
        "\n",
        "```\n",
        "\n",
        "</details>\n"
      ]
    },
    {
      "attachments": {},
      "cell_type": "markdown",
      "metadata": {},
      "source": [
        "<p>Каково значение <code> z </code> где <code>z = x + y</code>?</p>\n"
      ]
    },
    {
      "cell_type": "code",
      "execution_count": null,
      "metadata": {},
      "outputs": [],
      "source": [
        "# Напишите совй код\n"
      ]
    },
    {
      "attachments": {},
      "cell_type": "markdown",
      "metadata": {},
      "source": [
        "<details><summary>Нажмите здесь для решения</summary>\n",
        "\n",
        "```python\n",
        "17\n",
        "\n",
        "```\n",
        "\n",
        "</details>\n"
      ]
    },
    {
      "attachments": {},
      "cell_type": "markdown",
      "metadata": {},
      "source": [
        "## Обьявление переменных"
      ]
    },
    {
      "attachments": {},
      "cell_type": "markdown",
      "metadata": {},
      "source": [
        "Для создания переменной в Python нужно присвоить ей значение. При этом, если переменная еще не существует заранее, она будет создана автоматически.\n",
        "\n",
        "Так же в переменной можно хранить пользовательский ввод\n",
        "\n",
        "Повторение: Переменная в Python - это именованное место в памяти, которое хранит значение определенного типа данных. \n",
        "\n",
        "<code>В Python переменные не нуждаются в объявлении типа данных, так как тип данных определяется автоматически во время присваивания значения переменной</code>."
      ]
    },
    {
      "cell_type": "code",
      "execution_count": null,
      "metadata": {},
      "outputs": [],
      "source": [
        "# обьявление переменной для хранения будущего результата какой то операции\n",
        "count = 0 # чаще всего таким образом обьявляются итераторы\n",
        "\n",
        "price = input(\"Введите цену на товар:\") # в переменную соххранится ответ пользователя на просьбу ввести цену\n",
        "discount = 0.2 # фиксированная скидка (20%)\n",
        "# инициализация переменной сразу с выражением\n",
        "total_price = price - discount * price"
      ]
    },
    {
      "cell_type": "code",
      "execution_count": null,
      "metadata": {},
      "outputs": [],
      "source": [
        "x = 5 # переменная хранит число\n",
        "greeting = \"Hello, world!\" # переменная хранит строку"
      ]
    },
    {
      "attachments": {},
      "cell_type": "markdown",
      "metadata": {},
      "source": [
        "<h4> Объявление (инициализация) нескольниких переменных одной строкой</h4>"
      ]
    },
    {
      "cell_type": "code",
      "execution_count": 54,
      "metadata": {},
      "outputs": [
        {
          "name": "stdout",
          "output_type": "stream",
          "text": [
            "10\n",
            "10\n",
            "10\n"
          ]
        }
      ],
      "source": [
        "# Объявление нескольких переменных одного типа, ну и значения\n",
        "x = y = z = 10\n",
        "print(x)\n",
        "print(y)\n",
        "print(z)"
      ]
    },
    {
      "cell_type": "code",
      "execution_count": 57,
      "metadata": {},
      "outputs": [
        {
          "name": "stdout",
          "output_type": "stream",
          "text": [
            "Orange\n",
            "10\n",
            "Cherry\n",
            "Orange 10 Cherry\n"
          ]
        }
      ],
      "source": [
        "# значения присваиваются в том же порядке\n",
        "fruit1, fruit2, fruit3 = \"Orange\", 10, \"Cherry\"\n",
        "print(fruit1)\n",
        "print(fruit2)\n",
        "print(fruit3)\n",
        "\n",
        "# или\n",
        "print(fruit1, fruit2, fruit3)"
      ]
    },
    {
      "attachments": {},
      "cell_type": "markdown",
      "metadata": {},
      "source": [
        "**Упражнение:**\n",
        "Заведите 3 переменных и присвойте им разные значения но в одну строку. выведите на экран"
      ]
    },
    {
      "cell_type": "code",
      "execution_count": null,
      "metadata": {},
      "outputs": [],
      "source": [
        "# Напишите свой код\n",
        "\n"
      ]
    },
    {
      "attachments": {},
      "cell_type": "markdown",
      "metadata": {},
      "source": [
        "## Зона видимости переменных\n",
        "\n",
        "Зона видимости переменных в Python определяет область, в которой переменная может быть использована. В Python есть два типа переменных: локальные и глобальные.\n",
        "\n",
        "То есть, если мы объявляем переменную внутри \"закрытого куска кода\", функция или цикл - она видна только в той области\n",
        "\n",
        "при обьявлении переменной в общем коде - она видна повсеместно."
      ]
    },
    {
      "attachments": {},
      "cell_type": "markdown",
      "metadata": {},
      "source": [
        "Локальные переменные - это переменные, которые определены внутри функции и могут быть использованы только внутри этой функции. Они не могут быть использованы за пределами функции. \n",
        "\n",
        "Пример:"
      ]
    },
    {
      "cell_type": "code",
      "execution_count": null,
      "metadata": {},
      "outputs": [],
      "source": [
        "# закрытый участок кода\n",
        "def my_function():\n",
        "    x = 10\n",
        "    print(x)\n",
        "    \n",
        "# если я захочу работать с переменной х вне функции - это будет иная переменная\n",
        "my_function() # Выведет 10\n",
        "print(x) # Ошибка, так как x не определена вне функции"
      ]
    },
    {
      "attachments": {},
      "cell_type": "markdown",
      "metadata": {},
      "source": [
        "<hr/>\n",
        "<div class=\"alert alert-success alertsuccess\" style=\"margin-top: 20px\">\n",
        "[Tip:] Обратите внимание, что обьявлять все переменные а начале кода не стоит, их необходимо обьявлять только там, \n",
        "\n",
        "где они начинают(<code> 'работать' </code>) это делается для того, чтобы не забыть что за переменная и для чего она служит.\n",
        "</div>\n",
        "<hr/>"
      ]
    },
    {
      "attachments": {},
      "cell_type": "markdown",
      "metadata": {},
      "source": [
        "Глобальные переменные - это переменные, которые определены вне функции и могут быть использованы в любой части программы. \n",
        "\n",
        "Пример:\n",
        "\n"
      ]
    },
    {
      "cell_type": "code",
      "execution_count": null,
      "metadata": {},
      "outputs": [],
      "source": [
        "# переменная обьявлена вне функции. в основном коде и имеет исходное значение 10\n",
        "x = 10\n",
        "\n",
        "# данный кусок кода не делает ничего кроме как распечатывает значение переменной\n",
        "def my_function():\n",
        "    print(x)\n",
        "\n",
        "my_function() # Выведет 10\n",
        "print(x) # Выведет 10"
      ]
    },
    {
      "attachments": {},
      "cell_type": "markdown",
      "metadata": {},
      "source": [
        "Важно помнить, что если вы попытаетесь изменить значение глобальной переменной внутри функции, Python создаст локальную переменную с тем же именем, \n",
        "\n",
        "и изменения будут применяться только к локальной переменной. \n",
        "\n",
        "Если вы хотите изменить глобальную переменную внутри функции, вам нужно использовать ключевое слово `global`. Пример:\n"
      ]
    },
    {
      "cell_type": "code",
      "execution_count": 51,
      "metadata": {},
      "outputs": [
        {
          "name": "stdout",
          "output_type": "stream",
          "text": [
            "20\n"
          ]
        }
      ],
      "source": [
        "# глобальная переменная хранит значение 10\n",
        "x = 10\n",
        "\n",
        "# удалите строку с global и запустите ячейку. Потом верните обратно и посмотрите разницу при выводе\n",
        "def my_function(): \n",
        "    global x\n",
        "    # изменение глобальной переменной\n",
        "    x = 20\n",
        "\n",
        "my_function()\n",
        "print(x) # Выведет 20"
      ]
    },
    {
      "attachments": {},
      "cell_type": "markdown",
      "metadata": {},
      "source": [
        "Константы - это переменные, которые не могут быть изменены в программе. В Python нет специального типа данных для констант, но обычно их имена записываются в верхнем регистре, чтобы отличать их от обычных переменных. \n",
        "\n",
        "Пример:"
      ]
    },
    {
      "cell_type": "code",
      "execution_count": null,
      "metadata": {},
      "outputs": [],
      "source": [
        "# Константа\n",
        "PI = 3.14"
      ]
    },
    {
      "attachments": {},
      "cell_type": "markdown",
      "metadata": {},
      "source": [
        "# Удаление переменных\n",
        "Для удаления переменной в Python нужно использовать оператор `del`.\n",
        "\n",
        "В этом примере переменная `x` сначала присваивается значение 5, затем выводится на экран, \n",
        "\n",
        "затем удаляется оператором `del`, и при попытке вывести ее значение возникает ошибка, так как переменная больше не существует"
      ]
    },
    {
      "cell_type": "code",
      "execution_count": 52,
      "metadata": {},
      "outputs": [
        {
          "name": "stdout",
          "output_type": "stream",
          "text": [
            "5\n"
          ]
        },
        {
          "ename": "NameError",
          "evalue": "name 'x' is not defined",
          "output_type": "error",
          "traceback": [
            "\u001b[1;31m---------------------------------------------------------------------------\u001b[0m",
            "\u001b[1;31mNameError\u001b[0m                                 Traceback (most recent call last)",
            "\u001b[1;32m~\\AppData\\Local\\Temp/ipykernel_3236/922178409.py\u001b[0m in \u001b[0;36m<module>\u001b[1;34m\u001b[0m\n\u001b[0;32m      2\u001b[0m \u001b[0mprint\u001b[0m\u001b[1;33m(\u001b[0m\u001b[0mx\u001b[0m\u001b[1;33m)\u001b[0m \u001b[1;31m# Выводит 5\u001b[0m\u001b[1;33m\u001b[0m\u001b[1;33m\u001b[0m\u001b[0m\n\u001b[0;32m      3\u001b[0m \u001b[1;32mdel\u001b[0m \u001b[0mx\u001b[0m\u001b[1;33m\u001b[0m\u001b[1;33m\u001b[0m\u001b[0m\n\u001b[1;32m----> 4\u001b[1;33m \u001b[0mprint\u001b[0m\u001b[1;33m(\u001b[0m\u001b[0mx\u001b[0m\u001b[1;33m)\u001b[0m \u001b[1;31m# Ошибка: переменная не определена\u001b[0m\u001b[1;33m\u001b[0m\u001b[1;33m\u001b[0m\u001b[0m\n\u001b[0m",
            "\u001b[1;31mNameError\u001b[0m: name 'x' is not defined"
          ]
        }
      ],
      "source": [
        "x = 5\n",
        "print(x) # Выводит 5\n",
        "del x\n",
        "print(x) # Ошибка: переменная не определена\n"
      ]
    },
    {
      "attachments": {},
      "cell_type": "markdown",
      "metadata": {},
      "source": [
        "<hr>\n",
        "\n",
        "<p>Поздравляю, вы прошли свой первый урок и практическую лабораторную работу в Python.\n",
        "<hr>\n"
      ]
    }
  ],
  "metadata": {
    "kernelspec": {
      "display_name": "Python 3",
      "language": "python",
      "name": "python3"
    },
    "language_info": {
      "codemirror_mode": {
        "name": "ipython",
        "version": 3
      },
      "file_extension": ".py",
      "mimetype": "text/x-python",
      "name": "python",
      "nbconvert_exporter": "python",
      "pygments_lexer": "ipython3",
      "version": "3.11.1"
    }
  },
  "nbformat": 4,
  "nbformat_minor": 4
}
