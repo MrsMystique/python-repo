{
 "cells": [
  {
   "attachments": {},
   "cell_type": "markdown",
   "metadata": {},
   "source": [
    "## SET(множества)"
   ]
  },
  {
   "attachments": {},
   "cell_type": "markdown",
   "metadata": {},
   "source": [
    "\n",
    "\n",
    "1. Удаление дубликатов из списка: Если у вас есть список элементов, которые могут содержать дубликаты, вы можете использовать множества, чтобы удалить их. Просто преобразуйте список во множество и затем обратно в список:"
   ]
  },
  {
   "cell_type": "code",
   "execution_count": null,
   "metadata": {},
   "outputs": [],
   "source": [
    "my_list = [1, 2, 2, 3, 4, 4, 5]\n",
    "unique_list = list(set(my_list))\n",
    "print(unique_list) # [1, 2, 3, 4, 5]"
   ]
  },
  {
   "attachments": {},
   "cell_type": "markdown",
   "metadata": {},
   "source": [
    "\n",
    "2. Поиск пересечения между двумя множествами: Если у вас есть два множества элементов, вы можете использовать оператор \"&\" для нахождения их пересечения:"
   ]
  },
  {
   "cell_type": "code",
   "execution_count": null,
   "metadata": {},
   "outputs": [],
   "source": [
    "set1 = {1, 2, 3, 4, 5}\n",
    "set2 = {4, 5, 6, 7, 8}\n",
    "intersection = set1 & set2\n",
    "print(intersection) # {4, 5}"
   ]
  },
  {
   "attachments": {},
   "cell_type": "markdown",
   "metadata": {},
   "source": [
    "Вариант с использованием метода множеств. (intersection() Возвращает множество, являющееся пересечением двух других множеств)"
   ]
  },
  {
   "cell_type": "code",
   "execution_count": null,
   "metadata": {},
   "outputs": [],
   "source": []
  },
  {
   "attachments": {},
   "cell_type": "markdown",
   "metadata": {},
   "source": [
    "3. Поиск разницы между двумя множествами: Если у вас есть два множества элементов, вы можете использовать оператор \"-\" для нахождения разности между ними:\n"
   ]
  },
  {
   "cell_type": "code",
   "execution_count": null,
   "metadata": {},
   "outputs": [],
   "source": [
    "set1 = {1, 2, 3, 4, 5}\n",
    "set2 = {4, 5, 6, 7, 8}\n",
    "difference = set1 - set2\n",
    "print(difference) # {1, 2, 3}"
   ]
  },
  {
   "attachments": {},
   "cell_type": "markdown",
   "metadata": {},
   "source": [
    "4. Проверка на подмножество: Если у вас есть два множества элементов, вы можете использовать метод \"issubset()\", чтобы проверить, является ли одно множество подмножеством другого:"
   ]
  },
  {
   "cell_type": "code",
   "execution_count": null,
   "metadata": {},
   "outputs": [],
   "source": [
    "set1 = {1, 2, 3}\n",
    "set2 = {1, 2, 3, 4, 5}\n",
    "is_subset = set1.issubset(set2)\n",
    "print(is_subset) # True"
   ]
  },
  {
   "attachments": {},
   "cell_type": "markdown",
   "metadata": {},
   "source": [
    "5. Объединение двух множеств: Если у вас есть два множества элементов, вы можете использовать оператор \"|\" для их объединения:"
   ]
  },
  {
   "cell_type": "code",
   "execution_count": null,
   "metadata": {},
   "outputs": [],
   "source": [
    "set1 = {1, 2, 3}\n",
    "set2 = {4, 5, 6}\n",
    "union = set1 | set2\n",
    "print(union) # {1, 2, 3, 4, 5, 6}\n"
   ]
  },
  {
   "attachments": {},
   "cell_type": "markdown",
   "metadata": {},
   "source": [
    "6. Проверка на непересечение: Если у вас есть два множества элементов, вы можете использовать метод \"isdisjoint()\", чтобы проверить, не имеют ли они общих элементов:"
   ]
  },
  {
   "cell_type": "code",
   "execution_count": null,
   "metadata": {},
   "outputs": [],
   "source": [
    "set1 = {1, 2, 3}\n",
    "set2 = {4, 5, 6}\n",
    "is_disjoint = set1.isdisjoint(set2)\n",
    "print(is_disjoint) # True"
   ]
  },
  {
   "attachments": {},
   "cell_type": "markdown",
   "metadata": {},
   "source": [
    "### Функции множеств"
   ]
  },
  {
   "attachments": {},
   "cell_type": "markdown",
   "metadata": {},
   "source": [
    "add() Добавляет элемент в набор\n",
    "\n",
    "clear() Удаляет все элементы из множества\n",
    "\n",
    "copy() Возвращает копию множества\n",
    "\n",
    "difference() Возвращает набор, содержащий разницу между двумя или более наборами\n",
    "\n",
    "difference_update() Удаляет элементы из этого множества, которые также входят в другое, указанное множество\n",
    "\n",
    "discard() Удаляет указанный элемент\n",
    "\n",
    "intersection() Возвращает множество, являющееся пересечением двух других множеств\n",
    "\n",
    "intersection_update() Удаляет элементы из этого множества, которые не присутствуют в других, указанных множествах\n",
    "\n",
    "isdisjoint() Возвращает, имеют ли два множества пересечение или нет\n",
    "\n",
    "issubset() Возвращает, содержит ли другое множество данное множество или нет\n",
    "\n",
    "issuperset() Возвращает, содержит ли данное множество другое множество или нет\n",
    "\n",
    "pop() Удаляет элемент из множества\n",
    "\n",
    "remove() Удаляет указанный элемент\n",
    "\n",
    "symmetric_difference() Возвращает множество с симметричными разностями двух множеств\n",
    "\n",
    "symmetric_difference_update() вставляет симметричные разности из этого и другого множества\n",
    "\n",
    "union() Возвращает множество, содержащее объединение множеств\n",
    "\n",
    "update() Обновление множества объединением этого и других множеств\n",
    "\n"
   ]
  }
 ],
 "metadata": {
  "language_info": {
   "name": "python"
  },
  "orig_nbformat": 4
 },
 "nbformat": 4,
 "nbformat_minor": 2
}
