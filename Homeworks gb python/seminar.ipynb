{
 "cells": [
  {
   "cell_type": "code",
   "execution_count": null,
   "metadata": {},
   "outputs": [],
   "source": [
    "def same_by(func, vals):\n",
    "    return len(set(map(func, vals))) <= 1\n",
    "    \n",
    "\n",
    "values = [0, 2, 10, 6]\n",
    "if same_by(lambda x: x % 2, values):\n",
    "\tprint('same')\n",
    "else:\n",
    "\tprint('different')"
   ]
  },
  {
   "attachments": {},
   "cell_type": "markdown",
   "metadata": {},
   "source": [
    "Дан список чисел. Определите, сколько в нем встречается различных чисел.\n",
    "\n",
    "Input: [1, 1, 2, 0, -1, 3, 4, 4]\n",
    "\n",
    "Output: 6"
   ]
  },
  {
   "cell_type": "code",
   "execution_count": null,
   "metadata": {},
   "outputs": [],
   "source": []
  },
  {
   "attachments": {},
   "cell_type": "markdown",
   "metadata": {},
   "source": [
    "Дана последовательность из N целых чисел и число K. Необходимо сдвинуть всю последовательность (сдвиг - циклический) на K элементов вправо,  K – положительное число.\n",
    "\n",
    "Input:   [1, 2, 3, 4, 5] k = 2\n",
    "\n",
    "Output:  [4, 5, 1, 2, 3]"
   ]
  },
  {
   "cell_type": "code",
   "execution_count": 8,
   "metadata": {},
   "outputs": [
    {
     "name": "stdout",
     "output_type": "stream",
     "text": [
      "[3, 5, 5, 1, 2, 2]\n"
     ]
    }
   ],
   "source": [
    "list = [1,2,2,3,5,5] \n",
    "k = 3\n",
    "for _ in range(k):\n",
    "    element = list.pop(-1)\n",
    "    list.insert(0, element)\n",
    "print(list)"
   ]
  },
  {
   "attachments": {},
   "cell_type": "markdown",
   "metadata": {},
   "source": [
    "Напишите программу для печати всех уникальных значений в словаре. \n",
    "\n",
    "Input:  [{\"V\": \"S001\"}, {\"V\": \"S002\"}, {\"VI\": \"S001\"}, {\"VI\": \"S005\"}, {\"VII\": \" S005 \"}, {\" V \":\" S009 \"}, {\" VIII \":\" S007 \"}] \n",
    "\n",
    "Output: {'S005', 'S002', 'S007', 'S001', 'S009'}"
   ]
  },
  {
   "cell_type": "code",
   "execution_count": null,
   "metadata": {},
   "outputs": [],
   "source": [
    "dict_list = [{\"V\": \"S001\"}, {\"V\": \"S002\"}, {\"VI\": \"S001\"}, \n",
    "{\"VI\": \"S005\"}, {\"VII\": \"S005\"}, {\"V\": \"S009\"}, {\"VIII\": \"S007\"}] \n",
    "\n",
    "result_set = set()\n",
    "for dict_ in dict_list:\n",
    "    for val in dict_.values():\n",
    "        result_set.add(val)\n",
    "\n",
    "print(result_set)"
   ]
  },
  {
   "cell_type": "code",
   "execution_count": null,
   "metadata": {},
   "outputs": [],
   "source": [
    "dict_list = [{\"V\": \"S001\"}, {\"V\": \"S002\"}, {\"VI\": \"S001\"}, \n",
    "{\"VI\": \"S005\"}, {\"VII\": \"S005\"}, {\"V\": \"S009\"}, {\"VIII\": \"S007\"}] \n",
    "result_set = set()\n",
    "for dict_ in dict_list:\n",
    "    val_set = set(dict_.values())\n",
    "    result_set |= val_set\n",
    "\n",
    "print(result_set)"
   ]
  },
  {
   "cell_type": "code",
   "execution_count": null,
   "metadata": {},
   "outputs": [],
   "source": [
    "start_list = [0, -1, 5, 2, 3]\n",
    "\n",
    "count = 0\n",
    "for i in range(1, len(start_list)):\n",
    "    if start_list[i] > start_list[i - 1]:\n",
    "        count += 1\n",
    "\n",
    "print(count)"
   ]
  },
  {
   "attachments": {},
   "cell_type": "markdown",
   "metadata": {},
   "source": [
    "Напишите программу, которая принимает на вход строку, и отслеживает, сколько раз каждый символ уже встречался. Количество повторов добавляется к символам с помощью постфикса формата _n.\n",
    "\n",
    "Input: a a a b c a a d c d d\n",
    "Output: a a_1 a_2 b c a_3 a_4 d c_1 d_1 d_2\n",
    "\n",
    "Для решения данной задачи используйте функцию .split()"
   ]
  },
  {
   "cell_type": "code",
   "execution_count": null,
   "metadata": {},
   "outputs": [],
   "source": [
    "start_str = 'a a a b c a a d c d d'\n",
    "print(start_str)\n",
    "start_str = start_str.split()\n",
    "\n",
    "counts = {}\n",
    "\n",
    "for char in start_str:\n",
    "    if char in counts:\n",
    "        counts[char] += 1\n",
    "        print(f'{char}_{counts[char]}', end=' ')\n",
    "    else:\n",
    "        counts[char] = 0\n",
    "        print(char, end=' ')"
   ]
  },
  {
   "cell_type": "code",
   "execution_count": null,
   "metadata": {},
   "outputs": [],
   "source": [
    "start_str = start_str.lower()\n",
    "print(start_str)\n",
    "start_str = start_str.split()\n",
    "print(start_str)\n",
    "print(set(start_str))\n",
    "print(len(set(start_str)))"
   ]
  },
  {
   "cell_type": "code",
   "execution_count": null,
   "metadata": {},
   "outputs": [],
   "source": [
    "my_tuple = tuple([1, 1, 3, 4, 5])\n",
    "my_lst = [1, 1, 3, 4, 5]\n",
    "print(my_tuple.__sizeof__())\n",
    "print(my_lst.__sizeof__())\n",
    "\n",
    "\n",
    "my_dict = {\n",
    "    (1, 2, 3): 'val'\n",
    "}\n",
    "\n",
    "print(my_dict[(1, 2, 3)])"
   ]
  },
  {
   "attachments": {},
   "cell_type": "markdown",
   "metadata": {},
   "source": [
    "Даны два массива чисел. Требуется вывести те элементы первого массива \n",
    "(в том порядке, в каком они идут в первом массиве), которых нет во втором массиве. \n",
    "Пользователь вводит  число N - количество элементов в первом массиве, затем N чисел - элементы массива. Затем число M - количество элементов во втором массиве. Затем элементы второго массива\n",
    "Ввод: \t\t\t\t\tВывод:\n",
    "7\t\t\t\t\t3 3 2 12\n",
    "3 1 3 4 2 4 12\n",
    "6\n",
    "4 15 43 1 15 1"
   ]
  },
  {
   "cell_type": "code",
   "execution_count": null,
   "metadata": {},
   "outputs": [],
   "source": [
    "n = int(input('Введите количесвто элементов первого множества: '))\n",
    "m = int(input('Введите количесвто элементов второго множества: '))\n",
    "n_list = []\n",
    "m_list = []\n",
    "x_list = []\n",
    "\n",
    "for i in range(n):\n",
    "        n_count = int(input(f'Введите натуральные числа входящие в первое множество: '))\n",
    "        n_list.append(n_count)\n",
    "for i in range(m):\n",
    "        m_count = int(input(f'Введите натуральные числа входящие во второе множество: '))\n",
    "        m_list.append(m_count)\n",
    "print(n_list)     \n",
    "print(m_list)\n",
    "print(\"==============================\")\n",
    "\n",
    "for i  in n_list:\n",
    "        if i not in m_list:\n",
    "                x_list.append(i)\n",
    "print(x_list)"
   ]
  },
  {
   "attachments": {},
   "cell_type": "markdown",
   "metadata": {},
   "source": [
    "Дан массив, состоящий из целых чисел. Напишите программу, которая в данном массиве определит количество элементов, \n",
    "у которых два соседних и, при этом, оба соседних элемента меньше данного. Сначала вводится число N — количество элементов в массиве  \n",
    "Далее записаны N чисел — элементы массива. Массив состоит из целых чисел."
   ]
  },
  {
   "cell_type": "code",
   "execution_count": 3,
   "metadata": {},
   "outputs": [
    {
     "name": "stdout",
     "output_type": "stream",
     "text": [
      "[1, 2, 3, 4, 6]\n",
      "0\n"
     ]
    }
   ],
   "source": [
    "mylist = []\n",
    "n = int(input(\"enter n \"))\n",
    "count = 0\n",
    "\n",
    "for _ in range(n):\n",
    "    mylist.append(int(input(\"enter: \")))\n",
    "print(mylist)\n",
    "for i in range(1, n-1):\n",
    "   if  mylist[i] > mylist[i-1] and mylist[i] > mylist[i+1]:\n",
    "       count = count + 1\n",
    "print(count)\n",
    "    "
   ]
  },
  {
   "cell_type": "code",
   "execution_count": 15,
   "metadata": {},
   "outputs": [
    {
     "name": "stdout",
     "output_type": "stream",
     "text": [
      "[1, 2, 3, 1, 4]\n",
      "1\n"
     ]
    }
   ],
   "source": [
    "mylist = []\n",
    "n = int(input(\"enter n \"))\n",
    "count = 0\n",
    "for _ in range(n):\n",
    "    mylist.append(int(input(\"enter: \")))\n",
    "print(mylist)\n",
    "\n",
    "#++++++++++++++++++++++++++++++++++++++++++++++\n",
    "for i in range(len(mylist)):\n",
    "    for j in range(i + 1, len(mylist)):\n",
    "        if  mylist[i] == mylist[j]:\n",
    "            count = count + 1\n",
    "print(count)\n",
    "#1 2 3 2 3"
   ]
  },
  {
   "cell_type": "code",
   "execution_count": 17,
   "metadata": {},
   "outputs": [
    {
     "name": "stdout",
     "output_type": "stream",
     "text": [
      "220 284\n"
     ]
    }
   ],
   "source": [
    "def divisors_sum(n):\n",
    "    sum_divisors = 0\n",
    "    for i in range(1, int(n/2) + 1):\n",
    "        if n % i == 0:\n",
    "            sum_divisors += i\n",
    "    return sum_divisors\n",
    "\n",
    "\n",
    "k = 300\n",
    "for n in range(1, k+1):\n",
    "        m = divisors_sum(n)\n",
    "        if m > n and divisors_sum(m) == n:\n",
    "            print(n, m)\n",
    "            \n",
    "\n",
    "        "
   ]
  },
  {
   "cell_type": "code",
   "execution_count": null,
   "metadata": {},
   "outputs": [],
   "source": [
    "import math\n",
    "\n",
    "def find_farthest_orbit(list_of_orbits):\n",
    "    # Отфильтруем круговые орбиты и орбиты с неправильным форматом\n",
    "    filtered_orbits = [orbit for orbit in list_of_orbits if orbit[0] != orbit[1]]\n",
    "    # Вычислим площади всех орбит\n",
    "    areas = [math.pi * orbit[0] * orbit[1] for orbit in filtered_orbits]\n",
    "    # Найдем индекс орбиты с максимальной площадью\n",
    "    max_area_index = areas.index(max(areas))\n",
    "    # Вернем полуоси орбиты с максимальной площадью\n",
    "    farthest_orbit = filtered_orbits[max_area_index]\n",
    "    return farthest_orbit\n",
    "\n",
    "list_of_orbits = [(2, 3), (4, 6), (3, 5), (5, 8), (7, 2)]\n",
    "farthest_orbit = find_farthest_orbit(list_of_orbits)\n",
    "print(farthest_orbit)"
   ]
  },
  {
   "cell_type": "code",
   "execution_count": null,
   "metadata": {},
   "outputs": [],
   "source": [
    "squares_dict = {value: value ** 2 for value in range(1, 11)}\n",
    "print(squares_dict)"
   ]
  }
 ],
 "metadata": {
  "kernelspec": {
   "display_name": "Python 3",
   "language": "python",
   "name": "python3"
  },
  "language_info": {
   "codemirror_mode": {
    "name": "ipython",
    "version": 3
   },
   "file_extension": ".py",
   "mimetype": "text/x-python",
   "name": "python",
   "nbconvert_exporter": "python",
   "pygments_lexer": "ipython3",
   "version": "3.11.1"
  },
  "orig_nbformat": 4
 },
 "nbformat": 4,
 "nbformat_minor": 2
}
