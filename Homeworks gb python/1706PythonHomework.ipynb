{
 "cells": [
  {
   "attachments": {},
   "cell_type": "markdown",
   "metadata": {},
   "source": [
    "## Задача 1\n",
    "- На складе лежат разные фрукты в разном количестве.\n",
    "- Нужно написать функцию, которая на вход принимает **любое количество** названий фруктов и их количество, а возвращает **общее количество** фруктов на складе"
   ]
  },
  {
   "attachments": {},
   "cell_type": "markdown",
   "metadata": {},
   "source": [
    "<h3>Вариант 1</h3>"
   ]
  },
  {
   "cell_type": "code",
   "execution_count": 19,
   "metadata": {},
   "outputs": [],
   "source": [
    "# Функция принимает список фруктов\n",
    "def count_fruits1(fruits):\n",
    "    # возвращает количество элементов в списке\n",
    "    return len(fruits)"
   ]
  },
  {
   "attachments": {},
   "cell_type": "markdown",
   "metadata": {},
   "source": [
    "**Пример использования**"
   ]
  },
  {
   "cell_type": "code",
   "execution_count": 20,
   "metadata": {},
   "outputs": [
    {
     "data": {
      "text/plain": [
       "3"
      ]
     },
     "execution_count": 20,
     "metadata": {},
     "output_type": "execute_result"
    }
   ],
   "source": [
    "count_fruits1([\"apple\", \"banana\", \"cherry\"])"
   ]
  },
  {
   "attachments": {},
   "cell_type": "markdown",
   "metadata": {},
   "source": [
    "<h3>Вариант 2</h3>"
   ]
  },
  {
   "cell_type": "code",
   "execution_count": 21,
   "metadata": {},
   "outputs": [],
   "source": [
    "# Функция принимает произвольное количество словарей фруктов, где ключ - фрукт, а value - количество конкретного фрукта на складе\n",
    "def count_fruits(*args):\n",
    "    # возвращает сумму значений всех value во всех словарях\n",
    "    count = 0\n",
    "    for fruit_dict in args:\n",
    "        count += sum(fruit_dict.values())\n",
    "    return count"
   ]
  },
  {
   "attachments": {},
   "cell_type": "markdown",
   "metadata": {},
   "source": [
    "**Пример использования**"
   ]
  },
  {
   "cell_type": "code",
   "execution_count": 23,
   "metadata": {},
   "outputs": [
    {
     "name": "stdout",
     "output_type": "stream",
     "text": [
      "На складе 15\n"
     ]
    }
   ],
   "source": [
    "fruit_dict1 = {'яблоко': 3, 'апельсин': 5, 'банан': 2}\n",
    "fruit_dict2 = {'груша': 4, 'слива': 1}\n",
    "print(f'На складе {count_fruits(fruit_dict1, fruit_dict2)} фруктов') "
   ]
  },
  {
   "attachments": {},
   "cell_type": "markdown",
   "metadata": {},
   "source": [
    "<h3>Вариант 3</h3>"
   ]
  },
  {
   "cell_type": "code",
   "execution_count": 17,
   "metadata": {},
   "outputs": [],
   "source": [
    "# Функция принимает произвольное количество с фруктов и их количества в виде переменных со значением их количества\n",
    "def count_all_fruits(*args):\n",
    "    # возвращает сумму значений всех аргументов\n",
    "    count = sum(args)\n",
    "    \n",
    "    return count"
   ]
  },
  {
   "attachments": {},
   "cell_type": "markdown",
   "metadata": {},
   "source": [
    "**Пример использования**"
   ]
  },
  {
   "cell_type": "code",
   "execution_count": 25,
   "metadata": {},
   "outputs": [
    {
     "name": "stdout",
     "output_type": "stream",
     "text": [
      "На складе 10 фруктов\n"
     ]
    }
   ],
   "source": [
    "apple = 3\n",
    "orange = 5\n",
    "banana = 2\n",
    "print(f'На складе {count_all_fruits(apple, orange, banana)} фруктов')"
   ]
  },
  {
   "attachments": {},
   "cell_type": "markdown",
   "metadata": {},
   "source": [
    "## Задача 2\n",
    "Дан список с затратами на рекламу. Но в данных есть ошибки, некоторые затраты имеют отрицательную величину. \n",
    "\n",
    "Удалите такие значения из списка и посчитайте суммарные затраты\n",
    "\n",
    "<code>data:\n",
    "\n",
    "[100, 125, -90, 345, 655, -1, 0, 200]</code>\n",
    "\n",
    "**(Используйте list comprehensions)**"
   ]
  },
  {
   "attachments": {},
   "cell_type": "markdown",
   "metadata": {},
   "source": [
    "с помощью выражения \n",
    "\n",
    "<code>cost for cost in costs if cost >= 0</code>, \n",
    "\n",
    "которое проходит по каждому элементу списка costs и добавляет его в новый список, только если он больше или равен нулю."
   ]
  },
  {
   "cell_type": "code",
   "execution_count": 30,
   "metadata": {},
   "outputs": [
    {
     "name": "stdout",
     "output_type": "stream",
     "text": [
      "Полученный список положительных значений [100, 125, 345, 655, 0, 200]\n",
      "Сумма значений полученного списка 1425\n"
     ]
    }
   ],
   "source": [
    "# Дано - список затрат с отрицательными значениями\n",
    "costs = [100, 125, -90, 345, 655, -1, 0, 200]\n",
    "# используется генератор списков, чтобы создать новый список, содержащий только положительные значения из списка costs\n",
    "costs = [cost for cost in costs if cost >= 0]\n",
    "print(\"Полученный список положительных значений\", costs)\n",
    "# Полученный список  передается функции sum(), которая суммирует все элементы списка и возвращает их сумму\n",
    "total_costs = sum(costs)\n",
    "print(\"Сумма значений полученного списка\", total_costs)"
   ]
  },
  {
   "attachments": {},
   "cell_type": "markdown",
   "metadata": {},
   "source": [
    "## Задача 3\n",
    "\n",
    "**Даны два списка:**\n",
    "\n",
    "- Дата покупки\n",
    "- Суммы\n",
    "\n",
    "#### Найдите, какая выручка у компании в ноябре"
   ]
  },
  {
   "cell_type": "code",
   "execution_count": 34,
   "metadata": {},
   "outputs": [],
   "source": [
    "dates = ['2021-09-14', '2021-12-15', '2021-09-08', '2021-12-05', '2021-10-09', '2021-09-30', '2021-12-22', '2021-11-29', '2021-12-24', '2021-11-26', '2021-10-27', \n",
    "         '2021-12-18', '2021-11-09', '2021-11-23', '2021-09-27', '2021-10-02', '2021-12-27', '2021-09-20', '2021-12-13', '2021-11-01', '2021-11-09', '2021-12-06', \n",
    "         '2021-12-08', '2021-10-09', '2021-10-31', '2021-09-30', '2021-11-09', '2021-12-13', '2021-10-26', '2021-12-09']\n",
    "sales = [1270, 8413, 9028, 3703, 5739, 4095, 295, 4944, 5723, 3701, 4471, 651, 7037, 4274, 6275, 4988, 6930, 2971, 6592, 2004, 2822, 519, 3406, 2732, 5015, 2008, 316, 6333, 5700, 2887]"
   ]
  },
  {
   "attachments": {},
   "cell_type": "markdown",
   "metadata": {},
   "source": [
    "- Итерируем по списку продаж и использум функцию enumerate() для получения индекса и значения каждого элемента (так как каждой дате соответствует тот же порядковый номер продажи). \n",
    "\n",
    "- Затем проверяется, начинается ли соответствующая дата в списке дат со строки '2021-11'. \n",
    "\n",
    "- Если да, то соответствующее значение продажи включается в список, который передается функции sum()."
   ]
  },
  {
   "cell_type": "code",
   "execution_count": 32,
   "metadata": {},
   "outputs": [
    {
     "name": "stdout",
     "output_type": "stream",
     "text": [
      "25098\n"
     ]
    }
   ],
   "source": [
    "#Используем startwith, так как само число нам не важно\n",
    "november_sales = sum([sale for i, sale in enumerate(sales) if dates[i].startswith('2021-11')])\n",
    "print(november_sales)"
   ]
  },
  {
   "attachments": {},
   "cell_type": "markdown",
   "metadata": {},
   "source": [
    "## Задача 4\n",
    "\n",
    "#### Найдите выручку компании в зависимости от месяца\n",
    "- напишите функцию, которая на вход принимает **список с датами** и список с выручкой, а на выходе словарь, где ключи - это месяцы, а значения - это выручка.\n",
    "- Используйте аннотирование типов."
   ]
  },
  {
   "cell_type": "code",
   "execution_count": 43,
   "metadata": {},
   "outputs": [],
   "source": [
    "# аннотация в целом ни на что не влияет, поэтому можно просто сделать пояснение типов\n",
    "# принимает два аргумента: dates, который представляет собой список строк, представляющих даты в формате 'YYYY-MM-DD', \n",
    "# и sales, который представляет собой список целых чисел, представляющих суммы продаж. \n",
    "def sales_by_month(dates: list[str], sales: list[int]) -> dict[str, int]: \n",
    "    # создадим пустой словарь\n",
    "    sales_by_month = {}\n",
    "    # итерируем по списку дат, и индексов\n",
    "    for i, date in enumerate(dates):\n",
    "        # извлекает месяц из текущей строки даты, разделяя ее на символ '-' и беря второй элемент полученного списка (который соответствует месяцу)\n",
    "        month = date.split('-')[1]\n",
    "        # проверяет, является ли текущий месяц уже ключом в словаре sales_by_month. Если нет, то в словарь добавляется новая \n",
    "        # пара ключ-значение с месяцем в качестве ключа и соответствующей суммой продаж в качестве значения.\n",
    "        if month not in sales_by_month:\n",
    "            sales_by_month[month] = sales[i]\n",
    "        # Если месяц уже является ключом в словаре, сумма продаж добавляется к существующему значению.\n",
    "        else:\n",
    "            sales_by_month[month] += sales[i]\n",
    "    return sales_by_month"
   ]
  },
  {
   "cell_type": "code",
   "execution_count": 42,
   "metadata": {},
   "outputs": [
    {
     "name": "stdout",
     "output_type": "stream",
     "text": [
      "{'09': 25647, '12': 45452, '10': 28645, '11': 25098}\n"
     ]
    }
   ],
   "source": [
    "sales_by_month = sales_by_month(dates, sales)\n",
    "print(sales_by_month)"
   ]
  }
 ],
 "metadata": {
  "kernelspec": {
   "display_name": "Python 3",
   "language": "python",
   "name": "python3"
  },
  "language_info": {
   "codemirror_mode": {
    "name": "ipython",
    "version": 3
   },
   "file_extension": ".py",
   "mimetype": "text/x-python",
   "name": "python",
   "nbconvert_exporter": "python",
   "pygments_lexer": "ipython3",
   "version": "3.11.1"
  },
  "orig_nbformat": 4
 },
 "nbformat": 4,
 "nbformat_minor": 2
}
